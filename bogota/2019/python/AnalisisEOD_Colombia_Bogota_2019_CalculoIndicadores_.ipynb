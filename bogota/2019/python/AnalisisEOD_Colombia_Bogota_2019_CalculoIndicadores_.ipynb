{
 "cells": [
  {
   "cell_type": "markdown",
   "id": "b1e40f3d",
   "metadata": {
    "id": "b1e40f3d"
   },
   "source": [
    "# Análisis Encuesta Origen-Destino -  Limpieza de Datos & Cálculo de Indicadores"
   ]
  },
  {
   "cell_type": "markdown",
   "id": "56e7413d",
   "metadata": {
    "id": "56e7413d"
   },
   "source": [
    "## Colombia - Bogotá - 2019"
   ]
  },
  {
   "cell_type": "markdown",
   "id": "4221de58",
   "metadata": {
    "id": "4221de58"
   },
   "source": [
    "#### Elaborado por Paula Vásquez-Henríquez, Ariel López, Genaro Cuadros, Exequiel Gaete, Alba Vásquez y Juan Correa"
   ]
  },
  {
   "cell_type": "markdown",
   "id": "cdedd4de",
   "metadata": {},
   "source": [
    "## Google colab"
   ]
  },
  {
   "cell_type": "markdown",
   "id": "09a717fa",
   "metadata": {},
   "source": [
    "Para ejecutar este notebook en Colab, primero descomenten y ejecuten las siguientes 3 celdas. Luego de ejecutar la notebook se reiniciará."
   ]
  },
  {
   "cell_type": "code",
   "execution_count": null,
   "id": "83d8f21f",
   "metadata": {},
   "outputs": [],
   "source": [
    "'''\n",
    "!pip3 uninstall matplotlib -y\n",
    "!pip install -q condacolab\n",
    "import condacolab\n",
    "condacolab.install()\n",
    "'''"
   ]
  },
  {
   "cell_type": "code",
   "execution_count": null,
   "id": "2ddc4b80",
   "metadata": {},
   "outputs": [],
   "source": [
    "'''\n",
    "!git clone https://github.com/zorzalerrante/aves.git aves_git\n",
    "!mamba env update --name base --file aves_git/environment-colab.yml\n",
    "'''"
   ]
  },
  {
   "cell_type": "code",
   "execution_count": null,
   "id": "78b9109f",
   "metadata": {
    "colab": {
     "base_uri": "https://localhost:8080/"
    },
    "executionInfo": {
     "elapsed": 23074,
     "status": "ok",
     "timestamp": 1635994904494,
     "user": {
      "displayName": "Paula Vásquez H.",
      "photoUrl": "https://lh3.googleusercontent.com/a-/AOh14GgJUNawPfe0J41agMsUCwKAOgAzWX7zUOLCtayLFg=s64",
      "userId": "02019115936957150360"
     },
     "user_tz": 180
    },
    "id": "u7WkwIpDNvaW",
    "outputId": "d110333c-af65-47c3-cf76-ed7b93a9c43a"
   },
   "outputs": [],
   "source": [
    "'''\n",
    "# Montando datos desde Google Drive\n",
    "from google.colab import drive\n",
    "drive.mount('/content/drive')\n",
    "'''"
   ]
  },
  {
   "cell_type": "markdown",
   "id": "13039468",
   "metadata": {},
   "source": [
    "## Instalando e importando librerías"
   ]
  },
  {
   "cell_type": "code",
   "execution_count": null,
   "id": "24159ec6",
   "metadata": {},
   "outputs": [],
   "source": [
    "# Estas librerías se deben instalar sólo si se está ejecutando localmente\n",
    "!pip3 install matplotlib\n",
    "!pip3 install seaborn\n",
    "!pip3 install sklearn"
   ]
  },
  {
   "cell_type": "code",
   "execution_count": null,
   "id": "7a963ab7",
   "metadata": {
    "colab": {
     "base_uri": "https://localhost:8080/"
    },
    "executionInfo": {
     "elapsed": 8751,
     "status": "ok",
     "timestamp": 1635994873745,
     "user": {
      "displayName": "Paula Vásquez H.",
      "photoUrl": "https://lh3.googleusercontent.com/a-/AOh14GgJUNawPfe0J41agMsUCwKAOgAzWX7zUOLCtayLFg=s64",
      "userId": "02019115936957150360"
     },
     "user_tz": 180
    },
    "id": "M9aoyAtnNW37",
    "outputId": "b58d8e02-60be-4c46-8fd0-3fc6ca0aa50b"
   },
   "outputs": [],
   "source": [
    "#Estas librerías se deben instalar tanto corriendolo localmente como en Google Colab\n",
    "!pip3 install geopandas\n",
    "!pip3 install haversine\n",
    "!pip3 install pandasql\n",
    "!pip3 install openpyxl"
   ]
  },
  {
   "cell_type": "code",
   "execution_count": null,
   "id": "78f60347",
   "metadata": {
    "id": "78f60347"
   },
   "outputs": [],
   "source": [
    "import pandas as pd\n",
    "import matplotlib.pyplot as plt\n",
    "import seaborn as sns\n",
    "import numpy as np\n",
    "import geopandas as gpd\n",
    "import warnings\n",
    "import haversine as hs\n",
    "import shapely\n",
    "from sklearn.preprocessing import normalize\n",
    "import datetime"
   ]
  },
  {
   "cell_type": "code",
   "execution_count": null,
   "id": "0510fbb1",
   "metadata": {
    "id": "0510fbb1"
   },
   "outputs": [],
   "source": [
    "def convert_datatype(df, lista_columnas):\n",
    "    for column in lista_columnas:\n",
    "        df[column] = df[column].str.replace(\",\", \".\").astype(float)\n",
    "    return df"
   ]
  },
  {
   "cell_type": "code",
   "execution_count": null,
   "id": "01b72213",
   "metadata": {
    "id": "01b72213"
   },
   "outputs": [],
   "source": [
    "def decode_column(df, fname, col_name, index_col='id', value_col=None, sep=';', encoding='utf-8'):\n",
    "    '''\n",
    "    param :df: DataFrame del que leeremos una columna.\n",
    "    param :fname: nombre del archivo que contiene los valores a decodificar.\n",
    "    param :col_name: nombre de la columna que queremos decodificar.\n",
    "    param :index_col: nombre de la columna en el archivo @fname que tiene los índices que codifican @col_name\n",
    "    param :value_col: nombre de la columna en el archivo @fname que tiene los valores decodificados\n",
    "    param :sep: carácter que separa los valores en @fname. \n",
    "    param :encoding: identificación del _character set_ que utiliza el archivo. Usualmente es utf-8, si no funciona,\n",
    "                     se puede probar con iso-8859-1.\n",
    "    '''\n",
    "    if value_col is None:\n",
    "        value_col = 'value'\n",
    "        \n",
    "    values_df = pd.read_csv(fname, sep=sep, index_col=index_col, names=[index_col, value_col], header=0,\n",
    "                            dtype={index_col: np.float64}, encoding=encoding)\n",
    "    \n",
    "    src_df = df.loc[:,(col_name,)]\n",
    "    \n",
    "    return src_df.join(values_df, on=col_name)[value_col]"
   ]
  },
  {
   "cell_type": "code",
   "execution_count": null,
   "id": "0018ee50",
   "metadata": {
    "id": "0018ee50"
   },
   "outputs": [],
   "source": [
    "def imputar_coordenadas_centroide_zat(df, latitud, longitud, zat, zona_shp):\n",
    "    columns = df.columns\n",
    "    df['mask'] = df[latitud].isnull() | df[longitud].isnull()\n",
    "    working_df = pd.merge(df, city_shp[[zona_shp, 'x_coord', 'y_coord']], left_on=zat, right_on=zona_shp, how='left')\n",
    "    working_df[latitud] = np.where(working_df['mask']==True, working_df['y_coord'], working_df[latitud])\n",
    "    working_df[longitud] = np.where(working_df['mask']==True, working_df['x_coord'], working_df[longitud])\n",
    "    \n",
    "    return working_df[columns]"
   ]
  },
  {
   "cell_type": "code",
   "execution_count": null,
   "id": "41f2386e",
   "metadata": {
    "id": "41f2386e"
   },
   "outputs": [],
   "source": [
    "def mapear_binarias(row, column):\n",
    "    if row[column] == 'N':\n",
    "        return 'No'\n",
    "    elif row[column] == 'S':\n",
    "        return 'Si'\n",
    "    else:\n",
    "        return 'Sin dato'"
   ]
  },
  {
   "cell_type": "code",
   "execution_count": null,
   "id": "zxPXgrpUayAE",
   "metadata": {
    "id": "zxPXgrpUayAE"
   },
   "outputs": [],
   "source": [
    "def haversine(coord1, coord2):\n",
    "    R = 6372800  # Earth radius in meters\n",
    "    lat1, lon1 = coord1\n",
    "    lat2, lon2 = coord2\n",
    "    \n",
    "    phi1, phi2 = math.radians(lat1), math.radians(lat2) \n",
    "    dphi       = math.radians(lat2 - lat1)\n",
    "    dlambda    = math.radians(lon2 - lon1)\n",
    "    \n",
    "    a = math.sin(dphi/2)**2 + \\\n",
    "        math.cos(phi1)*math.cos(phi2)*math.sin(dlambda/2)**2\n",
    "    \n",
    "    return 2*R*math.atan2(math.sqrt(a), math.sqrt(1 - a))"
   ]
  },
  {
   "cell_type": "code",
   "execution_count": null,
   "id": "f7c148fb",
   "metadata": {
    "id": "f7c148fb"
   },
   "outputs": [],
   "source": [
    "def mapear_vacios(row, column):\n",
    "    if pd.isna(row[column])==True:\n",
    "        return 'Sin informacion'\n",
    "    else:\n",
    "        return row[column]"
   ]
  },
  {
   "cell_type": "code",
   "execution_count": null,
   "id": "C2I5T-0SnEXC",
   "metadata": {
    "id": "C2I5T-0SnEXC"
   },
   "outputs": [],
   "source": [
    "def age_cohorts(row, age_column):\n",
    "    if row[age_column] < 18:\n",
    "        return '<18'\n",
    "    elif row[age_column] <=29 and row[age_column] > 18:\n",
    "        return '18-29'\n",
    "    elif row[age_column] <=60 and row[age_column] > 29:\n",
    "        return '30-60'\n",
    "    elif row[age_column] > 60 and row[age_column] < 100:\n",
    "        return '>60'\n",
    "    else:\n",
    "        return 'No declarado'"
   ]
  },
  {
   "cell_type": "markdown",
   "id": "iRPSv0fesZHX",
   "metadata": {
    "id": "iRPSv0fesZHX"
   },
   "source": [
    "### Caracterización de los datos\n",
    "\n",
    "Los datos utilizados en este cuaderno corresponden a los resultados de la Encuesta Origen-Destino de Bogotá, Colombia del 2019. \n",
    "A partir de estos datos se calcularan indicadores en tres niveles: de Cantidad de Viajes, de Tiempo de Viajes, y de Distancia de Viajes."
   ]
  },
  {
   "cell_type": "markdown",
   "id": "db8caef6",
   "metadata": {
    "id": "db8caef6"
   },
   "source": [
    "### Importando datos"
   ]
  },
  {
   "cell_type": "markdown",
   "id": "CdtA3y43Oy5b",
   "metadata": {
    "id": "CdtA3y43Oy5b"
   },
   "source": [
    "En esta sección, importamos todos los datos necesarios para el cálculo de indicadores. \n",
    "Para el caso de Bogotá 2019, los archivos son de Excel.\n",
    "\n",
    "Cabe destacar que para esta EOD tenemos data a nivel de:\n",
    "- Viajes\n",
    "- Etapas\n",
    "- Personas\n",
    "- Hogares"
   ]
  },
  {
   "cell_type": "code",
   "execution_count": null,
   "id": "e2c53565",
   "metadata": {
    "id": "e2c53565"
   },
   "outputs": [],
   "source": [
    "# Si se está en google colab, reemplazar por path de Drive\n",
    "data_path = '/home/roliverio/Documentos/ADDI/enmodo/bogota/'"
   ]
  },
  {
   "cell_type": "code",
   "execution_count": null,
   "id": "56fe174d",
   "metadata": {
    "id": "56fe174d"
   },
   "outputs": [],
   "source": [
    "# Matriz de viajes\n",
    "data_viajes = pd.read_excel(data_path + '2019/source-xlsx/ViajesEODH2019.xlsx')\n",
    "#data_viajes = convert_datatype(data_viajes, [\"LATITUD_ORIGEN\", \"LATITUD_DESTINO\", \"LONGITUD_ORIGEN\", \"LONGITUD_DESTINO\", 'PONDERADOR_CALIBRADO_VIAJES', 'FE_TOTAL', 'FACTOR_AJUSTE_TRANSMILENIO', 'PONDERADOR_CALIBRADO'])"
   ]
  },
  {
   "cell_type": "code",
   "execution_count": null,
   "id": "8f1b5631",
   "metadata": {
    "id": "8f1b5631"
   },
   "outputs": [],
   "source": [
    "# Matriz de personas\n",
    "data_personas = pd.read_excel(data_path + '2019/source-xlsx/PersonasEODH2019.xlsx')"
   ]
  },
  {
   "cell_type": "code",
   "execution_count": null,
   "id": "9ab4ed0a",
   "metadata": {
    "id": "9ab4ed0a"
   },
   "outputs": [],
   "source": [
    "# Matriz de hogares\n",
    "data_encuestas = pd.read_excel(data_path + '2019/source-xlsx/HogaresEODH2019.xlsx')"
   ]
  },
  {
   "cell_type": "code",
   "execution_count": null,
   "id": "9c02b878",
   "metadata": {
    "id": "9c02b878"
   },
   "outputs": [],
   "source": [
    "# Matriz de etapas\n",
    "data_etapas = pd.read_excel(data_path + '2019/source-xlsx/EtapasEODH2019.xlsx')"
   ]
  },
  {
   "cell_type": "code",
   "execution_count": null,
   "id": "3cfbf52d",
   "metadata": {
    "id": "3cfbf52d"
   },
   "outputs": [],
   "source": [
    "# Shapefile de la ciudad, calculamos centroide del zat\n",
    "city_shp = gpd.read_file(data_path + \"2019/source-shp/ZAT.shp\")\n"
   ]
  },
  {
   "cell_type": "code",
   "execution_count": null,
   "id": "qRnCVocwarF8",
   "metadata": {
    "colab": {
     "base_uri": "https://localhost:8080/"
    },
    "executionInfo": {
     "elapsed": 13,
     "status": "ok",
     "timestamp": 1635820849660,
     "user": {
      "displayName": "Paula Vásquez H.",
      "photoUrl": "https://lh3.googleusercontent.com/a-/AOh14GgJUNawPfe0J41agMsUCwKAOgAzWX7zUOLCtayLFg=s64",
      "userId": "02019115936957150360"
     },
     "user_tz": 180
    },
    "id": "qRnCVocwarF8",
    "outputId": "ae32007a-e5bd-47cc-9f53-48603062bfcc"
   },
   "outputs": [],
   "source": [
    "city_shp.crs"
   ]
  },
  {
   "cell_type": "code",
   "execution_count": null,
   "id": "fEO7Xp1bbUAP",
   "metadata": {
    "colab": {
     "base_uri": "https://localhost:8080/"
    },
    "executionInfo": {
     "elapsed": 11,
     "status": "ok",
     "timestamp": 1635820849661,
     "user": {
      "displayName": "Paula Vásquez H.",
      "photoUrl": "https://lh3.googleusercontent.com/a-/AOh14GgJUNawPfe0J41agMsUCwKAOgAzWX7zUOLCtayLFg=s64",
      "userId": "02019115936957150360"
     },
     "user_tz": 180
    },
    "id": "fEO7Xp1bbUAP",
    "outputId": "2e211d17-65cf-4931-fea7-136e0c604285"
   },
   "outputs": [],
   "source": [
    "centroid = city_shp['geometry'].centroid\n",
    "\n",
    "city_shp['x_coord'] = centroid.x\n",
    "city_shp['y_coord'] = centroid.y"
   ]
  },
  {
   "cell_type": "markdown",
   "id": "8d65ab3c",
   "metadata": {
    "id": "8d65ab3c"
   },
   "source": [
    "### Preparación de los datos"
   ]
  },
  {
   "cell_type": "markdown",
   "id": "5891e875",
   "metadata": {
    "id": "5891e875"
   },
   "source": [
    "#### Viajes"
   ]
  },
  {
   "cell_type": "markdown",
   "id": "nKp83KN1Pf7s",
   "metadata": {
    "id": "nKp83KN1Pf7s"
   },
   "source": [
    "En esta etapa nos enfocaremos en preparar los datos con respecto a viajes.\n",
    "En particular, nos enfocamos en limpiar y estandarizar los datos para las columnas que son relevantes para el cálculo de indicadores.\n"
   ]
  },
  {
   "cell_type": "code",
   "execution_count": null,
   "id": "2baaf069",
   "metadata": {
    "id": "2baaf069"
   },
   "outputs": [],
   "source": [
    "selected_columns = ['id_hogar', 'id_persona', 'id_viaje', \n",
    "       'zat_origen', 'p17_Id_motivo_viaje', 'p17_otro_motivo',\n",
    "       'hora_inicio_viaje', 'zat_destino',\n",
    "       'p31_hora_llegada', 'fecha',\n",
    "       'f_exp', 'mun_origen', 'mun_destino', 'utam_origen',\n",
    "       'utam_destino', 'modo_principal', 'modo_principal_desagregado']\n",
    "viajes_df = data_viajes[selected_columns]"
   ]
  },
  {
   "cell_type": "code",
   "execution_count": null,
   "id": "5e3b050d",
   "metadata": {
    "colab": {
     "base_uri": "https://localhost:8080/"
    },
    "executionInfo": {
     "elapsed": 11,
     "status": "ok",
     "timestamp": 1635820849662,
     "user": {
      "displayName": "Paula Vásquez H.",
      "photoUrl": "https://lh3.googleusercontent.com/a-/AOh14GgJUNawPfe0J41agMsUCwKAOgAzWX7zUOLCtayLFg=s64",
      "userId": "02019115936957150360"
     },
     "user_tz": 180
    },
    "id": "5e3b050d",
    "outputId": "5c839ec7-b102-4e0b-d5c0-d4f0434ab2d7"
   },
   "outputs": [],
   "source": [
    "viajes_df.shape"
   ]
  },
  {
   "cell_type": "code",
   "execution_count": null,
   "id": "91d848b5",
   "metadata": {
    "colab": {
     "base_uri": "https://localhost:8080/"
    },
    "executionInfo": {
     "elapsed": 11,
     "status": "ok",
     "timestamp": 1635820849663,
     "user": {
      "displayName": "Paula Vásquez H.",
      "photoUrl": "https://lh3.googleusercontent.com/a-/AOh14GgJUNawPfe0J41agMsUCwKAOgAzWX7zUOLCtayLFg=s64",
      "userId": "02019115936957150360"
     },
     "user_tz": 180
    },
    "id": "91d848b5",
    "outputId": "a65fa19e-6ec3-4a98-8cad-3f953e7a2ddb"
   },
   "outputs": [],
   "source": [
    "print('Contando valores nulos por atributo')\n",
    "for column in viajes_df.columns:\n",
    "    print('{}: {}'.format(column, viajes_df[column].isna().sum()))"
   ]
  },
  {
   "cell_type": "code",
   "execution_count": null,
   "id": "97ae53fa",
   "metadata": {
    "id": "97ae53fa"
   },
   "outputs": [],
   "source": [
    "# Generamos un identificador unico de viaje"
   ]
  },
  {
   "cell_type": "code",
   "execution_count": null,
   "id": "2e44aa71",
   "metadata": {
    "colab": {
     "base_uri": "https://localhost:8080/"
    },
    "executionInfo": {
     "elapsed": 10,
     "status": "ok",
     "timestamp": 1635820849664,
     "user": {
      "displayName": "Paula Vásquez H.",
      "photoUrl": "https://lh3.googleusercontent.com/a-/AOh14GgJUNawPfe0J41agMsUCwKAOgAzWX7zUOLCtayLFg=s64",
      "userId": "02019115936957150360"
     },
     "user_tz": 180
    },
    "id": "2e44aa71",
    "outputId": "e6b5a9e7-22d8-434b-b3b3-0429a516c443"
   },
   "outputs": [],
   "source": [
    "viajes_df['id_viaje_u'] = viajes_df['id_hogar'].astype(str) + viajes_df['id_persona'].astype(str)+ viajes_df['id_viaje'].astype(str)"
   ]
  },
  {
   "cell_type": "code",
   "execution_count": null,
   "id": "c36ab495",
   "metadata": {
    "colab": {
     "base_uri": "https://localhost:8080/"
    },
    "executionInfo": {
     "elapsed": 391,
     "status": "ok",
     "timestamp": 1635820850046,
     "user": {
      "displayName": "Paula Vásquez H.",
      "photoUrl": "https://lh3.googleusercontent.com/a-/AOh14GgJUNawPfe0J41agMsUCwKAOgAzWX7zUOLCtayLFg=s64",
      "userId": "02019115936957150360"
     },
     "user_tz": 180
    },
    "id": "c36ab495",
    "outputId": "0f7b6cd3-33fc-4838-ad08-28d5fcf0e288"
   },
   "outputs": [],
   "source": [
    "# Decodificando motivo de viaje\n",
    "viajes_df.p17_Id_motivo_viaje = decode_column(viajes_df, data_path + '2019/data-dictionaries/trip_purpose.csv', 'p17_Id_motivo_viaje')"
   ]
  },
  {
   "cell_type": "code",
   "execution_count": null,
   "id": "ca7e398f",
   "metadata": {
    "id": "ca7e398f"
   },
   "outputs": [],
   "source": [
    "# Nos quedamos solo con los viajes que tienen información de origen y destino\n",
    "mask = viajes_df['zat_origen'].isnull() | viajes_df['zat_destino'].isnull()\n",
    "viajes_df = viajes_df[~mask]\n",
    "viajes_df = viajes_df[(viajes_df.zat_destino>0) & (viajes_df.zat_origen>0)]"
   ]
  },
  {
   "cell_type": "code",
   "execution_count": null,
   "id": "78426dd2",
   "metadata": {
    "id": "78426dd2"
   },
   "outputs": [],
   "source": [
    "viajes_df['LATITUD_ORIGEN'] = None\n",
    "viajes_df['LONGITUD_ORIGEN'] = None\n",
    "viajes_df['LATITUD_DESTINO'] = None\n",
    "viajes_df['LONGITUD_DESTINO'] = None"
   ]
  },
  {
   "cell_type": "code",
   "execution_count": null,
   "id": "bce8a2f6",
   "metadata": {
    "id": "bce8a2f6"
   },
   "outputs": [],
   "source": [
    "# Como no tenemos info de coordenadas, imputamos a cada viaje el centroide del ZAT de origen y destino\n",
    "viajes_df = imputar_coordenadas_centroide_zat(viajes_df, 'LATITUD_ORIGEN', 'LONGITUD_ORIGEN', 'zat_origen', 'ZAT')\n",
    "viajes_df = imputar_coordenadas_centroide_zat(viajes_df, 'LATITUD_DESTINO', 'LONGITUD_DESTINO','zat_destino', 'ZAT')"
   ]
  },
  {
   "cell_type": "code",
   "execution_count": null,
   "id": "91f1298d",
   "metadata": {
    "id": "91f1298d"
   },
   "outputs": [],
   "source": [
    "# Obtenemos dia de la semana del viaje"
   ]
  },
  {
   "cell_type": "code",
   "execution_count": null,
   "id": "92e73396",
   "metadata": {
    "id": "92e73396"
   },
   "outputs": [],
   "source": [
    "viajes_df['fecha'] = pd.to_datetime(viajes_df['fecha']) - pd.Timedelta(days=1)\n",
    "\n",
    "viajes_df['day_of_week'] = viajes_df['fecha'].dt.day_name()"
   ]
  },
  {
   "cell_type": "code",
   "execution_count": null,
   "id": "197d3fcb",
   "metadata": {
    "id": "197d3fcb"
   },
   "outputs": [],
   "source": [
    "habil=['Monday', 'Tuesday', 'Wednesday', 'Thursday', 'Friday']\n",
    "nohabil=['Saturday', 'Sunday']"
   ]
  },
  {
   "cell_type": "code",
   "execution_count": null,
   "id": "cd90013d",
   "metadata": {
    "id": "cd90013d",
    "scrolled": true
   },
   "outputs": [],
   "source": [
    "#columns_day = ['DIA_HABIL', 'DIA_NOHABIL', 'PICO_HABIL', 'PICO_NOHABIL']\n",
    "def dia_habil(row):\n",
    "    if row['day_of_week'] in habil:\n",
    "        return 'Si'\n",
    "    else:\n",
    "        return 'No'\n",
    "\n",
    "def dia_nohabil(row):\n",
    "    if row['day_of_week'] in nohabil:\n",
    "        return 'Si'\n",
    "    else:\n",
    "        return 'No'"
   ]
  },
  {
   "cell_type": "code",
   "execution_count": null,
   "id": "8ff170a2",
   "metadata": {
    "id": "8ff170a2"
   },
   "outputs": [],
   "source": [
    "# Clasificamos segun dia de la semana\n",
    "viajes_df['DIA_HABIL'] = viajes_df.apply(lambda row: dia_habil(row), axis=1)\n",
    "viajes_df['DIA_NOHABIL'] = viajes_df.apply(lambda row: dia_nohabil(row), axis=1)"
   ]
  },
  {
   "cell_type": "code",
   "execution_count": null,
   "id": "739c9353",
   "metadata": {
    "id": "739c9353"
   },
   "outputs": [],
   "source": [
    "# Clasificamos cada viaje como intra o interzonal\n",
    "viajes_df['Intra_Inter'] = viajes_df.apply(lambda row: 'Intra' if row['zat_origen'] == row['zat_destino'] else 'Inter', axis=1)"
   ]
  },
  {
   "cell_type": "code",
   "execution_count": null,
   "id": "8ec578e6",
   "metadata": {
    "colab": {
     "base_uri": "https://localhost:8080/"
    },
    "executionInfo": {
     "elapsed": 12,
     "status": "ok",
     "timestamp": 1635820858108,
     "user": {
      "displayName": "Paula Vásquez H.",
      "photoUrl": "https://lh3.googleusercontent.com/a-/AOh14GgJUNawPfe0J41agMsUCwKAOgAzWX7zUOLCtayLFg=s64",
      "userId": "02019115936957150360"
     },
     "user_tz": 180
    },
    "id": "8ec578e6",
    "outputId": "156be549-7c88-455e-a92b-3807fa76d09a"
   },
   "outputs": [],
   "source": [
    "viajes_df.modo_principal.unique()"
   ]
  },
  {
   "cell_type": "code",
   "execution_count": null,
   "id": "10ac7797",
   "metadata": {
    "id": "10ac7797"
   },
   "outputs": [],
   "source": [
    "# Definimos etiquetas de público o privado\n",
    "publico_viaje = ['TransMilenio', 'Alimentador', 'SITP Zonal', 'SITP Provisional', 'Intermunicipal', 'Cable', 'Transporte publico individual']\n",
    "privado_viaje = ['Moto', 'Auto', 'A pie', 'Bicicleta', 'Transporte Escolar', 'Bicitaxi', 'Patineta']\n",
    "peaton_viaje = ['A pie', 'Bicicleta', 'Patineta', 'Bicitaxi']\n",
    "motorizado_viaje = ['TransMilenio', 'Alimentador', 'SITP Zonal', 'SITP Provisional', 'Intermunicipal', 'Transporte publico individual','Moto', 'Auto', 'Transporte Escolar']"
   ]
  },
  {
   "cell_type": "code",
   "execution_count": null,
   "id": "19b4b564",
   "metadata": {
    "id": "19b4b564"
   },
   "outputs": [],
   "source": [
    "# Clasificando los viajes como públicos o privados según medio\n",
    "def publico_privado(row, column, publico, privado):\n",
    "    if row[column] in (publico):\n",
    "        return 'Público'\n",
    "    elif row[column] in (privado):\n",
    "        return 'Privado'\n",
    "    else:\n",
    "        return 'Otro'\n",
    "    \n",
    "viajes_df['publico_privado'] = viajes_df.apply(lambda row: publico_privado(row, 'modo_principal', publico_viaje, privado_viaje), axis=1)"
   ]
  },
  {
   "cell_type": "code",
   "execution_count": null,
   "id": "pyKOEh_xdSFr",
   "metadata": {
    "id": "pyKOEh_xdSFr"
   },
   "outputs": [],
   "source": [
    "# Clasificando los viajes como públicos o privados según medio\n",
    "def motorizado(row, column, no_motorizado, motorizado):\n",
    "    if row[column] in (motorizado):\n",
    "        return 'Motorizado'\n",
    "    elif row[column] in (no_motorizado):\n",
    "        return 'No Motorizado'\n",
    "    else:\n",
    "        return 'Otro'\n",
    "    \n",
    "viajes_df['motorizado'] = viajes_df.apply(lambda row: motorizado(row, 'modo_principal', peaton_viaje,motorizado_viaje), axis=1)"
   ]
  },
  {
   "cell_type": "code",
   "execution_count": null,
   "id": "b5f07517",
   "metadata": {
    "id": "b5f07517"
   },
   "outputs": [],
   "source": [
    "# Calculamos hora de salida y llegada\n",
    "viajes_df['hora_inicio_viaje'] = viajes_df.hora_inicio_viaje.astype(str).str.split(':').map(lambda x: pd.Timedelta(hours=int(x[0]), minutes=int(x[1])))\n",
    "viajes_df['p31_hora_llegada'] = viajes_df.p31_hora_llegada.astype(str).str.split(':').map(lambda x: pd.Timedelta(hours=int(x[0]), minutes=int(x[1])))"
   ]
  },
  {
   "cell_type": "code",
   "execution_count": null,
   "id": "e7fca63f",
   "metadata": {
    "colab": {
     "base_uri": "https://localhost:8080/"
    },
    "executionInfo": {
     "elapsed": 23,
     "status": "ok",
     "timestamp": 1635820869009,
     "user": {
      "displayName": "Paula Vásquez H.",
      "photoUrl": "https://lh3.googleusercontent.com/a-/AOh14GgJUNawPfe0J41agMsUCwKAOgAzWX7zUOLCtayLFg=s64",
      "userId": "02019115936957150360"
     },
     "user_tz": 180
    },
    "id": "e7fca63f",
    "outputId": "9a9a8c07-1192-4486-ad1a-111f19443376"
   },
   "outputs": [],
   "source": [
    "viajes_df['p31_hora_llegada'][viajes_df['p31_hora_llegada'] < viajes_df['hora_inicio_viaje']] = viajes_df['p31_hora_llegada'][viajes_df['p31_hora_llegada'] < viajes_df['hora_inicio_viaje']] + pd.Timedelta(days=1)"
   ]
  },
  {
   "cell_type": "code",
   "execution_count": null,
   "id": "198cfd34",
   "metadata": {
    "id": "198cfd34"
   },
   "outputs": [],
   "source": [
    "# Obtenemos duración del viaje\n",
    "viajes_df['duracion'] = (viajes_df['p31_hora_llegada'] - viajes_df['hora_inicio_viaje'])"
   ]
  },
  {
   "cell_type": "code",
   "execution_count": null,
   "id": "71e3cdae",
   "metadata": {
    "id": "71e3cdae"
   },
   "outputs": [],
   "source": [
    "viajes_df['hora_inicio_viaje_aux'] = viajes_df['hora_inicio_viaje'] / np.timedelta64(1, 'h')"
   ]
  },
  {
   "cell_type": "code",
   "execution_count": null,
   "id": "e34fc4dd",
   "metadata": {
    "id": "e34fc4dd"
   },
   "outputs": [],
   "source": [
    "# Asignamos etiquetas de viaje en horario pico para dia habil y no habil\n",
    "def pico_habil(row):\n",
    "    if ((row['hora_inicio_viaje_aux'] >= 6 and row['hora_inicio_viaje_aux'] <= 7) or (row['hora_inicio_viaje_aux'] >= 12 and row['hora_inicio_viaje_aux'] < 13) or (row['hora_inicio_viaje_aux'] >= 5 and row['hora_inicio_viaje_aux'] <= 6)) and row['DIA_HABIL']=='Si':\n",
    "        return'Si'\n",
    "    else:\n",
    "        return 'No'\n",
    "    \n",
    "viajes_df['PICO_HABIL'] = viajes_df.apply(lambda row: pico_habil(row), axis=1)"
   ]
  },
  {
   "cell_type": "code",
   "execution_count": null,
   "id": "bff7352c",
   "metadata": {
    "id": "bff7352c"
   },
   "outputs": [],
   "source": [
    "def pico_nohabil(row):\n",
    "    if ((row['hora_inicio_viaje_aux'] >= 6 and row['hora_inicio_viaje_aux'] <= 7) or (row['hora_inicio_viaje_aux'] >= 12 and row['hora_inicio_viaje_aux'] < 13) or (row['hora_inicio_viaje_aux'] >= 5 and row['hora_inicio_viaje_aux'] <= 6)) and row['DIA_NOHABIL']=='Si':\n",
    "        return'Si'\n",
    "    else:\n",
    "        return 'No'\n",
    "    \n",
    "viajes_df['PICO_NOHABIL'] = viajes_df.apply(lambda row: pico_nohabil(row), axis=1)"
   ]
  },
  {
   "cell_type": "code",
   "execution_count": null,
   "id": "sSeWlQeBKANM",
   "metadata": {
    "id": "sSeWlQeBKANM"
   },
   "outputs": [],
   "source": [
    "import math\n",
    "def haversine(coord1, coord2):\n",
    "    R = 6372800  # Earth radius in meters\n",
    "    lat1, lon1 = coord1\n",
    "    lat2, lon2 = coord2\n",
    "    \n",
    "    phi1, phi2 = math.radians(lat1), math.radians(lat2) \n",
    "    dphi       = math.radians(lat2 - lat1)\n",
    "    dlambda    = math.radians(lon2 - lon1)\n",
    "    \n",
    "    a = math.sin(dphi/2)**2 + \\\n",
    "        math.cos(phi1)*math.cos(phi2)*math.sin(dlambda/2)**2\n",
    "    \n",
    "    return 2*R*math.atan2(math.sqrt(a), math.sqrt(1 - a))"
   ]
  },
  {
   "cell_type": "code",
   "execution_count": null,
   "id": "8c2ecfdd",
   "metadata": {
    "id": "8c2ecfdd"
   },
   "outputs": [],
   "source": [
    "# Calculamos distancia (en este caso haversine por la proyección del shapefile)\n",
    "viajes_df['distancia_manhattan'] = viajes_df.apply(lambda row: haversine(np.array([row['LATITUD_ORIGEN'], row['LONGITUD_ORIGEN']]), np.array([row['LATITUD_DESTINO'], row['LONGITUD_DESTINO']])), axis=1)"
   ]
  },
  {
   "cell_type": "code",
   "execution_count": null,
   "id": "392a2c14",
   "metadata": {
    "colab": {
     "base_uri": "https://localhost:8080/"
    },
    "executionInfo": {
     "elapsed": 29,
     "status": "ok",
     "timestamp": 1635820891539,
     "user": {
      "displayName": "Paula Vásquez H.",
      "photoUrl": "https://lh3.googleusercontent.com/a-/AOh14GgJUNawPfe0J41agMsUCwKAOgAzWX7zUOLCtayLFg=s64",
      "userId": "02019115936957150360"
     },
     "user_tz": 180
    },
    "id": "392a2c14",
    "outputId": "a89244a1-ea13-4b7c-ac5c-2502265bff21"
   },
   "outputs": [],
   "source": [
    "print('Contando valores nulos por atributo')\n",
    "for column in viajes_df.columns:\n",
    "    print('{}: {}'.format(column, viajes_df[column].isna().sum()))"
   ]
  },
  {
   "cell_type": "code",
   "execution_count": null,
   "id": "748e621e",
   "metadata": {
    "colab": {
     "base_uri": "https://localhost:8080/"
    },
    "executionInfo": {
     "elapsed": 24,
     "status": "ok",
     "timestamp": 1635820891539,
     "user": {
      "displayName": "Paula Vásquez H.",
      "photoUrl": "https://lh3.googleusercontent.com/a-/AOh14GgJUNawPfe0J41agMsUCwKAOgAzWX7zUOLCtayLFg=s64",
      "userId": "02019115936957150360"
     },
     "user_tz": 180
    },
    "id": "748e621e",
    "outputId": "ff24e1c9-8a62-47f7-a082-fa0d521ef60a"
   },
   "outputs": [],
   "source": [
    "viajes_df.shape"
   ]
  },
  {
   "cell_type": "markdown",
   "id": "da9bdcfb",
   "metadata": {
    "id": "da9bdcfb"
   },
   "source": [
    "#### Personas y Hogares"
   ]
  },
  {
   "cell_type": "markdown",
   "id": "AXrUPDxoQ8yM",
   "metadata": {
    "id": "AXrUPDxoQ8yM"
   },
   "source": [
    "En esta etapa nos enfocaremos en preparar los datos con respecto a personas.\n",
    "En particular, nos enfocamos en limpiar y estandarizar los datos para las columnas que son relevantes para el cálculo de indicadores."
   ]
  },
  {
   "cell_type": "code",
   "execution_count": null,
   "id": "7277a49e",
   "metadata": {
    "id": "7277a49e"
   },
   "outputs": [],
   "source": [
    "data_encuestas.id_rango_ingresos = decode_column(data_encuestas, data_path + '2019/data-dictionaries/tramo.csv', 'id_rango_ingresos')\n",
    "data_personas.p6_id_ocupacion = decode_column(data_personas, data_path + '2019/data-dictionaries/occupations.csv', 'p6_id_ocupacion')"
   ]
  },
  {
   "cell_type": "code",
   "execution_count": null,
   "id": "47b51113",
   "metadata": {
    "id": "47b51113"
   },
   "outputs": [],
   "source": [
    "selected_columns = ['id_hogar', 'id_persona', 'Sexo', 'f_exp', 'p4_edad', 'p6_id_ocupacion']\n",
    "personas_df = data_personas[selected_columns]"
   ]
  },
  {
   "cell_type": "code",
   "execution_count": null,
   "id": "2c93cdad",
   "metadata": {
    "id": "2c93cdad"
   },
   "outputs": [],
   "source": [
    "selected_columns = ['Id_Hogar', 'id_rango_ingresos', 'p5_estrato', 'p7_Barrio_vivienda']\n",
    "encuestas_df = data_encuestas[selected_columns]"
   ]
  },
  {
   "cell_type": "code",
   "execution_count": null,
   "id": "e481fef4",
   "metadata": {
    "id": "e481fef4"
   },
   "outputs": [],
   "source": [
    "personas_df = pd.merge(personas_df, encuestas_df, left_on='id_hogar', right_on='Id_Hogar', how='left')"
   ]
  },
  {
   "cell_type": "code",
   "execution_count": null,
   "id": "2e13b17f",
   "metadata": {
    "id": "2e13b17f",
    "scrolled": true
   },
   "outputs": [],
   "source": [
    "personas_df['id_rango_ingresos'] = personas_df.apply(lambda row: mapear_vacios(row, 'id_rango_ingresos'), axis=1)"
   ]
  },
  {
   "cell_type": "code",
   "execution_count": null,
   "id": "8161f1f5",
   "metadata": {
    "id": "8161f1f5"
   },
   "outputs": [],
   "source": [
    "personas_df['id_persona_u'] = personas_df['id_hogar'].astype(str) + personas_df['id_persona'].astype(str)"
   ]
  },
  {
   "cell_type": "code",
   "execution_count": null,
   "id": "f86ec2ad",
   "metadata": {
    "id": "f86ec2ad"
   },
   "outputs": [],
   "source": [
    "viajes_personas = pd.merge(viajes_df, personas_df, on=['id_hogar', 'id_persona'], how='inner')"
   ]
  },
  {
   "cell_type": "code",
   "execution_count": null,
   "id": "c122d955",
   "metadata": {
    "colab": {
     "base_uri": "https://localhost:8080/"
    },
    "executionInfo": {
     "elapsed": 286,
     "status": "ok",
     "timestamp": 1635820893463,
     "user": {
      "displayName": "Paula Vásquez H.",
      "photoUrl": "https://lh3.googleusercontent.com/a-/AOh14GgJUNawPfe0J41agMsUCwKAOgAzWX7zUOLCtayLFg=s64",
      "userId": "02019115936957150360"
     },
     "user_tz": 180
    },
    "id": "c122d955",
    "outputId": "8fc08116-227f-4799-bbd4-356263f5f099",
    "scrolled": false
   },
   "outputs": [],
   "source": [
    "print('Contando valores nulos por atributo')\n",
    "for column in viajes_personas.columns:\n",
    "    print('{}: {}'.format(column, viajes_personas[column].isna().sum()))"
   ]
  },
  {
   "cell_type": "markdown",
   "id": "2693463f",
   "metadata": {},
   "source": [
    "### Generación csv"
   ]
  },
  {
   "cell_type": "code",
   "execution_count": null,
   "id": "FjLBh2ryhFo3",
   "metadata": {
    "id": "FjLBh2ryhFo3"
   },
   "outputs": [],
   "source": [
    "viajes_personas.to_csv(data_path + '2019/csv/viajes_personas_bogota_2019.csv', index=False)"
   ]
  },
  {
   "cell_type": "markdown",
   "id": "4ad09fe1",
   "metadata": {},
   "source": [
    "### Generación geojson"
   ]
  },
  {
   "cell_type": "code",
   "execution_count": null,
   "id": "fbeb12f8",
   "metadata": {},
   "outputs": [],
   "source": [
    "origenes_viajes = gpd.GeoDataFrame(\n",
    "    viajes_personas, geometry=gpd.points_from_xy(viajes_personas.LONGITUD_ORIGEN, viajes_personas.LATITUD_ORIGEN))\n",
    "\n",
    "destinos_viajes = gpd.GeoDataFrame(\n",
    "    viajes_personas, geometry=gpd.points_from_xy(viajes_personas.LONGITUD_DESTINO, viajes_personas.LATITUD_DESTINO))"
   ]
  },
  {
   "cell_type": "code",
   "execution_count": null,
   "id": "357a3a27",
   "metadata": {},
   "outputs": [],
   "source": [
    "origenes_viajes['duracion_hrs'] = origenes_viajes.duracion.dt.components['hours']\n",
    "destinos_viajes['duracion_hrs'] = destinos_viajes.duracion.dt.components['hours']"
   ]
  },
  {
   "cell_type": "code",
   "execution_count": null,
   "id": "9d4f52ab",
   "metadata": {},
   "outputs": [],
   "source": [
    "origenes_viajes['duracion_minutos'] = origenes_viajes.duracion.dt.components['minutes']\n",
    "destinos_viajes['duracion_minutos'] = destinos_viajes.duracion.dt.components['minutes']"
   ]
  },
  {
   "cell_type": "code",
   "execution_count": null,
   "id": "53e0a7d9",
   "metadata": {},
   "outputs": [],
   "source": [
    "origenes_viajes['HORA_FIN_HR'] = origenes_viajes.p31_hora_llegada.dt.components['hours']\n",
    "destinos_viajes['HORA_FIN_HR'] = destinos_viajes.p31_hora_llegada.dt.components['hours']"
   ]
  },
  {
   "cell_type": "code",
   "execution_count": null,
   "id": "8d0c6a41",
   "metadata": {},
   "outputs": [],
   "source": [
    "origenes_viajes['HORA_FIN_MINUTOS'] = origenes_viajes.p31_hora_llegada.dt.components['minutes']\n",
    "destinos_viajes['HORA_FIN_MINUTOS'] = destinos_viajes.p31_hora_llegada.dt.components['minutes']"
   ]
  },
  {
   "cell_type": "code",
   "execution_count": null,
   "id": "a42b9108",
   "metadata": {},
   "outputs": [],
   "source": [
    "origenes_viajes.fecha = origenes_viajes.fecha.astype(str)\n",
    "destinos_viajes.fecha = destinos_viajes.fecha.astype(str)"
   ]
  },
  {
   "cell_type": "code",
   "execution_count": null,
   "id": "3b5ba037",
   "metadata": {},
   "outputs": [],
   "source": [
    "origenes_viajes.drop(['duracion', 'p31_hora_llegada', 'hora_inicio_viaje', 'hora_inicio_viaje_aux'], axis=1, inplace = True)\n",
    "destinos_viajes.drop(['duracion', 'p31_hora_llegada', 'hora_inicio_viaje', 'hora_inicio_viaje_aux'], axis=1, inplace = True)"
   ]
  },
  {
   "cell_type": "code",
   "execution_count": null,
   "id": "b203e62b",
   "metadata": {
    "scrolled": true
   },
   "outputs": [],
   "source": [
    "origenes_viajes.p5_estrato = origenes_viajes.p5_estrato.astype(int)\n",
    "destinos_viajes.p5_estrato = destinos_viajes.p5_estrato.astype(int)"
   ]
  },
  {
   "cell_type": "code",
   "execution_count": null,
   "id": "7dcdfdfb",
   "metadata": {},
   "outputs": [],
   "source": [
    "origenes_viajes.p7_Barrio_vivienda = origenes_viajes.p7_Barrio_vivienda.astype(str)\n",
    "destinos_viajes.p7_Barrio_vivienda = destinos_viajes.p7_Barrio_vivienda.astype(str)"
   ]
  },
  {
   "cell_type": "code",
   "execution_count": null,
   "id": "8e38fa69",
   "metadata": {},
   "outputs": [],
   "source": [
    "origenes_viajes.id_persona_u = origenes_viajes.id_persona_u.astype(str)\n",
    "destinos_viajes.id_persona_u = destinos_viajes.id_persona_u.astype(str)"
   ]
  },
  {
   "cell_type": "code",
   "execution_count": null,
   "id": "aebe09fc",
   "metadata": {},
   "outputs": [],
   "source": [
    "origenes_viajes.to_file(data_path + '2019/output-geojson/origenes_viajes.geojson', driver='GeoJSON')\n",
    "destinos_viajes.to_file(data_path + '2019/output-geojson/destinos_viajes.geojson', driver='GeoJSON')"
   ]
  },
  {
   "cell_type": "markdown",
   "id": "b2f57f25",
   "metadata": {},
   "source": [
    "### Generación shapefile"
   ]
  },
  {
   "cell_type": "code",
   "execution_count": null,
   "id": "c2805520",
   "metadata": {},
   "outputs": [],
   "source": [
    "origenes_viajes.to_file(data_path + '2019/output-shp/origenes_viajes.shp', driver='GeoJSON')\n",
    "destinos_viajes.to_file(data_path + '2019/output-shp/destinos_viajes.shp', driver='GeoJSON')"
   ]
  },
  {
   "cell_type": "markdown",
   "id": "G-YB6BGyjI2B",
   "metadata": {
    "id": "G-YB6BGyjI2B"
   },
   "source": [
    "### Descripción de los datos"
   ]
  },
  {
   "cell_type": "markdown",
   "id": "hFBKtT6TjQtB",
   "metadata": {
    "id": "hFBKtT6TjQtB"
   },
   "source": [
    "¿Dónde viven los encuestados?"
   ]
  },
  {
   "cell_type": "code",
   "execution_count": null,
   "id": "B3fOt0vFl30I",
   "metadata": {
    "id": "B3fOt0vFl30I"
   },
   "outputs": [],
   "source": [
    "encuestas_df = encuestas_df[encuestas_df.p7_Barrio_vivienda!=datetime.datetime(2020, 8, 7, 0, 0)]\n",
    "encuestas_df = encuestas_df[encuestas_df.p7_Barrio_vivienda!=datetime.datetime(2020, 7, 20, 0, 0)]"
   ]
  },
  {
   "cell_type": "code",
   "execution_count": null,
   "id": "L-IMvItVjUnO",
   "metadata": {
    "colab": {
     "base_uri": "https://localhost:8080/",
     "height": 655
    },
    "executionInfo": {
     "elapsed": 2013,
     "status": "ok",
     "timestamp": 1632097683763,
     "user": {
      "displayName": "Paula Vásquez H.",
      "photoUrl": "https://lh3.googleusercontent.com/a-/AOh14GgJUNawPfe0J41agMsUCwKAOgAzWX7zUOLCtayLFg=s64",
      "userId": "02019115936957150360"
     },
     "user_tz": 180
    },
    "id": "L-IMvItVjUnO",
    "outputId": "c44dc910-1e45-4138-f707-73379ff1bf4a"
   },
   "outputs": [],
   "source": [
    "hogares_por_barrio = encuestas_df.groupby(\"p7_Barrio_vivienda\").size().sort_values()\n",
    "\n",
    "ax = hogares_por_barrio[-49:].plot(kind=\"barh\", width=0.9, figsize=(8, 9))\n",
    "ax.set_xlabel(\"Cantidad de hogares entrevistados\")\n",
    "ax.set_title(\"Distribución de hogares por barrio\")\n",
    "sns.despine()"
   ]
  },
  {
   "cell_type": "markdown",
   "id": "5lThrbwQmqKc",
   "metadata": {
    "id": "5lThrbwQmqKc"
   },
   "source": [
    "Vemos que la mayor parte de los hogares encuestados se encuentran en la zona centro."
   ]
  },
  {
   "cell_type": "markdown",
   "id": "CH9E4obEmuVL",
   "metadata": {
    "id": "CH9E4obEmuVL"
   },
   "source": [
    "¿Quienes son las personas encuestadas?"
   ]
  },
  {
   "cell_type": "code",
   "execution_count": null,
   "id": "7uUmxkO_mtYR",
   "metadata": {
    "colab": {
     "base_uri": "https://localhost:8080/"
    },
    "executionInfo": {
     "elapsed": 372,
     "status": "ok",
     "timestamp": 1632097750067,
     "user": {
      "displayName": "Paula Vásquez H.",
      "photoUrl": "https://lh3.googleusercontent.com/a-/AOh14GgJUNawPfe0J41agMsUCwKAOgAzWX7zUOLCtayLFg=s64",
      "userId": "02019115936957150360"
     },
     "user_tz": 180
    },
    "id": "7uUmxkO_mtYR",
    "outputId": "29176b90-c57f-4412-abb7-2d4a19d089d9"
   },
   "outputs": [],
   "source": [
    "personas_df.p4_edad.describe()"
   ]
  },
  {
   "cell_type": "code",
   "execution_count": null,
   "id": "mcD5IJptmn2g",
   "metadata": {
    "id": "mcD5IJptmn2g"
   },
   "outputs": [],
   "source": [
    "personas_df['age_cohort'] = personas_df.apply(lambda row: age_cohorts(row, 'p4_edad'), axis=1)"
   ]
  },
  {
   "cell_type": "code",
   "execution_count": null,
   "id": "Ft38lmf5nR9P",
   "metadata": {
    "colab": {
     "base_uri": "https://localhost:8080/",
     "height": 241
    },
    "executionInfo": {
     "elapsed": 550,
     "status": "ok",
     "timestamp": 1632097877457,
     "user": {
      "displayName": "Paula Vásquez H.",
      "photoUrl": "https://lh3.googleusercontent.com/a-/AOh14GgJUNawPfe0J41agMsUCwKAOgAzWX7zUOLCtayLFg=s64",
      "userId": "02019115936957150360"
     },
     "user_tz": 180
    },
    "id": "Ft38lmf5nR9P",
    "outputId": "85f109b9-e27a-4bf5-eadc-e3b0e26e6454"
   },
   "outputs": [],
   "source": [
    "order = ['<18', '18-29', '30-60','>60','No declarado']\n",
    "ax = (personas_df.groupby(['age_cohort']).size().loc[reversed(order)]\n",
    " .plot(kind='barh', figsize=(6,3)))\n",
    "ax.set_xlabel(\"# de Encuestados\")\n",
    "ax.set_ylabel(\" \")\n",
    "ax.set_title(\"Distribución de Personas encuestadas por grupo de edad\")\n",
    "sns.despine()"
   ]
  },
  {
   "cell_type": "markdown",
   "id": "GMndny25nXUx",
   "metadata": {
    "id": "GMndny25nXUx"
   },
   "source": [
    "La mayor parte de los encuestados tiene entre 30 y 60 años de edad."
   ]
  },
  {
   "cell_type": "code",
   "execution_count": null,
   "id": "J65EnYSQnWfs",
   "metadata": {
    "colab": {
     "base_uri": "https://localhost:8080/",
     "height": 241
    },
    "executionInfo": {
     "elapsed": 233,
     "status": "ok",
     "timestamp": 1632097904673,
     "user": {
      "displayName": "Paula Vásquez H.",
      "photoUrl": "https://lh3.googleusercontent.com/a-/AOh14GgJUNawPfe0J41agMsUCwKAOgAzWX7zUOLCtayLFg=s64",
      "userId": "02019115936957150360"
     },
     "user_tz": 180
    },
    "id": "J65EnYSQnWfs",
    "outputId": "035f6550-0112-4718-d042-6e7a222434fe"
   },
   "outputs": [],
   "source": [
    "ax = (personas_df.groupby(['Sexo']).size()\n",
    " .plot(kind='barh', figsize=(6,3)))\n",
    "ax.set_xlabel(\"# de Encuestados\")\n",
    "ax.set_ylabel(\" \")\n",
    "ax.set_title(\"Distribución de Personas encuestadas por sexo\")\n",
    "sns.despine()\n"
   ]
  },
  {
   "cell_type": "code",
   "execution_count": null,
   "id": "JP2pImgDnpRj",
   "metadata": {
    "id": "JP2pImgDnpRj"
   },
   "outputs": [],
   "source": [
    "def normalize_rows(df):\n",
    "    return df.pipe(lambda x: pd.DataFrame(normalize(df, axis=1, norm='l1'), columns=df.columns, index=df.index))"
   ]
  },
  {
   "cell_type": "code",
   "execution_count": null,
   "id": "fBCCLqW5nfLb",
   "metadata": {
    "colab": {
     "base_uri": "https://localhost:8080/",
     "height": 258
    },
    "executionInfo": {
     "elapsed": 944,
     "status": "ok",
     "timestamp": 1632097970130,
     "user": {
      "displayName": "Paula Vásquez H.",
      "photoUrl": "https://lh3.googleusercontent.com/a-/AOh14GgJUNawPfe0J41agMsUCwKAOgAzWX7zUOLCtayLFg=s64",
      "userId": "02019115936957150360"
     },
     "user_tz": 180
    },
    "id": "fBCCLqW5nfLb",
    "outputId": "1856c08f-70d3-43b3-863b-e88cbbf3b47b"
   },
   "outputs": [],
   "source": [
    "ax = (personas_df.groupby(['age_cohort', 'Sexo']).size().unstack()\n",
    " .pipe(normalize_rows)\n",
    " .plot(kind='barh', stacked=True, figsize=(6, 3)))\n",
    "ax.set_xlabel(\"% de Encuestados\")\n",
    "ax.set_ylabel(\" \")\n",
    "ax.set_title(\"Distribución de Personas encuestadas por sexo y edad\")\n",
    "sns.despine()\n",
    "\n",
    "plt.legend(loc=0, bbox_to_anchor=(1.0, 0.5))"
   ]
  },
  {
   "cell_type": "code",
   "execution_count": null,
   "id": "TbSK7jdDntwl",
   "metadata": {
    "colab": {
     "base_uri": "https://localhost:8080/",
     "height": 350
    },
    "executionInfo": {
     "elapsed": 762,
     "status": "ok",
     "timestamp": 1632098016396,
     "user": {
      "displayName": "Paula Vásquez H.",
      "photoUrl": "https://lh3.googleusercontent.com/a-/AOh14GgJUNawPfe0J41agMsUCwKAOgAzWX7zUOLCtayLFg=s64",
      "userId": "02019115936957150360"
     },
     "user_tz": 180
    },
    "id": "TbSK7jdDntwl",
    "outputId": "90c3c12d-b213-457e-843c-62b507c92f6c"
   },
   "outputs": [],
   "source": [
    "ax = (personas_df.groupby(['p6_id_ocupacion']).size().sort_values()\n",
    " .plot(kind='barh', figsize=(6,5)))\n",
    "ax.set_xlabel(\"# de Encuestados\")\n",
    "ax.set_ylabel(\" \")\n",
    "ax.set_title(\"Distribución de Personas encuestadas de acuerdo a Actividad Principal\")\n",
    "sns.despine()"
   ]
  },
  {
   "cell_type": "markdown",
   "id": "TBAe2-QwDhPi",
   "metadata": {
    "id": "TBAe2-QwDhPi"
   },
   "source": [
    "### Parte I: Indicadores de Cantidad de Viajes\n",
    "\n",
    "En esta primera parte, responderemos algunas preguntas respecto a indicadores de cantidades de viajes realizados, en días hábiles y no hábiles de viaje. Para esto, buscaremos responder las siguientes preguntas:\n",
    "\n",
    "1. ¿Cuál es la tasa promedio de viajes diarios en transporte público por clasificador económico?\n",
    "2. ¿Cuál es la tasa promedio de viajes diarios en transporte privado por clasificador económico?\n",
    "3. ¿Cuál es la razón entre los viajes en transporte público y privado por clasificador socioeconómico?\n",
    "4. ¿Cuál es la distribución/partición modal de los viajes por clasificador socioeconómico?"
   ]
  },
  {
   "cell_type": "markdown",
   "id": "cr3jPvqRkopA",
   "metadata": {
    "id": "cr3jPvqRkopA"
   },
   "source": [
    "En esta sección, se detallarán los resultados para indicadores a nivel de viajes, separados por días hábiles y no hábiles de viaje, y por clasificador socioeconómico."
   ]
  },
  {
   "cell_type": "code",
   "execution_count": null,
   "id": "fc78c428",
   "metadata": {
    "id": "fc78c428"
   },
   "outputs": [],
   "source": [
    "viajes_personas = viajes_personas.drop(['Id_Hogar'], axis=1)"
   ]
  },
  {
   "cell_type": "code",
   "execution_count": null,
   "id": "5e3907b6",
   "metadata": {
    "colab": {
     "base_uri": "https://localhost:8080/"
    },
    "executionInfo": {
     "elapsed": 245,
     "status": "ok",
     "timestamp": 1632098085738,
     "user": {
      "displayName": "Paula Vásquez H.",
      "photoUrl": "https://lh3.googleusercontent.com/a-/AOh14GgJUNawPfe0J41agMsUCwKAOgAzWX7zUOLCtayLFg=s64",
      "userId": "02019115936957150360"
     },
     "user_tz": 180
    },
    "id": "5e3907b6",
    "outputId": "99e9100a-5ccd-4d7a-c706-bf920f43f573"
   },
   "outputs": [],
   "source": [
    "print('Cantidad de viajes mapeados: totales encuesta , total expandido')\n",
    "viajes_habiles = viajes_personas[viajes_personas.DIA_HABIL=='Si']\n",
    "print('Total Viajes Habiles: {}'.format(viajes_habiles.shape[0]), viajes_habiles['f_exp_x'].sum())\n",
    "viajes_nohabiles = viajes_personas[viajes_personas.DIA_NOHABIL=='Si']\n",
    "print('Total Viajes No Habiles: {}'.format(viajes_nohabiles.shape[0]), viajes_nohabiles['f_exp_x'].sum())"
   ]
  },
  {
   "cell_type": "markdown",
   "id": "ddn8V_BLShbI",
   "metadata": {
    "id": "ddn8V_BLShbI"
   },
   "source": [
    "Separamos los viajes habiles y no habiles de acuerdo a si son privados o publicos"
   ]
  },
  {
   "cell_type": "code",
   "execution_count": null,
   "id": "6fe3f2f4",
   "metadata": {
    "id": "6fe3f2f4"
   },
   "outputs": [],
   "source": [
    "viajes_publico_habiles = viajes_habiles[viajes_habiles.modo_principal.isin(publico_viaje)]\n",
    "viajes_publico_nohabiles = viajes_nohabiles[viajes_nohabiles.modo_principal.isin(publico_viaje)]\n",
    "\n",
    "viajes_privado_habiles = viajes_habiles[viajes_habiles.modo_principal.isin(privado_viaje)]\n",
    "viajes_privado_nohabiles = viajes_nohabiles[viajes_nohabiles.modo_principal.isin(privado_viaje)]"
   ]
  },
  {
   "cell_type": "code",
   "execution_count": null,
   "id": "79e2c954",
   "metadata": {
    "id": "79e2c954"
   },
   "outputs": [],
   "source": [
    "def weighted_mean(df, value_column, weighs_column):\n",
    "    weighted_sum = (df[value_column] * df[weighs_column]).sum()\n",
    "    return weighted_sum / df[weighs_column].sum()"
   ]
  },
  {
   "cell_type": "code",
   "execution_count": null,
   "id": "7675f4f9",
   "metadata": {
    "id": "7675f4f9"
   },
   "outputs": [],
   "source": [
    "from pandasql import sqldf\n",
    "def calculate_n_viajes_per_capita(df, df_str, agg_columns_str, agg_columns_lst, id_person, person_weight, trip_weight=None):\n",
    "    q = \"SELECT DISTINCT {}, {}, {} FROM {}\".format(id_person, agg_columns_str, person_weight, df_str)\n",
    "    persons = sqldf(q, globals())\n",
    "    n_personas = persons.groupby(agg_columns_lst).sum()[[person_weight]].reset_index()\n",
    "    n_personas[agg_columns_lst[0]] = n_personas[agg_columns_lst[0]].astype(str)\n",
    "    n_viajes = df.groupby(agg_columns_lst).sum()[[trip_weight]].reset_index()\n",
    "    n_viajes[agg_columns_lst[0]] = n_viajes[agg_columns_lst[0]].astype(str)\n",
    "    merged = pd.merge(n_personas, n_viajes, on=agg_columns_lst, how='left')\n",
    "    merged['viajes_per_capita'] = merged[trip_weight] / merged[person_weight]\n",
    "    return merged"
   ]
  },
  {
   "cell_type": "markdown",
   "id": "Y2yqtFsLDqXj",
   "metadata": {
    "id": "Y2yqtFsLDqXj"
   },
   "source": [
    "#### **¿Cuál es la tasa promedio de viajes diarios en transporte público por clasificador económico?**"
   ]
  },
  {
   "cell_type": "markdown",
   "id": "BMWYNK57J-F0",
   "metadata": {
    "id": "BMWYNK57J-F0"
   },
   "source": [
    "Los siguientes gráficos muestran los viajes per cápita en trasporte público durante días hábiles y no hábiles, por clasificador socioeconómico."
   ]
  },
  {
   "cell_type": "code",
   "execution_count": null,
   "id": "e36212a6",
   "metadata": {
    "colab": {
     "base_uri": "https://localhost:8080/"
    },
    "executionInfo": {
     "elapsed": 4372,
     "status": "ok",
     "timestamp": 1632098097146,
     "user": {
      "displayName": "Paula Vásquez H.",
      "photoUrl": "https://lh3.googleusercontent.com/a-/AOh14GgJUNawPfe0J41agMsUCwKAOgAzWX7zUOLCtayLFg=s64",
      "userId": "02019115936957150360"
     },
     "user_tz": 180
    },
    "id": "e36212a6",
    "outputId": "a6ec3a1e-893b-4e75-e1e0-6e530b2edfad"
   },
   "outputs": [],
   "source": [
    "print('Viajes per cápita en transporte público - Día Hábil')\n",
    "df = calculate_n_viajes_per_capita(viajes_publico_habiles, \"viajes_publico_habiles\", \"id_rango_ingresos\", [\"id_rango_ingresos\"], 'id_persona_u', 'f_exp_y', 'f_exp_x')"
   ]
  },
  {
   "cell_type": "code",
   "execution_count": null,
   "id": "XhBODUY037VT",
   "metadata": {
    "colab": {
     "base_uri": "https://localhost:8080/",
     "height": 448
    },
    "executionInfo": {
     "elapsed": 673,
     "status": "ok",
     "timestamp": 1632098118571,
     "user": {
      "displayName": "Paula Vásquez H.",
      "photoUrl": "https://lh3.googleusercontent.com/a-/AOh14GgJUNawPfe0J41agMsUCwKAOgAzWX7zUOLCtayLFg=s64",
      "userId": "02019115936957150360"
     },
     "user_tz": 180
    },
    "id": "XhBODUY037VT",
    "outputId": "397436c6-03cf-4dba-f131-9251aa041a5a"
   },
   "outputs": [],
   "source": [
    "g = sns.catplot(x=\"id_rango_ingresos\", y=\"viajes_per_capita\", \n",
    "                capsize=.2, height=4, aspect=2,\n",
    "                kind=\"point\", data=df)\n",
    "\n",
    "g.fig.suptitle('Viajes per cápita en transporte público - Día Hábil')\n",
    "g.set_ylabels('# Viajes per Cápita')\n",
    "g.set_xlabels('Rango de ingreso')\n",
    "g.set_xticklabels(rotation=90)\n",
    "g.set(ylim=(0,2.5))\n",
    "\n",
    "#fig.tight_layout()"
   ]
  },
  {
   "cell_type": "code",
   "execution_count": null,
   "id": "hZtd4kxYlgrA",
   "metadata": {
    "colab": {
     "base_uri": "https://localhost:8080/"
    },
    "executionInfo": {
     "elapsed": 891,
     "status": "ok",
     "timestamp": 1632098135293,
     "user": {
      "displayName": "Paula Vásquez H.",
      "photoUrl": "https://lh3.googleusercontent.com/a-/AOh14GgJUNawPfe0J41agMsUCwKAOgAzWX7zUOLCtayLFg=s64",
      "userId": "02019115936957150360"
     },
     "user_tz": 180
    },
    "id": "hZtd4kxYlgrA",
    "outputId": "7e317fe5-4f1a-4de1-e1fe-d76898b6b7b9"
   },
   "outputs": [],
   "source": [
    "print('Viajes per cápita en transporte público - Día No Hábil')\n",
    "df = calculate_n_viajes_per_capita(viajes_publico_nohabiles, \"viajes_publico_nohabiles\", \"id_rango_ingresos\", [\"id_rango_ingresos\"], 'id_persona_u', 'f_exp_y', 'f_exp_x')"
   ]
  },
  {
   "cell_type": "code",
   "execution_count": null,
   "id": "GjpvyiKS4Yj3",
   "metadata": {
    "colab": {
     "base_uri": "https://localhost:8080/",
     "height": 448
    },
    "executionInfo": {
     "elapsed": 696,
     "status": "ok",
     "timestamp": 1632098144120,
     "user": {
      "displayName": "Paula Vásquez H.",
      "photoUrl": "https://lh3.googleusercontent.com/a-/AOh14GgJUNawPfe0J41agMsUCwKAOgAzWX7zUOLCtayLFg=s64",
      "userId": "02019115936957150360"
     },
     "user_tz": 180
    },
    "id": "GjpvyiKS4Yj3",
    "outputId": "ff26d0b1-99c5-4a27-ca6e-5a2c386e8ded"
   },
   "outputs": [],
   "source": [
    "g = sns.catplot(x=\"id_rango_ingresos\", y=\"viajes_per_capita\", \n",
    "                capsize=.2, height=4, aspect=2,\n",
    "                kind=\"point\", data=df)\n",
    "\n",
    "g.fig.suptitle('Viajes per cápita en transporte público - Día No Hábil')\n",
    "g.set_ylabels('# Viajes per Cápita')\n",
    "g.set_xlabels('Rango de ingreso')\n",
    "g.set_xticklabels(rotation=90)\n",
    "g.set(ylim=(0,2.5))\n",
    "\n",
    "#fig.tight_layout()"
   ]
  },
  {
   "cell_type": "markdown",
   "id": "Vft9gMWgPc2B",
   "metadata": {
    "id": "Vft9gMWgPc2B"
   },
   "source": [
    "Durante días hábiles, no se ve una diferencia a través de los rangos de ingreso de viajes per cápita en transporte público. Durante días hábiles, se ve una tendencia similar con una disminución en los dos tramos con ingresos más altos."
   ]
  },
  {
   "cell_type": "markdown",
   "id": "LdiIIuIwD1Lp",
   "metadata": {
    "id": "LdiIIuIwD1Lp"
   },
   "source": [
    "#### **¿Cuál es la tasa promedio de viajes diarios en transporte privado por clasificador económico?**"
   ]
  },
  {
   "cell_type": "markdown",
   "id": "xGKiQ8ljKJ9Y",
   "metadata": {
    "id": "xGKiQ8ljKJ9Y"
   },
   "source": [
    "Los siguientes gráficos representan la tasa promedio de viajes diarios en el transporte privado durante días hábiles y no hábiles, por clasificador socioeconómico."
   ]
  },
  {
   "cell_type": "code",
   "execution_count": null,
   "id": "0f0d8f5c",
   "metadata": {
    "colab": {
     "base_uri": "https://localhost:8080/"
    },
    "executionInfo": {
     "elapsed": 8313,
     "status": "ok",
     "timestamp": 1632098169521,
     "user": {
      "displayName": "Paula Vásquez H.",
      "photoUrl": "https://lh3.googleusercontent.com/a-/AOh14GgJUNawPfe0J41agMsUCwKAOgAzWX7zUOLCtayLFg=s64",
      "userId": "02019115936957150360"
     },
     "user_tz": 180
    },
    "id": "0f0d8f5c",
    "outputId": "8e21b33e-bf4b-4bf1-87db-dfea5140a1c5"
   },
   "outputs": [],
   "source": [
    "print('Viajes per cápita en transporte privado - Día Hábil')\n",
    "df = calculate_n_viajes_per_capita(viajes_privado_habiles, \"viajes_privado_habiles\", \"id_rango_ingresos\", [\"id_rango_ingresos\"], 'id_persona_u', 'f_exp_y', 'f_exp_x')"
   ]
  },
  {
   "cell_type": "code",
   "execution_count": null,
   "id": "jBm7Cmeb4qZL",
   "metadata": {
    "colab": {
     "base_uri": "https://localhost:8080/",
     "height": 448
    },
    "executionInfo": {
     "elapsed": 548,
     "status": "ok",
     "timestamp": 1632098170056,
     "user": {
      "displayName": "Paula Vásquez H.",
      "photoUrl": "https://lh3.googleusercontent.com/a-/AOh14GgJUNawPfe0J41agMsUCwKAOgAzWX7zUOLCtayLFg=s64",
      "userId": "02019115936957150360"
     },
     "user_tz": 180
    },
    "id": "jBm7Cmeb4qZL",
    "outputId": "199d504b-7d9d-424b-8617-912b60b9d871"
   },
   "outputs": [],
   "source": [
    "g = sns.catplot(x=\"id_rango_ingresos\", y=\"viajes_per_capita\", \n",
    "                capsize=.2, height=4, aspect=2,\n",
    "                kind=\"point\", data=df)\n",
    "\n",
    "g.fig.suptitle('Viajes per cápita en transporte privado - Día Hábil')\n",
    "g.set_ylabels('# Viajes per Cápita')\n",
    "g.set_xlabels('Rango de ingreso')\n",
    "g.set_xticklabels(rotation=90)\n",
    "g.set(ylim=(0,3))\n",
    "\n",
    "#fig.tight_layout()"
   ]
  },
  {
   "cell_type": "code",
   "execution_count": null,
   "id": "7CP5E_K9mMvm",
   "metadata": {
    "colab": {
     "base_uri": "https://localhost:8080/"
    },
    "executionInfo": {
     "elapsed": 1750,
     "status": "ok",
     "timestamp": 1632098680464,
     "user": {
      "displayName": "Paula Vásquez H.",
      "photoUrl": "https://lh3.googleusercontent.com/a-/AOh14GgJUNawPfe0J41agMsUCwKAOgAzWX7zUOLCtayLFg=s64",
      "userId": "02019115936957150360"
     },
     "user_tz": 180
    },
    "id": "7CP5E_K9mMvm",
    "outputId": "370ce196-1f8f-4fde-e1be-a8235637d8ea"
   },
   "outputs": [],
   "source": [
    "print('Viajes per cápita en transporte privado - Día No Hábil')\n",
    "df = calculate_n_viajes_per_capita(viajes_privado_nohabiles, \"viajes_privado_nohabiles\", \"id_rango_ingresos\", [\"id_rango_ingresos\"], 'id_persona_u', 'f_exp_y', 'f_exp_x')"
   ]
  },
  {
   "cell_type": "code",
   "execution_count": null,
   "id": "OzFMxWWZ4xVB",
   "metadata": {
    "colab": {
     "base_uri": "https://localhost:8080/",
     "height": 448
    },
    "executionInfo": {
     "elapsed": 572,
     "status": "ok",
     "timestamp": 1632098681889,
     "user": {
      "displayName": "Paula Vásquez H.",
      "photoUrl": "https://lh3.googleusercontent.com/a-/AOh14GgJUNawPfe0J41agMsUCwKAOgAzWX7zUOLCtayLFg=s64",
      "userId": "02019115936957150360"
     },
     "user_tz": 180
    },
    "id": "OzFMxWWZ4xVB",
    "outputId": "b29544fc-341e-4b9f-c680-cc17ba53e641"
   },
   "outputs": [],
   "source": [
    "g = sns.catplot(x=\"id_rango_ingresos\", y=\"viajes_per_capita\", \n",
    "                capsize=.2, height=4, aspect=2,\n",
    "                kind=\"point\", data=df)\n",
    "\n",
    "g.fig.suptitle('Viajes per cápita en transporte privado - Día No Hábil')\n",
    "g.set_ylabels('# Viajes per Cápita')\n",
    "g.set_xlabels('Rango de ingreso')\n",
    "g.set_xticklabels(rotation=90)\n",
    "g.set(ylim=(0,3))\n",
    "\n",
    "#fig.tight_layout()"
   ]
  },
  {
   "cell_type": "markdown",
   "id": "p_5YKXkpQfO9",
   "metadata": {
    "id": "p_5YKXkpQfO9"
   },
   "source": [
    "Durante días hábiles y no hábiles, se ve que hay un aumento de viajes per cápita en transporte privado a medida que aumenta el rango de ingreso."
   ]
  },
  {
   "cell_type": "markdown",
   "id": "OP0uYMoKD5NK",
   "metadata": {
    "id": "OP0uYMoKD5NK"
   },
   "source": [
    "#### **¿Cuál es la razón entre los viajes en transporte público y privado por clasificador socioeconómico?**"
   ]
  },
  {
   "cell_type": "markdown",
   "id": "0OSWLCNqKOwL",
   "metadata": {
    "id": "0OSWLCNqKOwL"
   },
   "source": [
    "Los gráficos a continuación muestran la razón entre los viajes en transporte público y transporte privado durante días hábiles y no hábiles, por clasificador socioeconómico."
   ]
  },
  {
   "cell_type": "code",
   "execution_count": null,
   "id": "ffdf7ef0",
   "metadata": {
    "colab": {
     "base_uri": "https://localhost:8080/"
    },
    "executionInfo": {
     "elapsed": 334,
     "status": "ok",
     "timestamp": 1632098697869,
     "user": {
      "displayName": "Paula Vásquez H.",
      "photoUrl": "https://lh3.googleusercontent.com/a-/AOh14GgJUNawPfe0J41agMsUCwKAOgAzWX7zUOLCtayLFg=s64",
      "userId": "02019115936957150360"
     },
     "user_tz": 180
    },
    "id": "ffdf7ef0",
    "outputId": "99e43cd3-691b-4ad9-ef3f-81353aadd7d6"
   },
   "outputs": [],
   "source": [
    "print('Razón entre los viajes en transporte público y privado - Día Hábil')\n",
    "df = viajes_privado_habiles.groupby([\"id_rango_ingresos\"]).agg(n_viajes = ('f_exp_x', 'sum')) / viajes_publico_habiles.groupby(['id_rango_ingresos']).agg(n_viajes = ('f_exp_x', 'sum'))\n",
    "df = df.reset_index()"
   ]
  },
  {
   "cell_type": "code",
   "execution_count": null,
   "id": "pRnH0Z6n6Twi",
   "metadata": {
    "colab": {
     "base_uri": "https://localhost:8080/",
     "height": 448
    },
    "executionInfo": {
     "elapsed": 908,
     "status": "ok",
     "timestamp": 1632098703410,
     "user": {
      "displayName": "Paula Vásquez H.",
      "photoUrl": "https://lh3.googleusercontent.com/a-/AOh14GgJUNawPfe0J41agMsUCwKAOgAzWX7zUOLCtayLFg=s64",
      "userId": "02019115936957150360"
     },
     "user_tz": 180
    },
    "id": "pRnH0Z6n6Twi",
    "outputId": "3f557089-bc73-45fe-b1ca-75a7569158a0"
   },
   "outputs": [],
   "source": [
    "g = sns.catplot(x=\"id_rango_ingresos\", y=\"n_viajes\",\n",
    "                capsize=.2, height=4, aspect=2,\n",
    "                kind=\"point\", data=df)\n",
    "\n",
    "g.fig.suptitle('Razón entre los viajes en transporte público y privado - Día Hábil')\n",
    "g.set_ylabels('Proporción de viajes privados sobre públicos')\n",
    "g.set_xlabels('Rango de Ingreso')\n",
    "g.set_xticklabels(rotation=90)\n",
    "g.set(ylim=(0,4))\n",
    "\n",
    "#fig.tight_layout()"
   ]
  },
  {
   "cell_type": "code",
   "execution_count": null,
   "id": "u8YaXmD9mjdW",
   "metadata": {
    "colab": {
     "base_uri": "https://localhost:8080/"
    },
    "executionInfo": {
     "elapsed": 282,
     "status": "ok",
     "timestamp": 1632098734828,
     "user": {
      "displayName": "Paula Vásquez H.",
      "photoUrl": "https://lh3.googleusercontent.com/a-/AOh14GgJUNawPfe0J41agMsUCwKAOgAzWX7zUOLCtayLFg=s64",
      "userId": "02019115936957150360"
     },
     "user_tz": 180
    },
    "id": "u8YaXmD9mjdW",
    "outputId": "98b8bab5-30b7-4807-aee4-1bc6fafb6525"
   },
   "outputs": [],
   "source": [
    "print('Razón entre los viajes en transporte público y privado - Día No Hábil')\n",
    "df = viajes_privado_nohabiles.groupby([\"id_rango_ingresos\"]).agg(n_viajes = ('f_exp_x', 'sum')) / viajes_publico_nohabiles.groupby([\"id_rango_ingresos\"]).agg(n_viajes = ('f_exp_x', 'sum'))\n",
    "df = df.reset_index()"
   ]
  },
  {
   "cell_type": "code",
   "execution_count": null,
   "id": "9ym5TGT_7UcD",
   "metadata": {
    "colab": {
     "base_uri": "https://localhost:8080/",
     "height": 448
    },
    "executionInfo": {
     "elapsed": 917,
     "status": "ok",
     "timestamp": 1632098738541,
     "user": {
      "displayName": "Paula Vásquez H.",
      "photoUrl": "https://lh3.googleusercontent.com/a-/AOh14GgJUNawPfe0J41agMsUCwKAOgAzWX7zUOLCtayLFg=s64",
      "userId": "02019115936957150360"
     },
     "user_tz": 180
    },
    "id": "9ym5TGT_7UcD",
    "outputId": "4b75806c-35fc-43aa-fed9-ebc4dfeb0d45"
   },
   "outputs": [],
   "source": [
    "g = sns.catplot(x=\"id_rango_ingresos\", y=\"n_viajes\",\n",
    "                capsize=.2, height=4, aspect=2,\n",
    "                kind=\"point\", data=df)\n",
    "\n",
    "g.fig.suptitle('Razón entre los viajes en transporte público y privado - Día No Hábil')\n",
    "g.set_ylabels('Proporción de viajes privados sobre públicos')\n",
    "g.set_xlabels('Rango de Ingreso')\n",
    "g.set_xticklabels(rotation=90)\n",
    "g.set(ylim=(0,4))\n",
    "\n",
    "#fig.tight_layout()"
   ]
  },
  {
   "cell_type": "markdown",
   "id": "A3B8IZQ1idXP",
   "metadata": {
    "id": "A3B8IZQ1idXP"
   },
   "source": [
    "Tanto en días hábiles y no hábiles, la razón entre viajes privados sobre públicos aumenta a medida que aumenta el rango de ingreso."
   ]
  },
  {
   "cell_type": "markdown",
   "id": "DpzRAC-sD8Td",
   "metadata": {
    "id": "DpzRAC-sD8Td"
   },
   "source": [
    "#### **¿Cuál es la distribución/partición modal de los viajes por clasificador socioeconómico?**"
   ]
  },
  {
   "cell_type": "markdown",
   "id": "WuHDhiGHKSyh",
   "metadata": {
    "id": "WuHDhiGHKSyh"
   },
   "source": [
    "Las siguientes tablas y gráficos representan la partición modal de los viajes realizados en días hábiles y no hábiles, por clasificador socioeconómico."
   ]
  },
  {
   "cell_type": "code",
   "execution_count": null,
   "id": "00cf4cdc",
   "metadata": {
    "colab": {
     "base_uri": "https://localhost:8080/"
    },
    "executionInfo": {
     "elapsed": 237,
     "status": "ok",
     "timestamp": 1632098756571,
     "user": {
      "displayName": "Paula Vásquez H.",
      "photoUrl": "https://lh3.googleusercontent.com/a-/AOh14GgJUNawPfe0J41agMsUCwKAOgAzWX7zUOLCtayLFg=s64",
      "userId": "02019115936957150360"
     },
     "user_tz": 180
    },
    "id": "00cf4cdc",
    "outputId": "3f46b476-589a-4bf5-fc9e-a32b28c77def"
   },
   "outputs": [],
   "source": [
    "print('Partición Modal de los Viajes - Día Hábil')\n",
    "df = viajes_habiles.groupby([\"id_rango_ingresos\", 'modo_principal']).sum()['f_exp_x'].unstack()\n",
    "#.agg(count=('MEDIO_PREDOMINANTE','count')).unstack()\n",
    "df_norm = df.div(df.sum(axis=1), axis=0)"
   ]
  },
  {
   "cell_type": "code",
   "execution_count": null,
   "id": "6nmC8aF8A7Rv",
   "metadata": {
    "colab": {
     "base_uri": "https://localhost:8080/",
     "height": 441
    },
    "executionInfo": {
     "elapsed": 918,
     "status": "ok",
     "timestamp": 1632098788194,
     "user": {
      "displayName": "Paula Vásquez H.",
      "photoUrl": "https://lh3.googleusercontent.com/a-/AOh14GgJUNawPfe0J41agMsUCwKAOgAzWX7zUOLCtayLFg=s64",
      "userId": "02019115936957150360"
     },
     "user_tz": 180
    },
    "id": "6nmC8aF8A7Rv",
    "outputId": "04b91fe6-3f7b-4457-e429-3257085bd996"
   },
   "outputs": [],
   "source": [
    "fig, ax = plt.subplots(figsize=(8,6))\n",
    "\n",
    "ax = sns.heatmap(df_norm,linewidth=0.5)\n",
    "\n",
    "ax.set_title(\"Partición Modal de los Viajes - Día Hábil\")\n",
    "ax.set_xlabel(\"Modo de Transporte\")\n",
    "ax.set_ylabel(\"Rango de Ingreso\")\n",
    "\n",
    "fig.tight_layout()"
   ]
  },
  {
   "cell_type": "code",
   "execution_count": null,
   "id": "6cEohJXrnHiF",
   "metadata": {
    "colab": {
     "base_uri": "https://localhost:8080/"
    },
    "executionInfo": {
     "elapsed": 359,
     "status": "ok",
     "timestamp": 1632098810453,
     "user": {
      "displayName": "Paula Vásquez H.",
      "photoUrl": "https://lh3.googleusercontent.com/a-/AOh14GgJUNawPfe0J41agMsUCwKAOgAzWX7zUOLCtayLFg=s64",
      "userId": "02019115936957150360"
     },
     "user_tz": 180
    },
    "id": "6cEohJXrnHiF",
    "outputId": "85ea4b32-d960-4118-a86f-554b7f6146b2"
   },
   "outputs": [],
   "source": [
    "print('Partición Modal de los Viajes - Día No Hábil')\n",
    "df = viajes_nohabiles.groupby([\"id_rango_ingresos\", 'modo_principal']).sum()['f_exp_x'].unstack()\n",
    "#.agg(count=('MEDIO_PREDOMINANTE','count')).unstack()\n",
    "df_norm = df.div(df.sum(axis=1), axis=0)"
   ]
  },
  {
   "cell_type": "code",
   "execution_count": null,
   "id": "jnqg4BF_BMj6",
   "metadata": {
    "colab": {
     "base_uri": "https://localhost:8080/",
     "height": 441
    },
    "executionInfo": {
     "elapsed": 1075,
     "status": "ok",
     "timestamp": 1632098823980,
     "user": {
      "displayName": "Paula Vásquez H.",
      "photoUrl": "https://lh3.googleusercontent.com/a-/AOh14GgJUNawPfe0J41agMsUCwKAOgAzWX7zUOLCtayLFg=s64",
      "userId": "02019115936957150360"
     },
     "user_tz": 180
    },
    "id": "jnqg4BF_BMj6",
    "outputId": "a7e42b9b-006b-48b3-d693-84ffb47e1e18"
   },
   "outputs": [],
   "source": [
    "fig, ax = plt.subplots(figsize=(8,6))\n",
    "\n",
    "ax = sns.heatmap(df_norm,linewidth=0.5)\n",
    "\n",
    "ax.set_title(\"Partición Modal de los Viajes - Día No Hábil\")\n",
    "ax.set_xlabel(\"Modo de Transporte\")\n",
    "ax.set_ylabel(\"Rango de Ingreso\")\n",
    "\n",
    "fig.tight_layout()"
   ]
  },
  {
   "cell_type": "markdown",
   "id": "oqZagtRai1Yk",
   "metadata": {
    "id": "oqZagtRai1Yk"
   },
   "source": [
    "La distribución de modos de transporte muestra que los modos más utilizados son A pie, Auto y Transmilenio. El modo A pie aumenta a medida que disminuye el rango de ingreso, mientras que Auto aumenta con el rango de ingreso."
   ]
  },
  {
   "cell_type": "code",
   "execution_count": null,
   "id": "6e9d6644",
   "metadata": {
    "colab": {
     "base_uri": "https://localhost:8080/"
    },
    "executionInfo": {
     "elapsed": 226,
     "status": "ok",
     "timestamp": 1632098850881,
     "user": {
      "displayName": "Paula Vásquez H.",
      "photoUrl": "https://lh3.googleusercontent.com/a-/AOh14GgJUNawPfe0J41agMsUCwKAOgAzWX7zUOLCtayLFg=s64",
      "userId": "02019115936957150360"
     },
     "user_tz": 180
    },
    "id": "6e9d6644",
    "outputId": "83fbf009-a163-4a4d-8aff-6ee1d9b008b9"
   },
   "outputs": [],
   "source": [
    "print('Partición Modal de los Viajes de acuerdo al tipo de transporte - Día Hábil')\n",
    "df = viajes_habiles.groupby([\"id_rango_ingresos\", 'publico_privado']).sum()['f_exp_x'].unstack()\n",
    "df_norm = df.div(df.sum(axis=1), axis=0)"
   ]
  },
  {
   "cell_type": "code",
   "execution_count": null,
   "id": "CBK_D2daBcsK",
   "metadata": {
    "colab": {
     "base_uri": "https://localhost:8080/",
     "height": 392
    },
    "executionInfo": {
     "elapsed": 763,
     "status": "ok",
     "timestamp": 1632098910931,
     "user": {
      "displayName": "Paula Vásquez H.",
      "photoUrl": "https://lh3.googleusercontent.com/a-/AOh14GgJUNawPfe0J41agMsUCwKAOgAzWX7zUOLCtayLFg=s64",
      "userId": "02019115936957150360"
     },
     "user_tz": 180
    },
    "id": "CBK_D2daBcsK",
    "outputId": "6312a357-68e0-49ea-edbd-477140a19e73"
   },
   "outputs": [],
   "source": [
    "from aves.visualization.tables import barchart\n",
    "\n",
    "fig, ax = plt.subplots(figsize=(10,6))\n",
    "\n",
    "barchart(\n",
    "    ax, df_norm, stacked=True, normalize=False, sort_categories=True, sort_items=False\n",
    ")\n",
    "\n",
    "ax.set_title(\"Partición Modal de los Viajes de acuerdo al tipo de transporte - Día Hábil\")\n",
    "ax.set_ylim([0, 1])\n",
    "ax.set_xlabel(\"Rango de ingreso\")\n",
    "ax.set_ylabel(\"Fracción de los Viajes\")\n",
    "\n",
    "fig.tight_layout()"
   ]
  },
  {
   "cell_type": "code",
   "execution_count": null,
   "id": "8ZhPihF7nWNH",
   "metadata": {
    "colab": {
     "base_uri": "https://localhost:8080/"
    },
    "executionInfo": {
     "elapsed": 236,
     "status": "ok",
     "timestamp": 1632098920415,
     "user": {
      "displayName": "Paula Vásquez H.",
      "photoUrl": "https://lh3.googleusercontent.com/a-/AOh14GgJUNawPfe0J41agMsUCwKAOgAzWX7zUOLCtayLFg=s64",
      "userId": "02019115936957150360"
     },
     "user_tz": 180
    },
    "id": "8ZhPihF7nWNH",
    "outputId": "431a0d46-15d0-460a-c2dd-dcdef0e7f616"
   },
   "outputs": [],
   "source": [
    "print('Partición Modal de los Viajes de acuerdo al tipo de transporte - Día No Hábil')\n",
    "df = viajes_nohabiles.groupby([\"id_rango_ingresos\", 'publico_privado']).sum()['f_exp_x'].unstack()\n",
    "df_norm = df.div(df.sum(axis=1), axis=0)"
   ]
  },
  {
   "cell_type": "code",
   "execution_count": null,
   "id": "FbnB_wQ2BkFb",
   "metadata": {
    "colab": {
     "base_uri": "https://localhost:8080/",
     "height": 392
    },
    "executionInfo": {
     "elapsed": 770,
     "status": "ok",
     "timestamp": 1632098927641,
     "user": {
      "displayName": "Paula Vásquez H.",
      "photoUrl": "https://lh3.googleusercontent.com/a-/AOh14GgJUNawPfe0J41agMsUCwKAOgAzWX7zUOLCtayLFg=s64",
      "userId": "02019115936957150360"
     },
     "user_tz": 180
    },
    "id": "FbnB_wQ2BkFb",
    "outputId": "c0222b84-98e3-40f4-e837-5dcde43e5a90"
   },
   "outputs": [],
   "source": [
    "from aves.visualization.tables import barchart\n",
    "\n",
    "fig, ax = plt.subplots(figsize=(10, 6))\n",
    "\n",
    "barchart(\n",
    "    ax, df_norm, stacked=True, normalize=False, sort_categories=True, sort_items=False\n",
    ")\n",
    "\n",
    "ax.set_title(\"Partición Modal de los Viajes de acuerdo al tipo de transporte - Día No Hábil\")\n",
    "ax.set_ylim([0, 1])\n",
    "ax.set_xlabel(\"Rango de ingreso\")\n",
    "ax.set_ylabel(\"Fracción de los Viajes\")\n",
    "\n",
    "fig.tight_layout()"
   ]
  },
  {
   "cell_type": "markdown",
   "id": "94s0720XkFEw",
   "metadata": {
    "id": "94s0720XkFEw"
   },
   "source": [
    "En días hábiles, la partición por tipo de transporte no muestra diferencias a través de los rangos de ingreso, pero en días no hábiles, la fracción de viajes privados aumenta a medida que aumenta el tramo de ingreso."
   ]
  },
  {
   "cell_type": "markdown",
   "id": "IErEs2D29Kgb",
   "metadata": {
    "id": "IErEs2D29Kgb"
   },
   "source": [
    "### Parte II: Indicadores de Tiempo de Viajes\n",
    "\n",
    "En esta segunda parte, responderemos algunas preguntas respecto a indicadores de tiempo de viajes realizados, en días hábiles y no hábiles de viaje. Para esto, buscaremos responder las siguientes preguntas:\n",
    "1. ¿Cuál es el tiempo promedio de viaje por modo y tipo de transporte?\n",
    "2. ¿Cuál es el tiempo promedio de viaje en hora punta de mañana?\n",
    "3. ¿Cuál es el tiempo de viaje en transporte público en hora punta de mañana?\n",
    "4. ¿Cuál es el tiempo promedio de viaje al trabajo en transporte público?"
   ]
  },
  {
   "cell_type": "markdown",
   "id": "1Q5bBhQJMZDL",
   "metadata": {
    "id": "1Q5bBhQJMZDL"
   },
   "source": [
    "En esta sección, se presentarán los indicadores de tiempo de viajes a nivel de viajes, durante días hábiles, y por clasificador socioeconómico."
   ]
  },
  {
   "cell_type": "code",
   "execution_count": null,
   "id": "41c6dba2",
   "metadata": {
    "colab": {
     "base_uri": "https://localhost:8080/"
    },
    "executionInfo": {
     "elapsed": 237,
     "status": "ok",
     "timestamp": 1632098955803,
     "user": {
      "displayName": "Paula Vásquez H.",
      "photoUrl": "https://lh3.googleusercontent.com/a-/AOh14GgJUNawPfe0J41agMsUCwKAOgAzWX7zUOLCtayLFg=s64",
      "userId": "02019115936957150360"
     },
     "user_tz": 180
    },
    "id": "41c6dba2",
    "outputId": "7ae6a8d8-0551-4186-b39b-d583738127e6"
   },
   "outputs": [],
   "source": [
    "viajes_habiles['duracion_minutos'] = pd.to_timedelta(viajes_habiles['duracion'])/pd.Timedelta('60s')\n",
    "viajes_nohabiles['duracion_minutos'] = pd.to_timedelta(viajes_nohabiles['duracion'])/pd.Timedelta('60s')"
   ]
  },
  {
   "cell_type": "code",
   "execution_count": null,
   "id": "afa07d06",
   "metadata": {
    "id": "afa07d06"
   },
   "outputs": [],
   "source": [
    "def weighted_median(df, val, weight):\n",
    "    df_sorted = df.sort_values(val)\n",
    "    cumsum = df_sorted[weight].cumsum()\n",
    "    cutoff = df_sorted[weight].sum() / 2.\n",
    "    return df_sorted[cumsum >= cutoff][val].iloc[0]"
   ]
  },
  {
   "cell_type": "markdown",
   "id": "YiOaI3LcEFKF",
   "metadata": {
    "id": "YiOaI3LcEFKF"
   },
   "source": [
    "#### **¿Cuál es el tiempo promedio de viaje por modo y tipo de transporte?**"
   ]
  },
  {
   "cell_type": "markdown",
   "id": "JPUadiVlliP1",
   "metadata": {
    "id": "JPUadiVlliP1"
   },
   "source": [
    "A continuación, se representa el promedio y mediana en minutos de viaje por modo y tipo de transporte en días hábiles y no hábiles, por clasificador socioeconómico."
   ]
  },
  {
   "cell_type": "code",
   "execution_count": null,
   "id": "e6767485",
   "metadata": {
    "colab": {
     "base_uri": "https://localhost:8080/"
    },
    "executionInfo": {
     "elapsed": 244,
     "status": "ok",
     "timestamp": 1632098968518,
     "user": {
      "displayName": "Paula Vásquez H.",
      "photoUrl": "https://lh3.googleusercontent.com/a-/AOh14GgJUNawPfe0J41agMsUCwKAOgAzWX7zUOLCtayLFg=s64",
      "userId": "02019115936957150360"
     },
     "user_tz": 180
    },
    "id": "e6767485",
    "outputId": "00de4cb4-af47-4ed3-a51d-a42ebc42a434",
    "scrolled": true
   },
   "outputs": [],
   "source": [
    "print('Duración promedio (en minutos) de viaje por modo - Dia Hábil')\n",
    "df = viajes_habiles.groupby([\"id_rango_ingresos\", 'modo_principal']).apply(lambda x: weighted_mean(x, 'duracion_minutos', 'f_exp_x')).unstack()"
   ]
  },
  {
   "cell_type": "code",
   "execution_count": null,
   "id": "4D0fgwpbCQHZ",
   "metadata": {
    "colab": {
     "base_uri": "https://localhost:8080/",
     "height": 404
    },
    "executionInfo": {
     "elapsed": 2171,
     "status": "ok",
     "timestamp": 1632098983577,
     "user": {
      "displayName": "Paula Vásquez H.",
      "photoUrl": "https://lh3.googleusercontent.com/a-/AOh14GgJUNawPfe0J41agMsUCwKAOgAzWX7zUOLCtayLFg=s64",
      "userId": "02019115936957150360"
     },
     "user_tz": 180
    },
    "id": "4D0fgwpbCQHZ",
    "outputId": "e77e2224-122e-4b3e-8208-bc518c43febc"
   },
   "outputs": [],
   "source": [
    "fig, ax = plt.subplots(figsize=(14, 8))\n",
    "\n",
    "ax = sns.heatmap(df, annot=True)\n",
    "\n",
    "ax.set_title(\"Duración promedio de viaje por modo - Día Hábil\")\n",
    "ax.set_xlabel(\"Modo de Transporte\")\n",
    "ax.set_ylabel(\"Rango de ingreso\")\n",
    "\n",
    "fig.tight_layout()"
   ]
  },
  {
   "cell_type": "code",
   "execution_count": null,
   "id": "f83dd53b",
   "metadata": {
    "colab": {
     "base_uri": "https://localhost:8080/"
    },
    "executionInfo": {
     "elapsed": 716,
     "status": "ok",
     "timestamp": 1632098987475,
     "user": {
      "displayName": "Paula Vásquez H.",
      "photoUrl": "https://lh3.googleusercontent.com/a-/AOh14GgJUNawPfe0J41agMsUCwKAOgAzWX7zUOLCtayLFg=s64",
      "userId": "02019115936957150360"
     },
     "user_tz": 180
    },
    "id": "f83dd53b",
    "outputId": "799e4db7-7e53-4bf2-906e-878ced7f2923"
   },
   "outputs": [],
   "source": [
    "print('Duración mediana (en minutos) de viaje por modo - Dia Hábil')\n",
    "df = viajes_habiles.groupby([\"id_rango_ingresos\", 'modo_principal']).apply(lambda x: weighted_median(x, 'duracion_minutos', 'f_exp_x')).unstack()"
   ]
  },
  {
   "cell_type": "code",
   "execution_count": null,
   "id": "nyKX9RhSCXtS",
   "metadata": {
    "colab": {
     "base_uri": "https://localhost:8080/",
     "height": 404
    },
    "executionInfo": {
     "elapsed": 1668,
     "status": "ok",
     "timestamp": 1632098989140,
     "user": {
      "displayName": "Paula Vásquez H.",
      "photoUrl": "https://lh3.googleusercontent.com/a-/AOh14GgJUNawPfe0J41agMsUCwKAOgAzWX7zUOLCtayLFg=s64",
      "userId": "02019115936957150360"
     },
     "user_tz": 180
    },
    "id": "nyKX9RhSCXtS",
    "outputId": "e495a793-8758-420b-d188-4c2aef2c16e3"
   },
   "outputs": [],
   "source": [
    "fig, ax = plt.subplots(figsize=(14, 8))\n",
    "\n",
    "ax = sns.heatmap(df, annot=True)\n",
    "\n",
    "ax.set_title(\"Duración mediana de viaje por modo - Día Hábil\")\n",
    "ax.set_xlabel(\"Modo de Transporte\")\n",
    "ax.set_ylabel(\"Rango de ingreso\")\n",
    "\n",
    "fig.tight_layout()"
   ]
  },
  {
   "cell_type": "code",
   "execution_count": null,
   "id": "sDgNLzRbqm0m",
   "metadata": {
    "colab": {
     "base_uri": "https://localhost:8080/"
    },
    "executionInfo": {
     "elapsed": 232,
     "status": "ok",
     "timestamp": 1632098996587,
     "user": {
      "displayName": "Paula Vásquez H.",
      "photoUrl": "https://lh3.googleusercontent.com/a-/AOh14GgJUNawPfe0J41agMsUCwKAOgAzWX7zUOLCtayLFg=s64",
      "userId": "02019115936957150360"
     },
     "user_tz": 180
    },
    "id": "sDgNLzRbqm0m",
    "outputId": "c65e9282-3b79-457b-de1b-9816e68f66a1"
   },
   "outputs": [],
   "source": [
    "print('Duración promedio (en minutos) de viaje por modo - Dia No Hábil')\n",
    "df = viajes_nohabiles.groupby([\"id_rango_ingresos\", 'modo_principal']).apply(lambda x: weighted_mean(x, 'duracion_minutos', 'f_exp_x')).unstack()"
   ]
  },
  {
   "cell_type": "code",
   "execution_count": null,
   "id": "pweh33RBCibf",
   "metadata": {
    "colab": {
     "base_uri": "https://localhost:8080/",
     "height": 404
    },
    "executionInfo": {
     "elapsed": 1869,
     "status": "ok",
     "timestamp": 1632099003616,
     "user": {
      "displayName": "Paula Vásquez H.",
      "photoUrl": "https://lh3.googleusercontent.com/a-/AOh14GgJUNawPfe0J41agMsUCwKAOgAzWX7zUOLCtayLFg=s64",
      "userId": "02019115936957150360"
     },
     "user_tz": 180
    },
    "id": "pweh33RBCibf",
    "outputId": "a45e6c30-c89e-4b73-df07-94b0f0fa3ae2"
   },
   "outputs": [],
   "source": [
    "fig, ax = plt.subplots(figsize=(14, 8))\n",
    "\n",
    "ax = sns.heatmap(df, annot=True)\n",
    "\n",
    "ax.set_title(\"Duración promedio de viaje por modo - Día No Hábil\")\n",
    "ax.set_xlabel(\"Modo de Transporte\")\n",
    "ax.set_ylabel(\"Rango de ingreso\")\n",
    "\n",
    "fig.tight_layout()"
   ]
  },
  {
   "cell_type": "code",
   "execution_count": null,
   "id": "bde10dff",
   "metadata": {
    "colab": {
     "base_uri": "https://localhost:8080/"
    },
    "executionInfo": {
     "elapsed": 577,
     "status": "ok",
     "timestamp": 1632099121815,
     "user": {
      "displayName": "Paula Vásquez H.",
      "photoUrl": "https://lh3.googleusercontent.com/a-/AOh14GgJUNawPfe0J41agMsUCwKAOgAzWX7zUOLCtayLFg=s64",
      "userId": "02019115936957150360"
     },
     "user_tz": 180
    },
    "id": "bde10dff",
    "outputId": "58a55783-7e1c-4951-c31d-8e93fd2e775b"
   },
   "outputs": [],
   "source": [
    "print('Duración mediana (en minutos) de viaje por modo - Dia No Hábil')\n",
    "df = viajes_nohabiles.groupby([\"id_rango_ingresos\", 'modo_principal']).apply(lambda x: weighted_median(x, 'duracion_minutos', 'f_exp_x')).unstack()"
   ]
  },
  {
   "cell_type": "code",
   "execution_count": null,
   "id": "FO58obnjCmfk",
   "metadata": {
    "colab": {
     "base_uri": "https://localhost:8080/",
     "height": 404
    },
    "executionInfo": {
     "elapsed": 1671,
     "status": "ok",
     "timestamp": 1632099124581,
     "user": {
      "displayName": "Paula Vásquez H.",
      "photoUrl": "https://lh3.googleusercontent.com/a-/AOh14GgJUNawPfe0J41agMsUCwKAOgAzWX7zUOLCtayLFg=s64",
      "userId": "02019115936957150360"
     },
     "user_tz": 180
    },
    "id": "FO58obnjCmfk",
    "outputId": "b55483c9-0ae0-4c05-f2fc-9bc2b3e2712d"
   },
   "outputs": [],
   "source": [
    "fig, ax = plt.subplots(figsize=(14, 8))\n",
    "\n",
    "ax = sns.heatmap(df, annot=True)\n",
    "\n",
    "ax.set_title(\"Duración mediana de viaje por modo - Día No Hábil\")\n",
    "ax.set_xlabel(\"Modo de Transporte\")\n",
    "ax.set_ylabel(\"Rango de ingreso\")\n",
    "\n",
    "fig.tight_layout()"
   ]
  },
  {
   "cell_type": "markdown",
   "id": "WXIgYP2rkh6V",
   "metadata": {
    "id": "WXIgYP2rkh6V"
   },
   "source": [
    "En días hábiles, los modos de transporte con viajes de mayor duración corresponden a los realizados en SITP Provisional, SIPT Zonal y Transmilenio, mientras que los viajes más cortos son los realizados a pie. En días no hábiles, los viajes más largos son los realizados en modo Intermunicipal."
   ]
  },
  {
   "cell_type": "code",
   "execution_count": null,
   "id": "244e1141",
   "metadata": {
    "colab": {
     "base_uri": "https://localhost:8080/"
    },
    "executionInfo": {
     "elapsed": 264,
     "status": "ok",
     "timestamp": 1632099370587,
     "user": {
      "displayName": "Paula Vásquez H.",
      "photoUrl": "https://lh3.googleusercontent.com/a-/AOh14GgJUNawPfe0J41agMsUCwKAOgAzWX7zUOLCtayLFg=s64",
      "userId": "02019115936957150360"
     },
     "user_tz": 180
    },
    "id": "244e1141",
    "outputId": "f709952b-d75f-4dda-cc32-3820579a3c46"
   },
   "outputs": [],
   "source": [
    "print('Duración promedio (en minutos) de viaje por tipo de transporte - Dia Hábil')\n",
    "df = viajes_habiles.groupby([\"id_rango_ingresos\", 'publico_privado']).apply(lambda x: weighted_mean(x, 'duracion_minutos', 'f_exp_x')).unstack()"
   ]
  },
  {
   "cell_type": "code",
   "execution_count": null,
   "id": "ZmR6X7dYCwcB",
   "metadata": {
    "colab": {
     "base_uri": "https://localhost:8080/",
     "height": 369
    },
    "executionInfo": {
     "elapsed": 978,
     "status": "ok",
     "timestamp": 1632099371943,
     "user": {
      "displayName": "Paula Vásquez H.",
      "photoUrl": "https://lh3.googleusercontent.com/a-/AOh14GgJUNawPfe0J41agMsUCwKAOgAzWX7zUOLCtayLFg=s64",
      "userId": "02019115936957150360"
     },
     "user_tz": 180
    },
    "id": "ZmR6X7dYCwcB",
    "outputId": "73eecab5-b342-4578-b585-e9cb78d0841c"
   },
   "outputs": [],
   "source": [
    "fig, ax = plt.subplots(figsize=(7,5))\n",
    "\n",
    "ax = sns.heatmap(df, annot=True)\n",
    "\n",
    "ax.set_title(\"Duración promedio de viaje por tipo de transporte - Día Hábil\")\n",
    "ax.set_xlabel(\"Tipo de Transporte\")\n",
    "ax.set_ylabel(\"Rango de ingreso\")\n",
    "\n",
    "fig.tight_layout()"
   ]
  },
  {
   "cell_type": "code",
   "execution_count": null,
   "id": "20f38c4c",
   "metadata": {
    "colab": {
     "base_uri": "https://localhost:8080/"
    },
    "executionInfo": {
     "elapsed": 11,
     "status": "ok",
     "timestamp": 1632099371944,
     "user": {
      "displayName": "Paula Vásquez H.",
      "photoUrl": "https://lh3.googleusercontent.com/a-/AOh14GgJUNawPfe0J41agMsUCwKAOgAzWX7zUOLCtayLFg=s64",
      "userId": "02019115936957150360"
     },
     "user_tz": 180
    },
    "id": "20f38c4c",
    "outputId": "3cd288ee-c9b0-403b-ba6e-c28ca6aad364"
   },
   "outputs": [],
   "source": [
    "print('Duración mediana (en minutos) de viaje por tipo de transporte - Dia Hábil')\n",
    "df = viajes_habiles.groupby([\"id_rango_ingresos\", 'publico_privado']).apply(lambda x: weighted_median(x, 'duracion_minutos', 'f_exp_x')).unstack()"
   ]
  },
  {
   "cell_type": "code",
   "execution_count": null,
   "id": "yW07vxYXC-Y6",
   "metadata": {
    "colab": {
     "base_uri": "https://localhost:8080/",
     "height": 369
    },
    "executionInfo": {
     "elapsed": 837,
     "status": "ok",
     "timestamp": 1632099373085,
     "user": {
      "displayName": "Paula Vásquez H.",
      "photoUrl": "https://lh3.googleusercontent.com/a-/AOh14GgJUNawPfe0J41agMsUCwKAOgAzWX7zUOLCtayLFg=s64",
      "userId": "02019115936957150360"
     },
     "user_tz": 180
    },
    "id": "yW07vxYXC-Y6",
    "outputId": "bbdacb70-0f19-4518-c2b5-ca7da5c68b2f"
   },
   "outputs": [],
   "source": [
    "fig, ax = plt.subplots(figsize=(7,5))\n",
    "\n",
    "ax = sns.heatmap(df, annot=True)\n",
    "\n",
    "ax.set_title(\"Duración mediana de viaje por tipo de transporte - Día Hábil\")\n",
    "ax.set_xlabel(\"Tipo de Transporte\")\n",
    "ax.set_ylabel(\"Rango de ingreso\")\n",
    "\n",
    "fig.tight_layout()"
   ]
  },
  {
   "cell_type": "code",
   "execution_count": null,
   "id": "frA8yimJsUfm",
   "metadata": {
    "colab": {
     "base_uri": "https://localhost:8080/"
    },
    "executionInfo": {
     "elapsed": 15,
     "status": "ok",
     "timestamp": 1632099373086,
     "user": {
      "displayName": "Paula Vásquez H.",
      "photoUrl": "https://lh3.googleusercontent.com/a-/AOh14GgJUNawPfe0J41agMsUCwKAOgAzWX7zUOLCtayLFg=s64",
      "userId": "02019115936957150360"
     },
     "user_tz": 180
    },
    "id": "frA8yimJsUfm",
    "outputId": "61fa3185-1fe1-47de-9ec5-8b538296f54a"
   },
   "outputs": [],
   "source": [
    "print('Duración promedio (en minutos) de viaje por tipo de transporte - Dia Hábil')\n",
    "df = viajes_habiles.groupby([\"id_rango_ingresos\", 'motorizado']).apply(lambda x: weighted_mean(x, 'duracion_minutos', 'f_exp_x')).unstack()"
   ]
  },
  {
   "cell_type": "code",
   "execution_count": null,
   "id": "UngbM7SIsaJE",
   "metadata": {
    "colab": {
     "base_uri": "https://localhost:8080/",
     "height": 369
    },
    "executionInfo": {
     "elapsed": 1024,
     "status": "ok",
     "timestamp": 1632099374536,
     "user": {
      "displayName": "Paula Vásquez H.",
      "photoUrl": "https://lh3.googleusercontent.com/a-/AOh14GgJUNawPfe0J41agMsUCwKAOgAzWX7zUOLCtayLFg=s64",
      "userId": "02019115936957150360"
     },
     "user_tz": 180
    },
    "id": "UngbM7SIsaJE",
    "outputId": "bb7cdddc-a743-460e-d385-e21a870c0252"
   },
   "outputs": [],
   "source": [
    "fig, ax = plt.subplots(figsize=(7, 5))\n",
    "\n",
    "ax = sns.heatmap(df, annot=True)\n",
    "\n",
    "ax.set_title(\"Duración media de viaje por tipo de transporte - Día Hábil\")\n",
    "ax.set_xlabel(\"Tipo de Transporte\")\n",
    "ax.set_ylabel(\"Rango de ingreso\")\n",
    "\n",
    "fig.tight_layout()"
   ]
  },
  {
   "cell_type": "code",
   "execution_count": null,
   "id": "oJ1gJ2lStF5c",
   "metadata": {
    "colab": {
     "base_uri": "https://localhost:8080/"
    },
    "executionInfo": {
     "elapsed": 686,
     "status": "ok",
     "timestamp": 1632099408415,
     "user": {
      "displayName": "Paula Vásquez H.",
      "photoUrl": "https://lh3.googleusercontent.com/a-/AOh14GgJUNawPfe0J41agMsUCwKAOgAzWX7zUOLCtayLFg=s64",
      "userId": "02019115936957150360"
     },
     "user_tz": 180
    },
    "id": "oJ1gJ2lStF5c",
    "outputId": "ec6a1c61-3bef-40c9-d262-ff81f41bf560"
   },
   "outputs": [],
   "source": [
    "print('Duración promedio (en minutos) de viaje por tipo de transporte - Dia Hábil')\n",
    "df = viajes_habiles.groupby([\"id_rango_ingresos\", 'motorizado']).apply(lambda x: weighted_median(x, 'duracion_minutos', 'f_exp_x')).unstack()"
   ]
  },
  {
   "cell_type": "code",
   "execution_count": null,
   "id": "v9IFdpbctIaO",
   "metadata": {
    "colab": {
     "base_uri": "https://localhost:8080/",
     "height": 369
    },
    "executionInfo": {
     "elapsed": 908,
     "status": "ok",
     "timestamp": 1632099410456,
     "user": {
      "displayName": "Paula Vásquez H.",
      "photoUrl": "https://lh3.googleusercontent.com/a-/AOh14GgJUNawPfe0J41agMsUCwKAOgAzWX7zUOLCtayLFg=s64",
      "userId": "02019115936957150360"
     },
     "user_tz": 180
    },
    "id": "v9IFdpbctIaO",
    "outputId": "a2c06cce-2bcf-44f7-f550-c11ad5148db4"
   },
   "outputs": [],
   "source": [
    "fig, ax = plt.subplots(figsize=(7, 5))\n",
    "\n",
    "ax = sns.heatmap(df, annot=True)\n",
    "\n",
    "ax.set_title(\"Duración mediana de viaje por tipo de transporte - Día Hábil\")\n",
    "ax.set_xlabel(\"Tipo de Transporte\")\n",
    "ax.set_ylabel(\"Rango de ingreso\")\n",
    "\n",
    "fig.tight_layout()"
   ]
  },
  {
   "cell_type": "markdown",
   "id": "V19BSxLLmi1A",
   "metadata": {
    "id": "V19BSxLLmi1A"
   },
   "source": [
    "El transporte público tiene mayores duraciones de viaje que el viaje privado, y no tiene diferencia a través de los tramos, solo en el tramo más bajo de ingreso, donde la duración de los viajes es mayor en el transporte público."
   ]
  },
  {
   "cell_type": "markdown",
   "id": "OfYcuglVEYrN",
   "metadata": {
    "id": "OfYcuglVEYrN"
   },
   "source": [
    "#### **¿Cuál es el tiempo promedio de viaje en hora punta de mañana?**"
   ]
  },
  {
   "cell_type": "markdown",
   "id": "hR_JMUepuZ-P",
   "metadata": {
    "id": "hR_JMUepuZ-P"
   },
   "source": [
    "Estos son los resultados para el promedio y mediana en minutos de viaje en hora punta de la mañana por modo de transporte, en días hábiles y no hábiles, por clasificador socioeconómico."
   ]
  },
  {
   "cell_type": "code",
   "execution_count": null,
   "id": "c3ddfb82",
   "metadata": {
    "colab": {
     "base_uri": "https://localhost:8080/"
    },
    "executionInfo": {
     "elapsed": 318,
     "status": "ok",
     "timestamp": 1632099428330,
     "user": {
      "displayName": "Paula Vásquez H.",
      "photoUrl": "https://lh3.googleusercontent.com/a-/AOh14GgJUNawPfe0J41agMsUCwKAOgAzWX7zUOLCtayLFg=s64",
      "userId": "02019115936957150360"
     },
     "user_tz": 180
    },
    "id": "c3ddfb82",
    "outputId": "3b305ea6-0312-4b12-fdf0-ff03a0a7892f"
   },
   "outputs": [],
   "source": [
    "print('Duración promedio (en minutos) de viaje por modo en hora punta - Dia Hábil')\n",
    "df = viajes_habiles[viajes_habiles.PICO_HABIL=='Si'].groupby(['id_rango_ingresos', 'modo_principal']).apply(lambda x: weighted_mean(x, 'duracion_minutos', 'f_exp_x')).unstack()"
   ]
  },
  {
   "cell_type": "code",
   "execution_count": null,
   "id": "ysH0ydRcD5Jy",
   "metadata": {
    "colab": {
     "base_uri": "https://localhost:8080/",
     "height": 404
    },
    "executionInfo": {
     "elapsed": 2101,
     "status": "ok",
     "timestamp": 1632099434699,
     "user": {
      "displayName": "Paula Vásquez H.",
      "photoUrl": "https://lh3.googleusercontent.com/a-/AOh14GgJUNawPfe0J41agMsUCwKAOgAzWX7zUOLCtayLFg=s64",
      "userId": "02019115936957150360"
     },
     "user_tz": 180
    },
    "id": "ysH0ydRcD5Jy",
    "outputId": "8f7c5ecf-7dab-4ba8-f19d-21b807b66bad"
   },
   "outputs": [],
   "source": [
    "fig, ax = plt.subplots(figsize=(14, 8))\n",
    "\n",
    "ax = sns.heatmap(df, annot=True)\n",
    "\n",
    "ax.set_title(\"Duración promedio de viaje hora punta mañana por modo - Día Hábil\")\n",
    "ax.set_xlabel(\"Modo de Transporte\")\n",
    "ax.set_ylabel(\"Rango de Ingreso\")\n",
    "\n",
    "fig.tight_layout()"
   ]
  },
  {
   "cell_type": "code",
   "execution_count": null,
   "id": "6d4a10bb",
   "metadata": {
    "colab": {
     "base_uri": "https://localhost:8080/"
    },
    "executionInfo": {
     "elapsed": 589,
     "status": "ok",
     "timestamp": 1632099443692,
     "user": {
      "displayName": "Paula Vásquez H.",
      "photoUrl": "https://lh3.googleusercontent.com/a-/AOh14GgJUNawPfe0J41agMsUCwKAOgAzWX7zUOLCtayLFg=s64",
      "userId": "02019115936957150360"
     },
     "user_tz": 180
    },
    "id": "6d4a10bb",
    "outputId": "e2dfea95-5ece-4ec2-b5fc-bb9e199467c6"
   },
   "outputs": [],
   "source": [
    "print('Duración mediana (en minutos) de viaje por modo en hora punta - Dia Hábil')\n",
    "df = viajes_habiles[viajes_habiles.PICO_HABIL=='Si'].groupby(['id_rango_ingresos', 'modo_principal']).apply(lambda x: weighted_median(x, 'duracion_minutos', 'f_exp_x')).unstack()"
   ]
  },
  {
   "cell_type": "code",
   "execution_count": null,
   "id": "dXeqRrtlEPUt",
   "metadata": {
    "colab": {
     "base_uri": "https://localhost:8080/",
     "height": 404
    },
    "executionInfo": {
     "elapsed": 1859,
     "status": "ok",
     "timestamp": 1632099448518,
     "user": {
      "displayName": "Paula Vásquez H.",
      "photoUrl": "https://lh3.googleusercontent.com/a-/AOh14GgJUNawPfe0J41agMsUCwKAOgAzWX7zUOLCtayLFg=s64",
      "userId": "02019115936957150360"
     },
     "user_tz": 180
    },
    "id": "dXeqRrtlEPUt",
    "outputId": "64d944cb-87ae-43e1-cc2b-3880b97c8f38"
   },
   "outputs": [],
   "source": [
    "fig, ax = plt.subplots(figsize=(14, 8))\n",
    "\n",
    "ax = sns.heatmap(df, annot=True)\n",
    "\n",
    "ax.set_title(\"Duración mediana de viaje hora punta mañana por modo - Día Hábil\")\n",
    "ax.set_xlabel(\"Modo de Transporte\")\n",
    "ax.set_ylabel(\"Rango de Ingreso\")\n",
    "\n",
    "fig.tight_layout()"
   ]
  },
  {
   "cell_type": "code",
   "execution_count": null,
   "id": "R7CfA0YDtg37",
   "metadata": {
    "colab": {
     "base_uri": "https://localhost:8080/"
    },
    "executionInfo": {
     "elapsed": 383,
     "status": "ok",
     "timestamp": 1632099455642,
     "user": {
      "displayName": "Paula Vásquez H.",
      "photoUrl": "https://lh3.googleusercontent.com/a-/AOh14GgJUNawPfe0J41agMsUCwKAOgAzWX7zUOLCtayLFg=s64",
      "userId": "02019115936957150360"
     },
     "user_tz": 180
    },
    "id": "R7CfA0YDtg37",
    "outputId": "1dfc882c-7b97-41fe-dbe2-8988825693a5"
   },
   "outputs": [],
   "source": [
    "print('Duración promedio (en minutos) de viaje por modo en hora punta - Dia No Hábil')\n",
    "df = viajes_nohabiles[viajes_nohabiles.PICO_NOHABIL=='Si'].groupby(['id_rango_ingresos', 'modo_principal']).apply(lambda x: weighted_mean(x, 'duracion_minutos', 'f_exp_x')).unstack()"
   ]
  },
  {
   "cell_type": "code",
   "execution_count": null,
   "id": "1fcx_RqPEprk",
   "metadata": {
    "colab": {
     "base_uri": "https://localhost:8080/",
     "height": 404
    },
    "executionInfo": {
     "elapsed": 1684,
     "status": "ok",
     "timestamp": 1632099461528,
     "user": {
      "displayName": "Paula Vásquez H.",
      "photoUrl": "https://lh3.googleusercontent.com/a-/AOh14GgJUNawPfe0J41agMsUCwKAOgAzWX7zUOLCtayLFg=s64",
      "userId": "02019115936957150360"
     },
     "user_tz": 180
    },
    "id": "1fcx_RqPEprk",
    "outputId": "b91982a1-1234-4178-e6d4-b1c9da14160f"
   },
   "outputs": [],
   "source": [
    "fig, ax = plt.subplots(figsize=(14, 8))\n",
    "\n",
    "ax = sns.heatmap(df, annot=True)\n",
    "\n",
    "ax.set_title(\"Duración promedio de viaje hora punta mañana por modo - Día No Hábil\")\n",
    "ax.set_xlabel(\"Modo de Transporte\")\n",
    "ax.set_ylabel(\"Rango de Ingreso\")\n",
    "\n",
    "fig.tight_layout()"
   ]
  },
  {
   "cell_type": "code",
   "execution_count": null,
   "id": "xNrv0WuGF2pK",
   "metadata": {
    "colab": {
     "base_uri": "https://localhost:8080/"
    },
    "executionInfo": {
     "elapsed": 710,
     "status": "ok",
     "timestamp": 1632099479976,
     "user": {
      "displayName": "Paula Vásquez H.",
      "photoUrl": "https://lh3.googleusercontent.com/a-/AOh14GgJUNawPfe0J41agMsUCwKAOgAzWX7zUOLCtayLFg=s64",
      "userId": "02019115936957150360"
     },
     "user_tz": 180
    },
    "id": "xNrv0WuGF2pK",
    "outputId": "4b7ce19b-cdde-422d-d611-ed8ce4443d63"
   },
   "outputs": [],
   "source": [
    "print('Duración mediana (en minutos) de viaje por modo en hora punta - Dia No Hábil')\n",
    "df = viajes_nohabiles[viajes_nohabiles.PICO_NOHABIL=='Si'].groupby(['id_rango_ingresos', 'modo_principal']).apply(lambda x: weighted_median(x, 'duracion_minutos', 'f_exp_x')).unstack()"
   ]
  },
  {
   "cell_type": "code",
   "execution_count": null,
   "id": "OkCjpfTbF9Xq",
   "metadata": {
    "colab": {
     "base_uri": "https://localhost:8080/",
     "height": 404
    },
    "executionInfo": {
     "elapsed": 1642,
     "status": "ok",
     "timestamp": 1632099488228,
     "user": {
      "displayName": "Paula Vásquez H.",
      "photoUrl": "https://lh3.googleusercontent.com/a-/AOh14GgJUNawPfe0J41agMsUCwKAOgAzWX7zUOLCtayLFg=s64",
      "userId": "02019115936957150360"
     },
     "user_tz": 180
    },
    "id": "OkCjpfTbF9Xq",
    "outputId": "bd635864-7f41-4549-d189-e3262cbef0bf"
   },
   "outputs": [],
   "source": [
    "fig, ax = plt.subplots(figsize=(14, 8))\n",
    "\n",
    "ax = sns.heatmap(df, annot=True)\n",
    "\n",
    "ax.set_title(\"Duración mediana de viaje hora punta mañana por modo - Día No Hábil\")\n",
    "ax.set_xlabel(\"Modo de Transporte\")\n",
    "ax.set_ylabel(\"Rango de Ingreso\")\n",
    "\n",
    "fig.tight_layout()"
   ]
  },
  {
   "cell_type": "markdown",
   "id": "VCB7XQyBnGN0",
   "metadata": {
    "id": "VCB7XQyBnGN0"
   },
   "source": [
    "Independiente del día, los viajes con mayores tiempos promedio de viaje en hora punta de mañana corresponden a los realizados en los modos Intermunicipal, SITP Provisional, SITP Zonal y TransMilenio, y los viajes más cortos corresponden a los hechos A Pie."
   ]
  },
  {
   "cell_type": "code",
   "execution_count": null,
   "id": "1eab253c",
   "metadata": {
    "colab": {
     "base_uri": "https://localhost:8080/"
    },
    "executionInfo": {
     "elapsed": 221,
     "status": "ok",
     "timestamp": 1632099508785,
     "user": {
      "displayName": "Paula Vásquez H.",
      "photoUrl": "https://lh3.googleusercontent.com/a-/AOh14GgJUNawPfe0J41agMsUCwKAOgAzWX7zUOLCtayLFg=s64",
      "userId": "02019115936957150360"
     },
     "user_tz": 180
    },
    "id": "1eab253c",
    "outputId": "71ec2f11-2f00-48c6-ae8a-e242126a8990"
   },
   "outputs": [],
   "source": [
    "print('Duración promedio (en minutos) de viaje por tipo de transporte en hora punta - Dia Hábil')\n",
    "df = viajes_habiles[(viajes_habiles.PICO_HABIL=='Si')].groupby(['id_rango_ingresos','publico_privado']).apply(lambda x: weighted_mean(x, 'duracion_minutos', 'f_exp_x')).unstack()"
   ]
  },
  {
   "cell_type": "code",
   "execution_count": null,
   "id": "J7IGoaTwEThi",
   "metadata": {
    "colab": {
     "base_uri": "https://localhost:8080/",
     "height": 369
    },
    "executionInfo": {
     "elapsed": 949,
     "status": "ok",
     "timestamp": 1632099544549,
     "user": {
      "displayName": "Paula Vásquez H.",
      "photoUrl": "https://lh3.googleusercontent.com/a-/AOh14GgJUNawPfe0J41agMsUCwKAOgAzWX7zUOLCtayLFg=s64",
      "userId": "02019115936957150360"
     },
     "user_tz": 180
    },
    "id": "J7IGoaTwEThi",
    "outputId": "55e1d911-d013-4d83-f561-64b643b5ac01"
   },
   "outputs": [],
   "source": [
    "fig, ax = plt.subplots(figsize=(7,5))\n",
    "\n",
    "ax = sns.heatmap(df, annot=True)\n",
    "\n",
    "ax.set_title(\"Duración promedio de viaje hora punta mañana por modo - Día Hábil\")\n",
    "ax.set_xlabel(\"Tipo de Transporte\")\n",
    "ax.set_ylabel(\"Rango de Ingreso\")\n",
    "\n",
    "fig.tight_layout()"
   ]
  },
  {
   "cell_type": "code",
   "execution_count": null,
   "id": "be68ae71",
   "metadata": {
    "colab": {
     "base_uri": "https://localhost:8080/"
    },
    "executionInfo": {
     "elapsed": 244,
     "status": "ok",
     "timestamp": 1632099550472,
     "user": {
      "displayName": "Paula Vásquez H.",
      "photoUrl": "https://lh3.googleusercontent.com/a-/AOh14GgJUNawPfe0J41agMsUCwKAOgAzWX7zUOLCtayLFg=s64",
      "userId": "02019115936957150360"
     },
     "user_tz": 180
    },
    "id": "be68ae71",
    "outputId": "4c69fa10-14d6-4f45-c8b1-30b01ff9f2f7"
   },
   "outputs": [],
   "source": [
    "print('Duración mediana (en minutos) de viaje por tipo de transporte en hora punta - Dia Hábil')\n",
    "df = viajes_habiles[(viajes_habiles.PICO_HABIL=='Si')].groupby(['id_rango_ingresos','publico_privado']).apply(lambda x: weighted_median(x, 'duracion_minutos', 'f_exp_x')).unstack()"
   ]
  },
  {
   "cell_type": "code",
   "execution_count": null,
   "id": "naJ2TYi7FGIA",
   "metadata": {
    "colab": {
     "base_uri": "https://localhost:8080/",
     "height": 369
    },
    "executionInfo": {
     "elapsed": 1064,
     "status": "ok",
     "timestamp": 1632099559601,
     "user": {
      "displayName": "Paula Vásquez H.",
      "photoUrl": "https://lh3.googleusercontent.com/a-/AOh14GgJUNawPfe0J41agMsUCwKAOgAzWX7zUOLCtayLFg=s64",
      "userId": "02019115936957150360"
     },
     "user_tz": 180
    },
    "id": "naJ2TYi7FGIA",
    "outputId": "9486c257-afd2-40da-8b5b-72999c162491"
   },
   "outputs": [],
   "source": [
    "fig, ax = plt.subplots(figsize=(7,5))\n",
    "\n",
    "ax = sns.heatmap(df, annot=True)\n",
    "\n",
    "ax.set_title(\"Duración mediana de viaje hora punta mañana por tipo de transporte - Día Hábil\")\n",
    "ax.set_xlabel(\"Tipo de Transporte\")\n",
    "ax.set_ylabel(\"Rango de Ingreso\")\n",
    "\n",
    "fig.tight_layout()"
   ]
  },
  {
   "cell_type": "code",
   "execution_count": null,
   "id": "uRpSmCVjuBvm",
   "metadata": {
    "colab": {
     "base_uri": "https://localhost:8080/"
    },
    "executionInfo": {
     "elapsed": 226,
     "status": "ok",
     "timestamp": 1632099655927,
     "user": {
      "displayName": "Paula Vásquez H.",
      "photoUrl": "https://lh3.googleusercontent.com/a-/AOh14GgJUNawPfe0J41agMsUCwKAOgAzWX7zUOLCtayLFg=s64",
      "userId": "02019115936957150360"
     },
     "user_tz": 180
    },
    "id": "uRpSmCVjuBvm",
    "outputId": "5aa1cb08-87d3-42d0-9815-52541bdbe8c1"
   },
   "outputs": [],
   "source": [
    "print('Duración promedio (en minutos) de viaje por tipo de transporte en hora punta - Dia Hábil')\n",
    "df = viajes_habiles[(viajes_habiles.PICO_HABIL=='Si')].groupby(['id_rango_ingresos','motorizado']).apply(lambda x: weighted_mean(x, 'duracion_minutos', 'f_exp_x')).unstack()"
   ]
  },
  {
   "cell_type": "code",
   "execution_count": null,
   "id": "oGZpgxFpuIbS",
   "metadata": {
    "colab": {
     "base_uri": "https://localhost:8080/",
     "height": 369
    },
    "executionInfo": {
     "elapsed": 829,
     "status": "ok",
     "timestamp": 1632099668660,
     "user": {
      "displayName": "Paula Vásquez H.",
      "photoUrl": "https://lh3.googleusercontent.com/a-/AOh14GgJUNawPfe0J41agMsUCwKAOgAzWX7zUOLCtayLFg=s64",
      "userId": "02019115936957150360"
     },
     "user_tz": 180
    },
    "id": "oGZpgxFpuIbS",
    "outputId": "a35ebaf4-5a09-41d8-e872-e35dc9d27a71"
   },
   "outputs": [],
   "source": [
    "fig, ax = plt.subplots(figsize=(7,5))\n",
    "\n",
    "ax = sns.heatmap(df, annot=True)\n",
    "\n",
    "ax.set_title(\"Duración promedio de viaje hora punta mañana por modo - Día Hábil\")\n",
    "ax.set_xlabel(\"Tipo de Transporte\")\n",
    "ax.set_ylabel(\"Rango de Ingreso\")\n",
    "\n",
    "fig.tight_layout()"
   ]
  },
  {
   "cell_type": "code",
   "execution_count": null,
   "id": "vIlllxbJuNOa",
   "metadata": {
    "colab": {
     "base_uri": "https://localhost:8080/"
    },
    "executionInfo": {
     "elapsed": 256,
     "status": "ok",
     "timestamp": 1632099693526,
     "user": {
      "displayName": "Paula Vásquez H.",
      "photoUrl": "https://lh3.googleusercontent.com/a-/AOh14GgJUNawPfe0J41agMsUCwKAOgAzWX7zUOLCtayLFg=s64",
      "userId": "02019115936957150360"
     },
     "user_tz": 180
    },
    "id": "vIlllxbJuNOa",
    "outputId": "314a74dd-267c-4dd7-c04f-6ab8c6471ff8"
   },
   "outputs": [],
   "source": [
    "print('Duración mediana (en minutos) de viaje por tipo de transporte en hora punta - Dia Hábil')\n",
    "df = viajes_habiles[(viajes_habiles.PICO_HABIL=='Si')].groupby(['id_rango_ingresos','motorizado']).apply(lambda x: weighted_median(x, 'duracion_minutos', 'f_exp_x')).unstack()"
   ]
  },
  {
   "cell_type": "code",
   "execution_count": null,
   "id": "O8ZbrbMTuSXI",
   "metadata": {
    "colab": {
     "base_uri": "https://localhost:8080/",
     "height": 369
    },
    "executionInfo": {
     "elapsed": 954,
     "status": "ok",
     "timestamp": 1632099709352,
     "user": {
      "displayName": "Paula Vásquez H.",
      "photoUrl": "https://lh3.googleusercontent.com/a-/AOh14GgJUNawPfe0J41agMsUCwKAOgAzWX7zUOLCtayLFg=s64",
      "userId": "02019115936957150360"
     },
     "user_tz": 180
    },
    "id": "O8ZbrbMTuSXI",
    "outputId": "7d970390-1499-49ee-b12f-eaf6da1fe52d"
   },
   "outputs": [],
   "source": [
    "fig, ax = plt.subplots(figsize=(7,5))\n",
    "\n",
    "ax = sns.heatmap(df, annot=True)\n",
    "\n",
    "ax.set_title(\"Duración mediana de viaje hora punta mañana por tipo de transporte - Día Hábil\")\n",
    "ax.set_xlabel(\"Tipo de Transporte\")\n",
    "ax.set_ylabel(\"Rango de Ingreso\")\n",
    "\n",
    "fig.tight_layout()"
   ]
  },
  {
   "cell_type": "markdown",
   "id": "23slkqunoGxX",
   "metadata": {
    "id": "23slkqunoGxX"
   },
   "source": [
    "Para ambos días, la duración de los viajes realizados en hora punta de mañana es mayor en el transporte público que en el transporte privado, con duraciones similares a lo largo de los rangos de ingreso."
   ]
  },
  {
   "cell_type": "markdown",
   "id": "Z6V7kcZQndyG",
   "metadata": {
    "id": "Z6V7kcZQndyG"
   },
   "source": [
    "#### **¿Cuál es el tiempo de viaje en transporte público en hora punta de mañana?**"
   ]
  },
  {
   "cell_type": "markdown",
   "id": "xiaDKcWnnj24",
   "metadata": {
    "id": "xiaDKcWnnj24"
   },
   "source": [
    "A continuación, se presentan los resultados para duración promedio de viaje en hora punta de mañana en transporte público, en días hábiles y no hábiles, por clasificador socioeconómico."
   ]
  },
  {
   "cell_type": "code",
   "execution_count": null,
   "id": "WRXkIrxXnk0-",
   "metadata": {
    "colab": {
     "base_uri": "https://localhost:8080/"
    },
    "executionInfo": {
     "elapsed": 443,
     "status": "ok",
     "timestamp": 1632099720613,
     "user": {
      "displayName": "Paula Vásquez H.",
      "photoUrl": "https://lh3.googleusercontent.com/a-/AOh14GgJUNawPfe0J41agMsUCwKAOgAzWX7zUOLCtayLFg=s64",
      "userId": "02019115936957150360"
     },
     "user_tz": 180
    },
    "id": "WRXkIrxXnk0-",
    "outputId": "fbf5f094-08e9-4911-b5b2-d4b7d63cd96d"
   },
   "outputs": [],
   "source": [
    "print('Duración promedio (en minutos) de viaje hora punta en transporte público - Dia Hábil')\n",
    "mask = (viajes_habiles.publico_privado=='Público')\n",
    "df = viajes_habiles[(viajes_habiles.PICO_HABIL=='Si')][mask].groupby(['id_rango_ingresos', 'modo_principal']).apply(lambda x: weighted_mean(x, 'duracion_minutos', 'f_exp_x')).unstack()"
   ]
  },
  {
   "cell_type": "code",
   "execution_count": null,
   "id": "-sHUD0oYoJVO",
   "metadata": {
    "colab": {
     "base_uri": "https://localhost:8080/",
     "height": 543
    },
    "executionInfo": {
     "elapsed": 1172,
     "status": "ok",
     "timestamp": 1632099730487,
     "user": {
      "displayName": "Paula Vásquez H.",
      "photoUrl": "https://lh3.googleusercontent.com/a-/AOh14GgJUNawPfe0J41agMsUCwKAOgAzWX7zUOLCtayLFg=s64",
      "userId": "02019115936957150360"
     },
     "user_tz": 180
    },
    "id": "-sHUD0oYoJVO",
    "outputId": "7eccbfbf-9076-42cd-8923-a9bc92715ba3"
   },
   "outputs": [],
   "source": [
    "fig, ax = plt.subplots(figsize=(10, 8))\n",
    "\n",
    "ax = sns.heatmap(df, annot=True)\n",
    "\n",
    "ax.set_title(\"Duración promedio (en minutos) de viaje hora punta en transporte público - Dia Hábil\")\n",
    "ax.set_xlabel(\"Modo de Transporte\")\n",
    "ax.set_ylabel(\"Rango de Ingreso\")\n",
    "\n",
    "fig.tight_layout()"
   ]
  },
  {
   "cell_type": "code",
   "execution_count": null,
   "id": "RoHFfknqoC1p",
   "metadata": {
    "colab": {
     "base_uri": "https://localhost:8080/"
    },
    "executionInfo": {
     "elapsed": 225,
     "status": "ok",
     "timestamp": 1632099737389,
     "user": {
      "displayName": "Paula Vásquez H.",
      "photoUrl": "https://lh3.googleusercontent.com/a-/AOh14GgJUNawPfe0J41agMsUCwKAOgAzWX7zUOLCtayLFg=s64",
      "userId": "02019115936957150360"
     },
     "user_tz": 180
    },
    "id": "RoHFfknqoC1p",
    "outputId": "c4dfcedf-930e-41b6-c725-5c082d27738d"
   },
   "outputs": [],
   "source": [
    "print('Duración mediana (en minutos) de viaje al trabajo en transporte público - Dia Hábil')\n",
    "mask = (viajes_habiles.publico_privado=='Público')\n",
    "df = viajes_habiles[(viajes_habiles.PICO_HABIL=='Si')][mask].groupby(['id_rango_ingresos','modo_principal']).apply(lambda x: weighted_median(x, 'duracion_minutos', 'f_exp_x')).unstack()"
   ]
  },
  {
   "cell_type": "code",
   "execution_count": null,
   "id": "z92Cf5rxoClG",
   "metadata": {
    "colab": {
     "base_uri": "https://localhost:8080/",
     "height": 543
    },
    "executionInfo": {
     "elapsed": 2073,
     "status": "ok",
     "timestamp": 1632099743061,
     "user": {
      "displayName": "Paula Vásquez H.",
      "photoUrl": "https://lh3.googleusercontent.com/a-/AOh14GgJUNawPfe0J41agMsUCwKAOgAzWX7zUOLCtayLFg=s64",
      "userId": "02019115936957150360"
     },
     "user_tz": 180
    },
    "id": "z92Cf5rxoClG",
    "outputId": "865b51b9-ae02-4fa0-b776-0b2a9252e03c"
   },
   "outputs": [],
   "source": [
    "fig, ax = plt.subplots(figsize=(10, 8))\n",
    "\n",
    "ax = sns.heatmap(df, annot=True)\n",
    "\n",
    "ax.set_title(\"Duración mediana (en minutos) de viaje hora punta en transporte público - Dia Hábil\")\n",
    "ax.set_xlabel(\"Modo de Transporte\")\n",
    "ax.set_ylabel(\"Rango de Ingreso\")\n",
    "\n",
    "fig.tight_layout()"
   ]
  },
  {
   "cell_type": "markdown",
   "id": "0jxEVJCYsG_s",
   "metadata": {
    "id": "0jxEVJCYsG_s"
   },
   "source": [
    "En días hábiles, el modo de transporte público con mayor duración de viajes es el Intermunicipal, mientras que el Transporte público individual presenta las menores duraciones de viaje."
   ]
  },
  {
   "cell_type": "markdown",
   "id": "pb9PORd0EfJj",
   "metadata": {
    "id": "pb9PORd0EfJj"
   },
   "source": [
    "#### **¿Cuál es el tiempo promedio de viaje al trabajo en transporte público?**"
   ]
  },
  {
   "cell_type": "markdown",
   "id": "lwkztkTNQ1aT",
   "metadata": {
    "id": "lwkztkTNQ1aT"
   },
   "source": [
    "A continuación, se presentan los resultados de tiempo promedio de viaje al trabajo en transporte público por modo en días hábiles y no hábiles, por clasificador socioeconómico."
   ]
  },
  {
   "cell_type": "code",
   "execution_count": null,
   "id": "437706df",
   "metadata": {
    "colab": {
     "base_uri": "https://localhost:8080/"
    },
    "executionInfo": {
     "elapsed": 233,
     "status": "ok",
     "timestamp": 1632099771043,
     "user": {
      "displayName": "Paula Vásquez H.",
      "photoUrl": "https://lh3.googleusercontent.com/a-/AOh14GgJUNawPfe0J41agMsUCwKAOgAzWX7zUOLCtayLFg=s64",
      "userId": "02019115936957150360"
     },
     "user_tz": 180
    },
    "id": "437706df",
    "outputId": "50c7662c-6dfe-4cbe-9202-20e84d00f169"
   },
   "outputs": [],
   "source": [
    "print('Duración promedio (en minutos) de viaje al trabajo en transporte público - Dia Hábil')\n",
    "mask = (viajes_habiles.publico_privado=='Público') & (viajes_habiles.p17_Id_motivo_viaje=='Trabajar')\n",
    "df = viajes_habiles[mask].groupby(['id_rango_ingresos', 'modo_principal']).apply(lambda x: weighted_mean(x, 'duracion_minutos', 'f_exp_x')).unstack()"
   ]
  },
  {
   "cell_type": "code",
   "execution_count": null,
   "id": "rOrta_l7H1GO",
   "metadata": {
    "colab": {
     "base_uri": "https://localhost:8080/",
     "height": 543
    },
    "executionInfo": {
     "elapsed": 1201,
     "status": "ok",
     "timestamp": 1632099783155,
     "user": {
      "displayName": "Paula Vásquez H.",
      "photoUrl": "https://lh3.googleusercontent.com/a-/AOh14GgJUNawPfe0J41agMsUCwKAOgAzWX7zUOLCtayLFg=s64",
      "userId": "02019115936957150360"
     },
     "user_tz": 180
    },
    "id": "rOrta_l7H1GO",
    "outputId": "965f8d61-9c9c-486f-9d94-9b339c9a93a8"
   },
   "outputs": [],
   "source": [
    "fig, ax = plt.subplots(figsize=(10, 8))\n",
    "\n",
    "ax = sns.heatmap(df, annot=True)\n",
    "\n",
    "ax.set_title(\"Duración promedio (en minutos) de viaje al trabajo en transporte público - Dia Hábil\")\n",
    "ax.set_xlabel(\"Modo de Transporte\")\n",
    "ax.set_ylabel(\"Rango de Ingreso\")\n",
    "\n",
    "fig.tight_layout()"
   ]
  },
  {
   "cell_type": "code",
   "execution_count": null,
   "id": "bckDbVvZIWNd",
   "metadata": {
    "colab": {
     "base_uri": "https://localhost:8080/"
    },
    "executionInfo": {
     "elapsed": 369,
     "status": "ok",
     "timestamp": 1632099788282,
     "user": {
      "displayName": "Paula Vásquez H.",
      "photoUrl": "https://lh3.googleusercontent.com/a-/AOh14GgJUNawPfe0J41agMsUCwKAOgAzWX7zUOLCtayLFg=s64",
      "userId": "02019115936957150360"
     },
     "user_tz": 180
    },
    "id": "bckDbVvZIWNd",
    "outputId": "d82e6388-9bcf-467c-a71d-248e7a6c40ed"
   },
   "outputs": [],
   "source": [
    "print('Duración mediana (en minutos) de viaje al trabajo en transporte público - Dia Hábil')\n",
    "mask = (viajes_habiles.publico_privado=='Público') & (viajes_habiles.p17_Id_motivo_viaje=='Trabajar')\n",
    "df = viajes_habiles[mask].groupby(['id_rango_ingresos', 'modo_principal']).apply(lambda x: weighted_median(x, 'duracion_minutos', 'f_exp_x')).unstack()"
   ]
  },
  {
   "cell_type": "code",
   "execution_count": null,
   "id": "1JcX4avEIY-E",
   "metadata": {
    "colab": {
     "base_uri": "https://localhost:8080/",
     "height": 543
    },
    "executionInfo": {
     "elapsed": 1422,
     "status": "ok",
     "timestamp": 1632099795214,
     "user": {
      "displayName": "Paula Vásquez H.",
      "photoUrl": "https://lh3.googleusercontent.com/a-/AOh14GgJUNawPfe0J41agMsUCwKAOgAzWX7zUOLCtayLFg=s64",
      "userId": "02019115936957150360"
     },
     "user_tz": 180
    },
    "id": "1JcX4avEIY-E",
    "outputId": "81545499-a1b3-4402-8e93-000f7c871ccd"
   },
   "outputs": [],
   "source": [
    "fig, ax = plt.subplots(figsize=(10, 8))\n",
    "\n",
    "ax = sns.heatmap(df, annot=True)\n",
    "\n",
    "ax.set_title(\"Duración mediana (en minutos) de viaje al trabajo en transporte público - Dia Hábil\")\n",
    "ax.set_xlabel(\"Modo de Transporte\")\n",
    "ax.set_ylabel(\"Rango de Ingreso\")\n",
    "\n",
    "fig.tight_layout()"
   ]
  },
  {
   "cell_type": "markdown",
   "id": "tueCjfWpshVm",
   "metadata": {
    "id": "tueCjfWpshVm"
   },
   "source": [
    "En días hábiles, los viajes al trabajo en transporte público con mayor duración corresponden al Transmilenio transversalmente."
   ]
  },
  {
   "cell_type": "markdown",
   "id": "dadc64ab",
   "metadata": {
    "id": "dadc64ab"
   },
   "source": [
    "### Parte III: Indicadores de Distancia de Viajes\n"
   ]
  },
  {
   "cell_type": "markdown",
   "id": "rM9ZhvCRnadN",
   "metadata": {
    "id": "rM9ZhvCRnadN"
   },
   "source": [
    "En esta sección, se presentarán los indicadores de distancia de viajes durante días hábiles."
   ]
  },
  {
   "cell_type": "markdown",
   "id": "IdM9y-kCu-j_",
   "metadata": {
    "id": "IdM9y-kCu-j_"
   },
   "source": [
    "#### **Distancia de viajes en auto (histograma de viajes por km)**"
   ]
  },
  {
   "cell_type": "code",
   "execution_count": null,
   "id": "dd41bae7",
   "metadata": {
    "id": "dd41bae7"
   },
   "outputs": [],
   "source": [
    "from matplotlib.pyplot import hist"
   ]
  },
  {
   "cell_type": "code",
   "execution_count": null,
   "id": "88138694",
   "metadata": {
    "colab": {
     "base_uri": "https://localhost:8080/",
     "height": 285
    },
    "executionInfo": {
     "elapsed": 33401,
     "status": "ok",
     "timestamp": 1632099891651,
     "user": {
      "displayName": "Paula Vásquez H.",
      "photoUrl": "https://lh3.googleusercontent.com/a-/AOh14GgJUNawPfe0J41agMsUCwKAOgAzWX7zUOLCtayLFg=s64",
      "userId": "02019115936957150360"
     },
     "user_tz": 180
    },
    "id": "88138694",
    "outputId": "ad1420f1-a8d1-485b-8c7e-e39db79bd589"
   },
   "outputs": [],
   "source": [
    "print('Distancia de viajes en auto - Día Hábil')\n",
    "mask = (viajes_habiles.modo_principal == 'Auto') \n",
    "df = viajes_habiles[mask].groupby('distancia_manhattan').sum()[['f_exp_x']].reset_index().sort_values('distancia_manhattan')\n",
    "hist(df.distancia_manhattan, weights=df.f_exp_x, bins=50)\n",
    "plt.axvline(viajes_habiles[mask].groupby('id_viaje_u').apply(lambda x: weighted_mean(x, 'distancia_manhattan', 'f_exp_x')).mean(), color='green', linestyle='dashed', linewidth=1)\n",
    "plt.axvline(viajes_habiles[mask].groupby('id_viaje_u').apply(lambda x: weighted_median(x, 'distancia_manhattan', 'f_exp_x')).median(), color='red', linestyle='dashed', linewidth=1)\n",
    "sns.despine()\n",
    "#Verde Promedio\n",
    "#Rojo Mediana"
   ]
  },
  {
   "cell_type": "code",
   "execution_count": null,
   "id": "cdYBKXLMvrMQ",
   "metadata": {
    "colab": {
     "base_uri": "https://localhost:8080/",
     "height": 282
    },
    "executionInfo": {
     "elapsed": 6661,
     "status": "ok",
     "timestamp": 1632099940256,
     "user": {
      "displayName": "Paula Vásquez H.",
      "photoUrl": "https://lh3.googleusercontent.com/a-/AOh14GgJUNawPfe0J41agMsUCwKAOgAzWX7zUOLCtayLFg=s64",
      "userId": "02019115936957150360"
     },
     "user_tz": 180
    },
    "id": "cdYBKXLMvrMQ",
    "outputId": "cef5b2ce-88a2-4610-e0da-8aa1a550c7eb"
   },
   "outputs": [],
   "source": [
    "print('Distancia de viajes en auto - Día No Hábil')\n",
    "mask = (viajes_nohabiles.modo_principal == 'Auto')\n",
    "df = viajes_nohabiles[mask].groupby('distancia_manhattan').sum()[['f_exp_x']].reset_index().sort_values('distancia_manhattan')\n",
    "hist(df.distancia_manhattan, weights=df.f_exp_x, bins=50)\n",
    "plt.axvline(viajes_nohabiles[mask].groupby('id_viaje_u').apply(lambda x: weighted_mean(x, 'distancia_manhattan', 'f_exp_x')).mean(), color='green', linestyle='dashed', linewidth=1)\n",
    "plt.axvline(viajes_nohabiles[mask].groupby('id_viaje_u').apply(lambda x: weighted_median(x, 'distancia_manhattan', 'f_exp_x')).median(), color='red', linestyle='dashed', linewidth=1)\n",
    "sns.despine()\n",
    "#Verde Promedio\n",
    "#Rojo Mediana"
   ]
  },
  {
   "cell_type": "markdown",
   "id": "2-lBeEH-vYc_",
   "metadata": {
    "id": "2-lBeEH-vYc_"
   },
   "source": [
    "#### **Distancia de viajes en transporte público**"
   ]
  },
  {
   "cell_type": "code",
   "execution_count": null,
   "id": "04c47cb1",
   "metadata": {
    "colab": {
     "base_uri": "https://localhost:8080/",
     "height": 282
    },
    "executionInfo": {
     "elapsed": 74568,
     "status": "ok",
     "timestamp": 1632100015598,
     "user": {
      "displayName": "Paula Vásquez H.",
      "photoUrl": "https://lh3.googleusercontent.com/a-/AOh14GgJUNawPfe0J41agMsUCwKAOgAzWX7zUOLCtayLFg=s64",
      "userId": "02019115936957150360"
     },
     "user_tz": 180
    },
    "id": "04c47cb1",
    "outputId": "19bf798f-1b0b-4f8f-d8d6-6fbf4ca4ab24"
   },
   "outputs": [],
   "source": [
    "print('Distancia de viajes en transporte público - Día Hábil')\n",
    "mask = (viajes_habiles.publico_privado == 'Público')\n",
    "df = viajes_habiles[mask].groupby('distancia_manhattan').sum()[['f_exp_x']].reset_index().sort_values('distancia_manhattan')\n",
    "hist(df.distancia_manhattan, weights=df.f_exp_x, bins=50)\n",
    "plt.axvline(viajes_habiles[mask].groupby('id_viaje_u').apply(lambda x: weighted_mean(x, 'distancia_manhattan', 'f_exp_x')).mean(), color='green', linestyle='dashed', linewidth=1)\n",
    "plt.axvline(viajes_habiles[mask].groupby('id_viaje_u').apply(lambda x: weighted_median(x, 'distancia_manhattan', 'f_exp_x')).median(), color='red', linestyle='dashed', linewidth=1)\n",
    "sns.despine()\n",
    "#Verde Promedio\n",
    "#Rojo Mediana"
   ]
  },
  {
   "cell_type": "code",
   "execution_count": null,
   "id": "y3H9Mpwy9S-J",
   "metadata": {
    "colab": {
     "base_uri": "https://localhost:8080/",
     "height": 282
    },
    "executionInfo": {
     "elapsed": 14920,
     "status": "ok",
     "timestamp": 1632100031683,
     "user": {
      "displayName": "Paula Vásquez H.",
      "photoUrl": "https://lh3.googleusercontent.com/a-/AOh14GgJUNawPfe0J41agMsUCwKAOgAzWX7zUOLCtayLFg=s64",
      "userId": "02019115936957150360"
     },
     "user_tz": 180
    },
    "id": "y3H9Mpwy9S-J",
    "outputId": "5ce7256d-53e1-433c-eca5-b1f22b0e0d2b"
   },
   "outputs": [],
   "source": [
    "print('Distancia de viajes en transporte público - Día No Hábil')\n",
    "mask = (viajes_nohabiles.publico_privado == 'Público')\n",
    "df = viajes_nohabiles[mask].groupby('distancia_manhattan').sum()[['f_exp_x']].reset_index().sort_values('distancia_manhattan')\n",
    "hist(df.distancia_manhattan, weights=df.f_exp_x, bins=50)\n",
    "plt.axvline(viajes_nohabiles[mask].groupby('id_viaje_u').apply(lambda x: weighted_mean(x, 'distancia_manhattan', 'f_exp_x')).mean(), color='green', linestyle='dashed', linewidth=1)\n",
    "plt.axvline(viajes_nohabiles[mask].groupby('id_viaje_u').apply(lambda x: weighted_median(x, 'distancia_manhattan', 'f_exp_x')).median(), color='red', linestyle='dashed', linewidth=1)\n",
    "sns.despine()\n",
    "#Verde Promedio\n",
    "#Rojo Mediana"
   ]
  },
  {
   "cell_type": "markdown",
   "id": "PfffZ7ZZ-soo",
   "metadata": {
    "id": "PfffZ7ZZ-soo"
   },
   "source": [
    "#### **Distancia de viajes por motivo estudio**"
   ]
  },
  {
   "cell_type": "code",
   "execution_count": null,
   "id": "6f9adcbd",
   "metadata": {
    "colab": {
     "base_uri": "https://localhost:8080/",
     "height": 282
    },
    "executionInfo": {
     "elapsed": 28471,
     "status": "ok",
     "timestamp": 1632100108134,
     "user": {
      "displayName": "Paula Vásquez H.",
      "photoUrl": "https://lh3.googleusercontent.com/a-/AOh14GgJUNawPfe0J41agMsUCwKAOgAzWX7zUOLCtayLFg=s64",
      "userId": "02019115936957150360"
     },
     "user_tz": 180
    },
    "id": "6f9adcbd",
    "outputId": "aad4c714-ef21-4262-fc2f-f47d3baec808"
   },
   "outputs": [],
   "source": [
    "print('Distancia de viajes con motivo de estudio')\n",
    "mask = (viajes_personas.p17_Id_motivo_viaje == 'Estudiar')\n",
    "df = viajes_personas[mask].groupby('distancia_manhattan').sum()[['f_exp_x']].reset_index().sort_values('distancia_manhattan')\n",
    "hist(df.distancia_manhattan, weights=df.f_exp_x, bins=50)\n",
    "plt.axvline(viajes_personas[mask].groupby('id_viaje_u').apply(lambda x: weighted_mean(x, 'distancia_manhattan', 'f_exp_x')).mean(), color='green', linestyle='dashed', linewidth=1)\n",
    "plt.axvline(viajes_personas[mask].groupby('id_viaje_u').apply(lambda x: weighted_median(x, 'distancia_manhattan', 'f_exp_x')).median(), color='red', linestyle='dashed', linewidth=1)\n",
    "sns.despine()\n",
    "#Verde Promedio\n",
    "#Rojo Mediana"
   ]
  },
  {
   "cell_type": "markdown",
   "id": "-jJrOlEl-uLU",
   "metadata": {
    "id": "-jJrOlEl-uLU"
   },
   "source": [
    "#### **Distancia de viajes por motivo trabajo**"
   ]
  },
  {
   "cell_type": "code",
   "execution_count": null,
   "id": "ea9d8109",
   "metadata": {
    "colab": {
     "base_uri": "https://localhost:8080/",
     "height": 282
    },
    "executionInfo": {
     "elapsed": 50872,
     "status": "ok",
     "timestamp": 1632100186478,
     "user": {
      "displayName": "Paula Vásquez H.",
      "photoUrl": "https://lh3.googleusercontent.com/a-/AOh14GgJUNawPfe0J41agMsUCwKAOgAzWX7zUOLCtayLFg=s64",
      "userId": "02019115936957150360"
     },
     "user_tz": 180
    },
    "id": "ea9d8109",
    "outputId": "ea994391-4f1e-442f-9f8d-3795e194b91e"
   },
   "outputs": [],
   "source": [
    "print('Distancia de viajes con motivo de trabajo')\n",
    "mask = (viajes_personas.p17_Id_motivo_viaje == 'Trabajar')\n",
    "df = viajes_personas[mask].groupby('distancia_manhattan').sum()[['f_exp_x']].reset_index().sort_values('distancia_manhattan')\n",
    "hist(df.distancia_manhattan, weights=df.f_exp_x, bins=50)\n",
    "plt.axvline(viajes_personas[mask].groupby('id_viaje_u').apply(lambda x: weighted_mean(x, 'distancia_manhattan', 'f_exp_x')).mean(), color='green', linestyle='dashed', linewidth=1)\n",
    "plt.axvline(viajes_personas[mask].groupby('id_viaje_u').apply(lambda x: weighted_median(x, 'distancia_manhattan', 'f_exp_x')).median(), color='red', linestyle='dashed', linewidth=1)\n",
    "sns.despine()\n",
    "#Verde Promedio\n",
    "#Rojo Mediana"
   ]
  },
  {
   "cell_type": "markdown",
   "id": "isY_bo3Y-xRh",
   "metadata": {
    "id": "isY_bo3Y-xRh"
   },
   "source": [
    "#### **Viajes intra vs interzonales**"
   ]
  },
  {
   "cell_type": "code",
   "execution_count": null,
   "id": "9d567b6e",
   "metadata": {
    "colab": {
     "base_uri": "https://localhost:8080/",
     "height": 593
    },
    "executionInfo": {
     "elapsed": 20,
     "status": "ok",
     "timestamp": 1629758870760,
     "user": {
      "displayName": "Paula Vásquez H.",
      "photoUrl": "https://lh3.googleusercontent.com/a-/AOh14GgJUNawPfe0J41agMsUCwKAOgAzWX7zUOLCtayLFg=s64",
      "userId": "02019115936957150360"
     },
     "user_tz": 240
    },
    "id": "9d567b6e",
    "outputId": "b70ffcb4-bc39-45c9-b0df-76829778fe38"
   },
   "outputs": [],
   "source": [
    "print('% de viajes Inter e Intra zonales')\n",
    "df = viajes_personas.groupby(['p17_Id_motivo_viaje','Intra_Inter']).sum()['f_exp_x'].unstack()\n",
    "df.div(df.sum(axis=1), axis=0)"
   ]
  },
  {
   "cell_type": "markdown",
   "id": "gnH6tvmtwFwQ",
   "metadata": {
    "id": "gnH6tvmtwFwQ"
   },
   "source": [
    "¿Dónde se concentran las personas que utilizan cada modo de transporte en la ciudad para distintos propósitos?"
   ]
  },
  {
   "cell_type": "code",
   "execution_count": null,
   "id": "zMN4n2Eswpif",
   "metadata": {
    "colab": {
     "base_uri": "https://localhost:8080/",
     "height": 117
    },
    "executionInfo": {
     "elapsed": 818,
     "status": "ok",
     "timestamp": 1635821046198,
     "user": {
      "displayName": "Paula Vásquez H.",
      "photoUrl": "https://lh3.googleusercontent.com/a-/AOh14GgJUNawPfe0J41agMsUCwKAOgAzWX7zUOLCtayLFg=s64",
      "userId": "02019115936957150360"
     },
     "user_tz": 180
    },
    "id": "zMN4n2Eswpif",
    "outputId": "7bac90ee-8906-400f-fc70-fcf440818f44"
   },
   "outputs": [],
   "source": [
    "viajes_personas['ID_ENCUESTA'] = viajes_personas['id_hogar'].astype('str') + viajes_personas['id_persona'].astype('str') + viajes_personas['id_viaje'].astype('str')\n",
    "viajes_personas.head(1)"
   ]
  },
  {
   "cell_type": "code",
   "execution_count": null,
   "id": "44f12a97",
   "metadata": {
    "colab": {
     "base_uri": "https://localhost:8080/"
    },
    "executionInfo": {
     "elapsed": 727,
     "status": "ok",
     "timestamp": 1635821080539,
     "user": {
      "displayName": "Paula Vásquez H.",
      "photoUrl": "https://lh3.googleusercontent.com/a-/AOh14GgJUNawPfe0J41agMsUCwKAOgAzWX7zUOLCtayLFg=s64",
      "userId": "02019115936957150360"
     },
     "user_tz": 180
    },
    "id": "44f12a97",
    "outputId": "cf9e42c0-3002-48e6-ee70-b1f080c475b6"
   },
   "outputs": [],
   "source": [
    "from aves.features.geo import clip_area_geodataframe\n",
    "bbox = [-74.4189,4.3612,-73.8201,5.0477]\n",
    "\n",
    "zonas_en_caja = clip_area_geodataframe(city_shp.to_crs('epsg:4686'), bbox)\n",
    "#zonas_en_caja.plot()"
   ]
  },
  {
   "cell_type": "code",
   "execution_count": null,
   "id": "e1f2c3f9",
   "metadata": {
    "id": "e1f2c3f9"
   },
   "outputs": [],
   "source": [
    "bounds = zonas_en_caja.to_crs('EPSG:4686').total_bounds"
   ]
  },
  {
   "cell_type": "code",
   "execution_count": null,
   "id": "UQfdUjbqwLJ0",
   "metadata": {
    "id": "UQfdUjbqwLJ0"
   },
   "outputs": [],
   "source": [
    "import contextily as cx\n",
    "\n",
    "scl_img, scl_ext = cx.bounds2raster(bounds[0], bounds[1], bounds[2], bounds[3], \n",
    "    \"bogota_toner_12.tif\",\n",
    "    ll=True,\n",
    "    source=cx.providers.Stamen.TonerBackground,\n",
    "    zoom=12,\n",
    ")"
   ]
  },
  {
   "cell_type": "code",
   "execution_count": null,
   "id": "veuXhRuAwM4m",
   "metadata": {
    "id": "veuXhRuAwM4m"
   },
   "outputs": [],
   "source": [
    "from aves.features.geo import to_point_geodataframe"
   ]
  },
  {
   "cell_type": "code",
   "execution_count": null,
   "id": "9hH8B6ttwQQR",
   "metadata": {
    "id": "9hH8B6ttwQQR"
   },
   "outputs": [],
   "source": [
    "origenes_viajes = to_point_geodataframe(viajes_personas, 'LONGITUD_ORIGEN' , 'LATITUD_ORIGEN', crs='epsg:4686')\n",
    "destinos_viajes = to_point_geodataframe(viajes_personas, 'LONGITUD_DESTINO', 'LATITUD_DESTINO', crs='epsg:4686')"
   ]
  },
  {
   "cell_type": "code",
   "execution_count": null,
   "id": "jR5Vep6FwSRK",
   "metadata": {
    "id": "jR5Vep6FwSRK"
   },
   "outputs": [],
   "source": [
    "city_shp = city_shp.to_crs(origenes_viajes.crs)"
   ]
  },
  {
   "cell_type": "code",
   "execution_count": null,
   "id": "jh8DOr87wZZW",
   "metadata": {
    "id": "jh8DOr87wZZW"
   },
   "outputs": [],
   "source": [
    "from aves.features.geo import clip_point_geodataframe\n",
    "\n",
    "origenes_viajes = origenes_viajes[(origenes_viajes['ID_ENCUESTA'].isin(destinos_viajes['ID_ENCUESTA']))]\n",
    "origenes_viajes = clip_point_geodataframe(origenes_viajes, zonas_en_caja.total_bounds)\n",
    "destinos_viajes = destinos_viajes[(destinos_viajes['ID_ENCUESTA'].isin(origenes_viajes['ID_ENCUESTA']))]\n",
    "destinos_viajes = clip_point_geodataframe(destinos_viajes, zonas_en_caja.total_bounds)"
   ]
  },
  {
   "cell_type": "code",
   "execution_count": null,
   "id": "Wq7iTyqwxiPq",
   "metadata": {
    "colab": {
     "base_uri": "https://localhost:8080/"
    },
    "executionInfo": {
     "elapsed": 407,
     "status": "ok",
     "timestamp": 1632100883154,
     "user": {
      "displayName": "Paula Vásquez H.",
      "photoUrl": "https://lh3.googleusercontent.com/a-/AOh14GgJUNawPfe0J41agMsUCwKAOgAzWX7zUOLCtayLFg=s64",
      "userId": "02019115936957150360"
     },
     "user_tz": 180
    },
    "id": "Wq7iTyqwxiPq",
    "outputId": "3c7329b2-e0a2-4732-8260-f791c157660f"
   },
   "outputs": [],
   "source": [
    "origenes_viajes.zat_origen.unique()"
   ]
  },
  {
   "cell_type": "code",
   "execution_count": null,
   "id": "klu3yPdTxZ7h",
   "metadata": {
    "colab": {
     "base_uri": "https://localhost:8080/",
     "height": 427
    },
    "executionInfo": {
     "elapsed": 14397,
     "status": "ok",
     "timestamp": 1632100977564,
     "user": {
      "displayName": "Paula Vásquez H.",
      "photoUrl": "https://lh3.googleusercontent.com/a-/AOh14GgJUNawPfe0J41agMsUCwKAOgAzWX7zUOLCtayLFg=s64",
      "userId": "02019115936957150360"
     },
     "user_tz": 180
    },
    "id": "klu3yPdTxZ7h",
    "outputId": "d447c8b1-5d4d-4175-a230-484cc35f1107"
   },
   "outputs": [],
   "source": [
    "from aves.visualization.figures import GeoFacetGrid\n",
    "\n",
    "from aves.visualization.maps import heat_map\n",
    "\n",
    "grid = GeoFacetGrid(\n",
    "    origenes_viajes,\n",
    "    context=zonas_en_caja,\n",
    "    row=\"p17_Id_motivo_viaje\",\n",
    "    col=\"modo_principal\",\n",
    "    row_order=[\"Trabajar\", \"Estudiar\"],\n",
    "    col_order=[\"A pie\", \"Auto\", \"TransMilenio\", 'SITP Zonal'],\n",
    "    height=6,\n",
    "    hue=\"modo_principal\"\n",
    ")\n",
    "grid.add_basemap(\"bogota_toner_12.tif\")\n",
    "#grid.add_layer(city_shp_filt, color=\"#efefef\", edgecolor=\"white\", linewidth=1)\n",
    "\n",
    "grid.add_layer(\n",
    "    heat_map,\n",
    "    # atributo de los datos con la importancia o peso de cada viaje\n",
    "    weight=\"f_exp_x\",\n",
    "    # cantidad de niveles/colores del mapa de calor\n",
    "    n_levels=10,\n",
    "    # radio de influencia de cada viaje\n",
    "    bandwidth=0.005,\n",
    "    # valor de corte para los valores bajos del heatmap\n",
    "    low_threshold=0.075,\n",
    "    # transparencia\n",
    "    alpha=0.75,\n",
    "    # paleta de colores\n",
    "    palette=\"inferno\"\n",
    ")\n",
    "\n",
    "grid.add_global_colorbar('inferno', 10, title='Intensidad de Viajes (de menos a más)', orientation='horizontal')\n",
    "#grid.set_title(\"Viajes a trabajar y a estudiar de acuerdo al modo de transporte\")\n",
    "grid.fig.tight_layout()"
   ]
  },
  {
   "cell_type": "code",
   "execution_count": null,
   "id": "EoYie5KCx2C2",
   "metadata": {
    "colab": {
     "base_uri": "https://localhost:8080/",
     "height": 250
    },
    "executionInfo": {
     "elapsed": 9232,
     "status": "ok",
     "timestamp": 1632101094107,
     "user": {
      "displayName": "Paula Vásquez H.",
      "photoUrl": "https://lh3.googleusercontent.com/a-/AOh14GgJUNawPfe0J41agMsUCwKAOgAzWX7zUOLCtayLFg=s64",
      "userId": "02019115936957150360"
     },
     "user_tz": 180
    },
    "id": "EoYie5KCx2C2",
    "outputId": "0f3cc27a-db96-44c2-f0dd-e9d1308f5476"
   },
   "outputs": [],
   "source": [
    "grid = GeoFacetGrid(\n",
    "    destinos_viajes[destinos_viajes.p17_Id_motivo_viaje=='Volver a casa'],\n",
    "    context=zonas_en_caja,\n",
    "    col=\"modo_principal\",\n",
    "    #col_wrap=3,\n",
    "    row_order=[\"Volver a casa\"],\n",
    "    col_order=[\"A pie\", \"Auto\", \"TransMilenio\", 'SITP Zonal'],\n",
    "    height=5,\n",
    "    hue=\"modo_principal\"\n",
    ")\n",
    "grid.add_basemap(\"bogota_toner_12.tif\")\n",
    "#grid.add_layer(city_shp_filt, color=\"#efefef\", edgecolor=\"white\", linewidth=1, alpha=0.5)\n",
    "\n",
    "grid.add_layer(\n",
    "    heat_map,\n",
    "    # atributo de los datos con la importancia o peso de cada viaje\n",
    "    weight=\"f_exp_x\",\n",
    "    # cantidad de niveles/colores del mapa de calor\n",
    "    n_levels=10,\n",
    "    # radio de influencia de cada viaje\n",
    "    bandwidth=0.005,\n",
    "    # valor de corte para los valores bajos del heatmap\n",
    "    low_threshold=0.075,\n",
    "    # transparencia\n",
    "    alpha=0.75,\n",
    "    # paleta de colores\n",
    "    palette=\"inferno\"\n",
    ")\n",
    "grid.add_global_colorbar('inferno', 10, title='Intensidad de Viajes (de menos a más)', orientation='horizontal')\n",
    "grid.set_title(\"Viajes de vuelta a casa en Bogotá\")\n",
    "grid.fig.tight_layout()"
   ]
  },
  {
   "cell_type": "markdown",
   "id": "HhI7oMRHzvyf",
   "metadata": {
    "id": "HhI7oMRHzvyf"
   },
   "source": [
    "¿Cuán lejos queda el trabajo de acuerdo al lugar de residencia?"
   ]
  },
  {
   "cell_type": "markdown",
   "id": "T3Sot612z1ro",
   "metadata": {
    "id": "T3Sot612z1ro"
   },
   "source": [
    "Con esta pregunta queremos entender si existe un patrón geográfico en las elecciones de residencia y trabajo de las personas.\n",
    "\n",
    "Para responder la pregunta, primero filtramos los viajes que nos interesan:"
   ]
  },
  {
   "cell_type": "code",
   "execution_count": null,
   "id": "Yx5kQ_iliaKb",
   "metadata": {
    "id": "Yx5kQ_iliaKb"
   },
   "outputs": [],
   "source": [
    "viajes_total = origenes_viajes[(pd.notnull(origenes_viajes.f_exp_x)) &\n",
    "                                (origenes_viajes.distancia_manhattan > 0)].drop_duplicates(subset=['ID_ENCUESTA'], keep='first')"
   ]
  },
  {
   "cell_type": "code",
   "execution_count": null,
   "id": "mlzrBtG3iat_",
   "metadata": {
    "id": "mlzrBtG3iat_"
   },
   "outputs": [],
   "source": [
    "viajes_habiles = origenes_viajes[(origenes_viajes.DIA_HABIL=='Si') &\n",
    "                                 (pd.notnull(origenes_viajes.f_exp_x)) &\n",
    "                                (origenes_viajes.distancia_manhattan > 0)].drop_duplicates(subset=['ID_ENCUESTA'], keep='first')"
   ]
  },
  {
   "cell_type": "code",
   "execution_count": null,
   "id": "_akZcpxyz3mc",
   "metadata": {
    "colab": {
     "base_uri": "https://localhost:8080/"
    },
    "executionInfo": {
     "elapsed": 327,
     "status": "ok",
     "timestamp": 1635821257924,
     "user": {
      "displayName": "Paula Vásquez H.",
      "photoUrl": "https://lh3.googleusercontent.com/a-/AOh14GgJUNawPfe0J41agMsUCwKAOgAzWX7zUOLCtayLFg=s64",
      "userId": "02019115936957150360"
     },
     "user_tz": 180
    },
    "id": "_akZcpxyz3mc",
    "outputId": "3243b038-725e-4c71-d177-4c7ca48d475a"
   },
   "outputs": [],
   "source": [
    "viajes_trabajo = origenes_viajes[(origenes_viajes.p17_Id_motivo_viaje == 'Trabajar') &\n",
    "                                (pd.notnull(origenes_viajes.f_exp_x)) &\n",
    "                                (origenes_viajes.distancia_manhattan > 0)].drop_duplicates(subset=['ID_ENCUESTA'], keep='first')\n",
    "                                \n",
    "print(len(viajes_trabajo), viajes_trabajo.f_exp_x.sum())"
   ]
  },
  {
   "cell_type": "code",
   "execution_count": null,
   "id": "G7KkTve20HIy",
   "metadata": {
    "colab": {
     "base_uri": "https://localhost:8080/"
    },
    "executionInfo": {
     "elapsed": 304,
     "status": "ok",
     "timestamp": 1632101248202,
     "user": {
      "displayName": "Paula Vásquez H.",
      "photoUrl": "https://lh3.googleusercontent.com/a-/AOh14GgJUNawPfe0J41agMsUCwKAOgAzWX7zUOLCtayLFg=s64",
      "userId": "02019115936957150360"
     },
     "user_tz": 180
    },
    "id": "G7KkTve20HIy",
    "outputId": "5d8cb5ea-3778-4511-80e9-1551ad1a893a"
   },
   "outputs": [],
   "source": [
    "viajes_trabajo['distancia_manhattan'].mean(), weighted_mean(viajes_trabajo, 'distancia_manhattan', 'f_exp_x')"
   ]
  },
  {
   "cell_type": "code",
   "execution_count": null,
   "id": "gYapeFvS0Koy",
   "metadata": {
    "id": "gYapeFvS0Koy"
   },
   "outputs": [],
   "source": [
    "distancia_zonas_mean = (viajes_trabajo\n",
    "                   .groupby(['zat_origen'])\n",
    "                   .apply(lambda x: weighted_mean(x, 'distancia_manhattan', 'f_exp_x'))\n",
    "                   .rename('media_distancia_al_trabajo')\n",
    ")"
   ]
  },
  {
   "cell_type": "code",
   "execution_count": null,
   "id": "zcdbjR0x0QX0",
   "metadata": {
    "id": "zcdbjR0x0QX0"
   },
   "outputs": [],
   "source": [
    "distancia_zonas_median = (viajes_trabajo\n",
    "                   .groupby(['zat_origen'])\n",
    "                   .apply(lambda x: weighted_median(x, 'distancia_manhattan', 'f_exp_x'))\n",
    "                   .rename('mediana_distancia_al_trabajo')\n",
    ")"
   ]
  },
  {
   "cell_type": "code",
   "execution_count": null,
   "id": "6bO7hKXQ0atI",
   "metadata": {
    "colab": {
     "base_uri": "https://localhost:8080/",
     "height": 709
    },
    "executionInfo": {
     "elapsed": 6469,
     "status": "ok",
     "timestamp": 1632101348981,
     "user": {
      "displayName": "Paula Vásquez H.",
      "photoUrl": "https://lh3.googleusercontent.com/a-/AOh14GgJUNawPfe0J41agMsUCwKAOgAzWX7zUOLCtayLFg=s64",
      "userId": "02019115936957150360"
     },
     "user_tz": 180
    },
    "id": "6bO7hKXQ0atI",
    "outputId": "143fa75c-5758-4167-ad8b-e0fe7b807d3e"
   },
   "outputs": [],
   "source": [
    "from aves.visualization.maps import choropleth_map\n",
    "grid = GeoFacetGrid(zonas_en_caja.join(distancia_zonas_mean, how=\"left\"), height=9)\n",
    "grid.add_basemap(\"bogota_toner_12.tif\")\n",
    "grid.add_layer(\n",
    "    choropleth_map,\n",
    "    \"media_distancia_al_trabajo\",\n",
    "    k=5,\n",
    "    linewidth=0.5,\n",
    "    edgecolor=\"black\",\n",
    "    binning=\"fisher_jenks\",\n",
    "    palette=\"RdPu\",\n",
    "    alpha=0.85,\n",
    "    cbar_args=dict(\n",
    "        label=\"Distancia (m)\",\n",
    "        height=\"22%\",\n",
    "        width=\"2%\",\n",
    "        orientation=\"vertical\",\n",
    "        location=\"center left\",\n",
    "        label_size=\"small\",\n",
    "        bbox_to_anchor=(0.0, 0.0, 0.9, 1.0),\n",
    "    ),\n",
    ")\n",
    "grid.add_map_elements()\n",
    "grid.set_title(\"Distancia al Trabajo Promedio de acuerdo a la Zona de Origen\")\n",
    "grid.tight_layout()"
   ]
  },
  {
   "cell_type": "code",
   "execution_count": null,
   "id": "GoGOIyDP0huN",
   "metadata": {
    "id": "GoGOIyDP0huN"
   },
   "outputs": [],
   "source": [
    "matriz_zonas = (viajes_trabajo[(viajes_trabajo['zat_origen'] != viajes_trabajo['zat_destino'])\n",
    "                            & (viajes_trabajo.DIA_HABIL=='Si')\n",
    "                             & (viajes_trabajo['zat_origen'].isin(zonas_en_caja.ZAT))\n",
    "                             & (viajes_trabajo['zat_origen'].isin(zonas_en_caja.ZAT))]\n",
    "                    .groupby(['zat_origen', 'zat_destino'])\n",
    "                    .agg(n_viajes=('f_exp_x', 'sum'))\n",
    "                    .sort_values('n_viajes', ascending=False)\n",
    "                    .assign(cumsum_viajes=lambda x: x['n_viajes'].cumsum())\n",
    "                    .assign(cumsum_viajes=lambda x: x['cumsum_viajes'] / x['cumsum_viajes'].max())\n",
    "                    .reset_index()\n",
    ")\n",
    "matriz_zonas.to_csv(data_path + '/matriz_zonas_trabajo_bogota2019.csv', index=False)"
   ]
  },
  {
   "cell_type": "code",
   "execution_count": null,
   "id": "-xZidwRxjRaJ",
   "metadata": {
    "id": "-xZidwRxjRaJ"
   },
   "outputs": [],
   "source": [
    "matriz_zonas = (viajes_total[(viajes_total['zat_origen'] != viajes_total['zat_destino'])\n",
    "                             & (viajes_total['zat_origen'].isin(zonas_en_caja.ZAT))\n",
    "                             & (viajes_total['zat_origen'].isin(zonas_en_caja.ZAT))]\n",
    "                    .groupby(['zat_origen', 'zat_destino'])\n",
    "                    .agg(n_viajes=('f_exp_x', 'sum'))\n",
    "                    .sort_values('n_viajes', ascending=False)\n",
    "                    .assign(cumsum_viajes=lambda x: x['n_viajes'].cumsum())\n",
    "                    .assign(cumsum_viajes=lambda x: x['cumsum_viajes'] / x['cumsum_viajes'].max())\n",
    "                    .reset_index()\n",
    ")\n",
    "matriz_zonas.to_csv(data_path + '/matriz_zonas_todos_bogota2019.csv', index=False)"
   ]
  },
  {
   "cell_type": "code",
   "execution_count": null,
   "id": "oAN2VTmFjb3E",
   "metadata": {
    "id": "oAN2VTmFjb3E"
   },
   "outputs": [],
   "source": [
    "matriz_zonas = (viajes_habiles[(viajes_habiles['zat_origen'] != viajes_habiles['zat_destino'])\n",
    "                             & (viajes_habiles['zat_origen'].isin(zonas_en_caja.ZAT))\n",
    "                             & (viajes_habiles['zat_origen'].isin(zonas_en_caja.ZAT))]\n",
    "                    .groupby(['zat_origen', 'zat_destino'])\n",
    "                    .agg(n_viajes=('f_exp_x', 'sum'))\n",
    "                    .sort_values('n_viajes', ascending=False)\n",
    "                    .assign(cumsum_viajes=lambda x: x['n_viajes'].cumsum())\n",
    "                    .assign(cumsum_viajes=lambda x: x['cumsum_viajes'] / x['cumsum_viajes'].max())\n",
    "                    .reset_index()\n",
    ")\n",
    "matriz_zonas.to_csv(data_path + '/matriz_zonas_habiles_bogota2019.csv', index=False)"
   ]
  },
  {
   "cell_type": "code",
   "execution_count": null,
   "id": "F4aeCHIW1VIo",
   "metadata": {
    "id": "F4aeCHIW1VIo"
   },
   "outputs": [],
   "source": [
    "matriz_zonas = matriz_zonas[matriz_zonas['cumsum_viajes'] <= 0.5]"
   ]
  },
  {
   "cell_type": "code",
   "execution_count": null,
   "id": "pUdsyIq05C4e",
   "metadata": {
    "colab": {
     "base_uri": "https://localhost:8080/"
    },
    "executionInfo": {
     "elapsed": 6,
     "status": "ok",
     "timestamp": 1632102534042,
     "user": {
      "displayName": "Paula Vásquez H.",
      "photoUrl": "https://lh3.googleusercontent.com/a-/AOh14GgJUNawPfe0J41agMsUCwKAOgAzWX7zUOLCtayLFg=s64",
      "userId": "02019115936957150360"
     },
     "user_tz": 180
    },
    "id": "pUdsyIq05C4e",
    "outputId": "0831db84-5307-4526-e1cc-8ed651850d76"
   },
   "outputs": [],
   "source": [
    "matriz_zonas.shape"
   ]
  },
  {
   "cell_type": "code",
   "execution_count": null,
   "id": "7sQtOA0X1XsY",
   "metadata": {
    "id": "7sQtOA0X1XsY"
   },
   "outputs": [],
   "source": [
    "merged_zones = zonas_en_caja.dissolve('ZAT')#.drop('id', axis=1)"
   ]
  },
  {
   "cell_type": "code",
   "execution_count": null,
   "id": "y1RAdYdj1xgG",
   "metadata": {
    "id": "y1RAdYdj1xgG"
   },
   "outputs": [],
   "source": [
    "from aves.models.network import Network\n",
    "from aves.visualization.networks import NodeLink\n",
    "\n",
    "zone_od_network = Network.from_edgelist(\n",
    "    matriz_zonas, source=\"zat_origen\", target=\"zat_destino\", weight=\"n_viajes\"\n",
    ")"
   ]
  },
  {
   "cell_type": "code",
   "execution_count": null,
   "id": "KaZPrbgf1aur",
   "metadata": {
    "colab": {
     "base_uri": "https://localhost:8080/"
    },
    "executionInfo": {
     "elapsed": 411,
     "status": "ok",
     "timestamp": 1632103090510,
     "user": {
      "displayName": "Paula Vásquez H.",
      "photoUrl": "https://lh3.googleusercontent.com/a-/AOh14GgJUNawPfe0J41agMsUCwKAOgAzWX7zUOLCtayLFg=s64",
      "userId": "02019115936957150360"
     },
     "user_tz": 180
    },
    "id": "KaZPrbgf1aur",
    "outputId": "ecd22761-c11d-4e73-89c9-3b1508c5dfce"
   },
   "outputs": [],
   "source": [
    "zone_nodelink = NodeLink(zone_od_network)\n",
    "zone_nodelink.layout_nodes(method=\"geographical\", geodataframe=merged_zones)\n",
    "zone_nodelink.set_node_drawing(\"plain\", weights=zone_od_network.node_degree(\"in\"))\n",
    "zone_nodelink.set_edge_drawing(method=\"origin-destination\")"
   ]
  },
  {
   "cell_type": "code",
   "execution_count": null,
   "id": "21fVZ3h_1sYi",
   "metadata": {
    "colab": {
     "base_uri": "https://localhost:8080/"
    },
    "executionInfo": {
     "elapsed": 11368,
     "status": "ok",
     "timestamp": 1632103443806,
     "user": {
      "displayName": "Paula Vásquez H.",
      "photoUrl": "https://lh3.googleusercontent.com/a-/AOh14GgJUNawPfe0J41agMsUCwKAOgAzWX7zUOLCtayLFg=s64",
      "userId": "02019115936957150360"
     },
     "user_tz": 180
    },
    "id": "21fVZ3h_1sYi",
    "outputId": "def9fd64-1d90-4c7e-cb2b-4908e1709304"
   },
   "outputs": [],
   "source": [
    "zone_nodelink.bundle_edges(\n",
    "    method=\"force-directed\", K=10, S=0.01, I=10, compatibility_threshold=0.65, C=6\n",
    ")"
   ]
  },
  {
   "cell_type": "code",
   "execution_count": null,
   "id": "R6Tgj7cM17rI",
   "metadata": {
    "id": "R6Tgj7cM17rI"
   },
   "outputs": [],
   "source": [
    "def plot_network(ax, geo_data, *args, **kwargs):\n",
    "    zone_nodelink.plot(ax, *args, **kwargs)"
   ]
  },
  {
   "cell_type": "code",
   "execution_count": null,
   "id": "Lsw6Zz3B1_uD",
   "metadata": {
    "colab": {
     "base_uri": "https://localhost:8080/",
     "height": 736
    },
    "executionInfo": {
     "elapsed": 9617,
     "status": "ok",
     "timestamp": 1632103453421,
     "user": {
      "displayName": "Paula Vásquez H.",
      "photoUrl": "https://lh3.googleusercontent.com/a-/AOh14GgJUNawPfe0J41agMsUCwKAOgAzWX7zUOLCtayLFg=s64",
      "userId": "02019115936957150360"
     },
     "user_tz": 180
    },
    "id": "Lsw6Zz3B1_uD",
    "outputId": "224123cb-b08c-4e46-ecfd-6afae2f6a7ae"
   },
   "outputs": [],
   "source": [
    "grid = GeoFacetGrid(zonas_en_caja, height=13)\n",
    "grid.add_basemap(\"bogota_toner_12.tif\")\n",
    "#grid.add_layer(city_shp_filt,facecolor='white', edgecolor='grey', alpha=0.25)\n",
    "grid.add_layer(\n",
    "    plot_network,\n",
    "    nodes=dict(color=\"white\", edgecolor=\"black\", node_size=100, alpha=0.95),\n",
    "    edges=dict(linewidth=0.5, alpha=0.6),\n",
    ")\n",
    "grid.set_title(\"Viajes al trabajo en Bogotá (en días laborales)\")"
   ]
  },
  {
   "cell_type": "code",
   "execution_count": null,
   "id": "qqxkeHwT2BV4",
   "metadata": {
    "id": "qqxkeHwT2BV4"
   },
   "outputs": [],
   "source": []
  }
 ],
 "metadata": {
  "colab": {
   "collapsed_sections": [
    "db8caef6",
    "5891e875",
    "da9bdcfb",
    "2-lBeEH-vYc_",
    "PfffZ7ZZ-soo",
    "-jJrOlEl-uLU",
    "isY_bo3Y-xRh"
   ],
   "name": "Copia de AnalisisEOD_Colombia_Bogota_2019_CalculoIndicadores_.ipynb",
   "provenance": []
  },
  "kernelspec": {
   "display_name": "Python 3 (ipykernel)",
   "language": "python",
   "name": "python3"
  },
  "language_info": {
   "codemirror_mode": {
    "name": "ipython",
    "version": 3
   },
   "file_extension": ".py",
   "mimetype": "text/x-python",
   "name": "python",
   "nbconvert_exporter": "python",
   "pygments_lexer": "ipython3",
   "version": "3.9.7"
  }
 },
 "nbformat": 4,
 "nbformat_minor": 5
}
