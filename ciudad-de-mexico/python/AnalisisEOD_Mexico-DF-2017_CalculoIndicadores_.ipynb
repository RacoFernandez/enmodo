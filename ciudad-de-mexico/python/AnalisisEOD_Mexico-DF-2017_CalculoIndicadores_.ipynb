{
 "cells": [
  {
   "cell_type": "markdown",
   "id": "b1e40f3d",
   "metadata": {
    "id": "b1e40f3d"
   },
   "source": [
    "# Análisis Encuesta Origen-Destino -  Limpieza de Datos & Cálculo de Indicadores"
   ]
  },
  {
   "cell_type": "markdown",
   "id": "56e7413d",
   "metadata": {
    "id": "56e7413d"
   },
   "source": [
    "## Mexico-DF-2017"
   ]
  },
  {
   "cell_type": "markdown",
   "id": "4221de58",
   "metadata": {
    "id": "4221de58"
   },
   "source": [
    "#### Elaborado por Paula Vásquez-Henríquez, Ariel López, Genaro Cuadros, Exequiel Gaete, Alba Vásquez y Juan Correa"
   ]
  },
  {
   "cell_type": "markdown",
   "id": "5d85f302",
   "metadata": {},
   "source": [
    "## Google colab"
   ]
  },
  {
   "cell_type": "markdown",
   "id": "bd6b86a7",
   "metadata": {},
   "source": [
    "Para ejecutar este notebook en Colab, primero descomenten y ejecuten las siguientes 3 celdas. Luego de ejecutar la notebook se reiniciará."
   ]
  },
  {
   "cell_type": "code",
   "execution_count": null,
   "id": "9d8ec5f9",
   "metadata": {},
   "outputs": [],
   "source": [
    "'''\n",
    "!pip3 uninstall matplotlib -y\n",
    "!pip install -q condacolab\n",
    "import condacolab\n",
    "condacolab.install()\n",
    "'''"
   ]
  },
  {
   "cell_type": "code",
   "execution_count": null,
   "id": "a85a9bf7",
   "metadata": {},
   "outputs": [],
   "source": [
    "'''\n",
    "!git clone https://github.com/zorzalerrante/aves.git aves_git\n",
    "!mamba env update --name base --file aves_git/environment-colab.yml\n",
    "'''"
   ]
  },
  {
   "cell_type": "code",
   "execution_count": null,
   "id": "b0d9a8ab",
   "metadata": {
    "colab": {
     "base_uri": "https://localhost:8080/"
    },
    "executionInfo": {
     "elapsed": 23074,
     "status": "ok",
     "timestamp": 1635994904494,
     "user": {
      "displayName": "Paula Vásquez H.",
      "photoUrl": "https://lh3.googleusercontent.com/a-/AOh14GgJUNawPfe0J41agMsUCwKAOgAzWX7zUOLCtayLFg=s64",
      "userId": "02019115936957150360"
     },
     "user_tz": 180
    },
    "id": "u7WkwIpDNvaW",
    "outputId": "d110333c-af65-47c3-cf76-ed7b93a9c43a"
   },
   "outputs": [],
   "source": [
    "'''\n",
    "# Montando datos desde Google Drive\n",
    "from google.colab import drive\n",
    "drive.mount('/content/drive')\n",
    "'''"
   ]
  },
  {
   "cell_type": "markdown",
   "id": "b6d473a1",
   "metadata": {},
   "source": [
    "## Instalando e importando librerías"
   ]
  },
  {
   "cell_type": "code",
   "execution_count": null,
   "id": "e5738b41",
   "metadata": {},
   "outputs": [],
   "source": [
    "# Estas librerías se deben instalar sólo si se está ejecutando localmente\n",
    "!pip3 install matplotlib\n",
    "!pip3 install seaborn\n",
    "!pip3 install sklearn"
   ]
  },
  {
   "cell_type": "code",
   "execution_count": null,
   "id": "600f66c7",
   "metadata": {
    "colab": {
     "base_uri": "https://localhost:8080/"
    },
    "executionInfo": {
     "elapsed": 8751,
     "status": "ok",
     "timestamp": 1635994873745,
     "user": {
      "displayName": "Paula Vásquez H.",
      "photoUrl": "https://lh3.googleusercontent.com/a-/AOh14GgJUNawPfe0J41agMsUCwKAOgAzWX7zUOLCtayLFg=s64",
      "userId": "02019115936957150360"
     },
     "user_tz": 180
    },
    "id": "M9aoyAtnNW37",
    "outputId": "b58d8e02-60be-4c46-8fd0-3fc6ca0aa50b"
   },
   "outputs": [],
   "source": [
    "#Estas librerías se deben instalar tanto corriendolo localmente como en Google Colab\n",
    "!pip3 install geopandas\n",
    "!pip3 install haversine\n",
    "!pip3 install pandasql\n",
    "!pip3 install openpyxl"
   ]
  },
  {
   "cell_type": "code",
   "execution_count": null,
   "id": "78f60347",
   "metadata": {
    "id": "78f60347"
   },
   "outputs": [],
   "source": [
    "import pandas as pd\n",
    "import matplotlib.pyplot as plt\n",
    "import seaborn as sns\n",
    "import numpy as np\n",
    "import geopandas as gpd\n",
    "import warnings\n",
    "import haversine as hs\n",
    "import shapely\n",
    "from sklearn.preprocessing import normalize\n",
    "import datetime\n",
    "from pandasql import sqldf"
   ]
  },
  {
   "cell_type": "code",
   "execution_count": null,
   "id": "ced4614d",
   "metadata": {},
   "outputs": [],
   "source": [
    "# Si se está en google colab, reemplazar por path de Drive\n",
    "data_path = 'C:/Users/Usuario/Documents/GitHub/enmodo/'"
   ]
  },
  {
   "cell_type": "code",
   "execution_count": null,
   "id": "eb8116cf",
   "metadata": {},
   "outputs": [],
   "source": [
    "import sys\n",
    "\n",
    "# Si se está en google colab, reemplazar por path donde tiene la carpeta \"scripts\"\n",
    "sys.path.insert(1, data_path +'scripts')\n",
    "\n",
    "import eod_analysis as eod"
   ]
  },
  {
   "cell_type": "code",
   "execution_count": null,
   "id": "0510fbb1",
   "metadata": {
    "id": "0510fbb1"
   },
   "outputs": [],
   "source": [
    "def convert_datatype(df, lista_columnas):\n",
    "    for column in lista_columnas:\n",
    "        df[column] = df[column].str.replace(\",\", \".\").astype(float)\n",
    "    return df"
   ]
  },
  {
   "cell_type": "code",
   "execution_count": null,
   "id": "0018ee50",
   "metadata": {
    "id": "0018ee50"
   },
   "outputs": [],
   "source": [
    "def imputar_coordenadas_centroide_zat(df, latitud, longitud, zat, shp_id):\n",
    "    mask = df[latitud].isnull() | df[longitud].isnull()\n",
    "    ids_latitud_vacia = df[mask].index\n",
    "    working_df = pd.merge(df, city_shp[[shp_id, 'x_coord', 'y_coord']], left_on=zat, right_on=shp_id, how='left')\n",
    "    df.loc[ids_latitud_vacia, latitud] = working_df.loc[ids_latitud_vacia, 'y_coord']\n",
    "    df.loc[ids_latitud_vacia, longitud] = working_df.loc[ids_latitud_vacia, 'x_coord']\n",
    "    return df"
   ]
  },
  {
   "cell_type": "code",
   "execution_count": null,
   "id": "f7c148fb",
   "metadata": {
    "id": "f7c148fb"
   },
   "outputs": [],
   "source": [
    "def mapear_vacios(row, column):\n",
    "    if pd.isna(row[column])==True:\n",
    "        return 'Sin información'\n",
    "    else:\n",
    "        return row[column]"
   ]
  },
  {
   "cell_type": "code",
   "execution_count": null,
   "id": "0699086c",
   "metadata": {
    "id": "0699086c"
   },
   "outputs": [],
   "source": [
    "def manhattan_distance(a, b):\n",
    "    return np.abs(a - b).sum()"
   ]
  },
  {
   "cell_type": "code",
   "execution_count": null,
   "id": "01b72213",
   "metadata": {
    "id": "01b72213"
   },
   "outputs": [],
   "source": [
    "def decode_column(df, fname, col_name, index_col='id', value_col=None, sep=',', encoding='utf-8'):\n",
    "    '''\n",
    "    param :df: DataFrame del que leeremos una columna.\n",
    "    param :fname: nombre del archivo que contiene los valores a decodificar.\n",
    "    param :col_name: nombre de la columna que queremos decodificar.\n",
    "    param :index_col: nombre de la columna en el archivo @fname que tiene los índices que codifican @col_name\n",
    "    param :value_col: nombre de la columna en el archivo @fname que tiene los valores decodificados\n",
    "    param :sep: carácter que separa los valores en @fname. \n",
    "    param :encoding: identificación del _character set_ que utiliza el archivo. Usualmente es utf-8, si no funciona,\n",
    "                     se puede probar con iso-8859-1.\n",
    "    '''\n",
    "    if value_col is None:\n",
    "        value_col = 'value'\n",
    "        \n",
    "    values_df = pd.read_csv(fname, sep=sep, index_col=index_col, names=[index_col, value_col], header=0,\n",
    "                            dtype={index_col: np.float64}, encoding=encoding)\n",
    "    \n",
    "    src_df = df.loc[:,(col_name,)]\n",
    "    \n",
    "    return src_df.join(values_df, on=col_name)[value_col]"
   ]
  },
  {
   "cell_type": "markdown",
   "id": "iRPSv0fesZHX",
   "metadata": {
    "id": "iRPSv0fesZHX"
   },
   "source": [
    "### Caracterización de los datos\n",
    "\n",
    "Los datos utilizados en este cuaderno corresponden a los resultados de la Encuesta Origen-Destino de Ciudad de México, México del 2017.\n",
    "A partir de estos datos se calcularan indicadores en tres niveles: de Cantidad de Viajes, de Tiempo de Viajes, y de Distancia de Viajes."
   ]
  },
  {
   "cell_type": "markdown",
   "id": "db8caef6",
   "metadata": {
    "id": "db8caef6"
   },
   "source": [
    "### Importando datos"
   ]
  },
  {
   "cell_type": "markdown",
   "id": "CdtA3y43Oy5b",
   "metadata": {
    "id": "CdtA3y43Oy5b"
   },
   "source": [
    "En esta sección, importamos todos los datos necesarios para el cálculo de indicadores. \n",
    "Para el caso de México 2017, los archivos son csv.\n",
    "\n",
    "Cabe destacar que para esta EOD tenemos data a nivel de:\n",
    "- Viajes\n",
    "- Etapas\n",
    "- Personas\n",
    "- Hogares\n"
   ]
  },
  {
   "cell_type": "code",
   "execution_count": null,
   "id": "56fe174d",
   "metadata": {
    "colab": {
     "base_uri": "https://localhost:8080/",
     "height": 253
    },
    "executionInfo": {
     "elapsed": 5786,
     "status": "ok",
     "timestamp": 1635818250203,
     "user": {
      "displayName": "Paula Vásquez H.",
      "photoUrl": "https://lh3.googleusercontent.com/a-/AOh14GgJUNawPfe0J41agMsUCwKAOgAzWX7zUOLCtayLFg=s64",
      "userId": "02019115936957150360"
     },
     "user_tz": 180
    },
    "id": "56fe174d",
    "outputId": "01a677ad-0d3d-4b61-dc96-5dac976731fe"
   },
   "outputs": [],
   "source": [
    "# Matriz de viajes\n",
    "data_viajes = pd.read_csv(data_path + 'ciudad-de-mexico/source-csv/tviaje.csv')\n",
    "data_viajes.head()\n",
    "#data_viajes = convert_datatype(data_viajes, [\"LATITUD_ORIGEN\", \"LATITUD_DESTINO\", \"LONGITUD_ORIGEN\", \"LONGITUD_DESTINO\", 'PONDERADOR_CALIBRADO_VIAJES', 'FE_TOTAL', 'FACTOR_AJUSTE_TRANSMILENIO', 'PONDERADOR_CALIBRADO'])"
   ]
  },
  {
   "cell_type": "code",
   "execution_count": null,
   "id": "8f1b5631",
   "metadata": {
    "colab": {
     "base_uri": "https://localhost:8080/",
     "height": 204
    },
    "executionInfo": {
     "elapsed": 1018,
     "status": "ok",
     "timestamp": 1635818251524,
     "user": {
      "displayName": "Paula Vásquez H.",
      "photoUrl": "https://lh3.googleusercontent.com/a-/AOh14GgJUNawPfe0J41agMsUCwKAOgAzWX7zUOLCtayLFg=s64",
      "userId": "02019115936957150360"
     },
     "user_tz": 180
    },
    "id": "8f1b5631",
    "outputId": "da3d5f2e-ddcc-49dd-ad19-d48866ed9d82"
   },
   "outputs": [],
   "source": [
    "# Matriz de personas\n",
    "data_personas = pd.read_csv(data_path + 'ciudad-de-mexico/source-csv/tsdem.csv', sep=',')\n",
    "data_personas.head()\n",
    "#data_personas = convert_datatype(data_personas, ['PONDERADOR_CALIBRADO'])"
   ]
  },
  {
   "cell_type": "code",
   "execution_count": null,
   "id": "9ab4ed0a",
   "metadata": {
    "colab": {
     "base_uri": "https://localhost:8080/",
     "height": 111
    },
    "executionInfo": {
     "elapsed": 449,
     "status": "ok",
     "timestamp": 1635818251970,
     "user": {
      "displayName": "Paula Vásquez H.",
      "photoUrl": "https://lh3.googleusercontent.com/a-/AOh14GgJUNawPfe0J41agMsUCwKAOgAzWX7zUOLCtayLFg=s64",
      "userId": "02019115936957150360"
     },
     "user_tz": 180
    },
    "id": "9ab4ed0a",
    "outputId": "3e07a2ed-8dbd-4462-c276-88cb4e080750"
   },
   "outputs": [],
   "source": [
    "# Matriz de hogares\n",
    "data_hogares = pd.read_csv(data_path + 'ciudad-de-mexico/source-csv/thogar.csv', sep=',')\n",
    "data_hogares.head(2)"
   ]
  },
  {
   "cell_type": "code",
   "execution_count": null,
   "id": "3cfbf52d",
   "metadata": {
    "id": "3cfbf52d"
   },
   "outputs": [],
   "source": [
    "# Shapefile de la ciudad\n",
    "city_shp = gpd.read_file(data_path + 'ciudad-de-mexico/source-shp/DistritosEODHogaresZMVM2017.shp')"
   ]
  },
  {
   "cell_type": "code",
   "execution_count": null,
   "id": "C5dW7jozpJEH",
   "metadata": {
    "colab": {
     "base_uri": "https://localhost:8080/"
    },
    "executionInfo": {
     "elapsed": 398,
     "status": "ok",
     "timestamp": 1635818253226,
     "user": {
      "displayName": "Paula Vásquez H.",
      "photoUrl": "https://lh3.googleusercontent.com/a-/AOh14GgJUNawPfe0J41agMsUCwKAOgAzWX7zUOLCtayLFg=s64",
      "userId": "02019115936957150360"
     },
     "user_tz": 180
    },
    "id": "C5dW7jozpJEH",
    "outputId": "b8d254fd-6f51-490f-a33c-169afb789191"
   },
   "outputs": [],
   "source": [
    "city_shp.crs"
   ]
  },
  {
   "cell_type": "code",
   "execution_count": null,
   "id": "3ef2023d",
   "metadata": {
    "id": "3ef2023d"
   },
   "outputs": [],
   "source": [
    "# Calculamos centroide del distrito\n",
    "city_shp['x_coord'] = city_shp['geometry'].centroid.x\n",
    "city_shp['y_coord'] = city_shp['geometry'].centroid.y"
   ]
  },
  {
   "cell_type": "code",
   "execution_count": null,
   "id": "29b7aa37",
   "metadata": {
    "id": "29b7aa37"
   },
   "outputs": [],
   "source": [
    "city_shp['Distrito'] = city_shp['Distrito'].astype('int64')"
   ]
  },
  {
   "cell_type": "markdown",
   "id": "8d65ab3c",
   "metadata": {
    "id": "8d65ab3c"
   },
   "source": [
    "### Preparación de los datos"
   ]
  },
  {
   "cell_type": "markdown",
   "id": "5891e875",
   "metadata": {
    "id": "5891e875"
   },
   "source": [
    "#### Viajes"
   ]
  },
  {
   "cell_type": "markdown",
   "id": "nKp83KN1Pf7s",
   "metadata": {
    "id": "nKp83KN1Pf7s"
   },
   "source": [
    "En esta etapa nos enfocaremos en preparar los datos con respecto a viajes.\n",
    "En particular, nos enfocamos en limpiar y estandarizar los datos para las columnas que son relevantes para el cálculo de indicadores.\n",
    "\n"
   ]
  },
  {
   "cell_type": "code",
   "execution_count": null,
   "id": "8249bce3",
   "metadata": {
    "id": "8249bce3"
   },
   "outputs": [],
   "source": [
    "mode_q_dict={'p5_14_01':'Auto','p5_14_02':'Colectivo/Micro','p5_14_03':'Taxi (App internet)','p5_14_04':'Taxi','p5_14_05':'Metro','p5_14_06':'Autobús RTP o M1','p5_14_07':'Bicicleta','p5_14_08':'Autobús','p5_14_09':'Moto','p5_14_10':'Trolebús','p5_14_11':'Metrobús o Mexibús','p5_14_12':'Tren ligero','p5_14_13':'Tren suburbano','p5_14_14':'Peaton','p5_14_15':'Mexicable','p5_14_16':'Bicitaxi','p5_14_17':'Mototaxi','p5_14_18':'Transporte escolar','p5_14_19':'Transporte de personal','p5_14_20':'Otro'}"
   ]
  },
  {
   "cell_type": "code",
   "execution_count": null,
   "id": "ee7cc777",
   "metadata": {
    "id": "ee7cc777"
   },
   "outputs": [],
   "source": [
    "def modo_transporte(row, mode_q_dict):\n",
    "    for mode_q in mode_q_dict.keys():\n",
    "        if row[mode_q]==1:\n",
    "            return mode_q_dict[mode_q]\n",
    "        else:\n",
    "            continue"
   ]
  },
  {
   "cell_type": "code",
   "execution_count": null,
   "id": "5b96705f",
   "metadata": {
    "id": "5b96705f"
   },
   "outputs": [],
   "source": [
    "# Imputando modo de viaje\n",
    "data_viajes['ModoViaje'] = data_viajes.apply(lambda row: modo_transporte(row, mode_q_dict), axis=1)"
   ]
  },
  {
   "cell_type": "code",
   "execution_count": null,
   "id": "dc6a3b59",
   "metadata": {
    "colab": {
     "base_uri": "https://localhost:8080/"
    },
    "executionInfo": {
     "elapsed": 41,
     "status": "ok",
     "timestamp": 1635818270711,
     "user": {
      "displayName": "Paula Vásquez H.",
      "photoUrl": "https://lh3.googleusercontent.com/a-/AOh14GgJUNawPfe0J41agMsUCwKAOgAzWX7zUOLCtayLFg=s64",
      "userId": "02019115936957150360"
     },
     "user_tz": 180
    },
    "id": "dc6a3b59",
    "outputId": "5012cd35-e184-4790-e4a8-11b65ff4fa4c"
   },
   "outputs": [],
   "source": [
    "data_viajes.ModoViaje.unique()"
   ]
  },
  {
   "cell_type": "code",
   "execution_count": null,
   "id": "10ac7797",
   "metadata": {
    "id": "10ac7797"
   },
   "outputs": [],
   "source": [
    "# Definiendo etiquetas de público o privado\n",
    "publico_viaje = ['Colectivo/Micro', 'Taxi (App internet)', 'Taxi', 'Metro', 'Metrobús o Mexibús', 'Autobús', 'Autobús RTP o M1', 'Trolebús', 'Tren ligero','Tren suburbano', 'Mexicable']\n",
    "privado_viaje = ['Auto', 'Moto', 'Peaton', 'Bicicleta', 'Transporte de personal', 'Transporte escolar']\n",
    "peaton_viaje = ['Peaton', 'Bicicleta']\n",
    "motorizado_viaje = ['Colectivo/Micro', 'Taxi (App internet)', 'Taxi', 'Metro', 'Metrobús o Mexibús', 'Autobús', 'Autobús RTP o M1', 'Trolebús', 'Tren ligero','Tren suburbano', 'Mexicable', 'Auto', 'Moto', 'Transporte de personal', 'Transporte escolar']"
   ]
  },
  {
   "cell_type": "code",
   "execution_count": null,
   "id": "2baaf069",
   "metadata": {
    "id": "2baaf069"
   },
   "outputs": [],
   "source": [
    "selected_columns = ['id_via', 'id_soc', 'p5_3', 'dto_origen', 'dto_dest', 'p5_9_1', 'p5_9_2', 'p5_10_1', 'p5_10_2',\n",
    "                    'p5_13',\n",
    "                   'estrato', 'factor',  'ModoViaje']\n",
    "viajes_df = data_viajes[selected_columns]"
   ]
  },
  {
   "cell_type": "code",
   "execution_count": null,
   "id": "19b4b564",
   "metadata": {
    "colab": {
     "base_uri": "https://localhost:8080/"
    },
    "executionInfo": {
     "elapsed": 5767,
     "status": "ok",
     "timestamp": 1635818276463,
     "user": {
      "displayName": "Paula Vásquez H.",
      "photoUrl": "https://lh3.googleusercontent.com/a-/AOh14GgJUNawPfe0J41agMsUCwKAOgAzWX7zUOLCtayLFg=s64",
      "userId": "02019115936957150360"
     },
     "user_tz": 180
    },
    "id": "19b4b564",
    "outputId": "9ea7d6f1-0c01-4389-9809-ce4877cb68bb"
   },
   "outputs": [],
   "source": [
    "# Clasificando viaje como publico o privado\n",
    "def publico_privado(row, column, publico, privado):\n",
    "    if row[column] in (publico):\n",
    "        return 'Público'\n",
    "    elif row[column] in (privado):\n",
    "        return 'Privado'\n",
    "    else:\n",
    "        return 'Otro'\n",
    "    \n",
    "viajes_df['publico_privado'] = viajes_df.apply(lambda row: publico_privado(row, 'ModoViaje', publico_viaje, privado_viaje), axis=1)"
   ]
  },
  {
   "cell_type": "code",
   "execution_count": null,
   "id": "Qrq7S7zk9jXH",
   "metadata": {
    "colab": {
     "base_uri": "https://localhost:8080/"
    },
    "executionInfo": {
     "elapsed": 5502,
     "status": "ok",
     "timestamp": 1635818281943,
     "user": {
      "displayName": "Paula Vásquez H.",
      "photoUrl": "https://lh3.googleusercontent.com/a-/AOh14GgJUNawPfe0J41agMsUCwKAOgAzWX7zUOLCtayLFg=s64",
      "userId": "02019115936957150360"
     },
     "user_tz": 180
    },
    "id": "Qrq7S7zk9jXH",
    "outputId": "d2a37156-7776-42c8-8be3-92a18db2ff75"
   },
   "outputs": [],
   "source": [
    "# Clasificando los viajes como motorizado o no motorizado según medio\n",
    "def motorizado(row, column, no_motorizado, motorizado):\n",
    "    if row[column] in (motorizado):\n",
    "        return 'Motorizado'\n",
    "    elif row[column] in (no_motorizado):\n",
    "        return 'No Motorizado'\n",
    "    else:\n",
    "        return 'Otro'\n",
    "    \n",
    "viajes_df['motorizado'] = viajes_df.apply(lambda row: motorizado(row, 'ModoViaje', peaton_viaje,motorizado_viaje), axis=1)"
   ]
  },
  {
   "cell_type": "code",
   "execution_count": null,
   "id": "5e3b050d",
   "metadata": {
    "colab": {
     "base_uri": "https://localhost:8080/"
    },
    "executionInfo": {
     "elapsed": 29,
     "status": "ok",
     "timestamp": 1635818281944,
     "user": {
      "displayName": "Paula Vásquez H.",
      "photoUrl": "https://lh3.googleusercontent.com/a-/AOh14GgJUNawPfe0J41agMsUCwKAOgAzWX7zUOLCtayLFg=s64",
      "userId": "02019115936957150360"
     },
     "user_tz": 180
    },
    "id": "5e3b050d",
    "outputId": "c0fd7912-334b-4e29-a88f-233261b22c2d"
   },
   "outputs": [],
   "source": [
    "viajes_df.shape"
   ]
  },
  {
   "cell_type": "code",
   "execution_count": null,
   "id": "91d848b5",
   "metadata": {
    "colab": {
     "base_uri": "https://localhost:8080/"
    },
    "executionInfo": {
     "elapsed": 26,
     "status": "ok",
     "timestamp": 1635818281945,
     "user": {
      "displayName": "Paula Vásquez H.",
      "photoUrl": "https://lh3.googleusercontent.com/a-/AOh14GgJUNawPfe0J41agMsUCwKAOgAzWX7zUOLCtayLFg=s64",
      "userId": "02019115936957150360"
     },
     "user_tz": 180
    },
    "id": "91d848b5",
    "outputId": "3e96eadd-24e2-4a96-8e2a-e55d8c1ae148"
   },
   "outputs": [],
   "source": [
    "print('Contando valores nulos por atributo')\n",
    "for column in viajes_df.columns:\n",
    "    print('{}: {}'.format(column, viajes_df[column].isna().sum()))"
   ]
  },
  {
   "cell_type": "code",
   "execution_count": null,
   "id": "97ae53fa",
   "metadata": {
    "id": "97ae53fa"
   },
   "outputs": [],
   "source": [
    "# Llenado de coordenadas para datos vacíos, se imputará centroide del ZAT correspondiente."
   ]
  },
  {
   "cell_type": "code",
   "execution_count": null,
   "id": "dabdfa09",
   "metadata": {
    "colab": {
     "base_uri": "https://localhost:8080/"
    },
    "executionInfo": {
     "elapsed": 23,
     "status": "ok",
     "timestamp": 1635818281946,
     "user": {
      "displayName": "Paula Vásquez H.",
      "photoUrl": "https://lh3.googleusercontent.com/a-/AOh14GgJUNawPfe0J41agMsUCwKAOgAzWX7zUOLCtayLFg=s64",
      "userId": "02019115936957150360"
     },
     "user_tz": 180
    },
    "id": "dabdfa09",
    "outputId": "244e5bd1-a416-4d43-8c2a-53753c69a7d3"
   },
   "outputs": [],
   "source": [
    "viajes_df['LATITUD_ORIGEN'] = None\n",
    "viajes_df['LONGITUD_ORIGEN'] = None\n",
    "viajes_df['LATITUD_DESTINO'] = None\n",
    "viajes_df['LONGITUD_DESTINO'] = None"
   ]
  },
  {
   "cell_type": "code",
   "execution_count": null,
   "id": "bce8a2f6",
   "metadata": {
    "colab": {
     "base_uri": "https://localhost:8080/"
    },
    "executionInfo": {
     "elapsed": 1002,
     "status": "ok",
     "timestamp": 1635818282927,
     "user": {
      "displayName": "Paula Vásquez H.",
      "photoUrl": "https://lh3.googleusercontent.com/a-/AOh14GgJUNawPfe0J41agMsUCwKAOgAzWX7zUOLCtayLFg=s64",
      "userId": "02019115936957150360"
     },
     "user_tz": 180
    },
    "id": "bce8a2f6",
    "outputId": "3fc7c3fd-97c2-4735-bbb7-85c7a6a0aed7"
   },
   "outputs": [],
   "source": [
    "viajes_df = imputar_coordenadas_centroide_zat(viajes_df, 'LATITUD_ORIGEN', 'LONGITUD_ORIGEN', 'dto_origen', 'Distrito')\n",
    "viajes_df = imputar_coordenadas_centroide_zat(viajes_df, 'LATITUD_DESTINO', 'LONGITUD_DESTINO','dto_dest', 'Distrito')"
   ]
  },
  {
   "cell_type": "code",
   "execution_count": null,
   "id": "6dc97f8a",
   "metadata": {
    "colab": {
     "base_uri": "https://localhost:8080/"
    },
    "executionInfo": {
     "elapsed": 9,
     "status": "ok",
     "timestamp": 1635818282928,
     "user": {
      "displayName": "Paula Vásquez H.",
      "photoUrl": "https://lh3.googleusercontent.com/a-/AOh14GgJUNawPfe0J41agMsUCwKAOgAzWX7zUOLCtayLFg=s64",
      "userId": "02019115936957150360"
     },
     "user_tz": 180
    },
    "id": "6dc97f8a",
    "outputId": "174c4a4f-762c-42aa-bf24-c95b14f41ef0"
   },
   "outputs": [],
   "source": [
    "print('Contando valores nulos por atributo')\n",
    "for column in viajes_df.columns:\n",
    "    print('{}: {}'.format(column, viajes_df[column].isna().sum()))"
   ]
  },
  {
   "cell_type": "code",
   "execution_count": null,
   "id": "91f1298d",
   "metadata": {
    "id": "91f1298d"
   },
   "outputs": [],
   "source": [
    "# Limpiando datos de variables binarias"
   ]
  },
  {
   "cell_type": "code",
   "execution_count": null,
   "id": "3b0cb99d",
   "metadata": {
    "id": "3b0cb99d"
   },
   "outputs": [],
   "source": [
    "def mapear_sexo(row):\n",
    "    if row['sexo'] == 1:\n",
    "        return \"Hombre\"\n",
    "    else:\n",
    "        return \"Mujer\""
   ]
  },
  {
   "cell_type": "code",
   "execution_count": null,
   "id": "0907eba8",
   "metadata": {
    "colab": {
     "base_uri": "https://localhost:8080/"
    },
    "executionInfo": {
     "elapsed": 358,
     "status": "ok",
     "timestamp": 1635818283281,
     "user": {
      "displayName": "Paula Vásquez H.",
      "photoUrl": "https://lh3.googleusercontent.com/a-/AOh14GgJUNawPfe0J41agMsUCwKAOgAzWX7zUOLCtayLFg=s64",
      "userId": "02019115936957150360"
     },
     "user_tz": 180
    },
    "id": "0907eba8",
    "outputId": "5719dd82-e346-4da8-df8d-8bd6dde1e4b7"
   },
   "outputs": [],
   "source": [
    "viajes_df.estrato = decode_column(viajes_df, data_path + 'ciudad-de-mexico/catalogos/estrato.csv', 'estrato')"
   ]
  },
  {
   "cell_type": "markdown",
   "id": "4a1cb9e3",
   "metadata": {
    "id": "1cfbe30b"
   },
   "source": [
    "#### En el caso de esta encuesta, dia_habil se considera Miercoles-Jueves-Viernes (entre semana) y dia nohabil el resto de los dias."
   ]
  },
  {
   "cell_type": "code",
   "execution_count": null,
   "id": "ba844bc7",
   "metadata": {
    "id": "ba844bc7"
   },
   "outputs": [],
   "source": [
    "# Creando etiquetas de dia habil y dia no habil\n",
    "def dia_habil(row):\n",
    "    if row['p5_3'] == 1:\n",
    "        return 'Si'\n",
    "    else:\n",
    "        return 'No'\n",
    "    \n",
    "def dia_nohabil(row):\n",
    "    if row['p5_3'] == 2:\n",
    "        return 'Si'\n",
    "    else:\n",
    "        return 'No'"
   ]
  },
  {
   "cell_type": "code",
   "execution_count": null,
   "id": "cd90013d",
   "metadata": {
    "colab": {
     "base_uri": "https://localhost:8080/"
    },
    "executionInfo": {
     "elapsed": 9996,
     "status": "ok",
     "timestamp": 1635818293274,
     "user": {
      "displayName": "Paula Vásquez H.",
      "photoUrl": "https://lh3.googleusercontent.com/a-/AOh14GgJUNawPfe0J41agMsUCwKAOgAzWX7zUOLCtayLFg=s64",
      "userId": "02019115936957150360"
     },
     "user_tz": 180
    },
    "id": "cd90013d",
    "outputId": "3e0d4cc3-33c4-44af-806d-34ac7f2d96ee",
    "scrolled": true
   },
   "outputs": [],
   "source": [
    "viajes_df['DIA_HABIL'] = viajes_df.apply(lambda row: dia_habil(row), axis=1)\n",
    "viajes_df['DIA_NOHABIL'] = viajes_df.apply(lambda row: dia_nohabil(row), axis=1)"
   ]
  },
  {
   "cell_type": "code",
   "execution_count": null,
   "id": "8c2ecfdd",
   "metadata": {
    "colab": {
     "base_uri": "https://localhost:8080/"
    },
    "executionInfo": {
     "elapsed": 16038,
     "status": "ok",
     "timestamp": 1635818309305,
     "user": {
      "displayName": "Paula Vásquez H.",
      "photoUrl": "https://lh3.googleusercontent.com/a-/AOh14GgJUNawPfe0J41agMsUCwKAOgAzWX7zUOLCtayLFg=s64",
      "userId": "02019115936957150360"
     },
     "user_tz": 180
    },
    "id": "8c2ecfdd",
    "outputId": "90169203-879d-478f-8f89-3ce8e95eb249"
   },
   "outputs": [],
   "source": [
    "# Calculando distancia manhattan entre punto de origen y destino\n",
    "viajes_df['distancia_manhattan'] = viajes_df.apply(lambda row: manhattan_distance(np.array([row['LATITUD_ORIGEN'], row['LONGITUD_ORIGEN']]), np.array([row['LATITUD_DESTINO'], row['LONGITUD_DESTINO']])), axis=1)"
   ]
  },
  {
   "cell_type": "code",
   "execution_count": null,
   "id": "739c9353",
   "metadata": {
    "colab": {
     "base_uri": "https://localhost:8080/"
    },
    "executionInfo": {
     "elapsed": 6869,
     "status": "ok",
     "timestamp": 1635818316152,
     "user": {
      "displayName": "Paula Vásquez H.",
      "photoUrl": "https://lh3.googleusercontent.com/a-/AOh14GgJUNawPfe0J41agMsUCwKAOgAzWX7zUOLCtayLFg=s64",
      "userId": "02019115936957150360"
     },
     "user_tz": 180
    },
    "id": "739c9353",
    "outputId": "757b8df2-15f0-4a40-a963-ac96e91b3227"
   },
   "outputs": [],
   "source": [
    "# Definiendo si el viaje es intra o interzonal\n",
    "viajes_df['Intra_Inter'] = viajes_df.apply(lambda row: 'Intra' if row['dto_origen'] == row['dto_dest'] else 'Inter', axis=1)"
   ]
  },
  {
   "cell_type": "code",
   "execution_count": null,
   "id": "b5f07517",
   "metadata": {
    "colab": {
     "base_uri": "https://localhost:8080/"
    },
    "executionInfo": {
     "elapsed": 42513,
     "status": "ok",
     "timestamp": 1635818358659,
     "user": {
      "displayName": "Paula Vásquez H.",
      "photoUrl": "https://lh3.googleusercontent.com/a-/AOh14GgJUNawPfe0J41agMsUCwKAOgAzWX7zUOLCtayLFg=s64",
      "userId": "02019115936957150360"
     },
     "user_tz": 180
    },
    "id": "b5f07517",
    "outputId": "083e28d2-cb7e-4854-bdc6-17282142a594"
   },
   "outputs": [],
   "source": [
    "# Obteniendo información de horas\n",
    "viajes_df['HORA_INICIO'] = viajes_df.apply(lambda row: pd.Timedelta(hours=row['p5_9_1'], minutes=row['p5_9_2']),axis=1)\n",
    "viajes_df['HORA_FIN'] = viajes_df.apply(lambda row: pd.Timedelta(hours=row['p5_10_1'], minutes=row['p5_10_2']),axis=1)"
   ]
  },
  {
   "cell_type": "code",
   "execution_count": null,
   "id": "e7fca63f",
   "metadata": {
    "colab": {
     "base_uri": "https://localhost:8080/"
    },
    "executionInfo": {
     "elapsed": 33,
     "status": "ok",
     "timestamp": 1635818358659,
     "user": {
      "displayName": "Paula Vásquez H.",
      "photoUrl": "https://lh3.googleusercontent.com/a-/AOh14GgJUNawPfe0J41agMsUCwKAOgAzWX7zUOLCtayLFg=s64",
      "userId": "02019115936957150360"
     },
     "user_tz": 180
    },
    "id": "e7fca63f",
    "outputId": "ccc16d1e-c50f-4b1f-e96f-e62e8539ffcd"
   },
   "outputs": [],
   "source": [
    "viajes_df['HORA_FIN'][viajes_df['HORA_FIN'] < viajes_df['HORA_INICIO']] = viajes_df['HORA_FIN'][viajes_df['HORA_FIN'] < viajes_df['HORA_INICIO']] + pd.Timedelta(days=1)"
   ]
  },
  {
   "cell_type": "code",
   "execution_count": null,
   "id": "198cfd34",
   "metadata": {
    "colab": {
     "base_uri": "https://localhost:8080/"
    },
    "executionInfo": {
     "elapsed": 13,
     "status": "ok",
     "timestamp": 1635818358660,
     "user": {
      "displayName": "Paula Vásquez H.",
      "photoUrl": "https://lh3.googleusercontent.com/a-/AOh14GgJUNawPfe0J41agMsUCwKAOgAzWX7zUOLCtayLFg=s64",
      "userId": "02019115936957150360"
     },
     "user_tz": 180
    },
    "id": "198cfd34",
    "outputId": "a61774b1-bdce-4efa-f96c-82a0d60ed647",
    "scrolled": true
   },
   "outputs": [],
   "source": [
    "# Calculando duración del viaje\n",
    "viajes_df['duracion'] = (viajes_df['HORA_FIN'] - viajes_df['HORA_INICIO'])"
   ]
  },
  {
   "cell_type": "code",
   "execution_count": null,
   "id": "39771bce",
   "metadata": {
    "colab": {
     "base_uri": "https://localhost:8080/"
    },
    "executionInfo": {
     "elapsed": 23109,
     "status": "ok",
     "timestamp": 1635818381764,
     "user": {
      "displayName": "Paula Vásquez H.",
      "photoUrl": "https://lh3.googleusercontent.com/a-/AOh14GgJUNawPfe0J41agMsUCwKAOgAzWX7zUOLCtayLFg=s64",
      "userId": "02019115936957150360"
     },
     "user_tz": 180
    },
    "id": "39771bce",
    "outputId": "e3d89ba8-1731-4e7b-ae78-9b5cac225974"
   },
   "outputs": [],
   "source": [
    "# Clasificando si es viaje en horario pico\n",
    "def pico_habil(row):\n",
    "    if ((row['p5_9_1'] >= 7 and row['p5_9_1'] <= 9) or (row['p5_9_1'] >= 18 and row['p5_9_1'] < 19)) and row['DIA_HABIL']=='Si':\n",
    "        return'Si'\n",
    "    else:\n",
    "        return 'No'\n",
    "    \n",
    "viajes_df['PICO_HABIL'] = viajes_df.apply(lambda row: pico_habil(row), axis=1)"
   ]
  },
  {
   "cell_type": "code",
   "execution_count": null,
   "id": "1cf92193",
   "metadata": {
    "colab": {
     "base_uri": "https://localhost:8080/"
    },
    "executionInfo": {
     "elapsed": 24578,
     "status": "ok",
     "timestamp": 1635818406335,
     "user": {
      "displayName": "Paula Vásquez H.",
      "photoUrl": "https://lh3.googleusercontent.com/a-/AOh14GgJUNawPfe0J41agMsUCwKAOgAzWX7zUOLCtayLFg=s64",
      "userId": "02019115936957150360"
     },
     "user_tz": 180
    },
    "id": "1cf92193",
    "outputId": "8292fae6-cc62-44a5-da46-9b174429e898"
   },
   "outputs": [],
   "source": [
    "def pico_nohabil(row):\n",
    "    if ((row['p5_9_1'] >= 7 and row['p5_9_1'] <= 9) or (row['p5_9_1'] >= 6 and row['p5_9_1'] < 7)) and row['DIA_NOHABIL']=='Si':\n",
    "        return'Si'\n",
    "    else:\n",
    "        return 'No'\n",
    "    \n",
    "viajes_df['PICO_NOHABIL'] = viajes_df.apply(lambda row: pico_nohabil(row), axis=1)"
   ]
  },
  {
   "cell_type": "code",
   "execution_count": null,
   "id": "392a2c14",
   "metadata": {
    "colab": {
     "base_uri": "https://localhost:8080/"
    },
    "executionInfo": {
     "elapsed": 21,
     "status": "ok",
     "timestamp": 1635818406336,
     "user": {
      "displayName": "Paula Vásquez H.",
      "photoUrl": "https://lh3.googleusercontent.com/a-/AOh14GgJUNawPfe0J41agMsUCwKAOgAzWX7zUOLCtayLFg=s64",
      "userId": "02019115936957150360"
     },
     "user_tz": 180
    },
    "id": "392a2c14",
    "outputId": "417ffd06-13e9-4065-c5db-3c097f1bdf58"
   },
   "outputs": [],
   "source": [
    "print('Contando valores nulos por atributo')\n",
    "for column in viajes_df.columns:\n",
    "    print('{}: {}'.format(column, viajes_df[column].isna().sum()))"
   ]
  },
  {
   "cell_type": "code",
   "execution_count": null,
   "id": "748e621e",
   "metadata": {
    "colab": {
     "base_uri": "https://localhost:8080/"
    },
    "executionInfo": {
     "elapsed": 15,
     "status": "ok",
     "timestamp": 1635818406338,
     "user": {
      "displayName": "Paula Vásquez H.",
      "photoUrl": "https://lh3.googleusercontent.com/a-/AOh14GgJUNawPfe0J41agMsUCwKAOgAzWX7zUOLCtayLFg=s64",
      "userId": "02019115936957150360"
     },
     "user_tz": 180
    },
    "id": "748e621e",
    "outputId": "0df73238-0223-44a7-ddfa-2c4ac4860b7a"
   },
   "outputs": [],
   "source": [
    "viajes_df.shape"
   ]
  },
  {
   "cell_type": "markdown",
   "id": "da9bdcfb",
   "metadata": {
    "id": "da9bdcfb"
   },
   "source": [
    "#### Personas y Hogares"
   ]
  },
  {
   "cell_type": "markdown",
   "id": "AXrUPDxoQ8yM",
   "metadata": {
    "id": "AXrUPDxoQ8yM"
   },
   "source": [
    "En esta etapa nos enfocaremos en preparar los datos con respecto a personas.\n",
    "En particular, nos enfocamos en limpiar y estandarizar los datos para las columnas que son relevantes para el cálculo de indicadores.\n"
   ]
  },
  {
   "cell_type": "code",
   "execution_count": null,
   "id": "47b51113",
   "metadata": {
    "id": "47b51113"
   },
   "outputs": [],
   "source": [
    "selected_columns = ['id_soc', 'factor', 'edad', 'id_hog', 'sexo']\n",
    "personas_df = data_personas[selected_columns]"
   ]
  },
  {
   "cell_type": "code",
   "execution_count": null,
   "id": "m2bXrcKttgGD",
   "metadata": {
    "id": "m2bXrcKttgGD"
   },
   "outputs": [],
   "source": [
    "selected_columns = ['id_hog', 'distrito']\n",
    "encuestas_df = data_hogares[selected_columns]"
   ]
  },
  {
   "cell_type": "code",
   "execution_count": null,
   "id": "0uorUKGutiPQ",
   "metadata": {
    "id": "0uorUKGutiPQ"
   },
   "outputs": [],
   "source": [
    "personas_df = pd.merge(personas_df, encuestas_df, on='id_hog', how='left')"
   ]
  },
  {
   "cell_type": "code",
   "execution_count": null,
   "id": "0MTHrzHruMl2",
   "metadata": {
    "id": "0MTHrzHruMl2"
   },
   "outputs": [],
   "source": [
    "personas_df['sexo'] = personas_df.apply(lambda row: mapear_sexo(row), axis=1)"
   ]
  },
  {
   "cell_type": "code",
   "execution_count": null,
   "id": "f86ec2ad",
   "metadata": {
    "id": "f86ec2ad"
   },
   "outputs": [],
   "source": [
    "viajes_personas = pd.merge(viajes_df, personas_df, on=['id_soc'], how='left')"
   ]
  },
  {
   "cell_type": "code",
   "execution_count": null,
   "id": "c122d955",
   "metadata": {
    "colab": {
     "base_uri": "https://localhost:8080/"
    },
    "executionInfo": {
     "elapsed": 553,
     "status": "ok",
     "timestamp": 1635818409299,
     "user": {
      "displayName": "Paula Vásquez H.",
      "photoUrl": "https://lh3.googleusercontent.com/a-/AOh14GgJUNawPfe0J41agMsUCwKAOgAzWX7zUOLCtayLFg=s64",
      "userId": "02019115936957150360"
     },
     "user_tz": 180
    },
    "id": "c122d955",
    "outputId": "3fdaf1f6-827b-4cf6-9a9e-ea267fe37736",
    "scrolled": false
   },
   "outputs": [],
   "source": [
    "print('Contando valores nulos por atributo')\n",
    "for column in viajes_personas.columns:\n",
    "    print('{}: {}'.format(column, viajes_personas[column].isna().sum()))"
   ]
  },
  {
   "cell_type": "markdown",
   "id": "330e3662",
   "metadata": {},
   "source": [
    "### Generación csv"
   ]
  },
  {
   "cell_type": "code",
   "execution_count": null,
   "id": "fJyCVO3VXrAp",
   "metadata": {
    "id": "fJyCVO3VXrAp"
   },
   "outputs": [],
   "source": [
    "viajes_personas.to_csv(data_path + 'ciudad-de-mexico/csv/viajes_personas_mexico_2017.csv', index=False)"
   ]
  },
  {
   "cell_type": "markdown",
   "id": "02a5f9c1",
   "metadata": {},
   "source": [
    "### Generación geojson"
   ]
  },
  {
   "cell_type": "code",
   "execution_count": null,
   "id": "9c373d16",
   "metadata": {},
   "outputs": [],
   "source": [
    "origenes_viajes = gpd.GeoDataFrame(\n",
    "    viajes_personas, geometry=gpd.points_from_xy(viajes_personas.LONGITUD_ORIGEN, viajes_personas.LATITUD_ORIGEN, crs='epsg:32614'))\n",
    "\n",
    "destinos_viajes = gpd.GeoDataFrame(\n",
    "    viajes_personas, geometry=gpd.points_from_xy(viajes_personas.LONGITUD_DESTINO, viajes_personas.LATITUD_DESTINO, crs='epsg:32614'))"
   ]
  },
  {
   "cell_type": "code",
   "execution_count": null,
   "id": "16d6fff9",
   "metadata": {},
   "outputs": [],
   "source": [
    "origenes_viajes['duracion_hrs'] = origenes_viajes.duracion.dt.components['hours']\n",
    "destinos_viajes['duracion_hrs'] = destinos_viajes.duracion.dt.components['hours']"
   ]
  },
  {
   "cell_type": "code",
   "execution_count": null,
   "id": "80400b9a",
   "metadata": {},
   "outputs": [],
   "source": [
    "origenes_viajes['duracion_minutos'] = origenes_viajes.duracion.dt.components['minutes']\n",
    "destinos_viajes['duracion_minutos'] = destinos_viajes.duracion.dt.components['minutes']"
   ]
  },
  {
   "cell_type": "code",
   "execution_count": null,
   "id": "001ba72c",
   "metadata": {},
   "outputs": [],
   "source": [
    "origenes_viajes['HORA_INICIO_HR'] = origenes_viajes.HORA_INICIO.dt.components['hours']\n",
    "destinos_viajes['HORA_INICIO_HR'] = destinos_viajes.HORA_INICIO.dt.components['hours']"
   ]
  },
  {
   "cell_type": "code",
   "execution_count": null,
   "id": "74b5f51b",
   "metadata": {},
   "outputs": [],
   "source": [
    "origenes_viajes['HORA_INICIO_MINUTOS'] = origenes_viajes.HORA_INICIO.dt.components['minutes']\n",
    "destinos_viajes['HORA_INICIO_MINUTOS'] = destinos_viajes.HORA_INICIO.dt.components['minutes']"
   ]
  },
  {
   "cell_type": "code",
   "execution_count": null,
   "id": "ee5bef31",
   "metadata": {},
   "outputs": [],
   "source": [
    "origenes_viajes['HORA_FIN_HR'] = origenes_viajes.HORA_FIN.dt.components['hours']\n",
    "destinos_viajes['HORA_FIN_HR'] = destinos_viajes.HORA_FIN.dt.components['hours']"
   ]
  },
  {
   "cell_type": "code",
   "execution_count": null,
   "id": "d7d33431",
   "metadata": {},
   "outputs": [],
   "source": [
    "origenes_viajes['HORA_FIN_MINUTOS'] = origenes_viajes.HORA_FIN.dt.components['minutes']\n",
    "destinos_viajes['HORA_FIN_MINUTOS'] = destinos_viajes.HORA_FIN.dt.components['minutes']"
   ]
  },
  {
   "cell_type": "code",
   "execution_count": null,
   "id": "b1d3efa0",
   "metadata": {},
   "outputs": [],
   "source": [
    "origenes_viajes.drop(['duracion', 'HORA_INICIO', 'HORA_FIN'], axis=1, inplace = True)\n",
    "destinos_viajes.drop(['duracion', 'HORA_INICIO', 'HORA_FIN'], axis=1, inplace = True)"
   ]
  },
  {
   "cell_type": "code",
   "execution_count": null,
   "id": "b2de0bac",
   "metadata": {},
   "outputs": [],
   "source": [
    "origenes_viajes.to_file(data_path + 'ciudad-de-mexico/output-geojson/origenes_viajes.geojson', driver='GeoJSON')\n",
    "destinos_viajes.to_file(data_path + 'ciudad-de-mexico/output-geojson/destinos_viajes.geojson', driver='GeoJSON')"
   ]
  },
  {
   "cell_type": "markdown",
   "id": "d20c5f4b",
   "metadata": {},
   "source": [
    "### Generación shp"
   ]
  },
  {
   "cell_type": "code",
   "execution_count": null,
   "id": "a82a1b49",
   "metadata": {},
   "outputs": [],
   "source": [
    "origenes_viajes.to_file(data_path + 'ciudad-de-mexico/output-shp/origenes_viajes.shp', driver='GeoJSON')\n",
    "destinos_viajes.to_file(data_path + 'ciudad-de-mexico/output-shp/destinos_viajes.shp', driver='GeoJSON')"
   ]
  },
  {
   "cell_type": "markdown",
   "id": "wyl10kCVraRX",
   "metadata": {
    "id": "wyl10kCVraRX"
   },
   "source": [
    "### Descripción de los datos"
   ]
  },
  {
   "cell_type": "markdown",
   "id": "UKEsRqAUsBBY",
   "metadata": {
    "id": "UKEsRqAUsBBY"
   },
   "source": [
    "¿Donde viven los encuestados?"
   ]
  },
  {
   "cell_type": "code",
   "execution_count": null,
   "id": "JePFWYfIsEdY",
   "metadata": {
    "id": "JePFWYfIsEdY"
   },
   "outputs": [],
   "source": [
    "encuestas_df = pd.merge(encuestas_df, city_shp[['Distrito', 'Descripcio']], left_on='distrito', right_on='Distrito')"
   ]
  },
  {
   "cell_type": "code",
   "execution_count": null,
   "id": "X9tAJyOjuqbP",
   "metadata": {
    "colab": {
     "base_uri": "https://localhost:8080/",
     "height": 655
    },
    "executionInfo": {
     "elapsed": 1376,
     "status": "ok",
     "timestamp": 1632959793175,
     "user": {
      "displayName": "Paula Vásquez H.",
      "photoUrl": "https://lh3.googleusercontent.com/a-/AOh14GgJUNawPfe0J41agMsUCwKAOgAzWX7zUOLCtayLFg=s64",
      "userId": "02019115936957150360"
     },
     "user_tz": 180
    },
    "id": "X9tAJyOjuqbP",
    "outputId": "ec3afe14-0d6c-434b-ac07-3cb60b041b8c"
   },
   "outputs": [],
   "source": [
    "hogares_por_barrio = encuestas_df.groupby(\"Descripcio\").size().sort_values()\n",
    "\n",
    "ax = hogares_por_barrio[-49:].plot(kind=\"barh\", width=0.9, figsize=(8, 9))\n",
    "ax.set_xlabel(\"Cantidad de hogares entrevistados\")\n",
    "ax.set_title(\"Distribución de hogares por distrito\")\n",
    "sns.despine()"
   ]
  },
  {
   "cell_type": "markdown",
   "id": "yjxe0IUFu2XZ",
   "metadata": {
    "id": "yjxe0IUFu2XZ"
   },
   "source": [
    "¿Quienes son las personas encuestadas?"
   ]
  },
  {
   "cell_type": "code",
   "execution_count": null,
   "id": "YidTSLSOu58c",
   "metadata": {
    "colab": {
     "base_uri": "https://localhost:8080/"
    },
    "executionInfo": {
     "elapsed": 9,
     "status": "ok",
     "timestamp": 1632959793176,
     "user": {
      "displayName": "Paula Vásquez H.",
      "photoUrl": "https://lh3.googleusercontent.com/a-/AOh14GgJUNawPfe0J41agMsUCwKAOgAzWX7zUOLCtayLFg=s64",
      "userId": "02019115936957150360"
     },
     "user_tz": 180
    },
    "id": "YidTSLSOu58c",
    "outputId": "0d1264fc-f259-4d2a-d0eb-445da6b72938"
   },
   "outputs": [],
   "source": [
    "personas_df.edad.describe()"
   ]
  },
  {
   "cell_type": "code",
   "execution_count": null,
   "id": "fI58-RGFvAd1",
   "metadata": {
    "id": "fI58-RGFvAd1"
   },
   "outputs": [],
   "source": [
    "def age_cohorts(row, age_column):\n",
    "    if row[age_column] < 18:\n",
    "        return '<18'\n",
    "    elif row[age_column] <=29 and row[age_column] > 18:\n",
    "        return '18-29'\n",
    "    elif row[age_column] <=60 and row[age_column] > 29:\n",
    "        return '30-60'\n",
    "    elif row[age_column] > 60 and row[age_column] < 100:\n",
    "        return '>60'\n",
    "    else:\n",
    "        return 'No declarado'"
   ]
  },
  {
   "cell_type": "code",
   "execution_count": null,
   "id": "eSsKDNzfvq_h",
   "metadata": {
    "id": "eSsKDNzfvq_h"
   },
   "outputs": [],
   "source": [
    "def normalize_rows(df):\n",
    "    return df.pipe(lambda x: pd.DataFrame(normalize(df, axis=1, norm='l1'), columns=df.columns, index=df.index))"
   ]
  },
  {
   "cell_type": "code",
   "execution_count": null,
   "id": "XikIEMxQu8Ti",
   "metadata": {
    "id": "XikIEMxQu8Ti"
   },
   "outputs": [],
   "source": [
    "personas_df['age_cohort'] = personas_df.apply(lambda row: age_cohorts(row, 'edad'), axis=1)"
   ]
  },
  {
   "cell_type": "code",
   "execution_count": null,
   "id": "Z8pd2i7QvI9x",
   "metadata": {
    "colab": {
     "base_uri": "https://localhost:8080/",
     "height": 241
    },
    "executionInfo": {
     "elapsed": 8,
     "status": "ok",
     "timestamp": 1632959796598,
     "user": {
      "displayName": "Paula Vásquez H.",
      "photoUrl": "https://lh3.googleusercontent.com/a-/AOh14GgJUNawPfe0J41agMsUCwKAOgAzWX7zUOLCtayLFg=s64",
      "userId": "02019115936957150360"
     },
     "user_tz": 180
    },
    "id": "Z8pd2i7QvI9x",
    "outputId": "bbb4a1d4-81f7-42d5-bf2b-e24d78c4dbc2"
   },
   "outputs": [],
   "source": [
    "order = ['<18', '18-29', '30-60','>60','No declarado']\n",
    "ax = (personas_df.groupby(['age_cohort']).size().loc[reversed(order)]\n",
    " .plot(kind='barh', figsize=(6,3)))\n",
    "ax.set_xlabel(\"# de Encuestados\")\n",
    "ax.set_ylabel(\" \")\n",
    "ax.set_title(\"Distribución de Personas encuestadas por grupo de edad\")\n",
    "sns.despine()"
   ]
  },
  {
   "cell_type": "code",
   "execution_count": null,
   "id": "YAHTBXctvRGL",
   "metadata": {
    "colab": {
     "base_uri": "https://localhost:8080/",
     "height": 241
    },
    "executionInfo": {
     "elapsed": 547,
     "status": "ok",
     "timestamp": 1632959797139,
     "user": {
      "displayName": "Paula Vásquez H.",
      "photoUrl": "https://lh3.googleusercontent.com/a-/AOh14GgJUNawPfe0J41agMsUCwKAOgAzWX7zUOLCtayLFg=s64",
      "userId": "02019115936957150360"
     },
     "user_tz": 180
    },
    "id": "YAHTBXctvRGL",
    "outputId": "3c417d0f-1455-40e9-ea12-12cbbec61e98"
   },
   "outputs": [],
   "source": [
    "ax = (personas_df.groupby(['sexo']).size()\n",
    " .plot(kind='barh', figsize=(6,3)))\n",
    "ax.set_xlabel(\"# de Encuestados\")\n",
    "ax.set_ylabel(\" \")\n",
    "ax.set_title(\"Distribución de Personas encuestadas por sexo\")\n",
    "sns.despine()"
   ]
  },
  {
   "cell_type": "code",
   "execution_count": null,
   "id": "v2wt-p4BvhW-",
   "metadata": {
    "colab": {
     "base_uri": "https://localhost:8080/",
     "height": 258
    },
    "executionInfo": {
     "elapsed": 393,
     "status": "ok",
     "timestamp": 1632959797516,
     "user": {
      "displayName": "Paula Vásquez H.",
      "photoUrl": "https://lh3.googleusercontent.com/a-/AOh14GgJUNawPfe0J41agMsUCwKAOgAzWX7zUOLCtayLFg=s64",
      "userId": "02019115936957150360"
     },
     "user_tz": 180
    },
    "id": "v2wt-p4BvhW-",
    "outputId": "d08cfd15-ab75-4ec7-f57e-84efeb89897b"
   },
   "outputs": [],
   "source": [
    "ax = (personas_df.groupby(['age_cohort', 'sexo']).size().unstack()\n",
    " .pipe(normalize_rows)\n",
    " .plot(kind='barh', stacked=True, figsize=(6, 3)))\n",
    "ax.set_xlabel(\"% de Encuestados\")\n",
    "ax.set_ylabel(\" \")\n",
    "ax.set_title(\"Distribución de Personas encuestadas por sexo y edad\")\n",
    "sns.despine()\n",
    "\n",
    "plt.legend(loc=0, bbox_to_anchor=(1.0, 0.5))"
   ]
  },
  {
   "cell_type": "markdown",
   "id": "hMuxVdSqIzFl",
   "metadata": {
    "id": "hMuxVdSqIzFl"
   },
   "source": [
    "### Parte I: Indicadores de Cantidad de Viajes\n",
    "\n",
    "En esta primera parte, responderemos algunas preguntas respecto a indicadores de cantidades de viajes realizados, en días hábiles de viaje. Para esto, buscaremos responder las siguientes preguntas:\n",
    "\n",
    "1. ¿Cuál es la tasa promedio de viajes diarios en transporte público por clasificador económico?\n",
    "2. ¿Cuál es la tasa promedio de viajes diarios en transporte privado por clasificador económico?\n",
    "3. ¿Cuál es la razón entre los viajes en transporte público y privado por clasificador socioeconómico?\n",
    "4. ¿Cuál es la distribución/partición modal de los viajes por clasificador socioeconómico?"
   ]
  },
  {
   "cell_type": "markdown",
   "id": "cr3jPvqRkopA",
   "metadata": {
    "id": "cr3jPvqRkopA"
   },
   "source": [
    "En esta sección, se detallarán los resultados para indicadores a nivel de viajes, separados por días hábiles y no hábiles de viaje, y por clasificador socioeconómico."
   ]
  },
  {
   "cell_type": "code",
   "execution_count": null,
   "id": "5e3907b6",
   "metadata": {
    "colab": {
     "base_uri": "https://localhost:8080/"
    },
    "executionInfo": {
     "elapsed": 27,
     "status": "ok",
     "timestamp": 1632959797518,
     "user": {
      "displayName": "Paula Vásquez H.",
      "photoUrl": "https://lh3.googleusercontent.com/a-/AOh14GgJUNawPfe0J41agMsUCwKAOgAzWX7zUOLCtayLFg=s64",
      "userId": "02019115936957150360"
     },
     "user_tz": 180
    },
    "id": "5e3907b6",
    "outputId": "a0751766-2fa9-4866-90be-9ebdecd39f28"
   },
   "outputs": [],
   "source": [
    "print('Cantidad de viajes mapeados: totales encuesta , total expandido')\n",
    "viajes_habiles = viajes_personas[viajes_personas.DIA_HABIL=='Si']\n",
    "print('Total Viajes Habiles: {}'.format(viajes_habiles.shape[0]), viajes_habiles['factor_x'].sum())\n",
    "viajes_nohabiles = viajes_personas[viajes_personas.DIA_NOHABIL=='Si']\n",
    "print('Total Viajes No Habiles: {}'.format(viajes_nohabiles.shape[0]), viajes_nohabiles['factor_x'].sum())"
   ]
  },
  {
   "cell_type": "markdown",
   "id": "ddn8V_BLShbI",
   "metadata": {
    "id": "ddn8V_BLShbI"
   },
   "source": [
    "Separamos los viajes habiles y no habiles de acuerdo a si son privados o publicos"
   ]
  },
  {
   "cell_type": "code",
   "execution_count": null,
   "id": "6fe3f2f4",
   "metadata": {
    "id": "6fe3f2f4"
   },
   "outputs": [],
   "source": [
    "viajes_publico_habiles = viajes_habiles[viajes_habiles.ModoViaje.isin(publico_viaje)]\n",
    "viajes_publico_nohabiles = viajes_nohabiles[viajes_nohabiles.ModoViaje.isin(publico_viaje)]\n",
    "\n",
    "viajes_privado_habiles = viajes_habiles[viajes_habiles.ModoViaje.isin(privado_viaje)]\n",
    "viajes_privado_nohabiles = viajes_nohabiles[viajes_nohabiles.ModoViaje.isin(privado_viaje)]"
   ]
  },
  {
   "cell_type": "code",
   "execution_count": null,
   "id": "79e2c954",
   "metadata": {
    "id": "79e2c954"
   },
   "outputs": [],
   "source": [
    "def weighted_mean(df, value_column, weighs_column):\n",
    "    weighted_sum = (df[value_column] * df[weighs_column]).sum()\n",
    "    return weighted_sum / df[weighs_column].sum()"
   ]
  },
  {
   "cell_type": "code",
   "execution_count": null,
   "id": "5777b81a",
   "metadata": {
    "id": "5777b81a"
   },
   "outputs": [],
   "source": [
    "def weighted_median(df, val, weight):\n",
    "    df_sorted = df.sort_values(val)\n",
    "    cumsum = df_sorted[weight].cumsum()\n",
    "    cutoff = df_sorted[weight].sum() / 2.\n",
    "    return df_sorted[cumsum >= cutoff][val].iloc[0]"
   ]
  },
  {
   "cell_type": "markdown",
   "id": "uoCQOYaCI2E7",
   "metadata": {
    "id": "uoCQOYaCI2E7"
   },
   "source": [
    "#### **¿Cuál es la tasa promedio de viajes diarios en transporte público por clasificador económico?**"
   ]
  },
  {
   "cell_type": "markdown",
   "id": "BMWYNK57J-F0",
   "metadata": {
    "id": "BMWYNK57J-F0"
   },
   "source": [
    "Los siguientes gráficos muestran los viajes per cápita en trasporte público durante días hábiles y no hábiles, por clasificador socioeconómico."
   ]
  },
  {
   "cell_type": "code",
   "execution_count": null,
   "id": "2571065c",
   "metadata": {
    "id": "2571065c"
   },
   "outputs": [],
   "source": [
    "from pandasql import sqldf\n",
    "def calculate_n_viajes_per_capita(df, df_str, agg_columns_str, agg_columns_lst, id_person, person_weight, trip_weight=None):\n",
    "    q = \"SELECT DISTINCT {}, {}, {} FROM {}\".format(id_person, agg_columns_str, person_weight, df_str)\n",
    "    persons = sqldf(q, globals())\n",
    "    n_personas = persons.groupby(agg_columns_lst).sum()[[person_weight]].reset_index()\n",
    "    n_personas[agg_columns_lst[0]] = n_personas[agg_columns_lst[0]].astype(str)\n",
    "    n_viajes = df.groupby(agg_columns_lst).sum()[[trip_weight]].reset_index()\n",
    "    n_viajes[agg_columns_lst[0]] = n_viajes[agg_columns_lst[0]].astype(str)\n",
    "    merged = pd.merge(n_personas, n_viajes, on=agg_columns_lst, how='left')\n",
    "    merged['viajes_per_capita'] = merged[trip_weight] / merged[person_weight]\n",
    "    return merged"
   ]
  },
  {
   "cell_type": "code",
   "execution_count": null,
   "id": "5b74d147",
   "metadata": {
    "colab": {
     "base_uri": "https://localhost:8080/"
    },
    "executionInfo": {
     "elapsed": 10995,
     "status": "ok",
     "timestamp": 1632959808903,
     "user": {
      "displayName": "Paula Vásquez H.",
      "photoUrl": "https://lh3.googleusercontent.com/a-/AOh14GgJUNawPfe0J41agMsUCwKAOgAzWX7zUOLCtayLFg=s64",
      "userId": "02019115936957150360"
     },
     "user_tz": 180
    },
    "id": "5b74d147",
    "outputId": "76ba2ef1-b7da-42db-d68c-e7d7371730fe",
    "scrolled": true
   },
   "outputs": [],
   "source": [
    "print('Viajes per cápita en transporte público - Día Hábil')\n",
    "df = calculate_n_viajes_per_capita(viajes_publico_habiles, \"viajes_publico_habiles\", \"estrato\", [\"estrato\"], 'id_soc', 'factor_y', 'factor_x')"
   ]
  },
  {
   "cell_type": "code",
   "execution_count": null,
   "id": "O9zFaa0TW16U",
   "metadata": {
    "colab": {
     "base_uri": "https://localhost:8080/",
     "height": 319
    },
    "executionInfo": {
     "elapsed": 15,
     "status": "ok",
     "timestamp": 1632959808908,
     "user": {
      "displayName": "Paula Vásquez H.",
      "photoUrl": "https://lh3.googleusercontent.com/a-/AOh14GgJUNawPfe0J41agMsUCwKAOgAzWX7zUOLCtayLFg=s64",
      "userId": "02019115936957150360"
     },
     "user_tz": 180
    },
    "id": "O9zFaa0TW16U",
    "outputId": "a06d78da-a8e4-48d0-f31d-92acf8c09110"
   },
   "outputs": [],
   "source": [
    "#fig, ax = plt.subplots(figsize=(8,6))\n",
    "g = sns.catplot(x=\"estrato\", y=\"viajes_per_capita\", \n",
    "                capsize=.2, height=4, aspect=2,\n",
    "                kind=\"point\", data=df)\n",
    "\n",
    "g.fig.suptitle('Viajes per cápita en transporte público - Día Hábil')\n",
    "g.set_ylabels('# Viajes per Cápita')\n",
    "g.set_xlabels('Estrato')\n",
    "g.set(ylim=(0,3))\n",
    "\n",
    "#fig.tight_layout()"
   ]
  },
  {
   "cell_type": "code",
   "execution_count": null,
   "id": "e36212a6",
   "metadata": {
    "colab": {
     "base_uri": "https://localhost:8080/",
     "height": 244
    },
    "executionInfo": {
     "elapsed": 6767,
     "status": "ok",
     "timestamp": 1632959815668,
     "user": {
      "displayName": "Paula Vásquez H.",
      "photoUrl": "https://lh3.googleusercontent.com/a-/AOh14GgJUNawPfe0J41agMsUCwKAOgAzWX7zUOLCtayLFg=s64",
      "userId": "02019115936957150360"
     },
     "user_tz": 180
    },
    "id": "e36212a6",
    "outputId": "bb18b109-aff1-4e72-85f6-dfe023e49d15"
   },
   "outputs": [],
   "source": [
    "print('Viajes per cápita en transporte público - Día No Hábil')\n",
    "df = calculate_n_viajes_per_capita(viajes_publico_nohabiles, \"viajes_publico_nohabiles\", \"estrato\", [\"estrato\"], 'id_soc', 'factor_y', 'factor_x')\n",
    "df"
   ]
  },
  {
   "cell_type": "code",
   "execution_count": null,
   "id": "OV3P4NkiXYhI",
   "metadata": {
    "colab": {
     "base_uri": "https://localhost:8080/",
     "height": 319
    },
    "executionInfo": {
     "elapsed": 440,
     "status": "ok",
     "timestamp": 1632959816094,
     "user": {
      "displayName": "Paula Vásquez H.",
      "photoUrl": "https://lh3.googleusercontent.com/a-/AOh14GgJUNawPfe0J41agMsUCwKAOgAzWX7zUOLCtayLFg=s64",
      "userId": "02019115936957150360"
     },
     "user_tz": 180
    },
    "id": "OV3P4NkiXYhI",
    "outputId": "d545c660-0c0b-4f70-f773-7f838eb664a6"
   },
   "outputs": [],
   "source": [
    "g = sns.catplot(x=\"estrato\", y=\"viajes_per_capita\", \n",
    "                capsize=.2, height=4, aspect=2,\n",
    "                kind=\"point\", data=df)\n",
    "\n",
    "g.fig.suptitle('Viajes per cápita en transporte público - Día No Hábil')\n",
    "g.set_ylabels('# Viajes per Cápita')\n",
    "g.set_xlabels('Estrato')\n",
    "g.set(ylim=(0,3))\n",
    "\n",
    "#fig.tight_layout()"
   ]
  },
  {
   "cell_type": "markdown",
   "id": "rCw6ErbRtZ1s",
   "metadata": {
    "id": "rCw6ErbRtZ1s"
   },
   "source": [
    "No hay diferencia de cantidad de viajes per cápita en transporte público entre días hábiles y no hábiles para los distintos estratos."
   ]
  },
  {
   "cell_type": "markdown",
   "id": "IFvq0YwkI5md",
   "metadata": {
    "id": "IFvq0YwkI5md"
   },
   "source": [
    "#### **¿Cuál es la tasa promedio de viajes diarios en transporte privado por clasificador económico?**"
   ]
  },
  {
   "cell_type": "markdown",
   "id": "xGKiQ8ljKJ9Y",
   "metadata": {
    "id": "xGKiQ8ljKJ9Y"
   },
   "source": [
    "Los siguientes gráficos representan la tasa promedio de viajes diarios en el transporte privado durante días hábiles y no hábiles, por clasificador socioeconómico."
   ]
  },
  {
   "cell_type": "code",
   "execution_count": null,
   "id": "0f0d8f5c",
   "metadata": {
    "colab": {
     "base_uri": "https://localhost:8080/",
     "height": 244
    },
    "executionInfo": {
     "elapsed": 13605,
     "status": "ok",
     "timestamp": 1632959829695,
     "user": {
      "displayName": "Paula Vásquez H.",
      "photoUrl": "https://lh3.googleusercontent.com/a-/AOh14GgJUNawPfe0J41agMsUCwKAOgAzWX7zUOLCtayLFg=s64",
      "userId": "02019115936957150360"
     },
     "user_tz": 180
    },
    "id": "0f0d8f5c",
    "outputId": "509a7f41-5375-49a6-c6e9-4e1b38cdc803"
   },
   "outputs": [],
   "source": [
    "print('Viajes per cápita en transporte privado - Día Hábil')\n",
    "df = calculate_n_viajes_per_capita(viajes_privado_habiles, \"viajes_privado_habiles\", \"estrato\", [\"estrato\"], 'id_soc', 'factor_y', 'factor_x')\n",
    "df"
   ]
  },
  {
   "cell_type": "code",
   "execution_count": null,
   "id": "Im2OS1RpX6yU",
   "metadata": {
    "colab": {
     "base_uri": "https://localhost:8080/",
     "height": 319
    },
    "executionInfo": {
     "elapsed": 752,
     "status": "ok",
     "timestamp": 1632959848740,
     "user": {
      "displayName": "Paula Vásquez H.",
      "photoUrl": "https://lh3.googleusercontent.com/a-/AOh14GgJUNawPfe0J41agMsUCwKAOgAzWX7zUOLCtayLFg=s64",
      "userId": "02019115936957150360"
     },
     "user_tz": 180
    },
    "id": "Im2OS1RpX6yU",
    "outputId": "89849990-24c9-4b11-830b-4c61d95c2c62"
   },
   "outputs": [],
   "source": [
    "g = sns.catplot(x=\"estrato\", y=\"viajes_per_capita\", \n",
    "                capsize=.2, height=4, aspect=2,\n",
    "                kind=\"point\", data=df)\n",
    "\n",
    "g.fig.suptitle('Viajes per cápita en transporte privado - Día Hábil')\n",
    "g.set_ylabels('# Viajes per Cápita')\n",
    "g.set_xlabels('Estrato')\n",
    "g.set(ylim=(0,3))\n",
    "\n",
    "#fig.tight_layout()"
   ]
  },
  {
   "cell_type": "code",
   "execution_count": null,
   "id": "7CP5E_K9mMvm",
   "metadata": {
    "colab": {
     "base_uri": "https://localhost:8080/"
    },
    "executionInfo": {
     "elapsed": 8972,
     "status": "ok",
     "timestamp": 1632959865798,
     "user": {
      "displayName": "Paula Vásquez H.",
      "photoUrl": "https://lh3.googleusercontent.com/a-/AOh14GgJUNawPfe0J41agMsUCwKAOgAzWX7zUOLCtayLFg=s64",
      "userId": "02019115936957150360"
     },
     "user_tz": 180
    },
    "id": "7CP5E_K9mMvm",
    "outputId": "e2d4f2d5-8ecb-49b5-8d14-68779d8c841f"
   },
   "outputs": [],
   "source": [
    "print('Viajes per cápita en transporte privado - Día No Hábil')\n",
    "df = calculate_n_viajes_per_capita(viajes_privado_nohabiles, \"viajes_privado_nohabiles\", \"estrato\", [\"estrato\"], 'id_soc', 'factor_y', 'factor_x')"
   ]
  },
  {
   "cell_type": "code",
   "execution_count": null,
   "id": "DdVi-oxSYAxR",
   "metadata": {
    "colab": {
     "base_uri": "https://localhost:8080/",
     "height": 319
    },
    "executionInfo": {
     "elapsed": 563,
     "status": "ok",
     "timestamp": 1632959866357,
     "user": {
      "displayName": "Paula Vásquez H.",
      "photoUrl": "https://lh3.googleusercontent.com/a-/AOh14GgJUNawPfe0J41agMsUCwKAOgAzWX7zUOLCtayLFg=s64",
      "userId": "02019115936957150360"
     },
     "user_tz": 180
    },
    "id": "DdVi-oxSYAxR",
    "outputId": "7acadcef-1c4e-476c-8b18-f0d200b245c5"
   },
   "outputs": [],
   "source": [
    "g = sns.catplot(x=\"estrato\", y=\"viajes_per_capita\", \n",
    "                capsize=.2, height=4, aspect=2,\n",
    "                kind=\"point\", data=df)\n",
    "\n",
    "g.fig.suptitle('Viajes per cápita en transporte privado - Día No Hábil')\n",
    "g.set_ylabels('# Viajes per Cápita')\n",
    "g.set_xlabels('Estrato')\n",
    "g.set(ylim=(0,3))\n",
    "\n",
    "#fig.tight_layout()"
   ]
  },
  {
   "cell_type": "markdown",
   "id": "DYj8RNK3tgLg",
   "metadata": {
    "id": "DYj8RNK3tgLg"
   },
   "source": [
    "No hay diferencia de cantidad de viajes per cápita en transporte privado entre días hábiles y no hábiles para los distintos estratos."
   ]
  },
  {
   "cell_type": "markdown",
   "id": "MEGEqzLAI8DM",
   "metadata": {
    "id": "MEGEqzLAI8DM"
   },
   "source": [
    "#### **¿Cuál es la razón entre los viajes en transporte público y privado por clasificador socioeconómico?**"
   ]
  },
  {
   "cell_type": "markdown",
   "id": "0OSWLCNqKOwL",
   "metadata": {
    "id": "0OSWLCNqKOwL"
   },
   "source": [
    "Los gráficos a continuación muestran la razón entre los viajes en transporte público y transporte privado durante días hábiles y no hábiles, por clasificador socioeconómico."
   ]
  },
  {
   "cell_type": "code",
   "execution_count": null,
   "id": "ffdf7ef0",
   "metadata": {
    "colab": {
     "base_uri": "https://localhost:8080/"
    },
    "executionInfo": {
     "elapsed": 220,
     "status": "ok",
     "timestamp": 1632959870758,
     "user": {
      "displayName": "Paula Vásquez H.",
      "photoUrl": "https://lh3.googleusercontent.com/a-/AOh14GgJUNawPfe0J41agMsUCwKAOgAzWX7zUOLCtayLFg=s64",
      "userId": "02019115936957150360"
     },
     "user_tz": 180
    },
    "id": "ffdf7ef0",
    "outputId": "ef7471ae-00af-4ee2-cdde-445af1078d7b"
   },
   "outputs": [],
   "source": [
    "print('Razón entre los viajes en transporte público y privado - Día Hábil')\n",
    "df = viajes_privado_habiles.groupby([\"estrato\"]).agg(privado_sobre_publico = ('factor_x', 'sum')) / viajes_publico_habiles.groupby([\"estrato\"]).agg(privado_sobre_publico = ('factor_x', 'sum'))\n",
    "df = df.reset_index()"
   ]
  },
  {
   "cell_type": "code",
   "execution_count": null,
   "id": "Z9RCrtSCYgGN",
   "metadata": {
    "colab": {
     "base_uri": "https://localhost:8080/",
     "height": 319
    },
    "executionInfo": {
     "elapsed": 343,
     "status": "ok",
     "timestamp": 1632959877728,
     "user": {
      "displayName": "Paula Vásquez H.",
      "photoUrl": "https://lh3.googleusercontent.com/a-/AOh14GgJUNawPfe0J41agMsUCwKAOgAzWX7zUOLCtayLFg=s64",
      "userId": "02019115936957150360"
     },
     "user_tz": 180
    },
    "id": "Z9RCrtSCYgGN",
    "outputId": "fca5d3bd-1998-4e60-f070-ba8fe2b2ef10"
   },
   "outputs": [],
   "source": [
    "g = sns.catplot(x=\"estrato\", y=\"privado_sobre_publico\",\n",
    "                capsize=.2, height=4, aspect=2,\n",
    "                kind=\"point\", data=df)\n",
    "\n",
    "g.fig.suptitle('Razón entre los viajes en transporte público y privado - Día Hábil')\n",
    "g.set_ylabels('Proporción de viajes privados sobre públicos')\n",
    "g.set_xlabels('Estrato')\n",
    "g.set(ylim=(0,3))\n",
    "\n",
    "#fig.tight_layout()"
   ]
  },
  {
   "cell_type": "code",
   "execution_count": null,
   "id": "u8YaXmD9mjdW",
   "metadata": {
    "colab": {
     "base_uri": "https://localhost:8080/"
    },
    "executionInfo": {
     "elapsed": 259,
     "status": "ok",
     "timestamp": 1632959880030,
     "user": {
      "displayName": "Paula Vásquez H.",
      "photoUrl": "https://lh3.googleusercontent.com/a-/AOh14GgJUNawPfe0J41agMsUCwKAOgAzWX7zUOLCtayLFg=s64",
      "userId": "02019115936957150360"
     },
     "user_tz": 180
    },
    "id": "u8YaXmD9mjdW",
    "outputId": "9e46a0a8-68ca-4577-ba63-ef00f4be8fa9"
   },
   "outputs": [],
   "source": [
    "print('Razón entre los viajes en transporte público y privado - Día No Hábil')\n",
    "df = viajes_privado_nohabiles.groupby([\"estrato\"]).agg(privado_sobre_publico = ('factor_x', 'sum')) / viajes_publico_nohabiles.groupby([\"estrato\"]).agg(privado_sobre_publico = ('factor_x', 'sum'))\n",
    "df = df.reset_index()"
   ]
  },
  {
   "cell_type": "code",
   "execution_count": null,
   "id": "trGDzeUiY_va",
   "metadata": {
    "colab": {
     "base_uri": "https://localhost:8080/",
     "height": 319
    },
    "executionInfo": {
     "elapsed": 763,
     "status": "ok",
     "timestamp": 1632959885196,
     "user": {
      "displayName": "Paula Vásquez H.",
      "photoUrl": "https://lh3.googleusercontent.com/a-/AOh14GgJUNawPfe0J41agMsUCwKAOgAzWX7zUOLCtayLFg=s64",
      "userId": "02019115936957150360"
     },
     "user_tz": 180
    },
    "id": "trGDzeUiY_va",
    "outputId": "c0006855-28a9-41e9-d83e-d620d27eca14"
   },
   "outputs": [],
   "source": [
    "g = sns.catplot(x=\"estrato\", y=\"privado_sobre_publico\",\n",
    "                capsize=.2, height=4, aspect=2,\n",
    "                kind=\"point\", data=df)\n",
    "\n",
    "g.fig.suptitle('Razón entre los viajes en transporte público y privado - Día No Hábil')\n",
    "g.set_ylabels('Proporción de viajes privados sobre públicos')\n",
    "g.set_xlabels('Estrato')\n",
    "g.set(ylim=(0,3))\n",
    "\n",
    "#fig.tight_layout()"
   ]
  },
  {
   "cell_type": "markdown",
   "id": "OLFmG7tItryW",
   "metadata": {
    "id": "OLFmG7tItryW"
   },
   "source": [
    "En días hábiles y no hábiles, la diferencia de razón de viajes privados sobre públicos solo es evidente para la clasificación más alta."
   ]
  },
  {
   "cell_type": "markdown",
   "id": "mtfFCtvDJCld",
   "metadata": {
    "id": "mtfFCtvDJCld"
   },
   "source": [
    "#### **¿Cuál es la distribución/partición modal de los viajes por clasificador socioeconómico?**"
   ]
  },
  {
   "cell_type": "markdown",
   "id": "WuHDhiGHKSyh",
   "metadata": {
    "id": "WuHDhiGHKSyh"
   },
   "source": [
    "Las siguientes tablas y gráficos representan la partición modal de los viajes realizados en días hábiles y no hábiles, por clasificador socioeconómico."
   ]
  },
  {
   "cell_type": "code",
   "execution_count": null,
   "id": "00cf4cdc",
   "metadata": {
    "colab": {
     "base_uri": "https://localhost:8080/"
    },
    "executionInfo": {
     "elapsed": 236,
     "status": "ok",
     "timestamp": 1632959904221,
     "user": {
      "displayName": "Paula Vásquez H.",
      "photoUrl": "https://lh3.googleusercontent.com/a-/AOh14GgJUNawPfe0J41agMsUCwKAOgAzWX7zUOLCtayLFg=s64",
      "userId": "02019115936957150360"
     },
     "user_tz": 180
    },
    "id": "00cf4cdc",
    "outputId": "4c3d0e8b-a2df-4539-9fda-abbd35fc6d4c"
   },
   "outputs": [],
   "source": [
    "print('Partición Modal de los Viajes - Día Hábil')\n",
    "df = viajes_habiles.groupby([\"estrato\",\"ModoViaje\"]).sum()['factor_x'].unstack()\n",
    "#.agg(count=('MEDIO_PREDOMINANTE','count')).unstack()\n",
    "df_norm = df.div(df.sum(axis=1), axis=0)"
   ]
  },
  {
   "cell_type": "code",
   "execution_count": null,
   "id": "oXje4kf3Z_fQ",
   "metadata": {
    "colab": {
     "base_uri": "https://localhost:8080/",
     "height": 441
    },
    "executionInfo": {
     "elapsed": 594,
     "status": "ok",
     "timestamp": 1632959909890,
     "user": {
      "displayName": "Paula Vásquez H.",
      "photoUrl": "https://lh3.googleusercontent.com/a-/AOh14GgJUNawPfe0J41agMsUCwKAOgAzWX7zUOLCtayLFg=s64",
      "userId": "02019115936957150360"
     },
     "user_tz": 180
    },
    "id": "oXje4kf3Z_fQ",
    "outputId": "4da87df8-def6-457f-9c34-6bd179390c4f"
   },
   "outputs": [],
   "source": [
    "fig, ax = plt.subplots(figsize=(12, 6))\n",
    "\n",
    "ax = sns.heatmap(df_norm,linewidth=0.5)\n",
    "\n",
    "ax.set_title(\"Partición Modal de los Viajes - Día Hábil\")\n",
    "ax.set_xlabel(\"Modo de Transporte\")\n",
    "ax.set_ylabel(\"Estrato\")\n",
    "\n",
    "fig.tight_layout()"
   ]
  },
  {
   "cell_type": "code",
   "execution_count": null,
   "id": "6cEohJXrnHiF",
   "metadata": {
    "colab": {
     "base_uri": "https://localhost:8080/"
    },
    "executionInfo": {
     "elapsed": 265,
     "status": "ok",
     "timestamp": 1632959916715,
     "user": {
      "displayName": "Paula Vásquez H.",
      "photoUrl": "https://lh3.googleusercontent.com/a-/AOh14GgJUNawPfe0J41agMsUCwKAOgAzWX7zUOLCtayLFg=s64",
      "userId": "02019115936957150360"
     },
     "user_tz": 180
    },
    "id": "6cEohJXrnHiF",
    "outputId": "9efe7ead-8f52-4f7d-e262-555f6be7c81f"
   },
   "outputs": [],
   "source": [
    "print('Partición Modal de los Viajes - Día No Hábil')\n",
    "df = viajes_nohabiles.groupby([\"estrato\", \"ModoViaje\"]).sum()['factor_x'].unstack()\n",
    "#.agg(count=('MEDIO_PREDOMINANTE','count')).unstack()\n",
    "df_norm = df.div(df.sum(axis=1), axis=0)"
   ]
  },
  {
   "cell_type": "code",
   "execution_count": null,
   "id": "HLLjoZS_aGbN",
   "metadata": {
    "colab": {
     "base_uri": "https://localhost:8080/",
     "height": 441
    },
    "executionInfo": {
     "elapsed": 1033,
     "status": "ok",
     "timestamp": 1632959919596,
     "user": {
      "displayName": "Paula Vásquez H.",
      "photoUrl": "https://lh3.googleusercontent.com/a-/AOh14GgJUNawPfe0J41agMsUCwKAOgAzWX7zUOLCtayLFg=s64",
      "userId": "02019115936957150360"
     },
     "user_tz": 180
    },
    "id": "HLLjoZS_aGbN",
    "outputId": "468a10e4-4c5d-4663-8c82-75f0be621760"
   },
   "outputs": [],
   "source": [
    "fig, ax = plt.subplots(figsize=(12, 6))\n",
    "\n",
    "ax = sns.heatmap(df_norm,linewidth=0.5)\n",
    "\n",
    "ax.set_title(\"Partición Modal de los Viajes - Día No Hábil\")\n",
    "ax.set_xlabel(\"Modo de Transporte\")\n",
    "ax.set_ylabel(\"Estrato\")\n",
    "\n",
    "fig.tight_layout()"
   ]
  },
  {
   "cell_type": "markdown",
   "id": "rZOPYDOot4Nn",
   "metadata": {
    "id": "rZOPYDOot4Nn"
   },
   "source": [
    "En días hábiles y no hábiles, los modos de transporte con mayor distribución de viajes son el auto, donde el uso es mayor a medida que se sube de estrato, y Colectivo/Micro y Peatón, donde el uso aumenta a medida que disminuye el estrato."
   ]
  },
  {
   "cell_type": "code",
   "execution_count": null,
   "id": "6e9d6644",
   "metadata": {
    "colab": {
     "base_uri": "https://localhost:8080/"
    },
    "executionInfo": {
     "elapsed": 246,
     "status": "ok",
     "timestamp": 1632959931181,
     "user": {
      "displayName": "Paula Vásquez H.",
      "photoUrl": "https://lh3.googleusercontent.com/a-/AOh14GgJUNawPfe0J41agMsUCwKAOgAzWX7zUOLCtayLFg=s64",
      "userId": "02019115936957150360"
     },
     "user_tz": 180
    },
    "id": "6e9d6644",
    "outputId": "72d0db67-873a-44f2-a76c-19034031ed8a"
   },
   "outputs": [],
   "source": [
    "print('Partición Modal de los Viajes de acuerdo al tipo de transporte - Día Hábil')\n",
    "df = viajes_habiles.groupby([\"estrato\", \"publico_privado\"]).sum()['factor_x'].unstack()\n",
    "df_norm = df.div(df.sum(axis=1), axis=0)"
   ]
  },
  {
   "cell_type": "code",
   "execution_count": null,
   "id": "o3SMDF9ubDuB",
   "metadata": {
    "colab": {
     "base_uri": "https://localhost:8080/",
     "height": 433
    },
    "executionInfo": {
     "elapsed": 982,
     "status": "ok",
     "timestamp": 1632959932566,
     "user": {
      "displayName": "Paula Vásquez H.",
      "photoUrl": "https://lh3.googleusercontent.com/a-/AOh14GgJUNawPfe0J41agMsUCwKAOgAzWX7zUOLCtayLFg=s64",
      "userId": "02019115936957150360"
     },
     "user_tz": 180
    },
    "id": "o3SMDF9ubDuB",
    "outputId": "f4ae6ded-a52a-4875-c0c9-67fd200e9deb"
   },
   "outputs": [],
   "source": [
    "from aves.visualization.tables import barchart\n",
    "\n",
    "fig, ax = plt.subplots(figsize=(14, 7))\n",
    "\n",
    "barchart(\n",
    "    ax, df_norm, stacked=True, normalize=False, sort_categories=True, sort_items=False\n",
    ")\n",
    "\n",
    "ax.set_title(\"Partición Modal de los Viajes de acuerdo al tipo de transporte - Día Hábil\")\n",
    "ax.set_ylim([0, 1])\n",
    "ax.set_ylabel(\"Fracción de los Viajes\")\n",
    "ax.set_xlabel(\"Estrato\")\n",
    "\n",
    "fig.tight_layout()"
   ]
  },
  {
   "cell_type": "code",
   "execution_count": null,
   "id": "8ZhPihF7nWNH",
   "metadata": {
    "colab": {
     "base_uri": "https://localhost:8080/"
    },
    "executionInfo": {
     "elapsed": 244,
     "status": "ok",
     "timestamp": 1632959945636,
     "user": {
      "displayName": "Paula Vásquez H.",
      "photoUrl": "https://lh3.googleusercontent.com/a-/AOh14GgJUNawPfe0J41agMsUCwKAOgAzWX7zUOLCtayLFg=s64",
      "userId": "02019115936957150360"
     },
     "user_tz": 180
    },
    "id": "8ZhPihF7nWNH",
    "outputId": "d888e14e-6340-4dfd-946f-0e83a26cf746"
   },
   "outputs": [],
   "source": [
    "print('Partición Modal de los Viajes de acuerdo al tipo de transporte - Día No Hábil')\n",
    "df = viajes_nohabiles.groupby([\"estrato\", 'publico_privado']).sum()['factor_x'].unstack()\n",
    "df_norm = df.div(df.sum(axis=1), axis=0)"
   ]
  },
  {
   "cell_type": "code",
   "execution_count": null,
   "id": "Hiq8B3gVcGQr",
   "metadata": {
    "colab": {
     "base_uri": "https://localhost:8080/",
     "height": 433
    },
    "executionInfo": {
     "elapsed": 439,
     "status": "ok",
     "timestamp": 1632959946475,
     "user": {
      "displayName": "Paula Vásquez H.",
      "photoUrl": "https://lh3.googleusercontent.com/a-/AOh14GgJUNawPfe0J41agMsUCwKAOgAzWX7zUOLCtayLFg=s64",
      "userId": "02019115936957150360"
     },
     "user_tz": 180
    },
    "id": "Hiq8B3gVcGQr",
    "outputId": "a8016595-f381-4dc5-963d-d4d9ba4fb97a"
   },
   "outputs": [],
   "source": [
    "from aves.visualization.tables import barchart\n",
    "\n",
    "fig, ax = plt.subplots(figsize=(14, 7))\n",
    "\n",
    "barchart(\n",
    "    ax, df_norm, stacked=True, normalize=False, sort_categories=True, sort_items=False\n",
    ")\n",
    "\n",
    "ax.set_title(\"Partición Modal de los Viajes de acuerdo al tipo de transporte - Día No Hábil\")\n",
    "ax.set_ylim([0, 1])\n",
    "ax.set_ylabel(\"Fracción de los Viajes\")\n",
    "ax.set_xlabel(\"Estrato\")\n",
    "\n",
    "fig.tight_layout()"
   ]
  },
  {
   "cell_type": "markdown",
   "id": "4cwVRSCouHUw",
   "metadata": {
    "id": "4cwVRSCouHUw"
   },
   "source": [
    "En ambos tipos de días, la fracción de viajes realizados en transporte privado aumenta a medida que aumenta el estrato."
   ]
  },
  {
   "cell_type": "markdown",
   "id": "IErEs2D29Kgb",
   "metadata": {
    "id": "IErEs2D29Kgb"
   },
   "source": [
    "### Parte II: Indicadores de Tiempo de Viajes\n",
    "\n",
    "En esta segunda parte, responderemos algunas preguntas respecto a indicadores de tiempo de viajes realizados, en días hábiles de viaje. Para esto, buscaremos responder las siguientes preguntas:\n",
    "1. ¿Cuál es el tiempo promedio de viaje por modo y tipo de transporte?\n",
    "2. ¿Cuál es el tiempo promedio de viaje en hora punta de mañana?\n",
    "3. ¿Cuál es el tiempo de viaje en transporte público en hora punta de mañana?\n",
    "4. ¿Cuál es el tiempo promedio de viaje al trabajo en transporte público?"
   ]
  },
  {
   "cell_type": "markdown",
   "id": "1Q5bBhQJMZDL",
   "metadata": {
    "id": "1Q5bBhQJMZDL"
   },
   "source": [
    "En esta sección, se presentarán los indicadores de tiempo de viajes a nivel de viajes, durante días hábiles, y por clasificador socioeconómico."
   ]
  },
  {
   "cell_type": "code",
   "execution_count": null,
   "id": "41c6dba2",
   "metadata": {
    "colab": {
     "base_uri": "https://localhost:8080/"
    },
    "executionInfo": {
     "elapsed": 256,
     "status": "ok",
     "timestamp": 1632959951651,
     "user": {
      "displayName": "Paula Vásquez H.",
      "photoUrl": "https://lh3.googleusercontent.com/a-/AOh14GgJUNawPfe0J41agMsUCwKAOgAzWX7zUOLCtayLFg=s64",
      "userId": "02019115936957150360"
     },
     "user_tz": 180
    },
    "id": "41c6dba2",
    "outputId": "239fac01-49a1-42d1-fe44-92019fc43216"
   },
   "outputs": [],
   "source": [
    "viajes_habiles['duracion_minutos'] = pd.to_timedelta(viajes_habiles['duracion'])/pd.Timedelta('60s')\n",
    "viajes_nohabiles['duracion_minutos'] = pd.to_timedelta(viajes_nohabiles['duracion'])/pd.Timedelta('60s')"
   ]
  },
  {
   "cell_type": "markdown",
   "id": "HCsTcNVRJOKl",
   "metadata": {
    "id": "HCsTcNVRJOKl"
   },
   "source": [
    "#### **¿Cuál es el tiempo promedio de viaje por modo y tipo de transporte?**"
   ]
  },
  {
   "cell_type": "markdown",
   "id": "JPUadiVlliP1",
   "metadata": {
    "id": "JPUadiVlliP1"
   },
   "source": [
    "A continuación, se representa el promedio y mediana en minutos de viaje por modo y tipo de transporte en días hábiles y no hábiles, por clasificador socioeconómico."
   ]
  },
  {
   "cell_type": "code",
   "execution_count": null,
   "id": "e6767485",
   "metadata": {
    "colab": {
     "base_uri": "https://localhost:8080/"
    },
    "executionInfo": {
     "elapsed": 256,
     "status": "ok",
     "timestamp": 1632959958319,
     "user": {
      "displayName": "Paula Vásquez H.",
      "photoUrl": "https://lh3.googleusercontent.com/a-/AOh14GgJUNawPfe0J41agMsUCwKAOgAzWX7zUOLCtayLFg=s64",
      "userId": "02019115936957150360"
     },
     "user_tz": 180
    },
    "id": "e6767485",
    "outputId": "99de4925-a077-4f51-edd8-465a57babcb0",
    "scrolled": true
   },
   "outputs": [],
   "source": [
    "print('Duración promedio (en minutos) de viaje por modo - Dia Hábil')\n",
    "df = viajes_habiles.groupby([\"estrato\", \"ModoViaje\"]).apply(lambda x: weighted_mean(x, 'duracion_minutos', 'factor_x')).unstack()"
   ]
  },
  {
   "cell_type": "code",
   "execution_count": null,
   "id": "66MLprCmdiIY",
   "metadata": {
    "colab": {
     "base_uri": "https://localhost:8080/",
     "height": 479
    },
    "executionInfo": {
     "elapsed": 1270,
     "status": "ok",
     "timestamp": 1632959960520,
     "user": {
      "displayName": "Paula Vásquez H.",
      "photoUrl": "https://lh3.googleusercontent.com/a-/AOh14GgJUNawPfe0J41agMsUCwKAOgAzWX7zUOLCtayLFg=s64",
      "userId": "02019115936957150360"
     },
     "user_tz": 180
    },
    "id": "66MLprCmdiIY",
    "outputId": "ef283eca-2793-4e7e-9c1c-a8c886bbda07"
   },
   "outputs": [],
   "source": [
    "fig, ax = plt.subplots(figsize=(14, 7))\n",
    "\n",
    "ax = sns.heatmap(df, annot=True)\n",
    "\n",
    "ax.set_title(\"Duración promedio de viaje por modo - Día Hábil\")\n",
    "ax.set_xlabel(\"Modo de Transporte\")\n",
    "ax.set_ylabel(\"Estrato\")\n",
    "\n",
    "fig.tight_layout()"
   ]
  },
  {
   "cell_type": "code",
   "execution_count": null,
   "id": "aa1fa7a9",
   "metadata": {
    "colab": {
     "base_uri": "https://localhost:8080/"
    },
    "executionInfo": {
     "elapsed": 391,
     "status": "ok",
     "timestamp": 1632959968334,
     "user": {
      "displayName": "Paula Vásquez H.",
      "photoUrl": "https://lh3.googleusercontent.com/a-/AOh14GgJUNawPfe0J41agMsUCwKAOgAzWX7zUOLCtayLFg=s64",
      "userId": "02019115936957150360"
     },
     "user_tz": 180
    },
    "id": "aa1fa7a9",
    "outputId": "d557a18f-790d-49a3-eb6c-5d49991de2bf"
   },
   "outputs": [],
   "source": [
    "print('Duración mediana (en minutos) de viaje por modo - Dia Hábil')\n",
    "df = viajes_habiles.groupby([\"estrato\", \"ModoViaje\"]).apply(lambda x: weighted_median(x, 'duracion_minutos', 'factor_x')).unstack()"
   ]
  },
  {
   "cell_type": "code",
   "execution_count": null,
   "id": "6L9fcW_rd4jC",
   "metadata": {
    "colab": {
     "base_uri": "https://localhost:8080/",
     "height": 479
    },
    "executionInfo": {
     "elapsed": 1348,
     "status": "ok",
     "timestamp": 1632959969677,
     "user": {
      "displayName": "Paula Vásquez H.",
      "photoUrl": "https://lh3.googleusercontent.com/a-/AOh14GgJUNawPfe0J41agMsUCwKAOgAzWX7zUOLCtayLFg=s64",
      "userId": "02019115936957150360"
     },
     "user_tz": 180
    },
    "id": "6L9fcW_rd4jC",
    "outputId": "4f7622d4-d46d-4979-9277-a01e92140e02"
   },
   "outputs": [],
   "source": [
    "fig, ax = plt.subplots(figsize=(14, 7))\n",
    "\n",
    "ax = sns.heatmap(df, annot=True)\n",
    "\n",
    "ax.set_title(\"Duración mediana de viaje por modo - Día Hábil\")\n",
    "ax.set_xlabel(\"Modo de Transporte\")\n",
    "ax.set_ylabel(\"Estrato\")\n",
    "\n",
    "fig.tight_layout()"
   ]
  },
  {
   "cell_type": "code",
   "execution_count": null,
   "id": "sDgNLzRbqm0m",
   "metadata": {
    "colab": {
     "base_uri": "https://localhost:8080/"
    },
    "executionInfo": {
     "elapsed": 234,
     "status": "ok",
     "timestamp": 1632959976719,
     "user": {
      "displayName": "Paula Vásquez H.",
      "photoUrl": "https://lh3.googleusercontent.com/a-/AOh14GgJUNawPfe0J41agMsUCwKAOgAzWX7zUOLCtayLFg=s64",
      "userId": "02019115936957150360"
     },
     "user_tz": 180
    },
    "id": "sDgNLzRbqm0m",
    "outputId": "076d9288-9662-4455-c528-39382c182169"
   },
   "outputs": [],
   "source": [
    "print('Duración promedio (en minutos) de viaje por modo - Dia No Hábil')\n",
    "df = viajes_nohabiles.groupby([\"estrato\", \"ModoViaje\"]).apply(lambda x: weighted_mean(x, 'duracion_minutos', 'factor_x')).unstack()"
   ]
  },
  {
   "cell_type": "code",
   "execution_count": null,
   "id": "c6_mmr5KeMA5",
   "metadata": {
    "colab": {
     "base_uri": "https://localhost:8080/",
     "height": 479
    },
    "executionInfo": {
     "elapsed": 1269,
     "status": "ok",
     "timestamp": 1632959979066,
     "user": {
      "displayName": "Paula Vásquez H.",
      "photoUrl": "https://lh3.googleusercontent.com/a-/AOh14GgJUNawPfe0J41agMsUCwKAOgAzWX7zUOLCtayLFg=s64",
      "userId": "02019115936957150360"
     },
     "user_tz": 180
    },
    "id": "c6_mmr5KeMA5",
    "outputId": "6bef1847-2ab7-459b-e479-81d215586030"
   },
   "outputs": [],
   "source": [
    "fig, ax = plt.subplots(figsize=(14, 7))\n",
    "\n",
    "ax = sns.heatmap(df, annot=True)\n",
    "\n",
    "ax.set_title(\"Duración promedio de viaje por modo - Día No Hábil\")\n",
    "ax.set_xlabel(\"Modo de Transporte\")\n",
    "ax.set_ylabel(\"Estrato\")\n",
    "\n",
    "fig.tight_layout()"
   ]
  },
  {
   "cell_type": "code",
   "execution_count": null,
   "id": "a263fd21",
   "metadata": {
    "colab": {
     "base_uri": "https://localhost:8080/"
    },
    "executionInfo": {
     "elapsed": 593,
     "status": "ok",
     "timestamp": 1632959982553,
     "user": {
      "displayName": "Paula Vásquez H.",
      "photoUrl": "https://lh3.googleusercontent.com/a-/AOh14GgJUNawPfe0J41agMsUCwKAOgAzWX7zUOLCtayLFg=s64",
      "userId": "02019115936957150360"
     },
     "user_tz": 180
    },
    "id": "a263fd21",
    "outputId": "7642e027-79e3-4bd3-cf80-c96038c95a87"
   },
   "outputs": [],
   "source": [
    "print('Duración mediana (en minutos) de viaje por modo - Dia No Hábil')\n",
    "df = viajes_nohabiles.groupby([\"estrato\", \"ModoViaje\"]).apply(lambda x: weighted_median(x, 'duracion_minutos', 'factor_x')).unstack()"
   ]
  },
  {
   "cell_type": "code",
   "execution_count": null,
   "id": "ox35TiwteP9n",
   "metadata": {
    "colab": {
     "base_uri": "https://localhost:8080/",
     "height": 479
    },
    "executionInfo": {
     "elapsed": 1503,
     "status": "ok",
     "timestamp": 1632959985199,
     "user": {
      "displayName": "Paula Vásquez H.",
      "photoUrl": "https://lh3.googleusercontent.com/a-/AOh14GgJUNawPfe0J41agMsUCwKAOgAzWX7zUOLCtayLFg=s64",
      "userId": "02019115936957150360"
     },
     "user_tz": 180
    },
    "id": "ox35TiwteP9n",
    "outputId": "4907767d-f287-42f3-d136-68490931e3a7"
   },
   "outputs": [],
   "source": [
    "fig, ax = plt.subplots(figsize=(14, 7))\n",
    "\n",
    "ax = sns.heatmap(df, annot=True)\n",
    "\n",
    "ax.set_title(\"Duración mediana de viaje por modo - Día No Hábil\")\n",
    "ax.set_xlabel(\"Modo de Transporte\")\n",
    "ax.set_ylabel(\"Estrato\")\n",
    "\n",
    "fig.tight_layout()"
   ]
  },
  {
   "cell_type": "markdown",
   "id": "kH97IwRSuoCw",
   "metadata": {
    "id": "kH97IwRSuoCw"
   },
   "source": [
    "Durante días hábiles, los viajes con mayor duración promedio con los realizados en Metro, mientras que los viajes con menor duración promedio son los realizados en Mototaxi. En días no hábiles, los viajes con mayor duración promedio son los realizados en Metrobus o Autobus."
   ]
  },
  {
   "cell_type": "code",
   "execution_count": null,
   "id": "244e1141",
   "metadata": {
    "colab": {
     "base_uri": "https://localhost:8080/"
    },
    "executionInfo": {
     "elapsed": 328,
     "status": "ok",
     "timestamp": 1632959990178,
     "user": {
      "displayName": "Paula Vásquez H.",
      "photoUrl": "https://lh3.googleusercontent.com/a-/AOh14GgJUNawPfe0J41agMsUCwKAOgAzWX7zUOLCtayLFg=s64",
      "userId": "02019115936957150360"
     },
     "user_tz": 180
    },
    "id": "244e1141",
    "outputId": "d6839ac8-5503-4cd2-ed52-6050a3e37c82"
   },
   "outputs": [],
   "source": [
    "print('Duración promedio (en minutos) de viaje por tipo de transporte - Dia Hábil')\n",
    "df = viajes_habiles.groupby([\"estrato\", 'publico_privado']).apply(lambda x: weighted_mean(x, 'duracion_minutos', 'factor_x')).unstack()"
   ]
  },
  {
   "cell_type": "code",
   "execution_count": null,
   "id": "37_QgpUaefr7",
   "metadata": {
    "colab": {
     "base_uri": "https://localhost:8080/",
     "height": 297
    },
    "executionInfo": {
     "elapsed": 775,
     "status": "ok",
     "timestamp": 1632960008469,
     "user": {
      "displayName": "Paula Vásquez H.",
      "photoUrl": "https://lh3.googleusercontent.com/a-/AOh14GgJUNawPfe0J41agMsUCwKAOgAzWX7zUOLCtayLFg=s64",
      "userId": "02019115936957150360"
     },
     "user_tz": 180
    },
    "id": "37_QgpUaefr7",
    "outputId": "abb8ccfa-cd79-4f77-e02a-d1b61754f5da"
   },
   "outputs": [],
   "source": [
    "fig, ax = plt.subplots(figsize=(3, 4))\n",
    "\n",
    "ax = sns.heatmap(df, annot=True)\n",
    "\n",
    "ax.set_title(\"Duración promedio de viaje por modo - Día Hábil\")\n",
    "ax.set_xlabel(\"Tipo de Transporte\")\n",
    "ax.set_ylabel(\"Estrato\")\n",
    "\n",
    "fig.tight_layout()"
   ]
  },
  {
   "cell_type": "code",
   "execution_count": null,
   "id": "d8d8b519",
   "metadata": {
    "colab": {
     "base_uri": "https://localhost:8080/"
    },
    "executionInfo": {
     "elapsed": 804,
     "status": "ok",
     "timestamp": 1632960014813,
     "user": {
      "displayName": "Paula Vásquez H.",
      "photoUrl": "https://lh3.googleusercontent.com/a-/AOh14GgJUNawPfe0J41agMsUCwKAOgAzWX7zUOLCtayLFg=s64",
      "userId": "02019115936957150360"
     },
     "user_tz": 180
    },
    "id": "d8d8b519",
    "outputId": "c0213cb6-7d44-47d8-ef10-10b6fb452227"
   },
   "outputs": [],
   "source": [
    "print('Duración mediana (en minutos) de viaje por tipo de transporte - Dia Hábil')\n",
    "df = viajes_habiles.groupby([\"estrato\", 'publico_privado']).apply(lambda x: weighted_median(x, 'duracion_minutos', 'factor_x')).unstack()"
   ]
  },
  {
   "cell_type": "code",
   "execution_count": null,
   "id": "B8ml7DlMey0g",
   "metadata": {
    "colab": {
     "base_uri": "https://localhost:8080/",
     "height": 297
    },
    "executionInfo": {
     "elapsed": 784,
     "status": "ok",
     "timestamp": 1632960022627,
     "user": {
      "displayName": "Paula Vásquez H.",
      "photoUrl": "https://lh3.googleusercontent.com/a-/AOh14GgJUNawPfe0J41agMsUCwKAOgAzWX7zUOLCtayLFg=s64",
      "userId": "02019115936957150360"
     },
     "user_tz": 180
    },
    "id": "B8ml7DlMey0g",
    "outputId": "0d8683fe-cb30-45b4-ff18-8f58f88c3275"
   },
   "outputs": [],
   "source": [
    "fig, ax = plt.subplots(figsize=(3, 4))\n",
    "\n",
    "ax = sns.heatmap(df, annot=True)\n",
    "\n",
    "ax.set_title(\"Duración mediana de viaje por modo - Día Hábil\")\n",
    "ax.set_xlabel(\"Tipo de Transporte\")\n",
    "ax.set_ylabel(\"Estrato\")\n",
    "\n",
    "fig.tight_layout()"
   ]
  },
  {
   "cell_type": "code",
   "execution_count": null,
   "id": "5aSOv8sDrmqp",
   "metadata": {
    "colab": {
     "base_uri": "https://localhost:8080/"
    },
    "executionInfo": {
     "elapsed": 298,
     "status": "ok",
     "timestamp": 1632960068400,
     "user": {
      "displayName": "Paula Vásquez H.",
      "photoUrl": "https://lh3.googleusercontent.com/a-/AOh14GgJUNawPfe0J41agMsUCwKAOgAzWX7zUOLCtayLFg=s64",
      "userId": "02019115936957150360"
     },
     "user_tz": 180
    },
    "id": "5aSOv8sDrmqp",
    "outputId": "7fd8b2bb-0732-4026-8723-8e8657f57677"
   },
   "outputs": [],
   "source": [
    "print('Duración promedio (en minutos) de viaje por tipo de transporte (Motorizado/No Motorizado) - Dia Hábil')\n",
    "df = viajes_nohabiles.groupby([\"estrato\", 'motorizado']).apply(lambda x: weighted_mean(x, 'duracion_minutos', 'factor_x')).unstack()"
   ]
  },
  {
   "cell_type": "code",
   "execution_count": null,
   "id": "3wOkqdySe4m2",
   "metadata": {
    "colab": {
     "base_uri": "https://localhost:8080/",
     "height": 585
    },
    "executionInfo": {
     "elapsed": 710,
     "status": "ok",
     "timestamp": 1632960071099,
     "user": {
      "displayName": "Paula Vásquez H.",
      "photoUrl": "https://lh3.googleusercontent.com/a-/AOh14GgJUNawPfe0J41agMsUCwKAOgAzWX7zUOLCtayLFg=s64",
      "userId": "02019115936957150360"
     },
     "user_tz": 180
    },
    "id": "3wOkqdySe4m2",
    "outputId": "594d9cd9-12ce-4f61-b3dc-00c69a76bc1a"
   },
   "outputs": [],
   "source": [
    "fig, ax = plt.subplots(figsize=(3, 4))\n",
    "\n",
    "ax = sns.heatmap(df, annot=True)\n",
    "\n",
    "ax.set_title(\"Duración promedio de viaje por modo (Motorizado/No Motorizado) - Dia Hábil\")\n",
    "ax.set_xlabel(\"Tipo de Transporte\")\n",
    "ax.set_ylabel(\"Estrato\")\n",
    "\n",
    "fig.tight_layout()"
   ]
  },
  {
   "cell_type": "code",
   "execution_count": null,
   "id": "c4e283af",
   "metadata": {
    "colab": {
     "base_uri": "https://localhost:8080/"
    },
    "executionInfo": {
     "elapsed": 228,
     "status": "ok",
     "timestamp": 1632960091406,
     "user": {
      "displayName": "Paula Vásquez H.",
      "photoUrl": "https://lh3.googleusercontent.com/a-/AOh14GgJUNawPfe0J41agMsUCwKAOgAzWX7zUOLCtayLFg=s64",
      "userId": "02019115936957150360"
     },
     "user_tz": 180
    },
    "id": "c4e283af",
    "outputId": "deebc807-3c32-48c7-e70e-7878e7f6d4e0"
   },
   "outputs": [],
   "source": [
    "print('Duración median (en minutos) de viaje por tipo de transporte (Motorizado/No Motorizado) - Dia Hábil')\n",
    "df = viajes_nohabiles.groupby([\"estrato\", 'motorizado']).apply(lambda x: weighted_median(x, 'duracion_minutos', 'factor_x')).unstack()"
   ]
  },
  {
   "cell_type": "code",
   "execution_count": null,
   "id": "3RCP2aT-e-6f",
   "metadata": {
    "colab": {
     "base_uri": "https://localhost:8080/",
     "height": 585
    },
    "executionInfo": {
     "elapsed": 617,
     "status": "ok",
     "timestamp": 1632960093092,
     "user": {
      "displayName": "Paula Vásquez H.",
      "photoUrl": "https://lh3.googleusercontent.com/a-/AOh14GgJUNawPfe0J41agMsUCwKAOgAzWX7zUOLCtayLFg=s64",
      "userId": "02019115936957150360"
     },
     "user_tz": 180
    },
    "id": "3RCP2aT-e-6f",
    "outputId": "24b1abef-f937-4e31-f012-3828541b0130"
   },
   "outputs": [],
   "source": [
    "fig, ax = plt.subplots(figsize=(3, 4))\n",
    "\n",
    "ax = sns.heatmap(df, annot=True)\n",
    "\n",
    "ax.set_title(\"Duración mediana de viaje por modo (Motorizado/No Motorizado) - Dia Hábil\")\n",
    "ax.set_xlabel(\"Tipo de Transporte\")\n",
    "ax.set_ylabel(\"Estrato\")\n",
    "\n",
    "fig.tight_layout()"
   ]
  },
  {
   "cell_type": "markdown",
   "id": "hXBAWXhNu_vL",
   "metadata": {
    "id": "hXBAWXhNu_vL"
   },
   "source": [
    "Por tipo de transporte, tanto en días hábiles como no hábiles, los viajes realizados en transporte público tienen mayor duración que los realizados en transporte privado."
   ]
  },
  {
   "cell_type": "markdown",
   "id": "IROi6F5AJWbo",
   "metadata": {
    "id": "IROi6F5AJWbo"
   },
   "source": [
    "#### **¿Cuál es el tiempo promedio de viaje en hora punta de mañana?**"
   ]
  },
  {
   "cell_type": "markdown",
   "id": "hR_JMUepuZ-P",
   "metadata": {
    "id": "hR_JMUepuZ-P"
   },
   "source": [
    "Estos son los resultados para el promedio y mediana en minutos de viaje en hora punta de la mañana por modo de transporte, en días hábiles y no hábiles, por clasificador socioeconómico."
   ]
  },
  {
   "cell_type": "code",
   "execution_count": null,
   "id": "c3ddfb82",
   "metadata": {
    "colab": {
     "base_uri": "https://localhost:8080/"
    },
    "executionInfo": {
     "elapsed": 305,
     "status": "ok",
     "timestamp": 1632960117053,
     "user": {
      "displayName": "Paula Vásquez H.",
      "photoUrl": "https://lh3.googleusercontent.com/a-/AOh14GgJUNawPfe0J41agMsUCwKAOgAzWX7zUOLCtayLFg=s64",
      "userId": "02019115936957150360"
     },
     "user_tz": 180
    },
    "id": "c3ddfb82",
    "outputId": "c2e493f0-817c-47f8-ce56-42dc41e70356"
   },
   "outputs": [],
   "source": [
    "print('Duración promedio (en minutos) de viaje por modo en hora punta - Dia Hábil')\n",
    "df = viajes_habiles[viajes_habiles.PICO_HABIL=='Si'].groupby([\"estrato\", \"ModoViaje\"]).apply(lambda x: weighted_mean(x, 'duracion_minutos', 'factor_x')).unstack()"
   ]
  },
  {
   "cell_type": "code",
   "execution_count": null,
   "id": "vB1LFtYWfDPw",
   "metadata": {
    "colab": {
     "base_uri": "https://localhost:8080/",
     "height": 479
    },
    "executionInfo": {
     "elapsed": 1159,
     "status": "ok",
     "timestamp": 1632960119206,
     "user": {
      "displayName": "Paula Vásquez H.",
      "photoUrl": "https://lh3.googleusercontent.com/a-/AOh14GgJUNawPfe0J41agMsUCwKAOgAzWX7zUOLCtayLFg=s64",
      "userId": "02019115936957150360"
     },
     "user_tz": 180
    },
    "id": "vB1LFtYWfDPw",
    "outputId": "4658dddf-def9-452f-ef6d-ff6e319ca033"
   },
   "outputs": [],
   "source": [
    "fig, ax = plt.subplots(figsize=(14, 7))\n",
    "\n",
    "ax = sns.heatmap(df, annot=True)\n",
    "\n",
    "ax.set_title(\"Duración promedio de viaje por modo en hora punta - Día Hábil\")\n",
    "ax.set_xlabel(\"Modo de Transporte\")\n",
    "ax.set_ylabel(\"Estrato\")\n",
    "\n",
    "fig.tight_layout()"
   ]
  },
  {
   "cell_type": "code",
   "execution_count": null,
   "id": "ff2008ae",
   "metadata": {
    "colab": {
     "base_uri": "https://localhost:8080/"
    },
    "executionInfo": {
     "elapsed": 638,
     "status": "ok",
     "timestamp": 1632960129730,
     "user": {
      "displayName": "Paula Vásquez H.",
      "photoUrl": "https://lh3.googleusercontent.com/a-/AOh14GgJUNawPfe0J41agMsUCwKAOgAzWX7zUOLCtayLFg=s64",
      "userId": "02019115936957150360"
     },
     "user_tz": 180
    },
    "id": "ff2008ae",
    "outputId": "8d5b749a-e936-4d6a-c351-9197e7d4a72f"
   },
   "outputs": [],
   "source": [
    "print('Duración mediana (en minutos) de viaje por modo en hora punta - Dia Hábil')\n",
    "df = viajes_habiles[viajes_habiles.PICO_HABIL=='Si'].groupby([\"estrato\", \"ModoViaje\"]).apply(lambda x: weighted_median(x, 'duracion_minutos', 'factor_x')).unstack()"
   ]
  },
  {
   "cell_type": "code",
   "execution_count": null,
   "id": "qYz0qvrEfM3C",
   "metadata": {
    "colab": {
     "base_uri": "https://localhost:8080/",
     "height": 479
    },
    "executionInfo": {
     "elapsed": 1282,
     "status": "ok",
     "timestamp": 1632960131880,
     "user": {
      "displayName": "Paula Vásquez H.",
      "photoUrl": "https://lh3.googleusercontent.com/a-/AOh14GgJUNawPfe0J41agMsUCwKAOgAzWX7zUOLCtayLFg=s64",
      "userId": "02019115936957150360"
     },
     "user_tz": 180
    },
    "id": "qYz0qvrEfM3C",
    "outputId": "78eadc26-7ec0-4ac6-bf3f-4b75cc1193cc"
   },
   "outputs": [],
   "source": [
    "fig, ax = plt.subplots(figsize=(14, 7))\n",
    "\n",
    "ax = sns.heatmap(df, annot=True)\n",
    "\n",
    "ax.set_title(\"Duración mediana de viaje por modo en hora punta - Día Hábil\")\n",
    "ax.set_xlabel(\"Modo de Transporte\")\n",
    "ax.set_ylabel(\"Estrato\")\n",
    "\n",
    "fig.tight_layout()"
   ]
  },
  {
   "cell_type": "code",
   "execution_count": null,
   "id": "R7CfA0YDtg37",
   "metadata": {
    "colab": {
     "base_uri": "https://localhost:8080/"
    },
    "executionInfo": {
     "elapsed": 402,
     "status": "ok",
     "timestamp": 1632960135471,
     "user": {
      "displayName": "Paula Vásquez H.",
      "photoUrl": "https://lh3.googleusercontent.com/a-/AOh14GgJUNawPfe0J41agMsUCwKAOgAzWX7zUOLCtayLFg=s64",
      "userId": "02019115936957150360"
     },
     "user_tz": 180
    },
    "id": "R7CfA0YDtg37",
    "outputId": "8f0ca8e5-eba8-4990-918b-82fc8eb63346"
   },
   "outputs": [],
   "source": [
    "print('Duración promedio (en minutos) de viaje por modo en hora punta - Dia No Hábil')\n",
    "df = viajes_nohabiles[viajes_nohabiles.PICO_NOHABIL=='Si'].groupby([\"estrato\", \"ModoViaje\"]).apply(lambda x: weighted_mean(x, 'duracion_minutos', 'factor_x')).unstack()"
   ]
  },
  {
   "cell_type": "code",
   "execution_count": null,
   "id": "TQTGkG-SfUTG",
   "metadata": {
    "colab": {
     "base_uri": "https://localhost:8080/",
     "height": 479
    },
    "executionInfo": {
     "elapsed": 788,
     "status": "ok",
     "timestamp": 1632960136726,
     "user": {
      "displayName": "Paula Vásquez H.",
      "photoUrl": "https://lh3.googleusercontent.com/a-/AOh14GgJUNawPfe0J41agMsUCwKAOgAzWX7zUOLCtayLFg=s64",
      "userId": "02019115936957150360"
     },
     "user_tz": 180
    },
    "id": "TQTGkG-SfUTG",
    "outputId": "1cbb238e-f742-4d0a-fbf2-49bda7504922"
   },
   "outputs": [],
   "source": [
    "fig, ax = plt.subplots(figsize=(14, 7))\n",
    "\n",
    "ax = sns.heatmap(df, annot=True)\n",
    "\n",
    "ax.set_title(\"Duración promedio de viaje por modo en hora punta - Día No Hábil\")\n",
    "ax.set_xlabel(\"Modo de Transporte\")\n",
    "ax.set_ylabel(\"Estrato\")\n",
    "\n",
    "fig.tight_layout()"
   ]
  },
  {
   "cell_type": "code",
   "execution_count": null,
   "id": "ea18cf6e",
   "metadata": {
    "colab": {
     "base_uri": "https://localhost:8080/"
    },
    "executionInfo": {
     "elapsed": 603,
     "status": "ok",
     "timestamp": 1632960141550,
     "user": {
      "displayName": "Paula Vásquez H.",
      "photoUrl": "https://lh3.googleusercontent.com/a-/AOh14GgJUNawPfe0J41agMsUCwKAOgAzWX7zUOLCtayLFg=s64",
      "userId": "02019115936957150360"
     },
     "user_tz": 180
    },
    "id": "ea18cf6e",
    "outputId": "5fb62c4a-39e0-42f1-c4bc-42b3324527f7"
   },
   "outputs": [],
   "source": [
    "print('Duración mediana (en minutos) de viaje por modo en hora punta - Dia No Hábil')\n",
    "df = viajes_nohabiles[viajes_nohabiles.PICO_NOHABIL=='Si'].groupby([\"estrato\", \"ModoViaje\"]).apply(lambda x: weighted_median(x, 'duracion_minutos', 'factor_x')).unstack()"
   ]
  },
  {
   "cell_type": "code",
   "execution_count": null,
   "id": "AzHVGzXAfaat",
   "metadata": {
    "colab": {
     "base_uri": "https://localhost:8080/",
     "height": 479
    },
    "executionInfo": {
     "elapsed": 980,
     "status": "ok",
     "timestamp": 1632960144667,
     "user": {
      "displayName": "Paula Vásquez H.",
      "photoUrl": "https://lh3.googleusercontent.com/a-/AOh14GgJUNawPfe0J41agMsUCwKAOgAzWX7zUOLCtayLFg=s64",
      "userId": "02019115936957150360"
     },
     "user_tz": 180
    },
    "id": "AzHVGzXAfaat",
    "outputId": "ea409125-6462-4bcb-c60c-cd04d7a8102d"
   },
   "outputs": [],
   "source": [
    "fig, ax = plt.subplots(figsize=(14, 7))\n",
    "\n",
    "ax = sns.heatmap(df, annot=True)\n",
    "\n",
    "ax.set_title(\"Duración mediana de viaje por modo en hora punta - Día No Hábil\")\n",
    "ax.set_xlabel(\"Modo de Transporte\")\n",
    "ax.set_ylabel(\"Estrato\")\n",
    "\n",
    "fig.tight_layout()"
   ]
  },
  {
   "cell_type": "markdown",
   "id": "SiTx8rFAvL9a",
   "metadata": {
    "id": "SiTx8rFAvL9a"
   },
   "source": [
    "En días hábiles y no hábiles, los viajes realizados en hora punta de mañana con mayor duración corresponden a los realizados en Metro y Autobus, y esta duración aumenta a medida que se baja de estrato."
   ]
  },
  {
   "cell_type": "code",
   "execution_count": null,
   "id": "1eab253c",
   "metadata": {
    "colab": {
     "base_uri": "https://localhost:8080/"
    },
    "executionInfo": {
     "elapsed": 288,
     "status": "ok",
     "timestamp": 1632960171085,
     "user": {
      "displayName": "Paula Vásquez H.",
      "photoUrl": "https://lh3.googleusercontent.com/a-/AOh14GgJUNawPfe0J41agMsUCwKAOgAzWX7zUOLCtayLFg=s64",
      "userId": "02019115936957150360"
     },
     "user_tz": 180
    },
    "id": "1eab253c",
    "outputId": "3a57c900-82ae-49a0-849e-84ef58bd65df"
   },
   "outputs": [],
   "source": [
    "print('Duración promedio (en minutos) de viaje por tipo de transporte en hora punta - Dia Hábil')\n",
    "df = viajes_habiles[(viajes_habiles.PICO_HABIL=='Si')].groupby([\"estrato\", 'publico_privado']).apply(lambda x: weighted_mean(x, 'duracion_minutos', 'factor_x')).unstack()"
   ]
  },
  {
   "cell_type": "code",
   "execution_count": null,
   "id": "nP4UWqlefmaN",
   "metadata": {
    "colab": {
     "base_uri": "https://localhost:8080/",
     "height": 297
    },
    "executionInfo": {
     "elapsed": 910,
     "status": "ok",
     "timestamp": 1632960179458,
     "user": {
      "displayName": "Paula Vásquez H.",
      "photoUrl": "https://lh3.googleusercontent.com/a-/AOh14GgJUNawPfe0J41agMsUCwKAOgAzWX7zUOLCtayLFg=s64",
      "userId": "02019115936957150360"
     },
     "user_tz": 180
    },
    "id": "nP4UWqlefmaN",
    "outputId": "9bbf78f9-075f-459c-8888-7fb91ca49e90"
   },
   "outputs": [],
   "source": [
    "fig, ax = plt.subplots(figsize=(3, 4))\n",
    "\n",
    "ax = sns.heatmap(df, annot=True)\n",
    "\n",
    "ax.set_title(\"Duración promedio de viaje por modo en hora punta - Día Hábil\")\n",
    "ax.set_xlabel(\"Tipo de Transporte\")\n",
    "ax.set_ylabel(\"Estrato\")\n",
    "\n",
    "fig.tight_layout()"
   ]
  },
  {
   "cell_type": "code",
   "execution_count": null,
   "id": "4ed3b2d1",
   "metadata": {
    "colab": {
     "base_uri": "https://localhost:8080/"
    },
    "executionInfo": {
     "elapsed": 239,
     "status": "ok",
     "timestamp": 1632960186226,
     "user": {
      "displayName": "Paula Vásquez H.",
      "photoUrl": "https://lh3.googleusercontent.com/a-/AOh14GgJUNawPfe0J41agMsUCwKAOgAzWX7zUOLCtayLFg=s64",
      "userId": "02019115936957150360"
     },
     "user_tz": 180
    },
    "id": "4ed3b2d1",
    "outputId": "bed08a18-4632-418f-c4f6-41ebea5cca36"
   },
   "outputs": [],
   "source": [
    "print('Duración mediana (en minutos) de viaje por tipo de transporte en hora punta - Dia Hábil')\n",
    "df = viajes_habiles[(viajes_habiles.PICO_HABIL=='Si')].groupby([\"estrato\", 'publico_privado']).apply(lambda x: weighted_median(x, 'duracion_minutos', 'factor_x')).unstack()"
   ]
  },
  {
   "cell_type": "code",
   "execution_count": null,
   "id": "NSOho9oZf5Q5",
   "metadata": {
    "colab": {
     "base_uri": "https://localhost:8080/",
     "height": 297
    },
    "executionInfo": {
     "elapsed": 472,
     "status": "ok",
     "timestamp": 1632960192315,
     "user": {
      "displayName": "Paula Vásquez H.",
      "photoUrl": "https://lh3.googleusercontent.com/a-/AOh14GgJUNawPfe0J41agMsUCwKAOgAzWX7zUOLCtayLFg=s64",
      "userId": "02019115936957150360"
     },
     "user_tz": 180
    },
    "id": "NSOho9oZf5Q5",
    "outputId": "4a11b440-7a15-4603-848a-a855ea5ce6d2"
   },
   "outputs": [],
   "source": [
    "fig, ax = plt.subplots(figsize=(3, 4))\n",
    "\n",
    "ax = sns.heatmap(df, annot=True)\n",
    "\n",
    "ax.set_title(\"Duración mediana de viaje por modo en hora punta - Día Hábil\")\n",
    "ax.set_xlabel(\"Tipo de Transporte\")\n",
    "ax.set_ylabel(\"Estrato\")\n",
    "\n",
    "fig.tight_layout()"
   ]
  },
  {
   "cell_type": "markdown",
   "id": "KZTwv7muveh-",
   "metadata": {
    "id": "KZTwv7muveh-"
   },
   "source": [
    "Para ambos tipos de días, los viajes realizados en hora punta de mañana en transporte público tienen una mayor duración que los realizados en transporte privado."
   ]
  },
  {
   "cell_type": "code",
   "execution_count": null,
   "id": "8RWm5YIAA7DG",
   "metadata": {
    "colab": {
     "base_uri": "https://localhost:8080/"
    },
    "executionInfo": {
     "elapsed": 260,
     "status": "ok",
     "timestamp": 1632960254099,
     "user": {
      "displayName": "Paula Vásquez H.",
      "photoUrl": "https://lh3.googleusercontent.com/a-/AOh14GgJUNawPfe0J41agMsUCwKAOgAzWX7zUOLCtayLFg=s64",
      "userId": "02019115936957150360"
     },
     "user_tz": 180
    },
    "id": "8RWm5YIAA7DG",
    "outputId": "43034adf-5e1b-419e-9f18-be58d58e9a2a"
   },
   "outputs": [],
   "source": [
    "print('Duración promedio (en minutos) de viaje por tipo de transporte (Motorizado/No motorizado) en hora punta - Dia Hábil')\n",
    "df = viajes_habiles[(viajes_habiles.PICO_HABIL=='Si')].groupby([\"estrato\", 'motorizado']).apply(lambda x: weighted_mean(x, 'duracion_minutos', 'factor_x')).unstack()"
   ]
  },
  {
   "cell_type": "code",
   "execution_count": null,
   "id": "KTmhGieOBDIW",
   "metadata": {
    "colab": {
     "base_uri": "https://localhost:8080/",
     "height": 297
    },
    "executionInfo": {
     "elapsed": 850,
     "status": "ok",
     "timestamp": 1632960266563,
     "user": {
      "displayName": "Paula Vásquez H.",
      "photoUrl": "https://lh3.googleusercontent.com/a-/AOh14GgJUNawPfe0J41agMsUCwKAOgAzWX7zUOLCtayLFg=s64",
      "userId": "02019115936957150360"
     },
     "user_tz": 180
    },
    "id": "KTmhGieOBDIW",
    "outputId": "266ba954-bd55-4aac-a463-0a50eb4f373a"
   },
   "outputs": [],
   "source": [
    "fig, ax = plt.subplots(figsize=(3, 4))\n",
    "\n",
    "ax = sns.heatmap(df, annot=True)\n",
    "\n",
    "ax.set_title(\"Duración promedio de viaje por modo en hora punta - Día Hábil\")\n",
    "ax.set_xlabel(\"Tipo de Transporte\")\n",
    "ax.set_ylabel(\"Estrato\")\n",
    "\n",
    "fig.tight_layout()"
   ]
  },
  {
   "cell_type": "code",
   "execution_count": null,
   "id": "AcCd0Qd2BGFI",
   "metadata": {
    "colab": {
     "base_uri": "https://localhost:8080/"
    },
    "executionInfo": {
     "elapsed": 307,
     "status": "ok",
     "timestamp": 1632960292039,
     "user": {
      "displayName": "Paula Vásquez H.",
      "photoUrl": "https://lh3.googleusercontent.com/a-/AOh14GgJUNawPfe0J41agMsUCwKAOgAzWX7zUOLCtayLFg=s64",
      "userId": "02019115936957150360"
     },
     "user_tz": 180
    },
    "id": "AcCd0Qd2BGFI",
    "outputId": "7e17c746-479f-45e7-d972-57c343118512"
   },
   "outputs": [],
   "source": [
    "print('Duración mediana (en minutos) de viaje por tipo de transporte (motorizado/no motorizado) en hora punta - Dia Hábil')\n",
    "df = viajes_habiles[(viajes_habiles.PICO_HABIL=='Si')].groupby([\"estrato\", 'motorizado']).apply(lambda x: weighted_median(x, 'duracion_minutos', 'factor_x')).unstack()"
   ]
  },
  {
   "cell_type": "code",
   "execution_count": null,
   "id": "cT4rsLIrBMwa",
   "metadata": {
    "colab": {
     "base_uri": "https://localhost:8080/",
     "height": 297
    },
    "executionInfo": {
     "elapsed": 791,
     "status": "ok",
     "timestamp": 1632960304846,
     "user": {
      "displayName": "Paula Vásquez H.",
      "photoUrl": "https://lh3.googleusercontent.com/a-/AOh14GgJUNawPfe0J41agMsUCwKAOgAzWX7zUOLCtayLFg=s64",
      "userId": "02019115936957150360"
     },
     "user_tz": 180
    },
    "id": "cT4rsLIrBMwa",
    "outputId": "bfaa55c3-577a-4358-d133-7266752b1e17"
   },
   "outputs": [],
   "source": [
    "fig, ax = plt.subplots(figsize=(3, 4))\n",
    "\n",
    "ax = sns.heatmap(df, annot=True)\n",
    "\n",
    "ax.set_title(\"Duración mediana de viaje por modo en hora punta - Día Hábil\")\n",
    "ax.set_xlabel(\"Tipo de Transporte\")\n",
    "ax.set_ylabel(\"Estrato\")\n",
    "\n",
    "fig.tight_layout()"
   ]
  },
  {
   "cell_type": "markdown",
   "id": "Z6V7kcZQndyG",
   "metadata": {
    "id": "Z6V7kcZQndyG"
   },
   "source": [
    "#### **¿Cuál es el tiempo de viaje en transporte público en hora punta de mañana?**"
   ]
  },
  {
   "cell_type": "markdown",
   "id": "xiaDKcWnnj24",
   "metadata": {
    "id": "xiaDKcWnnj24"
   },
   "source": [
    "A continuación, se presentan los resultados para duración promedio de viaje en hora punta de mañana en transporte público, en días hábiles y no hábiles, por clasificador socioeconómico."
   ]
  },
  {
   "cell_type": "code",
   "execution_count": null,
   "id": "bn9E94zhrhSl",
   "metadata": {
    "colab": {
     "base_uri": "https://localhost:8080/"
    },
    "executionInfo": {
     "elapsed": 252,
     "status": "ok",
     "timestamp": 1632960312543,
     "user": {
      "displayName": "Paula Vásquez H.",
      "photoUrl": "https://lh3.googleusercontent.com/a-/AOh14GgJUNawPfe0J41agMsUCwKAOgAzWX7zUOLCtayLFg=s64",
      "userId": "02019115936957150360"
     },
     "user_tz": 180
    },
    "id": "bn9E94zhrhSl",
    "outputId": "c01a0352-d9f0-406e-dbbf-9f81b2026728"
   },
   "outputs": [],
   "source": [
    "print('Duración promedio (en minutos) de viaje hora punta en transporte público - Dia Hábil')\n",
    "mask = (viajes_habiles.publico_privado=='Público')\n",
    "df = viajes_habiles[(viajes_habiles.PICO_HABIL=='Si')][mask].groupby([\"estrato\", 'ModoViaje']).apply(lambda x: weighted_mean(x, 'duracion_minutos', 'factor_x')).unstack()"
   ]
  },
  {
   "cell_type": "code",
   "execution_count": null,
   "id": "7Yz7oxRCr-dz",
   "metadata": {
    "colab": {
     "base_uri": "https://localhost:8080/",
     "height": 513
    },
    "executionInfo": {
     "elapsed": 981,
     "status": "ok",
     "timestamp": 1632960314607,
     "user": {
      "displayName": "Paula Vásquez H.",
      "photoUrl": "https://lh3.googleusercontent.com/a-/AOh14GgJUNawPfe0J41agMsUCwKAOgAzWX7zUOLCtayLFg=s64",
      "userId": "02019115936957150360"
     },
     "user_tz": 180
    },
    "id": "7Yz7oxRCr-dz",
    "outputId": "3bb29481-3278-4d74-f8d3-d0604875a125"
   },
   "outputs": [],
   "source": [
    "fig, ax = plt.subplots(figsize=(12, 7))\n",
    "\n",
    "ax = sns.heatmap(df, annot=True)\n",
    "\n",
    "ax.set_title(\"Duración promedio de viaje por modo en hora punta en transporte público - Día Hábil\")\n",
    "ax.set_xlabel(\"Modo de Transporte\")\n",
    "ax.set_ylabel(\"Estrato\")\n",
    "\n",
    "fig.tight_layout()"
   ]
  },
  {
   "cell_type": "code",
   "execution_count": null,
   "id": "-fYH5lvxrvFp",
   "metadata": {
    "colab": {
     "base_uri": "https://localhost:8080/"
    },
    "executionInfo": {
     "elapsed": 262,
     "status": "ok",
     "timestamp": 1632960318251,
     "user": {
      "displayName": "Paula Vásquez H.",
      "photoUrl": "https://lh3.googleusercontent.com/a-/AOh14GgJUNawPfe0J41agMsUCwKAOgAzWX7zUOLCtayLFg=s64",
      "userId": "02019115936957150360"
     },
     "user_tz": 180
    },
    "id": "-fYH5lvxrvFp",
    "outputId": "c76855b0-3332-4dc0-bd1d-cfc40a6a1578"
   },
   "outputs": [],
   "source": [
    "print('Duración mediana (en minutos) de viaje hora punta en transporte público - Dia Hábil')\n",
    "mask = (viajes_habiles.publico_privado=='Público')\n",
    "df = viajes_habiles[(viajes_habiles.PICO_HABIL=='Si')][mask].groupby([\"estrato\", 'ModoViaje']).apply(lambda x: weighted_median(x, 'duracion_minutos', 'factor_x')).unstack()"
   ]
  },
  {
   "cell_type": "code",
   "execution_count": null,
   "id": "eOh51olGsCl8",
   "metadata": {
    "colab": {
     "base_uri": "https://localhost:8080/",
     "height": 513
    },
    "executionInfo": {
     "elapsed": 950,
     "status": "ok",
     "timestamp": 1632960321923,
     "user": {
      "displayName": "Paula Vásquez H.",
      "photoUrl": "https://lh3.googleusercontent.com/a-/AOh14GgJUNawPfe0J41agMsUCwKAOgAzWX7zUOLCtayLFg=s64",
      "userId": "02019115936957150360"
     },
     "user_tz": 180
    },
    "id": "eOh51olGsCl8",
    "outputId": "365bf629-1b38-478d-9b92-d0d479e39b20"
   },
   "outputs": [],
   "source": [
    "fig, ax = plt.subplots(figsize=(12, 7))\n",
    "\n",
    "ax = sns.heatmap(df, annot=True)\n",
    "\n",
    "ax.set_title(\"Duración mediana de viaje por modo en hora punta en transporte público - Día Hábil\")\n",
    "ax.set_xlabel(\"Modo de Transporte\")\n",
    "ax.set_ylabel(\"Estrato\")\n",
    "\n",
    "fig.tight_layout()"
   ]
  },
  {
   "cell_type": "markdown",
   "id": "wj7tWhNAzjrT",
   "metadata": {
    "id": "wj7tWhNAzjrT"
   },
   "source": [
    "Tanto en días hábiles, los modos de transporte con mayor duración de viaje en transporte público en hora punta de mañana son el Metro y Autobús, y estos tiempos aumentan al bajar de estrato."
   ]
  },
  {
   "cell_type": "markdown",
   "id": "HlkxIGmSJcbl",
   "metadata": {
    "id": "HlkxIGmSJcbl"
   },
   "source": [
    "#### **¿Cuál es el tiempo promedio de viaje al trabajo en transporte público?**"
   ]
  },
  {
   "cell_type": "markdown",
   "id": "lwkztkTNQ1aT",
   "metadata": {
    "id": "lwkztkTNQ1aT"
   },
   "source": [
    "A continuación, se presentan los resultados de tiempo promedio de viaje al trabajo en transporte público por modo en días hábiles y no hábiles, por clasificador socioeconómico."
   ]
  },
  {
   "cell_type": "code",
   "execution_count": null,
   "id": "437706df",
   "metadata": {
    "colab": {
     "base_uri": "https://localhost:8080/"
    },
    "executionInfo": {
     "elapsed": 396,
     "status": "ok",
     "timestamp": 1632960348070,
     "user": {
      "displayName": "Paula Vásquez H.",
      "photoUrl": "https://lh3.googleusercontent.com/a-/AOh14GgJUNawPfe0J41agMsUCwKAOgAzWX7zUOLCtayLFg=s64",
      "userId": "02019115936957150360"
     },
     "user_tz": 180
    },
    "id": "437706df",
    "outputId": "cc49db9f-ae14-4572-a2c5-91e646cd9d6c"
   },
   "outputs": [],
   "source": [
    "print('Duración promedio (en minutos) de viaje al trabajo en transporte público - Dia Hábil')\n",
    "mask = (viajes_habiles.publico_privado=='Público') & (viajes_habiles.p5_13==2)\n",
    "df = viajes_habiles[mask].groupby([\"estrato\", \"ModoViaje\"]).apply(lambda x: weighted_mean(x, 'duracion_minutos', 'factor_x')).unstack()"
   ]
  },
  {
   "cell_type": "code",
   "execution_count": null,
   "id": "p06d8fVCgOE9",
   "metadata": {
    "colab": {
     "base_uri": "https://localhost:8080/",
     "height": 513
    },
    "executionInfo": {
     "elapsed": 1056,
     "status": "ok",
     "timestamp": 1632960350778,
     "user": {
      "displayName": "Paula Vásquez H.",
      "photoUrl": "https://lh3.googleusercontent.com/a-/AOh14GgJUNawPfe0J41agMsUCwKAOgAzWX7zUOLCtayLFg=s64",
      "userId": "02019115936957150360"
     },
     "user_tz": 180
    },
    "id": "p06d8fVCgOE9",
    "outputId": "6b17be05-61ee-4d09-98bb-d3efad41a146"
   },
   "outputs": [],
   "source": [
    "fig, ax = plt.subplots(figsize=(12, 7))\n",
    "\n",
    "ax = sns.heatmap(df, annot=True)\n",
    "\n",
    "ax.set_title(\"Duración promedio de viaje al trabajo en transporte público - Día Hábil\")\n",
    "ax.set_xlabel(\"Modo de Transporte\")\n",
    "ax.set_ylabel(\"Estrato\")\n",
    "\n",
    "fig.tight_layout()"
   ]
  },
  {
   "cell_type": "code",
   "execution_count": null,
   "id": "b7e0c056",
   "metadata": {
    "colab": {
     "base_uri": "https://localhost:8080/"
    },
    "executionInfo": {
     "elapsed": 467,
     "status": "ok",
     "timestamp": 1632960353929,
     "user": {
      "displayName": "Paula Vásquez H.",
      "photoUrl": "https://lh3.googleusercontent.com/a-/AOh14GgJUNawPfe0J41agMsUCwKAOgAzWX7zUOLCtayLFg=s64",
      "userId": "02019115936957150360"
     },
     "user_tz": 180
    },
    "id": "b7e0c056",
    "outputId": "71623f3e-cda5-4232-f8a3-39604a43847a"
   },
   "outputs": [],
   "source": [
    "print('Duración mediana (en minutos) de viaje al trabajo en transporte público - Dia Hábil')\n",
    "mask = (viajes_habiles.publico_privado=='Público') & (viajes_habiles.p5_13==2)\n",
    "df = viajes_habiles[mask].groupby([\"estrato\", \"ModoViaje\"]).apply(lambda x: weighted_median(x, 'duracion_minutos', 'factor_x')).unstack()"
   ]
  },
  {
   "cell_type": "code",
   "execution_count": null,
   "id": "Ao1cxTWiga89",
   "metadata": {
    "colab": {
     "base_uri": "https://localhost:8080/",
     "height": 513
    },
    "executionInfo": {
     "elapsed": 766,
     "status": "ok",
     "timestamp": 1632960356520,
     "user": {
      "displayName": "Paula Vásquez H.",
      "photoUrl": "https://lh3.googleusercontent.com/a-/AOh14GgJUNawPfe0J41agMsUCwKAOgAzWX7zUOLCtayLFg=s64",
      "userId": "02019115936957150360"
     },
     "user_tz": 180
    },
    "id": "Ao1cxTWiga89",
    "outputId": "d9077608-b024-406e-d9a4-0a1633ffeb83"
   },
   "outputs": [],
   "source": [
    "fig, ax = plt.subplots(figsize=(12, 7))\n",
    "\n",
    "ax = sns.heatmap(df, annot=True)\n",
    "\n",
    "ax.set_title(\"Duración mediana de viaje al trabajo en transporte público - Día Hábil\")\n",
    "ax.set_xlabel(\"Modo de Transporte\")\n",
    "ax.set_ylabel(\"Estrato\")\n",
    "\n",
    "fig.tight_layout()"
   ]
  },
  {
   "cell_type": "markdown",
   "id": "Ig1_s7b50bvB",
   "metadata": {
    "id": "Ig1_s7b50bvB"
   },
   "source": [
    "Tanto en días hábiles, los modos de transporte con mayor duración de viaje al trabajo en transporte público son el Metro y Autobús, y estos tiempos aumentan al bajar de estrato."
   ]
  },
  {
   "cell_type": "markdown",
   "id": "Tz2yX8jgJuIl",
   "metadata": {
    "id": "Tz2yX8jgJuIl"
   },
   "source": [
    "### Parte III: Indicadores de Distancia de Viajes\n",
    "1. Distancia de viajes en auto (histograma de viajes por km)\n",
    "2.Distancia de viajes en transporte público (histograma de viajes por km)\n",
    "3.Distancia de viajes por motivo estudio (histograma de viajes por km)\n",
    "4.Distancia de viajes por motivo al trabajo (histograma de viajes por km)\n",
    "5.Viajes interzonales como intrazonales\n"
   ]
  },
  {
   "cell_type": "markdown",
   "id": "L_XcTLw5rcNS",
   "metadata": {
    "id": "L_XcTLw5rcNS"
   },
   "source": [
    "En esta sección, se presentarán los indicadores de distancia de viajes durante días hábiles."
   ]
  },
  {
   "cell_type": "markdown",
   "id": "IdM9y-kCu-j_",
   "metadata": {
    "id": "IdM9y-kCu-j_"
   },
   "source": [
    "#### **Distancia de viajes en auto (histograma de viajes por km)**"
   ]
  },
  {
   "cell_type": "code",
   "execution_count": null,
   "id": "88138694",
   "metadata": {
    "colab": {
     "base_uri": "https://localhost:8080/",
     "height": 293
    },
    "executionInfo": {
     "elapsed": 117021,
     "status": "ok",
     "timestamp": 1632960518159,
     "user": {
      "displayName": "Paula Vásquez H.",
      "photoUrl": "https://lh3.googleusercontent.com/a-/AOh14GgJUNawPfe0J41agMsUCwKAOgAzWX7zUOLCtayLFg=s64",
      "userId": "02019115936957150360"
     },
     "user_tz": 180
    },
    "id": "88138694",
    "outputId": "a12bba00-1ece-4cf7-8b8d-1f1e8c6e5c90"
   },
   "outputs": [],
   "source": [
    "from matplotlib.pyplot import hist\n",
    "print('Distancia de viajes en auto - Día Hábil')\n",
    "mask = (viajes_habiles.ModoViaje == 'Auto')\n",
    "df = viajes_habiles[mask].groupby('distancia_manhattan').sum()[['factor_x']].reset_index().sort_values('distancia_manhattan')\n",
    "hist(df.distancia_manhattan, weights=df.factor_x, bins=50)\n",
    "plt.axvline(viajes_habiles[mask].groupby('id_via').apply(lambda x: weighted_mean(x, 'distancia_manhattan', 'factor_x')).mean(), color='green', linestyle='dashed', linewidth=1)\n",
    "plt.axvline(viajes_habiles[mask].groupby('id_via').apply(lambda x: weighted_median(x, 'distancia_manhattan', 'factor_x')).median(), color='red', linestyle='dashed', linewidth=1)\n",
    "sns.despine()\n",
    "#Verde Promedio\n",
    "#Rojo Mediana"
   ]
  },
  {
   "cell_type": "code",
   "execution_count": null,
   "id": "cdYBKXLMvrMQ",
   "metadata": {
    "colab": {
     "base_uri": "https://localhost:8080/",
     "height": 293
    },
    "executionInfo": {
     "elapsed": 98153,
     "status": "ok",
     "timestamp": 1632960616287,
     "user": {
      "displayName": "Paula Vásquez H.",
      "photoUrl": "https://lh3.googleusercontent.com/a-/AOh14GgJUNawPfe0J41agMsUCwKAOgAzWX7zUOLCtayLFg=s64",
      "userId": "02019115936957150360"
     },
     "user_tz": 180
    },
    "id": "cdYBKXLMvrMQ",
    "outputId": "292675bd-74e0-4d23-f00b-6c6719ecfc71"
   },
   "outputs": [],
   "source": [
    "print('Distancia de viajes en auto - Día No Hábil')\n",
    "mask = (viajes_nohabiles.ModoViaje == 'Auto')\n",
    "df = viajes_nohabiles[mask].groupby('distancia_manhattan').sum()[['factor_x']].reset_index().sort_values('distancia_manhattan')\n",
    "hist(df.distancia_manhattan, weights=df.factor_x, bins=50)\n",
    "plt.axvline(viajes_nohabiles[mask].groupby('id_via').apply(lambda x: weighted_mean(x, 'distancia_manhattan', 'factor_x')).mean(), color='green', linestyle='dashed', linewidth=1)\n",
    "plt.axvline(viajes_nohabiles[mask].groupby('id_via').apply(lambda x: weighted_median(x, 'distancia_manhattan', 'factor_x')).median(), color='red', linestyle='dashed', linewidth=1)\n",
    "sns.despine()\n",
    "#Verde Promedio\n",
    "#Rojo Mediana"
   ]
  },
  {
   "cell_type": "markdown",
   "id": "2-lBeEH-vYc_",
   "metadata": {
    "id": "2-lBeEH-vYc_"
   },
   "source": [
    "#### **Distancia de viajes en transporte público**"
   ]
  },
  {
   "cell_type": "code",
   "execution_count": null,
   "id": "04c47cb1",
   "metadata": {
    "colab": {
     "base_uri": "https://localhost:8080/",
     "height": 293
    },
    "executionInfo": {
     "elapsed": 277286,
     "status": "ok",
     "timestamp": 1632960894580,
     "user": {
      "displayName": "Paula Vásquez H.",
      "photoUrl": "https://lh3.googleusercontent.com/a-/AOh14GgJUNawPfe0J41agMsUCwKAOgAzWX7zUOLCtayLFg=s64",
      "userId": "02019115936957150360"
     },
     "user_tz": 180
    },
    "id": "04c47cb1",
    "outputId": "5f747759-9fff-4a6d-8a89-7e99c1d388bb"
   },
   "outputs": [],
   "source": [
    "print('Distancia de viajes en transporte público - Día Hábil')\n",
    "mask = (viajes_habiles.publico_privado == 'Público')\n",
    "df = viajes_habiles[mask].groupby('distancia_manhattan').sum()[['factor_x']].reset_index().sort_values('distancia_manhattan')\n",
    "hist(df.distancia_manhattan, weights=df.factor_x, bins=50)\n",
    "plt.axvline(viajes_habiles[mask].groupby('id_via').apply(lambda x: weighted_mean(x, 'distancia_manhattan', 'factor_x')).mean(), color='green', linestyle='dashed', linewidth=1)\n",
    "plt.axvline(viajes_habiles[mask].groupby('id_via').apply(lambda x: weighted_median(x, 'distancia_manhattan', 'factor_x')).median(), color='red', linestyle='dashed', linewidth=1)\n",
    "sns.despine()\n",
    "#Verde Promedio\n",
    "#Rojo Mediana"
   ]
  },
  {
   "cell_type": "code",
   "execution_count": null,
   "id": "y3H9Mpwy9S-J",
   "metadata": {
    "colab": {
     "base_uri": "https://localhost:8080/",
     "height": 293
    },
    "executionInfo": {
     "elapsed": 169698,
     "status": "ok",
     "timestamp": 1632961064269,
     "user": {
      "displayName": "Paula Vásquez H.",
      "photoUrl": "https://lh3.googleusercontent.com/a-/AOh14GgJUNawPfe0J41agMsUCwKAOgAzWX7zUOLCtayLFg=s64",
      "userId": "02019115936957150360"
     },
     "user_tz": 180
    },
    "id": "y3H9Mpwy9S-J",
    "outputId": "d259a870-6ca6-49d1-8c0e-1dd004f8e344"
   },
   "outputs": [],
   "source": [
    "print('Distancia de viajes en transporte público - Día No Hábil')\n",
    "mask = (viajes_nohabiles.publico_privado == 'Público')\n",
    "df = viajes_nohabiles[mask].groupby('distancia_manhattan').sum()[['factor_x']].reset_index().sort_values('distancia_manhattan')\n",
    "hist(df.distancia_manhattan, weights=df.factor_x, bins=50)\n",
    "plt.axvline(viajes_nohabiles[mask].groupby('id_via').apply(lambda x: weighted_mean(x, 'distancia_manhattan', 'factor_x')).mean(), color='green', linestyle='dashed', linewidth=1)\n",
    "plt.axvline(viajes_nohabiles[mask].groupby('id_via').apply(lambda x: weighted_median(x, 'distancia_manhattan', 'factor_x')).median(), color='red', linestyle='dashed', linewidth=1)\n",
    "sns.despine()\n",
    "#Verde Promedio\n",
    "#Rojo Mediana"
   ]
  },
  {
   "cell_type": "markdown",
   "id": "PfffZ7ZZ-soo",
   "metadata": {
    "id": "PfffZ7ZZ-soo"
   },
   "source": [
    "#### **Distancia de viajes por motivo estudio**"
   ]
  },
  {
   "cell_type": "code",
   "execution_count": null,
   "id": "6f9adcbd",
   "metadata": {
    "colab": {
     "base_uri": "https://localhost:8080/",
     "height": 293
    },
    "executionInfo": {
     "elapsed": 82061,
     "status": "ok",
     "timestamp": 1632961146326,
     "user": {
      "displayName": "Paula Vásquez H.",
      "photoUrl": "https://lh3.googleusercontent.com/a-/AOh14GgJUNawPfe0J41agMsUCwKAOgAzWX7zUOLCtayLFg=s64",
      "userId": "02019115936957150360"
     },
     "user_tz": 180
    },
    "id": "6f9adcbd",
    "outputId": "9da31648-09db-4e2a-b436-7c8225eb9c36"
   },
   "outputs": [],
   "source": [
    "print('Distancia de viajes con motivo de estudio')\n",
    "mask = (viajes_personas.p5_13==3)\n",
    "df = viajes_personas[mask].groupby('distancia_manhattan').sum()[['factor_x']].reset_index().sort_values('distancia_manhattan')\n",
    "hist(df.distancia_manhattan, weights=df.factor_x, bins=50)\n",
    "plt.axvline(viajes_personas[mask].groupby('id_via').apply(lambda x: weighted_mean(x, 'distancia_manhattan', 'factor_x')).mean(), color='green', linestyle='dashed', linewidth=1)\n",
    "plt.axvline(viajes_personas[mask].groupby('id_via').apply(lambda x: weighted_median(x, 'distancia_manhattan', 'factor_x')).median(), color='red', linestyle='dashed', linewidth=1)\n",
    "sns.despine()\n",
    "#Verde Promedio\n",
    "#Rojo Mediana"
   ]
  },
  {
   "cell_type": "markdown",
   "id": "-jJrOlEl-uLU",
   "metadata": {
    "id": "-jJrOlEl-uLU"
   },
   "source": [
    "#### **Distancia de viajes por motivo trabajo**"
   ]
  },
  {
   "cell_type": "code",
   "execution_count": null,
   "id": "ea9d8109",
   "metadata": {
    "colab": {
     "base_uri": "https://localhost:8080/",
     "height": 293
    },
    "executionInfo": {
     "elapsed": 209536,
     "status": "ok",
     "timestamp": 1632961355853,
     "user": {
      "displayName": "Paula Vásquez H.",
      "photoUrl": "https://lh3.googleusercontent.com/a-/AOh14GgJUNawPfe0J41agMsUCwKAOgAzWX7zUOLCtayLFg=s64",
      "userId": "02019115936957150360"
     },
     "user_tz": 180
    },
    "id": "ea9d8109",
    "outputId": "25359d4b-3787-455a-ae6e-d810f9c76313"
   },
   "outputs": [],
   "source": [
    "print('Distancia de viajes con motivo de trabajo')\n",
    "mask = (viajes_personas.p5_13 == 2)\n",
    "df = viajes_personas[mask].groupby('distancia_manhattan').sum()[['factor_x']].reset_index().sort_values('distancia_manhattan')\n",
    "hist(df.distancia_manhattan, weights=df.factor_x, bins=50)\n",
    "plt.axvline(viajes_personas[mask].groupby('id_via').apply(lambda x: weighted_mean(x, 'distancia_manhattan', 'factor_x')).mean(), color='green', linestyle='dashed', linewidth=1)\n",
    "plt.axvline(viajes_personas[mask].groupby('id_via').apply(lambda x: weighted_median(x, 'distancia_manhattan', 'factor_x')).median(), color='red', linestyle='dashed', linewidth=1)\n",
    "sns.despine()\n",
    "#Verde Promedio\n",
    "#Rojo Mediana"
   ]
  },
  {
   "cell_type": "markdown",
   "id": "isY_bo3Y-xRh",
   "metadata": {
    "id": "isY_bo3Y-xRh"
   },
   "source": [
    "#### **Viajes intra vs interzonales**"
   ]
  },
  {
   "cell_type": "code",
   "execution_count": null,
   "id": "zNBAC0KnIwvl",
   "metadata": {
    "id": "zNBAC0KnIwvl"
   },
   "outputs": [],
   "source": [
    "viajes_personas.p5_13 = decode_column(viajes_personas, data_path + 'eod_2017_csv/tviaje_eod2017/catalogos/p5_13.csv', 'p5_13')"
   ]
  },
  {
   "cell_type": "code",
   "execution_count": null,
   "id": "9d567b6e",
   "metadata": {
    "colab": {
     "base_uri": "https://localhost:8080/",
     "height": 779
    },
    "executionInfo": {
     "elapsed": 668,
     "status": "ok",
     "timestamp": 1632962370481,
     "user": {
      "displayName": "Paula Vásquez H.",
      "photoUrl": "https://lh3.googleusercontent.com/a-/AOh14GgJUNawPfe0J41agMsUCwKAOgAzWX7zUOLCtayLFg=s64",
      "userId": "02019115936957150360"
     },
     "user_tz": 180
    },
    "id": "9d567b6e",
    "outputId": "7c3d305b-a8de-4abf-f605-3c75b017c577"
   },
   "outputs": [],
   "source": [
    "print('% de viajes Inter e Intra zonales')\n",
    "df = viajes_personas.groupby(['p5_13','sexo','Intra_Inter']).sum()['factor_x'].unstack()\n",
    "df.div(df.sum(axis=1), axis=0)"
   ]
  },
  {
   "cell_type": "markdown",
   "id": "kkib5cg3B1yi",
   "metadata": {
    "id": "kkib5cg3B1yi"
   },
   "source": [
    "#### **¿Dónde se concentran las personas que utilizan cada modo de transporte en la ciudad para distintos propósitos?**"
   ]
  },
  {
   "cell_type": "code",
   "execution_count": null,
   "id": "aG4tY0IsB2lo",
   "metadata": {
    "colab": {
     "base_uri": "https://localhost:8080/",
     "height": 293
    },
    "executionInfo": {
     "elapsed": 924,
     "status": "ok",
     "timestamp": 1635818732262,
     "user": {
      "displayName": "Paula Vásquez H.",
      "photoUrl": "https://lh3.googleusercontent.com/a-/AOh14GgJUNawPfe0J41agMsUCwKAOgAzWX7zUOLCtayLFg=s64",
      "userId": "02019115936957150360"
     },
     "user_tz": 180
    },
    "id": "aG4tY0IsB2lo",
    "outputId": "1407e5af-c2ee-4875-8fbc-966b32e4763b"
   },
   "outputs": [],
   "source": [
    "from aves.features.geo import clip_area_geodataframe\n",
    "bbox = [451422.4927,2118246.2863,526702.0629,2185113.0905]\n",
    "\n",
    "zonas_en_caja = clip_area_geodataframe(city_shp.to_crs('epsg:32614'), bbox)\n",
    "zonas_en_caja.plot()"
   ]
  },
  {
   "cell_type": "code",
   "execution_count": null,
   "id": "1Qlag6_LClTb",
   "metadata": {
    "id": "1Qlag6_LClTb"
   },
   "outputs": [],
   "source": [
    "bounds = zonas_en_caja.to_crs('EPSG:4686').total_bounds"
   ]
  },
  {
   "cell_type": "code",
   "execution_count": null,
   "id": "uX_rcvPrCoBb",
   "metadata": {
    "id": "uX_rcvPrCoBb"
   },
   "outputs": [],
   "source": [
    "import contextily as cx\n",
    "\n",
    "scl_img, scl_ext = cx.bounds2raster(bounds[0], bounds[1], bounds[2], bounds[3], \n",
    "    \"mexico_toner_12.tif\",\n",
    "    ll=True,\n",
    "    source=cx.providers.Stamen.TonerBackground,\n",
    "    zoom=12,\n",
    ")"
   ]
  },
  {
   "cell_type": "code",
   "execution_count": null,
   "id": "O0iDV1uLCpTs",
   "metadata": {
    "id": "O0iDV1uLCpTs"
   },
   "outputs": [],
   "source": [
    "from aves.features.geo import to_point_geodataframe"
   ]
  },
  {
   "cell_type": "code",
   "execution_count": null,
   "id": "P79L9sNnJhdM",
   "metadata": {
    "id": "P79L9sNnJhdM"
   },
   "outputs": [],
   "source": [
    "origenes_viajes = to_point_geodataframe(viajes_personas, 'LONGITUD_ORIGEN' , 'LATITUD_ORIGEN', crs='epsg:32614')\n",
    "destinos_viajes = to_point_geodataframe(viajes_personas, 'LONGITUD_DESTINO', 'LATITUD_DESTINO', crs='epsg:32614')"
   ]
  },
  {
   "cell_type": "code",
   "execution_count": null,
   "id": "4gTJHl3uJliZ",
   "metadata": {
    "id": "4gTJHl3uJliZ"
   },
   "outputs": [],
   "source": [
    "from aves.features.geo import clip_point_geodataframe\n",
    "\n",
    "origenes_viajes = origenes_viajes[(origenes_viajes['id_via'].isin(destinos_viajes['id_via']))]\n",
    "origenes_viajes = clip_point_geodataframe(origenes_viajes, zonas_en_caja.total_bounds)\n",
    "destinos_viajes = destinos_viajes[(destinos_viajes['id_via'].isin(origenes_viajes['id_via']))]\n",
    "destinos_viajes = clip_point_geodataframe(destinos_viajes, zonas_en_caja.total_bounds)"
   ]
  },
  {
   "cell_type": "code",
   "execution_count": null,
   "id": "rwgiL0ONK5Zo",
   "metadata": {
    "colab": {
     "base_uri": "https://localhost:8080/"
    },
    "executionInfo": {
     "elapsed": 13,
     "status": "ok",
     "timestamp": 1632963879643,
     "user": {
      "displayName": "Paula Vásquez H.",
      "photoUrl": "https://lh3.googleusercontent.com/a-/AOh14GgJUNawPfe0J41agMsUCwKAOgAzWX7zUOLCtayLFg=s64",
      "userId": "02019115936957150360"
     },
     "user_tz": 180
    },
    "id": "rwgiL0ONK5Zo",
    "outputId": "c96e4e8f-33b2-46b1-a40e-114247a2beae"
   },
   "outputs": [],
   "source": [
    "origenes_viajes.ModoViaje.unique()"
   ]
  },
  {
   "cell_type": "code",
   "execution_count": null,
   "id": "maBWNtVyLiBv",
   "metadata": {
    "colab": {
     "base_uri": "https://localhost:8080/",
     "height": 280
    },
    "executionInfo": {
     "elapsed": 1258,
     "status": "ok",
     "timestamp": 1632963880897,
     "user": {
      "displayName": "Paula Vásquez H.",
      "photoUrl": "https://lh3.googleusercontent.com/a-/AOh14GgJUNawPfe0J41agMsUCwKAOgAzWX7zUOLCtayLFg=s64",
      "userId": "02019115936957150360"
     },
     "user_tz": 180
    },
    "id": "maBWNtVyLiBv",
    "outputId": "b7126955-1ccd-4720-dad9-323fd0659ac5"
   },
   "outputs": [],
   "source": [
    "plt.scatter(x=origenes_viajes['LATITUD_ORIGEN'], y=origenes_viajes['LONGITUD_ORIGEN'])\n",
    "plt.show()"
   ]
  },
  {
   "cell_type": "code",
   "execution_count": null,
   "id": "C75oOwd5Ke4w",
   "metadata": {
    "colab": {
     "base_uri": "https://localhost:8080/",
     "height": 443
    },
    "executionInfo": {
     "elapsed": 17352,
     "status": "ok",
     "timestamp": 1632963898244,
     "user": {
      "displayName": "Paula Vásquez H.",
      "photoUrl": "https://lh3.googleusercontent.com/a-/AOh14GgJUNawPfe0J41agMsUCwKAOgAzWX7zUOLCtayLFg=s64",
      "userId": "02019115936957150360"
     },
     "user_tz": 180
    },
    "id": "C75oOwd5Ke4w",
    "outputId": "9eb7fe2f-faf2-4deb-8f81-d578f05521e4"
   },
   "outputs": [],
   "source": [
    "from aves.visualization.figures import GeoFacetGrid\n",
    "\n",
    "from aves.visualization.maps import heat_map\n",
    "\n",
    "grid = GeoFacetGrid(\n",
    "    origenes_viajes,\n",
    "    context=zonas_en_caja,\n",
    "    row=\"p5_13\",\n",
    "    col=\"ModoViaje\",\n",
    "    row_order=[\"Ir a estudiar\", \"Ir al trabajo\"],\n",
    "    col_order=[\"Peaton\", \"Auto\", \"Metro\", \"Metrobús o Mexibús\"],\n",
    "    height=6,\n",
    "    hue=\"ModoViaje\"\n",
    ")\n",
    "grid.add_basemap(\"mexico_toner_12.tif\")\n",
    "#grid.add_layer(city_shp_filt, color=\"#efefef\", edgecolor=\"white\", linewidth=1)\n",
    "\n",
    "grid.add_layer(\n",
    "    heat_map,\n",
    "    # atributo de los datos con la importancia o peso de cada viaje\n",
    "    weight=\"factor_x\",\n",
    "    # cantidad de niveles/colores del mapa de calor\n",
    "    n_levels=10,\n",
    "    # radio de influencia de cada viaje\n",
    "    bandwidth=0.5,\n",
    "    # valor de corte para los valores bajos del heatmap\n",
    "    low_threshold=0.075,\n",
    "    # transparencia\n",
    "    alpha=0.75,\n",
    "    # paleta de colores\n",
    "    palette=\"inferno\"\n",
    ")\n",
    "\n",
    "grid.add_global_colorbar('inferno', 10, title='Intensidad de Viajes (de menos a más)', orientation='horizontal')\n",
    "#grid.set_title(\"Viajes a trabajar y a estudiar de acuerdo al modo de transporte\")\n",
    "grid.fig.tight_layout()"
   ]
  },
  {
   "cell_type": "markdown",
   "id": "utTbi5v2M5fJ",
   "metadata": {
    "id": "utTbi5v2M5fJ"
   },
   "source": [
    "¿Cuán lejos queda el trabajo de acuerdo al lugar de residencia?"
   ]
  },
  {
   "cell_type": "markdown",
   "id": "zHAe-DUtM9-5",
   "metadata": {
    "id": "zHAe-DUtM9-5"
   },
   "source": [
    "Con esta pregunta queremos entender si existe un patrón geográfico en las elecciones de residencia y trabajo de las personas.\n",
    "\n",
    "Para responder la pregunta, primero filtramos los viajes que nos interesan:"
   ]
  },
  {
   "cell_type": "code",
   "execution_count": null,
   "id": "KWWQcrJCZ-PT",
   "metadata": {
    "id": "KWWQcrJCZ-PT"
   },
   "outputs": [],
   "source": [
    "viajes_total = origenes_viajes[(pd.notnull(origenes_viajes.factor_x)) &\n",
    "                                (origenes_viajes.distancia_manhattan > 0)].drop_duplicates(subset=['id_via', 'id_soc'], keep='first')"
   ]
  },
  {
   "cell_type": "code",
   "execution_count": null,
   "id": "Af6C979fatzJ",
   "metadata": {
    "id": "Af6C979fatzJ"
   },
   "outputs": [],
   "source": [
    "viajes_habiles = origenes_viajes[(origenes_viajes.DIA_HABIL=='Si') &\n",
    "                                 (pd.notnull(origenes_viajes.factor_x)) &\n",
    "                                (origenes_viajes.distancia_manhattan > 0)].drop_duplicates(subset=['id_via', 'id_soc'], keep='first')"
   ]
  },
  {
   "cell_type": "code",
   "execution_count": null,
   "id": "t20k2Ll9M8b7",
   "metadata": {
    "colab": {
     "base_uri": "https://localhost:8080/"
    },
    "executionInfo": {
     "elapsed": 281,
     "status": "ok",
     "timestamp": 1635819145500,
     "user": {
      "displayName": "Paula Vásquez H.",
      "photoUrl": "https://lh3.googleusercontent.com/a-/AOh14GgJUNawPfe0J41agMsUCwKAOgAzWX7zUOLCtayLFg=s64",
      "userId": "02019115936957150360"
     },
     "user_tz": 180
    },
    "id": "t20k2Ll9M8b7",
    "outputId": "60821e8d-166f-4d33-f2cd-e0cf709b8266"
   },
   "outputs": [],
   "source": [
    "viajes_trabajo = origenes_viajes[(origenes_viajes.p5_13 == 'Ir al trabajo') &\n",
    "                                (pd.notnull(origenes_viajes.factor_x)) &\n",
    "                                (origenes_viajes.distancia_manhattan > 0)].drop_duplicates(subset=['id_via', 'id_soc'], keep='first')\n",
    "                                \n",
    "print(len(viajes_trabajo), viajes_trabajo.factor_x.sum())"
   ]
  },
  {
   "cell_type": "code",
   "execution_count": null,
   "id": "TouZrWJEOLc4",
   "metadata": {
    "colab": {
     "base_uri": "https://localhost:8080/"
    },
    "executionInfo": {
     "elapsed": 32,
     "status": "ok",
     "timestamp": 1632963898247,
     "user": {
      "displayName": "Paula Vásquez H.",
      "photoUrl": "https://lh3.googleusercontent.com/a-/AOh14GgJUNawPfe0J41agMsUCwKAOgAzWX7zUOLCtayLFg=s64",
      "userId": "02019115936957150360"
     },
     "user_tz": 180
    },
    "id": "TouZrWJEOLc4",
    "outputId": "d99b635e-125d-4f14-c87f-cd481144c671"
   },
   "outputs": [],
   "source": [
    "viajes_trabajo.columns"
   ]
  },
  {
   "cell_type": "code",
   "execution_count": null,
   "id": "JIC_n6tSOAnk",
   "metadata": {
    "id": "JIC_n6tSOAnk"
   },
   "outputs": [],
   "source": [
    "distancia_zonas_mean = (viajes_trabajo\n",
    "                   .groupby(['dto_origen'])\n",
    "                   .apply(lambda x: weighted_mean(x, 'distancia_manhattan', 'factor_x'))\n",
    "                   .rename('media_distancia_al_trabajo')\n",
    ")"
   ]
  },
  {
   "cell_type": "code",
   "execution_count": null,
   "id": "9WZ5_A-fOSZ8",
   "metadata": {
    "colab": {
     "base_uri": "https://localhost:8080/",
     "height": 709
    },
    "executionInfo": {
     "elapsed": 3115,
     "status": "ok",
     "timestamp": 1632963901735,
     "user": {
      "displayName": "Paula Vásquez H.",
      "photoUrl": "https://lh3.googleusercontent.com/a-/AOh14GgJUNawPfe0J41agMsUCwKAOgAzWX7zUOLCtayLFg=s64",
      "userId": "02019115936957150360"
     },
     "user_tz": 180
    },
    "id": "9WZ5_A-fOSZ8",
    "outputId": "b075c357-9d5f-460f-9102-dbe57e233af4"
   },
   "outputs": [],
   "source": [
    "from aves.visualization.maps import choropleth_map\n",
    "grid = GeoFacetGrid(zonas_en_caja.join(distancia_zonas_mean, how=\"left\"), height=9)\n",
    "grid.add_basemap(\"mexico_toner_12.tif\")\n",
    "grid.add_layer(\n",
    "    choropleth_map,\n",
    "    \"media_distancia_al_trabajo\",\n",
    "    k=5,\n",
    "    linewidth=0.5,\n",
    "    edgecolor=\"black\",\n",
    "    binning=\"fisher_jenks\",\n",
    "    palette=\"RdPu\",\n",
    "    alpha=0.85,\n",
    "    cbar_args=dict(\n",
    "        label=\"Distancia (m)\",\n",
    "        height=\"22%\",\n",
    "        width=\"2%\",\n",
    "        orientation=\"vertical\",\n",
    "        location=\"center left\",\n",
    "        label_size=\"small\",\n",
    "        bbox_to_anchor=(0.0, 0.0, 0.9, 1.0),\n",
    "    ),\n",
    ")\n",
    "grid.add_map_elements()\n",
    "grid.set_title(\"Distancia al Trabajo Promedio de acuerdo a la Zona de Origen\")\n",
    "grid.tight_layout()"
   ]
  },
  {
   "cell_type": "code",
   "execution_count": null,
   "id": "8mBN7fCPa4hD",
   "metadata": {
    "id": "8mBN7fCPa4hD"
   },
   "outputs": [],
   "source": [
    "matriz_zonas = (viajes_total[(viajes_total['dto_origen'] != viajes_total['dto_dest'])\n",
    "                             & (viajes_total['dto_origen'].isin(zonas_en_caja.Distrito))\n",
    "                             & (viajes_total['dto_dest'].isin(zonas_en_caja.Distrito))]\n",
    "                    .groupby(['dto_origen', 'dto_dest'])\n",
    "                    .agg(n_viajes=('factor_x', 'sum'))\n",
    "                    .sort_values('n_viajes', ascending=False)\n",
    "                    .assign(cumsum_viajes=lambda x: x['n_viajes'].cumsum())\n",
    "                    .assign(cumsum_viajes=lambda x: x['cumsum_viajes'] / x['cumsum_viajes'].max())\n",
    "                    .reset_index()\n",
    ")\n",
    "matriz_zonas.to_csv(data_path + 'matriz_zonas_todos_mexico2017.csv', index=False)"
   ]
  },
  {
   "cell_type": "code",
   "execution_count": null,
   "id": "MWSPzQp8a6FH",
   "metadata": {
    "id": "MWSPzQp8a6FH"
   },
   "outputs": [],
   "source": [
    "matriz_zonas = (viajes_habiles[(viajes_habiles['dto_origen'] != viajes_habiles['dto_dest'])\n",
    "                             & (viajes_habiles['dto_origen'].isin(zonas_en_caja.Distrito))\n",
    "                             & (viajes_habiles['dto_dest'].isin(zonas_en_caja.Distrito))]\n",
    "                    .groupby(['dto_origen', 'dto_dest'])\n",
    "                    .agg(n_viajes=('factor_x', 'sum'))\n",
    "                    .sort_values('n_viajes', ascending=False)\n",
    "                    .assign(cumsum_viajes=lambda x: x['n_viajes'].cumsum())\n",
    "                    .assign(cumsum_viajes=lambda x: x['cumsum_viajes'] / x['cumsum_viajes'].max())\n",
    "                    .reset_index()\n",
    ")\n",
    "matriz_zonas.to_csv(data_path + 'matriz_zonas_habiles_mexico2017.csv', index=False)"
   ]
  },
  {
   "cell_type": "code",
   "execution_count": null,
   "id": "lOb9kYECOolX",
   "metadata": {
    "id": "lOb9kYECOolX"
   },
   "outputs": [],
   "source": [
    "matriz_zonas = (viajes_trabajo[(viajes_trabajo['dto_origen'] != viajes_trabajo['dto_dest'])\n",
    "                            & (viajes_trabajo.DIA_HABIL=='Si')\n",
    "                             & (viajes_trabajo['dto_origen'].isin(zonas_en_caja.Distrito))\n",
    "                             & (viajes_trabajo['dto_dest'].isin(zonas_en_caja.Distrito))]\n",
    "                    .groupby(['dto_origen', 'dto_dest'])\n",
    "                    .agg(n_viajes=('factor_x', 'sum'))\n",
    "                    .sort_values('n_viajes', ascending=False)\n",
    "                    .assign(cumsum_viajes=lambda x: x['n_viajes'].cumsum())\n",
    "                    .assign(cumsum_viajes=lambda x: x['cumsum_viajes'] / x['cumsum_viajes'].max())\n",
    "                    .reset_index()\n",
    ")\n",
    "matriz_zonas.to_csv(data_path + 'matriz_zonas_trabajo_mexico2017.csv', index=False)"
   ]
  },
  {
   "cell_type": "code",
   "execution_count": null,
   "id": "t7qWedY5P6yC",
   "metadata": {
    "id": "t7qWedY5P6yC"
   },
   "outputs": [],
   "source": [
    "matriz_zonas = matriz_zonas[matriz_zonas['cumsum_viajes'] <= 0.45]"
   ]
  },
  {
   "cell_type": "code",
   "execution_count": null,
   "id": "yotNn9jgP9GL",
   "metadata": {
    "id": "yotNn9jgP9GL"
   },
   "outputs": [],
   "source": [
    "merged_zones = zonas_en_caja.dissolve('Distrito')#.drop('id', axis=1)"
   ]
  },
  {
   "cell_type": "code",
   "execution_count": null,
   "id": "ozbdJHUlQEX1",
   "metadata": {
    "id": "ozbdJHUlQEX1"
   },
   "outputs": [],
   "source": [
    "from aves.models.network import Network\n",
    "from aves.visualization.networks import NodeLink\n",
    "\n",
    "zone_od_network = Network.from_edgelist(\n",
    "    matriz_zonas, source=\"dto_origen\", target=\"dto_dest\", weight=\"n_viajes\"\n",
    ")"
   ]
  },
  {
   "cell_type": "code",
   "execution_count": null,
   "id": "e6rxSV2zQIRY",
   "metadata": {
    "id": "e6rxSV2zQIRY"
   },
   "outputs": [],
   "source": [
    "zone_nodelink = NodeLink(zone_od_network)"
   ]
  },
  {
   "cell_type": "code",
   "execution_count": null,
   "id": "nwICJQ10QKRX",
   "metadata": {
    "id": "nwICJQ10QKRX"
   },
   "outputs": [],
   "source": [
    "zone_nodelink.layout_nodes(method=\"geographical\", geodataframe=merged_zones)"
   ]
  },
  {
   "cell_type": "code",
   "execution_count": null,
   "id": "l2nCFfxRQL0d",
   "metadata": {
    "id": "l2nCFfxRQL0d"
   },
   "outputs": [],
   "source": [
    "zone_nodelink.set_node_drawing(\"plain\", weights=zone_od_network.node_degree(\"in\"))\n",
    "zone_nodelink.set_edge_drawing(method=\"origin-destination\")"
   ]
  },
  {
   "cell_type": "code",
   "execution_count": null,
   "id": "bLWHH-eEQNOo",
   "metadata": {
    "colab": {
     "base_uri": "https://localhost:8080/"
    },
    "executionInfo": {
     "elapsed": 49326,
     "status": "ok",
     "timestamp": 1632964660576,
     "user": {
      "displayName": "Paula Vásquez H.",
      "photoUrl": "https://lh3.googleusercontent.com/a-/AOh14GgJUNawPfe0J41agMsUCwKAOgAzWX7zUOLCtayLFg=s64",
      "userId": "02019115936957150360"
     },
     "user_tz": 180
    },
    "id": "bLWHH-eEQNOo",
    "outputId": "162db7dc-2387-456c-f883-cb157f3efe84"
   },
   "outputs": [],
   "source": [
    "zone_nodelink.bundle_edges(\n",
    "    method=\"force-directed\", K=10, S=500, I=30, compatibility_threshold=0.65, C=6\n",
    ")"
   ]
  },
  {
   "cell_type": "code",
   "execution_count": null,
   "id": "LgDGxLa2QOev",
   "metadata": {
    "id": "LgDGxLa2QOev"
   },
   "outputs": [],
   "source": [
    "def plot_network(ax, geo_data, *args, **kwargs):\n",
    "    zone_nodelink.plot(ax, *args, **kwargs)"
   ]
  },
  {
   "cell_type": "code",
   "execution_count": null,
   "id": "RmxE3LJqQQPL",
   "metadata": {
    "colab": {
     "base_uri": "https://localhost:8080/",
     "height": 763
    },
    "executionInfo": {
     "elapsed": 4880,
     "status": "ok",
     "timestamp": 1632964665452,
     "user": {
      "displayName": "Paula Vásquez H.",
      "photoUrl": "https://lh3.googleusercontent.com/a-/AOh14GgJUNawPfe0J41agMsUCwKAOgAzWX7zUOLCtayLFg=s64",
      "userId": "02019115936957150360"
     },
     "user_tz": 180
    },
    "id": "RmxE3LJqQQPL",
    "outputId": "6022ce24-fd0a-4eeb-e0f7-ea48ead71c4f"
   },
   "outputs": [],
   "source": [
    "grid = GeoFacetGrid(zonas_en_caja, height=13)\n",
    "grid.add_basemap(\"mexico_toner_12.tif\")\n",
    "#grid.add_layer(city_shp_filt,facecolor='white', edgecolor='grey', alpha=0.25)\n",
    "grid.add_layer(\n",
    "    plot_network,\n",
    "    nodes=dict(color=\"white\", edgecolor=\"black\", node_size=100, alpha=0.95),\n",
    "    edges=dict(linewidth=0.5, alpha=0.6),\n",
    ")\n",
    "grid.set_title(\"Viajes al trabajo en México (en días laborales)\")"
   ]
  },
  {
   "cell_type": "markdown",
   "id": "a4526c26",
   "metadata": {
    "id": "YnDQxyu-Q3Ax"
   },
   "source": [
    "### Coeficiente de movilidad"
   ]
  },
  {
   "cell_type": "code",
   "execution_count": null,
   "id": "0c31402e",
   "metadata": {},
   "outputs": [],
   "source": [
    "viajes_personas['duracion_minutos'] = pd.to_timedelta(viajes_personas['duracion'])/pd.Timedelta('60s')"
   ]
  },
  {
   "cell_type": "code",
   "execution_count": null,
   "id": "372adbe7",
   "metadata": {},
   "outputs": [],
   "source": [
    "q1 = '''SELECT id_soc, sexo\n",
    ", factor_y \n",
    ",  count(*) as n_viajes, AVG(duracion_minutos) as tiempo_total \n",
    "       FROM viajes_personas where duracion_minutos < 180 group by 1,2,3'''\n",
    "\n",
    "n_viajes = sqldf(q1, locals())"
   ]
  },
  {
   "cell_type": "code",
   "execution_count": null,
   "id": "acebca27",
   "metadata": {},
   "outputs": [],
   "source": [
    "eod.plot_lmplot(n_viajes)"
   ]
  },
  {
   "cell_type": "code",
   "execution_count": null,
   "id": "49335c68",
   "metadata": {},
   "outputs": [],
   "source": [
    "groups = eod.generate_groups(n_viajes)\n",
    "print(eod.calculate_indicators(groups,'factor_y'))"
   ]
  },
  {
   "cell_type": "code",
   "execution_count": null,
   "id": "d50297ba",
   "metadata": {},
   "outputs": [],
   "source": [
    "eod.plot_lmplot(n_viajes, col=\"sexo\", hue=\"sexo\", col_wrap=1)"
   ]
  },
  {
   "cell_type": "code",
   "execution_count": null,
   "id": "f84c6461",
   "metadata": {},
   "outputs": [],
   "source": [
    "subgroups = n_viajes.sexo.unique()\n",
    "for element in subgroups:\n",
    "    print(element)\n",
    "    groups = eod.generate_groups(n_viajes[n_viajes.sexo==element])\n",
    "    print(eod.calculate_indicators(groups,'factor_y'))"
   ]
  }
 ],
 "metadata": {
  "colab": {
   "collapsed_sections": [
    "db8caef6",
    "8d65ab3c",
    "da9bdcfb"
   ],
   "name": "Copia de AnalisisEOD_Mexico-DF-2017_CalculoIndicadores_.ipynb",
   "provenance": []
  },
  "kernelspec": {
   "display_name": "Python 3 (ipykernel)",
   "language": "python",
   "name": "python3"
  },
  "language_info": {
   "codemirror_mode": {
    "name": "ipython",
    "version": 3
   },
   "file_extension": ".py",
   "mimetype": "text/x-python",
   "name": "python",
   "nbconvert_exporter": "python",
   "pygments_lexer": "ipython3",
   "version": "3.9.12"
  }
 },
 "nbformat": 4,
 "nbformat_minor": 5
}
