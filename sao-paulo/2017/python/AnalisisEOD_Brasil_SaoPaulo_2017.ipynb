{
 "cells": [
  {
   "cell_type": "markdown",
   "id": "c2204d17",
   "metadata": {
    "id": "b1e40f3d"
   },
   "source": [
    "# Análisis Encuesta Origen-Destino -  Limpieza de Datos & Cálculo de Indicadores"
   ]
  },
  {
   "cell_type": "markdown",
   "id": "6861391f",
   "metadata": {
    "id": "56e7413d"
   },
   "source": [
    "## Brasil - Sao Paulo - 2017"
   ]
  },
  {
   "cell_type": "markdown",
   "id": "667821a7",
   "metadata": {
    "id": "4221de58"
   },
   "source": [
    "#### Elaborado por Paula Vásquez-Henríquez, Ariel López, Genaro Cuadros, Exequiel Gaete, Alba Vásquez y Juan Correa"
   ]
  },
  {
   "cell_type": "markdown",
   "id": "b7c615f1",
   "metadata": {
    "id": "7MpTXCp63tDH"
   },
   "source": [
    "Importando módulos y funciones de trabajo"
   ]
  },
  {
   "cell_type": "markdown",
   "id": "5d85f302",
   "metadata": {},
   "source": [
    "## Google colab"
   ]
  },
  {
   "cell_type": "markdown",
   "id": "bd6b86a7",
   "metadata": {},
   "source": [
    "Para ejecutar este notebook en Colab, primero descomenten y ejecuten las siguientes 3 celdas. Luego de ejecutar la notebook se reiniciará."
   ]
  },
  {
   "cell_type": "code",
   "execution_count": null,
   "id": "9d8ec5f9",
   "metadata": {},
   "outputs": [],
   "source": [
    "'''\n",
    "!pip3 uninstall matplotlib -y\n",
    "!pip install -q condacolab\n",
    "import condacolab\n",
    "condacolab.install()\n",
    "'''"
   ]
  },
  {
   "cell_type": "code",
   "execution_count": null,
   "id": "a85a9bf7",
   "metadata": {},
   "outputs": [],
   "source": [
    "'''\n",
    "!git clone https://github.com/zorzalerrante/aves.git aves_git\n",
    "!mamba env update --name base --file aves_git/environment-colab.yml\n",
    "'''"
   ]
  },
  {
   "cell_type": "code",
   "execution_count": null,
   "id": "b0d9a8ab",
   "metadata": {
    "colab": {
     "base_uri": "https://localhost:8080/"
    },
    "executionInfo": {
     "elapsed": 23074,
     "status": "ok",
     "timestamp": 1635994904494,
     "user": {
      "displayName": "Paula Vásquez H.",
      "photoUrl": "https://lh3.googleusercontent.com/a-/AOh14GgJUNawPfe0J41agMsUCwKAOgAzWX7zUOLCtayLFg=s64",
      "userId": "02019115936957150360"
     },
     "user_tz": 180
    },
    "id": "u7WkwIpDNvaW",
    "outputId": "d110333c-af65-47c3-cf76-ed7b93a9c43a"
   },
   "outputs": [],
   "source": [
    "'''\n",
    "# Montando datos desde Google Drive\n",
    "from google.colab import drive\n",
    "drive.mount('/content/drive')\n",
    "'''"
   ]
  },
  {
   "cell_type": "markdown",
   "id": "b6d473a1",
   "metadata": {},
   "source": [
    "## Instalando e importando librerías"
   ]
  },
  {
   "cell_type": "code",
   "execution_count": null,
   "id": "e5738b41",
   "metadata": {},
   "outputs": [],
   "source": [
    "# Estas librerías se deben instalar sólo si se está ejecutando localmente\n",
    "!pip3 install matplotlib\n",
    "!pip3 install seaborn\n",
    "!pip3 install sklearn"
   ]
  },
  {
   "cell_type": "code",
   "execution_count": null,
   "id": "600f66c7",
   "metadata": {
    "colab": {
     "base_uri": "https://localhost:8080/"
    },
    "executionInfo": {
     "elapsed": 8751,
     "status": "ok",
     "timestamp": 1635994873745,
     "user": {
      "displayName": "Paula Vásquez H.",
      "photoUrl": "https://lh3.googleusercontent.com/a-/AOh14GgJUNawPfe0J41agMsUCwKAOgAzWX7zUOLCtayLFg=s64",
      "userId": "02019115936957150360"
     },
     "user_tz": 180
    },
    "id": "M9aoyAtnNW37",
    "outputId": "b58d8e02-60be-4c46-8fd0-3fc6ca0aa50b"
   },
   "outputs": [],
   "source": [
    "#Estas librerías se deben instalar tanto corriendolo localmente como en Google Colab\n",
    "!pip3 install geopandas\n",
    "!pip3 install haversine\n",
    "!pip3 install pandasql\n",
    "!pip3 install openpyxl\n",
    "!pip3 install pyreadstat"
   ]
  },
  {
   "cell_type": "code",
   "execution_count": null,
   "id": "0a5fd996",
   "metadata": {
    "colab": {
     "base_uri": "https://localhost:8080/",
     "height": 373
    },
    "executionInfo": {
     "elapsed": 330,
     "status": "error",
     "timestamp": 1639656783420,
     "user": {
      "displayName": "Ramiro Fernandez",
      "photoUrl": "https://lh3.googleusercontent.com/a/default-user=s64",
      "userId": "04207308412407291425"
     },
     "user_tz": 180
    },
    "id": "78f60347",
    "outputId": "a4effd23-27e4-4646-ef71-da4a8bfcb6bc"
   },
   "outputs": [],
   "source": [
    "import pandas as pd\n",
    "import matplotlib.pyplot as plt\n",
    "import seaborn as sns\n",
    "import numpy as np\n",
    "import geopandas as gpd\n",
    "import warnings\n",
    "import haversine as hs\n",
    "import shapely\n",
    "from sklearn.preprocessing import normalize\n",
    "import datetime\n",
    "import pyreadstat\n",
    "from pandasql import sqldf"
   ]
  },
  {
   "cell_type": "code",
   "execution_count": null,
   "id": "0df2b76b",
   "metadata": {},
   "outputs": [],
   "source": [
    "# Si se está en google colab, reemplazar por path de Drive\n",
    "data_path = 'C:/Users/Usuario/Documents/GitHub/enmodo/'"
   ]
  },
  {
   "cell_type": "code",
   "execution_count": null,
   "id": "ce632e01",
   "metadata": {},
   "outputs": [],
   "source": [
    "import sys\n",
    "\n",
    "# Si se está en google colab, reemplazar por path donde tiene la carpeta \"scripts\"\n",
    "sys.path.insert(1, data_path +'scripts')\n",
    "\n",
    "import eod_analysis as eod"
   ]
  },
  {
   "cell_type": "code",
   "execution_count": null,
   "id": "6af8bae9",
   "metadata": {
    "id": "0510fbb1"
   },
   "outputs": [],
   "source": [
    "def convert_datatype(df, lista_columnas):\n",
    "    for column in lista_columnas:\n",
    "        df[column] = df[column].str.replace(\",\", \".\").astype(float)\n",
    "    return df"
   ]
  },
  {
   "cell_type": "code",
   "execution_count": null,
   "id": "f6d95d36",
   "metadata": {
    "id": "0018ee50"
   },
   "outputs": [],
   "source": [
    "def imputar_coordenadas_centroide_zat(df, latitud, longitud, zat):\n",
    "    mask = df[latitud].isnull() | df[longitud].isnull()\n",
    "    ids_latitud_vacia = df[mask].index\n",
    "    working_df = pd.merge(df, city_shp[['zona_num_n', 'x_coord', 'y_coord']], left_on=zat, right_on='zona_num_n', how='left')\n",
    "    df.loc[ids_latitud_vacia, latitud] = working_df.loc[ids_latitud_vacia, 'y_coord']\n",
    "    df.loc[ids_latitud_vacia, longitud] = working_df.loc[ids_latitud_vacia, 'x_coord']\n",
    "    return df"
   ]
  },
  {
   "cell_type": "code",
   "execution_count": null,
   "id": "5c828bf9",
   "metadata": {
    "id": "c9b9ffa0"
   },
   "outputs": [],
   "source": [
    "def decode_column(df, fname, col_name, index_col='id', value_col=None, sep=';', encoding='utf-8'):\n",
    "    '''\n",
    "    param :df: DataFrame del que leeremos una columna.\n",
    "    param :fname: nombre del archivo que contiene los valores a decodificar.\n",
    "    param :col_name: nombre de la columna que queremos decodificar.\n",
    "    param :index_col: nombre de la columna en el archivo @fname que tiene los índices que codifican @col_name\n",
    "    param :value_col: nombre de la columna en el archivo @fname que tiene los valores decodificados\n",
    "    param :sep: carácter que separa los valores en @fname. \n",
    "    param :encoding: identificación del _character set_ que utiliza el archivo. Usualmente es utf-8, si no funciona,\n",
    "                     se puede probar con iso-8859-1.\n",
    "    '''\n",
    "    if value_col is None:\n",
    "        value_col = 'value'\n",
    "        \n",
    "    values_df = pd.read_csv(fname, sep=sep, index_col=index_col, names=[index_col, value_col], header=0,\n",
    "                            dtype={index_col: np.float64}, encoding=encoding)\n",
    "    \n",
    "    src_df = df.loc[:,(col_name,)]\n",
    "    \n",
    "    return src_df.join(values_df, on=col_name)[value_col]"
   ]
  },
  {
   "cell_type": "code",
   "execution_count": null,
   "id": "667a3811",
   "metadata": {
    "id": "f7c148fb"
   },
   "outputs": [],
   "source": [
    "def mapear_vacios(row, column):\n",
    "    if pd.isna(row[column])==True:\n",
    "        return 'Sin información'\n",
    "    else:\n",
    "        return row[column]"
   ]
  },
  {
   "cell_type": "code",
   "execution_count": null,
   "id": "67ebb474",
   "metadata": {
    "id": "7f93f7e7"
   },
   "outputs": [],
   "source": [
    "def normalize_rows(df):\n",
    "    return df.pipe(lambda x: pd.DataFrame(normalize(df, axis=1, norm='l1'), columns=df.columns, index=df.index))"
   ]
  },
  {
   "cell_type": "code",
   "execution_count": null,
   "id": "287627b5",
   "metadata": {
    "id": "8cyr6vy3qg9f"
   },
   "outputs": [],
   "source": [
    "def age_cohorts(row, age_column):\n",
    "    if row[age_column] < 18:\n",
    "        return '<18'\n",
    "    elif row[age_column] <=29 and row[age_column] > 18:\n",
    "        return '18-29'\n",
    "    elif row[age_column] <=60 and row[age_column] > 29:\n",
    "        return '30-60'\n",
    "    elif row[age_column] > 60 and row[age_column] < 100:\n",
    "        return '>60'\n",
    "    else:\n",
    "        return 'No declarado'"
   ]
  },
  {
   "cell_type": "markdown",
   "id": "b7c2e4b4",
   "metadata": {
    "id": "iRPSv0fesZHX"
   },
   "source": [
    "### Caracterización de los datos\n",
    "\n",
    "Los datos utilizados en este cuaderno corresponden a los resultados de la Encuesta Origen-Destino de Sao Paulo, Brasil del 2017. \n",
    "A partir de estos datos se calcularan indicadores en tres niveles: de Cantidad de Viajes, de Tiempo de Viajes, y de Distancia de Viajes."
   ]
  },
  {
   "cell_type": "markdown",
   "id": "748ad709",
   "metadata": {
    "id": "db8caef6"
   },
   "source": [
    "### Importando datos"
   ]
  },
  {
   "cell_type": "markdown",
   "id": "ca2e7b30",
   "metadata": {
    "id": "CdtA3y43Oy5b"
   },
   "source": [
    "En esta sección, importamos todos los datos necesarios para el cálculo de indicadores. \n",
    "Para el caso de Sao Paulo 2017, los archivos son de SPSS.\n",
    "\n",
    "Como en muchas de las EOD tenemos data a nivel de:\n",
    "- Viajes\n",
    "- Etapas\n",
    "- Personas\n",
    "- Hogares"
   ]
  },
  {
   "cell_type": "markdown",
   "id": "80c9e06e",
   "metadata": {
    "id": "68B9oRFy4hep"
   },
   "source": [
    "Importamos la matriz de viajes"
   ]
  },
  {
   "cell_type": "code",
   "execution_count": null,
   "id": "861c0474",
   "metadata": {
    "colab": {
     "base_uri": "https://localhost:8080/"
    },
    "executionInfo": {
     "elapsed": 9342,
     "status": "ok",
     "timestamp": 1635823123674,
     "user": {
      "displayName": "Paula Vásquez H.",
      "photoUrl": "https://lh3.googleusercontent.com/a-/AOh14GgJUNawPfe0J41agMsUCwKAOgAzWX7zUOLCtayLFg=s64",
      "userId": "02019115936957150360"
     },
     "user_tz": 180
    },
    "id": "56fe174d",
    "outputId": "ab8095fa-63c3-4346-8adb-accf214a426a"
   },
   "outputs": [],
   "source": [
    "# Matriz de viajes\n",
    "data_viajes_personas, metadata_viajes_personas = pyreadstat.read_sav(data_path + \"sao-paulo/2017/source-sav/OD_2017.sav\", apply_value_formats=True)\n",
    "data_viajes_personas.head()\n",
    "#data_viajes = convert_datatype(data_viajes, [\"LATITUD_ORIGEN\", \"LATITUD_DESTINO\", \"LONGITUD_ORIGEN\", \"LONGITUD_DESTINO\", 'PONDERADOR_CALIBRADO_VIAJES', 'FE_TOTAL', 'FACTOR_AJUSTE_TRANSMILENIO', 'PONDERADOR_CALIBRADO'])"
   ]
  },
  {
   "cell_type": "markdown",
   "id": "7766561a",
   "metadata": {
    "id": "eDYHg4pv4mhs"
   },
   "source": [
    "Esta EOD tiene la particularidad de estar compuesta de una sola tabla que contiene todos los datos integrados: viaje, etapa, persona y hogar.\n",
    "Es por esto que debemos extraer particularmente la información necesaria para crear dos conjuntos de trabajo: viajes y personas."
   ]
  },
  {
   "cell_type": "code",
   "execution_count": null,
   "id": "a6a5448d",
   "metadata": {
    "colab": {
     "base_uri": "https://localhost:8080/"
    },
    "executionInfo": {
     "elapsed": 10,
     "status": "ok",
     "timestamp": 1635823123675,
     "user": {
      "displayName": "Paula Vásquez H.",
      "photoUrl": "https://lh3.googleusercontent.com/a-/AOh14GgJUNawPfe0J41agMsUCwKAOgAzWX7zUOLCtayLFg=s64",
      "userId": "02019115936957150360"
     },
     "user_tz": 180
    },
    "id": "S9vIcRhJsHkt",
    "outputId": "5054e102-2cde-49e8-fa52-2d96c8080e39"
   },
   "outputs": [],
   "source": [
    "data_viajes_personas.columns"
   ]
  },
  {
   "cell_type": "code",
   "execution_count": null,
   "id": "3927e031",
   "metadata": {
    "id": "693f7580"
   },
   "outputs": [],
   "source": [
    "# Matriz de viajes\n",
    "q = \"SELECT id_pess, n_viag, fe_via, dia_sem, zona_o, muni_o, co_o_x,co_o_y, zona_d, muni_d, co_d_x, co_d_y, motivo_d, h_saida, min_saida, h_cheg, min_cheg, duracao, modoprin, id_ordem from data_viajes_personas\"\n",
    "data_viajes = sqldf(q, locals())"
   ]
  },
  {
   "cell_type": "code",
   "execution_count": null,
   "id": "5356276f",
   "metadata": {
    "id": "5b74a746"
   },
   "outputs": [],
   "source": [
    "# Matriz de personas\n",
    "q = \"SELECT DISTINCT id_pess, fe_pess, criteriobr, sexo from data_viajes_personas\"\n",
    "data_personas = sqldf(q, locals())"
   ]
  },
  {
   "cell_type": "markdown",
   "id": "aca282d3",
   "metadata": {
    "id": "6sfWyUw744Cf"
   },
   "source": [
    "Importamos el shapefile que trae las coordenadas de los distritos de Sao Paulo."
   ]
  },
  {
   "cell_type": "code",
   "execution_count": null,
   "id": "0b5c1214",
   "metadata": {
    "id": "3cfbf52d"
   },
   "outputs": [],
   "source": [
    "# Shapefile de la ciudad\n",
    "city_shp = gpd.read_file(data_path + \"sao-paulo/2017/source-shp/Distritos_2017_region.shp\")"
   ]
  },
  {
   "cell_type": "code",
   "execution_count": null,
   "id": "a8ec65ce",
   "metadata": {
    "id": "29b7aa37"
   },
   "outputs": [],
   "source": [
    "city_shp['x_coord'] = city_shp.centroid.x\n",
    "city_shp['y_coord'] = city_shp.centroid.y"
   ]
  },
  {
   "cell_type": "code",
   "execution_count": null,
   "id": "4a860113",
   "metadata": {
    "colab": {
     "base_uri": "https://localhost:8080/"
    },
    "executionInfo": {
     "elapsed": 15,
     "status": "ok",
     "timestamp": 1635823245988,
     "user": {
      "displayName": "Paula Vásquez H.",
      "photoUrl": "https://lh3.googleusercontent.com/a-/AOh14GgJUNawPfe0J41agMsUCwKAOgAzWX7zUOLCtayLFg=s64",
      "userId": "02019115936957150360"
     },
     "user_tz": 180
    },
    "id": "TNKEPjAoqyac",
    "outputId": "85cf4b5e-0416-4cb5-b179-fbcdf5c8741b"
   },
   "outputs": [],
   "source": [
    "city_shp.crs"
   ]
  },
  {
   "cell_type": "markdown",
   "id": "748f6435",
   "metadata": {
    "id": "8d65ab3c"
   },
   "source": [
    "### Preparación de los datos"
   ]
  },
  {
   "cell_type": "markdown",
   "id": "3241e9b8",
   "metadata": {
    "id": "5891e875"
   },
   "source": [
    "#### Viajes"
   ]
  },
  {
   "cell_type": "markdown",
   "id": "80185aed",
   "metadata": {
    "id": "nKp83KN1Pf7s"
   },
   "source": [
    "En esta etapa nos enfocaremos en preparar los datos con respecto a viajes.\n",
    "En particular, nos enfocamos en limpiar y estandarizar los datos para las columnas que son relevantes para el cálculo de indicadores.\n"
   ]
  },
  {
   "cell_type": "code",
   "execution_count": null,
   "id": "95687cba",
   "metadata": {
    "id": "2baaf069"
   },
   "outputs": [],
   "source": [
    "viajes_df = data_viajes#[selected_columns]"
   ]
  },
  {
   "cell_type": "code",
   "execution_count": null,
   "id": "64ec3c06",
   "metadata": {
    "colab": {
     "base_uri": "https://localhost:8080/"
    },
    "executionInfo": {
     "elapsed": 12,
     "status": "ok",
     "timestamp": 1635823245990,
     "user": {
      "displayName": "Paula Vásquez H.",
      "photoUrl": "https://lh3.googleusercontent.com/a-/AOh14GgJUNawPfe0J41agMsUCwKAOgAzWX7zUOLCtayLFg=s64",
      "userId": "02019115936957150360"
     },
     "user_tz": 180
    },
    "id": "8d7a6fd2",
    "outputId": "0c545e03-b3da-4937-974d-fef6ec8650b3"
   },
   "outputs": [],
   "source": [
    "viajes_df.modoprin.unique()"
   ]
  },
  {
   "cell_type": "code",
   "execution_count": null,
   "id": "4db58ff5",
   "metadata": {
    "id": "10ac7797"
   },
   "outputs": [],
   "source": [
    "publico_viaje = ['Metrô', 'Ônibus/micro-ônibus/perua do município de São Paulo', 'Ônibus/micro-ônibus/perua metropolitano',\n",
    "       'Ônibus/micro-ônibus/perua de outros municípios']\n",
    "privado_viaje = ['A pé',  'Dirigindo automóvel', 'Transporte fretado', 'Táxi convencional', 'Passageiro de automóvel', 'Transporte escolar', 'Outros', 'Trem',\n",
    "       'Dirigindo moto', 'Bicicleta', 'Passageiro de moto', 'Monotrilho']\n",
    "peaton_viaje = ['A pé','Bicicleta']\n",
    "motorizado_viaje = ['Metrô', 'Ônibus/micro-ônibus/perua do município de São Paulo', 'Ônibus/micro-ônibus/perua metropolitano',\n",
    "       'Ônibus/micro-ônibus/perua de outros municípios','A pé',  'Dirigindo automóvel', 'Transporte fretado', 'Táxi convencional', 'Passageiro de automóvel', 'Transporte escolar', 'Outros', 'Trem',\n",
    "       'Dirigindo moto','Passageiro de moto', 'Monotrilho']"
   ]
  },
  {
   "cell_type": "code",
   "execution_count": null,
   "id": "05f2de52",
   "metadata": {
    "id": "19b4b564"
   },
   "outputs": [],
   "source": [
    "def publico_privado(row, column, publico, privado):\n",
    "    if row[column] in (publico):\n",
    "        return 'Público'\n",
    "    elif row[column] in (privado):\n",
    "        return 'Privado'\n",
    "    else:\n",
    "        return 'Otro'\n",
    "    \n",
    "viajes_df['publico_privado'] = viajes_df.apply(lambda row: publico_privado(row, 'modoprin', publico_viaje, privado_viaje), axis=1)"
   ]
  },
  {
   "cell_type": "markdown",
   "id": "6857ac97",
   "metadata": {
    "id": "llP2h1Ry5VkC"
   },
   "source": [
    "2. Revisamos la cantidad de valores nulos por atributo, para revisar si debemos imputar"
   ]
  },
  {
   "cell_type": "code",
   "execution_count": null,
   "id": "2fe3c14b",
   "metadata": {
    "colab": {
     "base_uri": "https://localhost:8080/"
    },
    "executionInfo": {
     "elapsed": 19,
     "status": "ok",
     "timestamp": 1635823248575,
     "user": {
      "displayName": "Paula Vásquez H.",
      "photoUrl": "https://lh3.googleusercontent.com/a-/AOh14GgJUNawPfe0J41agMsUCwKAOgAzWX7zUOLCtayLFg=s64",
      "userId": "02019115936957150360"
     },
     "user_tz": 180
    },
    "id": "91d848b5",
    "outputId": "10fa30b2-b1f4-4c0f-a134-1479b3fa1552"
   },
   "outputs": [],
   "source": [
    "print('Contando valores nulos por atributo')\n",
    "for column in viajes_df.columns:\n",
    "    print('{}: {}'.format(column, viajes_df[column].isna().sum()))"
   ]
  },
  {
   "cell_type": "markdown",
   "id": "a083cc56",
   "metadata": {
    "id": "JvByQkC57GQU"
   },
   "source": [
    "Tenemos muchas filas vacías, así que las dejaremos fuera."
   ]
  },
  {
   "cell_type": "code",
   "execution_count": null,
   "id": "cd97b6bb",
   "metadata": {
    "id": "e5011dfc"
   },
   "outputs": [],
   "source": [
    "viajes_df = viajes_df[~viajes_df.n_viag.isna()]"
   ]
  },
  {
   "cell_type": "code",
   "execution_count": null,
   "id": "4b70b0fd",
   "metadata": {
    "colab": {
     "base_uri": "https://localhost:8080/"
    },
    "executionInfo": {
     "elapsed": 15,
     "status": "ok",
     "timestamp": 1635823248577,
     "user": {
      "displayName": "Paula Vásquez H.",
      "photoUrl": "https://lh3.googleusercontent.com/a-/AOh14GgJUNawPfe0J41agMsUCwKAOgAzWX7zUOLCtayLFg=s64",
      "userId": "02019115936957150360"
     },
     "user_tz": 180
    },
    "id": "a60a8dcb",
    "outputId": "b18cdb6d-d9ea-40f3-dcbc-63642fc077c7"
   },
   "outputs": [],
   "source": [
    "viajes_df.dia_sem.unique()"
   ]
  },
  {
   "cell_type": "markdown",
   "id": "34916242",
   "metadata": {
    "id": "qXFlzyau7Oav"
   },
   "source": [
    "Esta encuesta solo tiene viajes ocurridos entre Martes y Viernes, por lo que consideraremos todos los viajes como días hábiles."
   ]
  },
  {
   "cell_type": "code",
   "execution_count": null,
   "id": "5cf4c5dd",
   "metadata": {
    "colab": {
     "base_uri": "https://localhost:8080/"
    },
    "executionInfo": {
     "elapsed": 13,
     "status": "ok",
     "timestamp": 1635823248577,
     "user": {
      "displayName": "Paula Vásquez H.",
      "photoUrl": "https://lh3.googleusercontent.com/a-/AOh14GgJUNawPfe0J41agMsUCwKAOgAzWX7zUOLCtayLFg=s64",
      "userId": "02019115936957150360"
     },
     "user_tz": 180
    },
    "id": "9d59365b",
    "outputId": "a8523cd0-b260-4678-d8bd-6cc92c6e8801"
   },
   "outputs": [],
   "source": [
    "viajes_df['DIA_HABIL'] = 'Si'"
   ]
  },
  {
   "cell_type": "markdown",
   "id": "2a40b96e",
   "metadata": {
    "id": "5Knlutgs7X73"
   },
   "source": [
    "Identificaremos los viajes hechos en hora pico, como aquellos con horario de salida entre 7am y 9am."
   ]
  },
  {
   "cell_type": "code",
   "execution_count": null,
   "id": "332b45f8",
   "metadata": {
    "colab": {
     "base_uri": "https://localhost:8080/"
    },
    "executionInfo": {
     "elapsed": 2063,
     "status": "ok",
     "timestamp": 1635823250630,
     "user": {
      "displayName": "Paula Vásquez H.",
      "photoUrl": "https://lh3.googleusercontent.com/a-/AOh14GgJUNawPfe0J41agMsUCwKAOgAzWX7zUOLCtayLFg=s64",
      "userId": "02019115936957150360"
     },
     "user_tz": 180
    },
    "id": "bb1502ae",
    "outputId": "d52c3801-487d-4b01-bd1f-2cec3fc860bc"
   },
   "outputs": [],
   "source": [
    "def pico_habil(row):\n",
    "    if row['h_saida'] >= 7.0 and row['h_saida'] <= 9.0:\n",
    "        return'Si'\n",
    "    else:\n",
    "        return 'No'\n",
    "    \n",
    "viajes_df['PICO_HABIL'] = viajes_df.apply(lambda row: pico_habil(row), axis=1)"
   ]
  },
  {
   "cell_type": "markdown",
   "id": "88eedccb",
   "metadata": {
    "id": "R2WnG3Tf7efw"
   },
   "source": [
    "Luego, definiremos un viaje Intrazonal como aquel cuya zona de origen es igual a la zona de destino. De otra manera, es interzonal."
   ]
  },
  {
   "cell_type": "code",
   "execution_count": null,
   "id": "9888f381",
   "metadata": {
    "colab": {
     "base_uri": "https://localhost:8080/"
    },
    "executionInfo": {
     "elapsed": 1946,
     "status": "ok",
     "timestamp": 1635823252570,
     "user": {
      "displayName": "Paula Vásquez H.",
      "photoUrl": "https://lh3.googleusercontent.com/a-/AOh14GgJUNawPfe0J41agMsUCwKAOgAzWX7zUOLCtayLFg=s64",
      "userId": "02019115936957150360"
     },
     "user_tz": 180
    },
    "id": "739c9353",
    "outputId": "ed74e472-3eb1-4d5e-d8f3-aaf320201e01"
   },
   "outputs": [],
   "source": [
    "viajes_df['Intra_Inter'] = viajes_df.apply(lambda row: 'Intra' if row['zona_o'] == row['zona_d'] else 'Inter', axis=1)"
   ]
  },
  {
   "cell_type": "markdown",
   "id": "9e327b41",
   "metadata": {
    "id": "4G0euDlg8F7m"
   },
   "source": [
    "Calculamos la distancia Manhattan entre las coordenadas de origen y destino del viaje."
   ]
  },
  {
   "cell_type": "code",
   "execution_count": null,
   "id": "e4546585",
   "metadata": {
    "id": "d858b03f"
   },
   "outputs": [],
   "source": [
    "def manhattan_distance(a, b):\n",
    "    return np.abs(a - b).sum()"
   ]
  },
  {
   "cell_type": "code",
   "execution_count": null,
   "id": "0ebe7c1c",
   "metadata": {
    "colab": {
     "base_uri": "https://localhost:8080/"
    },
    "executionInfo": {
     "elapsed": 4845,
     "status": "ok",
     "timestamp": 1635823257408,
     "user": {
      "displayName": "Paula Vásquez H.",
      "photoUrl": "https://lh3.googleusercontent.com/a-/AOh14GgJUNawPfe0J41agMsUCwKAOgAzWX7zUOLCtayLFg=s64",
      "userId": "02019115936957150360"
     },
     "user_tz": 180
    },
    "id": "8c2ecfdd",
    "outputId": "5ceb2a48-6380-4762-fe61-191281ec33a3"
   },
   "outputs": [],
   "source": [
    "viajes_df['distancia_manhattan'] = viajes_df.apply(lambda row: manhattan_distance(np.array([row['co_o_x'], row['co_o_y']]), np.array([row['co_d_x'], row['co_d_y']])), axis=1)"
   ]
  },
  {
   "cell_type": "code",
   "execution_count": null,
   "id": "4dc9173d",
   "metadata": {
    "colab": {
     "base_uri": "https://localhost:8080/"
    },
    "executionInfo": {
     "elapsed": 21,
     "status": "ok",
     "timestamp": 1635823257409,
     "user": {
      "displayName": "Paula Vásquez H.",
      "photoUrl": "https://lh3.googleusercontent.com/a-/AOh14GgJUNawPfe0J41agMsUCwKAOgAzWX7zUOLCtayLFg=s64",
      "userId": "02019115936957150360"
     },
     "user_tz": 180
    },
    "id": "392a2c14",
    "outputId": "57e351b1-bac9-4df3-a273-8508b60800d9"
   },
   "outputs": [],
   "source": [
    "print('Contando valores nulos por atributo')\n",
    "for column in viajes_df.columns:\n",
    "    print('{}: {}'.format(column, viajes_df[column].isna().sum()))"
   ]
  },
  {
   "cell_type": "markdown",
   "id": "66330f6a",
   "metadata": {
    "id": "xM2yhvQc8TfT"
   },
   "source": [
    "Finalmente nos quedamos con 157.992 viajes"
   ]
  },
  {
   "cell_type": "code",
   "execution_count": null,
   "id": "0b23b50d",
   "metadata": {
    "colab": {
     "base_uri": "https://localhost:8080/"
    },
    "executionInfo": {
     "elapsed": 19,
     "status": "ok",
     "timestamp": 1635823257410,
     "user": {
      "displayName": "Paula Vásquez H.",
      "photoUrl": "https://lh3.googleusercontent.com/a-/AOh14GgJUNawPfe0J41agMsUCwKAOgAzWX7zUOLCtayLFg=s64",
      "userId": "02019115936957150360"
     },
     "user_tz": 180
    },
    "id": "748e621e",
    "outputId": "3d5fca27-3fd0-4a0a-f53d-467e6b787cbf"
   },
   "outputs": [],
   "source": [
    "viajes_df.shape"
   ]
  },
  {
   "cell_type": "markdown",
   "id": "4bf95aac",
   "metadata": {
    "id": "da9bdcfb"
   },
   "source": [
    "#### Personas y Hogares"
   ]
  },
  {
   "cell_type": "markdown",
   "id": "ebc22a34",
   "metadata": {
    "id": "AXrUPDxoQ8yM"
   },
   "source": [
    "En esta etapa nos enfocaremos en preparar los datos con respecto a personas.\n",
    "En particular, nos enfocamos en limpiar y estandarizar los datos para las columnas que son relevantes para el cálculo de indicadores.\n"
   ]
  },
  {
   "cell_type": "code",
   "execution_count": null,
   "id": "e8e3d500",
   "metadata": {
    "id": "47b51113"
   },
   "outputs": [],
   "source": [
    "personas_df = data_personas#[selected_columns]"
   ]
  },
  {
   "cell_type": "code",
   "execution_count": null,
   "id": "3d707a9f",
   "metadata": {
    "colab": {
     "base_uri": "https://localhost:8080/"
    },
    "executionInfo": {
     "elapsed": 18,
     "status": "ok",
     "timestamp": 1635823257411,
     "user": {
      "displayName": "Paula Vásquez H.",
      "photoUrl": "https://lh3.googleusercontent.com/a-/AOh14GgJUNawPfe0J41agMsUCwKAOgAzWX7zUOLCtayLFg=s64",
      "userId": "02019115936957150360"
     },
     "user_tz": 180
    },
    "id": "24713ab7",
    "outputId": "5b6b6f37-5329-42fe-bd16-b149e52150e4"
   },
   "outputs": [],
   "source": [
    "personas_df.columns"
   ]
  },
  {
   "cell_type": "code",
   "execution_count": null,
   "id": "dbb9e57f",
   "metadata": {
    "id": "f86ec2ad"
   },
   "outputs": [],
   "source": [
    "viajes_personas = pd.merge(viajes_df, personas_df, on=['id_pess'], how='left')"
   ]
  },
  {
   "cell_type": "code",
   "execution_count": null,
   "id": "35a28717",
   "metadata": {
    "colab": {
     "base_uri": "https://localhost:8080/"
    },
    "executionInfo": {
     "elapsed": 6,
     "status": "ok",
     "timestamp": 1635823258048,
     "user": {
      "displayName": "Paula Vásquez H.",
      "photoUrl": "https://lh3.googleusercontent.com/a-/AOh14GgJUNawPfe0J41agMsUCwKAOgAzWX7zUOLCtayLFg=s64",
      "userId": "02019115936957150360"
     },
     "user_tz": 180
    },
    "id": "c122d955",
    "outputId": "4f18a4ac-3259-4960-9759-e248e1b0ffc9",
    "scrolled": false
   },
   "outputs": [],
   "source": [
    "print('Contando valores nulos por atributo')\n",
    "for column in viajes_personas.columns:\n",
    "    print('{}: {}'.format(column, viajes_personas[column].isna().sum()))"
   ]
  },
  {
   "cell_type": "markdown",
   "id": "b1325b11",
   "metadata": {},
   "source": [
    "### Generación csv"
   ]
  },
  {
   "cell_type": "code",
   "execution_count": null,
   "id": "3b40ac41",
   "metadata": {
    "id": "FRYm33IZqAJi"
   },
   "outputs": [],
   "source": [
    "viajes_personas.to_csv(data_path + 'sao-paulo/2017/csv/viajes_personas_saopaulo_2017.csv', index=False)"
   ]
  },
  {
   "cell_type": "markdown",
   "id": "f6afe2d1",
   "metadata": {},
   "source": [
    "### Generación geojson"
   ]
  },
  {
   "cell_type": "code",
   "execution_count": null,
   "id": "b13fddf1",
   "metadata": {},
   "outputs": [],
   "source": [
    "origenes_viajes = gpd.GeoDataFrame(\n",
    "    viajes_personas, geometry=gpd.points_from_xy(viajes_personas.co_o_x, viajes_personas.co_o_y, crs='epsg:22523'))\n",
    "\n",
    "destinos_viajes = gpd.GeoDataFrame(\n",
    "    viajes_personas, geometry=gpd.points_from_xy(viajes_personas.co_d_x, viajes_personas.co_d_y, crs='epsg:22523'))"
   ]
  },
  {
   "cell_type": "code",
   "execution_count": null,
   "id": "2cf3ecda",
   "metadata": {},
   "outputs": [],
   "source": [
    "origenes_viajes.to_file(data_path + 'sao-paulo/2017/output-geojson/origenes_viajes.geojson', driver='GeoJSON')\n",
    "destinos_viajes.to_file(data_path + 'sao-paulo/2017/output-geojson/destinos_viajes.geojson', driver='GeoJSON')"
   ]
  },
  {
   "cell_type": "markdown",
   "id": "3701fc80",
   "metadata": {},
   "source": [
    "### Generación shp"
   ]
  },
  {
   "cell_type": "code",
   "execution_count": null,
   "id": "3f55952d",
   "metadata": {},
   "outputs": [],
   "source": [
    "origenes_viajes.to_file(data_path + 'sao-paulo/2017/output-shp/origenes_viajes.shp', driver='GeoJSON')\n",
    "destinos_viajes.to_file(data_path + 'sao-paulo/2017/output-shp/destinos_viajes.shp', driver='GeoJSON')"
   ]
  },
  {
   "cell_type": "markdown",
   "id": "5da23183",
   "metadata": {
    "id": "8b4ab265"
   },
   "source": [
    "### Parte I: Indicadores de Cantidad de Viajes\n",
    "\n",
    "En esta primera parte, responderemos algunas preguntas respecto a indicadores de cantidades de viajes realizados, en días hábiles de viaje. Para esto, buscaremos responder las siguientes preguntas:\n",
    "\n",
    "1. ¿Cuál es la tasa promedio de viajes diarios en transporte público por clasificador económico?\n",
    "2. ¿Cuál es la tasa promedio de viajes diarios en transporte privado por clasificador económico?\n",
    "3. ¿Cuál es la razón entre los viajes en transporte público y privado por clasificador socioeconómico?\n",
    "4. ¿Cuál es la distribución/partición modal de los viajes por clasificador socioeconómico?"
   ]
  },
  {
   "cell_type": "code",
   "execution_count": null,
   "id": "6eff9190",
   "metadata": {
    "colab": {
     "base_uri": "https://localhost:8080/"
    },
    "executionInfo": {
     "elapsed": 338,
     "status": "ok",
     "timestamp": 1633394215766,
     "user": {
      "displayName": "Paula Vásquez H.",
      "photoUrl": "https://lh3.googleusercontent.com/a-/AOh14GgJUNawPfe0J41agMsUCwKAOgAzWX7zUOLCtayLFg=s64",
      "userId": "02019115936957150360"
     },
     "user_tz": 180
    },
    "id": "5e3907b6",
    "outputId": "aa821f32-e24c-4190-e5ee-02d8afb78c02"
   },
   "outputs": [],
   "source": [
    "print('Cantidad de etapas mapeadas: totales encuesta , total expandido')\n",
    "viajes_habiles = viajes_personas[viajes_personas.DIA_HABIL=='Si']\n",
    "print('Total etapas Habiles: {}'.format(viajes_habiles.shape[0]), viajes_habiles['fe_via'].sum())"
   ]
  },
  {
   "cell_type": "markdown",
   "id": "d3664af7",
   "metadata": {
    "id": "ddn8V_BLShbI"
   },
   "source": [
    "Separamos los viajes hábiles de acuerdo a si son privados o publicos."
   ]
  },
  {
   "cell_type": "code",
   "execution_count": null,
   "id": "2435d05b",
   "metadata": {
    "id": "6fe3f2f4"
   },
   "outputs": [],
   "source": [
    "viajes_publico_habiles = viajes_habiles[viajes_habiles.modoprin.isin(publico_viaje)]\n",
    "#viajes_publico_nohabiles = viajes_nohabiles[viajes_nohabiles.MEDIO_PREDOMINANTE.isin(publico_viaje)]\n",
    "\n",
    "viajes_privado_habiles = viajes_habiles[viajes_habiles.modoprin.isin(privado_viaje)]\n",
    "#viajes_privado_nohabiles = viajes_nohabiles[viajes_nohabiles.MEDIO_PREDOMINANTE.isin(privado_viaje)]"
   ]
  },
  {
   "cell_type": "code",
   "execution_count": null,
   "id": "21353d8e",
   "metadata": {
    "id": "79e2c954"
   },
   "outputs": [],
   "source": [
    "def weighted_mean(df, value_column, weighs_column):\n",
    "    weighted_sum = (df[value_column] * df[weighs_column]).sum()\n",
    "    return weighted_sum / df[weighs_column].sum()"
   ]
  },
  {
   "cell_type": "code",
   "execution_count": null,
   "id": "99a8b20f",
   "metadata": {
    "id": "5777b81a"
   },
   "outputs": [],
   "source": [
    "def weighted_median(df, val, weight):\n",
    "    df_sorted = df.sort_values(val)\n",
    "    cumsum = df_sorted[weight].cumsum()\n",
    "    cutoff = df_sorted[weight].sum() / 2.\n",
    "    return df_sorted[cumsum >= cutoff][val].iloc[0]"
   ]
  },
  {
   "cell_type": "markdown",
   "id": "5e127fb7",
   "metadata": {
    "id": "SwSGV81xkdcF"
   },
   "source": [
    "#### **¿Cuál es la tasa promedio de viajes diarios en transporte público por clasificador económico?**"
   ]
  },
  {
   "cell_type": "markdown",
   "id": "0ca87a15",
   "metadata": {
    "id": "ETp3XNfI2iQf"
   },
   "source": [
    "Las tablas y gráficos muestran los viajes per cápita en trasporte público durante días hábiles, por clasificador socioeconómico."
   ]
  },
  {
   "cell_type": "code",
   "execution_count": null,
   "id": "890fc54c",
   "metadata": {
    "id": "2571065c"
   },
   "outputs": [],
   "source": [
    "from pandasql import sqldf\n",
    "def calculate_n_viajes_per_capita(df, df_str, agg_columns_str, agg_columns_lst, id_person, person_weight, trip_weight=None):\n",
    "    q = \"SELECT DISTINCT {}, {}, {} FROM {}\".format(id_person, agg_columns_str, person_weight, df_str)\n",
    "    persons = sqldf(q, globals())\n",
    "    n_personas = persons.groupby(agg_columns_lst).sum()[[person_weight]].reset_index()\n",
    "    n_personas[agg_columns_lst[0]] = n_personas[agg_columns_lst[0]].astype(str)\n",
    "    n_viajes = df.groupby(agg_columns_lst).sum()[[trip_weight]].reset_index()\n",
    "    n_viajes[agg_columns_lst[0]] = n_viajes[agg_columns_lst[0]].astype(str)\n",
    "    merged = pd.merge(n_personas, n_viajes, on=agg_columns_lst, how='left')\n",
    "    merged['viajes_per_capita'] = merged[trip_weight] / merged[person_weight]\n",
    "    return merged"
   ]
  },
  {
   "cell_type": "code",
   "execution_count": null,
   "id": "7a53f57c",
   "metadata": {
    "colab": {
     "base_uri": "https://localhost:8080/",
     "height": 252
    },
    "executionInfo": {
     "elapsed": 4310,
     "status": "ok",
     "timestamp": 1633394220071,
     "user": {
      "displayName": "Paula Vásquez H.",
      "photoUrl": "https://lh3.googleusercontent.com/a-/AOh14GgJUNawPfe0J41agMsUCwKAOgAzWX7zUOLCtayLFg=s64",
      "userId": "02019115936957150360"
     },
     "user_tz": 180
    },
    "id": "yUQYMtwi3r8P",
    "outputId": "fbfde2de-db2d-424b-8933-1c5580b3d7df"
   },
   "outputs": [],
   "source": [
    "print('Viajes per cápita en transporte público - Día Hábil')\n",
    "df = calculate_n_viajes_per_capita(viajes_publico_habiles, \"viajes_publico_habiles\", \"criteriobr\", [\"criteriobr\"], 'id_pess', 'fe_pess', 'fe_via')\n",
    "df"
   ]
  },
  {
   "cell_type": "code",
   "execution_count": null,
   "id": "d8e4929c",
   "metadata": {
    "colab": {
     "base_uri": "https://localhost:8080/",
     "height": 320
    },
    "executionInfo": {
     "elapsed": 271,
     "status": "ok",
     "timestamp": 1633394245641,
     "user": {
      "displayName": "Paula Vásquez H.",
      "photoUrl": "https://lh3.googleusercontent.com/a-/AOh14GgJUNawPfe0J41agMsUCwKAOgAzWX7zUOLCtayLFg=s64",
      "userId": "02019115936957150360"
     },
     "user_tz": 180
    },
    "id": "SbZFBEyUQukt",
    "outputId": "37aa5af1-0449-4417-ce63-270b24f73b35"
   },
   "outputs": [],
   "source": [
    "#fig, ax = plt.subplots(figsize=(8,6))\n",
    "g = sns.catplot(x=\"criteriobr\", y=\"viajes_per_capita\", \n",
    "                capsize=.2, height=4, aspect=2,\n",
    "                kind=\"point\", data=df)\n",
    "\n",
    "g.fig.suptitle('Viajes per cápita en transporte público - Día Hábil')\n",
    "g.set_ylabels('# Viajes per Cápita')\n",
    "g.set_xlabels('Criterio de Classificação Econômica Brasil')\n",
    "g.set(ylim=(0,3))\n",
    "\n",
    "#fig.tight_layout()"
   ]
  },
  {
   "cell_type": "markdown",
   "id": "9978d5d7",
   "metadata": {
    "id": "5MlYxR5FxnZ9"
   },
   "source": [
    "No se observa diferencia de viajes realizados en transporte público entre los distintos niveles socioeconómicos."
   ]
  },
  {
   "cell_type": "markdown",
   "id": "7a63f509",
   "metadata": {
    "id": "Ny2u8oy4mT7u"
   },
   "source": [
    "#### **¿Cuál es la tasa promedio de viajes diarios en transporte privado por clasificador económico?**"
   ]
  },
  {
   "cell_type": "markdown",
   "id": "c474e353",
   "metadata": {
    "id": "It8-XBirD4On"
   },
   "source": [
    "Las tablas y gráficos muestran los viajes per cápita en trasporte privado durante días hábiles, por clasificador socioeconómico."
   ]
  },
  {
   "cell_type": "code",
   "execution_count": null,
   "id": "27567e88",
   "metadata": {
    "colab": {
     "base_uri": "https://localhost:8080/",
     "height": 252
    },
    "executionInfo": {
     "elapsed": 7618,
     "status": "ok",
     "timestamp": 1633394254197,
     "user": {
      "displayName": "Paula Vásquez H.",
      "photoUrl": "https://lh3.googleusercontent.com/a-/AOh14GgJUNawPfe0J41agMsUCwKAOgAzWX7zUOLCtayLFg=s64",
      "userId": "02019115936957150360"
     },
     "user_tz": 180
    },
    "id": "0f0d8f5c",
    "outputId": "c6fc0abe-4301-480b-d209-102439a39164"
   },
   "outputs": [],
   "source": [
    "print('Viajes per cápita en transporte privado - Día Hábil')\n",
    "df = calculate_n_viajes_per_capita(viajes_privado_habiles, \"viajes_privado_habiles\", \"criteriobr\", [\"criteriobr\"], 'id_pess', 'fe_pess', 'fe_via')\n",
    "df"
   ]
  },
  {
   "cell_type": "code",
   "execution_count": null,
   "id": "1d9f5eef",
   "metadata": {
    "colab": {
     "base_uri": "https://localhost:8080/",
     "height": 320
    },
    "executionInfo": {
     "elapsed": 675,
     "status": "ok",
     "timestamp": 1633394254862,
     "user": {
      "displayName": "Paula Vásquez H.",
      "photoUrl": "https://lh3.googleusercontent.com/a-/AOh14GgJUNawPfe0J41agMsUCwKAOgAzWX7zUOLCtayLFg=s64",
      "userId": "02019115936957150360"
     },
     "user_tz": 180
    },
    "id": "4UjrMPXRRUQ3",
    "outputId": "c9433c18-04a0-4731-e93a-30b6daab9e4b"
   },
   "outputs": [],
   "source": [
    "g = sns.catplot(x=\"criteriobr\", y=\"viajes_per_capita\", \n",
    "                capsize=.2, height=4, aspect=2,\n",
    "                kind=\"point\", data=df)\n",
    "\n",
    "g.fig.suptitle('Viajes per cápita en transporte privado - Día Hábil')\n",
    "g.set_ylabels('# Viajes per Cápita')\n",
    "g.set_xlabels('Criterio de Classificação Econômica Brasil')\n",
    "g.set(ylim=(0,4))\n",
    "\n",
    "#fig.tight_layout()"
   ]
  },
  {
   "cell_type": "markdown",
   "id": "c98770a6",
   "metadata": {
    "id": "ZIRQnJ7Py4aW"
   },
   "source": [
    "Se observa diferencia de viajes en modo privado en los distintos niveles socioeconómicos, en donde los niveles más vulnerables tienen una cantidad de viajes menor que los niveles más altos. Es decir, los niveles más altos usan más el transporte privado."
   ]
  },
  {
   "cell_type": "markdown",
   "id": "69efca9d",
   "metadata": {
    "id": "lEapzbnUmW6N"
   },
   "source": [
    "#### **¿Cuál es la razón entre los viajes en transporte público y privado por clasificador socioeconómico?**"
   ]
  },
  {
   "cell_type": "markdown",
   "id": "7f522f3f",
   "metadata": {
    "id": "Sba5mM2W-Ejb"
   },
   "source": [
    "Las tablas y gráficos a continuación muestran la razón entre los viajes en transporte público y transporte privado durante días hábiles, por clasificador socioeconómico."
   ]
  },
  {
   "cell_type": "code",
   "execution_count": null,
   "id": "9d792769",
   "metadata": {
    "colab": {
     "base_uri": "https://localhost:8080/",
     "height": 252
    },
    "executionInfo": {
     "elapsed": 45,
     "status": "ok",
     "timestamp": 1633394254864,
     "user": {
      "displayName": "Paula Vásquez H.",
      "photoUrl": "https://lh3.googleusercontent.com/a-/AOh14GgJUNawPfe0J41agMsUCwKAOgAzWX7zUOLCtayLFg=s64",
      "userId": "02019115936957150360"
     },
     "user_tz": 180
    },
    "id": "ffdf7ef0",
    "outputId": "febf2eac-eb83-4278-8c1f-4eb12ead4aeb"
   },
   "outputs": [],
   "source": [
    "print('Razón entre los viajes en transporte público y privado - Día Hábil')\n",
    "df = viajes_privado_habiles.groupby([\"criteriobr\"]).agg(privado_sobre_publico = ('fe_via', 'sum')) / viajes_publico_habiles.groupby([\"criteriobr\"]).agg(privado_sobre_publico = ('fe_via', 'sum'))\n",
    "df.reset_index(inplace=True)\n",
    "df"
   ]
  },
  {
   "cell_type": "code",
   "execution_count": null,
   "id": "213f2d74",
   "metadata": {
    "colab": {
     "base_uri": "https://localhost:8080/",
     "height": 320
    },
    "executionInfo": {
     "elapsed": 31,
     "status": "ok",
     "timestamp": 1633394254865,
     "user": {
      "displayName": "Paula Vásquez H.",
      "photoUrl": "https://lh3.googleusercontent.com/a-/AOh14GgJUNawPfe0J41agMsUCwKAOgAzWX7zUOLCtayLFg=s64",
      "userId": "02019115936957150360"
     },
     "user_tz": 180
    },
    "id": "90r5gmPpRrAg",
    "outputId": "647e6a59-cddc-448d-9447-8fe059ea2ce9"
   },
   "outputs": [],
   "source": [
    "g = sns.catplot(x=\"criteriobr\", y=\"privado_sobre_publico\", \n",
    "                capsize=.2, height=4, aspect=2,\n",
    "                kind=\"point\", data=df)\n",
    "\n",
    "g.fig.suptitle('Razón entre los viajes en transporte público y privado - Día Hábil')\n",
    "g.set_ylabels('Proporción de viajes privados sobre públicos')\n",
    "g.set_xlabels('Criterio de Classificação Econômica Brasil')\n",
    "g.set(ylim=(0,8))\n",
    "\n",
    "#fig.tight_layout()"
   ]
  },
  {
   "cell_type": "markdown",
   "id": "1b2db44d",
   "metadata": {
    "id": "xfrGBY-xz-bj"
   },
   "source": [
    "Se observa una mayor razón de viajes en transporte privado sobre el público para los niveles socioeconómicos más altos, en especial para A y B, en contraste con los niveles socioeconómicos más bajos, donde los valores tienden a ser menores y similares entre sí."
   ]
  },
  {
   "cell_type": "markdown",
   "id": "9a532578",
   "metadata": {
    "id": "Io9Ywtpsm35A"
   },
   "source": [
    "#### **¿Cuál es la distribución/partición modal de los viajes por clasificador socioeconómico?**"
   ]
  },
  {
   "cell_type": "markdown",
   "id": "850d9095",
   "metadata": {
    "id": "29wJthEgB1iP"
   },
   "source": [
    "Las siguientes tablas y gráficos representan la partición modal de los viajes realizados en días hábiles, por clasificador socioeconómico."
   ]
  },
  {
   "cell_type": "code",
   "execution_count": null,
   "id": "02422c65",
   "metadata": {
    "colab": {
     "base_uri": "https://localhost:8080/",
     "height": 354
    },
    "executionInfo": {
     "elapsed": 762,
     "status": "ok",
     "timestamp": 1633394255610,
     "user": {
      "displayName": "Paula Vásquez H.",
      "photoUrl": "https://lh3.googleusercontent.com/a-/AOh14GgJUNawPfe0J41agMsUCwKAOgAzWX7zUOLCtayLFg=s64",
      "userId": "02019115936957150360"
     },
     "user_tz": 180
    },
    "id": "00cf4cdc",
    "outputId": "50201a97-21a4-4df0-c5ea-ee1343a2d305"
   },
   "outputs": [],
   "source": [
    "print('Partición Modal de los Viajes - Día Hábil')\n",
    "df = viajes_habiles.groupby([\"criteriobr\", 'modoprin']).sum()['fe_via'].unstack()\n",
    "#.agg(count=('MEDIO_PREDOMINANTE','count')).unstack()\n",
    "df.div(df.sum(axis=1), axis=0)"
   ]
  },
  {
   "cell_type": "code",
   "execution_count": null,
   "id": "343ebead",
   "metadata": {
    "colab": {
     "base_uri": "https://localhost:8080/",
     "height": 585
    },
    "executionInfo": {
     "elapsed": 909,
     "status": "ok",
     "timestamp": 1633394256501,
     "user": {
      "displayName": "Paula Vásquez H.",
      "photoUrl": "https://lh3.googleusercontent.com/a-/AOh14GgJUNawPfe0J41agMsUCwKAOgAzWX7zUOLCtayLFg=s64",
      "userId": "02019115936957150360"
     },
     "user_tz": 180
    },
    "id": "IjweMUQkDdHy",
    "outputId": "4320861e-0a4d-4dd9-d3ca-e4fedaecf068"
   },
   "outputs": [],
   "source": [
    "fig, ax = plt.subplots(figsize=(8, 8))\n",
    "\n",
    "ax = sns.heatmap(df,linewidth=0.5)\n",
    "\n",
    "ax.set_title(\"Partición Modal de los Viajes por modo - Día Hábil\")\n",
    "ax.set_xlabel(\"Modo de Transporte\")\n",
    "ax.set_ylabel(\"Criterio de Classificação Econômica Brasil\")\n",
    "\n",
    "fig.tight_layout()"
   ]
  },
  {
   "cell_type": "markdown",
   "id": "2ef01eea",
   "metadata": {
    "id": "SJLI9WV40ou_"
   },
   "source": [
    "En esta distribución, destaca la frecuencia del transporte a pie de las capas medias y bajas de esta clasificación, así como el uso de omnibus del municipio de Sao Paulo para las capas medias en particular. Para los niveles más altos, se observan los valores más altos tanto como conductores o pasajeros de automóviles."
   ]
  },
  {
   "cell_type": "code",
   "execution_count": null,
   "id": "5ef066d1",
   "metadata": {
    "colab": {
     "base_uri": "https://localhost:8080/",
     "height": 283
    },
    "executionInfo": {
     "elapsed": 23,
     "status": "ok",
     "timestamp": 1633394256505,
     "user": {
      "displayName": "Paula Vásquez H.",
      "photoUrl": "https://lh3.googleusercontent.com/a-/AOh14GgJUNawPfe0J41agMsUCwKAOgAzWX7zUOLCtayLFg=s64",
      "userId": "02019115936957150360"
     },
     "user_tz": 180
    },
    "id": "6e9d6644",
    "outputId": "8f63f11a-18c1-4439-bfff-b84efa558cf0"
   },
   "outputs": [],
   "source": [
    "print('Partición Modal de los Viajes por tipo de transporte - Día Hábil')\n",
    "df = viajes_habiles.groupby([\"criteriobr\", 'publico_privado']).sum()['fe_via'].unstack()\n",
    "df_norm = df.div(df.sum(axis=1), axis=0)\n",
    "df_norm"
   ]
  },
  {
   "cell_type": "code",
   "execution_count": null,
   "id": "2c05f241",
   "metadata": {
    "colab": {
     "base_uri": "https://localhost:8080/",
     "height": 433
    },
    "executionInfo": {
     "elapsed": 16,
     "status": "ok",
     "timestamp": 1633394256506,
     "user": {
      "displayName": "Paula Vásquez H.",
      "photoUrl": "https://lh3.googleusercontent.com/a-/AOh14GgJUNawPfe0J41agMsUCwKAOgAzWX7zUOLCtayLFg=s64",
      "userId": "02019115936957150360"
     },
     "user_tz": 180
    },
    "id": "1bbjn1nGEigU",
    "outputId": "4ee4758b-c358-48de-be01-834ba7098ff1"
   },
   "outputs": [],
   "source": [
    "from aves.visualization.tables import barchart\n",
    "\n",
    "fig, ax = plt.subplots(figsize=(14, 7))\n",
    "\n",
    "barchart(\n",
    "    ax, df_norm, stacked=True, normalize=False, sort_categories=True, sort_items=False\n",
    ")\n",
    "\n",
    "ax.set_title(\"Partición Modal de los Viajes de acuerdo al tipo de transporte - Día Hábil\")\n",
    "ax.set_ylim([0, 1])\n",
    "ax.set_xlabel(\"Criterio de Classificação Econômica Brasil\")\n",
    "ax.set_ylabel(\"Fracción de los Viajes\")\n",
    "\n",
    "fig.tight_layout()"
   ]
  },
  {
   "cell_type": "markdown",
   "id": "33b08f34",
   "metadata": {
    "id": "n53CXTwy1WQN"
   },
   "source": [
    "En esta distribución, podemos ver que la fracción de viajes privados disminuye al bajar en los niveles socioeconómicos, donde se llega a un valor similar entre los 3 últimos niveles. "
   ]
  },
  {
   "cell_type": "markdown",
   "id": "ecd1e553",
   "metadata": {
    "id": "b58d4e16"
   },
   "source": [
    "### Parte II: Indicadores de Tiempo de Viajes\n",
    "\n",
    "En esta segunda parte, responderemos algunas preguntas respecto a indicadores de tiempo de viajes realizados, en días hábiles de viaje. Para esto, buscaremos responder las siguientes preguntas:\n",
    "1. ¿Cuál es el tiempo promedio de viaje por modo y tipo de transporte?\n",
    "2. ¿Cuál es el tiempo promedio de viaje en hora punta de mañana?\n",
    "3. ¿Cuál es el tiempo de viaje en transporte público en hora punta de mañana?\n",
    "4. ¿Cuál es el tiempo promedio de viaje al trabajo en transporte público?"
   ]
  },
  {
   "cell_type": "code",
   "execution_count": null,
   "id": "33eb2025",
   "metadata": {
    "id": "41c6dba2"
   },
   "outputs": [],
   "source": [
    "viajes_habiles['duracion_minutos'] = viajes_habiles['duracao'].astype('int64')\n",
    "#viajes_nohabiles['duracion_minutos'] = pd.to_timedelta(viajes_nohabiles['duracao'])/pd.Timedelta('60s')"
   ]
  },
  {
   "cell_type": "markdown",
   "id": "aa66161a",
   "metadata": {
    "id": "l_LNcTgUrx5o"
   },
   "source": [
    "#### **¿Cuál es el tiempo promedio de viaje por modo y tipo de transporte?**"
   ]
  },
  {
   "cell_type": "markdown",
   "id": "29d1447c",
   "metadata": {
    "id": "gHaD-2eHjVEC"
   },
   "source": [
    "A continuación, se representa el promedio y mediana en minutos de viaje por modo y tipo de transporte, en días hábiles y no hábiles, por clasificador socioeconómico."
   ]
  },
  {
   "cell_type": "code",
   "execution_count": null,
   "id": "9786fe39",
   "metadata": {
    "colab": {
     "base_uri": "https://localhost:8080/"
    },
    "executionInfo": {
     "elapsed": 1118,
     "status": "ok",
     "timestamp": 1633394257610,
     "user": {
      "displayName": "Paula Vásquez H.",
      "photoUrl": "https://lh3.googleusercontent.com/a-/AOh14GgJUNawPfe0J41agMsUCwKAOgAzWX7zUOLCtayLFg=s64",
      "userId": "02019115936957150360"
     },
     "user_tz": 180
    },
    "id": "e6767485",
    "outputId": "527a0a4b-bf39-4c4e-e496-6ccc86200693",
    "scrolled": true
   },
   "outputs": [],
   "source": [
    "print('Duración promedio (en minutos) de viaje por modo - Dia Hábil')\n",
    "df = viajes_habiles.groupby([\"criteriobr\", \"modoprin\"]).apply(lambda x: weighted_mean(x, 'duracion_minutos', 'fe_via')).unstack()"
   ]
  },
  {
   "cell_type": "code",
   "execution_count": null,
   "id": "0f82f1ef",
   "metadata": {
    "colab": {
     "base_uri": "https://localhost:8080/",
     "height": 585
    },
    "executionInfo": {
     "elapsed": 636,
     "status": "ok",
     "timestamp": 1633394258244,
     "user": {
      "displayName": "Paula Vásquez H.",
      "photoUrl": "https://lh3.googleusercontent.com/a-/AOh14GgJUNawPfe0J41agMsUCwKAOgAzWX7zUOLCtayLFg=s64",
      "userId": "02019115936957150360"
     },
     "user_tz": 180
    },
    "id": "k0C9ok98Ny2b",
    "outputId": "c995e788-1e02-4e78-9e50-1bcdc52195f9"
   },
   "outputs": [],
   "source": [
    "fig, ax = plt.subplots(figsize=(10, 8))\n",
    "\n",
    "ax = sns.heatmap(df, annot=True)\n",
    "\n",
    "ax.set_title(\"Duración promedio de viaje por modo - Día Hábil\")\n",
    "ax.set_xlabel(\"Modo de Transporte\")\n",
    "ax.set_ylabel(\"Criterio de Classificação Econômica Brasil\")\n",
    "\n",
    "fig.tight_layout()"
   ]
  },
  {
   "cell_type": "code",
   "execution_count": null,
   "id": "ceac6644",
   "metadata": {
    "colab": {
     "base_uri": "https://localhost:8080/",
     "height": 354
    },
    "executionInfo": {
     "elapsed": 19,
     "status": "ok",
     "timestamp": 1633394258246,
     "user": {
      "displayName": "Paula Vásquez H.",
      "photoUrl": "https://lh3.googleusercontent.com/a-/AOh14GgJUNawPfe0J41agMsUCwKAOgAzWX7zUOLCtayLFg=s64",
      "userId": "02019115936957150360"
     },
     "user_tz": 180
    },
    "id": "aa1fa7a9",
    "outputId": "b973024c-b808-40d6-e2d3-65189c83e556"
   },
   "outputs": [],
   "source": [
    "print('Duración mediana (en minutos) de viaje por modo - Dia Hábil')\n",
    "df = viajes_habiles.groupby([\"criteriobr\", \"modoprin\"]).apply(lambda x: weighted_median(x, 'duracion_minutos', 'fe_via')).unstack()\n",
    "df"
   ]
  },
  {
   "cell_type": "code",
   "execution_count": null,
   "id": "2c58b887",
   "metadata": {
    "colab": {
     "base_uri": "https://localhost:8080/",
     "height": 585
    },
    "executionInfo": {
     "elapsed": 773,
     "status": "ok",
     "timestamp": 1633394259010,
     "user": {
      "displayName": "Paula Vásquez H.",
      "photoUrl": "https://lh3.googleusercontent.com/a-/AOh14GgJUNawPfe0J41agMsUCwKAOgAzWX7zUOLCtayLFg=s64",
      "userId": "02019115936957150360"
     },
     "user_tz": 180
    },
    "id": "HP5EHO9WOIiX",
    "outputId": "98318e0f-0f35-42f6-a7bb-c79a5673d076"
   },
   "outputs": [],
   "source": [
    "fig, ax = plt.subplots(figsize=(10, 8))\n",
    "\n",
    "ax = sns.heatmap(df, annot=True)\n",
    "\n",
    "ax.set_title(\"Duración mediana de viaje por modo - Día Hábil\")\n",
    "ax.set_xlabel(\"Modo de Transporte\")\n",
    "ax.set_ylabel(\"Criterio de Classificação Econômica Brasil\")\n",
    "\n",
    "fig.tight_layout()"
   ]
  },
  {
   "cell_type": "markdown",
   "id": "cedb8011",
   "metadata": {
    "id": "o-zEY9Jv29JQ"
   },
   "source": [
    "Ambas medidas de tendencia central muestran que los modos de transporte con duraciones más largas son metro, tren y omnibus, con los tiempos promedios de viaje aumentando a medida que se baja de nivel socioeconómico para algunos de los modos."
   ]
  },
  {
   "cell_type": "code",
   "execution_count": null,
   "id": "b2da5c1b",
   "metadata": {
    "colab": {
     "base_uri": "https://localhost:8080/",
     "height": 283
    },
    "executionInfo": {
     "elapsed": 561,
     "status": "ok",
     "timestamp": 1633394259564,
     "user": {
      "displayName": "Paula Vásquez H.",
      "photoUrl": "https://lh3.googleusercontent.com/a-/AOh14GgJUNawPfe0J41agMsUCwKAOgAzWX7zUOLCtayLFg=s64",
      "userId": "02019115936957150360"
     },
     "user_tz": 180
    },
    "id": "244e1141",
    "outputId": "5747ed91-b12a-4e56-caf5-58d719a4e2dc"
   },
   "outputs": [],
   "source": [
    "print('Duración promedio (en minutos) de viaje por tipo de transporte - Dia Hábil')\n",
    "df = viajes_habiles.groupby([\"criteriobr\", 'publico_privado']).apply(lambda x: weighted_mean(x, 'duracion_minutos', 'fe_via')).unstack()\n",
    "df"
   ]
  },
  {
   "cell_type": "code",
   "execution_count": null,
   "id": "0d9e1ff6",
   "metadata": {
    "colab": {
     "base_uri": "https://localhost:8080/",
     "height": 585
    },
    "executionInfo": {
     "elapsed": 16,
     "status": "ok",
     "timestamp": 1633394259566,
     "user": {
      "displayName": "Paula Vásquez H.",
      "photoUrl": "https://lh3.googleusercontent.com/a-/AOh14GgJUNawPfe0J41agMsUCwKAOgAzWX7zUOLCtayLFg=s64",
      "userId": "02019115936957150360"
     },
     "user_tz": 180
    },
    "id": "1CTfYrtLOaJI",
    "outputId": "af9ad716-cc56-4b35-ec7f-3ca82a7b78fe"
   },
   "outputs": [],
   "source": [
    "fig, ax = plt.subplots(figsize=(5, 8))\n",
    "\n",
    "ax = sns.heatmap(df, annot=True)\n",
    "\n",
    "ax.set_title(\"Duración promedio de viaje por tipo de transporte - Día Hábil\")\n",
    "ax.set_xlabel(\"Tipo de Transporte\")\n",
    "ax.set_ylabel(\"Criterio de Classificação Econômica Brasil\")\n",
    "\n",
    "fig.tight_layout()"
   ]
  },
  {
   "cell_type": "code",
   "execution_count": null,
   "id": "465fb8bb",
   "metadata": {
    "colab": {
     "base_uri": "https://localhost:8080/",
     "height": 283
    },
    "executionInfo": {
     "elapsed": 463,
     "status": "ok",
     "timestamp": 1633394260014,
     "user": {
      "displayName": "Paula Vásquez H.",
      "photoUrl": "https://lh3.googleusercontent.com/a-/AOh14GgJUNawPfe0J41agMsUCwKAOgAzWX7zUOLCtayLFg=s64",
      "userId": "02019115936957150360"
     },
     "user_tz": 180
    },
    "id": "d8d8b519",
    "outputId": "d23a9e7d-4b72-4daa-a11e-8766591c0d49"
   },
   "outputs": [],
   "source": [
    "print('Duración mediana (en minutos) de viaje por tipo de transporte - Dia Hábil')\n",
    "df = viajes_habiles.groupby([\"criteriobr\", 'publico_privado']).apply(lambda x: weighted_median(x, 'duracion_minutos', 'fe_via')).unstack()\n",
    "df"
   ]
  },
  {
   "cell_type": "code",
   "execution_count": null,
   "id": "faad650f",
   "metadata": {
    "colab": {
     "base_uri": "https://localhost:8080/",
     "height": 585
    },
    "executionInfo": {
     "elapsed": 523,
     "status": "ok",
     "timestamp": 1633394260532,
     "user": {
      "displayName": "Paula Vásquez H.",
      "photoUrl": "https://lh3.googleusercontent.com/a-/AOh14GgJUNawPfe0J41agMsUCwKAOgAzWX7zUOLCtayLFg=s64",
      "userId": "02019115936957150360"
     },
     "user_tz": 180
    },
    "id": "lhQyml4gOmXK",
    "outputId": "4e56cce2-35a0-4a9a-ec21-969353d5533b"
   },
   "outputs": [],
   "source": [
    "fig, ax = plt.subplots(figsize=(5, 8))\n",
    "\n",
    "ax = sns.heatmap(df, annot=True)\n",
    "\n",
    "ax.set_title(\"Duración promedio de viaje por modo - Día Hábil\")\n",
    "ax.set_xlabel(\"Tipo de Transporte\")\n",
    "ax.set_ylabel(\"Criterio de Classificação Econômica Brasil\")\n",
    "\n",
    "fig.tight_layout()"
   ]
  },
  {
   "cell_type": "markdown",
   "id": "d22a1fa6",
   "metadata": {
    "id": "MjB_ZjnP34O2"
   },
   "source": [
    "Para los tipos de transporte, las medidas de tendencia central nos muestran una gran diferencia de duración entre transporte público y privado, donde el transporte público tiene viajes de mayor duración, los cuales también aumentan al bajar de nivel socioeconómico."
   ]
  },
  {
   "cell_type": "markdown",
   "id": "aa6e23dd",
   "metadata": {
    "id": "CmwQu0iPsMd9"
   },
   "source": [
    "#### **¿Cuál es el tiempo promedio de viaje en hora punta de mañana?**"
   ]
  },
  {
   "cell_type": "markdown",
   "id": "d72dae78",
   "metadata": {
    "id": "qw0LAKanOrcp"
   },
   "source": [
    "Los siguientes tablas y gráficos representan el tiempo promedio de viaje a hora punta por la mañana por modo y tipo de transporte, y por clasificador socioeconómico."
   ]
  },
  {
   "cell_type": "code",
   "execution_count": null,
   "id": "c4fadcf0",
   "metadata": {
    "colab": {
     "base_uri": "https://localhost:8080/",
     "height": 354
    },
    "executionInfo": {
     "elapsed": 18,
     "status": "ok",
     "timestamp": 1633394260532,
     "user": {
      "displayName": "Paula Vásquez H.",
      "photoUrl": "https://lh3.googleusercontent.com/a-/AOh14GgJUNawPfe0J41agMsUCwKAOgAzWX7zUOLCtayLFg=s64",
      "userId": "02019115936957150360"
     },
     "user_tz": 180
    },
    "id": "c3ddfb82",
    "outputId": "63d9fbea-cd09-4616-e729-0ec851af818c"
   },
   "outputs": [],
   "source": [
    "print('Duración promedio (en minutos) de viaje por modo en hora punta - Dia Hábil')\n",
    "df = viajes_habiles[viajes_habiles.PICO_HABIL=='Si'].groupby([\"criteriobr\", 'modoprin']).apply(lambda x: weighted_mean(x, 'duracion_minutos', 'fe_via')).unstack()\n",
    "df "
   ]
  },
  {
   "cell_type": "code",
   "execution_count": null,
   "id": "a54a2ae2",
   "metadata": {
    "colab": {
     "base_uri": "https://localhost:8080/",
     "height": 585
    },
    "executionInfo": {
     "elapsed": 1741,
     "status": "ok",
     "timestamp": 1633394262266,
     "user": {
      "displayName": "Paula Vásquez H.",
      "photoUrl": "https://lh3.googleusercontent.com/a-/AOh14GgJUNawPfe0J41agMsUCwKAOgAzWX7zUOLCtayLFg=s64",
      "userId": "02019115936957150360"
     },
     "user_tz": 180
    },
    "id": "j-Uj5Pw9PAhf",
    "outputId": "db446e87-9e2a-4061-ed30-6850a745ff27"
   },
   "outputs": [],
   "source": [
    "fig, ax = plt.subplots(figsize=(10, 8))\n",
    "\n",
    "ax = sns.heatmap(df, annot=True)\n",
    "\n",
    "ax.set_title(\"Duración promedio (en minutos) de viaje por modo en hora punta - Día Hábil\")\n",
    "ax.set_xlabel(\"Modo de Transporte\")\n",
    "ax.set_ylabel(\"Criterio de Classificação Econômica Brasil\")\n",
    "\n",
    "fig.tight_layout()"
   ]
  },
  {
   "cell_type": "code",
   "execution_count": null,
   "id": "8b0fbb06",
   "metadata": {
    "colab": {
     "base_uri": "https://localhost:8080/",
     "height": 354
    },
    "executionInfo": {
     "elapsed": 12,
     "status": "ok",
     "timestamp": 1633394262267,
     "user": {
      "displayName": "Paula Vásquez H.",
      "photoUrl": "https://lh3.googleusercontent.com/a-/AOh14GgJUNawPfe0J41agMsUCwKAOgAzWX7zUOLCtayLFg=s64",
      "userId": "02019115936957150360"
     },
     "user_tz": 180
    },
    "id": "ff2008ae",
    "outputId": "78594923-3e9f-4999-c8d9-5094a7930f7f"
   },
   "outputs": [],
   "source": [
    "print('Duración mediana (en minutos) de viaje por modo en hora punta - Dia Hábil')\n",
    "df = viajes_habiles[viajes_habiles.PICO_HABIL=='Si'].groupby([\"criteriobr\", 'modoprin']).apply(lambda x: weighted_median(x, 'duracion_minutos', 'fe_via')).unstack()\n",
    "df"
   ]
  },
  {
   "cell_type": "code",
   "execution_count": null,
   "id": "6fc586fc",
   "metadata": {
    "colab": {
     "base_uri": "https://localhost:8080/",
     "height": 585
    },
    "executionInfo": {
     "elapsed": 757,
     "status": "ok",
     "timestamp": 1633394263017,
     "user": {
      "displayName": "Paula Vásquez H.",
      "photoUrl": "https://lh3.googleusercontent.com/a-/AOh14GgJUNawPfe0J41agMsUCwKAOgAzWX7zUOLCtayLFg=s64",
      "userId": "02019115936957150360"
     },
     "user_tz": 180
    },
    "id": "T08mIQbrPcVr",
    "outputId": "af25bc6b-8733-4109-fe9a-6cee167e4063"
   },
   "outputs": [],
   "source": [
    "fig, ax = plt.subplots(figsize=(10, 8))\n",
    "\n",
    "ax = sns.heatmap(df, annot=True)\n",
    "\n",
    "ax.set_title(\"Duración mediana (en minutos) de viaje por modo en hora punta - Día Hábil\")\n",
    "ax.set_xlabel(\"Modo de Transporte\")\n",
    "ax.set_ylabel(\"Criterio de Classificação Econômica Brasil\")\n",
    "\n",
    "fig.tight_layout()"
   ]
  },
  {
   "cell_type": "markdown",
   "id": "a8ab5af0",
   "metadata": {
    "id": "9HgMK92M4ZRg"
   },
   "source": [
    "Las medidas de tendencia central muestran resultados de duración de viaje similares a los vistos en la pregunta anterior, sin diferencia para la hora punta de mañana, con el metro, tren y omnibus como los modos con mayores tiempos de duración de viaje, y con tendencia al aumento a medida que se baja de nivel socioeconómico."
   ]
  },
  {
   "cell_type": "code",
   "execution_count": null,
   "id": "38cbc888",
   "metadata": {
    "colab": {
     "base_uri": "https://localhost:8080/",
     "height": 283
    },
    "executionInfo": {
     "elapsed": 16,
     "status": "ok",
     "timestamp": 1633394263018,
     "user": {
      "displayName": "Paula Vásquez H.",
      "photoUrl": "https://lh3.googleusercontent.com/a-/AOh14GgJUNawPfe0J41agMsUCwKAOgAzWX7zUOLCtayLFg=s64",
      "userId": "02019115936957150360"
     },
     "user_tz": 180
    },
    "id": "1eab253c",
    "outputId": "8f3fd646-0239-4b6b-dc87-a589c1c76f23"
   },
   "outputs": [],
   "source": [
    "print('Duración promedio (en minutos) de viaje por tipo de transporte en hora punta - Dia Hábil')\n",
    "df = viajes_habiles[(viajes_habiles.PICO_HABIL=='Si')].groupby([\"criteriobr\",'publico_privado']).apply(lambda x: weighted_mean(x, 'duracion_minutos', 'fe_via')).unstack()\n",
    "df"
   ]
  },
  {
   "cell_type": "code",
   "execution_count": null,
   "id": "4379bf52",
   "metadata": {
    "colab": {
     "base_uri": "https://localhost:8080/",
     "height": 585
    },
    "executionInfo": {
     "elapsed": 565,
     "status": "ok",
     "timestamp": 1633394263576,
     "user": {
      "displayName": "Paula Vásquez H.",
      "photoUrl": "https://lh3.googleusercontent.com/a-/AOh14GgJUNawPfe0J41agMsUCwKAOgAzWX7zUOLCtayLFg=s64",
      "userId": "02019115936957150360"
     },
     "user_tz": 180
    },
    "id": "DbiCZjNLP3n6",
    "outputId": "e68167e6-41b9-4d73-9961-96e610d5ef13"
   },
   "outputs": [],
   "source": [
    "fig, ax = plt.subplots(figsize=(5, 8))\n",
    "\n",
    "ax = sns.heatmap(df, annot=True)\n",
    "\n",
    "ax.set_title(\"Duración promedio (en minutos) de viaje por tipo de transporte en hora punta - Día Hábil\")\n",
    "ax.set_xlabel(\"Tipo de Transporte\")\n",
    "ax.set_ylabel(\"Criterio de Classificação Econômica Brasil\")\n",
    "\n",
    "fig.tight_layout()"
   ]
  },
  {
   "cell_type": "code",
   "execution_count": null,
   "id": "0fe0e064",
   "metadata": {
    "colab": {
     "base_uri": "https://localhost:8080/",
     "height": 283
    },
    "executionInfo": {
     "elapsed": 37,
     "status": "ok",
     "timestamp": 1633394263577,
     "user": {
      "displayName": "Paula Vásquez H.",
      "photoUrl": "https://lh3.googleusercontent.com/a-/AOh14GgJUNawPfe0J41agMsUCwKAOgAzWX7zUOLCtayLFg=s64",
      "userId": "02019115936957150360"
     },
     "user_tz": 180
    },
    "id": "4ed3b2d1",
    "outputId": "e0cba145-cc43-44ff-a635-69d2354d435a"
   },
   "outputs": [],
   "source": [
    "print('Duración mediana (en minutos) de viaje por tipo de transporte en hora punta - Dia Hábil')\n",
    "df = viajes_habiles[(viajes_habiles.PICO_HABIL=='Si')].groupby([\"criteriobr\", 'publico_privado']).apply(lambda x: weighted_median(x, 'duracion_minutos', 'fe_via')).unstack()\n",
    "df"
   ]
  },
  {
   "cell_type": "code",
   "execution_count": null,
   "id": "6c86ef2d",
   "metadata": {
    "colab": {
     "base_uri": "https://localhost:8080/",
     "height": 585
    },
    "executionInfo": {
     "elapsed": 719,
     "status": "ok",
     "timestamp": 1633394264280,
     "user": {
      "displayName": "Paula Vásquez H.",
      "photoUrl": "https://lh3.googleusercontent.com/a-/AOh14GgJUNawPfe0J41agMsUCwKAOgAzWX7zUOLCtayLFg=s64",
      "userId": "02019115936957150360"
     },
     "user_tz": 180
    },
    "id": "IOFhrwCVQQKe",
    "outputId": "130b90f2-e3f0-4d67-d66a-8c6104d7b42c"
   },
   "outputs": [],
   "source": [
    "fig, ax = plt.subplots(figsize=(5, 8))\n",
    "\n",
    "ax = sns.heatmap(df, annot=True)\n",
    "\n",
    "ax.set_title(\"Duración mediana (en minutos) de viaje por tipo de transporte en hora punta - Día Hábil\")\n",
    "ax.set_xlabel(\"Tipo de Transporte\")\n",
    "ax.set_ylabel(\"Criterio de Classificação Econômica Brasil\")\n",
    "\n",
    "fig.tight_layout()"
   ]
  },
  {
   "cell_type": "markdown",
   "id": "873ac8dd",
   "metadata": {
    "id": "Ra2AEtFn5Alx"
   },
   "source": [
    "Las tendencias de medida central de duración por tipo muestran valores similares a la pregunta anterior, sin diferencia para el horario de hora punta de mañana, y con una gran diferencia de duración de viaje entre el transporte privado y público, pero sin diferencia a través de los niveles socioeconómicos."
   ]
  },
  {
   "cell_type": "markdown",
   "id": "bec4de05",
   "metadata": {
    "id": "H_ocE17OJJqg"
   },
   "source": [
    "#### **¿Cuál es el tiempo de viaje en transporte público en hora punta de mañana?**"
   ]
  },
  {
   "cell_type": "markdown",
   "id": "a0203683",
   "metadata": {
    "id": "oJQ1G1NuNwwD"
   },
   "source": [
    "A continuación, se presentan los resultados para duración promedio de viaje en hora punta de mañana en transporte público, en día hábil, por clasificador socioeconómico."
   ]
  },
  {
   "cell_type": "code",
   "execution_count": null,
   "id": "782e7821",
   "metadata": {
    "colab": {
     "base_uri": "https://localhost:8080/",
     "height": 371
    },
    "executionInfo": {
     "elapsed": 16,
     "status": "ok",
     "timestamp": 1633394264281,
     "user": {
      "displayName": "Paula Vásquez H.",
      "photoUrl": "https://lh3.googleusercontent.com/a-/AOh14GgJUNawPfe0J41agMsUCwKAOgAzWX7zUOLCtayLFg=s64",
      "userId": "02019115936957150360"
     },
     "user_tz": 180
    },
    "id": "b2lERy3nJkQU",
    "outputId": "1baceb56-1ae8-4325-f1da-92f1fe5fdd5d"
   },
   "outputs": [],
   "source": [
    "print('Duración promedio (en minutos) de viaje hora punta en transporte público - Dia Hábil')\n",
    "mask = (viajes_habiles.publico_privado=='Público')\n",
    "df = viajes_habiles[viajes_habiles.PICO_HABIL=='Si'][mask].groupby([\"criteriobr\", 'modoprin']).apply(lambda x: weighted_mean(x, 'duracion_minutos', 'fe_via')).unstack()\n",
    "df "
   ]
  },
  {
   "cell_type": "code",
   "execution_count": null,
   "id": "a7d6a56e",
   "metadata": {
    "colab": {
     "base_uri": "https://localhost:8080/",
     "height": 729
    },
    "executionInfo": {
     "elapsed": 2194,
     "status": "ok",
     "timestamp": 1633394266466,
     "user": {
      "displayName": "Paula Vásquez H.",
      "photoUrl": "https://lh3.googleusercontent.com/a-/AOh14GgJUNawPfe0J41agMsUCwKAOgAzWX7zUOLCtayLFg=s64",
      "userId": "02019115936957150360"
     },
     "user_tz": 180
    },
    "id": "pAyXet6uLeUi",
    "outputId": "25e35727-5922-4544-894a-0f3be59f31dd"
   },
   "outputs": [],
   "source": [
    "fig, ax = plt.subplots(figsize=(5, 10))\n",
    "\n",
    "ax = sns.heatmap(df, annot=True)\n",
    "\n",
    "ax.set_title(\"Duración promedio (en minutos) de viaje hora punta en transporte público - Dia Hábil\")\n",
    "ax.set_xlabel(\"Modo de Transporte\")\n",
    "ax.set_ylabel(\"Criterio de Classificação Econômica Brasil\")\n",
    "\n",
    "fig.tight_layout()"
   ]
  },
  {
   "cell_type": "code",
   "execution_count": null,
   "id": "5e82cb1f",
   "metadata": {
    "colab": {
     "base_uri": "https://localhost:8080/",
     "height": 371
    },
    "executionInfo": {
     "elapsed": 15,
     "status": "ok",
     "timestamp": 1633394266467,
     "user": {
      "displayName": "Paula Vásquez H.",
      "photoUrl": "https://lh3.googleusercontent.com/a-/AOh14GgJUNawPfe0J41agMsUCwKAOgAzWX7zUOLCtayLFg=s64",
      "userId": "02019115936957150360"
     },
     "user_tz": 180
    },
    "id": "oNuKtInfL-rf",
    "outputId": "212bba84-1fc8-4dcc-fe4b-11bade2062fe"
   },
   "outputs": [],
   "source": [
    "print('Duración mediana (en minutos) de viaje hora punta en transporte público - Dia Hábil')\n",
    "mask = (viajes_habiles.publico_privado=='Público')\n",
    "df = viajes_habiles[viajes_habiles.PICO_HABIL=='Si'][mask].groupby([\"criteriobr\", 'modoprin']).apply(lambda x: weighted_median(x, 'duracion_minutos', 'fe_via')).unstack()\n",
    "df "
   ]
  },
  {
   "cell_type": "code",
   "execution_count": null,
   "id": "9de34754",
   "metadata": {
    "colab": {
     "base_uri": "https://localhost:8080/",
     "height": 729
    },
    "executionInfo": {
     "elapsed": 1440,
     "status": "ok",
     "timestamp": 1633394267899,
     "user": {
      "displayName": "Paula Vásquez H.",
      "photoUrl": "https://lh3.googleusercontent.com/a-/AOh14GgJUNawPfe0J41agMsUCwKAOgAzWX7zUOLCtayLFg=s64",
      "userId": "02019115936957150360"
     },
     "user_tz": 180
    },
    "id": "7Om-r0B7L-rf",
    "outputId": "31509cb4-3919-4d86-af7f-3048889c6813"
   },
   "outputs": [],
   "source": [
    "fig, ax = plt.subplots(figsize=(5, 10))\n",
    "\n",
    "ax = sns.heatmap(df, annot=True)\n",
    "\n",
    "ax.set_title(\"Duración mediana (en minutos) de viaje hora punta en transporte público - Dia Hábil\")\n",
    "ax.set_xlabel(\"Modo de Transporte\")\n",
    "ax.set_ylabel(\"Criterio de Classificação Econômica Brasil\")\n",
    "\n",
    "fig.tight_layout()"
   ]
  },
  {
   "cell_type": "markdown",
   "id": "18e3102f",
   "metadata": {
    "id": "Zr7VMG6o6GyY"
   },
   "source": [
    "Las medidas de tendencia central muestran una mayor duración de viajes durante el horario de hora punta de mañana para el metro en particular, y para el omnibus metropolitano en una menor medida. Se observa un aumento de la duración a medida que se baja en nivel socioeconómico, excepto para le modo de onmnibus metropolitano, donde los viajes de mayor duración corresponden al nivel más alto."
   ]
  },
  {
   "cell_type": "markdown",
   "id": "3563df91",
   "metadata": {
    "id": "0cuVioNGuNFb"
   },
   "source": [
    "#### **¿Cuál es el tiempo promedio de viaje al trabajo en transporte público?**"
   ]
  },
  {
   "cell_type": "markdown",
   "id": "751477ce",
   "metadata": {
    "id": "vOgHsQbhQioY"
   },
   "source": [
    "A continuación, se presentan los resultados de tiempo promedio de viaje al trabajo en transporte público, por clasificador socioeconómico."
   ]
  },
  {
   "cell_type": "code",
   "execution_count": null,
   "id": "1b153f9e",
   "metadata": {
    "id": "aff8686e"
   },
   "outputs": [],
   "source": [
    "work = ['Trabalho Serviços','Trabalho Comércio', 'Procurar Emprego', 'Trabalho Indústria']"
   ]
  },
  {
   "cell_type": "code",
   "execution_count": null,
   "id": "2a317ba8",
   "metadata": {
    "colab": {
     "base_uri": "https://localhost:8080/",
     "height": 317
    },
    "executionInfo": {
     "elapsed": 107,
     "status": "ok",
     "timestamp": 1633394267901,
     "user": {
      "displayName": "Paula Vásquez H.",
      "photoUrl": "https://lh3.googleusercontent.com/a-/AOh14GgJUNawPfe0J41agMsUCwKAOgAzWX7zUOLCtayLFg=s64",
      "userId": "02019115936957150360"
     },
     "user_tz": 180
    },
    "id": "437706df",
    "outputId": "0778dcdb-e10c-47e6-c635-b65e4f98858c"
   },
   "outputs": [],
   "source": [
    "print('Duración promedio (en minutos) de viaje al trabajo en transporte público - Dia Hábil')\n",
    "mask = (viajes_habiles.publico_privado=='Público') & (viajes_habiles.motivo_d.isin(work))\n",
    "df = viajes_habiles[mask].groupby([\"criteriobr\", \"modoprin\"]).apply(lambda x: weighted_mean(x, 'duracion_minutos', 'fe_via')).unstack()\n",
    "df"
   ]
  },
  {
   "cell_type": "code",
   "execution_count": null,
   "id": "ac2cbc1c",
   "metadata": {
    "colab": {
     "base_uri": "https://localhost:8080/",
     "height": 729
    },
    "executionInfo": {
     "elapsed": 97,
     "status": "ok",
     "timestamp": 1633394267903,
     "user": {
      "displayName": "Paula Vásquez H.",
      "photoUrl": "https://lh3.googleusercontent.com/a-/AOh14GgJUNawPfe0J41agMsUCwKAOgAzWX7zUOLCtayLFg=s64",
      "userId": "02019115936957150360"
     },
     "user_tz": 180
    },
    "id": "GfXZQfXlNKOE",
    "outputId": "56c749ee-04f1-443d-e3ed-8363ae945583"
   },
   "outputs": [],
   "source": [
    "fig, ax = plt.subplots(figsize=(8, 10))\n",
    "\n",
    "ax = sns.heatmap(df, annot=True)\n",
    "\n",
    "ax.set_title(\"Duración promedio (en minutos) de viaje al trabajo en transporte público - Dia Hábil\")\n",
    "ax.set_xlabel(\"Modo de Transporte\")\n",
    "ax.set_ylabel(\"Criterio de Classificação Econômica Brasil\")\n",
    "\n",
    "fig.tight_layout()"
   ]
  },
  {
   "cell_type": "code",
   "execution_count": null,
   "id": "1caa2787",
   "metadata": {
    "colab": {
     "base_uri": "https://localhost:8080/",
     "height": 317
    },
    "executionInfo": {
     "elapsed": 96,
     "status": "ok",
     "timestamp": 1633394267905,
     "user": {
      "displayName": "Paula Vásquez H.",
      "photoUrl": "https://lh3.googleusercontent.com/a-/AOh14GgJUNawPfe0J41agMsUCwKAOgAzWX7zUOLCtayLFg=s64",
      "userId": "02019115936957150360"
     },
     "user_tz": 180
    },
    "id": "b7e0c056",
    "outputId": "77561828-61b5-4cc8-e3ba-d590de00ca3a"
   },
   "outputs": [],
   "source": [
    "print('Duración mediana (en minutos) de viaje al trabajo en transporte público - Dia Hábil')\n",
    "mask = (viajes_habiles.publico_privado=='Público') & (viajes_habiles.motivo_d.isin(work))\n",
    "df = viajes_habiles[mask].groupby([\"criteriobr\", \"modoprin\"]).apply(lambda x: weighted_median(x, 'duracion_minutos', 'fe_via')).unstack()\n",
    "df"
   ]
  },
  {
   "cell_type": "code",
   "execution_count": null,
   "id": "29fd6857",
   "metadata": {
    "colab": {
     "base_uri": "https://localhost:8080/",
     "height": 729
    },
    "executionInfo": {
     "elapsed": 86,
     "status": "ok",
     "timestamp": 1633394267906,
     "user": {
      "displayName": "Paula Vásquez H.",
      "photoUrl": "https://lh3.googleusercontent.com/a-/AOh14GgJUNawPfe0J41agMsUCwKAOgAzWX7zUOLCtayLFg=s64",
      "userId": "02019115936957150360"
     },
     "user_tz": 180
    },
    "id": "_S-CIcmnNRxs",
    "outputId": "30059886-ae16-4c78-af02-e65c4a0cc98f"
   },
   "outputs": [],
   "source": [
    "fig, ax = plt.subplots(figsize=(8, 10))\n",
    "\n",
    "ax = sns.heatmap(df, annot=True)\n",
    "\n",
    "ax.set_title(\"Duración mediana (en minutos) de viaje al trabajo en transporte público - Dia Hábil\")\n",
    "ax.set_xlabel(\"Modo de Transporte\")\n",
    "ax.set_ylabel(\"Criterio de Classificação Econômica Brasil\")\n",
    "\n",
    "fig.tight_layout()"
   ]
  },
  {
   "cell_type": "markdown",
   "id": "d0affcf8",
   "metadata": {
    "id": "MiOt-_ZF6vkj"
   },
   "source": [
    "Se observan los valores más altos de duración de viaje al trabajo para el metro, y con una tendencia al aumento de duración de viaje a medida que se baja en nivel socioeconómico, excepto para el omnibus metropolitano, donde el valor más alto corresponde al nivel más alto."
   ]
  },
  {
   "cell_type": "markdown",
   "id": "f34fb4c2",
   "metadata": {
    "id": "dadc64ab"
   },
   "source": [
    "### Parte III: Indicadores de Distancia de Viajes\n",
    "1. Distancia de viajes en auto (histograma de viajes por km)\n",
    "2.Distancia de viajes en transporte público (histograma de viajes por km)\n",
    "3.Distancia de viajes por motivo estudio (histograma de viajes por km)\n",
    "4.Distancia de viajes por motivo al trabajo (histograma de viajes por km)\n",
    "5.Viajes interzonales como intrazonales\n"
   ]
  },
  {
   "cell_type": "markdown",
   "id": "7ddc8e3a",
   "metadata": {
    "id": "5KmeoTrxG-Yw"
   },
   "source": [
    "En esta sección, se presentarán los indicadores de distancia de viajes durante días hábiles."
   ]
  },
  {
   "cell_type": "markdown",
   "id": "c7d8209f",
   "metadata": {
    "id": "IdM9y-kCu-j_"
   },
   "source": [
    "#### **Distancia de viajes en auto (histograma de viajes por km)**"
   ]
  },
  {
   "cell_type": "code",
   "execution_count": null,
   "id": "c4b1ff12",
   "metadata": {
    "id": "b98d0d02"
   },
   "outputs": [],
   "source": [
    "car = ['Dirigindo automóvel', 'Passageiro de automóvel']"
   ]
  },
  {
   "cell_type": "code",
   "execution_count": null,
   "id": "c1a99b53",
   "metadata": {
    "colab": {
     "base_uri": "https://localhost:8080/",
     "height": 310
    },
    "executionInfo": {
     "elapsed": 101168,
     "status": "ok",
     "timestamp": 1633394368991,
     "user": {
      "displayName": "Paula Vásquez H.",
      "photoUrl": "https://lh3.googleusercontent.com/a-/AOh14GgJUNawPfe0J41agMsUCwKAOgAzWX7zUOLCtayLFg=s64",
      "userId": "02019115936957150360"
     },
     "user_tz": 180
    },
    "id": "88138694",
    "outputId": "c3984df0-543a-4f5b-a9b4-ecff169d937b"
   },
   "outputs": [],
   "source": [
    "from matplotlib.pyplot import hist\n",
    "print('Distancia de viajes en auto - Día Hábil')\n",
    "mask = (viajes_habiles.modoprin.isin(car))\n",
    "df = viajes_habiles[mask].groupby('distancia_manhattan').sum()[['fe_via']].reset_index().sort_values('distancia_manhattan')\n",
    "hist(df.distancia_manhattan, weights=df.fe_via, bins=50)\n",
    "plt.axvline(viajes_habiles[mask].groupby('id_ordem').apply(lambda x: weighted_mean(x, 'distancia_manhattan', 'fe_via')).mean(), color='green', linestyle='dashed', linewidth=1)\n",
    "plt.axvline(viajes_habiles[mask].groupby('id_ordem').apply(lambda x: weighted_median(x, 'distancia_manhattan', 'fe_via')).median(), color='red', linestyle='dashed', linewidth=1)\n",
    "#Verde Promedio\n",
    "#Rojo Mediana"
   ]
  },
  {
   "cell_type": "markdown",
   "id": "da37c399",
   "metadata": {
    "id": "2-lBeEH-vYc_"
   },
   "source": [
    "#### **Distancia de viajes en transporte público**"
   ]
  },
  {
   "cell_type": "code",
   "execution_count": null,
   "id": "6ea52a08",
   "metadata": {
    "colab": {
     "base_uri": "https://localhost:8080/",
     "height": 310
    },
    "executionInfo": {
     "elapsed": 81742,
     "status": "ok",
     "timestamp": 1633394450710,
     "user": {
      "displayName": "Paula Vásquez H.",
      "photoUrl": "https://lh3.googleusercontent.com/a-/AOh14GgJUNawPfe0J41agMsUCwKAOgAzWX7zUOLCtayLFg=s64",
      "userId": "02019115936957150360"
     },
     "user_tz": 180
    },
    "id": "04c47cb1",
    "outputId": "259cd558-8b02-4702-8d0e-f9044f2de482"
   },
   "outputs": [],
   "source": [
    "print('Distancia de viajes en transporte público - Día Hábil')\n",
    "mask = (viajes_habiles.publico_privado == 'Público')\n",
    "df = viajes_habiles[mask].groupby('distancia_manhattan').sum()[['fe_via']].reset_index().sort_values('distancia_manhattan')\n",
    "hist(df.distancia_manhattan, weights=df.fe_via, bins=50)\n",
    "plt.axvline(viajes_habiles[mask].groupby('id_ordem').apply(lambda x: weighted_mean(x, 'distancia_manhattan', 'fe_via')).mean(), color='green', linestyle='dashed', linewidth=1)\n",
    "plt.axvline(viajes_habiles[mask].groupby('id_ordem').apply(lambda x: weighted_median(x, 'distancia_manhattan', 'fe_via')).median(), color='red', linestyle='dashed', linewidth=1)\n",
    "#Verde Promedio\n",
    "#Rojo Mediana"
   ]
  },
  {
   "cell_type": "markdown",
   "id": "4bcaf18d",
   "metadata": {
    "id": "PfffZ7ZZ-soo"
   },
   "source": [
    "#### **Distancia de viajes por motivo estudio**"
   ]
  },
  {
   "cell_type": "code",
   "execution_count": null,
   "id": "665ace90",
   "metadata": {
    "colab": {
     "base_uri": "https://localhost:8080/",
     "height": 310
    },
    "executionInfo": {
     "elapsed": 53096,
     "status": "ok",
     "timestamp": 1633394503786,
     "user": {
      "displayName": "Paula Vásquez H.",
      "photoUrl": "https://lh3.googleusercontent.com/a-/AOh14GgJUNawPfe0J41agMsUCwKAOgAzWX7zUOLCtayLFg=s64",
      "userId": "02019115936957150360"
     },
     "user_tz": 180
    },
    "id": "6f9adcbd",
    "outputId": "2c8e59ab-559e-408a-d6c1-ed5db2616085"
   },
   "outputs": [],
   "source": [
    "print('Distancia de viajes con motivo de estudio')\n",
    "mask = (viajes_personas.motivo_d == 'Escola/Educação')\n",
    "df = viajes_personas[mask].groupby('distancia_manhattan').sum()[['fe_via']].reset_index().sort_values('distancia_manhattan')\n",
    "hist(df.distancia_manhattan, weights=df.fe_via, bins=50)\n",
    "plt.axvline(viajes_habiles[mask].groupby('id_ordem').apply(lambda x: weighted_mean(x, 'distancia_manhattan', 'fe_via')).mean(), color='green', linestyle='dashed', linewidth=1)\n",
    "plt.axvline(viajes_habiles[mask].groupby('id_ordem').apply(lambda x: weighted_median(x, 'distancia_manhattan', 'fe_via')).median(), color='red', linestyle='dashed', linewidth=1)\n",
    "#Verde Promedio\n",
    "#Rojo Mediana"
   ]
  },
  {
   "cell_type": "markdown",
   "id": "05f80636",
   "metadata": {
    "id": "-jJrOlEl-uLU"
   },
   "source": [
    "#### **Distancia de viajes por motivo trabajo**"
   ]
  },
  {
   "cell_type": "code",
   "execution_count": null,
   "id": "d376e5cc",
   "metadata": {
    "colab": {
     "base_uri": "https://localhost:8080/",
     "height": 310
    },
    "executionInfo": {
     "elapsed": 80565,
     "status": "ok",
     "timestamp": 1633394584342,
     "user": {
      "displayName": "Paula Vásquez H.",
      "photoUrl": "https://lh3.googleusercontent.com/a-/AOh14GgJUNawPfe0J41agMsUCwKAOgAzWX7zUOLCtayLFg=s64",
      "userId": "02019115936957150360"
     },
     "user_tz": 180
    },
    "id": "ea9d8109",
    "outputId": "09450a3d-9b7b-468e-9afc-e4da90af8845"
   },
   "outputs": [],
   "source": [
    "print('Distancia de viajes con motivo de trabajo')\n",
    "mask = (viajes_personas.motivo_d.isin(work))\n",
    "df = viajes_personas[mask].groupby('distancia_manhattan').sum()[['fe_via']].reset_index().sort_values('distancia_manhattan')\n",
    "hist(df.distancia_manhattan, weights=df.fe_via, bins=50)\n",
    "plt.axvline(viajes_habiles[mask].groupby('id_ordem').apply(lambda x: weighted_mean(x, 'distancia_manhattan', 'fe_via')).mean(), color='green', linestyle='dashed', linewidth=1)\n",
    "plt.axvline(viajes_habiles[mask].groupby('id_ordem').apply(lambda x: weighted_median(x, 'distancia_manhattan', 'fe_via')).median(), color='red', linestyle='dashed', linewidth=1)\n",
    "#Verde Promedio\n",
    "#Rojo Mediana"
   ]
  },
  {
   "cell_type": "markdown",
   "id": "28fd8c18",
   "metadata": {
    "id": "isY_bo3Y-xRh"
   },
   "source": [
    "#### **Viajes intra vs interzonales**"
   ]
  },
  {
   "cell_type": "code",
   "execution_count": null,
   "id": "fd78208b",
   "metadata": {
    "colab": {
     "base_uri": "https://localhost:8080/",
     "height": 779
    },
    "executionInfo": {
     "elapsed": 28,
     "status": "ok",
     "timestamp": 1633394584343,
     "user": {
      "displayName": "Paula Vásquez H.",
      "photoUrl": "https://lh3.googleusercontent.com/a-/AOh14GgJUNawPfe0J41agMsUCwKAOgAzWX7zUOLCtayLFg=s64",
      "userId": "02019115936957150360"
     },
     "user_tz": 180
    },
    "id": "9d567b6e",
    "outputId": "2b5416b8-171e-4461-b150-ec1fa91bce8c"
   },
   "outputs": [],
   "source": [
    "print('% de viajes Inter e Intra zonales')\n",
    "df = viajes_personas.groupby(['motivo_d','sexo','Intra_Inter']).sum()['fe_via'].unstack()\n",
    "df.div(df.sum(axis=1), axis=0)"
   ]
  },
  {
   "cell_type": "markdown",
   "id": "35c56479",
   "metadata": {
    "id": "m1CgsI4VsmmQ"
   },
   "source": [
    "### ¿Dónde se concentran las personas que utilizan cada modo de transporte en la ciudad para distintos propósitos?"
   ]
  },
  {
   "cell_type": "code",
   "execution_count": null,
   "id": "fdad5a17",
   "metadata": {
    "colab": {
     "base_uri": "https://localhost:8080/",
     "height": 293
    },
    "executionInfo": {
     "elapsed": 1035,
     "status": "ok",
     "timestamp": 1635823348391,
     "user": {
      "displayName": "Paula Vásquez H.",
      "photoUrl": "https://lh3.googleusercontent.com/a-/AOh14GgJUNawPfe0J41agMsUCwKAOgAzWX7zUOLCtayLFg=s64",
      "userId": "02019115936957150360"
     },
     "user_tz": 180
    },
    "id": "jSwFlFcFspGf",
    "outputId": "b4f42fa3-ec61-4bba-c7ec-06e496ca6778"
   },
   "outputs": [],
   "source": [
    "from aves.features.geo import clip_area_geodataframe\n",
    "bbox = [308288.7305,7365205.3028,369753.2266,7416271.5609]\n",
    "\n",
    "zonas_en_caja = clip_area_geodataframe(city_shp.to_crs('epsg:22523'), bbox)\n",
    "zonas_en_caja.plot()"
   ]
  },
  {
   "cell_type": "code",
   "execution_count": null,
   "id": "f9e52cca",
   "metadata": {
    "id": "1n9NDavYs8z8"
   },
   "outputs": [],
   "source": [
    "bounds = zonas_en_caja.to_crs('EPSG:4686').total_bounds"
   ]
  },
  {
   "cell_type": "code",
   "execution_count": null,
   "id": "eb226933",
   "metadata": {
    "id": "0jMJ_aJwtD2h"
   },
   "outputs": [],
   "source": [
    "import contextily as cx\n",
    "\n",
    "scl_img, scl_ext = cx.bounds2raster(bounds[0], bounds[1], bounds[2], bounds[3], \n",
    "    \"saopaulo_toner_12.tif\",\n",
    "    ll=True,\n",
    "    source=cx.providers.Stamen.TonerBackground,\n",
    "    zoom=12,\n",
    ")"
   ]
  },
  {
   "cell_type": "code",
   "execution_count": null,
   "id": "0245dec1",
   "metadata": {
    "id": "gQCEhJBHuO1s"
   },
   "outputs": [],
   "source": [
    "def transform_motives(row):\n",
    "  if row['motivo_d'] in ['Trabalho Serviços', 'Trabalho Comércio', 'Trabalho Indústria']:\n",
    "    return 'Trabajo'\n",
    "  elif row['motivo_d']=='Escola/Educação':\n",
    "    return 'Estudios'\n",
    "  else:\n",
    "    return row['motivo_d']"
   ]
  },
  {
   "cell_type": "code",
   "execution_count": null,
   "id": "8be11fcd",
   "metadata": {
    "id": "DQzcF2CNvr_0"
   },
   "outputs": [],
   "source": [
    "def transform_omnibus(row):\n",
    "  if row['modoprin'] in ['Ônibus/micro-ônibus/perua do município de São Paulo', 'Ônibus/micro-ônibus/perua metropolitano', 'Ônibus/micro-ônibus/perua de outros municípios']:\n",
    "    return 'Ônibus/micro-ônibus/perua'\n",
    "  else:\n",
    "    return row['modoprin']"
   ]
  },
  {
   "cell_type": "code",
   "execution_count": null,
   "id": "f974feb1",
   "metadata": {
    "id": "1tPzBpaduATB"
   },
   "outputs": [],
   "source": [
    "viajes_personas['proposito'] = viajes_personas.apply(lambda x: transform_motives(x), axis=1)"
   ]
  },
  {
   "cell_type": "code",
   "execution_count": null,
   "id": "47e3fa7f",
   "metadata": {
    "id": "jhI2n3o4v4Uc"
   },
   "outputs": [],
   "source": [
    "viajes_personas['modoprin_fix'] = viajes_personas.apply(lambda x: transform_omnibus(x), axis=1)"
   ]
  },
  {
   "cell_type": "code",
   "execution_count": null,
   "id": "7aced1c5",
   "metadata": {
    "id": "oslaEc9Exzs_"
   },
   "outputs": [],
   "source": []
  },
  {
   "cell_type": "code",
   "execution_count": null,
   "id": "b7857eec",
   "metadata": {
    "id": "7R-awkOqtG6j"
   },
   "outputs": [],
   "source": [
    "from aves.features.geo import to_point_geodataframe\n",
    "origenes_viajes = to_point_geodataframe(viajes_personas, 'co_o_x' , 'co_o_y', crs='epsg:22523')\n",
    "destinos_viajes = to_point_geodataframe(viajes_personas, 'co_d_x', 'co_d_y', crs='epsg:22523')"
   ]
  },
  {
   "cell_type": "code",
   "execution_count": null,
   "id": "6a2acd2c",
   "metadata": {
    "id": "NzupilX7tl3q"
   },
   "outputs": [],
   "source": [
    "from aves.features.geo import clip_point_geodataframe\n",
    "\n",
    "origenes_viajes = origenes_viajes[(origenes_viajes['id_ordem'].isin(destinos_viajes['id_ordem']))]\n",
    "origenes_viajes = clip_point_geodataframe(origenes_viajes, zonas_en_caja.total_bounds)\n",
    "destinos_viajes = destinos_viajes[(destinos_viajes['id_ordem'].isin(origenes_viajes['id_ordem']))]\n",
    "destinos_viajes = clip_point_geodataframe(destinos_viajes, zonas_en_caja.total_bounds)"
   ]
  },
  {
   "cell_type": "code",
   "execution_count": null,
   "id": "ff4e5051",
   "metadata": {
    "colab": {
     "base_uri": "https://localhost:8080/",
     "height": 418
    },
    "executionInfo": {
     "elapsed": 18066,
     "status": "ok",
     "timestamp": 1633394618806,
     "user": {
      "displayName": "Paula Vásquez H.",
      "photoUrl": "https://lh3.googleusercontent.com/a-/AOh14GgJUNawPfe0J41agMsUCwKAOgAzWX7zUOLCtayLFg=s64",
      "userId": "02019115936957150360"
     },
     "user_tz": 180
    },
    "id": "0jDRchs1t5HT",
    "outputId": "2715316d-4591-4cc9-8a0e-98d5ebb163d0"
   },
   "outputs": [],
   "source": [
    "from aves.visualization.figures import GeoFacetGrid\n",
    "\n",
    "from aves.visualization.maps import heat_map\n",
    "\n",
    "grid = GeoFacetGrid(\n",
    "    origenes_viajes,\n",
    "    context=zonas_en_caja,\n",
    "    row=\"proposito\",\n",
    "    col=\"modoprin_fix\",\n",
    "    row_order=[\"Trabajo\", \"Estudios\"],\n",
    "    col_order=['A pé', 'Metrô', 'Ônibus/micro-ônibus/perua', 'Dirigindo automóvel'],\n",
    "    height=6,\n",
    "    hue=\"modoprin_fix\"\n",
    ")\n",
    "grid.add_basemap(\"saopaulo_toner_12.tif\")\n",
    "#grid.add_layer(city_shp_filt, color=\"#efefef\", edgecolor=\"white\", linewidth=1)\n",
    "\n",
    "grid.add_layer(\n",
    "    heat_map,\n",
    "    # atributo de los datos con la importancia o peso de cada viaje\n",
    "    weight=\"fe_via\",\n",
    "    # cantidad de niveles/colores del mapa de calor\n",
    "    n_levels=10,\n",
    "    # radio de influencia de cada viaje\n",
    "    bandwidth=0.05,\n",
    "    # valor de corte para los valores bajos del heatmap\n",
    "    low_threshold=0.075,\n",
    "    # transparencia\n",
    "    alpha=0.75,\n",
    "    # paleta de colores\n",
    "    palette=\"inferno\"\n",
    ")\n",
    "\n",
    "grid.add_global_colorbar('inferno', 10, title='Intensidad de Viajes (de menos a más)', orientation='horizontal')\n",
    "#grid.set_title(\"Viajes a trabajar y a estudiar de acuerdo al modo de transporte\")\n",
    "grid.fig.tight_layout()"
   ]
  },
  {
   "cell_type": "code",
   "execution_count": null,
   "id": "d6c5867f",
   "metadata": {
    "colab": {
     "base_uri": "https://localhost:8080/",
     "height": 540
    },
    "executionInfo": {
     "elapsed": 2513,
     "status": "ok",
     "timestamp": 1633394621276,
     "user": {
      "displayName": "Paula Vásquez H.",
      "photoUrl": "https://lh3.googleusercontent.com/a-/AOh14GgJUNawPfe0J41agMsUCwKAOgAzWX7zUOLCtayLFg=s64",
      "userId": "02019115936957150360"
     },
     "user_tz": 180
    },
    "id": "m_TfAhj_wLgJ",
    "outputId": "29ba5960-b4da-4c7f-dd43-172522d02e47"
   },
   "outputs": [],
   "source": [
    "grid = GeoFacetGrid(\n",
    "    destinos_viajes[destinos_viajes.proposito=='Residência'],\n",
    "    context=zonas_en_caja,\n",
    "    #row=\"MOTIVOVIAJE\",\n",
    "    col=\"modoprin_fix\",\n",
    "    col_wrap=3,\n",
    "    row_order=[\"Residência\"],\n",
    "    col_order=['A pé', 'Metrô', 'Ônibus/micro-ônibus/perua', 'Dirigindo automóvel'],\n",
    "    height=5,\n",
    "    hue=\"modoprin_fix\"\n",
    ")\n",
    "grid.add_basemap(\"saopaulo_toner_12.tif\")\n",
    "#grid.add_layer(city_shp_filt, color=\"#efefef\", edgecolor=\"white\", linewidth=1, alpha=0.5)\n",
    "\n",
    "grid.add_layer(\n",
    "    heat_map,\n",
    "    # atributo de los datos con la importancia o peso de cada viaje\n",
    "    weight=\"fe_via\",\n",
    "    # cantidad de niveles/colores del mapa de calor\n",
    "    n_levels=10,\n",
    "    # radio de influencia de cada viaje\n",
    "    bandwidth=0.005,\n",
    "    # valor de corte para los valores bajos del heatmap\n",
    "    low_threshold=0.075,\n",
    "    # transparencia\n",
    "    alpha=0.75,\n",
    "    # paleta de colores\n",
    "    palette=\"inferno\"\n",
    ")\n",
    "grid.add_global_colorbar('inferno', 10, title='Intensidad de Viajes (de menos a más)', orientation='horizontal')\n",
    "grid.set_title(\"Viajes de vuelta a casa en Sao Paulo\")\n",
    "grid.fig.tight_layout()"
   ]
  },
  {
   "cell_type": "markdown",
   "id": "800e26d0",
   "metadata": {
    "id": "xfmochJG1SZ6"
   },
   "source": [
    "#### ¿Cuán lejos queda el trabajo de acuerdo al lugar de residencia?"
   ]
  },
  {
   "cell_type": "markdown",
   "id": "fe76f781",
   "metadata": {
    "id": "MuzgOAwH1R-b"
   },
   "source": [
    "Con esta pregunta queremos entender si existe un patrón geográfico en las elecciones de residencia y trabajo de las personas.\n",
    "\n",
    "Para responder la pregunta, primero filtramos los viajes que nos interesan:"
   ]
  },
  {
   "cell_type": "code",
   "execution_count": null,
   "id": "443ae412",
   "metadata": {
    "id": "ESZTiCWm9Ej9"
   },
   "outputs": [],
   "source": []
  },
  {
   "cell_type": "code",
   "execution_count": null,
   "id": "3a91b6a6",
   "metadata": {
    "colab": {
     "base_uri": "https://localhost:8080/",
     "height": 779
    },
    "executionInfo": {
     "elapsed": 18,
     "status": "ok",
     "timestamp": 1633394621277,
     "user": {
      "displayName": "Paula Vásquez H.",
      "photoUrl": "https://lh3.googleusercontent.com/a-/AOh14GgJUNawPfe0J41agMsUCwKAOgAzWX7zUOLCtayLFg=s64",
      "userId": "02019115936957150360"
     },
     "user_tz": 180
    },
    "id": "_PRoxYLM1z3v",
    "outputId": "ee3f5358-837c-4b5d-823a-24281ca1752b"
   },
   "outputs": [],
   "source": [
    "viajes_trabajo"
   ]
  },
  {
   "cell_type": "code",
   "execution_count": null,
   "id": "19b8ca37",
   "metadata": {
    "id": "DIbVXtXKqnyE"
   },
   "outputs": [],
   "source": [
    "viajes_todos = origenes_viajes[(pd.notnull(origenes_viajes.fe_via)) &\n",
    "                                (origenes_viajes.distancia_manhattan > 0)].drop_duplicates(subset=['id_pess'], keep='first')"
   ]
  },
  {
   "cell_type": "code",
   "execution_count": null,
   "id": "5c331b6b",
   "metadata": {
    "colab": {
     "base_uri": "https://localhost:8080/"
    },
    "executionInfo": {
     "elapsed": 20,
     "status": "ok",
     "timestamp": 1635823373934,
     "user": {
      "displayName": "Paula Vásquez H.",
      "photoUrl": "https://lh3.googleusercontent.com/a-/AOh14GgJUNawPfe0J41agMsUCwKAOgAzWX7zUOLCtayLFg=s64",
      "userId": "02019115936957150360"
     },
     "user_tz": 180
    },
    "id": "ty-8la4G1GRF",
    "outputId": "2b925026-722c-49ef-af2a-c1b4df31d17c"
   },
   "outputs": [],
   "source": [
    "viajes_trabajo = origenes_viajes[(origenes_viajes.proposito == 'Trabajo') &\n",
    "                                (pd.notnull(origenes_viajes.fe_via)) &\n",
    "                                (origenes_viajes.distancia_manhattan > 0)].drop_duplicates(subset=['id_pess'], keep='first')\n",
    "                                \n",
    "print(len(viajes_trabajo), viajes_trabajo.fe_via.sum())"
   ]
  },
  {
   "cell_type": "code",
   "execution_count": null,
   "id": "43f6ef7d",
   "metadata": {
    "id": "RLMXzW291tvT"
   },
   "outputs": [],
   "source": [
    "distancia_zonas_mean = (viajes_trabajo\n",
    "                   .groupby(['zona_o'])\n",
    "                   .apply(lambda x: weighted_mean(x, 'distancia_manhattan', 'fe_via'))\n",
    "                   .rename('media_distancia_al_trabajo')\n",
    ")"
   ]
  },
  {
   "cell_type": "code",
   "execution_count": null,
   "id": "eae52042",
   "metadata": {
    "colab": {
     "base_uri": "https://localhost:8080/",
     "height": 709
    },
    "executionInfo": {
     "elapsed": 3007,
     "status": "ok",
     "timestamp": 1633394624888,
     "user": {
      "displayName": "Paula Vásquez H.",
      "photoUrl": "https://lh3.googleusercontent.com/a-/AOh14GgJUNawPfe0J41agMsUCwKAOgAzWX7zUOLCtayLFg=s64",
      "userId": "02019115936957150360"
     },
     "user_tz": 180
    },
    "id": "ksQrOa1j13iv",
    "outputId": "c62d5cea-ae22-454a-e1ac-a8c4d8698585"
   },
   "outputs": [],
   "source": [
    "from aves.visualization.maps import choropleth_map\n",
    "grid = GeoFacetGrid(zonas_en_caja.join(distancia_zonas_mean, how=\"left\"), height=9)\n",
    "grid.add_basemap(\"saopaulo_toner_12.tif\")\n",
    "grid.add_layer(\n",
    "    choropleth_map,\n",
    "    \"media_distancia_al_trabajo\",\n",
    "    k=5,\n",
    "    linewidth=0.5,\n",
    "    edgecolor=\"black\",\n",
    "    binning=\"fisher_jenks\",\n",
    "    palette=\"RdPu\",\n",
    "    alpha=0.85,\n",
    "    cbar_args=dict(\n",
    "        label=\"Distancia (m)\",\n",
    "        height=\"22%\",\n",
    "        width=\"2%\",\n",
    "        orientation=\"vertical\",\n",
    "        location=\"center left\",\n",
    "        label_size=\"small\",\n",
    "        bbox_to_anchor=(0.0, 0.0, 0.9, 1.0),\n",
    "    ),\n",
    ")\n",
    "grid.add_map_elements()\n",
    "grid.set_title(\"Distancia al Trabajo Promedio de acuerdo a la Zona de Origen\")\n",
    "grid.tight_layout()"
   ]
  },
  {
   "cell_type": "code",
   "execution_count": null,
   "id": "06cc4567",
   "metadata": {
    "colab": {
     "base_uri": "https://localhost:8080/"
    },
    "executionInfo": {
     "elapsed": 17,
     "status": "ok",
     "timestamp": 1633394624889,
     "user": {
      "displayName": "Paula Vásquez H.",
      "photoUrl": "https://lh3.googleusercontent.com/a-/AOh14GgJUNawPfe0J41agMsUCwKAOgAzWX7zUOLCtayLFg=s64",
      "userId": "02019115936957150360"
     },
     "user_tz": 180
    },
    "id": "A4Hf_75c2Ywo",
    "outputId": "edd9411f-9517-4648-e119-d48c276dfb2b"
   },
   "outputs": [],
   "source": [
    "zonas_en_caja.columns"
   ]
  },
  {
   "cell_type": "code",
   "execution_count": null,
   "id": "75b29daf",
   "metadata": {
    "id": "BdQVumfW2ILx"
   },
   "outputs": [],
   "source": [
    "matriz_zonas = (viajes_trabajo[(viajes_trabajo['zona_o'] != viajes_trabajo['zona_d'])\n",
    "                            \n",
    "                             & (viajes_trabajo['zona_o'].isin(zonas_en_caja.NumeroDist))\n",
    "                             & (viajes_trabajo['zona_d'].isin(zonas_en_caja.NumeroDist))]\n",
    "                    .groupby(['zona_o', 'zona_d'])\n",
    "                    .agg(n_viajes=('fe_via', 'sum'))\n",
    "                    .sort_values('n_viajes', ascending=False)\n",
    "                    .assign(cumsum_viajes=lambda x: x['n_viajes'].cumsum())\n",
    "                    .assign(cumsum_viajes=lambda x: x['cumsum_viajes'] / x['cumsum_viajes'].max())\n",
    "                    .reset_index()\n",
    ")\n",
    "matriz_zonas.to_csv(data_path + 'sao-paulo/2017/csv/matriz_zonas_trabajo_saopaulo2017.csv', index=False)"
   ]
  },
  {
   "cell_type": "code",
   "execution_count": null,
   "id": "fc45f7d8",
   "metadata": {
    "id": "LfNo9rgTrjwg"
   },
   "outputs": [],
   "source": [
    "matriz_zonas = (viajes_todos[(viajes_todos['zona_o'] != viajes_todos['zona_d'])\n",
    "                            \n",
    "                             & (viajes_todos['zona_o'].isin(zonas_en_caja.NumeroDist))\n",
    "                             & (viajes_todos['zona_d'].isin(zonas_en_caja.NumeroDist))]\n",
    "                    .groupby(['zona_o', 'zona_d'])\n",
    "                    .agg(n_viajes=('fe_via', 'sum'))\n",
    "                    .sort_values('n_viajes', ascending=False)\n",
    "                    .assign(cumsum_viajes=lambda x: x['n_viajes'].cumsum())\n",
    "                    .assign(cumsum_viajes=lambda x: x['cumsum_viajes'] / x['cumsum_viajes'].max())\n",
    "                    .reset_index()\n",
    ")\n",
    "matriz_zonas.to_csv(data_path + 'sao-paulo/2017/csv/matriz_zonas_todos_saopaulo2017.csv', index=False)"
   ]
  },
  {
   "cell_type": "code",
   "execution_count": null,
   "id": "eec58f32",
   "metadata": {
    "id": "h9snNs502fwL"
   },
   "outputs": [],
   "source": [
    "matriz_zonas = matriz_zonas[matriz_zonas['cumsum_viajes'] <= 0.8]"
   ]
  },
  {
   "cell_type": "code",
   "execution_count": null,
   "id": "ad0d1a90",
   "metadata": {
    "id": "xpJ3HcVY2ks0"
   },
   "outputs": [],
   "source": [
    "merged_zones = zonas_en_caja.dissolve('NumeroDist')#.drop('id', axis=1)"
   ]
  },
  {
   "cell_type": "code",
   "execution_count": null,
   "id": "bf2e75a2",
   "metadata": {
    "id": "gt1AeofV2oNZ"
   },
   "outputs": [],
   "source": [
    "from aves.models.network import Network\n",
    "from aves.visualization.networks import NodeLink\n",
    "\n",
    "zone_od_network = Network.from_edgelist(\n",
    "    matriz_zonas, source=\"zona_o\", target=\"zona_d\", weight=\"n_viajes\"\n",
    ")"
   ]
  },
  {
   "cell_type": "code",
   "execution_count": null,
   "id": "cd66e1d2",
   "metadata": {
    "id": "fa98Agro2rOG"
   },
   "outputs": [],
   "source": [
    "zone_nodelink = NodeLink(zone_od_network)\n",
    "zone_nodelink.layout_nodes(method=\"geographical\", geodataframe=merged_zones)\n",
    "zone_nodelink.set_node_drawing(\"plain\", weights=zone_od_network.node_degree(\"in\"))\n",
    "zone_nodelink.set_edge_drawing(method=\"origin-destination\")"
   ]
  },
  {
   "cell_type": "code",
   "execution_count": null,
   "id": "6146389d",
   "metadata": {
    "id": "aw-MLoaS2x4E"
   },
   "outputs": [],
   "source": [
    "def plot_network(ax, geo_data, *args, **kwargs):\n",
    "    zone_nodelink.plot(ax, *args, **kwargs)"
   ]
  },
  {
   "cell_type": "code",
   "execution_count": null,
   "id": "d14f59ff",
   "metadata": {
    "colab": {
     "base_uri": "https://localhost:8080/"
    },
    "executionInfo": {
     "elapsed": 17423,
     "status": "ok",
     "timestamp": 1633394696033,
     "user": {
      "displayName": "Paula Vásquez H.",
      "photoUrl": "https://lh3.googleusercontent.com/a-/AOh14GgJUNawPfe0J41agMsUCwKAOgAzWX7zUOLCtayLFg=s64",
      "userId": "02019115936957150360"
     },
     "user_tz": 180
    },
    "id": "pv4hInHI2wZS",
    "outputId": "5db098c7-415d-4f69-86c2-d91014bfe319"
   },
   "outputs": [],
   "source": [
    "zone_nodelink.bundle_edges(\n",
    "    method=\"force-directed\", K=5, S=500, I=30, compatibility_threshold=0.65, C=6\n",
    ")"
   ]
  },
  {
   "cell_type": "code",
   "execution_count": null,
   "id": "a2a56fdb",
   "metadata": {
    "colab": {
     "base_uri": "https://localhost:8080/",
     "height": 715
    },
    "executionInfo": {
     "elapsed": 4108,
     "status": "ok",
     "timestamp": 1633394700136,
     "user": {
      "displayName": "Paula Vásquez H.",
      "photoUrl": "https://lh3.googleusercontent.com/a-/AOh14GgJUNawPfe0J41agMsUCwKAOgAzWX7zUOLCtayLFg=s64",
      "userId": "02019115936957150360"
     },
     "user_tz": 180
    },
    "id": "OMhSnsbL2zhE",
    "outputId": "34cadbcb-3d08-40ee-b810-54626d95d0c7"
   },
   "outputs": [],
   "source": [
    "grid = GeoFacetGrid(zonas_en_caja, height=13)\n",
    "grid.add_basemap(\"saopaulo_toner_12.tif\")\n",
    "#grid.add_layer(city_shp_filt,facecolor='white', edgecolor='grey', alpha=0.25)\n",
    "grid.add_layer(\n",
    "    plot_network,\n",
    "    nodes=dict(color=\"white\", edgecolor=\"black\", node_size=100, alpha=0.95),\n",
    "    edges=dict(linewidth=0.5, alpha=0.75),\n",
    ")\n",
    "grid.set_title(\"Viajes al trabajo en Sao Paulo\")"
   ]
  },
  {
   "cell_type": "markdown",
   "id": "e3d0a768",
   "metadata": {
    "id": "B4CyVLDd2_M4"
   },
   "source": [
    "### Coeficiente de movilidad"
   ]
  },
  {
   "cell_type": "code",
   "execution_count": null,
   "id": "be85263e",
   "metadata": {},
   "outputs": [],
   "source": [
    "viajes_personas['duracion_minutos'] = viajes_personas['duracao'].astype('int64')"
   ]
  },
  {
   "cell_type": "code",
   "execution_count": null,
   "id": "54cf74c5",
   "metadata": {},
   "outputs": [],
   "source": [
    "q1 = '''SELECT id_pess, sexo\n",
    ", fe_pess \n",
    ",  count(*) as n_viajes, AVG(duracion_minutos) as tiempo_total \n",
    "       FROM viajes_personas where duracion_minutos < 140 group by 1,2,3'''\n",
    "\n",
    "n_viajes = sqldf(q1, locals())"
   ]
  },
  {
   "cell_type": "code",
   "execution_count": null,
   "id": "e2e79182",
   "metadata": {},
   "outputs": [],
   "source": [
    "eod.plot_lmplot(n_viajes)"
   ]
  },
  {
   "cell_type": "code",
   "execution_count": null,
   "id": "b5165515",
   "metadata": {},
   "outputs": [],
   "source": [
    "groups = eod.generate_groups(n_viajes)\n",
    "print(eod.calculate_indicators(groups,'fe_pess'))"
   ]
  },
  {
   "cell_type": "code",
   "execution_count": null,
   "id": "8b92c2c0",
   "metadata": {},
   "outputs": [],
   "source": [
    "eod.plot_lmplot(n_viajes, col=\"sexo\", hue=\"sexo\", col_wrap=1)"
   ]
  },
  {
   "cell_type": "code",
   "execution_count": null,
   "id": "4f0b56ac",
   "metadata": {},
   "outputs": [],
   "source": [
    "subgroups = n_viajes.sexo.unique()\n",
    "for element in subgroups:\n",
    "    print(element)\n",
    "    groups = eod.generate_groups(n_viajes[n_viajes.sexo==element])\n",
    "    print(eod.calculate_indicators(groups,'fe_pess'))"
   ]
  }
 ],
 "metadata": {
  "colab": {
   "collapsed_sections": [
    "db8caef6",
    "8d65ab3c",
    "5891e875",
    "da9bdcfb",
    "8b4ab265",
    "dadc64ab"
   ],
   "name": "Copia de AnalisisEOD_Brasil_SaoPaulo_2017_CalculoIndicadores_.ipynb",
   "version": ""
  },
  "kernelspec": {
   "display_name": "Python 3 (ipykernel)",
   "language": "python",
   "name": "python3"
  },
  "language_info": {
   "codemirror_mode": {
    "name": "ipython",
    "version": 3
   },
   "file_extension": ".py",
   "mimetype": "text/x-python",
   "name": "python",
   "nbconvert_exporter": "python",
   "pygments_lexer": "ipython3",
   "version": "3.9.12"
  }
 },
 "nbformat": 4,
 "nbformat_minor": 5
}
