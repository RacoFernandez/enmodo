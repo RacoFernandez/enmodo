{
 "cells": [
  {
   "cell_type": "markdown",
   "id": "b1e40f3d",
   "metadata": {
    "id": "b1e40f3d"
   },
   "source": [
    "# Análisis Encuesta Origen-Destino -  Limpieza de Datos & Cálculo de Indicadores"
   ]
  },
  {
   "cell_type": "markdown",
   "id": "56e7413d",
   "metadata": {
    "id": "56e7413d"
   },
   "source": [
    "## Colombia - Bogotá - 2015"
   ]
  },
  {
   "cell_type": "markdown",
   "id": "4221de58",
   "metadata": {
    "id": "4221de58"
   },
   "source": [
    "#### Elaborado por Paula Vásquez-Henríquez, Ariel López, Genaro Cuadros, Exequiel Gaete, Alba Vásquez y Juan Correa"
   ]
  },
  {
   "cell_type": "markdown",
   "id": "fa4db604",
   "metadata": {},
   "source": [
    "## Descomentar y ejecutar si está usando en google colab"
   ]
  },
  {
   "cell_type": "code",
   "execution_count": null,
   "id": "0010214b",
   "metadata": {},
   "outputs": [],
   "source": [
    "'''\n",
    "!pip3 uninstall matplotlib -y\n",
    "!pip install -q condacolab\n",
    "import condacolab\n",
    "condacolab.install()\n",
    "'''"
   ]
  },
  {
   "cell_type": "code",
   "execution_count": null,
   "id": "fde347f7",
   "metadata": {},
   "outputs": [],
   "source": [
    "'''\n",
    "!git clone https://github.com/zorzalerrante/aves.git aves_git\n",
    "!mamba env update --name base --file aves_git/environment-colab.yml\n",
    "'''"
   ]
  },
  {
   "cell_type": "code",
   "execution_count": null,
   "id": "u7WkwIpDNvaW",
   "metadata": {
    "colab": {
     "base_uri": "https://localhost:8080/"
    },
    "executionInfo": {
     "elapsed": 23074,
     "status": "ok",
     "timestamp": 1635994904494,
     "user": {
      "displayName": "Paula Vásquez H.",
      "photoUrl": "https://lh3.googleusercontent.com/a-/AOh14GgJUNawPfe0J41agMsUCwKAOgAzWX7zUOLCtayLFg=s64",
      "userId": "02019115936957150360"
     },
     "user_tz": 180
    },
    "id": "u7WkwIpDNvaW",
    "outputId": "d110333c-af65-47c3-cf76-ed7b93a9c43a"
   },
   "outputs": [],
   "source": [
    "'''\n",
    "# Montando datos desde Google Drive\n",
    "from google.colab import drive\n",
    "drive.mount('/content/drive')\n",
    "'''"
   ]
  },
  {
   "cell_type": "code",
   "execution_count": null,
   "id": "aadfaff0",
   "metadata": {},
   "outputs": [],
   "source": [
    "# Estas librerías se deben instalar sólo si se está ejecutando localmente\n",
    "!pip3 install matplotlib\n",
    "!pip3 install seaborn\n",
    "!pip3 install sklearn"
   ]
  },
  {
   "cell_type": "code",
   "execution_count": null,
   "id": "0fccda53",
   "metadata": {
    "colab": {
     "base_uri": "https://localhost:8080/"
    },
    "executionInfo": {
     "elapsed": 8751,
     "status": "ok",
     "timestamp": 1635994873745,
     "user": {
      "displayName": "Paula Vásquez H.",
      "photoUrl": "https://lh3.googleusercontent.com/a-/AOh14GgJUNawPfe0J41agMsUCwKAOgAzWX7zUOLCtayLFg=s64",
      "userId": "02019115936957150360"
     },
     "user_tz": 180
    },
    "id": "M9aoyAtnNW37",
    "outputId": "b58d8e02-60be-4c46-8fd0-3fc6ca0aa50b"
   },
   "outputs": [],
   "source": [
    "#Estas librerías se deben instalar tanto corriendolo localmente como en Google Colab\n",
    "!pip3 install geopandas\n",
    "!pip3 install haversine\n",
    "!pip3 install pandasql\n",
    "!pip3 install openpyxl"
   ]
  },
  {
   "cell_type": "code",
   "execution_count": null,
   "id": "78f60347",
   "metadata": {
    "id": "78f60347"
   },
   "outputs": [],
   "source": [
    "import pandas as pd\n",
    "import matplotlib.pyplot as plt\n",
    "import seaborn as sns\n",
    "import numpy as np\n",
    "import geopandas as gpd\n",
    "import warnings\n",
    "import haversine as hs\n",
    "import shapely\n",
    "from sklearn.preprocessing import normalize\n",
    "import datetime\n",
    "import math"
   ]
  },
  {
   "cell_type": "code",
   "execution_count": null,
   "id": "0510fbb1",
   "metadata": {
    "id": "0510fbb1"
   },
   "outputs": [],
   "source": [
    "def convert_datatype(df, lista_columnas):\n",
    "    for column in lista_columnas:\n",
    "        df[column] = df[column].str.replace(\",\", \".\").astype(float)\n",
    "    return df"
   ]
  },
  {
   "cell_type": "code",
   "execution_count": null,
   "id": "0018ee50",
   "metadata": {
    "id": "0018ee50"
   },
   "outputs": [],
   "source": [
    "def imputar_coordenadas_centroide_zat(df, latitud, longitud, zat):\n",
    "    mask = df[latitud].isnull() | df[longitud].isnull()\n",
    "    ids_latitud_vacia = df[mask].index\n",
    "    working_df = pd.merge(df, city_shp[['Zona_Num_N', 'x_coord', 'y_coord']], left_on=zat, right_on='Zona_Num_N', how='left')\n",
    "    df.loc[ids_latitud_vacia, latitud] = working_df.loc[ids_latitud_vacia, 'y_coord']\n",
    "    df.loc[ids_latitud_vacia, longitud] = working_df.loc[ids_latitud_vacia, 'x_coord']\n",
    "    return df"
   ]
  },
  {
   "cell_type": "code",
   "execution_count": null,
   "id": "41f2386e",
   "metadata": {
    "id": "41f2386e"
   },
   "outputs": [],
   "source": [
    "def mapear_binarias(row, column):\n",
    "    if row[column] == 'N':\n",
    "        return 'No'\n",
    "    elif row[column] == 'S':\n",
    "        return 'Si'\n",
    "    else:\n",
    "        return 'Sin dato'"
   ]
  },
  {
   "cell_type": "code",
   "execution_count": null,
   "id": "f7c148fb",
   "metadata": {
    "id": "f7c148fb"
   },
   "outputs": [],
   "source": [
    "def mapear_vacios(row, column):\n",
    "    if pd.isna(row[column])==True:\n",
    "        return 'Sin información'\n",
    "    else:\n",
    "        return row[column]"
   ]
  },
  {
   "cell_type": "code",
   "execution_count": null,
   "id": "24wYcGWqD9kF",
   "metadata": {
    "id": "24wYcGWqD9kF"
   },
   "outputs": [],
   "source": [
    "def haversine(coord1, coord2):\n",
    "    R = 6372800  # Earth radius in meters\n",
    "    lat1, lon1 = coord1\n",
    "    lat2, lon2 = coord2\n",
    "    \n",
    "    phi1, phi2 = math.radians(lat1), math.radians(lat2) \n",
    "    dphi       = math.radians(lat2 - lat1)\n",
    "    dlambda    = math.radians(lon2 - lon1)\n",
    "    \n",
    "    a = math.sin(dphi/2)**2 + \\\n",
    "        math.cos(phi1)*math.cos(phi2)*math.sin(dlambda/2)**2\n",
    "    \n",
    "    return 2*R*math.atan2(math.sqrt(a), math.sqrt(1 - a))"
   ]
  },
  {
   "cell_type": "code",
   "execution_count": null,
   "id": "pfEIn1UkMIQP",
   "metadata": {
    "id": "pfEIn1UkMIQP"
   },
   "outputs": [],
   "source": [
    "def normalize_rows(df):\n",
    "    return df.pipe(lambda x: pd.DataFrame(normalize(df, axis=1, norm='l1'), columns=df.columns, index=df.index))"
   ]
  },
  {
   "cell_type": "code",
   "execution_count": null,
   "id": "yXdusH76MSH0",
   "metadata": {
    "id": "yXdusH76MSH0"
   },
   "outputs": [],
   "source": [
    "def age_cohorts(row, age_column):\n",
    "    if row[age_column] < 18:\n",
    "        return '<18'\n",
    "    elif row[age_column] <=29 and row[age_column] > 18:\n",
    "        return '18-29'\n",
    "    elif row[age_column] <=60 and row[age_column] > 29:\n",
    "        return '30-60'\n",
    "    elif row[age_column] > 60 and row[age_column] < 100:\n",
    "        return '>60'\n",
    "    else:\n",
    "        return 'No declarado'"
   ]
  },
  {
   "cell_type": "markdown",
   "id": "iRPSv0fesZHX",
   "metadata": {
    "id": "iRPSv0fesZHX"
   },
   "source": [
    "### Caracterización de los datos\n",
    "\n",
    "Los datos utilizados en este cuaderno corresponden a los resultados de la Encuesta Origen-Destino de Bogotá, Colombia del 2015. \n",
    "A partir de estos datos se calcularan indicadores en tres niveles: de Cantidad de Viajes, de Tiempo de Viajes, y de Distancia de Viajes."
   ]
  },
  {
   "cell_type": "markdown",
   "id": "db8caef6",
   "metadata": {
    "id": "db8caef6"
   },
   "source": [
    "### Importando datos"
   ]
  },
  {
   "cell_type": "markdown",
   "id": "CdtA3y43Oy5b",
   "metadata": {
    "id": "CdtA3y43Oy5b"
   },
   "source": [
    "En esta sección, importamos todos los datos necesarios para el cálculo de indicadores. \n",
    "Para el caso de Bogotá 2015, los archivos son de Excel y es necesario hacer una transformación de los datos numéricos.\n",
    "\n",
    "Cabe destacar que para esta EOD tenemos data a nivel de:\n",
    "- Viajes\n",
    "- Etapas\n",
    "- Personas\n",
    "- Hogares"
   ]
  },
  {
   "cell_type": "code",
   "execution_count": null,
   "id": "e2c53565",
   "metadata": {
    "id": "e2c53565"
   },
   "outputs": [],
   "source": [
    "#Seteando carpeta de trabajo\n",
    "data_path = '/home/roliverio/Documentos/ADDI/enmodo/bogota/'"
   ]
  },
  {
   "cell_type": "code",
   "execution_count": null,
   "id": "56fe174d",
   "metadata": {
    "id": "56fe174d"
   },
   "outputs": [],
   "source": [
    "# Importando matriz de viajes\n",
    "data_viajes = pd.read_excel(data_path + '2015/source-xlsx/encuesta 2015 - viajes.xlsx', engine='openpyxl')\n",
    "data_viajes = convert_datatype(data_viajes, [\"LATITUD_ORIGEN\", \"LATITUD_DESTINO\", \"LONGITUD_ORIGEN\", \"LONGITUD_DESTINO\", 'PONDERADOR_CALIBRADO_VIAJES', 'FE_TOTAL', 'FACTOR_AJUSTE_TRANSMILENIO', 'PONDERADOR_CALIBRADO'])"
   ]
  },
  {
   "cell_type": "code",
   "execution_count": null,
   "id": "8f1b5631",
   "metadata": {
    "id": "8f1b5631"
   },
   "outputs": [],
   "source": [
    "# Importando matriz de personas\n",
    "data_personas = pd.read_excel(data_path + '2015/source-xlsx/encuesta 2015 - personas.xlsx')\n",
    "data_personas = convert_datatype(data_personas, ['PONDERADOR_CALIBRADO'])"
   ]
  },
  {
   "cell_type": "code",
   "execution_count": null,
   "id": "9ab4ed0a",
   "metadata": {
    "id": "9ab4ed0a"
   },
   "outputs": [],
   "source": [
    "# Importando matriz de hogares\n",
    "data_encuestas = pd.read_excel(data_path + '2015/source-xlsx/encuesta 2015 - encuestas.xlsx')"
   ]
  },
  {
   "cell_type": "code",
   "execution_count": null,
   "id": "oNSStqN0aVeE",
   "metadata": {
    "id": "oNSStqN0aVeE"
   },
   "outputs": [],
   "source": [
    "# Importando matriz de etapas\n",
    "data_etapas = pd.read_excel(data_path + '2015/source-xlsx/encuesta 2015 - etapas.xlsx')"
   ]
  },
  {
   "cell_type": "code",
   "execution_count": null,
   "id": "3cfbf52d",
   "metadata": {
    "id": "3cfbf52d"
   },
   "outputs": [],
   "source": [
    "# Importando shapefile de la ciudad\n",
    "city_shp = gpd.read_file(data_path + \"2015/source-shp/ZATs_2012_MAG.shp\")"
   ]
  },
  {
   "cell_type": "code",
   "execution_count": null,
   "id": "62dcd3f3",
   "metadata": {
    "colab": {
     "base_uri": "https://localhost:8080/"
    },
    "executionInfo": {
     "elapsed": 9,
     "status": "ok",
     "timestamp": 1635995072737,
     "user": {
      "displayName": "Paula Vásquez H.",
      "photoUrl": "https://lh3.googleusercontent.com/a-/AOh14GgJUNawPfe0J41agMsUCwKAOgAzWX7zUOLCtayLFg=s64",
      "userId": "02019115936957150360"
     },
     "user_tz": 180
    },
    "id": "62dcd3f3",
    "outputId": "b921d357-7612-4f13-b7f0-d452dbf5d46e"
   },
   "outputs": [],
   "source": [
    "# Obteniendo información de proyección del shapefile\n",
    "city_shp.crs"
   ]
  },
  {
   "cell_type": "markdown",
   "id": "8d65ab3c",
   "metadata": {
    "id": "8d65ab3c"
   },
   "source": [
    "### Preparación de los datos"
   ]
  },
  {
   "cell_type": "markdown",
   "id": "5891e875",
   "metadata": {
    "id": "5891e875"
   },
   "source": [
    "#### Viajes"
   ]
  },
  {
   "cell_type": "markdown",
   "id": "nKp83KN1Pf7s",
   "metadata": {
    "id": "nKp83KN1Pf7s"
   },
   "source": [
    "En esta etapa nos enfocaremos en preparar los datos con respecto a viajes.\n",
    "En particular, nos enfocamos en limpiar y estandarizar los datos para las columnas que son relevantes para el cálculo de indicadores."
   ]
  },
  {
   "cell_type": "code",
   "execution_count": null,
   "id": "10ac7797",
   "metadata": {
    "id": "10ac7797"
   },
   "outputs": [],
   "source": [
    "publico_viaje = ['TPC-SITP','ALIMENTADOR','Transmilenio','INTERMUNICIPAL',]\n",
    "privado_viaje = ['MOTO', 'AUTO', 'BICICLETA, BICICLETA CON MOTOR', 'PEATON', 'TAXI']\n",
    "peaton_viaje = ['BICICLETA, BICICLETA CON MOTOR', 'PEATON']\n",
    "motorizado_viaje = ['TPC-SITP','ALIMENTADOR','Transmilenio','INTERMUNICIPAL', 'TAXI','MOTO', 'AUTO']"
   ]
  },
  {
   "cell_type": "code",
   "execution_count": null,
   "id": "2baaf069",
   "metadata": {
    "id": "2baaf069"
   },
   "outputs": [],
   "source": [
    "selected_columns = ['ID_ENCUESTA', 'NUMERO_PERSONA', 'NUMERO_VIAJE', 'MOTIVOVIAJE',\n",
    "       'HORA_INICIO', 'HORA_FIN', 'MEDIO_PREDOMINANTE', 'ZAT_DESTINO', 'ZAT_ORIGEN',\n",
    "       'LATITUD_ORIGEN', 'LATITUD_DESTINO', 'LONGITUD_ORIGEN','LONGITUD_DESTINO', \n",
    "       'DIA_HABIL', 'DIA_NOHABIL', 'PICO_HABIL','PICO_NOHABIL','PONDERADOR_CALIBRADO_VIAJES','PI_K_I', 'PI_K_II',\n",
    "       'PI_K_III', 'FE_TOTAL', 'FACTOR_AJUSTE_TRANSMILENIO', 'PONDERADOR_CALIBRADO']\n",
    "viajes_df = data_viajes[selected_columns]"
   ]
  },
  {
   "cell_type": "code",
   "execution_count": null,
   "id": "5e3b050d",
   "metadata": {
    "colab": {
     "base_uri": "https://localhost:8080/"
    },
    "executionInfo": {
     "elapsed": 21,
     "status": "ok",
     "timestamp": 1635995073238,
     "user": {
      "displayName": "Paula Vásquez H.",
      "photoUrl": "https://lh3.googleusercontent.com/a-/AOh14GgJUNawPfe0J41agMsUCwKAOgAzWX7zUOLCtayLFg=s64",
      "userId": "02019115936957150360"
     },
     "user_tz": 180
    },
    "id": "5e3b050d",
    "outputId": "56b67aa8-5839-4718-c24d-a9174ca68299"
   },
   "outputs": [],
   "source": [
    "viajes_df.shape"
   ]
  },
  {
   "cell_type": "code",
   "execution_count": null,
   "id": "91d848b5",
   "metadata": {
    "colab": {
     "base_uri": "https://localhost:8080/"
    },
    "executionInfo": {
     "elapsed": 16,
     "status": "ok",
     "timestamp": 1635995073239,
     "user": {
      "displayName": "Paula Vásquez H.",
      "photoUrl": "https://lh3.googleusercontent.com/a-/AOh14GgJUNawPfe0J41agMsUCwKAOgAzWX7zUOLCtayLFg=s64",
      "userId": "02019115936957150360"
     },
     "user_tz": 180
    },
    "id": "91d848b5",
    "outputId": "963b5b44-35ba-416b-caa1-03ab3a0628b8"
   },
   "outputs": [],
   "source": [
    "print('Contando valores nulos por atributo')\n",
    "for column in selected_columns:\n",
    "    print('{}: {}'.format(column, viajes_df[column].isna().sum()))"
   ]
  },
  {
   "cell_type": "code",
   "execution_count": null,
   "id": "97ae53fa",
   "metadata": {
    "id": "97ae53fa"
   },
   "outputs": [],
   "source": [
    "# Llenado de coordenadas para datos vacíos, se imputará centroide del ZAT correspondiente."
   ]
  },
  {
   "cell_type": "code",
   "execution_count": null,
   "id": "bce8a2f6",
   "metadata": {
    "colab": {
     "base_uri": "https://localhost:8080/"
    },
    "executionInfo": {
     "elapsed": 11,
     "status": "ok",
     "timestamp": 1635995073239,
     "user": {
      "displayName": "Paula Vásquez H.",
      "photoUrl": "https://lh3.googleusercontent.com/a-/AOh14GgJUNawPfe0J41agMsUCwKAOgAzWX7zUOLCtayLFg=s64",
      "userId": "02019115936957150360"
     },
     "user_tz": 180
    },
    "id": "bce8a2f6",
    "outputId": "eeb9856b-e4f9-4640-f2fc-42bba5c4ce0d"
   },
   "outputs": [],
   "source": [
    "viajes_df = imputar_coordenadas_centroide_zat(viajes_df, 'LATITUD_ORIGEN', 'LONGITUD_ORIGEN', 'ZAT_ORIGEN')\n",
    "viajes_df = imputar_coordenadas_centroide_zat(viajes_df, 'LATITUD_DESTINO', 'LONGITUD_DESTINO','ZAT_DESTINO')"
   ]
  },
  {
   "cell_type": "code",
   "execution_count": null,
   "id": "91f1298d",
   "metadata": {
    "id": "91f1298d"
   },
   "outputs": [],
   "source": [
    "# Creando columnas para identificar dias habiles y no habiles, viajes en horario pico habiles y no habiles."
   ]
  },
  {
   "cell_type": "code",
   "execution_count": null,
   "id": "cd90013d",
   "metadata": {
    "colab": {
     "base_uri": "https://localhost:8080/"
    },
    "executionInfo": {
     "elapsed": 9296,
     "status": "ok",
     "timestamp": 1635995082529,
     "user": {
      "displayName": "Paula Vásquez H.",
      "photoUrl": "https://lh3.googleusercontent.com/a-/AOh14GgJUNawPfe0J41agMsUCwKAOgAzWX7zUOLCtayLFg=s64",
      "userId": "02019115936957150360"
     },
     "user_tz": 180
    },
    "id": "cd90013d",
    "outputId": "aba4c374-ecb0-4264-c7d7-db446712539c",
    "scrolled": true
   },
   "outputs": [],
   "source": [
    "columns_day = ['DIA_HABIL', 'DIA_NOHABIL', 'PICO_HABIL', 'PICO_NOHABIL']\n",
    "for column in columns_day:\n",
    "    viajes_df[column] = viajes_df.apply(lambda row: mapear_binarias(row, column), axis=1)"
   ]
  },
  {
   "cell_type": "code",
   "execution_count": null,
   "id": "0df0108a",
   "metadata": {
    "id": "0df0108a"
   },
   "outputs": [],
   "source": [
    "# Nos quedamos solo con los viajes que tiene información de origen y destino\n",
    "mask = viajes_df['ZAT_ORIGEN'].isnull() | viajes_df['ZAT_DESTINO'].isnull()\n",
    "viajes_df = viajes_df[~mask]"
   ]
  },
  {
   "cell_type": "code",
   "execution_count": null,
   "id": "739c9353",
   "metadata": {
    "id": "739c9353"
   },
   "outputs": [],
   "source": [
    "# Etiquetando a los datos como intrazonales o interzonales según ZAT\n",
    "viajes_df['Intra_Inter'] = viajes_df.apply(lambda row: 'Intra' if row['ZAT_ORIGEN'] == row['ZAT_DESTINO'] else 'Inter', axis=1)"
   ]
  },
  {
   "cell_type": "code",
   "execution_count": null,
   "id": "pzBfWMJtDq0r",
   "metadata": {
    "colab": {
     "base_uri": "https://localhost:8080/"
    },
    "executionInfo": {
     "elapsed": 8,
     "status": "ok",
     "timestamp": 1635995084499,
     "user": {
      "displayName": "Paula Vásquez H.",
      "photoUrl": "https://lh3.googleusercontent.com/a-/AOh14GgJUNawPfe0J41agMsUCwKAOgAzWX7zUOLCtayLFg=s64",
      "userId": "02019115936957150360"
     },
     "user_tz": 180
    },
    "id": "pzBfWMJtDq0r",
    "outputId": "5b535cca-e1b7-4912-8af3-e95813f6c36e"
   },
   "outputs": [],
   "source": [
    "viajes_df.MEDIO_PREDOMINANTE.unique()"
   ]
  },
  {
   "cell_type": "code",
   "execution_count": null,
   "id": "19b4b564",
   "metadata": {
    "id": "19b4b564"
   },
   "outputs": [],
   "source": [
    "# Clasificando los viajes como públicos o privados según medio\n",
    "def publico_privado(row, column, publico, privado):\n",
    "    if row[column] in (publico):\n",
    "        return 'Público'\n",
    "    elif row[column] in (privado):\n",
    "        return 'Privado'\n",
    "    else:\n",
    "        return 'Otro'\n",
    "    \n",
    "viajes_df['publico_privado'] = viajes_df.apply(lambda row: publico_privado(row, 'MEDIO_PREDOMINANTE', publico_viaje, privado_viaje), axis=1)"
   ]
  },
  {
   "cell_type": "code",
   "execution_count": null,
   "id": "G0SugP3uZOHB",
   "metadata": {
    "id": "G0SugP3uZOHB"
   },
   "outputs": [],
   "source": [
    "# Clasificando los viajes como motorizado o no motorizado según medio\n",
    "def motorizado(row, column, no_motorizado, motorizado):\n",
    "    if row[column] in (motorizado):\n",
    "        return 'Motorizado'\n",
    "    elif row[column] in (no_motorizado):\n",
    "        return 'No Motorizado'\n",
    "    else:\n",
    "        return 'Otro'\n",
    "    \n",
    "viajes_df['motorizado'] = viajes_df.apply(lambda row: motorizado(row, 'MEDIO_PREDOMINANTE', peaton_viaje,motorizado_viaje), axis=1)"
   ]
  },
  {
   "cell_type": "code",
   "execution_count": null,
   "id": "b5f07517",
   "metadata": {
    "id": "b5f07517"
   },
   "outputs": [],
   "source": [
    "# Obteniendo hora de inicio y fin de los viajes\n",
    "viajes_df['HORA_INICIO'] = viajes_df.HORA_INICIO.str.split(':').map(lambda x: pd.Timedelta(hours=int(x[0]), minutes=int(x[1])))\n",
    "viajes_df['HORA_FIN'] = viajes_df.HORA_FIN.str.split(':').map(lambda x: pd.Timedelta(hours=int(x[0]), minutes=int(x[1])))"
   ]
  },
  {
   "cell_type": "code",
   "execution_count": null,
   "id": "e7fca63f",
   "metadata": {
    "colab": {
     "base_uri": "https://localhost:8080/"
    },
    "executionInfo": {
     "elapsed": 20,
     "status": "ok",
     "timestamp": 1635995095647,
     "user": {
      "displayName": "Paula Vásquez H.",
      "photoUrl": "https://lh3.googleusercontent.com/a-/AOh14GgJUNawPfe0J41agMsUCwKAOgAzWX7zUOLCtayLFg=s64",
      "userId": "02019115936957150360"
     },
     "user_tz": 180
    },
    "id": "e7fca63f",
    "outputId": "6502195a-7842-492c-bb36-abc77b0e4d8a"
   },
   "outputs": [],
   "source": [
    "viajes_df['HORA_FIN'][viajes_df['HORA_FIN'] < viajes_df['HORA_INICIO']] = viajes_df['HORA_FIN'][viajes_df['HORA_FIN'] < viajes_df['HORA_INICIO']] + pd.Timedelta(days=1)"
   ]
  },
  {
   "cell_type": "code",
   "execution_count": null,
   "id": "198cfd34",
   "metadata": {
    "id": "198cfd34"
   },
   "outputs": [],
   "source": [
    "# Calculando duración del viaje en minutos\n",
    "viajes_df['duracion'] = (viajes_df['HORA_FIN'] - viajes_df['HORA_INICIO'])"
   ]
  },
  {
   "cell_type": "code",
   "execution_count": null,
   "id": "8c2ecfdd",
   "metadata": {
    "id": "8c2ecfdd"
   },
   "outputs": [],
   "source": [
    "# Calculando distancia haversine entre origen y destino\n",
    "viajes_df['distancia_manhattan'] = viajes_df.apply(lambda row: haversine(np.array([row['LATITUD_ORIGEN'], row['LONGITUD_ORIGEN']]), np.array([row['LATITUD_DESTINO'], row['LONGITUD_DESTINO']])), axis=1)"
   ]
  },
  {
   "cell_type": "code",
   "execution_count": null,
   "id": "392a2c14",
   "metadata": {
    "colab": {
     "base_uri": "https://localhost:8080/"
    },
    "executionInfo": {
     "elapsed": 33,
     "status": "ok",
     "timestamp": 1635995104547,
     "user": {
      "displayName": "Paula Vásquez H.",
      "photoUrl": "https://lh3.googleusercontent.com/a-/AOh14GgJUNawPfe0J41agMsUCwKAOgAzWX7zUOLCtayLFg=s64",
      "userId": "02019115936957150360"
     },
     "user_tz": 180
    },
    "id": "392a2c14",
    "outputId": "551f3780-0963-45ae-b8a4-0df2b78c1c10"
   },
   "outputs": [],
   "source": [
    "print('Contando valores nulos por atributo')\n",
    "for column in viajes_df.columns:\n",
    "    print('{}: {}'.format(column, viajes_df[column].isna().sum()))"
   ]
  },
  {
   "cell_type": "markdown",
   "id": "da9bdcfb",
   "metadata": {
    "id": "da9bdcfb"
   },
   "source": [
    "#### Personas y Hogares"
   ]
  },
  {
   "cell_type": "markdown",
   "id": "AXrUPDxoQ8yM",
   "metadata": {
    "id": "AXrUPDxoQ8yM"
   },
   "source": [
    "En esta etapa nos enfocaremos en preparar los datos con respecto a personas.\n",
    "En particular, nos enfocamos en limpiar y estandarizar los datos para las columnas que son relevantes para el cálculo de indicadores."
   ]
  },
  {
   "cell_type": "code",
   "execution_count": null,
   "id": "47b51113",
   "metadata": {
    "id": "47b51113"
   },
   "outputs": [],
   "source": [
    "selected_columns = ['ID_ENCUESTA', 'NUMERO_PERSONA', 'SEXO', 'EDAD', 'ACTIVIDAD_PRINCIPAL']\n",
    "personas_df = data_personas[selected_columns]"
   ]
  },
  {
   "cell_type": "code",
   "execution_count": null,
   "id": "0QUDSklFWyrE",
   "metadata": {
    "colab": {
     "base_uri": "https://localhost:8080/"
    },
    "executionInfo": {
     "elapsed": 26,
     "status": "ok",
     "timestamp": 1635995104548,
     "user": {
      "displayName": "Paula Vásquez H.",
      "photoUrl": "https://lh3.googleusercontent.com/a-/AOh14GgJUNawPfe0J41agMsUCwKAOgAzWX7zUOLCtayLFg=s64",
      "userId": "02019115936957150360"
     },
     "user_tz": 180
    },
    "id": "0QUDSklFWyrE",
    "outputId": "8e442a6e-2c9e-4d04-c394-d99be22f1d30"
   },
   "outputs": [],
   "source": [
    "personas_df['ACTIVIDAD_PRINCIPAL'] = personas_df.ACTIVIDAD_PRINCIPAL.apply(lambda x: 'Sin información' if x=='-' else x)"
   ]
  },
  {
   "cell_type": "code",
   "execution_count": null,
   "id": "2c93cdad",
   "metadata": {
    "id": "2c93cdad"
   },
   "outputs": [],
   "source": [
    "selected_columns = ['ID_ENCUESTA', 'CLASIFICACION_SISBEN', 'BARRIO']\n",
    "encuestas_df = data_encuestas[selected_columns]"
   ]
  },
  {
   "cell_type": "code",
   "execution_count": null,
   "id": "e481fef4",
   "metadata": {
    "id": "e481fef4"
   },
   "outputs": [],
   "source": [
    "# Uniendo información de hogar con información de personas\n",
    "personas_df = pd.merge(personas_df, encuestas_df, on='ID_ENCUESTA', how='left')"
   ]
  },
  {
   "cell_type": "code",
   "execution_count": null,
   "id": "1ea9622e",
   "metadata": {
    "id": "1ea9622e"
   },
   "outputs": [],
   "source": [
    "personas_df['ID_PERSONA'] = personas_df['ID_ENCUESTA'] + personas_df['NUMERO_PERSONA']"
   ]
  },
  {
   "cell_type": "code",
   "execution_count": null,
   "id": "2e13b17f",
   "metadata": {
    "id": "2e13b17f",
    "scrolled": true
   },
   "outputs": [],
   "source": [
    "personas_df['CLASIFICACION_SISBEN'] = personas_df.apply(lambda row: mapear_vacios(row, 'CLASIFICACION_SISBEN'), axis=1)"
   ]
  },
  {
   "cell_type": "code",
   "execution_count": null,
   "id": "24713ab7",
   "metadata": {
    "colab": {
     "base_uri": "https://localhost:8080/"
    },
    "executionInfo": {
     "elapsed": 11,
     "status": "ok",
     "timestamp": 1635995105876,
     "user": {
      "displayName": "Paula Vásquez H.",
      "photoUrl": "https://lh3.googleusercontent.com/a-/AOh14GgJUNawPfe0J41agMsUCwKAOgAzWX7zUOLCtayLFg=s64",
      "userId": "02019115936957150360"
     },
     "user_tz": 180
    },
    "id": "24713ab7",
    "outputId": "992aa072-0dc8-4c34-c3f2-16043a3efc45"
   },
   "outputs": [],
   "source": [
    "personas_df.columns"
   ]
  },
  {
   "cell_type": "code",
   "execution_count": null,
   "id": "f86ec2ad",
   "metadata": {
    "id": "f86ec2ad"
   },
   "outputs": [],
   "source": [
    "viajes_personas = pd.merge(viajes_df, personas_df, on=['ID_ENCUESTA', 'NUMERO_PERSONA'], how='left')"
   ]
  },
  {
   "cell_type": "code",
   "execution_count": null,
   "id": "c122d955",
   "metadata": {
    "id": "c122d955",
    "scrolled": false
   },
   "outputs": [],
   "source": [
    "#print('Contando valores nulos por atributo')\n",
    "#for column in viajes_personas.columns:\n",
    " #   print('{}: {}'.format(column, viajes_personas[column].isna().sum()))"
   ]
  },
  {
   "cell_type": "markdown",
   "id": "03d3b8e9",
   "metadata": {},
   "source": [
    "### Generación csv"
   ]
  },
  {
   "cell_type": "code",
   "execution_count": null,
   "id": "jwMwv8x65Vdr",
   "metadata": {
    "id": "jwMwv8x65Vdr"
   },
   "outputs": [],
   "source": [
    "viajes_personas.to_csv(data_path + '2015/output-csv/viajes_personas_bogota_2015.csv', index=False)"
   ]
  },
  {
   "cell_type": "markdown",
   "id": "4d56b018",
   "metadata": {},
   "source": [
    "### Generación geojson"
   ]
  },
  {
   "cell_type": "code",
   "execution_count": null,
   "id": "77a51146",
   "metadata": {},
   "outputs": [],
   "source": [
    "origenes_viajes = gpd.GeoDataFrame(\n",
    "    viajes_personas, geometry=gpd.points_from_xy(viajes_personas.LONGITUD_ORIGEN, viajes_personas.LATITUD_ORIGEN))\n",
    "\n",
    "destinos_viajes = gpd.GeoDataFrame(\n",
    "    viajes_personas, geometry=gpd.points_from_xy(viajes_personas.LONGITUD_DESTINO, viajes_personas.LATITUD_DESTINO))"
   ]
  },
  {
   "cell_type": "code",
   "execution_count": null,
   "id": "42257271",
   "metadata": {},
   "outputs": [],
   "source": [
    "origenes_viajes['duracion_hrs'] = origenes_viajes.duracion.dt.components['hours']\n",
    "destinos_viajes['duracion_hrs'] = destinos_viajes.duracion.dt.components['hours']"
   ]
  },
  {
   "cell_type": "code",
   "execution_count": null,
   "id": "e9169f30",
   "metadata": {},
   "outputs": [],
   "source": [
    "origenes_viajes['duracion_minutos'] = origenes_viajes.duracion.dt.components['minutes']\n",
    "destinos_viajes['duracion_minutos'] = destinos_viajes.duracion.dt.components['minutes']"
   ]
  },
  {
   "cell_type": "code",
   "execution_count": null,
   "id": "59a07dd9",
   "metadata": {},
   "outputs": [],
   "source": [
    "origenes_viajes['HORA_INICIO_HR'] = origenes_viajes.HORA_INICIO.dt.components['hours']\n",
    "destinos_viajes['HORA_INICIO_HR'] = destinos_viajes.HORA_INICIO.dt.components['hours']"
   ]
  },
  {
   "cell_type": "code",
   "execution_count": null,
   "id": "e963297e",
   "metadata": {},
   "outputs": [],
   "source": [
    "origenes_viajes['HORA_INICIO_MINUTOS'] = origenes_viajes.HORA_INICIO.dt.components['minutes']\n",
    "destinos_viajes['HORA_INICIO_MINUTOS'] = destinos_viajes.HORA_INICIO.dt.components['minutes']"
   ]
  },
  {
   "cell_type": "code",
   "execution_count": null,
   "id": "05cc6612",
   "metadata": {},
   "outputs": [],
   "source": [
    "origenes_viajes['HORA_FIN_HR'] = origenes_viajes.HORA_FIN.dt.components['hours']\n",
    "destinos_viajes['HORA_FIN_HR'] = destinos_viajes.HORA_FIN.dt.components['hours']"
   ]
  },
  {
   "cell_type": "code",
   "execution_count": null,
   "id": "bb713396",
   "metadata": {},
   "outputs": [],
   "source": [
    "origenes_viajes['HORA_FIN_MINUTOS'] = origenes_viajes.HORA_FIN.dt.components['minutes']\n",
    "destinos_viajes['HORA_FIN_MINUTOS'] = destinos_viajes.HORA_FIN.dt.components['minutes']"
   ]
  },
  {
   "cell_type": "code",
   "execution_count": null,
   "id": "9a18f3b4",
   "metadata": {},
   "outputs": [],
   "source": [
    "origenes_viajes.drop(['duracion', 'HORA_INICIO', 'HORA_FIN'], axis=1, inplace = True)\n",
    "destinos_viajes.drop(['duracion', 'HORA_INICIO', 'HORA_FIN'], axis=1, inplace = True)"
   ]
  },
  {
   "cell_type": "code",
   "execution_count": null,
   "id": "2fe8de90",
   "metadata": {},
   "outputs": [],
   "source": [
    "origenes_viajes.to_file(data_path + '2015/output-geojson/origenes_viajes.geojson', driver='GeoJSON')\n",
    "destinos_viajes.to_file(data_path + '2015/output-geojson/destinos_viajes.geojson', driver='GeoJSON')"
   ]
  },
  {
   "cell_type": "markdown",
   "id": "7477ae75",
   "metadata": {},
   "source": [
    "### Generación shapefile"
   ]
  },
  {
   "cell_type": "code",
   "execution_count": null,
   "id": "74777b0c",
   "metadata": {},
   "outputs": [],
   "source": [
    "origenes_viajes.to_file(data_path + '2015/output-shp/origenes_viajes.shp', driver='GeoJSON')\n",
    "destinos_viajes.to_file(data_path + '2015/output-shp/destinos_viajes.shp', driver='GeoJSON')"
   ]
  },
  {
   "cell_type": "markdown",
   "id": "1CqrFZL5FwYd",
   "metadata": {
    "id": "1CqrFZL5FwYd"
   },
   "source": [
    "### Descripción de los datos"
   ]
  },
  {
   "cell_type": "markdown",
   "id": "RvUts_TXT-jI",
   "metadata": {
    "id": "RvUts_TXT-jI"
   },
   "source": [
    "¿Dónde viven los encuestados?"
   ]
  },
  {
   "cell_type": "markdown",
   "id": "12HsK4DxUEfO",
   "metadata": {
    "id": "12HsK4DxUEfO"
   },
   "source": [
    "Vemos que la mayor parte de los hogares encuestados se encuentran en la zona centro."
   ]
  },
  {
   "cell_type": "markdown",
   "id": "UTmHlcmNUVoF",
   "metadata": {
    "id": "UTmHlcmNUVoF"
   },
   "source": [
    "¿Quienes son las personas encuestadas?\n",
    "\n",
    "\n",
    "\n",
    "\n"
   ]
  },
  {
   "cell_type": "code",
   "execution_count": null,
   "id": "om8K0QLdLlBe",
   "metadata": {
    "colab": {
     "base_uri": "https://localhost:8080/"
    },
    "executionInfo": {
     "elapsed": 12,
     "status": "ok",
     "timestamp": 1633435575951,
     "user": {
      "displayName": "Paula Vásquez H.",
      "photoUrl": "https://lh3.googleusercontent.com/a-/AOh14GgJUNawPfe0J41agMsUCwKAOgAzWX7zUOLCtayLFg=s64",
      "userId": "02019115936957150360"
     },
     "user_tz": 180
    },
    "id": "om8K0QLdLlBe",
    "outputId": "d2f09e75-eecd-483d-e1ff-d74e97768580"
   },
   "outputs": [],
   "source": [
    "personas_df.EDAD.describe()"
   ]
  },
  {
   "cell_type": "code",
   "execution_count": null,
   "id": "idgKXCCxMTUM",
   "metadata": {
    "id": "idgKXCCxMTUM"
   },
   "outputs": [],
   "source": [
    "personas_df['age_cohort'] = personas_df.apply(lambda row: age_cohorts(row, 'EDAD'), axis=1)"
   ]
  },
  {
   "cell_type": "code",
   "execution_count": null,
   "id": "D38EAVrCMwE3",
   "metadata": {
    "colab": {
     "base_uri": "https://localhost:8080/",
     "height": 241
    },
    "executionInfo": {
     "elapsed": 11,
     "status": "ok",
     "timestamp": 1633435578574,
     "user": {
      "displayName": "Paula Vásquez H.",
      "photoUrl": "https://lh3.googleusercontent.com/a-/AOh14GgJUNawPfe0J41agMsUCwKAOgAzWX7zUOLCtayLFg=s64",
      "userId": "02019115936957150360"
     },
     "user_tz": 180
    },
    "id": "D38EAVrCMwE3",
    "outputId": "12b30603-e0e6-4a8a-849f-dcf1e9db180d"
   },
   "outputs": [],
   "source": [
    "order = ['<18', '18-29', '30-60','>60','No declarado']\n",
    "ax = (personas_df.groupby(['age_cohort']).size().loc[reversed(order)]\n",
    " .plot(kind='barh', figsize=(6,3)))\n",
    "ax.set_xlabel(\"# de Encuestados\")\n",
    "ax.set_ylabel(\" \")\n",
    "ax.set_title(\"Distribución de Personas encuestadas por grupo de edad\")\n",
    "sns.despine()"
   ]
  },
  {
   "cell_type": "markdown",
   "id": "tm-_RsB_VOzn",
   "metadata": {
    "id": "tm-_RsB_VOzn"
   },
   "source": [
    "La mayor parte de los encuestados tiene entre 30 y 60 años de edad."
   ]
  },
  {
   "cell_type": "code",
   "execution_count": null,
   "id": "TIRpeDCrNv4h",
   "metadata": {
    "colab": {
     "base_uri": "https://localhost:8080/",
     "height": 241
    },
    "executionInfo": {
     "elapsed": 1083,
     "status": "ok",
     "timestamp": 1633435579649,
     "user": {
      "displayName": "Paula Vásquez H.",
      "photoUrl": "https://lh3.googleusercontent.com/a-/AOh14GgJUNawPfe0J41agMsUCwKAOgAzWX7zUOLCtayLFg=s64",
      "userId": "02019115936957150360"
     },
     "user_tz": 180
    },
    "id": "TIRpeDCrNv4h",
    "outputId": "fb618e03-be80-4b9f-93f7-3c44c563d48b"
   },
   "outputs": [],
   "source": [
    "ax = (personas_df.groupby(['SEXO']).size()\n",
    " .plot(kind='barh', figsize=(6,3)))\n",
    "ax.set_xlabel(\"# de Encuestados\")\n",
    "ax.set_ylabel(\" \")\n",
    "ax.set_title(\"Distribución de Personas encuestadas por sexo\")\n",
    "sns.despine()"
   ]
  },
  {
   "cell_type": "code",
   "execution_count": null,
   "id": "u5B3Y-iFNyNG",
   "metadata": {
    "colab": {
     "base_uri": "https://localhost:8080/",
     "height": 258
    },
    "executionInfo": {
     "elapsed": 20,
     "status": "ok",
     "timestamp": 1633435579650,
     "user": {
      "displayName": "Paula Vásquez H.",
      "photoUrl": "https://lh3.googleusercontent.com/a-/AOh14GgJUNawPfe0J41agMsUCwKAOgAzWX7zUOLCtayLFg=s64",
      "userId": "02019115936957150360"
     },
     "user_tz": 180
    },
    "id": "u5B3Y-iFNyNG",
    "outputId": "c17c530b-53f0-4a77-8bb6-e05dbf265d54"
   },
   "outputs": [],
   "source": [
    "ax = (personas_df.groupby(['age_cohort', 'SEXO']).size().unstack()\n",
    " .pipe(normalize_rows)\n",
    " .plot(kind='barh', stacked=True, figsize=(6, 3)))\n",
    "ax.set_xlabel(\"% de Encuestados\")\n",
    "ax.set_ylabel(\" \")\n",
    "ax.set_title(\"Distribución de Personas encuestadas por sexo y edad\")\n",
    "sns.despine()\n",
    "\n",
    "plt.legend(loc=0, bbox_to_anchor=(1.0, 0.5))"
   ]
  },
  {
   "cell_type": "code",
   "execution_count": null,
   "id": "DB2fgsXJWMgN",
   "metadata": {
    "colab": {
     "base_uri": "https://localhost:8080/",
     "height": 241
    },
    "executionInfo": {
     "elapsed": 11,
     "status": "ok",
     "timestamp": 1633435579651,
     "user": {
      "displayName": "Paula Vásquez H.",
      "photoUrl": "https://lh3.googleusercontent.com/a-/AOh14GgJUNawPfe0J41agMsUCwKAOgAzWX7zUOLCtayLFg=s64",
      "userId": "02019115936957150360"
     },
     "user_tz": 180
    },
    "id": "DB2fgsXJWMgN",
    "outputId": "8458a5a5-3934-4f48-abd7-26a5c58ca15a"
   },
   "outputs": [],
   "source": [
    "ax = (personas_df.groupby(['ACTIVIDAD_PRINCIPAL']).size().sort_values()\n",
    " .plot(kind='barh', figsize=(6,3)))\n",
    "ax.set_xlabel(\"# de Encuestados\")\n",
    "ax.set_ylabel(\" \")\n",
    "ax.set_title(\"Distribución de Personas encuestadas de acuerdo a Actividad Principal\")\n",
    "sns.despine()"
   ]
  },
  {
   "cell_type": "markdown",
   "id": "hd4R5rotXUNy",
   "metadata": {
    "id": "hd4R5rotXUNy"
   },
   "source": [
    "Vemos que la mayor parte de los encuestados son en su mayoria trabajadores, con edades entre 30 y 60 años, con una cantidad equilibrada de hombres y mujeres."
   ]
  },
  {
   "cell_type": "markdown",
   "id": "8b4ab265",
   "metadata": {
    "id": "8b4ab265"
   },
   "source": [
    "### Parte I: Indicadores de Cantidad de Viajes\n",
    "\n",
    "En esta primera parte, responderemos algunas preguntas respecto a indicadores de cantidades de viajes realizados, en días hábiles y no hábiles de viaje. Para esto, buscaremos responder las siguientes preguntas:\n",
    "\n",
    "1. ¿Cuál es la tasa promedio de viajes diarios en transporte público por clasificador económico?\n",
    "2. ¿Cuál es la tasa promedio de viajes diarios en transporte privado por clasificador económico?\n",
    "3. ¿Cuál es la razón entre los viajes en transporte público y privado por clasificador socioeconómico?\n",
    "4. ¿Cuál es la distribución/partición modal de los viajes por clasificador socioeconómico?"
   ]
  },
  {
   "cell_type": "markdown",
   "id": "cr3jPvqRkopA",
   "metadata": {
    "id": "cr3jPvqRkopA"
   },
   "source": [
    "En esta sección, se detallarán los resultados para indicadores a nivel de viajes, separados por días hábiles y no hábiles de viaje, y por clasificador socioeconómico."
   ]
  },
  {
   "cell_type": "code",
   "execution_count": null,
   "id": "RWiohZPHVO_3",
   "metadata": {
    "id": "RWiohZPHVO_3"
   },
   "outputs": [],
   "source": [
    "agg_columns = [\"CLASIFICACION_SISBEN\",\"SEXO\"]"
   ]
  },
  {
   "cell_type": "code",
   "execution_count": null,
   "id": "5e3907b6",
   "metadata": {
    "colab": {
     "base_uri": "https://localhost:8080/"
    },
    "executionInfo": {
     "elapsed": 811,
     "status": "ok",
     "timestamp": 1633435580453,
     "user": {
      "displayName": "Paula Vásquez H.",
      "photoUrl": "https://lh3.googleusercontent.com/a-/AOh14GgJUNawPfe0J41agMsUCwKAOgAzWX7zUOLCtayLFg=s64",
      "userId": "02019115936957150360"
     },
     "user_tz": 180
    },
    "id": "5e3907b6",
    "outputId": "1f38a610-68e2-4044-fdd9-28e06b8f994f"
   },
   "outputs": [],
   "source": [
    "print('Cantidad de viajes mapeados: totales encuesta , total expandido')\n",
    "viajes_habiles = viajes_personas[viajes_personas.DIA_HABIL=='Si']\n",
    "print('Total Viajes Habiles: {}'.format(viajes_habiles.shape[0]), viajes_habiles['PONDERADOR_CALIBRADO_VIAJES'].sum())\n",
    "viajes_nohabiles = viajes_personas[viajes_personas.DIA_NOHABIL=='Si']\n",
    "print('Total Viajes No Habiles: {}'.format(viajes_nohabiles.shape[0]), viajes_nohabiles['PONDERADOR_CALIBRADO_VIAJES'].sum())"
   ]
  },
  {
   "cell_type": "markdown",
   "id": "ddn8V_BLShbI",
   "metadata": {
    "id": "ddn8V_BLShbI"
   },
   "source": [
    "Separamos los viajes hábiles y no hábiles de acuerdo a si son privados o públicos:"
   ]
  },
  {
   "cell_type": "code",
   "execution_count": null,
   "id": "6fe3f2f4",
   "metadata": {
    "id": "6fe3f2f4"
   },
   "outputs": [],
   "source": [
    "viajes_publico_habiles = viajes_habiles[viajes_habiles.MEDIO_PREDOMINANTE.isin(publico_viaje)]\n",
    "viajes_publico_nohabiles = viajes_nohabiles[viajes_nohabiles.MEDIO_PREDOMINANTE.isin(publico_viaje)]\n",
    "\n",
    "viajes_privado_habiles = viajes_habiles[viajes_habiles.MEDIO_PREDOMINANTE.isin(privado_viaje)]\n",
    "viajes_privado_nohabiles = viajes_nohabiles[viajes_nohabiles.MEDIO_PREDOMINANTE.isin(privado_viaje)]"
   ]
  },
  {
   "cell_type": "code",
   "execution_count": null,
   "id": "79e2c954",
   "metadata": {
    "id": "79e2c954"
   },
   "outputs": [],
   "source": [
    "def weighted_mean(df, value_column, weighs_column):\n",
    "    weighted_sum = (df[value_column] * df[weighs_column]).sum()\n",
    "    return weighted_sum / df[weighs_column].sum()"
   ]
  },
  {
   "cell_type": "code",
   "execution_count": null,
   "id": "a6d597fe",
   "metadata": {
    "id": "a6d597fe"
   },
   "outputs": [],
   "source": [
    "def weighted_median(df, val, weight):\n",
    "    df_sorted = df.sort_values(val)\n",
    "    cumsum = df_sorted[weight].cumsum()\n",
    "    cutoff = df_sorted[weight].sum() / 2.\n",
    "    return df_sorted[cumsum >= cutoff][val].iloc[0]"
   ]
  },
  {
   "cell_type": "code",
   "execution_count": null,
   "id": "24944d77",
   "metadata": {
    "id": "24944d77"
   },
   "outputs": [],
   "source": [
    "from pandasql import sqldf\n",
    "def calculate_n_viajes_per_capita(df, df_str, agg_columns_str, agg_columns_lst, id_person, person_weight, trip_weight=None):\n",
    "    q = \"SELECT DISTINCT {}, {}, {} FROM {}\".format(id_person, agg_columns_str, person_weight, df_str)\n",
    "    persons = sqldf(q, globals())\n",
    "    n_personas = persons.groupby(agg_columns_lst).sum()[[person_weight]].reset_index()\n",
    "    n_personas[agg_columns_lst[0]] = n_personas[agg_columns_lst[0]].astype(str)\n",
    "    n_viajes = df.groupby(agg_columns_lst).sum()[[trip_weight]].reset_index()\n",
    "    n_viajes[agg_columns_lst[0]] = n_viajes[agg_columns_lst[0]].astype(str)\n",
    "    merged = pd.merge(n_personas, n_viajes, on=agg_columns_lst, how='left')\n",
    "    merged['viajes_per_capita'] = merged[trip_weight] / merged[person_weight]\n",
    "    return merged"
   ]
  },
  {
   "cell_type": "markdown",
   "id": "SwSGV81xkdcF",
   "metadata": {
    "id": "SwSGV81xkdcF"
   },
   "source": [
    "\n",
    "\n",
    "#### **¿Cuál es la tasa promedio de viajes diarios en transporte público por clasificador económico?**"
   ]
  },
  {
   "cell_type": "markdown",
   "id": "BMWYNK57J-F0",
   "metadata": {
    "id": "BMWYNK57J-F0"
   },
   "source": [
    "Los siguientes gráficos muestran los viajes per cápita en trasporte público durante días hábiles, por clasificador socioeconómico."
   ]
  },
  {
   "cell_type": "code",
   "execution_count": null,
   "id": "ff317a8a",
   "metadata": {
    "colab": {
     "base_uri": "https://localhost:8080/",
     "height": 352
    },
    "executionInfo": {
     "elapsed": 3568,
     "status": "ok",
     "timestamp": 1633435584010,
     "user": {
      "displayName": "Paula Vásquez H.",
      "photoUrl": "https://lh3.googleusercontent.com/a-/AOh14GgJUNawPfe0J41agMsUCwKAOgAzWX7zUOLCtayLFg=s64",
      "userId": "02019115936957150360"
     },
     "user_tz": 180
    },
    "id": "ff317a8a",
    "outputId": "713f248b-ffdf-4ee1-c969-85033111d492",
    "scrolled": true
   },
   "outputs": [],
   "source": [
    "#fig, ax = plt.subplots(figsize=(8,6))\n",
    "df = calculate_n_viajes_per_capita(viajes_publico_habiles, \"viajes_publico_habiles\", \"CLASIFICACION_SISBEN\", [\"CLASIFICACION_SISBEN\"], 'ID_PERSONA', 'PONDERADOR_CALIBRADO', 'PONDERADOR_CALIBRADO_VIAJES')\n",
    "\n",
    "\n",
    "g = sns.catplot(x=\"CLASIFICACION_SISBEN\", y=\"viajes_per_capita\", \n",
    "                capsize=.2, height=4, aspect=2,\n",
    "                kind=\"point\", data=df)\n",
    "\n",
    "g.fig.suptitle('Viajes per cápita en transporte público - Día Hábil')\n",
    "g.set_ylabels('# Viajes per Cápita')\n",
    "g.set_xlabels('Clasificación SISBEN')\n",
    "g.set(ylim=(0,3))\n",
    "\n",
    "#fig.tight_layout()\n"
   ]
  },
  {
   "cell_type": "code",
   "execution_count": null,
   "id": "e36212a6",
   "metadata": {
    "colab": {
     "base_uri": "https://localhost:8080/",
     "height": 352
    },
    "executionInfo": {
     "elapsed": 1458,
     "status": "ok",
     "timestamp": 1633435585463,
     "user": {
      "displayName": "Paula Vásquez H.",
      "photoUrl": "https://lh3.googleusercontent.com/a-/AOh14GgJUNawPfe0J41agMsUCwKAOgAzWX7zUOLCtayLFg=s64",
      "userId": "02019115936957150360"
     },
     "user_tz": 180
    },
    "id": "e36212a6",
    "outputId": "86994d63-035e-4b52-d9d3-472af0d20207"
   },
   "outputs": [],
   "source": [
    "#fig, ax = plt.subplots(figsize=(8,6))\n",
    "df = calculate_n_viajes_per_capita(viajes_publico_nohabiles, \"viajes_publico_nohabiles\", \"CLASIFICACION_SISBEN\", [\"CLASIFICACION_SISBEN\"], 'ID_PERSONA', 'PONDERADOR_CALIBRADO', 'PONDERADOR_CALIBRADO_VIAJES')\n",
    "\n",
    "\n",
    "g = sns.catplot(x=\"CLASIFICACION_SISBEN\", y=\"viajes_per_capita\", \n",
    "                capsize=.2, height=4, aspect=2,\n",
    "                kind=\"point\", data=df)\n",
    "\n",
    "g.fig.suptitle('Viajes per cápita en transporte público - Día No Hábil')\n",
    "g.set_ylabels('# Viajes per Cápita')\n",
    "g.set_xlabels('Clasificación SISBEN')\n",
    "g.set(ylim=(0,3))\n",
    "\n",
    "#fig.tight_layout()"
   ]
  },
  {
   "cell_type": "markdown",
   "id": "lPLYy3LmNYlg",
   "metadata": {
    "id": "lPLYy3LmNYlg"
   },
   "source": [
    "Para días hábiles, no se ve diferencia a través de la clasificación socioeconómica. En días no hábiles, se ve una tendencia similar, con un leve aumento en el 4to clasificador."
   ]
  },
  {
   "cell_type": "markdown",
   "id": "Ny2u8oy4mT7u",
   "metadata": {
    "id": "Ny2u8oy4mT7u"
   },
   "source": [
    "#### **¿Cuál es la tasa promedio de viajes diarios en transporte privado por clasificador económico?**"
   ]
  },
  {
   "cell_type": "markdown",
   "id": "xGKiQ8ljKJ9Y",
   "metadata": {
    "id": "xGKiQ8ljKJ9Y"
   },
   "source": [
    "Los siguientes gráficos representan la tasa promedio de viajes diarios en el transporte privado durante días hábiles y no hábiles, por clasificador socioeconómico."
   ]
  },
  {
   "cell_type": "code",
   "execution_count": null,
   "id": "0f0d8f5c",
   "metadata": {
    "colab": {
     "base_uri": "https://localhost:8080/",
     "height": 352
    },
    "executionInfo": {
     "elapsed": 6208,
     "status": "ok",
     "timestamp": 1633435591661,
     "user": {
      "displayName": "Paula Vásquez H.",
      "photoUrl": "https://lh3.googleusercontent.com/a-/AOh14GgJUNawPfe0J41agMsUCwKAOgAzWX7zUOLCtayLFg=s64",
      "userId": "02019115936957150360"
     },
     "user_tz": 180
    },
    "id": "0f0d8f5c",
    "outputId": "2a999de5-509a-47f7-de79-2ede8b1654ed"
   },
   "outputs": [],
   "source": [
    "#fig, ax = plt.subplots(figsize=(8,6))\n",
    "df = calculate_n_viajes_per_capita(viajes_privado_habiles, \"viajes_privado_habiles\", \"CLASIFICACION_SISBEN\", [\"CLASIFICACION_SISBEN\"], 'ID_PERSONA', 'PONDERADOR_CALIBRADO', 'PONDERADOR_CALIBRADO_VIAJES')\n",
    "\n",
    "g = sns.catplot(x=\"CLASIFICACION_SISBEN\", y=\"viajes_per_capita\", \n",
    "                capsize=.2, height=4, aspect=2,\n",
    "                kind=\"point\", data=df)\n",
    "\n",
    "g.fig.suptitle('Viajes per cápita en transporte privado - Día Hábil')\n",
    "g.set_ylabels('# Viajes per Cápita')\n",
    "g.set_xlabels('Clasificación SISBEN')\n",
    "g.set(ylim=(0,3))\n",
    "\n",
    "#fig.tight_layout()"
   ]
  },
  {
   "cell_type": "code",
   "execution_count": null,
   "id": "7CP5E_K9mMvm",
   "metadata": {
    "colab": {
     "base_uri": "https://localhost:8080/",
     "height": 352
    },
    "executionInfo": {
     "elapsed": 1460,
     "status": "ok",
     "timestamp": 1633435593104,
     "user": {
      "displayName": "Paula Vásquez H.",
      "photoUrl": "https://lh3.googleusercontent.com/a-/AOh14GgJUNawPfe0J41agMsUCwKAOgAzWX7zUOLCtayLFg=s64",
      "userId": "02019115936957150360"
     },
     "user_tz": 180
    },
    "id": "7CP5E_K9mMvm",
    "outputId": "bfe7107f-ef86-4cbc-d3f4-ff089bb8ce2a"
   },
   "outputs": [],
   "source": [
    "#fig, ax = plt.subplots(figsize=(8,6))\n",
    "df = calculate_n_viajes_per_capita(viajes_privado_nohabiles, \"viajes_privado_nohabiles\", \"CLASIFICACION_SISBEN\", [\"CLASIFICACION_SISBEN\"], 'ID_PERSONA', 'PONDERADOR_CALIBRADO', 'PONDERADOR_CALIBRADO_VIAJES')\n",
    "\n",
    "g = sns.catplot(x=\"CLASIFICACION_SISBEN\", y=\"viajes_per_capita\", \n",
    "                capsize=.2, height=4, aspect=2,\n",
    "                kind=\"point\", data=df)\n",
    "\n",
    "g.fig.suptitle('Viajes per cápita en transporte privado - Día No Hábil')\n",
    "g.set_ylabels('# Viajes per Cápita')\n",
    "g.set_xlabels('Clasificación SISBEN')\n",
    "g.set(ylim=(0,3))\n",
    "\n",
    "#fig.tight_layout()"
   ]
  },
  {
   "cell_type": "markdown",
   "id": "QqdXIrSv4zU7",
   "metadata": {
    "id": "QqdXIrSv4zU7"
   },
   "source": [
    "Durante días hábiles, la cantidad de viajes per cápita realizados en transporte privado se mantiene constante a través de los grupos, mientras que en días no hábiles los viajes tienden a disminuir con el aumento de nivel de la clasificación."
   ]
  },
  {
   "cell_type": "markdown",
   "id": "lEapzbnUmW6N",
   "metadata": {
    "id": "lEapzbnUmW6N"
   },
   "source": [
    "#### **¿Cuál es la razón entre los viajes en transporte público y privado por clasificador socioeconómico?**"
   ]
  },
  {
   "cell_type": "markdown",
   "id": "0OSWLCNqKOwL",
   "metadata": {
    "id": "0OSWLCNqKOwL"
   },
   "source": [
    "Los gráficos a continuación muestran la razón entre los viajes en transporte público y transporte privado durante días hábiles y no hábiles, por clasificador socioeconómico."
   ]
  },
  {
   "cell_type": "code",
   "execution_count": null,
   "id": "ffdf7ef0",
   "metadata": {
    "colab": {
     "base_uri": "https://localhost:8080/",
     "height": 318
    },
    "executionInfo": {
     "elapsed": 618,
     "status": "ok",
     "timestamp": 1633435593712,
     "user": {
      "displayName": "Paula Vásquez H.",
      "photoUrl": "https://lh3.googleusercontent.com/a-/AOh14GgJUNawPfe0J41agMsUCwKAOgAzWX7zUOLCtayLFg=s64",
      "userId": "02019115936957150360"
     },
     "user_tz": 180
    },
    "id": "ffdf7ef0",
    "outputId": "e3c59c74-6208-40cb-c3ae-6f5e902cf1e9"
   },
   "outputs": [],
   "source": [
    "viajes_privados = viajes_privado_habiles.groupby([\"CLASIFICACION_SISBEN\"]).agg(n_privados= ('PONDERADOR_CALIBRADO_VIAJES', 'sum')).reset_index()\n",
    "viajes_publicos = viajes_publico_habiles.groupby([\"CLASIFICACION_SISBEN\"]).agg(n_publicos = ('PONDERADOR_CALIBRADO_VIAJES', 'sum')).reset_index()\n",
    "n_viajes_modo = pd.merge(viajes_privados, viajes_publicos, on='CLASIFICACION_SISBEN')#.set_index('CLASIFICACION_SISBEN')\n",
    "n_viajes_modo['privado_sobre_publico'] = n_viajes_modo['n_privados'] / n_viajes_modo['n_publicos']\n",
    "\n",
    "g = sns.catplot(x=\"CLASIFICACION_SISBEN\", y=\"privado_sobre_publico\",\n",
    "                capsize=.2, height=4, aspect=2,\n",
    "                kind=\"point\", data=n_viajes_modo)\n",
    "\n",
    "g.fig.suptitle('Razón entre los viajes en transporte público y privado - Día Hábil')\n",
    "g.set_ylabels('Proporción de viajes privados sobre públicos')\n",
    "g.set_xlabels('Clasificación SISBEN')\n",
    "g.set(ylim=(0,2))\n",
    "\n",
    "#fig.tight_layout()"
   ]
  },
  {
   "cell_type": "markdown",
   "id": "Q0Pfe3NI5DVp",
   "metadata": {
    "id": "Q0Pfe3NI5DVp"
   },
   "source": [
    "La razón entre viajes entre transporte público y privado se mantiene constante en los primeros 3 grupos, mientras que en los últimos 3 se ve una disminución, particularmente en el grupo 5."
   ]
  },
  {
   "cell_type": "markdown",
   "id": "Io9Ywtpsm35A",
   "metadata": {
    "id": "Io9Ywtpsm35A"
   },
   "source": [
    "#### **¿Cuál es la distribución/partición modal de los viajes por clasificador socioeconómico?**"
   ]
  },
  {
   "cell_type": "markdown",
   "id": "WuHDhiGHKSyh",
   "metadata": {
    "id": "WuHDhiGHKSyh"
   },
   "source": [
    "Las siguientes tablas y gráficos representan la partición modal de los viajes realizados en días hábiles y no hábiles, por clasificador socioeconómico."
   ]
  },
  {
   "cell_type": "code",
   "execution_count": null,
   "id": "00cf4cdc",
   "metadata": {
    "id": "00cf4cdc"
   },
   "outputs": [],
   "source": [
    "df = viajes_habiles.groupby([\"CLASIFICACION_SISBEN\", 'MEDIO_PREDOMINANTE']).sum()['PONDERADOR_CALIBRADO_VIAJES'].unstack()\n",
    "df_norm= df.div(df.sum(axis=1), axis=0).fillna(0)"
   ]
  },
  {
   "cell_type": "code",
   "execution_count": null,
   "id": "TtDf5Kb-UkEo",
   "metadata": {
    "colab": {
     "base_uri": "https://localhost:8080/",
     "height": 437
    },
    "executionInfo": {
     "elapsed": 650,
     "status": "ok",
     "timestamp": 1633435594357,
     "user": {
      "displayName": "Paula Vásquez H.",
      "photoUrl": "https://lh3.googleusercontent.com/a-/AOh14GgJUNawPfe0J41agMsUCwKAOgAzWX7zUOLCtayLFg=s64",
      "userId": "02019115936957150360"
     },
     "user_tz": 180
    },
    "id": "TtDf5Kb-UkEo",
    "outputId": "993aa151-741c-49a9-9af1-7c1d195bba13"
   },
   "outputs": [],
   "source": [
    "fig, ax = plt.subplots(figsize=(8, 3))\n",
    "\n",
    "ax = sns.heatmap(df_norm,linewidth=0.5)\n",
    "\n",
    "ax.set_title(\"Partición Modal de los Viajes - Día Hábil\")\n",
    "ax.set_xlabel(\"Modo de Transporte\")\n",
    "ax.set_ylabel(\"Clasificación SISBEN\")\n",
    "\n",
    "fig.tight_layout()"
   ]
  },
  {
   "cell_type": "code",
   "execution_count": null,
   "id": "6cEohJXrnHiF",
   "metadata": {
    "id": "6cEohJXrnHiF"
   },
   "outputs": [],
   "source": [
    "df = viajes_nohabiles.groupby([\"CLASIFICACION_SISBEN\", 'MEDIO_PREDOMINANTE']).sum()['PONDERADOR_CALIBRADO_VIAJES'].unstack()\n",
    "df_norm= df.div(df.sum(axis=1), axis=0).fillna(0)"
   ]
  },
  {
   "cell_type": "code",
   "execution_count": null,
   "id": "HD9ezY3zcfsr",
   "metadata": {
    "colab": {
     "base_uri": "https://localhost:8080/",
     "height": 437
    },
    "executionInfo": {
     "elapsed": 681,
     "status": "ok",
     "timestamp": 1633435595035,
     "user": {
      "displayName": "Paula Vásquez H.",
      "photoUrl": "https://lh3.googleusercontent.com/a-/AOh14GgJUNawPfe0J41agMsUCwKAOgAzWX7zUOLCtayLFg=s64",
      "userId": "02019115936957150360"
     },
     "user_tz": 180
    },
    "id": "HD9ezY3zcfsr",
    "outputId": "1398c942-3a07-4ab3-d279-2963aa172066"
   },
   "outputs": [],
   "source": [
    "fig, ax = plt.subplots(figsize=(8, 3))\n",
    "\n",
    "ax = sns.heatmap(df_norm,linewidth=0.5)\n",
    "\n",
    "ax.set_title(\"Partición Modal de los Viajes - Día No Hábil\")\n",
    "ax.set_xlabel(\"Modo de Transporte\")\n",
    "ax.set_ylabel(\"Clasificación SISBEN\")\n",
    "\n",
    "fig.tight_layout()"
   ]
  },
  {
   "cell_type": "markdown",
   "id": "POciegfD5fnf",
   "metadata": {
    "id": "POciegfD5fnf"
   },
   "source": [
    "Tanto en días hábiles y no hábiles, los modos de transporte con una mayor distribución corresponden a Peatón y TPC-SITP."
   ]
  },
  {
   "cell_type": "markdown",
   "id": "h_n1rDv2K3UF",
   "metadata": {
    "id": "h_n1rDv2K3UF"
   },
   "source": [
    "A continuación, se representa la partición modal de los viajes por tipo de transporte en días hábiles y no hábiles, por quintiles de ingreso de acuerdo a la clasificación SISBEN."
   ]
  },
  {
   "cell_type": "code",
   "execution_count": null,
   "id": "6e9d6644",
   "metadata": {
    "colab": {
     "base_uri": "https://localhost:8080/"
    },
    "executionInfo": {
     "elapsed": 13,
     "status": "ok",
     "timestamp": 1633435595036,
     "user": {
      "displayName": "Paula Vásquez H.",
      "photoUrl": "https://lh3.googleusercontent.com/a-/AOh14GgJUNawPfe0J41agMsUCwKAOgAzWX7zUOLCtayLFg=s64",
      "userId": "02019115936957150360"
     },
     "user_tz": 180
    },
    "id": "6e9d6644",
    "outputId": "3c60c847-a9b2-4de0-abba-c12a17f2a499"
   },
   "outputs": [],
   "source": [
    "print('Partición Modal de los Viajes de acuerdo al tipo de transporte - Día Hábil')\n",
    "df = viajes_habiles.groupby([\"CLASIFICACION_SISBEN\", 'publico_privado']).sum()['PONDERADOR_CALIBRADO_VIAJES'].unstack()\n",
    "df_norm = df.div(df.sum(axis=1), axis=0)"
   ]
  },
  {
   "cell_type": "code",
   "execution_count": null,
   "id": "TXuQjvvibXQW",
   "metadata": {
    "colab": {
     "base_uri": "https://localhost:8080/",
     "height": 369
    },
    "executionInfo": {
     "elapsed": 574,
     "status": "ok",
     "timestamp": 1633435595604,
     "user": {
      "displayName": "Paula Vásquez H.",
      "photoUrl": "https://lh3.googleusercontent.com/a-/AOh14GgJUNawPfe0J41agMsUCwKAOgAzWX7zUOLCtayLFg=s64",
      "userId": "02019115936957150360"
     },
     "user_tz": 180
    },
    "id": "TXuQjvvibXQW",
    "outputId": "769f08e7-77e2-4aa1-c523-b81a494037cd"
   },
   "outputs": [],
   "source": [
    "from aves.visualization.tables import barchart\n",
    "\n",
    "fig, ax = plt.subplots(figsize=(10,5))\n",
    "\n",
    "barchart(\n",
    "    ax, df_norm, stacked=True, normalize=False, sort_categories=True, sort_items=False\n",
    ")\n",
    "\n",
    "ax.set_title(\"Partición Modal de los Viajes de acuerdo al tipo de transporte (Público/Privado) - Día Hábil\")\n",
    "ax.set_ylim([0, 1])\n",
    "ax.set_xlabel(\"Clasificación SISBEN\")\n",
    "ax.set_ylabel(\"Fracción de los Viajes\")\n",
    "\n",
    "fig.tight_layout()"
   ]
  },
  {
   "cell_type": "code",
   "execution_count": null,
   "id": "5N-nv00gbFN8",
   "metadata": {
    "colab": {
     "base_uri": "https://localhost:8080/"
    },
    "executionInfo": {
     "elapsed": 14,
     "status": "ok",
     "timestamp": 1633435595605,
     "user": {
      "displayName": "Paula Vásquez H.",
      "photoUrl": "https://lh3.googleusercontent.com/a-/AOh14GgJUNawPfe0J41agMsUCwKAOgAzWX7zUOLCtayLFg=s64",
      "userId": "02019115936957150360"
     },
     "user_tz": 180
    },
    "id": "5N-nv00gbFN8",
    "outputId": "713eefc9-a6c1-468f-d363-8588159ccf97"
   },
   "outputs": [],
   "source": [
    "print('Partición Modal de los Viajes de acuerdo al tipo de transporte (Motorizado/No Motorizado) - Día Hábil')\n",
    "df = viajes_habiles.groupby([\"CLASIFICACION_SISBEN\", 'motorizado']).sum()['PONDERADOR_CALIBRADO_VIAJES'].unstack()\n",
    "df_norm = df.div(df.sum(axis=1), axis=0)"
   ]
  },
  {
   "cell_type": "code",
   "execution_count": null,
   "id": "GfwBiqa4cxjj",
   "metadata": {
    "colab": {
     "base_uri": "https://localhost:8080/",
     "height": 369
    },
    "executionInfo": {
     "elapsed": 730,
     "status": "ok",
     "timestamp": 1633435596328,
     "user": {
      "displayName": "Paula Vásquez H.",
      "photoUrl": "https://lh3.googleusercontent.com/a-/AOh14GgJUNawPfe0J41agMsUCwKAOgAzWX7zUOLCtayLFg=s64",
      "userId": "02019115936957150360"
     },
     "user_tz": 180
    },
    "id": "GfwBiqa4cxjj",
    "outputId": "e1bf56cb-443c-4019-dfa8-3284b656a579"
   },
   "outputs": [],
   "source": [
    "from aves.visualization.tables import barchart\n",
    "\n",
    "fig, ax = plt.subplots(figsize=(10, 5))\n",
    "\n",
    "barchart(\n",
    "    ax, df_norm, stacked=True, normalize=False, sort_categories=True, sort_items=False\n",
    ")\n",
    "\n",
    "ax.set_title(\"Partición Modal de los Viajes de acuerdo al tipo de transporte (Motorizado/No Motorizado) - Día Hábil\")\n",
    "ax.set_ylim([0, 1])\n",
    "ax.set_xlabel(\"Clasificación SISBEN\")\n",
    "ax.set_ylabel(\"Fracción de los Viajes\")\n",
    "\n",
    "fig.tight_layout()"
   ]
  },
  {
   "cell_type": "markdown",
   "id": "3mLQC-nN5rEZ",
   "metadata": {
    "id": "3mLQC-nN5rEZ"
   },
   "source": [
    "Al ver la fracción de viajes para transporte privado y público, podemos ver que hay una razón similar entre los grupos, excepto el grupo 4 y 5, donde se ve una disminución de la fracción privada. En el caso del tipo de transporte motorizado o no motorizado, la fracción de viajes en transporte no motorizado aumenta al aumentar el nivel de la clasificación hasta el grupo 5."
   ]
  },
  {
   "cell_type": "markdown",
   "id": "IErEs2D29Kgb",
   "metadata": {
    "id": "IErEs2D29Kgb"
   },
   "source": [
    "### Parte II: Indicadores de Tiempo de Viajes\n",
    "\n",
    "En esta primera parte, responderemos algunas preguntas respecto a indicadores de tiempo de viajes realizados, en días hábiles y no hábiles de viaje. Para esto, buscaremos responder las siguientes preguntas:\n",
    "1. ¿Cuál es el tiempo promedio de viaje por modo y tipo de transporte?\n",
    "2. ¿Cuál es el tiempo promedio de viaje en hora punta de mañana?\n",
    "3. ¿Cuál es el tiempo de viaje en transporte público en hora punta de mañana?\n",
    "4. ¿Cuál es el tiempo promedio de viaje al trabajo en transporte público?"
   ]
  },
  {
   "cell_type": "markdown",
   "id": "1Q5bBhQJMZDL",
   "metadata": {
    "id": "1Q5bBhQJMZDL"
   },
   "source": [
    "En esta sección, se presentarán los indicadores de tiempo de viajes a nivel de viajes, durante días hábiles, y por clasificador socioeconómico."
   ]
  },
  {
   "cell_type": "code",
   "execution_count": null,
   "id": "41c6dba2",
   "metadata": {
    "colab": {
     "base_uri": "https://localhost:8080/"
    },
    "executionInfo": {
     "elapsed": 22,
     "status": "ok",
     "timestamp": 1633435596329,
     "user": {
      "displayName": "Paula Vásquez H.",
      "photoUrl": "https://lh3.googleusercontent.com/a-/AOh14GgJUNawPfe0J41agMsUCwKAOgAzWX7zUOLCtayLFg=s64",
      "userId": "02019115936957150360"
     },
     "user_tz": 180
    },
    "id": "41c6dba2",
    "outputId": "152e546c-fae2-405b-f2e3-34b390e9b503"
   },
   "outputs": [],
   "source": [
    "viajes_habiles['duracion_minutos'] = pd.to_timedelta(viajes_habiles['duracion'])/pd.Timedelta('60s')\n",
    "viajes_nohabiles['duracion_minutos'] = pd.to_timedelta(viajes_nohabiles['duracion'])/pd.Timedelta('60s')"
   ]
  },
  {
   "cell_type": "markdown",
   "id": "l_LNcTgUrx5o",
   "metadata": {
    "id": "l_LNcTgUrx5o"
   },
   "source": [
    "#### **¿Cuál es el tiempo promedio de viaje por modo y tipo de transporte?**"
   ]
  },
  {
   "cell_type": "markdown",
   "id": "JPUadiVlliP1",
   "metadata": {
    "id": "JPUadiVlliP1"
   },
   "source": [
    "A continuación, se representa el promedio y mediana en minutos de viaje por modo y tipo de transporte en días hábiles y no hábiles, por clasificador socioeconómico."
   ]
  },
  {
   "cell_type": "code",
   "execution_count": null,
   "id": "e6767485",
   "metadata": {
    "colab": {
     "base_uri": "https://localhost:8080/"
    },
    "executionInfo": {
     "elapsed": 13,
     "status": "ok",
     "timestamp": 1633435596330,
     "user": {
      "displayName": "Paula Vásquez H.",
      "photoUrl": "https://lh3.googleusercontent.com/a-/AOh14GgJUNawPfe0J41agMsUCwKAOgAzWX7zUOLCtayLFg=s64",
      "userId": "02019115936957150360"
     },
     "user_tz": 180
    },
    "id": "e6767485",
    "outputId": "3c2310b7-d29e-4686-fa42-8cf12110d7e1",
    "scrolled": true
   },
   "outputs": [],
   "source": [
    "print('Duración promedio (en minutos) de viaje por modo - Dia Hábil')\n",
    "df =viajes_habiles.groupby([\"CLASIFICACION_SISBEN\", 'MEDIO_PREDOMINANTE']).apply(lambda x: weighted_mean(x, 'duracion_minutos', 'PONDERADOR_CALIBRADO_VIAJES')).unstack()\n",
    "#df"
   ]
  },
  {
   "cell_type": "code",
   "execution_count": null,
   "id": "1f5ZUwUbkd_u",
   "metadata": {
    "colab": {
     "base_uri": "https://localhost:8080/",
     "height": 369
    },
    "executionInfo": {
     "elapsed": 681,
     "status": "ok",
     "timestamp": 1633435597005,
     "user": {
      "displayName": "Paula Vásquez H.",
      "photoUrl": "https://lh3.googleusercontent.com/a-/AOh14GgJUNawPfe0J41agMsUCwKAOgAzWX7zUOLCtayLFg=s64",
      "userId": "02019115936957150360"
     },
     "user_tz": 180
    },
    "id": "1f5ZUwUbkd_u",
    "outputId": "80f9ad12-c671-4f40-ad9f-f58285859518"
   },
   "outputs": [],
   "source": [
    "fig, ax = plt.subplots(figsize=(7, 5))\n",
    "\n",
    "ax = sns.heatmap(df, annot=True)\n",
    "\n",
    "ax.set_title(\"Duración promedio de viaje por modo - Día Hábil\")\n",
    "ax.set_xlabel(\"Modo de Transporte\")\n",
    "ax.set_ylabel(\"Clasificación SISBEN\")\n",
    "\n",
    "fig.tight_layout()"
   ]
  },
  {
   "cell_type": "code",
   "execution_count": null,
   "id": "ea04e643",
   "metadata": {
    "colab": {
     "base_uri": "https://localhost:8080/"
    },
    "executionInfo": {
     "elapsed": 682,
     "status": "ok",
     "timestamp": 1633435597683,
     "user": {
      "displayName": "Paula Vásquez H.",
      "photoUrl": "https://lh3.googleusercontent.com/a-/AOh14GgJUNawPfe0J41agMsUCwKAOgAzWX7zUOLCtayLFg=s64",
      "userId": "02019115936957150360"
     },
     "user_tz": 180
    },
    "id": "ea04e643",
    "outputId": "97e678af-abad-47cf-f0ec-b83fb0ce4c15"
   },
   "outputs": [],
   "source": [
    "print('Duración mediana (en minutos) de viaje por modo - Dia Hábil')\n",
    "df = viajes_habiles.groupby([\"CLASIFICACION_SISBEN\", 'MEDIO_PREDOMINANTE']).apply(lambda x: weighted_median(x, 'duracion_minutos', 'PONDERADOR_CALIBRADO_VIAJES')).unstack()\n",
    "#df"
   ]
  },
  {
   "cell_type": "code",
   "execution_count": null,
   "id": "Jit3Zq9PjT-R",
   "metadata": {
    "colab": {
     "base_uri": "https://localhost:8080/",
     "height": 369
    },
    "executionInfo": {
     "elapsed": 971,
     "status": "ok",
     "timestamp": 1633435598652,
     "user": {
      "displayName": "Paula Vásquez H.",
      "photoUrl": "https://lh3.googleusercontent.com/a-/AOh14GgJUNawPfe0J41agMsUCwKAOgAzWX7zUOLCtayLFg=s64",
      "userId": "02019115936957150360"
     },
     "user_tz": 180
    },
    "id": "Jit3Zq9PjT-R",
    "outputId": "a3f2271e-b247-409e-8a68-dbf25af5ef59"
   },
   "outputs": [],
   "source": [
    "fig, ax = plt.subplots(figsize=(7, 5))\n",
    "\n",
    "ax = sns.heatmap(df, annot=True)\n",
    "\n",
    "ax.set_title(\"Duración mediana de viaje por modo - Día Hábil\")\n",
    "ax.set_xlabel(\"Modo de Transporte\")\n",
    "ax.set_ylabel(\"Clasificación SISBEN\")\n",
    "\n",
    "fig.tight_layout()"
   ]
  },
  {
   "cell_type": "markdown",
   "id": "E1QX7l7FMdC0",
   "metadata": {
    "id": "E1QX7l7FMdC0"
   },
   "source": [
    "Al analizar los modos de transporte, podemos observar que Transmilenio es el modo con mayor duración de viajes, seguido de TPC-SITP. Los viajes con menor duración promedio corresponden a los realizados como Peatón."
   ]
  },
  {
   "cell_type": "code",
   "execution_count": null,
   "id": "wg0btP0crGwm",
   "metadata": {
    "colab": {
     "base_uri": "https://localhost:8080/",
     "height": 386
    },
    "executionInfo": {
     "elapsed": 933,
     "status": "ok",
     "timestamp": 1633435599581,
     "user": {
      "displayName": "Paula Vásquez H.",
      "photoUrl": "https://lh3.googleusercontent.com/a-/AOh14GgJUNawPfe0J41agMsUCwKAOgAzWX7zUOLCtayLFg=s64",
      "userId": "02019115936957150360"
     },
     "user_tz": 180
    },
    "id": "wg0btP0crGwm",
    "outputId": "d302875b-97e3-45a1-b6fd-0161593dc751"
   },
   "outputs": [],
   "source": [
    "print('Duración promedio (en minutos) de viaje por tipo de transporte - Dia Hábil')\n",
    "df = viajes_habiles.groupby([\"CLASIFICACION_SISBEN\", 'publico_privado']).apply(lambda x: weighted_mean(x, 'duracion_minutos', 'PONDERADOR_CALIBRADO_VIAJES')).unstack()\n",
    "\n",
    "fig, ax = plt.subplots(figsize=(7,5))\n",
    "\n",
    "ax = sns.heatmap(df, annot=True)\n",
    "\n",
    "ax.set_title(\"Duración promedio de viaje por tipo de transporte - Día Hábil\")\n",
    "ax.set_xlabel(\"Modo de Transporte\")\n",
    "ax.set_ylabel(\"Clasificación SISBEN\")\n",
    "\n",
    "fig.tight_layout()"
   ]
  },
  {
   "cell_type": "code",
   "execution_count": null,
   "id": "655dd81c",
   "metadata": {
    "colab": {
     "base_uri": "https://localhost:8080/"
    },
    "executionInfo": {
     "elapsed": 13,
     "status": "ok",
     "timestamp": 1633435599582,
     "user": {
      "displayName": "Paula Vásquez H.",
      "photoUrl": "https://lh3.googleusercontent.com/a-/AOh14GgJUNawPfe0J41agMsUCwKAOgAzWX7zUOLCtayLFg=s64",
      "userId": "02019115936957150360"
     },
     "user_tz": 180
    },
    "id": "655dd81c",
    "outputId": "e164f55f-d3cc-47c6-ca65-83f87ac76fa0"
   },
   "outputs": [],
   "source": [
    "print('Duración mediana (en minutos) de viaje por tipo de transporte - Dia Hábil')\n",
    "df = viajes_habiles.groupby([\"CLASIFICACION_SISBEN\",'publico_privado']).apply(lambda x: weighted_median(x, 'duracion_minutos', 'PONDERADOR_CALIBRADO_VIAJES')).unstack()"
   ]
  },
  {
   "cell_type": "code",
   "execution_count": null,
   "id": "c4CIL64GrWTj",
   "metadata": {
    "colab": {
     "base_uri": "https://localhost:8080/",
     "height": 369
    },
    "executionInfo": {
     "elapsed": 845,
     "status": "ok",
     "timestamp": 1633435600421,
     "user": {
      "displayName": "Paula Vásquez H.",
      "photoUrl": "https://lh3.googleusercontent.com/a-/AOh14GgJUNawPfe0J41agMsUCwKAOgAzWX7zUOLCtayLFg=s64",
      "userId": "02019115936957150360"
     },
     "user_tz": 180
    },
    "id": "c4CIL64GrWTj",
    "outputId": "fb667bc0-4cb5-447d-85e6-aa4af13752bc"
   },
   "outputs": [],
   "source": [
    "fig, ax = plt.subplots(figsize=(7,5))\n",
    "\n",
    "ax = sns.heatmap(df, annot=True)\n",
    "\n",
    "ax.set_title(\"Duración mediana de viaje por tipo de transporte - Día Hábil\")\n",
    "ax.set_xlabel(\"Modo de Transporte\")\n",
    "ax.set_ylabel(\"Clasificación SISBEN\")\n",
    "\n",
    "fig.tight_layout()"
   ]
  },
  {
   "cell_type": "markdown",
   "id": "XznfZreHM3by",
   "metadata": {
    "id": "XznfZreHM3by"
   },
   "source": [
    "Al analizar por tipo de transporte, se observa que el transporte público presenta las mayores duraciones de viaje promedio, y el transporte público tiene menores tiempos de viaje en promedio."
   ]
  },
  {
   "cell_type": "code",
   "execution_count": null,
   "id": "XJL-gRfnc7uh",
   "metadata": {
    "colab": {
     "base_uri": "https://localhost:8080/",
     "height": 386
    },
    "executionInfo": {
     "elapsed": 22,
     "status": "ok",
     "timestamp": 1633435600422,
     "user": {
      "displayName": "Paula Vásquez H.",
      "photoUrl": "https://lh3.googleusercontent.com/a-/AOh14GgJUNawPfe0J41agMsUCwKAOgAzWX7zUOLCtayLFg=s64",
      "userId": "02019115936957150360"
     },
     "user_tz": 180
    },
    "id": "XJL-gRfnc7uh",
    "outputId": "2c9813f0-688c-48b2-a0b3-5d2d80beedc5"
   },
   "outputs": [],
   "source": [
    "print('Duración promedio (en minutos) de viaje por tipo de transporte (motorizado/no motorizado) - Dia Hábil')\n",
    "df = viajes_habiles.groupby([\"CLASIFICACION_SISBEN\", 'motorizado']).apply(lambda x: weighted_mean(x, 'duracion_minutos', 'PONDERADOR_CALIBRADO_VIAJES')).unstack()\n",
    "\n",
    "fig, ax = plt.subplots(figsize=(7,5))\n",
    "\n",
    "ax = sns.heatmap(df, annot=True)\n",
    "\n",
    "ax.set_title(\"Duración promedio de viaje por tipo de transporte (motorizado/no motorizado) - Día Hábil\")\n",
    "ax.set_xlabel(\"Modo de Transporte\")\n",
    "ax.set_ylabel(\"Clasificación SISBEN\")\n",
    "\n",
    "fig.tight_layout()"
   ]
  },
  {
   "cell_type": "markdown",
   "id": "YswJZTiHMVEc",
   "metadata": {
    "id": "YswJZTiHMVEc"
   },
   "source": [
    "En cuanto al tipo de transporte (motorizado/no motorizado), podemos ver que los viajes en transporte motorizado tienen la menor duración promedio, mientras que el transporte no motorizado tiene viajes con mayor duración promedio."
   ]
  },
  {
   "cell_type": "markdown",
   "id": "CmwQu0iPsMd9",
   "metadata": {
    "id": "CmwQu0iPsMd9"
   },
   "source": [
    "#### **¿Cuál es el tiempo promedio de viaje en hora punta de mañana?**"
   ]
  },
  {
   "cell_type": "markdown",
   "id": "hR_JMUepuZ-P",
   "metadata": {
    "id": "hR_JMUepuZ-P"
   },
   "source": [
    "Estos son los resultados para el promedio y mediana en minutos de viaje en hora punta de la mañana por modo de transporte, en días hábiles y no hábiles, por clasificador socioeconómico."
   ]
  },
  {
   "cell_type": "code",
   "execution_count": null,
   "id": "c3ddfb82",
   "metadata": {
    "colab": {
     "base_uri": "https://localhost:8080/"
    },
    "executionInfo": {
     "elapsed": 15,
     "status": "ok",
     "timestamp": 1633435600423,
     "user": {
      "displayName": "Paula Vásquez H.",
      "photoUrl": "https://lh3.googleusercontent.com/a-/AOh14GgJUNawPfe0J41agMsUCwKAOgAzWX7zUOLCtayLFg=s64",
      "userId": "02019115936957150360"
     },
     "user_tz": 180
    },
    "id": "c3ddfb82",
    "outputId": "3782ccdc-97c9-4dd8-cb10-f419b0f87479"
   },
   "outputs": [],
   "source": [
    "print('Duración promedio (en minutos) de viaje por modo en hora punta - Dia Hábil')\n",
    "df = viajes_habiles[viajes_habiles.PICO_HABIL=='Si'].groupby([\"CLASIFICACION_SISBEN\", 'MEDIO_PREDOMINANTE']).apply(lambda x: weighted_mean(x, 'duracion_minutos', 'PONDERADOR_CALIBRADO_VIAJES')).unstack()"
   ]
  },
  {
   "cell_type": "code",
   "execution_count": null,
   "id": "ZCcxffEkr5oT",
   "metadata": {
    "colab": {
     "base_uri": "https://localhost:8080/",
     "height": 437
    },
    "executionInfo": {
     "elapsed": 1532,
     "status": "ok",
     "timestamp": 1633435601946,
     "user": {
      "displayName": "Paula Vásquez H.",
      "photoUrl": "https://lh3.googleusercontent.com/a-/AOh14GgJUNawPfe0J41agMsUCwKAOgAzWX7zUOLCtayLFg=s64",
      "userId": "02019115936957150360"
     },
     "user_tz": 180
    },
    "id": "ZCcxffEkr5oT",
    "outputId": "c4c26991-e35b-4c7b-ce73-4374831b55ca"
   },
   "outputs": [],
   "source": [
    "fig, ax = plt.subplots(figsize=(10, 3))\n",
    "\n",
    "ax = sns.heatmap(df, annot=True)\n",
    "\n",
    "ax.set_title(\"Duración promedio de viaje hora punta mañana por modo - Día Hábil\")\n",
    "ax.set_xlabel(\"Modo de Transporte\")\n",
    "ax.set_ylabel(\"Clasificación SISBEN\")\n",
    "\n",
    "fig.tight_layout()"
   ]
  },
  {
   "cell_type": "code",
   "execution_count": null,
   "id": "c3fef3fd",
   "metadata": {
    "colab": {
     "base_uri": "https://localhost:8080/"
    },
    "executionInfo": {
     "elapsed": 18,
     "status": "ok",
     "timestamp": 1633435601947,
     "user": {
      "displayName": "Paula Vásquez H.",
      "photoUrl": "https://lh3.googleusercontent.com/a-/AOh14GgJUNawPfe0J41agMsUCwKAOgAzWX7zUOLCtayLFg=s64",
      "userId": "02019115936957150360"
     },
     "user_tz": 180
    },
    "id": "c3fef3fd",
    "outputId": "de3c2a19-2e66-4dfa-c612-ae0f57b89154"
   },
   "outputs": [],
   "source": [
    "print('Duración mediana (en minutos) de viaje por modo en hora punta - Dia Hábil')\n",
    "df = viajes_habiles[viajes_habiles.PICO_HABIL=='Si'].groupby([\"CLASIFICACION_SISBEN\", 'MEDIO_PREDOMINANTE']).apply(lambda x: weighted_median(x, 'duracion_minutos', 'PONDERADOR_CALIBRADO_VIAJES')).unstack()"
   ]
  },
  {
   "cell_type": "code",
   "execution_count": null,
   "id": "6yNeJM2UsOOH",
   "metadata": {
    "colab": {
     "base_uri": "https://localhost:8080/",
     "height": 437
    },
    "executionInfo": {
     "elapsed": 733,
     "status": "ok",
     "timestamp": 1633435602673,
     "user": {
      "displayName": "Paula Vásquez H.",
      "photoUrl": "https://lh3.googleusercontent.com/a-/AOh14GgJUNawPfe0J41agMsUCwKAOgAzWX7zUOLCtayLFg=s64",
      "userId": "02019115936957150360"
     },
     "user_tz": 180
    },
    "id": "6yNeJM2UsOOH",
    "outputId": "c0e52270-d6b0-4a2d-e749-dd5b2b11e907"
   },
   "outputs": [],
   "source": [
    "fig, ax = plt.subplots(figsize=(10, 3))\n",
    "\n",
    "ax = sns.heatmap(df, annot=True)\n",
    "\n",
    "ax.set_title(\"Duración mediana de viaje hora punta mañana por modo - Día Hábil\")\n",
    "ax.set_xlabel(\"Modo de Transporte\")\n",
    "ax.set_ylabel(\"Clasificación SISBEN\")\n",
    "\n",
    "fig.tight_layout()"
   ]
  },
  {
   "cell_type": "markdown",
   "id": "LdiCGFDE6SNO",
   "metadata": {
    "id": "LdiCGFDE6SNO"
   },
   "source": [
    "Independiente del tipo de día, los medios de transporte con tiempos de viaje en hora punta de mañana más altos corresponden a Intermunicipal, TCP-SITP y Transmilenio. Los viajes realizados como Peatón tienen las duraciones más cortas."
   ]
  },
  {
   "cell_type": "code",
   "execution_count": null,
   "id": "1eab253c",
   "metadata": {
    "colab": {
     "base_uri": "https://localhost:8080/"
    },
    "executionInfo": {
     "elapsed": 11,
     "status": "ok",
     "timestamp": 1633435602674,
     "user": {
      "displayName": "Paula Vásquez H.",
      "photoUrl": "https://lh3.googleusercontent.com/a-/AOh14GgJUNawPfe0J41agMsUCwKAOgAzWX7zUOLCtayLFg=s64",
      "userId": "02019115936957150360"
     },
     "user_tz": 180
    },
    "id": "1eab253c",
    "outputId": "ac59c2d1-f9dc-43db-cbdf-8f7492fc4708"
   },
   "outputs": [],
   "source": [
    "print('Duración promedio (en minutos) de viaje por tipo de transporte en hora punta - Dia Hábil')\n",
    "df = viajes_habiles[(viajes_habiles.PICO_HABIL=='Si')].groupby([\"CLASIFICACION_SISBEN\",'publico_privado']).apply(lambda x: weighted_mean(x, 'duracion_minutos', 'PONDERADOR_CALIBRADO_VIAJES')).unstack()"
   ]
  },
  {
   "cell_type": "code",
   "execution_count": null,
   "id": "VOwdN4U2sg3i",
   "metadata": {
    "colab": {
     "base_uri": "https://localhost:8080/",
     "height": 369
    },
    "executionInfo": {
     "elapsed": 648,
     "status": "ok",
     "timestamp": 1633435603318,
     "user": {
      "displayName": "Paula Vásquez H.",
      "photoUrl": "https://lh3.googleusercontent.com/a-/AOh14GgJUNawPfe0J41agMsUCwKAOgAzWX7zUOLCtayLFg=s64",
      "userId": "02019115936957150360"
     },
     "user_tz": 180
    },
    "id": "VOwdN4U2sg3i",
    "outputId": "e6194e23-89fe-4d61-af91-29169226388c"
   },
   "outputs": [],
   "source": [
    "fig, ax = plt.subplots(figsize=(7,5))\n",
    "\n",
    "ax = sns.heatmap(df, annot=True)\n",
    "\n",
    "ax.set_title(\"Duración promedio de viaje hora punta mañana por tipo de transporte - Día Hábil\")\n",
    "ax.set_xlabel(\"Modo de Transporte\")\n",
    "ax.set_ylabel(\"Clasificación SISBEN\")\n",
    "\n",
    "fig.tight_layout()"
   ]
  },
  {
   "cell_type": "code",
   "execution_count": null,
   "id": "bdb00593",
   "metadata": {
    "colab": {
     "base_uri": "https://localhost:8080/"
    },
    "executionInfo": {
     "elapsed": 14,
     "status": "ok",
     "timestamp": 1633435603319,
     "user": {
      "displayName": "Paula Vásquez H.",
      "photoUrl": "https://lh3.googleusercontent.com/a-/AOh14GgJUNawPfe0J41agMsUCwKAOgAzWX7zUOLCtayLFg=s64",
      "userId": "02019115936957150360"
     },
     "user_tz": 180
    },
    "id": "bdb00593",
    "outputId": "d718c6c0-7aba-4b94-cd91-04cac1edc4e6"
   },
   "outputs": [],
   "source": [
    "print('Duración mediana (en minutos) de viaje por tipo de transporte en hora punta - Dia Hábil')\n",
    "df = viajes_habiles[(viajes_habiles.PICO_HABIL=='Si')].groupby([\"CLASIFICACION_SISBEN\", 'publico_privado']).apply(lambda x: weighted_median(x, 'duracion_minutos', 'PONDERADOR_CALIBRADO_VIAJES')).unstack()"
   ]
  },
  {
   "cell_type": "code",
   "execution_count": null,
   "id": "mUSGMONRsqGo",
   "metadata": {
    "colab": {
     "base_uri": "https://localhost:8080/",
     "height": 369
    },
    "executionInfo": {
     "elapsed": 1006,
     "status": "ok",
     "timestamp": 1633435604319,
     "user": {
      "displayName": "Paula Vásquez H.",
      "photoUrl": "https://lh3.googleusercontent.com/a-/AOh14GgJUNawPfe0J41agMsUCwKAOgAzWX7zUOLCtayLFg=s64",
      "userId": "02019115936957150360"
     },
     "user_tz": 180
    },
    "id": "mUSGMONRsqGo",
    "outputId": "8a9cbc01-0e4d-412d-f83d-b1fbc83f9482"
   },
   "outputs": [],
   "source": [
    "fig, ax = plt.subplots(figsize=(7,5))\n",
    "\n",
    "ax = sns.heatmap(df, annot=True)\n",
    "\n",
    "ax.set_title(\"Duración mediana de viaje hora punta mañana por tipo de transporte - Día Hábil\")\n",
    "ax.set_xlabel(\"Modo de Transporte\")\n",
    "ax.set_ylabel(\"Clasificación SISBEN\")\n",
    "\n",
    "fig.tight_layout()"
   ]
  },
  {
   "cell_type": "markdown",
   "id": "In6jrjpT7SDO",
   "metadata": {
    "id": "In6jrjpT7SDO"
   },
   "source": [
    "En ambos tipos de días, los viajes realizados en transporte público en hora punta de mañana presentan la mayor duración, en contraste con los realizados en transporte privado, que tienen duraciones más cortas."
   ]
  },
  {
   "cell_type": "markdown",
   "id": "WocPEUG4StCE",
   "metadata": {
    "id": "WocPEUG4StCE"
   },
   "source": [
    "#### **¿Cuál es el tiempo de viaje en transporte público en hora punta de mañana?**"
   ]
  },
  {
   "cell_type": "markdown",
   "id": "Z4KWl_YWS2kU",
   "metadata": {
    "id": "Z4KWl_YWS2kU"
   },
   "source": [
    "A continuación, se presentan los resultados para duración promedio de viaje en hora punta de mañana en transporte público, en días hábiles y no hábiles, por clasificador socioeconómico."
   ]
  },
  {
   "cell_type": "code",
   "execution_count": null,
   "id": "QyvupJ4HS3fZ",
   "metadata": {
    "colab": {
     "base_uri": "https://localhost:8080/"
    },
    "executionInfo": {
     "elapsed": 14,
     "status": "ok",
     "timestamp": 1633435604320,
     "user": {
      "displayName": "Paula Vásquez H.",
      "photoUrl": "https://lh3.googleusercontent.com/a-/AOh14GgJUNawPfe0J41agMsUCwKAOgAzWX7zUOLCtayLFg=s64",
      "userId": "02019115936957150360"
     },
     "user_tz": 180
    },
    "id": "QyvupJ4HS3fZ",
    "outputId": "cdf8d332-a150-4592-a1d8-840960fb4563"
   },
   "outputs": [],
   "source": [
    "print('Duración promedio (en minutos) de viaje en hora punta en transporte público - Dia Hábil')\n",
    "mask = (viajes_habiles.publico_privado=='Público')\n",
    "df = viajes_habiles[viajes_habiles.PICO_HABIL=='Si'][mask].groupby([\"CLASIFICACION_SISBEN\", 'MEDIO_PREDOMINANTE']).apply(lambda x: weighted_mean(x, 'duracion_minutos', 'PONDERADOR_CALIBRADO_VIAJES')).unstack()"
   ]
  },
  {
   "cell_type": "code",
   "execution_count": null,
   "id": "ewUjPhotmjdV",
   "metadata": {
    "colab": {
     "base_uri": "https://localhost:8080/",
     "height": 369
    },
    "executionInfo": {
     "elapsed": 1048,
     "status": "ok",
     "timestamp": 1633435605361,
     "user": {
      "displayName": "Paula Vásquez H.",
      "photoUrl": "https://lh3.googleusercontent.com/a-/AOh14GgJUNawPfe0J41agMsUCwKAOgAzWX7zUOLCtayLFg=s64",
      "userId": "02019115936957150360"
     },
     "user_tz": 180
    },
    "id": "ewUjPhotmjdV",
    "outputId": "1a178097-8f13-4415-cd20-80956a0cd8e7"
   },
   "outputs": [],
   "source": [
    "fig, ax = plt.subplots(figsize=(7, 5))\n",
    "\n",
    "ax = sns.heatmap(df, annot=True)\n",
    "\n",
    "ax.set_title(\"Duración promedio (en minutos) de viaje en hora punta en transporte público - Dia Hábil\")\n",
    "ax.set_xlabel(\"Modo de Transporte\")\n",
    "ax.set_ylabel(\"Clasificación SISBEN\")\n",
    "\n",
    "fig.tight_layout()"
   ]
  },
  {
   "cell_type": "code",
   "execution_count": null,
   "id": "p8zC3jrYS9KL",
   "metadata": {
    "colab": {
     "base_uri": "https://localhost:8080/"
    },
    "executionInfo": {
     "elapsed": 22,
     "status": "ok",
     "timestamp": 1633435605363,
     "user": {
      "displayName": "Paula Vásquez H.",
      "photoUrl": "https://lh3.googleusercontent.com/a-/AOh14GgJUNawPfe0J41agMsUCwKAOgAzWX7zUOLCtayLFg=s64",
      "userId": "02019115936957150360"
     },
     "user_tz": 180
    },
    "id": "p8zC3jrYS9KL",
    "outputId": "cbc08bc3-5767-4195-bf7f-60f6df0de070"
   },
   "outputs": [],
   "source": [
    "print('Duración mediana (en minutos) de viaje en hora punta en transporte público - Dia Hábil')\n",
    "mask = (viajes_habiles.publico_privado=='Público')\n",
    "df = viajes_habiles[viajes_habiles.PICO_HABIL=='Si'][mask].groupby([\"CLASIFICACION_SISBEN\", 'MEDIO_PREDOMINANTE']).apply(lambda x: weighted_median(x, 'duracion_minutos', 'PONDERADOR_CALIBRADO_VIAJES')).unstack()"
   ]
  },
  {
   "cell_type": "code",
   "execution_count": null,
   "id": "3rzzzTChmmf_",
   "metadata": {
    "colab": {
     "base_uri": "https://localhost:8080/",
     "height": 369
    },
    "executionInfo": {
     "elapsed": 16,
     "status": "ok",
     "timestamp": 1633435605364,
     "user": {
      "displayName": "Paula Vásquez H.",
      "photoUrl": "https://lh3.googleusercontent.com/a-/AOh14GgJUNawPfe0J41agMsUCwKAOgAzWX7zUOLCtayLFg=s64",
      "userId": "02019115936957150360"
     },
     "user_tz": 180
    },
    "id": "3rzzzTChmmf_",
    "outputId": "8ea9b5c4-9ba7-4de0-ff8c-bbb4ce4c50de"
   },
   "outputs": [],
   "source": [
    "fig, ax = plt.subplots(figsize=(7, 5))\n",
    "\n",
    "ax = sns.heatmap(df, annot=True)\n",
    "\n",
    "ax.set_title(\"Duración mediana (en minutos) de viaje en hora punta en transporte público - Dia Hábil\")\n",
    "ax.set_xlabel(\"Modo de Transporte\")\n",
    "ax.set_ylabel(\"Clasificación SISBEN\")\n",
    "\n",
    "fig.tight_layout()"
   ]
  },
  {
   "cell_type": "markdown",
   "id": "arL9IbB07eTG",
   "metadata": {
    "id": "arL9IbB07eTG"
   },
   "source": [
    "Los viajes realizados en transporte público en hora punta de mañana son más largos cuando se realizan en Transmilenio, mientras que los más cortos son los realizados en Alimentador para días hábiles y no hábiles."
   ]
  },
  {
   "cell_type": "markdown",
   "id": "0cuVioNGuNFb",
   "metadata": {
    "id": "0cuVioNGuNFb"
   },
   "source": [
    "#### **¿Cuál es el tiempo promedio de viaje al trabajo en transporte público?**"
   ]
  },
  {
   "cell_type": "markdown",
   "id": "lwkztkTNQ1aT",
   "metadata": {
    "id": "lwkztkTNQ1aT"
   },
   "source": [
    "A continuación, se presentan los resultados de tiempo promedio de viaje al trabajo en transporte público por modo en días hábiles y no hábiles, por clasificador socioeconómico."
   ]
  },
  {
   "cell_type": "code",
   "execution_count": null,
   "id": "437706df",
   "metadata": {
    "colab": {
     "base_uri": "https://localhost:8080/"
    },
    "executionInfo": {
     "elapsed": 15,
     "status": "ok",
     "timestamp": 1633435605365,
     "user": {
      "displayName": "Paula Vásquez H.",
      "photoUrl": "https://lh3.googleusercontent.com/a-/AOh14GgJUNawPfe0J41agMsUCwKAOgAzWX7zUOLCtayLFg=s64",
      "userId": "02019115936957150360"
     },
     "user_tz": 180
    },
    "id": "437706df",
    "outputId": "02852a6e-9967-4c40-fbb7-5e2b5a0147e0"
   },
   "outputs": [],
   "source": [
    "print('Duración promedio (en minutos) de viaje al trabajo en transporte público - Dia Hábil')\n",
    "mask = (viajes_habiles.publico_privado=='Público') & (viajes_habiles.MOTIVOVIAJE=='Trabajar')\n",
    "df = viajes_habiles[mask].groupby([\"CLASIFICACION_SISBEN\", \"MEDIO_PREDOMINANTE\"]).apply(lambda x: weighted_mean(x, 'duracion_minutos', 'PONDERADOR_CALIBRADO_VIAJES')).unstack()"
   ]
  },
  {
   "cell_type": "code",
   "execution_count": null,
   "id": "mlo8Mt8uJpGB",
   "metadata": {
    "colab": {
     "base_uri": "https://localhost:8080/",
     "height": 369
    },
    "executionInfo": {
     "elapsed": 693,
     "status": "ok",
     "timestamp": 1633435606049,
     "user": {
      "displayName": "Paula Vásquez H.",
      "photoUrl": "https://lh3.googleusercontent.com/a-/AOh14GgJUNawPfe0J41agMsUCwKAOgAzWX7zUOLCtayLFg=s64",
      "userId": "02019115936957150360"
     },
     "user_tz": 180
    },
    "id": "mlo8Mt8uJpGB",
    "outputId": "e9d3570f-8da6-4008-9c6f-aa02cc7afc27"
   },
   "outputs": [],
   "source": [
    "fig, ax = plt.subplots(figsize=(7, 5))\n",
    "\n",
    "ax = sns.heatmap(df, annot=True)\n",
    "\n",
    "ax.set_title(\"Duración promedio (en minutos) de viaje al trabajo en transporte público - Dia Hábil\")\n",
    "ax.set_xlabel(\"Modo de Transporte\")\n",
    "ax.set_ylabel(\"Clasificación SISBEN\")\n",
    "\n",
    "fig.tight_layout()"
   ]
  },
  {
   "cell_type": "code",
   "execution_count": null,
   "id": "0a77ac1a",
   "metadata": {
    "colab": {
     "base_uri": "https://localhost:8080/"
    },
    "executionInfo": {
     "elapsed": 13,
     "status": "ok",
     "timestamp": 1633435606050,
     "user": {
      "displayName": "Paula Vásquez H.",
      "photoUrl": "https://lh3.googleusercontent.com/a-/AOh14GgJUNawPfe0J41agMsUCwKAOgAzWX7zUOLCtayLFg=s64",
      "userId": "02019115936957150360"
     },
     "user_tz": 180
    },
    "id": "0a77ac1a",
    "outputId": "4b934970-b09c-4208-e0d2-a776fb219e09"
   },
   "outputs": [],
   "source": [
    "print('Duración mediana (en minutos) de viaje al trabajo en transporte público - Dia Hábil')\n",
    "mask = (viajes_habiles.publico_privado=='Público') & (viajes_habiles.MOTIVOVIAJE=='Trabajar')\n",
    "df = viajes_habiles[mask].groupby([\"CLASIFICACION_SISBEN\", 'MEDIO_PREDOMINANTE']).apply(lambda x: weighted_median(x, 'duracion_minutos', 'PONDERADOR_CALIBRADO_VIAJES')).unstack()"
   ]
  },
  {
   "cell_type": "code",
   "execution_count": null,
   "id": "i-9S1R9cRQAs",
   "metadata": {
    "colab": {
     "base_uri": "https://localhost:8080/",
     "height": 369
    },
    "executionInfo": {
     "elapsed": 754,
     "status": "ok",
     "timestamp": 1633435606798,
     "user": {
      "displayName": "Paula Vásquez H.",
      "photoUrl": "https://lh3.googleusercontent.com/a-/AOh14GgJUNawPfe0J41agMsUCwKAOgAzWX7zUOLCtayLFg=s64",
      "userId": "02019115936957150360"
     },
     "user_tz": 180
    },
    "id": "i-9S1R9cRQAs",
    "outputId": "1afb2a05-2c01-439a-f66e-35fa35be68f8"
   },
   "outputs": [],
   "source": [
    "fig, ax = plt.subplots(figsize=(7, 5))\n",
    "\n",
    "ax = sns.heatmap(df, annot=True)\n",
    "\n",
    "ax.set_title(\"Duración mediana (en minutos) de viaje al trabajo en transporte público - Dia Hábil\")\n",
    "ax.set_xlabel(\"Modo de Transporte\")\n",
    "ax.set_ylabel(\"Clasificación SISBEN\")\n",
    "\n",
    "fig.tight_layout()"
   ]
  },
  {
   "cell_type": "markdown",
   "id": "NCq9g85Q7q8W",
   "metadata": {
    "id": "NCq9g85Q7q8W"
   },
   "source": [
    "Los tiempos de viaje al trabajo en transporte público son similares entre sí al comparar por modos, con Transmilenio registrando viajes levemente más largos que los otros modos, y destacan los viajes en Alimentador para el grupo 3 como los viajes más largos."
   ]
  },
  {
   "cell_type": "markdown",
   "id": "dadc64ab",
   "metadata": {
    "id": "dadc64ab"
   },
   "source": [
    "### Parte III: Indicadores de Distancia de Viajes\n"
   ]
  },
  {
   "cell_type": "markdown",
   "id": "lNzc1LLXnB-q",
   "metadata": {
    "id": "lNzc1LLXnB-q"
   },
   "source": [
    "En esta sección, se presentarán los indicadores de distancia de viajes durante días hábiles."
   ]
  },
  {
   "cell_type": "markdown",
   "id": "IdM9y-kCu-j_",
   "metadata": {
    "id": "IdM9y-kCu-j_"
   },
   "source": [
    "#### **Distancia de viajes en auto (histograma de viajes por km)**"
   ]
  },
  {
   "cell_type": "code",
   "execution_count": null,
   "id": "88138694",
   "metadata": {
    "colab": {
     "base_uri": "https://localhost:8080/",
     "height": 282
    },
    "executionInfo": {
     "elapsed": 11896,
     "status": "ok",
     "timestamp": 1633435618683,
     "user": {
      "displayName": "Paula Vásquez H.",
      "photoUrl": "https://lh3.googleusercontent.com/a-/AOh14GgJUNawPfe0J41agMsUCwKAOgAzWX7zUOLCtayLFg=s64",
      "userId": "02019115936957150360"
     },
     "user_tz": 180
    },
    "id": "88138694",
    "outputId": "58e9d156-d8fe-44f2-891d-6124c53f1af3"
   },
   "outputs": [],
   "source": [
    "from matplotlib.pyplot import hist\n",
    "print('Distancia de viajes en auto - Día Hábil')\n",
    "mask = (viajes_habiles.MEDIO_PREDOMINANTE == 'AUTO') & (viajes_habiles.distancia_manhattan<100000)\n",
    "df = viajes_habiles[mask].groupby('distancia_manhattan').sum()[['PONDERADOR_CALIBRADO_VIAJES']].reset_index().sort_values('distancia_manhattan')\n",
    "df.describe()\n",
    "hist(df.distancia_manhattan, weights=df.PONDERADOR_CALIBRADO_VIAJES, bins=50)\n",
    "plt.axvline(viajes_habiles[mask].groupby('ID_ENCUESTA').apply(lambda x: weighted_mean(x, 'distancia_manhattan', 'PONDERADOR_CALIBRADO_VIAJES')).mean(), color='green', linestyle='dashed', linewidth=1)\n",
    "plt.axvline(viajes_habiles[mask].groupby('ID_ENCUESTA').apply(lambda x: weighted_median(x, 'distancia_manhattan', 'PONDERADOR_CALIBRADO_VIAJES')).median(), color='red', linestyle='dashed', linewidth=1)\n",
    "sns.despine()\n",
    "#Verde Promedio\n",
    "#Rojo Mediana"
   ]
  },
  {
   "cell_type": "code",
   "execution_count": null,
   "id": "cdYBKXLMvrMQ",
   "metadata": {
    "colab": {
     "base_uri": "https://localhost:8080/",
     "height": 285
    },
    "executionInfo": {
     "elapsed": 2680,
     "status": "ok",
     "timestamp": 1633435621358,
     "user": {
      "displayName": "Paula Vásquez H.",
      "photoUrl": "https://lh3.googleusercontent.com/a-/AOh14GgJUNawPfe0J41agMsUCwKAOgAzWX7zUOLCtayLFg=s64",
      "userId": "02019115936957150360"
     },
     "user_tz": 180
    },
    "id": "cdYBKXLMvrMQ",
    "outputId": "b2f860c0-783e-4e9f-f4a1-18fb5484e7a0"
   },
   "outputs": [],
   "source": [
    "print('Distancia de viajes en auto - Día No Hábil')\n",
    "mask = (viajes_nohabiles.MEDIO_PREDOMINANTE == 'AUTO') & (viajes_nohabiles.distancia_manhattan<100000)\n",
    "df = viajes_nohabiles[mask].groupby('distancia_manhattan').sum()[['PONDERADOR_CALIBRADO_VIAJES']].reset_index().sort_values('distancia_manhattan')\n",
    "hist(df.distancia_manhattan, weights=df.PONDERADOR_CALIBRADO_VIAJES, bins=50)\n",
    "plt.axvline(viajes_nohabiles[mask].groupby('ID_ENCUESTA').apply(lambda x: weighted_mean(x, 'distancia_manhattan', 'PONDERADOR_CALIBRADO_VIAJES')).mean(), color='green', linestyle='dashed', linewidth=1)\n",
    "plt.axvline(viajes_nohabiles[mask].groupby('ID_ENCUESTA').apply(lambda x: weighted_median(x, 'distancia_manhattan', 'PONDERADOR_CALIBRADO_VIAJES')).median(), color='red', linestyle='dashed', linewidth=1)\n",
    "sns.despine()\n",
    "#Verde Promedio\n",
    "#Rojo Mediana"
   ]
  },
  {
   "cell_type": "markdown",
   "id": "2-lBeEH-vYc_",
   "metadata": {
    "id": "2-lBeEH-vYc_"
   },
   "source": [
    "#### **Distancia de viajes en transporte público**"
   ]
  },
  {
   "cell_type": "code",
   "execution_count": null,
   "id": "04c47cb1",
   "metadata": {
    "colab": {
     "base_uri": "https://localhost:8080/",
     "height": 282
    },
    "executionInfo": {
     "elapsed": 38260,
     "status": "ok",
     "timestamp": 1633435659614,
     "user": {
      "displayName": "Paula Vásquez H.",
      "photoUrl": "https://lh3.googleusercontent.com/a-/AOh14GgJUNawPfe0J41agMsUCwKAOgAzWX7zUOLCtayLFg=s64",
      "userId": "02019115936957150360"
     },
     "user_tz": 180
    },
    "id": "04c47cb1",
    "outputId": "34c29aed-28bc-467f-887e-e72960fa66d5"
   },
   "outputs": [],
   "source": [
    "print('Distancia de viajes en transporte público - Día Hábil')\n",
    "mask = (viajes_habiles.publico_privado == 'Público') & (viajes_habiles.distancia_manhattan<100000)\n",
    "df = viajes_habiles[mask].groupby('distancia_manhattan').sum()[['PONDERADOR_CALIBRADO_VIAJES']].reset_index().sort_values('distancia_manhattan')\n",
    "hist(df.distancia_manhattan, weights=df.PONDERADOR_CALIBRADO_VIAJES, bins=50)\n",
    "plt.axvline(viajes_habiles[mask].groupby('ID_ENCUESTA').apply(lambda x: weighted_mean(x, 'distancia_manhattan', 'PONDERADOR_CALIBRADO_VIAJES')).mean(), color='green', linestyle='dashed', linewidth=1)\n",
    "plt.axvline(viajes_habiles[mask].groupby('ID_ENCUESTA').apply(lambda x: weighted_median(x, 'distancia_manhattan', 'PONDERADOR_CALIBRADO_VIAJES')).median(), color='red', linestyle='dashed', linewidth=1)\n",
    "sns.despine()\n",
    "#Verde Promedio\n",
    "#Rojo Mediana"
   ]
  },
  {
   "cell_type": "code",
   "execution_count": null,
   "id": "y3H9Mpwy9S-J",
   "metadata": {
    "colab": {
     "base_uri": "https://localhost:8080/",
     "height": 282
    },
    "executionInfo": {
     "elapsed": 5715,
     "status": "ok",
     "timestamp": 1633435665324,
     "user": {
      "displayName": "Paula Vásquez H.",
      "photoUrl": "https://lh3.googleusercontent.com/a-/AOh14GgJUNawPfe0J41agMsUCwKAOgAzWX7zUOLCtayLFg=s64",
      "userId": "02019115936957150360"
     },
     "user_tz": 180
    },
    "id": "y3H9Mpwy9S-J",
    "outputId": "8107b33b-8f24-4c74-f1c2-0b35e6098240"
   },
   "outputs": [],
   "source": [
    "print('Distancia de viajes en transporte público - Día No Hábil')\n",
    "mask = (viajes_nohabiles.publico_privado == 'Público') & (viajes_nohabiles.distancia_manhattan<100000)\n",
    "df = viajes_nohabiles[mask].groupby('distancia_manhattan').sum()[['PONDERADOR_CALIBRADO_VIAJES']].reset_index().sort_values('distancia_manhattan')\n",
    "hist(df.distancia_manhattan, weights=df.PONDERADOR_CALIBRADO_VIAJES, bins=50)\n",
    "plt.axvline(viajes_nohabiles[mask].groupby('ID_ENCUESTA').apply(lambda x: weighted_mean(x, 'distancia_manhattan', 'PONDERADOR_CALIBRADO_VIAJES')).mean(), color='green', linestyle='dashed', linewidth=1)\n",
    "plt.axvline(viajes_nohabiles[mask].groupby('ID_ENCUESTA').apply(lambda x: weighted_median(x, 'distancia_manhattan', 'PONDERADOR_CALIBRADO_VIAJES')).median(), color='red', linestyle='dashed', linewidth=1)\n",
    "sns.despine()\n",
    "#Verde Promedio\n",
    "#Rojo Mediana"
   ]
  },
  {
   "cell_type": "markdown",
   "id": "PfffZ7ZZ-soo",
   "metadata": {
    "id": "PfffZ7ZZ-soo"
   },
   "source": [
    "#### **Distancia de viajes por motivo estudio**"
   ]
  },
  {
   "cell_type": "code",
   "execution_count": null,
   "id": "6f9adcbd",
   "metadata": {
    "colab": {
     "base_uri": "https://localhost:8080/",
     "height": 293
    },
    "executionInfo": {
     "elapsed": 26148,
     "status": "ok",
     "timestamp": 1633435691466,
     "user": {
      "displayName": "Paula Vásquez H.",
      "photoUrl": "https://lh3.googleusercontent.com/a-/AOh14GgJUNawPfe0J41agMsUCwKAOgAzWX7zUOLCtayLFg=s64",
      "userId": "02019115936957150360"
     },
     "user_tz": 180
    },
    "id": "6f9adcbd",
    "outputId": "dc54bbf4-8d13-4104-b94a-7a5f4eaf3a61"
   },
   "outputs": [],
   "source": [
    "print('Distancia de viajes con motivo de estudio')\n",
    "mask = (viajes_personas.MOTIVOVIAJE == 'Estudiar') & (viajes_personas.distancia_manhattan<100000)\n",
    "df = viajes_personas[mask].groupby('distancia_manhattan').sum()[['PONDERADOR_CALIBRADO_VIAJES']].reset_index().sort_values('distancia_manhattan')\n",
    "hist(df.distancia_manhattan, weights=df.PONDERADOR_CALIBRADO_VIAJES, bins=50)\n",
    "plt.axvline(viajes_personas[mask].groupby('ID_ENCUESTA').apply(lambda x: weighted_mean(x, 'distancia_manhattan', 'PONDERADOR_CALIBRADO_VIAJES')).mean(), color='green', linestyle='dashed', linewidth=1)\n",
    "plt.axvline(viajes_personas[mask].groupby('ID_ENCUESTA').apply(lambda x: weighted_median(x, 'distancia_manhattan', 'PONDERADOR_CALIBRADO_VIAJES')).median(), color='red', linestyle='dashed', linewidth=1)\n",
    "sns.despine()\n",
    "#Verde Promedio\n",
    "#Rojo Mediana"
   ]
  },
  {
   "cell_type": "markdown",
   "id": "-jJrOlEl-uLU",
   "metadata": {
    "id": "-jJrOlEl-uLU"
   },
   "source": [
    "#### **Distancia de viajes por motivo trabajo**"
   ]
  },
  {
   "cell_type": "code",
   "execution_count": null,
   "id": "ea9d8109",
   "metadata": {
    "colab": {
     "base_uri": "https://localhost:8080/",
     "height": 293
    },
    "executionInfo": {
     "elapsed": 48148,
     "status": "ok",
     "timestamp": 1633435739610,
     "user": {
      "displayName": "Paula Vásquez H.",
      "photoUrl": "https://lh3.googleusercontent.com/a-/AOh14GgJUNawPfe0J41agMsUCwKAOgAzWX7zUOLCtayLFg=s64",
      "userId": "02019115936957150360"
     },
     "user_tz": 180
    },
    "id": "ea9d8109",
    "outputId": "ebfc3bf8-a250-4279-f75e-9c226b7e387c"
   },
   "outputs": [],
   "source": [
    "print('Distancia de viajes con motivo de trabajo')\n",
    "mask = (viajes_personas.MOTIVOVIAJE == 'Trabajar') & (viajes_personas.distancia_manhattan<100000)\n",
    "df = viajes_personas[mask].groupby('distancia_manhattan').sum()[['PONDERADOR_CALIBRADO_VIAJES']].reset_index().sort_values('distancia_manhattan')\n",
    "hist(df.distancia_manhattan, weights=df.PONDERADOR_CALIBRADO_VIAJES, bins=50)\n",
    "plt.axvline(viajes_personas[mask].groupby('ID_ENCUESTA').apply(lambda x: weighted_mean(x, 'distancia_manhattan', 'PONDERADOR_CALIBRADO_VIAJES')).mean(), color='green', linestyle='dashed', linewidth=1)\n",
    "plt.axvline(viajes_personas[mask].groupby('ID_ENCUESTA').apply(lambda x: weighted_median(x, 'distancia_manhattan', 'PONDERADOR_CALIBRADO_VIAJES')).median(), color='red', linestyle='dashed', linewidth=1)\n",
    "sns.despine()\n",
    "#Verde Promedio\n",
    "#Rojo Mediana"
   ]
  },
  {
   "cell_type": "markdown",
   "id": "isY_bo3Y-xRh",
   "metadata": {
    "id": "isY_bo3Y-xRh"
   },
   "source": [
    "#### **Proporción de viajes intrazonales versus interzonales**"
   ]
  },
  {
   "cell_type": "code",
   "execution_count": null,
   "id": "9d567b6e",
   "metadata": {
    "colab": {
     "base_uri": "https://localhost:8080/",
     "height": 1000
    },
    "executionInfo": {
     "elapsed": 23,
     "status": "ok",
     "timestamp": 1633435739612,
     "user": {
      "displayName": "Paula Vásquez H.",
      "photoUrl": "https://lh3.googleusercontent.com/a-/AOh14GgJUNawPfe0J41agMsUCwKAOgAzWX7zUOLCtayLFg=s64",
      "userId": "02019115936957150360"
     },
     "user_tz": 180
    },
    "id": "9d567b6e",
    "outputId": "b3747e82-ce77-4652-d702-533d63d43e92"
   },
   "outputs": [],
   "source": [
    "print('% de viajes Inter e Intra zonales')\n",
    "df = viajes_personas.groupby(['MOTIVOVIAJE','SEXO','Intra_Inter']).sum()['PONDERADOR_CALIBRADO_VIAJES'].unstack()\n",
    "df.div(df.sum(axis=1), axis=0)"
   ]
  },
  {
   "cell_type": "markdown",
   "id": "q9zqA89yipJO",
   "metadata": {
    "id": "q9zqA89yipJO"
   },
   "source": [
    "#### **¿Dónde se concentran las personas que utilizan cada modo de transporte en la ciudad para distintos propósitos?**"
   ]
  },
  {
   "cell_type": "code",
   "execution_count": null,
   "id": "f1e6fd53",
   "metadata": {
    "colab": {
     "base_uri": "https://localhost:8080/"
    },
    "executionInfo": {
     "elapsed": 449,
     "status": "ok",
     "timestamp": 1633435740052,
     "user": {
      "displayName": "Paula Vásquez H.",
      "photoUrl": "https://lh3.googleusercontent.com/a-/AOh14GgJUNawPfe0J41agMsUCwKAOgAzWX7zUOLCtayLFg=s64",
      "userId": "02019115936957150360"
     },
     "user_tz": 180
    },
    "id": "f1e6fd53",
    "outputId": "0cfb1bcc-93fb-42ab-a116-f3306ca060ae",
    "scrolled": true
   },
   "outputs": [],
   "source": [
    "from aves.features.geo import clip_area_geodataframe\n",
    "bbox = [-74.4189,4.3612,-73.8201,5.0477]\n",
    "\n",
    "zonas_en_caja = clip_area_geodataframe(city_shp.to_crs('epsg:4686'), bbox)\n",
    "#zonas_en_caja.plot()"
   ]
  },
  {
   "cell_type": "code",
   "execution_count": null,
   "id": "828ab599",
   "metadata": {
    "id": "828ab599"
   },
   "outputs": [],
   "source": [
    "bounds = zonas_en_caja.to_crs('EPSG:4686').total_bounds"
   ]
  },
  {
   "cell_type": "code",
   "execution_count": null,
   "id": "06a397af",
   "metadata": {
    "id": "06a397af"
   },
   "outputs": [],
   "source": [
    "import contextily as cx\n",
    "\n",
    "scl_img, scl_ext = cx.bounds2raster(bounds[0], bounds[1], bounds[2], bounds[3], \n",
    "    \"bogota_toner_12.tif\",\n",
    "    ll=True,\n",
    "    source=cx.providers.Stamen.TonerBackground,\n",
    "    zoom=12,\n",
    ")"
   ]
  },
  {
   "cell_type": "code",
   "execution_count": null,
   "id": "7k8etI9UMZnY",
   "metadata": {
    "id": "7k8etI9UMZnY"
   },
   "outputs": [],
   "source": [
    "from aves.features.geo import to_point_geodataframe"
   ]
  },
  {
   "cell_type": "code",
   "execution_count": null,
   "id": "QeQyiMRo4kQw",
   "metadata": {
    "id": "QeQyiMRo4kQw"
   },
   "outputs": [],
   "source": [
    "origenes_viajes = to_point_geodataframe(viajes_personas, 'LONGITUD_ORIGEN' , 'LATITUD_ORIGEN', crs='epsg:4686')\n",
    "destinos_viajes = to_point_geodataframe(viajes_personas, 'LONGITUD_DESTINO', 'LATITUD_DESTINO', crs='epsg:4686')"
   ]
  },
  {
   "cell_type": "code",
   "execution_count": null,
   "id": "sh7ZaMEIn9EW",
   "metadata": {
    "id": "sh7ZaMEIn9EW"
   },
   "outputs": [],
   "source": [
    "city_shp = city_shp.to_crs(origenes_viajes.crs)"
   ]
  },
  {
   "cell_type": "code",
   "execution_count": null,
   "id": "vcePZlcotnNR",
   "metadata": {
    "id": "vcePZlcotnNR"
   },
   "outputs": [],
   "source": [
    "filter_out = [819,820,821,812,814,811,801,800,810,809,823,824,818,822,796]"
   ]
  },
  {
   "cell_type": "code",
   "execution_count": null,
   "id": "77LYWS0U8SAf",
   "metadata": {
    "colab": {
     "base_uri": "https://localhost:8080/"
    },
    "executionInfo": {
     "elapsed": 33,
     "status": "ok",
     "timestamp": 1633435760183,
     "user": {
      "displayName": "Paula Vásquez H.",
      "photoUrl": "https://lh3.googleusercontent.com/a-/AOh14GgJUNawPfe0J41agMsUCwKAOgAzWX7zUOLCtayLFg=s64",
      "userId": "02019115936957150360"
     },
     "user_tz": 180
    },
    "id": "77LYWS0U8SAf",
    "outputId": "ad191fb3-e636-4b9e-ffee-6bdedc13b001"
   },
   "outputs": [],
   "source": [
    "city_shp_filt = city_shp[~city_shp.Zona_Num_N.isin(filter_out)].to_crs(origenes_viajes.crs)\n",
    "city_shp_filt.shape"
   ]
  },
  {
   "cell_type": "code",
   "execution_count": null,
   "id": "vrqIThp_49Oh",
   "metadata": {
    "id": "vrqIThp_49Oh"
   },
   "outputs": [],
   "source": [
    "from aves.features.geo import clip_point_geodataframe\n",
    "\n",
    "origenes_viajes = origenes_viajes[(origenes_viajes['ID_ENCUESTA'].isin(destinos_viajes['ID_ENCUESTA']))]\n",
    "origenes_viajes = clip_point_geodataframe(origenes_viajes, zonas_en_caja.total_bounds)\n",
    "destinos_viajes = destinos_viajes[(destinos_viajes['ID_ENCUESTA'].isin(origenes_viajes['ID_ENCUESTA']))]\n",
    "destinos_viajes = clip_point_geodataframe(destinos_viajes, zonas_en_caja.total_bounds)"
   ]
  },
  {
   "cell_type": "code",
   "execution_count": null,
   "id": "7kxtSdcFtCSz",
   "metadata": {
    "colab": {
     "base_uri": "https://localhost:8080/",
     "height": 911
    },
    "executionInfo": {
     "elapsed": 14628,
     "status": "ok",
     "timestamp": 1633435776626,
     "user": {
      "displayName": "Paula Vásquez H.",
      "photoUrl": "https://lh3.googleusercontent.com/a-/AOh14GgJUNawPfe0J41agMsUCwKAOgAzWX7zUOLCtayLFg=s64",
      "userId": "02019115936957150360"
     },
     "user_tz": 180
    },
    "id": "7kxtSdcFtCSz",
    "outputId": "7cbd3398-774e-4b22-80c4-b55222e18a09"
   },
   "outputs": [],
   "source": [
    "from aves.visualization.figures import GeoFacetGrid\n",
    "\n",
    "from aves.visualization.maps import heat_map\n",
    "\n",
    "grid = GeoFacetGrid(\n",
    "    origenes_viajes,\n",
    "    context=zonas_en_caja,\n",
    "    row=\"MOTIVOVIAJE\",\n",
    "    col=\"MEDIO_PREDOMINANTE\",\n",
    "    row_order=[\"Trabajar\", \"Estudiar\"],\n",
    "    col_order=[\"PEATON\", \"AUTO\", \"Transmilenio\", \"TCP-SITP\"],\n",
    "    height=6,\n",
    "    hue=\"MEDIO_PREDOMINANTE\"\n",
    ")\n",
    "grid.add_basemap(\"bogota_toner_12.tif\")\n",
    "#grid.add_layer(city_shp_filt, color=\"#efefef\", edgecolor=\"white\", linewidth=1)\n",
    "\n",
    "grid.add_layer(\n",
    "    heat_map,\n",
    "    # atributo de los datos con la importancia o peso de cada viaje\n",
    "    weight=\"PONDERADOR_CALIBRADO_VIAJES\",\n",
    "    # cantidad de niveles/colores del mapa de calor\n",
    "    n_levels=10,\n",
    "    # radio de influencia de cada viaje\n",
    "    bandwidth=0.005,\n",
    "    # valor de corte para los valores bajos del heatmap\n",
    "    low_threshold=0.075,\n",
    "    # transparencia\n",
    "    alpha=0.75,\n",
    "    # paleta de colores\n",
    "    palette=\"inferno\"\n",
    ")\n",
    "\n",
    "grid.add_global_colorbar('inferno', 10, title='Intensidad de Viajes (de menos a más)', orientation='horizontal')\n",
    "#grid.set_title(\"Viajes a trabajar y a estudiar de acuerdo al modo de transporte\")\n",
    "grid.fig.tight_layout()"
   ]
  },
  {
   "cell_type": "code",
   "execution_count": null,
   "id": "8KEG7S87jAzP",
   "metadata": {
    "colab": {
     "base_uri": "https://localhost:8080/",
     "height": 405
    },
    "executionInfo": {
     "elapsed": 5533,
     "status": "ok",
     "timestamp": 1633435782136,
     "user": {
      "displayName": "Paula Vásquez H.",
      "photoUrl": "https://lh3.googleusercontent.com/a-/AOh14GgJUNawPfe0J41agMsUCwKAOgAzWX7zUOLCtayLFg=s64",
      "userId": "02019115936957150360"
     },
     "user_tz": 180
    },
    "id": "8KEG7S87jAzP",
    "outputId": "2fc05574-a433-4c21-f419-d0a763edaca8"
   },
   "outputs": [],
   "source": [
    "grid = GeoFacetGrid(\n",
    "    destinos_viajes[destinos_viajes.MOTIVOVIAJE=='Volver a casa'],\n",
    "    context=zonas_en_caja,\n",
    "    #row=\"MOTIVOVIAJE\",\n",
    "    col=\"MEDIO_PREDOMINANTE\",\n",
    "    col_wrap=3,\n",
    "    row_order=[\"Volver a casa\"],\n",
    "    col_order=[\"PEATON\", \"AUTO\", \"Transmilenio\"],\n",
    "    height=5,\n",
    "    hue=\"MEDIO_PREDOMINANTE\"\n",
    ")\n",
    "grid.add_basemap(\"bogota_toner_12.tif\")\n",
    "#grid.add_layer(city_shp_filt, color=\"#efefef\", edgecolor=\"white\", linewidth=1, alpha=0.5)\n",
    "\n",
    "grid.add_layer(\n",
    "    heat_map,\n",
    "    # atributo de los datos con la importancia o peso de cada viaje\n",
    "    weight=\"PONDERADOR_CALIBRADO_VIAJES\",\n",
    "    # cantidad de niveles/colores del mapa de calor\n",
    "    n_levels=10,\n",
    "    # radio de influencia de cada viaje\n",
    "    bandwidth=0.005,\n",
    "    # valor de corte para los valores bajos del heatmap\n",
    "    low_threshold=0.075,\n",
    "    # transparencia\n",
    "    alpha=0.75,\n",
    "    # paleta de colores\n",
    "    palette=\"inferno\"\n",
    ")\n",
    "grid.add_global_colorbar('inferno', 10, title='Intensidad de Viajes (de menos a más)', orientation='horizontal')\n",
    "grid.set_title(\"Viajes de vuelta a casa en Bogotá\")\n",
    "grid.fig.tight_layout()"
   ]
  },
  {
   "cell_type": "markdown",
   "id": "xMP2TdCejyrB",
   "metadata": {
    "id": "xMP2TdCejyrB"
   },
   "source": [
    "¿Cuán lejos queda el trabajo de acuerdo al lugar de residencia?"
   ]
  },
  {
   "cell_type": "markdown",
   "id": "025gaiPlj7TM",
   "metadata": {
    "id": "025gaiPlj7TM"
   },
   "source": [
    "Con esta pregunta queremos entender si existe un patrón geográfico en las elecciones de residencia y trabajo de las personas.\n",
    "\n",
    "Para responder la pregunta, primero filtramos los viajes que nos interesan:"
   ]
  },
  {
   "cell_type": "code",
   "execution_count": null,
   "id": "umz2NTyOj7_m",
   "metadata": {
    "colab": {
     "base_uri": "https://localhost:8080/"
    },
    "executionInfo": {
     "elapsed": 16,
     "status": "ok",
     "timestamp": 1633435782137,
     "user": {
      "displayName": "Paula Vásquez H.",
      "photoUrl": "https://lh3.googleusercontent.com/a-/AOh14GgJUNawPfe0J41agMsUCwKAOgAzWX7zUOLCtayLFg=s64",
      "userId": "02019115936957150360"
     },
     "user_tz": 180
    },
    "id": "umz2NTyOj7_m",
    "outputId": "a6cde45a-25a2-4389-ae8e-36cb7b8fb569"
   },
   "outputs": [],
   "source": [
    "viajes_trabajo = origenes_viajes[(origenes_viajes.MOTIVOVIAJE == 'Trabajar') &\n",
    "                                (pd.notnull(origenes_viajes.PONDERADOR_CALIBRADO_VIAJES)) &\n",
    "                                (origenes_viajes.distancia_manhattan > 0)].drop_duplicates(subset=['ID_ENCUESTA', 'NUMERO_PERSONA'], keep='first')\n",
    "                                \n",
    "print(len(viajes_trabajo), viajes_trabajo.PONDERADOR_CALIBRADO_VIAJES.sum())"
   ]
  },
  {
   "cell_type": "code",
   "execution_count": null,
   "id": "6lSnxf5PkMKm",
   "metadata": {
    "colab": {
     "base_uri": "https://localhost:8080/"
    },
    "executionInfo": {
     "elapsed": 11,
     "status": "ok",
     "timestamp": 1633435782138,
     "user": {
      "displayName": "Paula Vásquez H.",
      "photoUrl": "https://lh3.googleusercontent.com/a-/AOh14GgJUNawPfe0J41agMsUCwKAOgAzWX7zUOLCtayLFg=s64",
      "userId": "02019115936957150360"
     },
     "user_tz": 180
    },
    "id": "6lSnxf5PkMKm",
    "outputId": "dde906ab-45c2-47e3-b2f4-69bc793505c4"
   },
   "outputs": [],
   "source": [
    "viajes_trabajo['distancia_manhattan'].mean(), weighted_mean(viajes_trabajo, 'distancia_manhattan', 'PONDERADOR_CALIBRADO_VIAJES')"
   ]
  },
  {
   "cell_type": "code",
   "execution_count": null,
   "id": "-q_EuT8OkSxS",
   "metadata": {
    "id": "-q_EuT8OkSxS"
   },
   "outputs": [],
   "source": [
    "distancia_zonas_mean = (viajes_trabajo\n",
    "                   .groupby(['ZAT_ORIGEN'])\n",
    "                   .apply(lambda x: weighted_mean(x, 'distancia_manhattan', 'PONDERADOR_CALIBRADO_VIAJES'))\n",
    "                   .rename('media_distancia_al_trabajo')\n",
    ")"
   ]
  },
  {
   "cell_type": "code",
   "execution_count": null,
   "id": "aZzfzlG4kmPp",
   "metadata": {
    "id": "aZzfzlG4kmPp"
   },
   "outputs": [],
   "source": [
    "distancia_zonas_median = (viajes_trabajo\n",
    "                   .groupby(['ZAT_ORIGEN'])\n",
    "                   .apply(lambda x: weighted_median(x, 'distancia_manhattan', 'PONDERADOR_CALIBRADO_VIAJES'))\n",
    "                   .rename('mediana_distancia_al_trabajo')\n",
    ")"
   ]
  },
  {
   "cell_type": "code",
   "execution_count": null,
   "id": "eP3De4pelJBk",
   "metadata": {
    "colab": {
     "base_uri": "https://localhost:8080/",
     "height": 689
    },
    "executionInfo": {
     "elapsed": 5820,
     "status": "ok",
     "timestamp": 1633435792215,
     "user": {
      "displayName": "Paula Vásquez H.",
      "photoUrl": "https://lh3.googleusercontent.com/a-/AOh14GgJUNawPfe0J41agMsUCwKAOgAzWX7zUOLCtayLFg=s64",
      "userId": "02019115936957150360"
     },
     "user_tz": 180
    },
    "id": "eP3De4pelJBk",
    "outputId": "fcde45c7-0546-4236-96f5-0c09b5f36eb8"
   },
   "outputs": [],
   "source": [
    "from aves.visualization.maps import choropleth_map\n",
    "grid = GeoFacetGrid(zonas_en_caja.join(distancia_zonas_mean, how=\"left\"), height=9)\n",
    "grid.add_basemap(\"bogota_toner_12.tif\")\n",
    "grid.add_layer(\n",
    "    choropleth_map,\n",
    "    \"media_distancia_al_trabajo\",\n",
    "    k=5,\n",
    "    linewidth=0.5,\n",
    "    edgecolor=\"black\",\n",
    "    binning=\"fisher_jenks\",\n",
    "    palette=\"RdPu\",\n",
    "    alpha=0.85,\n",
    "    cbar_args=dict(\n",
    "        label=\"Distancia (m)\",\n",
    "        height=\"22%\",\n",
    "        width=\"2%\",\n",
    "        orientation=\"vertical\",\n",
    "        location=\"center left\",\n",
    "        label_size=\"small\",\n",
    "        bbox_to_anchor=(0.0, 0.0, 0.9, 1.0),\n",
    "    ),\n",
    ")\n",
    "grid.add_map_elements()\n",
    "grid.set_title(\"Distancia al Trabajo Promedio de acuerdo a la Zona de Origen\")\n",
    "grid.tight_layout()"
   ]
  },
  {
   "cell_type": "code",
   "execution_count": null,
   "id": "2779876a",
   "metadata": {
    "id": "2779876a"
   },
   "outputs": [],
   "source": [
    "city_shp_filt = city_shp_filt[~city_shp_filt.geometry.isnull()]"
   ]
  },
  {
   "cell_type": "code",
   "execution_count": null,
   "id": "zFOv5ng9zPnO",
   "metadata": {
    "id": "zFOv5ng9zPnO"
   },
   "outputs": [],
   "source": [
    "matriz_zonas = (viajes_trabajo[(viajes_trabajo['ZAT_ORIGEN'] != viajes_trabajo['ZAT_DESTINO'])\n",
    "                            & (viajes_trabajo.DIA_HABIL=='Si')\n",
    "                             & (viajes_trabajo['ZAT_ORIGEN'].isin(city_shp_filt.Zona_Num_N))\n",
    "                             & (viajes_trabajo['ZAT_DESTINO'].isin(city_shp_filt.Zona_Num_N))]\n",
    "                    .groupby(['ZAT_ORIGEN', 'ZAT_DESTINO'])\n",
    "                    .agg(n_viajes=('PONDERADOR_CALIBRADO_VIAJES', 'sum'))\n",
    "                    .sort_values('n_viajes', ascending=False)\n",
    "                    .assign(cumsum_viajes=lambda x: x['n_viajes'].cumsum())\n",
    "                    .assign(cumsum_viajes=lambda x: x['cumsum_viajes'] / x['cumsum_viajes'].max())\n",
    "                    .reset_index()\n",
    ")"
   ]
  },
  {
   "cell_type": "code",
   "execution_count": null,
   "id": "GCVNcG_i0HPa",
   "metadata": {
    "id": "GCVNcG_i0HPa"
   },
   "outputs": [],
   "source": [
    "matriz_zonas = matriz_zonas[matriz_zonas['cumsum_viajes'] <= 0.45]\n"
   ]
  },
  {
   "cell_type": "code",
   "execution_count": null,
   "id": "RXJx38joJ_YB",
   "metadata": {
    "id": "RXJx38joJ_YB"
   },
   "outputs": [],
   "source": [
    "merged_zones = city_shp_filt.dissolve('Zona_Num_N').drop('id', axis=1)"
   ]
  },
  {
   "cell_type": "code",
   "execution_count": null,
   "id": "Zj2AeYC7qGbL",
   "metadata": {
    "id": "Zj2AeYC7qGbL"
   },
   "outputs": [],
   "source": [
    "from aves.models.network import Network\n",
    "from aves.visualization.networks import NodeLink\n",
    "\n",
    "zone_od_network = Network.from_edgelist(\n",
    "    matriz_zonas, source=\"ZAT_ORIGEN\", target=\"ZAT_DESTINO\", weight=\"n_viajes\"\n",
    ")"
   ]
  },
  {
   "cell_type": "code",
   "execution_count": null,
   "id": "w5-svbw80Yp2",
   "metadata": {
    "id": "w5-svbw80Yp2"
   },
   "outputs": [],
   "source": [
    "zone_nodelink = NodeLink(zone_od_network)"
   ]
  },
  {
   "cell_type": "code",
   "execution_count": null,
   "id": "tSCAlwOY7BTM",
   "metadata": {
    "colab": {
     "base_uri": "https://localhost:8080/"
    },
    "executionInfo": {
     "elapsed": 11,
     "status": "ok",
     "timestamp": 1633435792694,
     "user": {
      "displayName": "Paula Vásquez H.",
      "photoUrl": "https://lh3.googleusercontent.com/a-/AOh14GgJUNawPfe0J41agMsUCwKAOgAzWX7zUOLCtayLFg=s64",
      "userId": "02019115936957150360"
     },
     "user_tz": 180
    },
    "id": "tSCAlwOY7BTM",
    "outputId": "8c69474e-7b3d-4f2e-e749-c86d7a7e1a75",
    "scrolled": true
   },
   "outputs": [],
   "source": [
    "zone_nodelink.layout_nodes(method=\"geographical\", geodataframe=merged_zones)"
   ]
  },
  {
   "cell_type": "code",
   "execution_count": null,
   "id": "Tbkjk5G-7vAN",
   "metadata": {
    "id": "Tbkjk5G-7vAN"
   },
   "outputs": [],
   "source": [
    "zone_nodelink.set_node_drawing(\"plain\", weights=zone_od_network.node_degree(\"in\"))\n",
    "zone_nodelink.set_edge_drawing(method=\"origin-destination\")"
   ]
  },
  {
   "cell_type": "code",
   "execution_count": null,
   "id": "M_QFhW2N7T91",
   "metadata": {
    "colab": {
     "base_uri": "https://localhost:8080/"
    },
    "executionInfo": {
     "elapsed": 195335,
     "status": "ok",
     "timestamp": 1633435988025,
     "user": {
      "displayName": "Paula Vásquez H.",
      "photoUrl": "https://lh3.googleusercontent.com/a-/AOh14GgJUNawPfe0J41agMsUCwKAOgAzWX7zUOLCtayLFg=s64",
      "userId": "02019115936957150360"
     },
     "user_tz": 180
    },
    "id": "M_QFhW2N7T91",
    "outputId": "4f8e42a3-c1ae-4a22-ac7d-add13faabe74"
   },
   "outputs": [],
   "source": [
    "zone_nodelink.bundle_edges(\n",
    "    method=\"force-directed\", K=10, S=0.01, I=10, compatibility_threshold=0.45, C=6\n",
    ")"
   ]
  },
  {
   "cell_type": "code",
   "execution_count": null,
   "id": "Vw_TBALT8enm",
   "metadata": {
    "id": "Vw_TBALT8enm"
   },
   "outputs": [],
   "source": [
    "def plot_network(ax, geo_data, *args, **kwargs):\n",
    "    zone_nodelink.plot(ax, *args, **kwargs)"
   ]
  },
  {
   "cell_type": "code",
   "execution_count": null,
   "id": "0ANo7xjy806_",
   "metadata": {
    "colab": {
     "base_uri": "https://localhost:8080/",
     "height": 942
    },
    "executionInfo": {
     "elapsed": 4676,
     "status": "ok",
     "timestamp": 1633435992696,
     "user": {
      "displayName": "Paula Vásquez H.",
      "photoUrl": "https://lh3.googleusercontent.com/a-/AOh14GgJUNawPfe0J41agMsUCwKAOgAzWX7zUOLCtayLFg=s64",
      "userId": "02019115936957150360"
     },
     "user_tz": 180
    },
    "id": "0ANo7xjy806_",
    "outputId": "989b3d56-2112-4e1b-f0cd-46d5837792e7"
   },
   "outputs": [],
   "source": [
    "grid = GeoFacetGrid(zonas_en_caja, height=13)\n",
    "grid.add_basemap(\"bogota_toner_12.tif\")\n",
    "#grid.add_layer(city_shp_filt,facecolor='white', edgecolor='grey', alpha=0.25)\n",
    "grid.add_layer(\n",
    "    plot_network,\n",
    "    nodes=dict(color=\"white\", edgecolor=\"black\", node_size=100, alpha=0.95),\n",
    "    edges=dict(linewidth=0.5, alpha=0.6),\n",
    ")\n",
    "grid.set_title(\"Viajes al trabajo en Bogotá (en días laborales)\")"
   ]
  }
 ],
 "metadata": {
  "accelerator": "GPU",
  "colab": {
   "collapsed_sections": [],
   "name": "Copia de AnalisisEOD_Colombia_Bogota_2015_CalculoIndicadores_.ipynb",
   "provenance": []
  },
  "kernelspec": {
   "display_name": "Python 3 (ipykernel)",
   "language": "python",
   "name": "python3"
  },
  "language_info": {
   "codemirror_mode": {
    "name": "ipython",
    "version": 3
   },
   "file_extension": ".py",
   "mimetype": "text/x-python",
   "name": "python",
   "nbconvert_exporter": "python",
   "pygments_lexer": "ipython3",
   "version": "3.9.7"
  }
 },
 "nbformat": 4,
 "nbformat_minor": 5
}
