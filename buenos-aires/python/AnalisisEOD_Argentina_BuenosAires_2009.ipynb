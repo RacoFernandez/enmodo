{
 "cells": [
  {
   "cell_type": "markdown",
   "metadata": {
    "id": "3kGXJt3sqatl"
   },
   "source": [
    "## Importo librerías"
   ]
  },
  {
   "cell_type": "code",
   "execution_count": 1,
   "metadata": {
    "id": "KIhDbWV80TC0"
   },
   "outputs": [],
   "source": [
    "import pandas as pd\n",
    "from pandas import DataFrame\n",
    "import numpy as np\n",
    "import matplotlib.pyplot as plt\n",
    "%matplotlib inline\n",
    "\n",
    "pd.set_option('display.max_columns', None)"
   ]
  },
  {
   "cell_type": "code",
   "execution_count": 2,
   "metadata": {
    "colab": {
     "base_uri": "https://localhost:8080/"
    },
    "id": "9j3yqAdwVBLO",
    "outputId": "dc5907b0-68bf-4dd5-f978-474ae7e07b59"
   },
   "outputs": [
    {
     "name": "stdout",
     "output_type": "stream",
     "text": [
      "Requirement already satisfied: geopandas in /home/roliverio/anaconda3/lib/python3.9/site-packages (0.10.2)\n",
      "Requirement already satisfied: pyproj>=2.2.0 in /home/roliverio/anaconda3/lib/python3.9/site-packages (from geopandas) (3.3.1)\n",
      "Requirement already satisfied: shapely>=1.6 in /home/roliverio/anaconda3/lib/python3.9/site-packages (from geopandas) (1.8.2)\n",
      "Requirement already satisfied: pandas>=0.25.0 in /home/roliverio/anaconda3/lib/python3.9/site-packages (from geopandas) (1.3.4)\n",
      "Requirement already satisfied: fiona>=1.8 in /home/roliverio/anaconda3/lib/python3.9/site-packages (from geopandas) (1.8.21)\n",
      "Requirement already satisfied: munch in /home/roliverio/anaconda3/lib/python3.9/site-packages (from fiona>=1.8->geopandas) (2.5.0)\n",
      "Requirement already satisfied: cligj>=0.5 in /home/roliverio/anaconda3/lib/python3.9/site-packages (from fiona>=1.8->geopandas) (0.7.2)\n",
      "Requirement already satisfied: setuptools in /home/roliverio/anaconda3/lib/python3.9/site-packages (from fiona>=1.8->geopandas) (58.0.4)\n",
      "Requirement already satisfied: certifi in /home/roliverio/anaconda3/lib/python3.9/site-packages (from fiona>=1.8->geopandas) (2021.10.8)\n",
      "Requirement already satisfied: six>=1.7 in /home/roliverio/anaconda3/lib/python3.9/site-packages (from fiona>=1.8->geopandas) (1.16.0)\n",
      "Requirement already satisfied: click-plugins>=1.0 in /home/roliverio/anaconda3/lib/python3.9/site-packages (from fiona>=1.8->geopandas) (1.1.1)\n",
      "Requirement already satisfied: click>=4.0 in /home/roliverio/anaconda3/lib/python3.9/site-packages (from fiona>=1.8->geopandas) (8.0.3)\n",
      "Requirement already satisfied: attrs>=17 in /home/roliverio/anaconda3/lib/python3.9/site-packages (from fiona>=1.8->geopandas) (21.2.0)\n",
      "Requirement already satisfied: python-dateutil>=2.7.3 in /home/roliverio/anaconda3/lib/python3.9/site-packages (from pandas>=0.25.0->geopandas) (2.8.2)\n",
      "Requirement already satisfied: pytz>=2017.3 in /home/roliverio/anaconda3/lib/python3.9/site-packages (from pandas>=0.25.0->geopandas) (2021.3)\n",
      "Requirement already satisfied: numpy>=1.17.3 in /home/roliverio/anaconda3/lib/python3.9/site-packages (from pandas>=0.25.0->geopandas) (1.20.3)\n"
     ]
    }
   ],
   "source": [
    "!pip install geopandas"
   ]
  },
  {
   "cell_type": "code",
   "execution_count": 3,
   "metadata": {},
   "outputs": [
    {
     "name": "stdout",
     "output_type": "stream",
     "text": [
      "Requirement already satisfied: requests in /home/roliverio/anaconda3/lib/python3.9/site-packages (2.26.0)\r\n",
      "Requirement already satisfied: urllib3<1.27,>=1.21.1 in /home/roliverio/anaconda3/lib/python3.9/site-packages (from requests) (1.26.7)\r\n",
      "Requirement already satisfied: certifi>=2017.4.17 in /home/roliverio/anaconda3/lib/python3.9/site-packages (from requests) (2021.10.8)\r\n",
      "Requirement already satisfied: charset-normalizer~=2.0.0 in /home/roliverio/anaconda3/lib/python3.9/site-packages (from requests) (2.0.4)\r\n",
      "Requirement already satisfied: idna<4,>=2.5 in /home/roliverio/anaconda3/lib/python3.9/site-packages (from requests) (3.2)\r\n"
     ]
    }
   ],
   "source": [
    "!pip install requests"
   ]
  },
  {
   "cell_type": "markdown",
   "metadata": {},
   "source": [
    "## Google colab"
   ]
  },
  {
   "cell_type": "markdown",
   "metadata": {},
   "source": [
    "Para ejecutar este notebook en Colab, primero descomenten y ejecuten las siguientes 3 celdas. Luego de ejecutar la notebook se reiniciará."
   ]
  },
  {
   "cell_type": "code",
   "execution_count": 4,
   "metadata": {
    "id": "E4ZWQpbTM_L7"
   },
   "outputs": [
    {
     "data": {
      "text/plain": [
       "\"\\n# Montando datos desde Google Drive\\nfrom google.colab import drive\\ndrive.mount('/content/drive')\\n\""
      ]
     },
     "execution_count": 4,
     "metadata": {},
     "output_type": "execute_result"
    }
   ],
   "source": [
    "'''\n",
    "# Montando datos desde Google Drive\n",
    "from google.colab import drive\n",
    "drive.mount('/content/drive')\n",
    "'''"
   ]
  },
  {
   "cell_type": "code",
   "execution_count": 5,
   "metadata": {
    "id": "ru2oodx5M__d"
   },
   "outputs": [
    {
     "data": {
      "text/plain": [
       "\"\\nimport sys\\nsys.path.append('/aqui_reemplazar_path_drive/')\\n\""
      ]
     },
     "execution_count": 5,
     "metadata": {},
     "output_type": "execute_result"
    }
   ],
   "source": [
    "'''\n",
    "import sys\n",
    "sys.path.append('/aqui_reemplazar_path_drive/')\n",
    "'''"
   ]
  },
  {
   "cell_type": "markdown",
   "metadata": {
    "id": "OrrQjsfA0TC4"
   },
   "source": [
    "### Levanto ENMODO 2009\n",
    "https://www.argentina.gob.ar/transporte/dgppse/publicaciones/encuestas"
   ]
  },
  {
   "cell_type": "markdown",
   "metadata": {},
   "source": [
    "Esta notebook apunta directamente a datos subidos a github por lo cual no es necesario reemplazarla por data paths locales o en drive"
   ]
  },
  {
   "cell_type": "code",
   "execution_count": 6,
   "metadata": {
    "colab": {
     "base_uri": "https://localhost:8080/"
    },
    "id": "SXJovuR4fhyo",
    "outputId": "0386eca8-83aa-4113-d4e3-6409be070518"
   },
   "outputs": [
    {
     "name": "stderr",
     "output_type": "stream",
     "text": [
      "/home/roliverio/anaconda3/lib/python3.9/site-packages/IPython/core/interactiveshell.py:3444: DtypeWarning: Columns (9) have mixed types.Specify dtype option on import or set low_memory=False.\n",
      "  exec(code_obj, self.user_global_ns, self.user_ns)\n",
      "/home/roliverio/anaconda3/lib/python3.9/site-packages/IPython/core/interactiveshell.py:3444: DtypeWarning: Columns (24,25,26,27) have mixed types.Specify dtype option on import or set low_memory=False.\n",
      "  exec(code_obj, self.user_global_ns, self.user_ns)\n"
     ]
    }
   ],
   "source": [
    "hogares = pd.read_csv('https://media.githubusercontent.com/media/RacoFernandez/enmodo/main/buenos-aires/source-csv/hogares.csv')\n",
    "personas = pd.read_csv('https://media.githubusercontent.com/media/RacoFernandez/enmodo/main/buenos-aires/source-csv/personas.csv')\n",
    "viajes = pd.read_csv('https://media.githubusercontent.com/media/RacoFernandez/enmodo/main/buenos-aires/source-csv/viajes.csv')\n",
    "etapas = pd.read_csv('https://media.githubusercontent.com/media/RacoFernandez/enmodo/main/buenos-aires/source-csv/etapas.csv')"
   ]
  },
  {
   "cell_type": "markdown",
   "metadata": {
    "id": "iRPSv0fesZHX"
   },
   "source": [
    "### Caracterización de los datos\n",
    "\n",
    "Los datos utilizados en este cuaderno corresponden a los resultados de la Encuesta Origen-Destino de Buenos Aires (AMBA), Argentina del 2009. \n",
    "A partir de estos datos se calcularan indicadores en tres niveles: de Cantidad de Viajes, de Tiempo de Viajes, y de Distancia de Viajes.\n",
    "\n",
    "Hay datos a nivel hogares, personas, viajes y etapas."
   ]
  },
  {
   "cell_type": "markdown",
   "metadata": {
    "id": "db8caef6"
   },
   "source": [
    "### Importando datos"
   ]
  },
  {
   "cell_type": "code",
   "execution_count": 7,
   "metadata": {
    "id": "3Y8dFOlT7H9E"
   },
   "outputs": [],
   "source": [
    "import requests\n",
    "import json\n",
    "datastring = \"https://raw.githubusercontent.com/RacoFernandez/enmodo/main/buenos-aires/source-geojson/departamentos-buenos_aires.json\"\n",
    "resp = requests.get(datastring)\n",
    "departamentos = json.loads(resp.text)"
   ]
  },
  {
   "cell_type": "code",
   "execution_count": 8,
   "metadata": {
    "id": "gvuFTeJYaOG8"
   },
   "outputs": [],
   "source": [
    "datastring = \"https://raw.githubusercontent.com/RacoFernandez/enmodo/main/buenos-aires/source-geojson/departamentos-ciudad_autonoma_de_buenos_aires.json\"\n",
    "resp = requests.get(datastring)\n",
    "departamentos_caba = json.loads(resp.text)"
   ]
  },
  {
   "cell_type": "code",
   "execution_count": 9,
   "metadata": {
    "id": "Cry2Ise2KA3X"
   },
   "outputs": [],
   "source": [
    "import geopandas as gpd\n",
    "departamentos_gpd = gpd.GeoDataFrame.from_features(departamentos[\"features\"])"
   ]
  },
  {
   "cell_type": "code",
   "execution_count": 10,
   "metadata": {
    "colab": {
     "base_uri": "https://localhost:8080/"
    },
    "id": "n7c0gqF1-6Ne",
    "outputId": "e7a5e683-9c1b-4563-8f5c-154767d9de44"
   },
   "outputs": [
    {
     "data": {
      "text/plain": [
       "array(['ALMIRANTE BROWN', 'LA PLATA', 'PRESIDENTE PERON',\n",
       "       'CARLOS CASARES', 'SALADILLO', 'PEHUAJO', 'TRENQUE LAUQUEN',\n",
       "       'GENERAL BELGRANO', 'LAS FLORES', 'GENERAL GUIDO', 'OLAVARRIA',\n",
       "       'ROJAS', 'SAN ANTONIO DE ARECO', 'MAIPU', 'ARRECIFES',\n",
       "       'CAPITAN SARMIENTO', 'CARMEN DE ARECO', 'PINAMAR', 'SALTO',\n",
       "       'EXALTACION DE LA CRUZ', 'ESCOBAR', 'SAN MIGUEL',\n",
       "       'SAN ANDRES DE GILES', 'JUNIN', 'MERCEDES', 'GENERAL VILLEGAS',\n",
       "       'PILAR', 'LUJAN', 'HURLINGHAM', 'MORON', 'CHACABUCO',\n",
       "       'MALVINAS ARGENTINAS', 'JOSE C PAZ', 'GENERAL SAN MARTIN',\n",
       "       'MORENO', 'LINCOLN', 'ITUZAINGO', 'FLORENTINO AMEGHINO',\n",
       "       'LA MATANZA', 'GENERAL RODRIGUEZ', 'SUIPACHA', 'TRES DE FEBRERO',\n",
       "       'MERLO', 'CHIVILCOY', 'BRAGADO', 'LANUS', 'GENERAL LAS HERAS',\n",
       "       'MARCOS PAZ', 'LOMAS DE ZAMORA', 'GENERAL VIAMONTE',\n",
       "       'ESTEBAN ECHEVERRIA', 'EZEIZA', 'ALBERTI', 'FLORENCIO VARELA',\n",
       "       'NAVARRO', 'CAÑUELAS', 'SAN VICENTE', 'LOBOS', 'BRANDSEN',\n",
       "       'CARLOS TEJEDOR', '25 DE MAYO', '9 DE JULIO', 'GENERAL PAZ',\n",
       "       'MONTE', 'ROQUE PEREZ', 'GENERAL ALVEAR', 'QUILMES', 'PILA',\n",
       "       'GENERAL LA MADRID', 'BOLIVAR', 'BALCARCE', 'VICENTE LOPEZ',\n",
       "       'TAPALQUE', 'HIPOLITO YRIGOYEN', 'DOLORES', 'RAUCH', 'AZUL',\n",
       "       'DAIREAUX', 'TRES LOMAS', 'AYACUCHO', 'GUAMINI', 'SALLIQUELO',\n",
       "       'GENERAL JUAN MADARIAGA', 'ENSENADA', 'BERAZATEGUI', 'TANDIL',\n",
       "       'CORONEL SUAREZ', 'LAPRIDA', 'AVELLANEDA', 'SAN ISIDRO',\n",
       "       'BENITO JUAREZ', 'SAAVEDRA', 'ADOLFO GONZALES CHAVES',\n",
       "       'CORONEL PRINGLES', 'TORNQUIST', 'TIGRE', 'GENERAL PINTO',\n",
       "       'SAN CAYETANO', 'TRES ARROYOS',\n",
       "       'CORONEL DE MARINA LEONARDO ROSALES', 'VILLA GESELL',\n",
       "       'BAHIA BLANCA', 'MONTE HERMOSO', 'CORONEL DORREGO', 'NECOCHEA',\n",
       "       'LOBERIA', 'GENERAL ALVARADO', 'CHASCOMUS', 'BERISSO',\n",
       "       'GENERAL PUEYRREDON', 'MAR CHIQUITA', 'LA COSTA',\n",
       "       'GENERAL LAVALLE', 'TORDILLO', 'CASTELLI', 'PUNTA INDIO',\n",
       "       'MAGDALENA', 'SAN FERNANDO', 'CAMPANA', 'BARADERO', 'ZARATE',\n",
       "       'SAN PEDRO', 'RAMALLO', 'SAN NICOLAS', 'PERGAMINO', 'COLON',\n",
       "       'LEANDRO N ALEM', 'GENERAL ARENALES', 'ADOLFO ALSINA', 'RIVADAVIA',\n",
       "       'PELLEGRINI', 'PUAN', 'VILLARINO', 'PATAGONES'], dtype=object)"
      ]
     },
     "execution_count": 10,
     "metadata": {},
     "output_type": "execute_result"
    }
   ],
   "source": [
    "departamentos_gpd.departamento.unique()"
   ]
  },
  {
   "cell_type": "markdown",
   "metadata": {
    "id": "KNMkuqeBq5hJ"
   },
   "source": [
    "## Limpieza de la capa de departamentos y join con datos de viajes de ENMODO (ya que la misma no viene con la data de la geometría de los viajes)"
   ]
  },
  {
   "cell_type": "code",
   "execution_count": 11,
   "metadata": {
    "id": "2deF7gU-KAtN"
   },
   "outputs": [],
   "source": [
    "# Me quedo solo con algunos departamentos (los presentes en la ENMODO 2009)\n",
    "departamentos_amba_gpd = departamentos_gpd[(departamentos_gpd['departamento'].str.contains(\"BROWN\"))|\n",
    "                  (departamentos_gpd['departamento'].str.contains(\"MATANZA\"))|\n",
    "                  (departamentos_gpd['departamento'].str.contains(\"LOPEZ\"))|\n",
    "                  (departamentos_gpd['departamento'].str.contains(\"ECHEVERRIA\"))|\n",
    "                  (departamentos_gpd['departamento'].str.contains(\"MORON\"))|\n",
    "                  (departamentos_gpd['departamento'].str.contains(\"ISIDRO\"))|\n",
    "                  (departamentos_gpd['departamento'].str.contains(\"PILAR\"))|\n",
    "                  (departamentos_gpd['departamento'].str.contains(\"LANUS\"))|\n",
    "                  (departamentos_gpd['departamento'].str.contains(\"JOSE C PAZ\"))|\n",
    "                  (departamentos_gpd['departamento'].str.contains(\"QUILMES\"))|\n",
    "                  (departamentos_gpd['departamento'].str.contains(\"HURLINGHAM\"))|\n",
    "                  (departamentos_gpd['departamento'].str.contains(\"SAN MARTIN\"))|\n",
    "                  (departamentos_gpd['departamento'].str.contains(\"AVELLANEDA\"))|\n",
    "                  (departamentos_gpd['departamento'].str.contains(\"LOMAS DE ZAMORA\"))|\n",
    "                  (departamentos_gpd['departamento'].str.contains(\"BERAZATEGUI\"))|\n",
    "                  (departamentos_gpd['departamento'].str.contains(\"ITUZAINGO\"))|\n",
    "                  (departamentos_gpd['departamento'].str.contains(\"ESCOBAR\"))|\n",
    "                  (departamentos_gpd['departamento'].str.contains(\"SAN MIGUEL\"))|\n",
    "                  (departamentos_gpd['departamento'].str.contains(\"MERLO\"))|\n",
    "                  (departamentos_gpd['departamento'].str.contains(\"FEBRERO\"))|\n",
    "                  (departamentos_gpd['departamento'].str.contains(\"SAN FERNANDO\"))|\n",
    "                  (departamentos_gpd['departamento'].str.contains(\"MORENO\"))|\n",
    "                  (departamentos_gpd['departamento'].str.contains(\"EZEIZA\"))|\n",
    "                  (departamentos_gpd['departamento'].str.contains(\"MALVINAS\"))|\n",
    "                  (departamentos_gpd['departamento'].str.contains(\"TIGRE\"))|\n",
    "                  (departamentos_gpd['departamento'].str.contains(\"PERON\"))|\n",
    "                  (departamentos_gpd['departamento'].str.contains(\"LA PLATA\"))|\n",
    "                  (departamentos_gpd['departamento'].str.contains(\"CAÑUELAS\"))|\n",
    "                  (departamentos_gpd['departamento'].str.contains(\"GENERAL LAS HERAS\"))|\n",
    "                  (departamentos_gpd['departamento'].str.contains(\"ZARATE\"))|\n",
    "                  (departamentos_gpd['departamento'].str.contains(\"MARCOS PAZ\"))|\n",
    "                  (departamentos_gpd['departamento'].str.contains(\"BRANDSEN\"))|\n",
    "                  (departamentos_gpd['departamento'].str.contains(\"ENSENADA\"))|\n",
    "                  (departamentos_gpd['departamento'].str.contains(\"MERCEDES\"))|\n",
    "                  (departamentos_gpd['departamento'].str.contains(\"BERISSO\"))|\n",
    "                  (departamentos_gpd['departamento'].str.contains(\"SAN VICENTE\"))|\n",
    "                  (departamentos_gpd['departamento'].str.contains(\"GENERAL RODRIGUEZ\"))|\n",
    "                  (departamentos_gpd['departamento'].str.contains(\"EXALTACION DE LA CRUZ\"))|\n",
    "                  (departamentos_gpd['departamento'].str.contains(\"FLORENCIO\"))]"
   ]
  },
  {
   "cell_type": "code",
   "execution_count": 12,
   "metadata": {
    "id": "4KuHN9opLSqb"
   },
   "outputs": [],
   "source": [
    "del(departamentos_gpd)"
   ]
  },
  {
   "cell_type": "code",
   "execution_count": 13,
   "metadata": {
    "id": "_pGVb2-ZbA-N"
   },
   "outputs": [],
   "source": [
    "departamentos_caba_gpd = gpd.GeoDataFrame.from_features(departamentos_caba[\"features\"])"
   ]
  },
  {
   "cell_type": "code",
   "execution_count": 14,
   "metadata": {
    "id": "1qYoJGEMw7K1"
   },
   "outputs": [],
   "source": [
    "del(departamentos_caba)"
   ]
  },
  {
   "cell_type": "code",
   "execution_count": 15,
   "metadata": {
    "id": "vyuRlE0tbA7O"
   },
   "outputs": [],
   "source": [
    "departamentos_amba_gpd = departamentos_amba_gpd.append(departamentos_caba_gpd)"
   ]
  },
  {
   "cell_type": "code",
   "execution_count": 16,
   "metadata": {
    "id": "pYIjs56ZRPzr"
   },
   "outputs": [],
   "source": [
    "viajes.partido = viajes.partido.str.upper()"
   ]
  },
  {
   "cell_type": "code",
   "execution_count": 17,
   "metadata": {
    "id": "_P-KKIzS74Qn"
   },
   "outputs": [],
   "source": [
    "viajes.TT_PARTIDO_ORIGEN = viajes.TT_PARTIDO_ORIGEN.str.upper()"
   ]
  },
  {
   "cell_type": "code",
   "execution_count": 18,
   "metadata": {
    "id": "duD__dEA73zb"
   },
   "outputs": [],
   "source": [
    "viajes.TT_PARTIDO_DESTINO = viajes.TT_PARTIDO_DESTINO.str.upper()"
   ]
  },
  {
   "cell_type": "code",
   "execution_count": 19,
   "metadata": {
    "colab": {
     "base_uri": "https://localhost:8080/"
    },
    "id": "JldI7oGH7212",
    "outputId": "aba8fb27-dd39-4088-bd49-f0027df6cd4b"
   },
   "outputs": [
    {
     "name": "stderr",
     "output_type": "stream",
     "text": [
      "/tmp/ipykernel_928688/1910569586.py:1: DeprecationWarning: `np.object` is a deprecated alias for the builtin `object`. To silence this warning, use `object` by itself. Doing this will not modify any behavior and is safe. \n",
      "Deprecated in NumPy 1.20; for more details and guidance: https://numpy.org/devdocs/release/1.20.0-notes.html#deprecations\n",
      "  cols = viajes.select_dtypes(include=[np.object]).columns\n"
     ]
    }
   ],
   "source": [
    "cols = viajes.select_dtypes(include=[np.object]).columns\n",
    "viajes[cols] = viajes[cols].apply(lambda x: x.str.normalize('NFKD').str.encode('ascii', errors='ignore').str.decode('utf-8'))"
   ]
  },
  {
   "cell_type": "code",
   "execution_count": 20,
   "metadata": {
    "id": "G1UGMGxTNOJD"
   },
   "outputs": [],
   "source": [
    "dict = {\"ALTE. BROWN\" : 'ALMIRANTE BROWN', \"E. ECHEVERRIA\": 'ESTEBAN ECHEVERRIA', \"JOSE C. PAZ\": 'JOSE C PAZ',\n",
    "         \"PTE. PERON\": 'PRESIDENTE PERON', \"CORONEL BRANDSEN\": 'BRANDSEN', \"CANUELAS\": 'CAÑUELAS', \"SOLDATI\": 'VILLA SOLDATI',\n",
    "        \"NUNEZ\": 'NUÑEZ'}\n",
    "viajes=viajes.replace({\"partido\": dict, \"TT_PARTIDO_ORIGEN\": dict, \"TT_PARTIDO_DESTINO\": dict})"
   ]
  },
  {
   "cell_type": "code",
   "execution_count": 21,
   "metadata": {
    "id": "KTeDI-miTW6t"
   },
   "outputs": [],
   "source": [
    "barrios_caba = pd.read_csv('https://cdn.buenosaires.gob.ar/datosabiertos/datasets/barrios/barrios.csv')"
   ]
  },
  {
   "cell_type": "code",
   "execution_count": 22,
   "metadata": {
    "id": "fXvxwrqWTzfr"
   },
   "outputs": [],
   "source": [
    "viajes = viajes.merge(barrios_caba, left_on='TT_LOCALIDAD_ORIGEN', right_on='barrio', how='left')"
   ]
  },
  {
   "cell_type": "code",
   "execution_count": 23,
   "metadata": {
    "colab": {
     "base_uri": "https://localhost:8080/"
    },
    "id": "YYFkRLepUcpY",
    "outputId": "54c05995-e33a-46e3-a2d8-140f00bc7e75"
   },
   "outputs": [
    {
     "data": {
      "text/plain": [
       "0                  NaN\n",
       "1         2.289008e+06\n",
       "2         2.043711e+06\n",
       "3         4.342280e+06\n",
       "4                  NaN\n",
       "              ...     \n",
       "102779             NaN\n",
       "102780    7.398179e+06\n",
       "102781    7.398179e+06\n",
       "102782    8.590784e+06\n",
       "102783    2.289008e+06\n",
       "Name: area, Length: 102784, dtype: float64"
      ]
     },
     "execution_count": 23,
     "metadata": {},
     "output_type": "execute_result"
    }
   ],
   "source": [
    "viajes.pop(\"WKT\")\n",
    "viajes.pop(\"barrio\")\n",
    "viajes.pop(\"perimetro\")\n",
    "viajes.pop(\"area\")"
   ]
  },
  {
   "cell_type": "code",
   "execution_count": 24,
   "metadata": {
    "id": "X3XIXKpQ07Rg"
   },
   "outputs": [],
   "source": [
    "viajes = viajes.merge(barrios_caba, left_on='TT_LOCALIDAD_DESTINO', right_on='barrio', how='left')"
   ]
  },
  {
   "cell_type": "code",
   "execution_count": 25,
   "metadata": {
    "colab": {
     "base_uri": "https://localhost:8080/"
    },
    "id": "5iXYiWCq1iIS",
    "outputId": "7877d04d-b3f5-4089-b4bc-6500064db99b"
   },
   "outputs": [
    {
     "data": {
      "text/plain": [
       "0         2.289008e+06\n",
       "1         2.043711e+06\n",
       "2         4.342280e+06\n",
       "3                  NaN\n",
       "4                  NaN\n",
       "              ...     \n",
       "102779             NaN\n",
       "102780    2.289008e+06\n",
       "102781    2.198622e+06\n",
       "102782             NaN\n",
       "102783             NaN\n",
       "Name: area, Length: 102784, dtype: float64"
      ]
     },
     "execution_count": 25,
     "metadata": {},
     "output_type": "execute_result"
    }
   ],
   "source": [
    "viajes.pop(\"WKT\")\n",
    "viajes.pop(\"barrio\")\n",
    "viajes.pop(\"perimetro\")\n",
    "viajes.pop(\"area\")"
   ]
  },
  {
   "cell_type": "code",
   "execution_count": 26,
   "metadata": {
    "id": "QPBI5rYP1kYQ"
   },
   "outputs": [],
   "source": [
    "viajes = viajes.rename(columns={'comuna_x': 'comuna_origen', 'comuna_y': 'comuna_destino'})"
   ]
  },
  {
   "cell_type": "code",
   "execution_count": 27,
   "metadata": {
    "id": "HWA1p0NF25vr"
   },
   "outputs": [],
   "source": [
    "viajes.comuna_origen.fillna(viajes.TT_PARTIDO_ORIGEN, inplace = True)"
   ]
  },
  {
   "cell_type": "code",
   "execution_count": 28,
   "metadata": {
    "id": "7ilfna9HBeQM"
   },
   "outputs": [],
   "source": [
    "viajes.comuna_destino.fillna(viajes.TT_PARTIDO_DESTINO, inplace = True)"
   ]
  },
  {
   "cell_type": "code",
   "execution_count": 29,
   "metadata": {
    "id": "kvDb7eWsBlSM"
   },
   "outputs": [],
   "source": [
    "viajes.comuna_origen = viajes.comuna_origen.astype(str)"
   ]
  },
  {
   "cell_type": "code",
   "execution_count": 30,
   "metadata": {
    "id": "yMJHdAnkB6dI"
   },
   "outputs": [],
   "source": [
    "viajes.comuna_destino = viajes.comuna_destino.astype(str)"
   ]
  },
  {
   "cell_type": "code",
   "execution_count": 31,
   "metadata": {
    "colab": {
     "base_uri": "https://localhost:8080/"
    },
    "id": "nVPOCEB8Ebkj",
    "outputId": "eae5ada4-bd03-4443-93e8-b065511dc10b"
   },
   "outputs": [
    {
     "data": {
      "text/plain": [
       "array(['LA MATANZA', '1.0', '3.0', 'ALMIRANTE BROWN', '2.0',\n",
       "       'VICENTE LOPEZ', 'SAN ISIDRO', 'CAMPANA', 'TIGRE',\n",
       "       'LOMAS DE ZAMORA', 'MORON', '4.0', '13.0', 'SAN FERNANDO', '14.0',\n",
       "       '6.0', '15.0', 'MORENO', '12.0', 'GENERAL SAN MARTIN', '11.0',\n",
       "       'LANUS', 'EZEIZA', '9.0', 'MERLO', '5.0', '10.0',\n",
       "       'ESTEBAN ECHEVERRIA', '7.0', 'LA PLATA', 'CAP. FED. DE 19', '8.0',\n",
       "       'ITUZAINGO', 'TRES DE FEBRERO', 'PILAR', 'JOSE C PAZ',\n",
       "       'SAN MIGUEL', 'AVELLANEDA', 'GENERAL RODRIGUEZ', 'QUILMES',\n",
       "       'FLORENCIO VARELA', 'HURLINGHAM', 'CAP. FED. DE 21',\n",
       "       'FUERA DE AREA - NORTE', 'BERAZATEGUI', 'ESCOBAR', 'LUJAN',\n",
       "       'MALVINAS ARGENTINAS', 'SIN DATO', 'FUERA DE AREA - SUR',\n",
       "       'SAN VICENTE', 'CAÑUELAS', 'GENERAL LAS HERAS', 'PRESIDENTE PERON',\n",
       "       'ZARATE', 'MARCOS PAZ', 'BRANDSEN', 'CAP. FED. DE 10', 'ENSENADA',\n",
       "       'EXALTACION DE LA CRUZ', 'BERISSO', 'MERCEDES'], dtype=object)"
      ]
     },
     "execution_count": 31,
     "metadata": {},
     "output_type": "execute_result"
    }
   ],
   "source": [
    "viajes.comuna_origen.unique()"
   ]
  },
  {
   "cell_type": "code",
   "execution_count": 32,
   "metadata": {
    "id": "95m0VPg-TtYS"
   },
   "outputs": [],
   "source": [
    "dict = {\"1.0\" : 'COMUNA 1', \"2.0\" : 'COMUNA 2', \"3.0\" : 'COMUNA 3', \"4.0\" : 'COMUNA 4',\n",
    "        \"5.0\" : 'COMUNA 5', \"6.0\" : 'COMUNA 6', \"7.0\" : 'COMUNA 7', \"8.0\" : 'COMUNA 8',\n",
    "        \"9.0\" : 'COMUNA 9', \"10.0\" : 'COMUNA 10', \"11.0\" : 'COMUNA 11', \"12.0\" : 'COMUNA 12',\n",
    "        \"13.0\" : 'COMUNA 13', \"14.0\" : 'COMUNA 14', \"15.0\" : 'COMUNA 15'}\n",
    "viajes=viajes.replace({\"comuna_origen\": dict, \"comuna_destino\": dict})"
   ]
  },
  {
   "cell_type": "code",
   "execution_count": 33,
   "metadata": {
    "id": "cnHPGVzL7BPB"
   },
   "outputs": [],
   "source": [
    "viajes_gpd = departamentos_amba_gpd.merge(viajes, left_on = 'departamento', right_on='comuna_origen', how='right')"
   ]
  },
  {
   "cell_type": "code",
   "execution_count": 34,
   "metadata": {
    "id": "sqdEYTXu7sps"
   },
   "outputs": [],
   "source": [
    "viajes_gpd = viajes_gpd.merge(departamentos_amba_gpd, left_on = 'comuna_destino', right_on = 'departamento', how='left')"
   ]
  },
  {
   "cell_type": "code",
   "execution_count": 35,
   "metadata": {
    "id": "nWXpf8kt8kfp"
   },
   "outputs": [],
   "source": [
    "viajes_gpd = viajes_gpd.rename(columns={'geometry_x': 'geometry_origen', 'geometry_y': 'geometry_destino'})"
   ]
  },
  {
   "cell_type": "code",
   "execution_count": 36,
   "metadata": {
    "colab": {
     "base_uri": "https://localhost:8080/"
    },
    "id": "2DXq2JnO8kbx",
    "outputId": "90f7b604-fae6-4352-91b3-8e36ec6808c6"
   },
   "outputs": [
    {
     "data": {
      "text/plain": [
       "0         CIUDAD AUTONOMA DE BUENOS AIRES\n",
       "1         CIUDAD AUTONOMA DE BUENOS AIRES\n",
       "2         CIUDAD AUTONOMA DE BUENOS AIRES\n",
       "3                            BUENOS AIRES\n",
       "4                            BUENOS AIRES\n",
       "                       ...               \n",
       "102779                       BUENOS AIRES\n",
       "102780    CIUDAD AUTONOMA DE BUENOS AIRES\n",
       "102781    CIUDAD AUTONOMA DE BUENOS AIRES\n",
       "102782                       BUENOS AIRES\n",
       "102783                       BUENOS AIRES\n",
       "Name: provincia_y, Length: 102784, dtype: object"
      ]
     },
     "execution_count": 36,
     "metadata": {},
     "output_type": "execute_result"
    }
   ],
   "source": [
    "viajes_gpd.pop(\"id_x\")\n",
    "viajes_gpd.pop(\"departamento_x\")\n",
    "viajes_gpd.pop(\"cabecera_x\")\n",
    "viajes_gpd.pop(\"provincia_x\")\n",
    "viajes_gpd.pop(\"id_y\")\n",
    "viajes_gpd.pop(\"departamento_y\")\n",
    "viajes_gpd.pop(\"cabecera_y\")\n",
    "viajes_gpd.pop(\"provincia_y\")"
   ]
  },
  {
   "cell_type": "code",
   "execution_count": 37,
   "metadata": {
    "id": "WFgjZIG19Yvv"
   },
   "outputs": [],
   "source": [
    "viajes_gpd = viajes_gpd.set_geometry(\"geometry_origen\")"
   ]
  },
  {
   "cell_type": "code",
   "execution_count": 38,
   "metadata": {
    "id": "QijsYLjV3QhV"
   },
   "outputs": [],
   "source": [
    "viajes_gpd['origen_x_coord'] = viajes_gpd['geometry_origen'].centroid.x\n",
    "viajes_gpd['origen_y_coord'] = viajes_gpd['geometry_origen'].centroid.y"
   ]
  },
  {
   "cell_type": "code",
   "execution_count": 39,
   "metadata": {
    "id": "yPzKCNw0-DO2"
   },
   "outputs": [],
   "source": [
    "viajes_gpd = viajes_gpd.set_geometry(\"geometry_destino\")"
   ]
  },
  {
   "cell_type": "code",
   "execution_count": 40,
   "metadata": {
    "id": "3ghFRhG1-Fhi"
   },
   "outputs": [],
   "source": [
    "viajes_gpd['destino_x_coord'] = viajes_gpd['geometry_destino'].centroid.x\n",
    "viajes_gpd['destino_y_coord'] = viajes_gpd['geometry_destino'].centroid.y"
   ]
  },
  {
   "cell_type": "code",
   "execution_count": 41,
   "metadata": {
    "id": "Yg521ndCWKZd"
   },
   "outputs": [],
   "source": [
    "# filtro viajes sin origen o destino especificado\n",
    "viajes_gpd = viajes_gpd[(viajes_gpd.comuna_origen != 'FUERA DE AREA - NORTE')&(viajes_gpd.comuna_origen != 'FUERA DE AREA - SUR')&(viajes_gpd.comuna_origen != 'SIN DATO')&\n",
    "            (viajes_gpd.comuna_destino != 'FUERA DE AREA - NORTE')&(viajes_gpd.comuna_destino != 'FUERA DE AREA - SUR')&(viajes_gpd.comuna_destino != 'SIN DATO')]"
   ]
  },
  {
   "cell_type": "markdown",
   "metadata": {
    "id": "X1N0GkAIHh9Y"
   },
   "source": [
    "## Modo"
   ]
  },
  {
   "cell_type": "code",
   "execution_count": 42,
   "metadata": {
    "id": "DlIsaawQFHYu"
   },
   "outputs": [],
   "source": [
    "etapas['Modo'] = etapas['Modo'].replace(['Ferrocarril', 'Subte / Premetro', 'A pie', 'Automovil / conductor', 'Taxi', 'Automovil / acompañante',\n",
    "       'Colectivo', 'Bicicleta', 'Remis', 'Charter / combi', 'Bus empresa', 'Motocicleta', 'Otros', 'Transporte escolar', 'Lancha Colectiva'],\n",
    "        ['Ferrocarril', 'Subte/Premetro', 'A pie', 'Automovil/conductor', 'Taxi', 'Automovil/acompañante', 'Colectivo', 'Bicicleta', 'Remis', 'Charter/combi',\n",
    "       'Bus empresa', 'Motocicleta', 'Otros', 'Transporte escolar', 'Lancha Colectiva'])"
   ]
  },
  {
   "cell_type": "code",
   "execution_count": 43,
   "metadata": {
    "id": "QIE-Jms0Fzco"
   },
   "outputs": [],
   "source": [
    "# Creo sub-categorías de agrupación en Etapas\n",
    "\n",
    "etapas_cats_old = ['Ferrocarril', 'Subte/Premetro', 'A pie', 'Automovil/conductor', 'Taxi', 'Automovil/acompañante', 'Colectivo', 'Bicicleta',\n",
    "               'Remis', 'Charter/combi', 'Bus empresa', 'Motocicleta', 'Otros', 'Transporte escolar', 'Lancha Colectiva']\n",
    "etapas_cats_new = ['Público', 'Público', 'No Motorizado', 'Auto/Moto', 'A demanda', 'Auto/Moto', 'Público', 'No Motorizado',\n",
    "               'A demanda', 'A demanda', 'A demanda', 'Auto/Moto', 'A demanda', 'A demanda', 'A demanda']\n",
    "\n",
    "\n",
    "etapas['Modo_agg'] = etapas['Modo'].replace(etapas_cats_old, etapas_cats_new)\n",
    "\n",
    "# Creo variables dummies para agregación de etapas a nivel de viaje\n",
    "etapas = pd.concat([etapas, pd.get_dummies(etapas.Modo)], axis=1)\n",
    "etapas = pd.concat([etapas, pd.get_dummies(etapas.Modo_agg)], axis=1)"
   ]
  },
  {
   "cell_type": "code",
   "execution_count": 44,
   "metadata": {
    "colab": {
     "base_uri": "https://localhost:8080/",
     "height": 110
    },
    "id": "lHvG60YuGVhK",
    "outputId": "d2ca7b07-529d-47a4-fe10-7c8faf691097"
   },
   "outputs": [],
   "source": [
    "particion_etapas = etapas.groupby(['Modo', 'Modo_agg']).wt1.sum().round().astype(int).reset_index()\n",
    "particion_etapas.columns = ['Modo', 'Modo_agg', 'Etapas']\n",
    "particion_etapas['Etapas_porc'] = (particion_etapas.Etapas / particion_etapas.Etapas.sum() * 100).round(1)"
   ]
  },
  {
   "cell_type": "markdown",
   "metadata": {
    "id": "1OY01-0nRoYs"
   },
   "source": [
    "### Ahora en tabla viajes"
   ]
  },
  {
   "cell_type": "code",
   "execution_count": 45,
   "metadata": {
    "colab": {
     "base_uri": "https://localhost:8080/"
    },
    "id": "NlSrIDSMTbzy",
    "outputId": "064ebff2-1a79-4129-ad1d-9f8f2978e9f2"
   },
   "outputs": [
    {
     "data": {
      "text/plain": [
       "Index(['Unnamed: 0', 'fraccion', 'partido', 'LOCALIDA', 'ETAPANUM', 'MOTIVOCA',\n",
       "       'ESTENT', 'ESTSAL', 'TARIFABO', 'TIPOTARI', 'TIPOGARA', 'TIPOCOST',\n",
       "       'COSTOPEA', 'COSTOTAX', 'CUACAANT', 'CUACADES', 'Modo', 'COSTOEST',\n",
       "       'ESTACENT', 'ESTACSAL', 'LINEAENT', 'LINEASAL', 'ESTACSUB', 'ESTACBAJ',\n",
       "       'ESPEHORA', 'ESPEMINU', 'DURAHORA', 'DURAMINU', 'TAXICOM',\n",
       "       'Z_TXTLINEA_NUMERICO', 'Z_TXTLINEA_SIN_CODIGO', 'wt1', 'z_tarifabo2',\n",
       "       'z_frecuenc_imput', 'z_costota2_2', 'z_costopea', 'z_COSTOEST', 'IDH',\n",
       "       'IDP', 'IDV', 'IDE', 'Modo_agg', 'A pie', 'Automovil/acompañante',\n",
       "       'Automovil/conductor', 'Bicicleta', 'Bus empresa', 'Charter/combi',\n",
       "       'Colectivo', 'Ferrocarril', 'Lancha Colectiva', 'Motocicleta', 'Otros',\n",
       "       'Remis', 'Subte/Premetro', 'Taxi', 'Transporte escolar', 'A demanda',\n",
       "       'Auto/Moto', 'No Motorizado', 'Público'],\n",
       "      dtype='object')"
      ]
     },
     "execution_count": 45,
     "metadata": {},
     "output_type": "execute_result"
    }
   ],
   "source": [
    "etapas.columns"
   ]
  },
  {
   "cell_type": "code",
   "execution_count": 46,
   "metadata": {
    "id": "yDv3AAuEOxlb"
   },
   "outputs": [],
   "source": [
    "viajes_gpd_etapa = viajes_gpd.merge(etapas, on = 'IDV', how='left')"
   ]
  },
  {
   "cell_type": "code",
   "execution_count": 47,
   "metadata": {
    "id": "R3_j-pomQ0Q1"
   },
   "outputs": [],
   "source": [
    "viajes_gpd_etapa = viajes_gpd_etapa.merge(personas, left_on = 'IDP_x', right_on = 'IDP', how='left')"
   ]
  },
  {
   "cell_type": "code",
   "execution_count": 48,
   "metadata": {
    "id": "8vgFF7G6WSbk"
   },
   "outputs": [],
   "source": [
    "viajes_gpd = viajes_gpd.merge(personas, on = 'IDP', how='left')"
   ]
  },
  {
   "cell_type": "code",
   "execution_count": 49,
   "metadata": {
    "colab": {
     "base_uri": "https://localhost:8080/",
     "height": 110
    },
    "id": "7UmvGNw9RrOU",
    "outputId": "727c5736-90bd-4788-f321-1b8c67fec0f8"
   },
   "outputs": [
    {
     "data": {
      "text/plain": [
       "\"\\n# Otra alternativa podría ser:\\nViajes_agg = etapas.groupby(['IDH', 'IDP', 'IDV']).agg({'Modo':'max', 'modo_agg':'max', 'Ferrocarril':'sum', 'Subte/Premetro':'sum', 'A pie':'sum', 'Automovil/conductor':'sum', 'Taxi':'sum', \\n                                                  'Automovil/acompañante':'sum', 'Colectivo':'sum', 'Bicicleta':'sum', 'Remis':'sum', 'Charter/combi':'sum', \\n                                                  'Bus empresa':'sum', 'Motocicleta':'sum', 'Otros':'sum', 'Transporte escolar':'sum', 'Lancha Colectiva':'sum', \\n                                                  'Público':'sum', 'No Motorizado':'sum', 'Auto/Moto':'sum', 'A demanda':'sum', 'wt1':'max'}).reset_index()\\n\\nViajes_agg['Cant_etapas'] = Viajes_agg[['Público', 'No Motorizado', 'Auto/Moto', 'A demanda']].sum(axis=1)\\nViajes_agg.loc[(Viajes_agg.Cant_etapas>1)&(Viajes_agg.Público>0), 'Modo'] = 'Multietapa'\\nViajes_agg.loc[(Viajes_agg.Cant_etapas>1)&((Viajes_agg.Modo!='Multietapa')), 'Modo'] = 'Otros Multietapa'\\nViajes_agg.loc[Viajes_agg.Modo=='Otros Multietapa', 'Modo_agg'] = 'Otros Multietapa'\\nViajes_agg.loc[Viajes_agg.Modo=='Multietapa', 'Modo_agg'] = 'Multietapa'\\n\\nViajes_agg['Modo_agg2'] = Viajes_agg.Modo_agg.replace(['No Motorizado', 'Auto/Moto', 'A demanda', 'Público',\\n       'Otros Multietapa', 'Multietapa'], ['No Motorizado', 'Auto/Moto', 'A demanda', 'Público',\\n       'A demanda', 'Público'])\\n\""
      ]
     },
     "execution_count": 49,
     "metadata": {},
     "output_type": "execute_result"
    }
   ],
   "source": [
    "'''\n",
    "# Otra alternativa podría ser:\n",
    "Viajes_agg = etapas.groupby(['IDH', 'IDP', 'IDV']).agg({'Modo':'max', 'modo_agg':'max', 'Ferrocarril':'sum', 'Subte/Premetro':'sum', 'A pie':'sum', 'Automovil/conductor':'sum', 'Taxi':'sum', \n",
    "                                                  'Automovil/acompañante':'sum', 'Colectivo':'sum', 'Bicicleta':'sum', 'Remis':'sum', 'Charter/combi':'sum', \n",
    "                                                  'Bus empresa':'sum', 'Motocicleta':'sum', 'Otros':'sum', 'Transporte escolar':'sum', 'Lancha Colectiva':'sum', \n",
    "                                                  'Público':'sum', 'No Motorizado':'sum', 'Auto/Moto':'sum', 'A demanda':'sum', 'wt1':'max'}).reset_index()\n",
    "\n",
    "Viajes_agg['Cant_etapas'] = Viajes_agg[['Público', 'No Motorizado', 'Auto/Moto', 'A demanda']].sum(axis=1)\n",
    "Viajes_agg.loc[(Viajes_agg.Cant_etapas>1)&(Viajes_agg.Público>0), 'Modo'] = 'Multietapa'\n",
    "Viajes_agg.loc[(Viajes_agg.Cant_etapas>1)&((Viajes_agg.Modo!='Multietapa')), 'Modo'] = 'Otros Multietapa'\n",
    "Viajes_agg.loc[Viajes_agg.Modo=='Otros Multietapa', 'Modo_agg'] = 'Otros Multietapa'\n",
    "Viajes_agg.loc[Viajes_agg.Modo=='Multietapa', 'Modo_agg'] = 'Multietapa'\n",
    "\n",
    "Viajes_agg['Modo_agg2'] = Viajes_agg.Modo_agg.replace(['No Motorizado', 'Auto/Moto', 'A demanda', 'Público',\n",
    "       'Otros Multietapa', 'Multietapa'], ['No Motorizado', 'Auto/Moto', 'A demanda', 'Público',\n",
    "       'A demanda', 'Público'])\n",
    "'''"
   ]
  },
  {
   "cell_type": "markdown",
   "metadata": {
    "id": "ITgchsJUrX91"
   },
   "source": [
    "## Cálculo distancia"
   ]
  },
  {
   "cell_type": "code",
   "execution_count": 50,
   "metadata": {
    "id": "jZuBs88_NlF7"
   },
   "outputs": [],
   "source": [
    "def manhattan_distance(a, b):\n",
    "    return sum(abs(e1-e2) for e1, e2 in zip(a,b)) * 100"
   ]
  },
  {
   "cell_type": "code",
   "execution_count": 51,
   "metadata": {
    "id": "Zol47ND1NnEc"
   },
   "outputs": [],
   "source": [
    "def distance_calc (row):\n",
    "    start = (row['origen_y_coord'], row['origen_x_coord'])\n",
    "    stop = (row['destino_y_coord'], row['destino_x_coord'])\n",
    "\n",
    "    return manhattan_distance(start, stop)"
   ]
  },
  {
   "cell_type": "code",
   "execution_count": 52,
   "metadata": {
    "id": "21O8we88N78m"
   },
   "outputs": [],
   "source": [
    "viajes_gpd['distance'] = viajes_gpd.apply (lambda row: distance_calc (row),axis=1)"
   ]
  },
  {
   "cell_type": "code",
   "execution_count": 53,
   "metadata": {
    "id": "Ey4MC9O_UbE8"
   },
   "outputs": [],
   "source": [
    "viajes_gpd_etapa['distance'] = viajes_gpd_etapa.apply (lambda row: distance_calc (row),axis=1)"
   ]
  },
  {
   "cell_type": "markdown",
   "metadata": {
    "id": "RoAlv3mqra-a"
   },
   "source": [
    "## Cálculo de tiempo"
   ]
  },
  {
   "cell_type": "code",
   "execution_count": 54,
   "metadata": {
    "id": "ThLHKU9Owfnh"
   },
   "outputs": [],
   "source": [
    "def time_difference(row):\n",
    "  time_diff = (row['HORALLEG'] - row['HORASALI']) * 60 + (row['MINLLEGA'] - row['MINSALID'])\n",
    "  return(time_diff)"
   ]
  },
  {
   "cell_type": "code",
   "execution_count": 55,
   "metadata": {
    "id": "m2ZatKixxl1N"
   },
   "outputs": [],
   "source": [
    "viajes_gpd['time_diff'] = viajes_gpd.apply (lambda row: time_difference (row),axis=1)"
   ]
  },
  {
   "cell_type": "code",
   "execution_count": 56,
   "metadata": {
    "id": "Dipzi9orxqal"
   },
   "outputs": [],
   "source": [
    "viajes_gpd_etapa['time_diff'] = viajes_gpd_etapa.apply (lambda row: time_difference (row),axis=1)"
   ]
  },
  {
   "cell_type": "markdown",
   "metadata": {
    "id": "b3yAfS52riJW"
   },
   "source": [
    "## Horario punta"
   ]
  },
  {
   "cell_type": "code",
   "execution_count": 57,
   "metadata": {
    "id": "OTT94-wb0S-S"
   },
   "outputs": [],
   "source": [
    "def tipo_horario(row):\n",
    "    if (row['HORASALI'] >= 7.0 and row['HORASALI'] < 11) or (row['HORASALI'] >= 16 and row['HORASALI'] < 20) :\n",
    "        return 'punta'\n",
    "    else:\n",
    "        return 'valle'"
   ]
  },
  {
   "cell_type": "code",
   "execution_count": 58,
   "metadata": {
    "id": "_V66fEXE6gNc"
   },
   "outputs": [],
   "source": [
    "viajes_gpd['tipo_horario'] = viajes_gpd.apply(tipo_horario, axis=1)"
   ]
  },
  {
   "cell_type": "code",
   "execution_count": 59,
   "metadata": {
    "id": "2e2akA6G7G86"
   },
   "outputs": [],
   "source": [
    "viajes_gpd_etapa['tipo_horario'] = viajes_gpd_etapa.apply(tipo_horario, axis=1)"
   ]
  },
  {
   "cell_type": "markdown",
   "metadata": {
    "id": "pi4pqRWsrlEW"
   },
   "source": [
    "## Horario punta mañana"
   ]
  },
  {
   "cell_type": "code",
   "execution_count": 60,
   "metadata": {
    "id": "Zivq6sGxYUx3"
   },
   "outputs": [],
   "source": [
    "def tipo_horario_punta_manana(row):\n",
    "    if (row['HORASALI'] >= 7.0 and row['HORASALI'] < 11) :\n",
    "        return True\n",
    "    else:\n",
    "        return False"
   ]
  },
  {
   "cell_type": "code",
   "execution_count": 61,
   "metadata": {
    "id": "OxDRug3bZFKk"
   },
   "outputs": [],
   "source": [
    "viajes_gpd['punta_manana'] = viajes_gpd.apply(tipo_horario_punta_manana, axis=1)"
   ]
  },
  {
   "cell_type": "code",
   "execution_count": 62,
   "metadata": {
    "id": "AFyytpRqZOlT"
   },
   "outputs": [],
   "source": [
    "viajes_gpd_etapa['punta_manana'] = viajes_gpd_etapa.apply(tipo_horario_punta_manana, axis=1)"
   ]
  },
  {
   "cell_type": "markdown",
   "metadata": {
    "id": "oKgAQ1ncroSJ"
   },
   "source": [
    "## Recategorizo modo para el posterior calculo de indicadores"
   ]
  },
  {
   "cell_type": "code",
   "execution_count": 63,
   "metadata": {
    "id": "EUbMajXZbNJS"
   },
   "outputs": [],
   "source": [
    "viajes_gpd_etapa['Modo_indicador'] = viajes_gpd_etapa['Modo']"
   ]
  },
  {
   "cell_type": "code",
   "execution_count": 64,
   "metadata": {
    "id": "nC62S0QcbgGg"
   },
   "outputs": [],
   "source": [
    "dict = {\"Automovil/acompañante\" : 'Auto', \"Automovil/conductor\": 'Auto', \"Bus empresa\": 'Otros',\n",
    "         \"Charter/combi\": 'Otros', \"Colectivo\": 'Público', \"Ferrocarril\": 'Público', \"Lancha Colectiva\": 'Público',\n",
    "        \"Remis\": 'Otros', \"Subte/Premetro\": 'Público', \"Taxi\": 'Otros', \"Transporte escolar\": 'Otros'}\n",
    "\n",
    "viajes_gpd_etapa=viajes_gpd_etapa.replace({\"Modo_indicador\": dict})"
   ]
  },
  {
   "cell_type": "code",
   "execution_count": 65,
   "metadata": {
    "id": "PA3lVqU3mfpU"
   },
   "outputs": [],
   "source": [
    "# Cambio valores lugar de trabajo\n",
    "viajes_gpd['ACTIORIG_AGG'] = viajes_gpd['ACTIORIG'] \n",
    "dict = {'Asunto laboral': 'Trabajo', 'Lugar de trabajo': 'Trabajo'}\n",
    "viajes_gpd=viajes_gpd.replace({\"ACTIORIG_AGG\": dict})"
   ]
  },
  {
   "cell_type": "markdown",
   "metadata": {
    "id": "Fkm8eteZOTfJ"
   },
   "source": [
    "## Join de Viajes - Etapa + Hogares"
   ]
  },
  {
   "cell_type": "code",
   "execution_count": 66,
   "metadata": {
    "colab": {
     "base_uri": "https://localhost:8080/"
    },
    "id": "cMkKEATzOPJy",
    "outputId": "d45f783e-7405-4315-b3b8-6e5c40ef5eb1"
   },
   "outputs": [
    {
     "name": "stderr",
     "output_type": "stream",
     "text": [
      "/home/roliverio/anaconda3/lib/python3.9/site-packages/pandas/core/frame.py:9190: FutureWarning: Passing 'suffixes' which cause duplicate columns {'Unnamed: 0_x', 'fraccion_x', 'LOCALIDA_x', 'wt1_x'} in the result is deprecated and will raise a MergeError in a future version.\n",
      "  return merge(\n"
     ]
    }
   ],
   "source": [
    "viajes_gpd_etapa_hogares = viajes_gpd_etapa.merge(hogares, on = 'IDH', how='left')"
   ]
  },
  {
   "cell_type": "code",
   "execution_count": 67,
   "metadata": {
    "id": "Zo7my_9HPlq_"
   },
   "outputs": [],
   "source": [
    "viajes_gpd_hogares = viajes_gpd.merge(hogares, left_on = 'IDH_x', right_on = 'IDH', how='left')"
   ]
  },
  {
   "cell_type": "markdown",
   "metadata": {
    "id": "VxR9MRtFl9cD"
   },
   "source": [
    "## Generación de csv"
   ]
  },
  {
   "cell_type": "code",
   "execution_count": 68,
   "metadata": {
    "colab": {
     "base_uri": "https://localhost:8080/"
    },
    "id": "Kv3GX-ZPl8xd",
    "outputId": "1d280861-f46f-4577-c85f-9d814928cb70"
   },
   "outputs": [
    {
     "data": {
      "text/plain": [
       "(102560, 96)"
      ]
     },
     "execution_count": 68,
     "metadata": {},
     "output_type": "execute_result"
    }
   ],
   "source": [
    "viajes_gpd_hogares.shape"
   ]
  },
  {
   "cell_type": "code",
   "execution_count": 69,
   "metadata": {
    "colab": {
     "base_uri": "https://localhost:8080/"
    },
    "id": "mrJiwv4fmF2H",
    "outputId": "8a854e3d-4c9e-4927-f5ee-60aa0bb6adc9"
   },
   "outputs": [
    {
     "data": {
      "text/plain": [
       "(117535, 156)"
      ]
     },
     "execution_count": 69,
     "metadata": {},
     "output_type": "execute_result"
    }
   ],
   "source": [
    "viajes_gpd_etapa_hogares.shape"
   ]
  },
  {
   "cell_type": "code",
   "execution_count": 70,
   "metadata": {
    "id": "FRcVlGSpnphm"
   },
   "outputs": [],
   "source": [
    "viajes_gpd_hogares_to_save = viajes_gpd_hogares.drop(['geometry_origen', 'geometry_destino'], axis=1)\n"
   ]
  },
  {
   "cell_type": "code",
   "execution_count": 71,
   "metadata": {
    "id": "WV4dA8BVoFsX"
   },
   "outputs": [],
   "source": [
    "viajes_gpd_hogares_to_save = pd.DataFrame(viajes_gpd_hogares_to_save)"
   ]
  },
  {
   "cell_type": "code",
   "execution_count": 72,
   "metadata": {
    "id": "2V_IdEwdsDU6"
   },
   "outputs": [],
   "source": [
    "# Cambiar por path propio de drive o local\n",
    "data_path = '/home/roliverio/Documentos/ADDI/enmodo/buenos-aires/'"
   ]
  },
  {
   "cell_type": "code",
   "execution_count": 73,
   "metadata": {
    "id": "J50NQCu9m0k8"
   },
   "outputs": [],
   "source": [
    "viajes_gpd_hogares_to_save.to_csv(data_path + 'output-csv/viajes_gpd_hogares.csv', index=False)"
   ]
  },
  {
   "cell_type": "code",
   "execution_count": 74,
   "metadata": {
    "id": "VZn_qaMboMim"
   },
   "outputs": [],
   "source": [
    "viajes_gpd_etapa_hogares_to_save = viajes_gpd_etapa_hogares.drop(['geometry_origen', 'geometry_destino'], axis=1)"
   ]
  },
  {
   "cell_type": "code",
   "execution_count": 75,
   "metadata": {
    "id": "6DH_V_DpochP"
   },
   "outputs": [],
   "source": [
    "viajes_gpd_etapa_hogares_to_save = pd.DataFrame(viajes_gpd_etapa_hogares_to_save)"
   ]
  },
  {
   "cell_type": "code",
   "execution_count": 76,
   "metadata": {
    "id": "FeMzEfqvrOUW"
   },
   "outputs": [],
   "source": [
    "viajes_gpd_etapa_hogares_to_save = viajes_gpd_etapa_hogares_to_save.loc[:,~viajes_gpd_etapa_hogares_to_save.columns.duplicated()]"
   ]
  },
  {
   "cell_type": "code",
   "execution_count": 77,
   "metadata": {
    "id": "58LO_1c_p5cu"
   },
   "outputs": [],
   "source": [
    "viajes_gpd_etapa_hogares_to_save = viajes_gpd_etapa_hogares_to_save.drop(['Unnamed: 0_x', 'HORAINI', 'HORAFIN', 'wt1_x', 'z_frecuenc_imput_x', 'Unnamed: 0_y', 'wt1_y', 'IDH_y',\n",
    "                                       'IDP_y', 'Unnamed: 0_x', 'wt1_x', 'CDNINGUN', 'CDMOTORA', 'CDMENTAL', 'CDVISUAL', 'CDAUDITI', 'CDHABLA', 'CDOTRAS', 'z_cocherasino',\n",
    "                                       'z_tieneciclomo', 'z_tienemoto', 'z_tieneauto', 'z_gastoco2', 'z_gastoma2', 'A pie', 'Automovil/acompañante', 'Automovil/conductor',\n",
    "                                       'Bicicleta', 'Bus empresa', 'Charter/combi', 'Colectivo', 'Ferrocarril', 'Lancha Colectiva', 'Motocicleta', 'Otros', 'Remis', 'Subte/Premetro', 'Taxi', 'Transporte escolar', 'A demanda', \n",
    "                                       'Auto/Moto', 'No Motorizado', 'TIPOGARA', 'TIPOCOST', 'COSTOPEA', 'COSTOTAX', 'CUACAANT', 'CUACADES', 'ESPEHORA', 'ESPEMINU', 'DURAHORA', 'DURAMINU',\n",
    "                                       'IDH_x', 'IDP_x', 'origen_x_coord', 'origen_y_coord', 'destino_x_coord', 'destino_y_coord'], axis=1)"
   ]
  },
  {
   "cell_type": "code",
   "execution_count": 78,
   "metadata": {
    "colab": {
     "base_uri": "https://localhost:8080/"
    },
    "id": "F__wbDOkvE1j",
    "outputId": "51d9738f-8883-4760-e36a-7a9fbb4d0edf"
   },
   "outputs": [
    {
     "data": {
      "text/plain": [
       "(102560, 94)"
      ]
     },
     "execution_count": 78,
     "metadata": {},
     "output_type": "execute_result"
    }
   ],
   "source": [
    "viajes_gpd_hogares_to_save.shape"
   ]
  },
  {
   "cell_type": "code",
   "execution_count": 79,
   "metadata": {
    "colab": {
     "base_uri": "https://localhost:8080/"
    },
    "id": "36xevRzQvCeh",
    "outputId": "ef1b811d-baaa-476e-a843-642f67f4fe5b"
   },
   "outputs": [
    {
     "data": {
      "text/plain": [
       "(117535, 90)"
      ]
     },
     "execution_count": 79,
     "metadata": {},
     "output_type": "execute_result"
    }
   ],
   "source": [
    "viajes_gpd_etapa_hogares_to_save.shape"
   ]
  },
  {
   "cell_type": "code",
   "execution_count": 80,
   "metadata": {
    "id": "Mutc_Vs1m_Ac"
   },
   "outputs": [],
   "source": [
    "viajes_gpd_etapa_hogares_to_save.to_csv(data_path + 'output-csv/viajes_gpd_etapa_hogares.csv', index=False)"
   ]
  },
  {
   "cell_type": "markdown",
   "metadata": {},
   "source": [
    "## Generación de geojson"
   ]
  },
  {
   "cell_type": "markdown",
   "metadata": {},
   "source": [
    "### viajes"
   ]
  },
  {
   "cell_type": "code",
   "execution_count": 81,
   "metadata": {},
   "outputs": [],
   "source": [
    "origenes_viajes = pd.DataFrame(viajes_gpd_hogares)\n",
    "destinos_viajes = pd.DataFrame(viajes_gpd_hogares)"
   ]
  },
  {
   "cell_type": "code",
   "execution_count": 82,
   "metadata": {},
   "outputs": [],
   "source": [
    "origenes_viajes = gpd.GeoDataFrame(origenes_viajes, geometry='geometry_origen')\n",
    "destinos_viajes = gpd.GeoDataFrame(destinos_viajes, geometry='geometry_destino')"
   ]
  },
  {
   "cell_type": "code",
   "execution_count": 83,
   "metadata": {},
   "outputs": [],
   "source": [
    "origenes_viajes.geometry_origen = origenes_viajes.geometry_origen.centroid\n",
    "destinos_viajes.geometry_destino = destinos_viajes.geometry_destino.centroid"
   ]
  },
  {
   "cell_type": "code",
   "execution_count": 84,
   "metadata": {},
   "outputs": [],
   "source": [
    "origenes_viajes = origenes_viajes.loc[:,~origenes_viajes.columns.duplicated()]\n",
    "destinos_viajes = destinos_viajes.loc[:,~destinos_viajes.columns.duplicated()]"
   ]
  },
  {
   "cell_type": "code",
   "execution_count": 85,
   "metadata": {},
   "outputs": [],
   "source": [
    "origenes_viajes.drop(['geometry_destino'], axis=1, inplace = True)\n",
    "destinos_viajes.drop(['geometry_origen'], axis=1, inplace = True)"
   ]
  },
  {
   "cell_type": "code",
   "execution_count": 86,
   "metadata": {},
   "outputs": [],
   "source": [
    "origenes_viajes.to_file(data_path + 'output-geojson/origenes_viajes.geojson', driver='GeoJSON')\n",
    "destinos_viajes.to_file(data_path + 'output-geojson/destinos_viajes.geojson', driver='GeoJSON')"
   ]
  },
  {
   "cell_type": "markdown",
   "metadata": {},
   "source": [
    "### viajes_etapa"
   ]
  },
  {
   "cell_type": "code",
   "execution_count": 87,
   "metadata": {},
   "outputs": [],
   "source": [
    "origenes_viajes_etapa = pd.DataFrame(viajes_gpd_etapa_hogares)\n",
    "destinos_viajes_etapa = pd.DataFrame(viajes_gpd_etapa_hogares)"
   ]
  },
  {
   "cell_type": "code",
   "execution_count": 88,
   "metadata": {},
   "outputs": [],
   "source": [
    "origenes_viajes_etapa = gpd.GeoDataFrame(origenes_viajes_etapa, geometry='geometry_origen')\n",
    "destinos_viajes_etapa = gpd.GeoDataFrame(destinos_viajes_etapa, geometry='geometry_destino')"
   ]
  },
  {
   "cell_type": "code",
   "execution_count": 89,
   "metadata": {},
   "outputs": [],
   "source": [
    "origenes_viajes_etapa.geometry_origen = origenes_viajes_etapa.geometry_origen.centroid\n",
    "destinos_viajes_etapa.geometry_destino = destinos_viajes_etapa.geometry_destino.centroid"
   ]
  },
  {
   "cell_type": "code",
   "execution_count": 90,
   "metadata": {},
   "outputs": [],
   "source": [
    "origenes_viajes_etapa = origenes_viajes_etapa.loc[:,~origenes_viajes_etapa.columns.duplicated()]\n",
    "destinos_viajes_etapa = destinos_viajes_etapa.loc[:,~destinos_viajes_etapa.columns.duplicated()]"
   ]
  },
  {
   "cell_type": "code",
   "execution_count": 91,
   "metadata": {},
   "outputs": [],
   "source": [
    "origenes_viajes_etapa.drop(['geometry_destino'], axis=1, inplace = True)\n",
    "destinos_viajes_etapa.drop(['geometry_origen'], axis=1, inplace = True)"
   ]
  },
  {
   "cell_type": "code",
   "execution_count": null,
   "metadata": {},
   "outputs": [],
   "source": [
    "origenes_viajes_etapa.to_file(data_path + 'output-geojson/origenes_viajes_etapa.geojson', driver='GeoJSON')\n",
    "destinos_viajes_etapa.to_file(data_path + 'output-geojson/destinos_viajes_etapa.geojson', driver='GeoJSON')"
   ]
  },
  {
   "cell_type": "markdown",
   "metadata": {},
   "source": [
    "## Generación de shapefile"
   ]
  },
  {
   "cell_type": "markdown",
   "metadata": {},
   "source": [
    "### viajes"
   ]
  },
  {
   "cell_type": "code",
   "execution_count": null,
   "metadata": {},
   "outputs": [],
   "source": [
    "origenes_viajes.to_file(data_path + 'output-shp/origenes_viajes.shp', driver='GeoJSON')\n",
    "destinos_viajes.to_file(data_path + 'output-shp/destinos_viajes.shp', driver='GeoJSON')"
   ]
  },
  {
   "cell_type": "markdown",
   "metadata": {},
   "source": [
    "### viajes_etapa"
   ]
  },
  {
   "cell_type": "code",
   "execution_count": null,
   "metadata": {},
   "outputs": [],
   "source": [
    "origenes_viajes_etapa.to_file(data_path + 'output-shp/origenes_viajes_etapa.shp', driver='GeoJSON')\n",
    "destinos_viajes_etapa.to_file(data_path + 'output-shp/destinos_viajes_etapa.shp', driver='GeoJSON')"
   ]
  },
  {
   "cell_type": "markdown",
   "metadata": {
    "id": "UyZW_WvSsWv7"
   },
   "source": [
    "## Cálculo de indicadores"
   ]
  },
  {
   "cell_type": "markdown",
   "metadata": {
    "id": "LxPEBwUxCYju"
   },
   "source": [
    "#### Distancia de viajes en automóvil privado + Distancia de viajes en transporte público"
   ]
  },
  {
   "cell_type": "code",
   "execution_count": null,
   "metadata": {
    "colab": {
     "base_uri": "https://localhost:8080/"
    },
    "id": "LHDTFNcTRv-b",
    "outputId": "ec7b4a2d-ac53-4eb7-a256-ad54411be749"
   },
   "outputs": [],
   "source": [
    "viajes_gpd_etapa.groupby(['Modo_agg']).mean('distance')['distance']"
   ]
  },
  {
   "cell_type": "code",
   "execution_count": null,
   "metadata": {
    "colab": {
     "base_uri": "https://localhost:8080/"
    },
    "id": "SyujzoU_PuBi",
    "outputId": "8fd22d07-df02-4c2f-9f07-bbfc052e73e2"
   },
   "outputs": [],
   "source": [
    "viajes_gpd_etapa.groupby(['Modo_agg', 'SEXO']).mean('distance')['distance']"
   ]
  },
  {
   "cell_type": "markdown",
   "metadata": {
    "id": "kGiGRTzECYeG"
   },
   "source": [
    "#### Distancia de viajes por motivo estudio + Distancia de viajes por motivo trabajo"
   ]
  },
  {
   "cell_type": "code",
   "execution_count": null,
   "metadata": {
    "colab": {
     "base_uri": "https://localhost:8080/"
    },
    "id": "2XD8459rSmoY",
    "outputId": "aa6c8b4c-aa48-4adf-d5aa-d107249134cb"
   },
   "outputs": [],
   "source": [
    "viajes_gpd.groupby(['ACTIORIG_AGG']).mean('distance')['distance']"
   ]
  },
  {
   "cell_type": "code",
   "execution_count": null,
   "metadata": {
    "colab": {
     "base_uri": "https://localhost:8080/"
    },
    "id": "1_ilON-8WfW5",
    "outputId": "cc4c1e34-55ce-4b53-d37d-2993a29d7d59"
   },
   "outputs": [],
   "source": [
    " viajes_gpd.groupby(['ACTIORIG_AGG', 'SEXO']).mean('distance')['distance']"
   ]
  },
  {
   "cell_type": "markdown",
   "metadata": {
    "id": "WDZB96HGCpr4"
   },
   "source": [
    "#### Proporción de viajes intrazonales versus interzonales"
   ]
  },
  {
   "cell_type": "code",
   "execution_count": null,
   "metadata": {
    "id": "oBmdMd8uO77l"
   },
   "outputs": [],
   "source": [
    "viajes_gpd[\"es_caba_origen\"] = viajes_gpd[\"comuna_origen\"].str.contains(\"COMUNA\")"
   ]
  },
  {
   "cell_type": "code",
   "execution_count": null,
   "metadata": {
    "id": "QIiOHzROQbn7"
   },
   "outputs": [],
   "source": [
    "viajes_gpd[\"es_caba_destino\"] = viajes_gpd[\"comuna_destino\"].str.contains(\"COMUNA\")"
   ]
  },
  {
   "cell_type": "code",
   "execution_count": null,
   "metadata": {
    "id": "cLk-5ffGTbAP"
   },
   "outputs": [],
   "source": [
    "viajes_gpd.loc[((viajes_gpd['es_caba_origen'] == True) & (viajes_gpd['es_caba_destino'] == True)) |\n",
    "               ((viajes_gpd['es_caba_origen'] == False) & (viajes_gpd['es_caba_destino'] == False)), 'tipo_viaje_zona'] = 'Intrazonal'  "
   ]
  },
  {
   "cell_type": "code",
   "execution_count": null,
   "metadata": {
    "id": "GjmRrawFYKQr"
   },
   "outputs": [],
   "source": [
    "viajes_gpd.loc[((viajes_gpd['es_caba_origen'] == True) & (viajes_gpd['es_caba_destino'] == False)) |\n",
    "               ((viajes_gpd['es_caba_origen'] == False) & (viajes_gpd['es_caba_destino'] == True)), 'tipo_viaje_zona'] = 'Interzonal'  "
   ]
  },
  {
   "cell_type": "code",
   "execution_count": null,
   "metadata": {
    "colab": {
     "base_uri": "https://localhost:8080/"
    },
    "id": "b1mHBHemYPeA",
    "outputId": "25313061-c7fd-44a3-f6ae-faffc8929cd0"
   },
   "outputs": [],
   "source": [
    "viajes_gpd.groupby('tipo_viaje_zona').size()"
   ]
  },
  {
   "cell_type": "code",
   "execution_count": null,
   "metadata": {
    "colab": {
     "base_uri": "https://localhost:8080/"
    },
    "id": "HBZtQtMkYS2O",
    "outputId": "690b8dc2-a9e8-4e5a-9fe2-f2e7def66ad7"
   },
   "outputs": [],
   "source": [
    "viajes_gpd.shape"
   ]
  },
  {
   "cell_type": "markdown",
   "metadata": {
    "id": "mWxNVjeXIlEW"
   },
   "source": [
    "#### Tiempo promedio de viaje al trabajo en transporte público\n"
   ]
  },
  {
   "cell_type": "code",
   "execution_count": null,
   "metadata": {
    "colab": {
     "base_uri": "https://localhost:8080/"
    },
    "id": "f6EopLIMZUQo",
    "outputId": "fbe0b270-8a85-4598-f917-58cbfd2140a2"
   },
   "outputs": [],
   "source": [
    "viajes_gpd_etapa.groupby(['Modo_agg']).mean('time_diff')['time_diff']"
   ]
  },
  {
   "cell_type": "code",
   "execution_count": null,
   "metadata": {
    "colab": {
     "base_uri": "https://localhost:8080/"
    },
    "id": "a7yEtegkyMIS",
    "outputId": "0ac4b82c-b44e-459b-cffe-7ee9d43d6522"
   },
   "outputs": [],
   "source": [
    "viajes_gpd_etapa.groupby(['Modo_agg', 'SEXO']).mean('time_diff')['time_diff']"
   ]
  },
  {
   "cell_type": "markdown",
   "metadata": {
    "id": "IeB3jBF_IoB_"
   },
   "source": [
    "#### Tiempo promedio de viaje en hora punta de mañana"
   ]
  },
  {
   "cell_type": "code",
   "execution_count": null,
   "metadata": {
    "colab": {
     "base_uri": "https://localhost:8080/"
    },
    "id": "DKHLhAaJ7Mzn",
    "outputId": "daca7af9-f694-440b-dd3f-b2e4e153571f"
   },
   "outputs": [],
   "source": [
    "viajes_gpd.groupby(['tipo_horario']).mean('time_diff')['time_diff']"
   ]
  },
  {
   "cell_type": "code",
   "execution_count": null,
   "metadata": {
    "colab": {
     "base_uri": "https://localhost:8080/"
    },
    "id": "VsgWAaltWiqk",
    "outputId": "ebc84ba6-f6ea-4c3e-8c83-77e1fc146a3a"
   },
   "outputs": [],
   "source": [
    "viajes_gpd.groupby(['tipo_horario', 'SEXO']).mean('time_diff')['time_diff']"
   ]
  },
  {
   "cell_type": "markdown",
   "metadata": {
    "id": "hGrnG0uRIp0Q"
   },
   "source": [
    "#### Tiempo de viaje en transporte público en hora punta en la mañana\n"
   ]
  },
  {
   "cell_type": "code",
   "execution_count": null,
   "metadata": {
    "colab": {
     "base_uri": "https://localhost:8080/"
    },
    "id": "b1pwKgnWYP8x",
    "outputId": "d21a43af-ff88-4e97-d0a1-5bb2a67c1bc6"
   },
   "outputs": [],
   "source": [
    "viajes_gpd_etapa.groupby(['Modo_agg', 'punta_manana']).mean('time_diff')['time_diff']"
   ]
  },
  {
   "cell_type": "code",
   "execution_count": null,
   "metadata": {
    "colab": {
     "base_uri": "https://localhost:8080/"
    },
    "id": "0AycBRs2ZV1G",
    "outputId": "36590801-2321-4e58-f898-21d45dec29a7"
   },
   "outputs": [],
   "source": [
    "viajes_gpd_etapa.groupby(['Modo_agg', 'punta_manana', 'SEXO']).mean('time_diff')['time_diff']"
   ]
  },
  {
   "cell_type": "markdown",
   "metadata": {
    "id": "-wzq6Rd7IrKm"
   },
   "source": [
    "#### Brecha de tiempo entre hora punta y valle del transporte público"
   ]
  },
  {
   "cell_type": "code",
   "execution_count": null,
   "metadata": {
    "colab": {
     "base_uri": "https://localhost:8080/"
    },
    "id": "lgMjYeDR7ThM",
    "outputId": "cd73565f-38ad-49fe-c84a-fd13e703c52c"
   },
   "outputs": [],
   "source": [
    "viajes_gpd_etapa.groupby(['Modo_agg', 'tipo_horario']).mean('time_diff')['time_diff']"
   ]
  },
  {
   "cell_type": "code",
   "execution_count": null,
   "metadata": {
    "colab": {
     "base_uri": "https://localhost:8080/"
    },
    "id": "Y5upJ8Oeaq29",
    "outputId": "b98a1847-3012-4215-98ab-9f81bd4e4882"
   },
   "outputs": [],
   "source": [
    "viajes_gpd_etapa.groupby(['Modo_agg', 'tipo_horario', 'SEXO']).mean('time_diff')['time_diff']"
   ]
  },
  {
   "cell_type": "markdown",
   "metadata": {
    "id": "jEpwlyJDIuAf"
   },
   "source": [
    "#### Tiempo promedio de viaje por modo y tipo de transporte"
   ]
  },
  {
   "cell_type": "code",
   "execution_count": null,
   "metadata": {
    "colab": {
     "base_uri": "https://localhost:8080/"
    },
    "id": "H2wFBuQfyTxI",
    "outputId": "5899162a-fe22-4eb9-dbaf-10198d583e9f"
   },
   "outputs": [],
   "source": [
    "viajes_gpd_etapa.groupby(['Modo_agg']).mean('time_diff')['time_diff']"
   ]
  },
  {
   "cell_type": "code",
   "execution_count": null,
   "metadata": {
    "colab": {
     "base_uri": "https://localhost:8080/"
    },
    "id": "aXjAwW3Ka3hN",
    "outputId": "51ccb17b-3fbf-4eb2-9fc1-ef688ce29341"
   },
   "outputs": [],
   "source": [
    "viajes_gpd_etapa.groupby(['Modo_agg', 'SEXO']).mean('time_diff')['time_diff']"
   ]
  },
  {
   "cell_type": "code",
   "execution_count": null,
   "metadata": {
    "colab": {
     "base_uri": "https://localhost:8080/"
    },
    "id": "WICD4Z85bHKv",
    "outputId": "0ebd4800-a7ff-41c6-c1ec-da7446dcffcf"
   },
   "outputs": [],
   "source": [
    "viajes_gpd_etapa.groupby(['Modo']).mean('time_diff')['time_diff']"
   ]
  },
  {
   "cell_type": "code",
   "execution_count": null,
   "metadata": {
    "colab": {
     "base_uri": "https://localhost:8080/"
    },
    "id": "wigJKcZXeC9X",
    "outputId": "b1bfac30-9148-44db-8a91-876d9ed23897"
   },
   "outputs": [],
   "source": [
    "viajes_gpd_etapa.groupby(['Modo_indicador']).mean('time_diff')['time_diff']"
   ]
  },
  {
   "cell_type": "code",
   "execution_count": null,
   "metadata": {
    "colab": {
     "base_uri": "https://localhost:8080/"
    },
    "id": "wo7WwGVFeOsG",
    "outputId": "daacb9c1-6a4a-487a-ae09-8b65c3b86b47"
   },
   "outputs": [],
   "source": [
    "viajes_gpd_etapa.time_diff.mean()"
   ]
  },
  {
   "cell_type": "markdown",
   "metadata": {
    "id": "YBqo4vKTJOVo"
   },
   "source": [
    "#### Distribución y Participación Modal de los viajes por clasificador socioeconómico\n"
   ]
  },
  {
   "cell_type": "code",
   "execution_count": null,
   "metadata": {
    "colab": {
     "base_uri": "https://localhost:8080/"
    },
    "id": "-g5OTmhoStjv",
    "outputId": "e3eb2d29-c99b-4c95-83fe-ce65db2a73d8"
   },
   "outputs": [],
   "source": [
    "viajes_gpd_etapa_hogares.groupby('Modo')['z_Quintil_ing_per_capita_AD_EQUIV'].value_counts(normalize=True)"
   ]
  },
  {
   "cell_type": "code",
   "execution_count": null,
   "metadata": {
    "colab": {
     "base_uri": "https://localhost:8080/"
    },
    "id": "VL08Lv9VQkP9",
    "outputId": "5e7d5863-2866-4f75-909a-97dad0d810e9"
   },
   "outputs": [],
   "source": [
    "viajes_gpd_etapa_hogares.groupby('Modo')['z_Quintil_ing_per_capita_AD_EQUIV'].value_counts(normalize=False)"
   ]
  },
  {
   "cell_type": "markdown",
   "metadata": {
    "id": "leSOo4QDJRWL"
   },
   "source": [
    "Proporción entre los viajes en transporte público y privado por clasificador socioeconómico\n"
   ]
  },
  {
   "cell_type": "code",
   "execution_count": null,
   "metadata": {
    "colab": {
     "base_uri": "https://localhost:8080/"
    },
    "id": "AC6OYQwfTHsl",
    "outputId": "f511fbb5-f447-4d7f-bebb-2b85711ef13a"
   },
   "outputs": [],
   "source": [
    "viajes_gpd_etapa_hogares.groupby('Modo_indicador')['z_Quintil_ing_per_capita_AD_EQUIV'].value_counts(normalize=True)"
   ]
  },
  {
   "cell_type": "code",
   "execution_count": null,
   "metadata": {
    "colab": {
     "base_uri": "https://localhost:8080/"
    },
    "id": "fvGdzBEATzRx",
    "outputId": "50057807-e073-4ee5-9da6-d85b7f338f7a"
   },
   "outputs": [],
   "source": [
    "viajes_gpd_etapa.groupby('Modo_indicador')['ORDEN_y'].value_counts(normalize=True)"
   ]
  },
  {
   "cell_type": "markdown",
   "metadata": {
    "id": "CAPtWrjjJS1y"
   },
   "source": [
    "Tasa promedio de viajes diarios en transporte privado por clasificador económico"
   ]
  },
  {
   "cell_type": "markdown",
   "metadata": {
    "id": "2Pjmc3cZK4HN"
   },
   "source": [
    "Cantidad de pasajeros por modo (demanda) por cada cien mil habitantes"
   ]
  },
  {
   "cell_type": "markdown",
   "metadata": {
    "id": "C8R14L7TK5aK"
   },
   "source": [
    "Porcentaje de la población dentro del área de influencia de la red de transporte público\n"
   ]
  },
  {
   "cell_type": "markdown",
   "metadata": {
    "id": "RGsy9Ai6K7D_"
   },
   "source": [
    "Tasa de buses de transporte público por cada cien mil habitantes"
   ]
  },
  {
   "cell_type": "markdown",
   "metadata": {
    "id": "J3zt5wjjK8oZ"
   },
   "source": [
    "Cantidad de vehículos de transporte privado"
   ]
  },
  {
   "cell_type": "markdown",
   "metadata": {
    "id": "9RLg7vpQK-Xm"
   },
   "source": [
    "Cantidad de vehículos del transporte público impulsados por energías no fósiles (eléctricos)"
   ]
  },
  {
   "cell_type": "markdown",
   "metadata": {
    "id": "gTwH7NZKK-RX"
   },
   "source": [
    "Tasa de muertes en accidentes de tráfico"
   ]
  },
  {
   "cell_type": "markdown",
   "metadata": {
    "id": "qwpK6jYkLDNB"
   },
   "source": [
    "Peso monetario del transporte público en el presupuesto familiar"
   ]
  },
  {
   "cell_type": "markdown",
   "metadata": {
    "id": "dnG5V1MwLGhC"
   },
   "source": [
    "Brecha entre hombres y mujeres de viajes en la noche respecto al total de viajes\n"
   ]
  },
  {
   "cell_type": "markdown",
   "metadata": {
    "id": "ddyVJavKLIB1"
   },
   "source": [
    "Relación combustible y costo ticket transporte público\n"
   ]
  },
  {
   "cell_type": "markdown",
   "metadata": {
    "id": "j06TxQM4LFH3"
   },
   "source": [
    "## Coeficiente de movilidad (accesibilidad e interacción) y de inmovilidad"
   ]
  },
  {
   "cell_type": "code",
   "execution_count": null,
   "metadata": {
    "colab": {
     "base_uri": "https://localhost:8080/"
    },
    "id": "6SVixA4HvIsX",
    "outputId": "633f4dda-4c4b-4b86-9319-fc10247e46aa"
   },
   "outputs": [],
   "source": [
    "!pip3 install seaborn"
   ]
  },
  {
   "cell_type": "code",
   "execution_count": null,
   "metadata": {
    "id": "sHUyXHOnvJbA"
   },
   "outputs": [],
   "source": [
    "import seaborn as sns\n",
    "from scipy import stats\n",
    "from scipy import sparse\n",
    "import scipy.sparse.linalg.dsolve as linsolve\n",
    "from sympy import *"
   ]
  },
  {
   "cell_type": "code",
   "execution_count": null,
   "metadata": {
    "id": "NY-DHwEkooUY"
   },
   "outputs": [],
   "source": [
    "def generate_groups(df):\n",
    "    # Generating interception points\n",
    "    slope, intercept, r_value, p_value, std_err = stats.linregress(df['n_viajes'],df['tiempo_total']) # linear equation\n",
    "    median = df.tiempo_total.median() # time median\n",
    "    max_value_x= df.n_viajes.max() # max trip number\n",
    "    min_value_x= df.n_viajes.min() # max trip number\n",
    "    max_value_y= df.tiempo_total.max() # max time\n",
    "    min_value_y= df.tiempo_total.min() # max time\n",
    "    interception = linsolve([slope*x+intercept-y, median-y ], (x, y))\n",
    "    (x0, y0) = next(iter(interception)) # interception median time and trip number\n",
    "    \n",
    "    #interception points\n",
    "    x_points=[]\n",
    "    y_points=[]\n",
    "    for x_point in range(1,max_value_x+1):\n",
    "        interception_2 = linsolve([slope*x+intercept-y, x_point-x ], (x, y))\n",
    "        (x1, y1) = next(iter(interception_2)) # interception points\n",
    "        x_points.append(x1)\n",
    "        y_points.append(y1)\n",
    "    if x0 > 0:    \n",
    "        #B2\n",
    "        print('Generando grupo B2...')\n",
    "        b2 = df[(df.tiempo_total >= y0) & (df.n_viajes >= x0)].assign(group='b2')\n",
    "\n",
    "        #B1\n",
    "        print('Generando grupo B1...')\n",
    "        b1 = pd.DataFrame()\n",
    "        for i in range(int(x0)+1,len(x_points)):\n",
    "            temp = df[(df.tiempo_total < median) & (df.tiempo_total>=y_points[i-1]) & (df.n_viajes>=x_points[i-1]) & (df.n_viajes< x_points[i])]\n",
    "            b1 = pd.concat([b1, temp], axis=0)\n",
    "        b1 = b1.assign(group='b1')\n",
    "\n",
    "        #A1\n",
    "        print('Generando grupo A1...')\n",
    "        a1 = pd.DataFrame()\n",
    "        for i in range(int(x0)+1,len(x_points)):\n",
    "            temp = df[(df.tiempo_total<y_points[i-1]) & (df.n_viajes>=x_points[i-1]) & (df.n_viajes< x_points[i])]\n",
    "            a1 = pd.concat([a1, temp], axis=0)\n",
    "        a1 = a1.assign(group='a1')\n",
    "\n",
    "        #A2\n",
    "        print('Generando grupo A2...')\n",
    "        a2 = df[(df.n_viajes > 1) & (df.n_viajes < x0) & (df.tiempo_total < y0) & (df.tiempo_total >= 0)].assign(group='a2')\n",
    "\n",
    "        #A3\n",
    "        print('Generando grupo A3...')\n",
    "        a3 = pd.DataFrame()\n",
    "        for i in range(1,int(x0)+1):\n",
    "            temp = df[(df.tiempo_total >= median) & (df.tiempo_total<y_points[i-1]) & (df.n_viajes>1) & (df.n_viajes>=x_points[i-1]) & (df.n_viajes< x_points[i])]\n",
    "            a3 = pd.concat([a3, temp], axis=0)\n",
    "        a3 = a3.assign(group='a3')\n",
    "\n",
    "        #B3\n",
    "        print('Generando grupo B3...')\n",
    "        b3 = pd.DataFrame()\n",
    "        for i in range(1,int(x0)+1):\n",
    "            temp = df[(df.tiempo_total>=y_points[i-1]) & (df.n_viajes>1) & (df.n_viajes>=x_points[i-1]) & (df.n_viajes< x_points[i])]\n",
    "            b3 = pd.concat([b3, temp], axis=0)\n",
    "        b3 = b3.assign(group='b3')\n",
    "\n",
    "        #C\n",
    "        print('Generando grupo C...')\n",
    "        c = df[(df.tiempo_total < y_points[0]) & (df.n_viajes == 1)].assign(group='c')\n",
    "\n",
    "        #D\n",
    "        print('Generando grupo D...')\n",
    "        d = df[(df.tiempo_total >= y_points[0]) & (df.n_viajes == 1)].assign(group='d')\n",
    "\n",
    "        return pd.concat([b2,b1,a1,a2,a3,b3,c,d], axis=0)"
   ]
  },
  {
   "cell_type": "code",
   "execution_count": null,
   "metadata": {
    "id": "HSaJpsrGtsOA"
   },
   "outputs": [],
   "source": [
    "def calculate_size_1p(df, group_n, fe):\n",
    "    return df[df['group']==group_n][fe].sum()"
   ]
  },
  {
   "cell_type": "code",
   "execution_count": null,
   "metadata": {
    "id": "jWJRq0NatuYZ"
   },
   "outputs": [],
   "source": [
    "def calculate_indicators(df, fe):\n",
    "    pop_total = df[fe].sum()\n",
    "    print('Tamaño población: {}'.format(pop_total))\n",
    "    m = (calculate_size_1p(df, 'a1', fe) + calculate_size_1p(df, 'a2', fe) + calculate_size_1p(df, 'a3', fe)) / pop_total\n",
    "    m1 = (calculate_size_1p(df, 'a1', fe)) / pop_total\n",
    "    m2 = (calculate_size_1p(df, 'a2', fe) + calculate_size_1p(df, 'a3', fe)) / pop_total\n",
    "    m3 = (calculate_size_1p(df, 'b3', fe)) / pop_total\n",
    "    m4 = (calculate_size_1p(df, 'b1', fe)) / pop_total\n",
    "    m5 = (calculate_size_1p(df, 'b2', fe)) / pop_total\n",
    "    m6 = (calculate_size_1p(df, 'c', fe)) / pop_total\n",
    "    m7 = (calculate_size_1p(df, 'd', fe)) / pop_total\n",
    "    m8 = (calculate_size_1p(df, 'c', fe) + calculate_size_1p(df, 'd', fe)) / pop_total\n",
    "    m9 = df[df.tiempo_total <= 15][fe].sum() / pop_total\n",
    "    m10 = df[df.n_viajes == 2][fe].sum() / pop_total\n",
    "    \n",
    "    data = {'Medida': ['(A1+A2+A3)/P', 'A1/P', '(A2+A3)/P', 'B3/P',\n",
    "                       'B1/P', 'B2/P', 'C/P', 'D/P', '(C+D)/P', '<=15 min', '2 viajes diarios'],\n",
    "           'Valor':[m, m1,m2,m3,m4,m5,m6,m7,m8,m9,m10]}\n",
    "    \n",
    "    return pd.DataFrame(data)   "
   ]
  },
  {
   "cell_type": "code",
   "execution_count": null,
   "metadata": {
    "id": "CEG3di49uxgT"
   },
   "outputs": [],
   "source": [
    "def plot_lmplot(df, hue=None, col=None, col_wrap=None, col_order=None,filename=None):\n",
    "    \n",
    "    ax = sns.lmplot(data=df, x=\"n_viajes\", y=\"tiempo_total\", hue=hue, \n",
    "                    col=col, col_wrap=col_wrap, col_order=col_order, \n",
    "                    aspect=1.5, height=4,  line_kws={'color': 'blue'},\n",
    "                    scatter_kws={'color': 'grey', 'alpha':0.2}, sharex=False)\n",
    "    \n",
    "    \n",
    "    \n",
    "    def annotate(data, **kws):\n",
    "        ax = plt.gca()\n",
    "        slope, intercept, r_value, p_value, std_err = stats.linregress(data['n_viajes'],data['tiempo_total'])\n",
    "        median = data.tiempo_total.median()\n",
    "        max_value_x= data.n_viajes.max()\n",
    "        max_value_y= data.tiempo_total.max()\n",
    "        plt.axhline(y=median, c='red')\n",
    "    \n",
    "        interception = linsolve([slope*x+intercept-y, median-y ], (x, y))\n",
    "        (x0, y0) = next(iter(interception))\n",
    "        plt.axvline(x=x0, c='green')\n",
    "        #ax.map(plt.vlines, x=x0, ymin=median, ymax=max_value_y, color='black', marker='-')\n",
    "        \n",
    "        ax.text(0.7, .9, 'slope={:.6f}, intercept={:.6g}'.format(slope, intercept, r_value, p_value, std_err),\n",
    "            transform=ax.transAxes)\n",
    "        ax.text(13,median+4,'Median', color='red')\n",
    "        \n",
    "    ax.map_dataframe(annotate)\n",
    "    ax.set(xlim=(0,15))\n",
    "    ax.set_titles(\"{col_name}\")\n",
    "    #ax.fig.suptitle(hue)\n",
    "    #ax.fig.subplots_adjust(top=0.9)\n",
    "    ax.set_axis_labels(x_var=\"# de Viajes\", y_var=\"Tiempo promedio de viaje\")\n",
    "    if filename:\n",
    "        ax.savefig(filename)\n",
    "    sns.despine()"
   ]
  },
  {
   "cell_type": "code",
   "execution_count": null,
   "metadata": {
    "id": "JA2GsjvPopvR"
   },
   "outputs": [],
   "source": [
    "cantidad_viajes_etapa_por_sexo = viajes_gpd_etapa.groupby(['IDP_x', 'SEXO']).size()"
   ]
  },
  {
   "cell_type": "code",
   "execution_count": null,
   "metadata": {
    "id": "pYZldFfYpbh_"
   },
   "outputs": [],
   "source": [
    "tiempo_prom_viajes_etapa_por_sexo = viajes_gpd_etapa.groupby(['IDP_x', 'SEXO']).mean('time_diff')['time_diff']"
   ]
  },
  {
   "cell_type": "code",
   "execution_count": null,
   "metadata": {
    "id": "Lww2OJsaqq5y"
   },
   "outputs": [],
   "source": [
    "cantidad_viajes_etapa_por_sexo = pd.DataFrame(cantidad_viajes_etapa_por_sexo)"
   ]
  },
  {
   "cell_type": "code",
   "execution_count": null,
   "metadata": {
    "id": "3v30IoKsqd4K"
   },
   "outputs": [],
   "source": [
    "tiempo_prom_viajes_etapa_por_sexo = pd.DataFrame(tiempo_prom_viajes_etapa_por_sexo)"
   ]
  },
  {
   "cell_type": "code",
   "execution_count": null,
   "metadata": {
    "id": "FThm23ZtsunY"
   },
   "outputs": [],
   "source": [
    "n_viajes = pd.merge(cantidad_viajes_etapa_por_sexo, tiempo_prom_viajes_etapa_por_sexo, left_index=True, right_index=True)"
   ]
  },
  {
   "cell_type": "code",
   "execution_count": null,
   "metadata": {
    "id": "VFrzlajeup1q"
   },
   "outputs": [],
   "source": [
    "n_viajes.columns = ['n_viajes', 'tiempo_total']"
   ]
  },
  {
   "cell_type": "code",
   "execution_count": null,
   "metadata": {
    "id": "B3REo520u6WS"
   },
   "outputs": [],
   "source": [
    "n_viajes['PONDERADOR_CALIBRADO'] = 1"
   ]
  },
  {
   "cell_type": "code",
   "execution_count": null,
   "metadata": {
    "id": "0UBVdesow-Tl"
   },
   "outputs": [],
   "source": [
    "n_viajes.reset_index(inplace = True)"
   ]
  },
  {
   "cell_type": "code",
   "execution_count": null,
   "metadata": {
    "colab": {
     "base_uri": "https://localhost:8080/",
     "height": 333
    },
    "id": "UptfS7uMu_bc",
    "outputId": "5f0b8974-e405-422f-ffd1-5cce4d05fc8d"
   },
   "outputs": [],
   "source": [
    "x, y = symbols('x y')\n",
    "plot_lmplot(n_viajes)"
   ]
  },
  {
   "cell_type": "code",
   "execution_count": null,
   "metadata": {
    "colab": {
     "base_uri": "https://localhost:8080/"
    },
    "id": "xPkYKfEzv7cP",
    "outputId": "934cbd76-1b67-4264-9567-d6d3c74897c7"
   },
   "outputs": [],
   "source": [
    "groups = generate_groups(n_viajes)"
   ]
  },
  {
   "cell_type": "code",
   "execution_count": null,
   "metadata": {
    "colab": {
     "base_uri": "https://localhost:8080/"
    },
    "id": "26l4olMjw4SA",
    "outputId": "c9d4c629-ecd6-4622-ae10-5eecb230225f"
   },
   "outputs": [],
   "source": [
    "print(calculate_indicators(groups,'PONDERADOR_CALIBRADO'))"
   ]
  },
  {
   "cell_type": "code",
   "execution_count": null,
   "metadata": {
    "colab": {
     "base_uri": "https://localhost:8080/",
     "height": 621
    },
    "id": "vHkN7Dw3wTvJ",
    "outputId": "02571b6c-4409-4eb9-9486-a5952303b87d"
   },
   "outputs": [],
   "source": [
    "plot_lmplot(n_viajes, col=\"SEXO\", hue=\"SEXO\", col_wrap=1)"
   ]
  },
  {
   "cell_type": "code",
   "execution_count": null,
   "metadata": {
    "colab": {
     "base_uri": "https://localhost:8080/"
    },
    "id": "D0YafHbqwVeu",
    "outputId": "635e61f9-1780-400d-9fb1-1a1c26809a29"
   },
   "outputs": [],
   "source": [
    "subgroups = n_viajes.SEXO.unique()\n",
    "for element in subgroups:\n",
    "    print(element)\n",
    "    groups = generate_groups(n_viajes[n_viajes.SEXO==element])\n",
    "    print(calculate_indicators(groups,'PONDERADOR_CALIBRADO'))"
   ]
  }
 ],
 "metadata": {
  "colab": {
   "collapsed_sections": [
    "8d65ab3c",
    "5891e875",
    "da9bdcfb",
    "8b4ab265",
    "6rjdPjiK8wuq",
    "V97rcLJ69wU2",
    "s1HwCEG5-QHV",
    "NgJ3NSYd-try",
    "b58d4e16",
    "LQn04iQ9AwA2",
    "l_LNcTgUrx5o",
    "H_ocE17OJJqg",
    "0cuVioNGuNFb",
    "7ZU2HTVDNl75",
    "IdM9y-kCu-j_",
    "2-lBeEH-vYc_",
    "PfffZ7ZZ-soo",
    "-jJrOlEl-uLU",
    "isY_bo3Y-xRh",
    "Y8OIEORu5NFl",
    "sS4RvckU9Dn3",
    "sJRwfo2YjdA8",
    "5tfncFrTlAm7",
    "TIXOzGvk0TC8",
    "2dVXX5Ip0TC_",
    "4eUjp1Cl0TDB",
    "ss_MuXL_0TDC",
    "MTZUs0z30TDD",
    "qMc81W040TDD",
    "5pv13RgD0TDE",
    "DQ2MGjp90TDE",
    "ahl-ypur0TDF",
    "-NapyqWI0TDF",
    "lFNrHp3w0TDG",
    "j2-FZPfl0TDG",
    "vojW2WWc0TDH",
    "IGATPCI20TDI",
    "9SGfmm1-0TDJ"
   ],
   "name": "enmodo_ba_2009.ipynb",
   "provenance": []
  },
  "kernelspec": {
   "display_name": "Python 3 (ipykernel)",
   "language": "python",
   "name": "python3"
  },
  "language_info": {
   "codemirror_mode": {
    "name": "ipython",
    "version": 3
   },
   "file_extension": ".py",
   "mimetype": "text/x-python",
   "name": "python",
   "nbconvert_exporter": "python",
   "pygments_lexer": "ipython3",
   "version": "3.9.7"
  }
 },
 "nbformat": 4,
 "nbformat_minor": 1
}
