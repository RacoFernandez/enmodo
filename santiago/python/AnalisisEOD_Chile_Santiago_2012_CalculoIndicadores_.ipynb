{
 "cells": [
  {
   "cell_type": "markdown",
   "id": "b1e40f3d",
   "metadata": {
    "id": "b1e40f3d"
   },
   "source": [
    "# Análisis Encuesta Origen-Destino -  Limpieza de Datos & Cálculo de Indicadores"
   ]
  },
  {
   "cell_type": "markdown",
   "id": "56e7413d",
   "metadata": {
    "id": "56e7413d"
   },
   "source": [
    "## Chile - Santiago - 2012"
   ]
  },
  {
   "cell_type": "markdown",
   "id": "4221de58",
   "metadata": {
    "id": "4221de58"
   },
   "source": [
    "#### Elaborado por Paula Vásquez-Henríquez, Ariel López, Genaro Cuadros, Exequiel Gaete, Alba Vásquez y Juan Correa"
   ]
  },
  {
   "cell_type": "markdown",
   "id": "5d85f302",
   "metadata": {},
   "source": [
    "## Google colab"
   ]
  },
  {
   "cell_type": "markdown",
   "id": "bd6b86a7",
   "metadata": {},
   "source": [
    "Para ejecutar este notebook en Colab, primero descomenten y ejecuten las siguientes 3 celdas. Luego de ejecutar la notebook se reiniciará."
   ]
  },
  {
   "cell_type": "code",
   "execution_count": null,
   "id": "9d8ec5f9",
   "metadata": {},
   "outputs": [],
   "source": [
    "'''\n",
    "!pip3 uninstall matplotlib -y\n",
    "!pip install -q condacolab\n",
    "import condacolab\n",
    "condacolab.install()\n",
    "'''"
   ]
  },
  {
   "cell_type": "code",
   "execution_count": null,
   "id": "a85a9bf7",
   "metadata": {},
   "outputs": [],
   "source": [
    "'''\n",
    "!git clone https://github.com/zorzalerrante/aves.git aves_git\n",
    "!mamba env update --name base --file aves_git/environment-colab.yml\n",
    "'''"
   ]
  },
  {
   "cell_type": "code",
   "execution_count": null,
   "id": "b0d9a8ab",
   "metadata": {
    "colab": {
     "base_uri": "https://localhost:8080/"
    },
    "executionInfo": {
     "elapsed": 23074,
     "status": "ok",
     "timestamp": 1635994904494,
     "user": {
      "displayName": "Paula Vásquez H.",
      "photoUrl": "https://lh3.googleusercontent.com/a-/AOh14GgJUNawPfe0J41agMsUCwKAOgAzWX7zUOLCtayLFg=s64",
      "userId": "02019115936957150360"
     },
     "user_tz": 180
    },
    "id": "u7WkwIpDNvaW",
    "outputId": "d110333c-af65-47c3-cf76-ed7b93a9c43a"
   },
   "outputs": [],
   "source": [
    "'''\n",
    "# Montando datos desde Google Drive\n",
    "from google.colab import drive\n",
    "drive.mount('/content/drive')\n",
    "'''"
   ]
  },
  {
   "cell_type": "markdown",
   "id": "b6d473a1",
   "metadata": {},
   "source": [
    "## Instalando e importando librerías"
   ]
  },
  {
   "cell_type": "code",
   "execution_count": null,
   "id": "e5738b41",
   "metadata": {},
   "outputs": [],
   "source": [
    "# Estas librerías se deben instalar sólo si se está ejecutando localmente\n",
    "!pip3 install matplotlib\n",
    "!pip3 install seaborn\n",
    "!pip3 install sklearn"
   ]
  },
  {
   "cell_type": "code",
   "execution_count": null,
   "id": "600f66c7",
   "metadata": {
    "colab": {
     "base_uri": "https://localhost:8080/"
    },
    "executionInfo": {
     "elapsed": 8751,
     "status": "ok",
     "timestamp": 1635994873745,
     "user": {
      "displayName": "Paula Vásquez H.",
      "photoUrl": "https://lh3.googleusercontent.com/a-/AOh14GgJUNawPfe0J41agMsUCwKAOgAzWX7zUOLCtayLFg=s64",
      "userId": "02019115936957150360"
     },
     "user_tz": 180
    },
    "id": "M9aoyAtnNW37",
    "outputId": "b58d8e02-60be-4c46-8fd0-3fc6ca0aa50b"
   },
   "outputs": [],
   "source": [
    "#Estas librerías se deben instalar tanto corriendolo localmente como en Google Colab\n",
    "!pip3 install geopandas\n",
    "!pip3 install haversine\n",
    "!pip3 install pandasql\n",
    "!pip3 install openpyxl"
   ]
  },
  {
   "cell_type": "code",
   "execution_count": null,
   "id": "78f60347",
   "metadata": {
    "id": "78f60347"
   },
   "outputs": [],
   "source": [
    "import pandas as pd\n",
    "import matplotlib.pyplot as plt\n",
    "import seaborn as sns\n",
    "import numpy as np\n",
    "import geopandas as gpd\n",
    "import warnings\n",
    "import haversine as hs\n",
    "import shapely\n",
    "from sklearn.preprocessing import normalize\n",
    "import datetime\n",
    "from pyproj import CRS\n",
    "from shapely.geometry import Point"
   ]
  },
  {
   "cell_type": "code",
   "execution_count": null,
   "id": "a3718476",
   "metadata": {},
   "outputs": [],
   "source": [
    "# Si se está en google colab, reemplazar por path de Drive\n",
    "data_path = 'C:/Users/Usuario/Documents/GitHub/enmodo/'"
   ]
  },
  {
   "cell_type": "code",
   "execution_count": null,
   "id": "3ba2b447",
   "metadata": {},
   "outputs": [],
   "source": [
    "import sys\n",
    "\n",
    "# Si se está en google colab, reemplazar por path donde tiene la carpeta \"scripts\"\n",
    "sys.path.insert(1, data_path +'scripts')\n",
    "\n",
    "import eod_analysis as eod"
   ]
  },
  {
   "cell_type": "code",
   "execution_count": null,
   "id": "0510fbb1",
   "metadata": {
    "id": "0510fbb1"
   },
   "outputs": [],
   "source": [
    "def convert_datatype(df, lista_columnas):\n",
    "    for column in lista_columnas:\n",
    "        df[column] = df[column].str.replace(\",\", \".\").astype(float)\n",
    "    return df"
   ]
  },
  {
   "cell_type": "code",
   "execution_count": null,
   "id": "7f81790a",
   "metadata": {
    "id": "7f81790a"
   },
   "outputs": [],
   "source": [
    "def decode_column(df, fname, col_name, index_col='id', value_col=None, sep=';', encoding='utf-8'):\n",
    "    '''\n",
    "    param :df: DataFrame del que leeremos una columna.\n",
    "    param :fname: nombre del archivo que contiene los valores a decodificar.\n",
    "    param :col_name: nombre de la columna que queremos decodificar.\n",
    "    param :index_col: nombre de la columna en el archivo @fname que tiene los índices que codifican @col_name\n",
    "    param :value_col: nombre de la columna en el archivo @fname que tiene los valores decodificados\n",
    "    param :sep: carácter que separa los valores en @fname. \n",
    "    param :encoding: identificación del _character set_ que utiliza el archivo. Usualmente es utf-8, si no funciona,\n",
    "                     se puede probar con iso-8859-1.\n",
    "    '''\n",
    "    if value_col is None:\n",
    "        value_col = 'value'\n",
    "        \n",
    "    values_df = pd.read_csv(fname, sep=sep, index_col=index_col, names=[index_col, value_col], header=0,\n",
    "                            dtype={index_col: np.float64}, encoding=encoding)\n",
    "    \n",
    "    src_df = df.loc[:,(col_name,)]\n",
    "    \n",
    "    return src_df.join(values_df, on=col_name)[value_col]"
   ]
  },
  {
   "cell_type": "code",
   "execution_count": null,
   "id": "0018ee50",
   "metadata": {
    "id": "0018ee50"
   },
   "outputs": [],
   "source": [
    "def imputar_coordenadas_centroide_zat(df, latitud, longitud, zat, zona_shp):\n",
    "    columns = df.columns\n",
    "    df['mask'] = df[latitud].isnull() | df[longitud].isnull()\n",
    "    working_df = pd.merge(df, city_shp[[zona_shp, 'x_coord', 'y_coord']], left_on=zat, right_on=zona_shp, how='left')\n",
    "    working_df[latitud] = np.where(working_df['mask']==True, working_df['x_coord'], working_df[latitud])\n",
    "    working_df[longitud] = np.where(working_df['mask']==True, working_df['y_coord'], working_df[longitud])\n",
    "    \n",
    "    return working_df[columns]"
   ]
  },
  {
   "cell_type": "code",
   "execution_count": null,
   "id": "41f2386e",
   "metadata": {
    "id": "41f2386e"
   },
   "outputs": [],
   "source": [
    "def mapear_binarias(row, column):\n",
    "    if row[column] == 'N':\n",
    "        return 'No'\n",
    "    elif row[column] == 'S':\n",
    "        return 'Si'\n",
    "    else:\n",
    "        return 'Sin dato'"
   ]
  },
  {
   "cell_type": "code",
   "execution_count": null,
   "id": "f7c148fb",
   "metadata": {
    "id": "f7c148fb"
   },
   "outputs": [],
   "source": [
    "def mapear_vacios(row, column):\n",
    "    if pd.isna(row[column])==True:\n",
    "        return 'Sin información'\n",
    "    else:\n",
    "        return row[column]"
   ]
  },
  {
   "cell_type": "markdown",
   "id": "iRPSv0fesZHX",
   "metadata": {
    "id": "iRPSv0fesZHX"
   },
   "source": [
    "### Caracterización de los datos\n",
    "\n",
    "Los datos utilizados en este cuaderno corresponden a los resultados de la Encuesta Origen-Destino de Santiago, Chile del 2012. \n",
    "A partir de estos datos se calcularan indicadores en tres niveles: de Cantidad de Viajes, de Tiempo de Viajes, y de Distancia de Viajes."
   ]
  },
  {
   "cell_type": "markdown",
   "id": "db8caef6",
   "metadata": {
    "id": "db8caef6"
   },
   "source": [
    "### Importando datos"
   ]
  },
  {
   "cell_type": "markdown",
   "id": "CdtA3y43Oy5b",
   "metadata": {
    "id": "CdtA3y43Oy5b"
   },
   "source": [
    "En esta sección, importamos todos los datos necesarios para el cálculo de indicadores. \n",
    "Para el caso de Santiago 2012, los archivos son de csv.\n",
    "\n",
    "Cabe destacar que para esta EOD tenemos data a nivel de:\n",
    "- Viajes\n",
    "- Etapas\n",
    "- Personas\n",
    "- Hogares\n",
    "\n",
    "Sin embargo, los indicadores en este caso se calculan a nivel de **VIAJE Y PERSONA**."
   ]
  },
  {
   "cell_type": "code",
   "execution_count": null,
   "id": "56fe174d",
   "metadata": {
    "id": "56fe174d"
   },
   "outputs": [],
   "source": [
    "# Matriz de viajes\n",
    "data_viajes = pd.read_csv(data_path + 'santiago/source-csv/viajes.csv', sep=\";\")\n",
    "data_viajes = convert_datatype(data_viajes, ['OrigenCoordX', 'OrigenCoordY', 'DestinoCoordX', 'DestinoCoordY', 'FactorLaboralNormal', 'FactorSabadoNormal', 'FactorDomingoNormal', 'FactorLaboralEstival', 'FactorFindesemanaEstival'])"
   ]
  },
  {
   "cell_type": "code",
   "execution_count": null,
   "id": "bvlk_tVpwYaS",
   "metadata": {
    "id": "bvlk_tVpwYaS"
   },
   "outputs": [],
   "source": [
    "distancia_viajes = pd.read_csv(data_path + 'santiago/source-csv/DistanciaViaje.csv', sep=\";\")"
   ]
  },
  {
   "cell_type": "code",
   "execution_count": null,
   "id": "NiJmaVS-wfPz",
   "metadata": {
    "id": "NiJmaVS-wfPz"
   },
   "outputs": [],
   "source": [
    "data_viajes = pd.merge(data_viajes, distancia_viajes, on='Viaje', how='left')"
   ]
  },
  {
   "cell_type": "code",
   "execution_count": null,
   "id": "8f1b5631",
   "metadata": {
    "id": "8f1b5631"
   },
   "outputs": [],
   "source": [
    "# Matriz de personas\n",
    "data_personas = pd.read_csv(data_path + 'santiago/source-csv/personas.csv', sep=\";\", encoding='latin-1')\n",
    "data_personas = convert_datatype(data_personas, ['Factor_LaboralNormal', 'Factor_SabadoNormal', 'Factor_DomingoNormal', 'Factor_LaboralEstival', 'Factor_FindesemanaEstival', 'Factor'])"
   ]
  },
  {
   "cell_type": "code",
   "execution_count": null,
   "id": "9ab4ed0a",
   "metadata": {
    "id": "9ab4ed0a",
    "scrolled": true
   },
   "outputs": [],
   "source": [
    "# Matriz de hogares\n",
    "data_hogares = pd.read_csv(data_path + 'santiago/source-csv/Hogares.csv', sep=\";\", encoding='latin-1')"
   ]
  },
  {
   "cell_type": "code",
   "execution_count": null,
   "id": "dc4a6738",
   "metadata": {
    "id": "dc4a6738"
   },
   "outputs": [],
   "source": [
    "# Shapefile de la ciudad\n",
    "city_shp = gpd.read_file(data_path + 'santiago/source-shp/Zonificacion_EOD2012.shp', crs='EPSG:32719')"
   ]
  },
  {
   "cell_type": "code",
   "execution_count": null,
   "id": "daOgozIctKxq",
   "metadata": {
    "colab": {
     "base_uri": "https://localhost:8080/",
     "height": 238
    },
    "executionInfo": {
     "elapsed": 101,
     "status": "ok",
     "timestamp": 1635822355637,
     "user": {
      "displayName": "Paula Vásquez H.",
      "photoUrl": "https://lh3.googleusercontent.com/a-/AOh14GgJUNawPfe0J41agMsUCwKAOgAzWX7zUOLCtayLFg=s64",
      "userId": "02019115936957150360"
     },
     "user_tz": 180
    },
    "id": "daOgozIctKxq",
    "outputId": "fe827b90-768d-4be6-d7a9-cbe7c5ab492f"
   },
   "outputs": [],
   "source": [
    "from os import listdir\n",
    "from os.path import isfile, join\n",
    "filenames = [f for f in listdir(data_path + 'santiago/source-shp/') if isfile(join(data_path + 'santiago/source-shp/', f))]\n",
    "filenames = [y for y in sorted(filenames) for ending in ['dbf', 'prj', 'shp', 'shx'] if y.endswith(ending)] \n",
    "dbf, prj, shp, shx = [filename for filename in filenames]\n",
    "city_shp = gpd.read_file(data_path + 'santiago/source-shp/'+shp)\n",
    "print(\"Shape of the dataframe: {}\".format(city_shp.shape))\n",
    "print(\"Projection of dataframe: {}\".format(city_shp.crs))\n",
    "city_shp.head()"
   ]
  },
  {
   "cell_type": "code",
   "execution_count": null,
   "id": "c18fa6ea",
   "metadata": {
    "id": "c18fa6ea"
   },
   "outputs": [],
   "source": [
    "# Calculamos los centroides de cada zona\n",
    "city_shp['x_coord'] = city_shp['geometry'].centroid.x\n",
    "city_shp['y_coord'] = city_shp['geometry'].centroid.y"
   ]
  },
  {
   "cell_type": "code",
   "execution_count": null,
   "id": "pBECJSuW4_Xj",
   "metadata": {
    "colab": {
     "base_uri": "https://localhost:8080/"
    },
    "executionInfo": {
     "elapsed": 71,
     "status": "ok",
     "timestamp": 1635822355647,
     "user": {
      "displayName": "Paula Vásquez H.",
      "photoUrl": "https://lh3.googleusercontent.com/a-/AOh14GgJUNawPfe0J41agMsUCwKAOgAzWX7zUOLCtayLFg=s64",
      "userId": "02019115936957150360"
     },
     "user_tz": 180
    },
    "id": "pBECJSuW4_Xj",
    "outputId": "6f226f10-e644-445a-d670-30d0f929c5a0"
   },
   "outputs": [],
   "source": [
    "city_shp.crs"
   ]
  },
  {
   "cell_type": "markdown",
   "id": "8d65ab3c",
   "metadata": {
    "id": "8d65ab3c"
   },
   "source": [
    "### Preparación de los datos"
   ]
  },
  {
   "cell_type": "markdown",
   "id": "5891e875",
   "metadata": {
    "id": "5891e875"
   },
   "source": [
    "#### Viajes"
   ]
  },
  {
   "cell_type": "markdown",
   "id": "nKp83KN1Pf7s",
   "metadata": {
    "id": "nKp83KN1Pf7s"
   },
   "source": [
    "En esta etapa nos enfocaremos en preparar los datos con respecto a viajes.\n",
    "En particular, nos enfocamos en limpiar y estandarizar los datos para las columnas que son relevantes para el cálculo de indicadores.\n"
   ]
  },
  {
   "cell_type": "code",
   "execution_count": null,
   "id": "2baaf069",
   "metadata": {
    "id": "2baaf069"
   },
   "outputs": [],
   "source": [
    "selected_columns = ['Hogar', 'Persona', 'Viaje', 'Etapas', 'ComunaOrigen', 'ComunaDestino',\n",
    "       'SectorOrigen', 'SectorDestino', 'ZonaOrigen', 'ZonaDestino',\n",
    "       'OrigenCoordX', 'OrigenCoordY', 'DestinoCoordX', 'DestinoCoordY',\n",
    "       'Proposito', 'PropositoAgregado', 'ModoAgregado', 'ModoPriPub', 'HoraIni', 'HoraFin', 'TiempoViaje', \n",
    "       'FactorLaboralNormal', 'FactorSabadoNormal',\n",
    "       'FactorDomingoNormal', 'FactorLaboralEstival',\n",
    "       'FactorFindesemanaEstival', 'Periodo', 'DistManhattan']\n",
    "viajes_df = data_viajes[selected_columns]"
   ]
  },
  {
   "cell_type": "code",
   "execution_count": null,
   "id": "62e93da1",
   "metadata": {
    "colab": {
     "base_uri": "https://localhost:8080/"
    },
    "executionInfo": {
     "elapsed": 116,
     "status": "ok",
     "timestamp": 1635822362132,
     "user": {
      "displayName": "Paula Vásquez H.",
      "photoUrl": "https://lh3.googleusercontent.com/a-/AOh14GgJUNawPfe0J41agMsUCwKAOgAzWX7zUOLCtayLFg=s64",
      "userId": "02019115936957150360"
     },
     "user_tz": 180
    },
    "id": "62e93da1",
    "outputId": "6213eba4-40cc-4413-c481-1f1c96a07621"
   },
   "outputs": [],
   "source": [
    "viajes_df.shape"
   ]
  },
  {
   "cell_type": "code",
   "execution_count": null,
   "id": "91d848b5",
   "metadata": {
    "colab": {
     "base_uri": "https://localhost:8080/"
    },
    "executionInfo": {
     "elapsed": 8,
     "status": "ok",
     "timestamp": 1635822362133,
     "user": {
      "displayName": "Paula Vásquez H.",
      "photoUrl": "https://lh3.googleusercontent.com/a-/AOh14GgJUNawPfe0J41agMsUCwKAOgAzWX7zUOLCtayLFg=s64",
      "userId": "02019115936957150360"
     },
     "user_tz": 180
    },
    "id": "91d848b5",
    "outputId": "4dbac40e-7470-4d52-f99c-477648fe6791"
   },
   "outputs": [],
   "source": [
    "print('Contando valores nulos por atributo')\n",
    "for column in viajes_df.columns:\n",
    "    print('{}: {}'.format(column, viajes_df[column].isna().sum()))"
   ]
  },
  {
   "cell_type": "markdown",
   "id": "2v50By6EBUcF",
   "metadata": {
    "id": "2v50By6EBUcF"
   },
   "source": [
    "Tenemos muchas encuestas sin indicación de origen y destino, cuyo codigo zonal es 0. Los dejaremos fuera de este análisis."
   ]
  },
  {
   "cell_type": "code",
   "execution_count": null,
   "id": "577cc432",
   "metadata": {
    "id": "577cc432"
   },
   "outputs": [],
   "source": [
    "viajes_df = viajes_df[(viajes_df.ZonaOrigen > 0) & (viajes_df.ZonaDestino > 0)]"
   ]
  },
  {
   "cell_type": "code",
   "execution_count": null,
   "id": "97ae53fa",
   "metadata": {
    "id": "97ae53fa"
   },
   "outputs": [],
   "source": [
    "# Llenado de coordenadas para datos vacíos, se imputará centroide del ZAT correspondiente."
   ]
  },
  {
   "cell_type": "code",
   "execution_count": null,
   "id": "bce8a2f6",
   "metadata": {
    "id": "bce8a2f6"
   },
   "outputs": [],
   "source": [
    "viajes_df = imputar_coordenadas_centroide_zat(viajes_df, 'OrigenCoordX', 'OrigenCoordY', 'ZonaOrigen', 'ID')\n",
    "viajes_df = imputar_coordenadas_centroide_zat(viajes_df, 'DestinoCoordX', 'DestinoCoordY','ZonaDestino', 'ID')"
   ]
  },
  {
   "cell_type": "code",
   "execution_count": null,
   "id": "91f1298d",
   "metadata": {
    "id": "91f1298d"
   },
   "outputs": [],
   "source": [
    "# Creando variables de dia habil, no habil, horario punta"
   ]
  },
  {
   "cell_type": "code",
   "execution_count": null,
   "id": "007a87bc",
   "metadata": {
    "id": "007a87bc"
   },
   "outputs": [],
   "source": [
    "def dia_habil(row):\n",
    "    if pd.isna(row['FactorLaboralNormal'])==False or pd.isna(row['FactorLaboralEstival'])==False:\n",
    "        return 'Si'\n",
    "    else:\n",
    "        return 'No'"
   ]
  },
  {
   "cell_type": "code",
   "execution_count": null,
   "id": "ae88b9fb",
   "metadata": {
    "id": "ae88b9fb"
   },
   "outputs": [],
   "source": [
    "def dia_nohabil(row):\n",
    "    if pd.isna(row['FactorSabadoNormal'])==False or pd.isna(row['FactorDomingoNormal'])==False or pd.isna(row['FactorFindesemanaEstival'])==False:\n",
    "        return 'Si'\n",
    "    else:\n",
    "        return 'No'"
   ]
  },
  {
   "cell_type": "code",
   "execution_count": null,
   "id": "cd90013d",
   "metadata": {
    "id": "cd90013d",
    "scrolled": true
   },
   "outputs": [],
   "source": [
    "#columns_day = ['DIA_HABIL', 'DIA_NOHABIL', 'PICO_HABIL', 'PICO_NOHABIL']\n",
    "viajes_df['DIA_HABIL'] = viajes_df.apply(lambda row: dia_habil(row), axis=1)\n",
    "viajes_df['DIA_NOHABIL'] = viajes_df.apply(lambda row: dia_nohabil(row), axis=1)"
   ]
  },
  {
   "cell_type": "code",
   "execution_count": null,
   "id": "b71f15f0",
   "metadata": {
    "id": "b71f15f0"
   },
   "outputs": [],
   "source": [
    "viajes_df['Periodo'] = decode_column(viajes_df, data_path + 'santiago/source-csv/Tablas_parametros/Periodo.csv', 'Periodo', \n",
    "                                  sep=';', value_col='Periodos')"
   ]
  },
  {
   "cell_type": "code",
   "execution_count": null,
   "id": "ba8b8606",
   "metadata": {
    "id": "ba8b8606"
   },
   "outputs": [],
   "source": [
    "punta = ['Punta Tarde (17:31 - 20:30)', 'Punta Mañana 2 (7:31 - 9:00)','Punta Mañana 1 (6:01 - 7:30)']"
   ]
  },
  {
   "cell_type": "code",
   "execution_count": null,
   "id": "c8178c48",
   "metadata": {
    "id": "c8178c48"
   },
   "outputs": [],
   "source": [
    "# Creando columnas para identificar periodos pico dia habil y dia no habil"
   ]
  },
  {
   "cell_type": "code",
   "execution_count": null,
   "id": "07081242",
   "metadata": {
    "id": "07081242"
   },
   "outputs": [],
   "source": [
    "def punta_habil(row):\n",
    "    if row['Periodo'] in punta and row['DIA_HABIL'] == 'Si':\n",
    "        return 'Si'\n",
    "    else:\n",
    "        return 'No'"
   ]
  },
  {
   "cell_type": "code",
   "execution_count": null,
   "id": "876f3331",
   "metadata": {
    "id": "876f3331"
   },
   "outputs": [],
   "source": [
    "def punta_nohabil(row):\n",
    "    if row['Periodo'] in punta and row['DIA_NOHABIL'] == 'Si':\n",
    "        return 'Si'\n",
    "    else:\n",
    "        return 'No'"
   ]
  },
  {
   "cell_type": "code",
   "execution_count": null,
   "id": "aaee4cc3",
   "metadata": {
    "id": "aaee4cc3"
   },
   "outputs": [],
   "source": [
    "viajes_df['PICO_HABIL'] = viajes_df.apply(lambda row: punta_habil(row), axis=1)\n",
    "viajes_df['PICO_NOHABIL'] = viajes_df.apply(lambda row: punta_nohabil(row), axis=1)"
   ]
  },
  {
   "cell_type": "code",
   "execution_count": null,
   "id": "Pn8fZuDmqs6O",
   "metadata": {
    "id": "Pn8fZuDmqs6O"
   },
   "outputs": [],
   "source": [
    "# Para esta encuesta, podemos definir zona en tres niveles: zona, sector y comuna. Definimos viajes intra \n",
    "# e inter para los tres niveles"
   ]
  },
  {
   "cell_type": "code",
   "execution_count": null,
   "id": "739c9353",
   "metadata": {
    "id": "739c9353"
   },
   "outputs": [],
   "source": [
    "viajes_df['Intra_Inter_zona'] = viajes_df.apply(lambda row: 'Intra' if row['ZonaOrigen'] == row['ZonaDestino'] else 'Inter', axis=1)\n",
    "viajes_df['Intra_Inter_sector'] = viajes_df.apply(lambda row: 'Intra' if row['SectorOrigen'] == row['SectorDestino'] else 'Inter', axis=1)\n",
    "viajes_df['Intra_Inter_comuna'] = viajes_df.apply(lambda row: 'Intra' if row['ComunaOrigen'] == row['ComunaDestino'] else 'Inter', axis=1)"
   ]
  },
  {
   "cell_type": "code",
   "execution_count": null,
   "id": "4c6e3575",
   "metadata": {
    "id": "4c6e3575",
    "scrolled": true
   },
   "outputs": [],
   "source": [
    "viajes_df['Proposito'] = decode_column(viajes_df, data_path + 'santiago/source-csv/Tablas_parametros/Proposito.csv', 'Proposito', \n",
    "                                  sep=';')"
   ]
  },
  {
   "cell_type": "code",
   "execution_count": null,
   "id": "b4e2af5d",
   "metadata": {
    "id": "b4e2af5d"
   },
   "outputs": [],
   "source": [
    "viajes_df['PropositoAgregado'] = decode_column(viajes_df, data_path + 'santiago/source-csv/Tablas_parametros/PropositoAgregado.csv', 'PropositoAgregado', \n",
    "                                  sep=';')"
   ]
  },
  {
   "cell_type": "code",
   "execution_count": null,
   "id": "cf9b77ca",
   "metadata": {
    "id": "cf9b77ca"
   },
   "outputs": [],
   "source": [
    "viajes_df['ModoPriPub'] = decode_column(viajes_df, data_path + 'santiago/source-csv/Tablas_parametros/ModoPriPub.csv', 'ModoPriPub', \n",
    "                                  sep=';')"
   ]
  },
  {
   "cell_type": "code",
   "execution_count": null,
   "id": "53146078",
   "metadata": {
    "id": "53146078"
   },
   "outputs": [],
   "source": [
    "viajes_df['ModoAgregado'] = decode_column(viajes_df, data_path + 'santiago/source-csv/Tablas_parametros/ModoAgregado.csv', 'ModoAgregado', \n",
    "                                  sep=';')"
   ]
  },
  {
   "cell_type": "code",
   "execution_count": null,
   "id": "392a2c14",
   "metadata": {
    "colab": {
     "base_uri": "https://localhost:8080/"
    },
    "executionInfo": {
     "elapsed": 10,
     "status": "ok",
     "timestamp": 1635822374659,
     "user": {
      "displayName": "Paula Vásquez H.",
      "photoUrl": "https://lh3.googleusercontent.com/a-/AOh14GgJUNawPfe0J41agMsUCwKAOgAzWX7zUOLCtayLFg=s64",
      "userId": "02019115936957150360"
     },
     "user_tz": 180
    },
    "id": "392a2c14",
    "outputId": "04bc29d3-9472-42d0-84c6-02c2423bf512"
   },
   "outputs": [],
   "source": [
    "print('Contando valores nulos por atributo')\n",
    "for column in viajes_df.columns:\n",
    "    print('{}: {}'.format(column, viajes_df[column].isna().sum()))"
   ]
  },
  {
   "cell_type": "markdown",
   "id": "da9bdcfb",
   "metadata": {
    "id": "da9bdcfb"
   },
   "source": [
    "#### Personas y Hogares"
   ]
  },
  {
   "cell_type": "markdown",
   "id": "AXrUPDxoQ8yM",
   "metadata": {
    "id": "AXrUPDxoQ8yM"
   },
   "source": [
    "En esta etapa nos enfocaremos en preparar los datos con respecto a personas.\n",
    "En particular, nos enfocamos en limpiar y estandarizar los datos para las columnas que son relevantes para el cálculo de indicadores."
   ]
  },
  {
   "cell_type": "code",
   "execution_count": null,
   "id": "47b51113",
   "metadata": {
    "id": "47b51113"
   },
   "outputs": [],
   "source": [
    "selected_columns = ['Hogar', 'Persona', 'Sexo', 'Factor_LaboralNormal', 'Factor_SabadoNormal', 'Factor_DomingoNormal',\n",
    "       'Factor_LaboralEstival', 'Factor_FindesemanaEstival', 'TramoIngreso']\n",
    "personas_df = data_personas[selected_columns]"
   ]
  },
  {
   "cell_type": "code",
   "execution_count": null,
   "id": "4e8e30e7",
   "metadata": {
    "colab": {
     "base_uri": "https://localhost:8080/"
    },
    "executionInfo": {
     "elapsed": 458,
     "status": "ok",
     "timestamp": 1635822375114,
     "user": {
      "displayName": "Paula Vásquez H.",
      "photoUrl": "https://lh3.googleusercontent.com/a-/AOh14GgJUNawPfe0J41agMsUCwKAOgAzWX7zUOLCtayLFg=s64",
      "userId": "02019115936957150360"
     },
     "user_tz": 180
    },
    "id": "4e8e30e7",
    "outputId": "65e865b5-eeb3-4a38-ed7b-2d79b137870c"
   },
   "outputs": [],
   "source": [
    "personas_df['TramoIngreso'] = decode_column(personas_df, data_path + 'santiago/source-csv/Tablas_parametros/TramoIngreso.csv', 'TramoIngreso')"
   ]
  },
  {
   "cell_type": "code",
   "execution_count": null,
   "id": "791177d9",
   "metadata": {
    "colab": {
     "base_uri": "https://localhost:8080/"
    },
    "executionInfo": {
     "elapsed": 8,
     "status": "ok",
     "timestamp": 1635822375115,
     "user": {
      "displayName": "Paula Vásquez H.",
      "photoUrl": "https://lh3.googleusercontent.com/a-/AOh14GgJUNawPfe0J41agMsUCwKAOgAzWX7zUOLCtayLFg=s64",
      "userId": "02019115936957150360"
     },
     "user_tz": 180
    },
    "id": "791177d9",
    "outputId": "255d37a1-e7bb-48aa-ecca-94ead8d45df4"
   },
   "outputs": [],
   "source": [
    "personas_df['Sexo'] = decode_column(personas_df, data_path + 'santiago/source-csv/Tablas_parametros/Sexo.csv', 'Sexo')"
   ]
  },
  {
   "cell_type": "code",
   "execution_count": null,
   "id": "6b6f6aa0",
   "metadata": {
    "colab": {
     "base_uri": "https://localhost:8080/"
    },
    "executionInfo": {
     "elapsed": 620,
     "status": "ok",
     "timestamp": 1635822375731,
     "user": {
      "displayName": "Paula Vásquez H.",
      "photoUrl": "https://lh3.googleusercontent.com/a-/AOh14GgJUNawPfe0J41agMsUCwKAOgAzWX7zUOLCtayLFg=s64",
      "userId": "02019115936957150360"
     },
     "user_tz": 180
    },
    "id": "6b6f6aa0",
    "outputId": "9b139eee-4ff1-4aa0-e5b5-bbabab941472"
   },
   "outputs": [],
   "source": [
    "personas_df[['Factor_LaboralNormal', 'Factor_SabadoNormal', 'Factor_DomingoNormal', 'Factor_LaboralEstival', 'Factor_FindesemanaEstival']] = personas_df[['Factor_LaboralNormal', 'Factor_SabadoNormal', 'Factor_DomingoNormal', 'Factor_LaboralEstival', 'Factor_FindesemanaEstival']].fillna(value=0)"
   ]
  },
  {
   "cell_type": "code",
   "execution_count": null,
   "id": "8Lltyw1RB1tv",
   "metadata": {
    "id": "8Lltyw1RB1tv"
   },
   "outputs": [],
   "source": [
    "# Calculamos el factor ponderador para las personas"
   ]
  },
  {
   "cell_type": "code",
   "execution_count": null,
   "id": "d5368d23",
   "metadata": {
    "id": "d5368d23"
   },
   "outputs": [],
   "source": [
    "def ponderador_personas(row):\n",
    "    return row['Factor_LaboralNormal'] + row['Factor_SabadoNormal'] + row['Factor_DomingoNormal'] + row['Factor_LaboralEstival'] + row['Factor_FindesemanaEstival']"
   ]
  },
  {
   "cell_type": "code",
   "execution_count": null,
   "id": "10b6c92c",
   "metadata": {
    "colab": {
     "base_uri": "https://localhost:8080/"
    },
    "executionInfo": {
     "elapsed": 1138,
     "status": "ok",
     "timestamp": 1635822376867,
     "user": {
      "displayName": "Paula Vásquez H.",
      "photoUrl": "https://lh3.googleusercontent.com/a-/AOh14GgJUNawPfe0J41agMsUCwKAOgAzWX7zUOLCtayLFg=s64",
      "userId": "02019115936957150360"
     },
     "user_tz": 180
    },
    "id": "10b6c92c",
    "outputId": "2276be82-4b85-4300-a97c-e673e8932772"
   },
   "outputs": [],
   "source": [
    "personas_df['PONDERADOR_CALIBRADO'] = personas_df.apply(lambda row: ponderador_personas(row), axis=1)"
   ]
  },
  {
   "cell_type": "code",
   "execution_count": null,
   "id": "f86ec2ad",
   "metadata": {
    "id": "f86ec2ad"
   },
   "outputs": [],
   "source": [
    "viajes_personas = pd.merge(viajes_df, personas_df, on=['Persona'], how='left')"
   ]
  },
  {
   "cell_type": "code",
   "execution_count": null,
   "id": "c122d955",
   "metadata": {
    "colab": {
     "base_uri": "https://localhost:8080/"
    },
    "executionInfo": {
     "elapsed": 273,
     "status": "ok",
     "timestamp": 1635822377137,
     "user": {
      "displayName": "Paula Vásquez H.",
      "photoUrl": "https://lh3.googleusercontent.com/a-/AOh14GgJUNawPfe0J41agMsUCwKAOgAzWX7zUOLCtayLFg=s64",
      "userId": "02019115936957150360"
     },
     "user_tz": 180
    },
    "id": "c122d955",
    "outputId": "5b622e32-4fc4-4ffc-dc10-f6877247ef64",
    "scrolled": false
   },
   "outputs": [],
   "source": [
    "print('Contando valores nulos por atributo')\n",
    "for column in viajes_personas.columns:\n",
    "    print('{}: {}'.format(column, viajes_personas[column].isna().sum()))"
   ]
  },
  {
   "cell_type": "code",
   "execution_count": null,
   "id": "6c76e545",
   "metadata": {
    "id": "6c76e545"
   },
   "outputs": [],
   "source": [
    "#Calculando factor ponderador viajes"
   ]
  },
  {
   "cell_type": "code",
   "execution_count": null,
   "id": "d488b5ba",
   "metadata": {
    "id": "d488b5ba"
   },
   "outputs": [],
   "source": [
    "def ponderador_viajes(row):\n",
    "    if pd.isna(row['FactorLaboralNormal'])==False:\n",
    "        return row['FactorLaboralNormal']*row['Factor_LaboralNormal']\n",
    "    \n",
    "    elif pd.isna(row['FactorSabadoNormal'])==False:\n",
    "        return row['FactorSabadoNormal']*row['Factor_SabadoNormal']\n",
    "    \n",
    "    elif pd.isna(row['FactorDomingoNormal'])==False:\n",
    "        return row['FactorDomingoNormal']*row['Factor_DomingoNormal']\n",
    "    \n",
    "    elif pd.isna(row['FactorLaboralEstival'])==False:\n",
    "        return row['FactorLaboralEstival']*row['Factor_LaboralEstival']\n",
    "    elif pd.isna(row['FactorFindesemanaEstival'])==False:\n",
    "        return row['FactorFindesemanaEstival']*row['Factor_FindesemanaEstival']\n",
    "    else:\n",
    "        return None"
   ]
  },
  {
   "cell_type": "code",
   "execution_count": null,
   "id": "19e310a9",
   "metadata": {
    "id": "19e310a9"
   },
   "outputs": [],
   "source": [
    "viajes_personas['PONDERADOR_CALIBRADO_VIAJES'] = viajes_personas.apply(lambda row: ponderador_viajes(row), axis=1)"
   ]
  },
  {
   "cell_type": "code",
   "execution_count": null,
   "id": "87e9a910",
   "metadata": {
    "colab": {
     "base_uri": "https://localhost:8080/"
    },
    "executionInfo": {
     "elapsed": 10,
     "status": "ok",
     "timestamp": 1635822380045,
     "user": {
      "displayName": "Paula Vásquez H.",
      "photoUrl": "https://lh3.googleusercontent.com/a-/AOh14GgJUNawPfe0J41agMsUCwKAOgAzWX7zUOLCtayLFg=s64",
      "userId": "02019115936957150360"
     },
     "user_tz": 180
    },
    "id": "87e9a910",
    "outputId": "3c6f9d4a-ea30-4f22-be1d-02bcea54935a"
   },
   "outputs": [],
   "source": [
    "print('Contando valores nulos por atributo')\n",
    "for column in viajes_personas.columns:\n",
    "    print('{}: {}'.format(column, viajes_personas[column].isna().sum()))"
   ]
  },
  {
   "cell_type": "code",
   "execution_count": null,
   "id": "52af6e17",
   "metadata": {
    "colab": {
     "base_uri": "https://localhost:8080/"
    },
    "executionInfo": {
     "elapsed": 6,
     "status": "ok",
     "timestamp": 1635822380628,
     "user": {
      "displayName": "Paula Vásquez H.",
      "photoUrl": "https://lh3.googleusercontent.com/a-/AOh14GgJUNawPfe0J41agMsUCwKAOgAzWX7zUOLCtayLFg=s64",
      "userId": "02019115936957150360"
     },
     "user_tz": 180
    },
    "id": "52af6e17",
    "outputId": "49978bae-d999-4bbd-a497-05fe85061181"
   },
   "outputs": [],
   "source": [
    "viajes_personas = viajes_personas[~viajes_personas.PONDERADOR_CALIBRADO_VIAJES.isna()]\n",
    "viajes_personas.shape"
   ]
  },
  {
   "cell_type": "markdown",
   "id": "f0caa693",
   "metadata": {},
   "source": [
    "### Generación csv"
   ]
  },
  {
   "cell_type": "code",
   "execution_count": null,
   "id": "KWm2yTtDnKTw",
   "metadata": {
    "id": "KWm2yTtDnKTw"
   },
   "outputs": [],
   "source": [
    "viajes_personas.to_csv(data_path + 'santiago/csv/viajes_personas_santiago_2012.csv', index=False)"
   ]
  },
  {
   "cell_type": "markdown",
   "id": "611dfe22",
   "metadata": {},
   "source": [
    "### Generación geojson"
   ]
  },
  {
   "cell_type": "code",
   "execution_count": null,
   "id": "54912257",
   "metadata": {},
   "outputs": [],
   "source": [
    "origenes_viajes = gpd.GeoDataFrame(\n",
    "    viajes_personas, geometry=gpd.points_from_xy(viajes_personas.OrigenCoordX, viajes_personas.OrigenCoordY, crs='EPSG:32719'))\n",
    "\n",
    "destinos_viajes = gpd.GeoDataFrame(\n",
    "    viajes_personas, geometry=gpd.points_from_xy(viajes_personas.DestinoCoordX, viajes_personas.DestinoCoordY, crs='EPSG:32719'))"
   ]
  },
  {
   "cell_type": "code",
   "execution_count": null,
   "id": "feed9b22",
   "metadata": {},
   "outputs": [],
   "source": [
    "origenes_viajes.to_file(data_path + 'santiago/output-geojson/origenes_viajes.geojson', driver='GeoJSON')\n",
    "destinos_viajes.to_file(data_path + 'santiago/output-geojson/destinos_viajes.geojson', driver='GeoJSON')"
   ]
  },
  {
   "cell_type": "markdown",
   "id": "f3a5b7c6",
   "metadata": {},
   "source": [
    "### Generación shp"
   ]
  },
  {
   "cell_type": "code",
   "execution_count": null,
   "id": "bc3dff9f",
   "metadata": {},
   "outputs": [],
   "source": [
    "origenes_viajes.to_file(data_path + 'santiago/output-shp/origenes_viajes.shp', driver='GeoJSON')\n",
    "destinos_viajes.to_file(data_path + 'santiago/output-shp/destinos_viajes.shp', driver='GeoJSON')"
   ]
  },
  {
   "cell_type": "markdown",
   "id": "8b4ab265",
   "metadata": {
    "id": "8b4ab265"
   },
   "source": [
    "### Parte I: Indicadores de Cantidad de Viajes\n",
    "\n",
    "En esta primera parte, responderemos algunas preguntas respecto a indicadores de cantidades de viajes realizados, en días hábiles y no hábiles de viaje. Para esto, buscaremos responder las siguientes preguntas:\n",
    "\n",
    "1. ¿Cuál es la tasa promedio de viajes diarios en transporte público por clasificador económico?\n",
    "2. ¿Cuál es la tasa promedio de viajes diarios en transporte privado por clasificador económico?\n",
    "3. ¿Cuál es la razón entre los viajes en transporte público y privado por clasificador socioeconómico?\n",
    "4. ¿Cuál es la distribución/partición modal de los viajes por clasificador socioeconómico?"
   ]
  },
  {
   "cell_type": "code",
   "execution_count": null,
   "id": "5e3907b6",
   "metadata": {
    "colab": {
     "base_uri": "https://localhost:8080/"
    },
    "executionInfo": {
     "elapsed": 258,
     "status": "ok",
     "timestamp": 1630615028727,
     "user": {
      "displayName": "Pilar Vásquez",
      "photoUrl": "",
      "userId": "07912722624438436589"
     },
     "user_tz": 240
    },
    "id": "5e3907b6",
    "outputId": "5f46ff04-5a4c-4408-ccb8-b639ff24a208"
   },
   "outputs": [],
   "source": [
    "print('Cantidad de viajes mapeados: totales encuesta , total expandido')\n",
    "viajes_habiles = viajes_personas[viajes_personas.DIA_HABIL=='Si']\n",
    "print('Total Viajes Habiles: {}'.format(viajes_habiles.shape[0]), viajes_habiles['PONDERADOR_CALIBRADO_VIAJES'].sum())\n",
    "viajes_nohabiles = viajes_personas[viajes_personas.DIA_NOHABIL=='Si']\n",
    "print('Total Viajes No Habiles: {}'.format(viajes_nohabiles.shape[0]), viajes_nohabiles['PONDERADOR_CALIBRADO_VIAJES'].sum())"
   ]
  },
  {
   "cell_type": "markdown",
   "id": "ddn8V_BLShbI",
   "metadata": {
    "id": "ddn8V_BLShbI"
   },
   "source": [
    "Separamos los viajes hábiles y no hábiles de acuerdo a si son privados o públicos."
   ]
  },
  {
   "cell_type": "code",
   "execution_count": null,
   "id": "6fe3f2f4",
   "metadata": {
    "id": "6fe3f2f4"
   },
   "outputs": [],
   "source": [
    "viajes_publico_habiles = viajes_habiles[viajes_habiles.ModoPriPub=='Publico']\n",
    "viajes_publico_nohabiles = viajes_nohabiles[viajes_nohabiles.ModoPriPub=='Publico']\n",
    "\n",
    "viajes_privado_habiles = viajes_habiles[viajes_habiles.ModoPriPub=='Privado']\n",
    "viajes_privado_nohabiles = viajes_nohabiles[viajes_nohabiles.ModoPriPub=='Privado']"
   ]
  },
  {
   "cell_type": "code",
   "execution_count": null,
   "id": "79e2c954",
   "metadata": {
    "id": "79e2c954"
   },
   "outputs": [],
   "source": [
    "def weighted_mean(df, value_column, weighs_column):\n",
    "    weighted_sum = (df[value_column] * df[weighs_column]).sum()\n",
    "    return weighted_sum / df[weighs_column].sum()"
   ]
  },
  {
   "cell_type": "code",
   "execution_count": null,
   "id": "fee6c031",
   "metadata": {
    "id": "fee6c031"
   },
   "outputs": [],
   "source": [
    "from pandasql import sqldf\n",
    "def calculate_n_viajes_per_capita(df, df_str, agg_columns_str, agg_columns_lst, id_person, person_weight, trip_weight=None):\n",
    "    q = \"SELECT DISTINCT {}, {}, {} FROM {}\".format(id_person, agg_columns_str, person_weight, df_str)\n",
    "    persons = sqldf(q, globals())\n",
    "    n_personas = persons.groupby(agg_columns_lst).sum()[[person_weight]].reset_index()\n",
    "    n_personas[agg_columns_lst[0]] = n_personas[agg_columns_lst[0]].astype(str)\n",
    "    n_viajes = df.groupby(agg_columns_lst).sum()[[trip_weight]].reset_index()\n",
    "    n_viajes[agg_columns_lst[0]] = n_viajes[agg_columns_lst[0]].astype(str)\n",
    "    merged = pd.merge(n_personas, n_viajes, on=agg_columns_lst, how='left')\n",
    "    merged['viajes_per_capita'] = merged[trip_weight] / merged[person_weight]\n",
    "    return merged"
   ]
  },
  {
   "cell_type": "markdown",
   "id": "6rjdPjiK8wuq",
   "metadata": {
    "id": "6rjdPjiK8wuq"
   },
   "source": [
    "#### **¿Cuál es la tasa promedio de viajes diarios en transporte público por clasificador económico?**"
   ]
  },
  {
   "cell_type": "markdown",
   "id": "ETp3XNfI2iQf",
   "metadata": {
    "id": "ETp3XNfI2iQf"
   },
   "source": [
    "Las tablas y gráficos siguientes muestran los viajes per cápita en trasporte público durante días hábiles y no hábiles, por clasificador socioeconómico."
   ]
  },
  {
   "cell_type": "code",
   "execution_count": null,
   "id": "2cb5c29c",
   "metadata": {
    "colab": {
     "base_uri": "https://localhost:8080/",
     "height": 314
    },
    "executionInfo": {
     "elapsed": 4434,
     "status": "ok",
     "timestamp": 1630544254036,
     "user": {
      "displayName": "Pilar Vásquez",
      "photoUrl": "",
      "userId": "07912722624438436589"
     },
     "user_tz": 240
    },
    "id": "2cb5c29c",
    "outputId": "59618bf1-9fee-4dad-b32e-ee50977e3bae"
   },
   "outputs": [],
   "source": [
    "print('Viajes per cápita en transporte público - Día Hábil')\n",
    "df = calculate_n_viajes_per_capita(viajes_publico_habiles, \"viajes_publico_habiles\", \"TramoIngreso\", [\"TramoIngreso\"], 'Persona', 'PONDERADOR_CALIBRADO', 'PONDERADOR_CALIBRADO_VIAJES')\n",
    "df"
   ]
  },
  {
   "cell_type": "code",
   "execution_count": null,
   "id": "Wl_Qt9_JVx20",
   "metadata": {
    "colab": {
     "base_uri": "https://localhost:8080/",
     "height": 477
    },
    "executionInfo": {
     "elapsed": 886,
     "status": "ok",
     "timestamp": 1630544258292,
     "user": {
      "displayName": "Pilar Vásquez",
      "photoUrl": "",
      "userId": "07912722624438436589"
     },
     "user_tz": 240
    },
    "id": "Wl_Qt9_JVx20",
    "outputId": "73de3769-1b26-4862-f545-a737afd224e7"
   },
   "outputs": [],
   "source": [
    "#fig, ax = plt.subplots(figsize=(8,6))\n",
    "g = sns.catplot(x=\"TramoIngreso\", y=\"viajes_per_capita\", \n",
    "                capsize=.2, height=4, aspect=2,\n",
    "                kind=\"point\", data=df)\n",
    "\n",
    "g.fig.suptitle('Viajes per cápita en transporte público - Día Hábil')\n",
    "g.set_ylabels('# Viajes per Cápita')\n",
    "g.set_xlabels('Tramo de ingreso')\n",
    "g.set_xticklabels(rotation=90)\n",
    "g.set(ylim=(0,3))\n",
    "\n",
    "#fig.tight_layout()"
   ]
  },
  {
   "cell_type": "code",
   "execution_count": null,
   "id": "e36212a6",
   "metadata": {
    "colab": {
     "base_uri": "https://localhost:8080/",
     "height": 283
    },
    "executionInfo": {
     "elapsed": 955,
     "status": "ok",
     "timestamp": 1630544265560,
     "user": {
      "displayName": "Pilar Vásquez",
      "photoUrl": "",
      "userId": "07912722624438436589"
     },
     "user_tz": 240
    },
    "id": "e36212a6",
    "outputId": "3b1c147f-fe49-4ff8-86d3-09e388daded1"
   },
   "outputs": [],
   "source": [
    "print('Viajes per cápita en transporte público - Día No Hábil')\n",
    "df = calculate_n_viajes_per_capita(viajes_publico_nohabiles, \"viajes_publico_nohabiles\", \"TramoIngreso\", [\"TramoIngreso\"], 'Persona', 'PONDERADOR_CALIBRADO', 'PONDERADOR_CALIBRADO_VIAJES')\n",
    "df"
   ]
  },
  {
   "cell_type": "code",
   "execution_count": null,
   "id": "5Q51ZpfuYqp4",
   "metadata": {
    "colab": {
     "base_uri": "https://localhost:8080/",
     "height": 477
    },
    "executionInfo": {
     "elapsed": 896,
     "status": "ok",
     "timestamp": 1630544267635,
     "user": {
      "displayName": "Pilar Vásquez",
      "photoUrl": "",
      "userId": "07912722624438436589"
     },
     "user_tz": 240
    },
    "id": "5Q51ZpfuYqp4",
    "outputId": "097b0deb-f2a2-4c27-9f0a-eb00e37b8451"
   },
   "outputs": [],
   "source": [
    "g = sns.catplot(x=\"TramoIngreso\", y=\"viajes_per_capita\", \n",
    "                capsize=.2, height=4, aspect=2,\n",
    "                kind=\"point\", data=df)\n",
    "\n",
    "g.fig.suptitle('Viajes per cápita en transporte público - Día No Hábil')\n",
    "g.set_ylabels('# Viajes per Cápita')\n",
    "g.set_xlabels('Tramo de ingreso')\n",
    "g.set_xticklabels(rotation=90)\n",
    "g.set(ylim=(0,3))\n",
    "\n",
    "#fig.tight_layout()"
   ]
  },
  {
   "cell_type": "markdown",
   "id": "GlgpHjtu9Zjh",
   "metadata": {
    "id": "GlgpHjtu9Zjh"
   },
   "source": [
    "Para días hábiles de viaje, no se observa una diferencia para los viajes pér cápita hechos diariamente en transporte público entre los distintos tramos de ingreso. Durante días no hábiles, los viajes per cápita se mantienen similares a los realizados durante días hábiles, y solo se ve una leve disminución de viajes en los niveles medios con respecto a los otros niveles."
   ]
  },
  {
   "cell_type": "markdown",
   "id": "V97rcLJ69wU2",
   "metadata": {
    "id": "V97rcLJ69wU2"
   },
   "source": [
    "#### **¿Cuál es la tasa promedio de viajes diarios en transporte privado por clasificador económico?**"
   ]
  },
  {
   "cell_type": "markdown",
   "id": "It8-XBirD4On",
   "metadata": {
    "id": "It8-XBirD4On"
   },
   "source": [
    "Las tablas y gráficos muestran los viajes per cápita en trasporte privado, durante días hábiles y no hábiles, por clasificador socioeconómico."
   ]
  },
  {
   "cell_type": "code",
   "execution_count": null,
   "id": "0f0d8f5c",
   "metadata": {
    "colab": {
     "base_uri": "https://localhost:8080/",
     "height": 314
    },
    "executionInfo": {
     "elapsed": 2850,
     "status": "ok",
     "timestamp": 1630544282570,
     "user": {
      "displayName": "Pilar Vásquez",
      "photoUrl": "",
      "userId": "07912722624438436589"
     },
     "user_tz": 240
    },
    "id": "0f0d8f5c",
    "outputId": "07228916-9dae-4181-fea0-61eaa663fda3"
   },
   "outputs": [],
   "source": [
    "print('Viajes per cápita en transporte privado - Día Hábil')\n",
    "df = calculate_n_viajes_per_capita(viajes_privado_habiles, \"viajes_privado_habiles\", \"TramoIngreso\", [\"TramoIngreso\"], 'Persona', 'PONDERADOR_CALIBRADO', 'PONDERADOR_CALIBRADO_VIAJES')\n",
    "df"
   ]
  },
  {
   "cell_type": "code",
   "execution_count": null,
   "id": "TjC0gFIEYyRY",
   "metadata": {
    "colab": {
     "base_uri": "https://localhost:8080/",
     "height": 477
    },
    "executionInfo": {
     "elapsed": 587,
     "status": "ok",
     "timestamp": 1630544283149,
     "user": {
      "displayName": "Pilar Vásquez",
      "photoUrl": "",
      "userId": "07912722624438436589"
     },
     "user_tz": 240
    },
    "id": "TjC0gFIEYyRY",
    "outputId": "41baa136-1b3f-428b-89e6-9960cd07510c"
   },
   "outputs": [],
   "source": [
    "g = sns.catplot(x=\"TramoIngreso\", y=\"viajes_per_capita\", \n",
    "                capsize=.2, height=4, aspect=2,\n",
    "                kind=\"point\", data=df)\n",
    "\n",
    "g.fig.suptitle('Viajes per cápita en transporte privado - Día Hábil')\n",
    "g.set_ylabels('# Viajes per Cápita')\n",
    "g.set_xlabels('Tramo de ingreso')\n",
    "g.set_xticklabels(rotation=90)\n",
    "g.set(ylim=(0,5))\n",
    "\n",
    "#fig.tight_layout()"
   ]
  },
  {
   "cell_type": "code",
   "execution_count": null,
   "id": "7CP5E_K9mMvm",
   "metadata": {
    "colab": {
     "base_uri": "https://localhost:8080/",
     "height": 314
    },
    "executionInfo": {
     "elapsed": 262,
     "status": "ok",
     "timestamp": 1630544283403,
     "user": {
      "displayName": "Pilar Vásquez",
      "photoUrl": "",
      "userId": "07912722624438436589"
     },
     "user_tz": 240
    },
    "id": "7CP5E_K9mMvm",
    "outputId": "3df6192c-75f1-413c-8722-8cdf2e8cb5cd"
   },
   "outputs": [],
   "source": [
    "print('Viajes per cápita en transporte privado - Día No Hábil')\n",
    "df = calculate_n_viajes_per_capita(viajes_privado_nohabiles, \"viajes_privado_nohabiles\", \"TramoIngreso\", [\"TramoIngreso\"], 'Persona', 'PONDERADOR_CALIBRADO', 'PONDERADOR_CALIBRADO_VIAJES')\n",
    "df"
   ]
  },
  {
   "cell_type": "code",
   "execution_count": null,
   "id": "CKReU-0-Y9GL",
   "metadata": {
    "colab": {
     "base_uri": "https://localhost:8080/",
     "height": 477
    },
    "executionInfo": {
     "elapsed": 843,
     "status": "ok",
     "timestamp": 1630544284238,
     "user": {
      "displayName": "Pilar Vásquez",
      "photoUrl": "",
      "userId": "07912722624438436589"
     },
     "user_tz": 240
    },
    "id": "CKReU-0-Y9GL",
    "outputId": "b32a0781-d0cf-427c-da12-fa710c41a21a"
   },
   "outputs": [],
   "source": [
    "g = sns.catplot(x=\"TramoIngreso\", y=\"viajes_per_capita\", \n",
    "                capsize=.2, height=4, aspect=2,\n",
    "                kind=\"point\", data=df)\n",
    "\n",
    "g.fig.suptitle('Viajes per cápita en transporte privado - Día No Hábil')\n",
    "g.set_ylabels('# Viajes per Cápita')\n",
    "g.set_xlabels('Tramo de ingreso')\n",
    "g.set_xticklabels(rotation=90)\n",
    "g.set(ylim=(0,5))\n",
    "\n",
    "#fig.tight_layout()"
   ]
  },
  {
   "cell_type": "markdown",
   "id": "BhVijTHx991K",
   "metadata": {
    "id": "BhVijTHx991K"
   },
   "source": [
    "Tanto en días hábiles y no hábiles, se ve un aumento de viajes per cápita realizados en transporte privado a medida que aumenta el tramo de ingreso."
   ]
  },
  {
   "cell_type": "markdown",
   "id": "s1HwCEG5-QHV",
   "metadata": {
    "id": "s1HwCEG5-QHV"
   },
   "source": [
    "#### **¿Cuál es la razón entre los viajes en transporte público y privado por clasificador socioeconómico?**"
   ]
  },
  {
   "cell_type": "markdown",
   "id": "Sba5mM2W-Ejb",
   "metadata": {
    "id": "Sba5mM2W-Ejb"
   },
   "source": [
    "Las tablas y gráficos a continuación muestran la razón entre los viajes en transporte público y transporte privado, durante días hábiles y no hábiles, por clasificador socioeconómico."
   ]
  },
  {
   "cell_type": "code",
   "execution_count": null,
   "id": "ffdf7ef0",
   "metadata": {
    "colab": {
     "base_uri": "https://localhost:8080/",
     "height": 314
    },
    "executionInfo": {
     "elapsed": 247,
     "status": "ok",
     "timestamp": 1630544315572,
     "user": {
      "displayName": "Pilar Vásquez",
      "photoUrl": "",
      "userId": "07912722624438436589"
     },
     "user_tz": 240
    },
    "id": "ffdf7ef0",
    "outputId": "b47a6479-d581-4302-aa99-bcb177320301"
   },
   "outputs": [],
   "source": [
    "print('Razón entre los viajes en transporte público y privado - Día Hábil')\n",
    "df = viajes_privado_habiles.groupby(['TramoIngreso']).agg(n_viajes = ('PONDERADOR_CALIBRADO_VIAJES', 'sum')) / viajes_publico_habiles.groupby(['TramoIngreso']).agg(n_viajes = ('PONDERADOR_CALIBRADO_VIAJES', 'sum'))\n",
    "df = df.reset_index()\n",
    "df"
   ]
  },
  {
   "cell_type": "code",
   "execution_count": null,
   "id": "I_S9PDhrbZZS",
   "metadata": {
    "colab": {
     "base_uri": "https://localhost:8080/",
     "height": 477
    },
    "executionInfo": {
     "elapsed": 1171,
     "status": "ok",
     "timestamp": 1630544317031,
     "user": {
      "displayName": "Pilar Vásquez",
      "photoUrl": "",
      "userId": "07912722624438436589"
     },
     "user_tz": 240
    },
    "id": "I_S9PDhrbZZS",
    "outputId": "48c58697-56ab-4645-eb49-32b6843e3dd4"
   },
   "outputs": [],
   "source": [
    "g = sns.catplot(x=\"TramoIngreso\", y=\"n_viajes\",\n",
    "                capsize=.2, height=4, aspect=2,\n",
    "                kind=\"point\", data=df)\n",
    "\n",
    "g.fig.suptitle('Razón entre los viajes en transporte público y privado - Día Hábil')\n",
    "g.set_ylabels('Proporción de viajes privados sobre públicos')\n",
    "g.set_xlabels('Tramo de Ingreso')\n",
    "g.set_xticklabels(rotation=90)\n",
    "g.set(ylim=(0,12))\n",
    "\n",
    "#fig.tight_layout()"
   ]
  },
  {
   "cell_type": "code",
   "execution_count": null,
   "id": "u8YaXmD9mjdW",
   "metadata": {
    "colab": {
     "base_uri": "https://localhost:8080/",
     "height": 314
    },
    "executionInfo": {
     "elapsed": 12,
     "status": "ok",
     "timestamp": 1630544317032,
     "user": {
      "displayName": "Pilar Vásquez",
      "photoUrl": "",
      "userId": "07912722624438436589"
     },
     "user_tz": 240
    },
    "id": "u8YaXmD9mjdW",
    "outputId": "ae8b000b-09ff-44ec-fa38-2ee9ce73a60b"
   },
   "outputs": [],
   "source": [
    "print('Razón entre los viajes en transporte público y privado - Día No Hábil')\n",
    "df = viajes_privado_nohabiles.groupby(['TramoIngreso']).agg(n_viajes = ('PONDERADOR_CALIBRADO_VIAJES', 'sum')) / viajes_publico_nohabiles.groupby(['TramoIngreso']).agg(n_viajes = ('PONDERADOR_CALIBRADO_VIAJES', 'sum'))\n",
    "df = df.reset_index()\n",
    "df"
   ]
  },
  {
   "cell_type": "code",
   "execution_count": null,
   "id": "3gKmCaJZcBwV",
   "metadata": {
    "colab": {
     "base_uri": "https://localhost:8080/",
     "height": 477
    },
    "executionInfo": {
     "elapsed": 10,
     "status": "ok",
     "timestamp": 1630544317033,
     "user": {
      "displayName": "Pilar Vásquez",
      "photoUrl": "",
      "userId": "07912722624438436589"
     },
     "user_tz": 240
    },
    "id": "3gKmCaJZcBwV",
    "outputId": "49fa5baf-9110-458f-e9b5-da3fab704fb8"
   },
   "outputs": [],
   "source": [
    "g = sns.catplot(x=\"TramoIngreso\", y=\"n_viajes\",\n",
    "                capsize=.2, height=4, aspect=2,\n",
    "                kind=\"point\", data=df)\n",
    "\n",
    "g.fig.suptitle('Razón entre los viajes en transporte público y privado - Día No Hábil')\n",
    "g.set_ylabels('Proporción de viajes privados sobre públicos')\n",
    "g.set_xlabels('Tramo de Ingreso')\n",
    "g.set_xticklabels(rotation=90)\n",
    "g.set(ylim=(0,40))\n",
    "\n",
    "#fig.tight_layout()"
   ]
  },
  {
   "cell_type": "markdown",
   "id": "ESSX8UM3-hc4",
   "metadata": {
    "id": "ESSX8UM3-hc4"
   },
   "source": [
    "Para días hábiles y no hábiles, la razón entre viajes privados y públicos aumenta a medida que aumenta el tramo de ingreso. "
   ]
  },
  {
   "cell_type": "markdown",
   "id": "NgJ3NSYd-try",
   "metadata": {
    "id": "NgJ3NSYd-try"
   },
   "source": [
    "#### **¿Cuál es la distribución/partición modal de los viajes por clasificador socioeconómico?**"
   ]
  },
  {
   "cell_type": "markdown",
   "id": "29wJthEgB1iP",
   "metadata": {
    "id": "29wJthEgB1iP"
   },
   "source": [
    "Las siguientes tablas y gráficos representan la partición modal de los viajes realizados en días hábiles, por clasificador socioeconómico."
   ]
  },
  {
   "cell_type": "code",
   "execution_count": null,
   "id": "00cf4cdc",
   "metadata": {
    "colab": {
     "base_uri": "https://localhost:8080/",
     "height": 654
    },
    "executionInfo": {
     "elapsed": 412,
     "status": "ok",
     "timestamp": 1630544324329,
     "user": {
      "displayName": "Pilar Vásquez",
      "photoUrl": "",
      "userId": "07912722624438436589"
     },
     "user_tz": 240
    },
    "id": "00cf4cdc",
    "outputId": "a6514802-6129-43f2-c9aa-30622fb51c4a"
   },
   "outputs": [],
   "source": [
    "print('Partición Modal de los Viajes - Día Hábil')\n",
    "df = viajes_habiles.groupby(['TramoIngreso', 'ModoAgregado']).sum()['PONDERADOR_CALIBRADO_VIAJES'].unstack()\n",
    "#.agg(count=('MEDIO_PREDOMINANTE','count')).unstack()\n",
    "df_norm = df.div(df.sum(axis=1), axis=0)\n",
    "df_norm"
   ]
  },
  {
   "cell_type": "code",
   "execution_count": null,
   "id": "pDj61DKGcO4j",
   "metadata": {
    "colab": {
     "base_uri": "https://localhost:8080/",
     "height": 585
    },
    "executionInfo": {
     "elapsed": 972,
     "status": "ok",
     "timestamp": 1630544325297,
     "user": {
      "displayName": "Pilar Vásquez",
      "photoUrl": "",
      "userId": "07912722624438436589"
     },
     "user_tz": 240
    },
    "id": "pDj61DKGcO4j",
    "outputId": "695595f6-a15e-476b-8899-14ecea862e43"
   },
   "outputs": [],
   "source": [
    "fig, ax = plt.subplots(figsize=(10, 8))\n",
    "\n",
    "ax = sns.heatmap(df_norm,linewidth=0.5)\n",
    "\n",
    "ax.set_title(\"Partición Modal de los Viajes - Día Hábil\")\n",
    "ax.set_xlabel(\"Modo de Transporte\")\n",
    "ax.set_ylabel(\"Tramo de Ingreso\")\n",
    "\n",
    "fig.tight_layout()"
   ]
  },
  {
   "cell_type": "code",
   "execution_count": null,
   "id": "6cEohJXrnHiF",
   "metadata": {
    "colab": {
     "base_uri": "https://localhost:8080/",
     "height": 654
    },
    "executionInfo": {
     "elapsed": 11,
     "status": "ok",
     "timestamp": 1630544325297,
     "user": {
      "displayName": "Pilar Vásquez",
      "photoUrl": "",
      "userId": "07912722624438436589"
     },
     "user_tz": 240
    },
    "id": "6cEohJXrnHiF",
    "outputId": "4dbb5714-b936-444f-ef57-59634e36e484"
   },
   "outputs": [],
   "source": [
    "print('Partición Modal de los Viajes - Día No Hábil')\n",
    "df = viajes_nohabiles.groupby(['TramoIngreso', 'ModoAgregado']).sum()['PONDERADOR_CALIBRADO_VIAJES'].unstack()\n",
    "#.agg(count=('MEDIO_PREDOMINANTE','count')).unstack()\n",
    "df_norm =df.div(df.sum(axis=1), axis=0)\n",
    "df_norm"
   ]
  },
  {
   "cell_type": "code",
   "execution_count": null,
   "id": "Unwd87wOcrQL",
   "metadata": {
    "colab": {
     "base_uri": "https://localhost:8080/",
     "height": 585
    },
    "executionInfo": {
     "elapsed": 578,
     "status": "ok",
     "timestamp": 1630544325868,
     "user": {
      "displayName": "Pilar Vásquez",
      "photoUrl": "",
      "userId": "07912722624438436589"
     },
     "user_tz": 240
    },
    "id": "Unwd87wOcrQL",
    "outputId": "b27d6099-0484-4ce9-a1ac-6657f4245455"
   },
   "outputs": [],
   "source": [
    "fig, ax = plt.subplots(figsize=(10, 8))\n",
    "\n",
    "ax = sns.heatmap(df_norm,linewidth=0.5)\n",
    "\n",
    "ax.set_title(\"Partición Modal de los Viajes - Día No Hábil\")\n",
    "ax.set_xlabel(\"Modo de Transporte\")\n",
    "ax.set_ylabel(\"Tramo de Ingreso\")\n",
    "\n",
    "fig.tight_layout()"
   ]
  },
  {
   "cell_type": "markdown",
   "id": "Z_El7Xtw_E2Z",
   "metadata": {
    "id": "Z_El7Xtw_E2Z"
   },
   "source": [
    "Durante días hábiles y no hábiles, los modos de transporte más utilizados son el auto, el cual aumenta a medida que aumenta el tramo de ingreso, y la caminata, que disminuye al aumentar el tramo de ingreso. También destaca el auto del bus TS y de bus TS - Metro durante días hábiles, en particular en los tramos más bajos."
   ]
  },
  {
   "cell_type": "code",
   "execution_count": null,
   "id": "6e9d6644",
   "metadata": {
    "colab": {
     "base_uri": "https://localhost:8080/",
     "height": 345
    },
    "executionInfo": {
     "elapsed": 12,
     "status": "ok",
     "timestamp": 1630544325869,
     "user": {
      "displayName": "Pilar Vásquez",
      "photoUrl": "",
      "userId": "07912722624438436589"
     },
     "user_tz": 240
    },
    "id": "6e9d6644",
    "outputId": "3f410bcd-d622-4bb4-f81f-ac4933c4c9e2"
   },
   "outputs": [],
   "source": [
    "print('Partición Modal de los Viajes de acuerdo al tipo de transporte - Día Hábil')\n",
    "df = viajes_habiles.groupby(['TramoIngreso', 'ModoPriPub']).sum()['PONDERADOR_CALIBRADO_VIAJES'].unstack()\n",
    "df_norm = df.div(df.sum(axis=1), axis=0)\n",
    "df_norm"
   ]
  },
  {
   "cell_type": "code",
   "execution_count": null,
   "id": "M-0dgPJgepbb",
   "metadata": {
    "colab": {
     "base_uri": "https://localhost:8080/",
     "height": 513
    },
    "executionInfo": {
     "elapsed": 905,
     "status": "ok",
     "timestamp": 1630544326767,
     "user": {
      "displayName": "Pilar Vásquez",
      "photoUrl": "",
      "userId": "07912722624438436589"
     },
     "user_tz": 240
    },
    "id": "M-0dgPJgepbb",
    "outputId": "0c208f9d-85d7-4caf-be90-2c61486204d9"
   },
   "outputs": [],
   "source": [
    "from aves.visualization.tables import barchart\n",
    "\n",
    "fig, ax = plt.subplots(figsize=(14, 7))\n",
    "\n",
    "barchart(\n",
    "    ax, df_norm, stacked=True, normalize=False, sort_categories=True, sort_items=False\n",
    ")\n",
    "\n",
    "ax.set_title(\"Partición Modal de los Viajes de acuerdo al tipo de transporte - Día Hábil\")\n",
    "ax.set_ylim([0, 1])\n",
    "ax.set_xlabel(\"Tramo de ingreso\")\n",
    "ax.set_ylabel(\"Fracción de los Viajes\")\n",
    "\n",
    "fig.tight_layout()"
   ]
  },
  {
   "cell_type": "code",
   "execution_count": null,
   "id": "8ZhPihF7nWNH",
   "metadata": {
    "colab": {
     "base_uri": "https://localhost:8080/",
     "height": 345
    },
    "executionInfo": {
     "elapsed": 9,
     "status": "ok",
     "timestamp": 1630544326767,
     "user": {
      "displayName": "Pilar Vásquez",
      "photoUrl": "",
      "userId": "07912722624438436589"
     },
     "user_tz": 240
    },
    "id": "8ZhPihF7nWNH",
    "outputId": "66d6312f-ef5b-4cd1-dd8e-c8a73f83dc04"
   },
   "outputs": [],
   "source": [
    "print('Partición Modal de los Viajes de acuerdo al tipo de transporte - Día No Hábil')\n",
    "df = viajes_nohabiles.groupby(['TramoIngreso', 'ModoPriPub']).sum()['PONDERADOR_CALIBRADO_VIAJES'].unstack()\n",
    "df_norm = df.div(df.sum(axis=1), axis=0)\n",
    "df_norm"
   ]
  },
  {
   "cell_type": "code",
   "execution_count": null,
   "id": "KjBamIFUe1Lz",
   "metadata": {
    "colab": {
     "base_uri": "https://localhost:8080/",
     "height": 513
    },
    "executionInfo": {
     "elapsed": 448,
     "status": "ok",
     "timestamp": 1630544327209,
     "user": {
      "displayName": "Pilar Vásquez",
      "photoUrl": "",
      "userId": "07912722624438436589"
     },
     "user_tz": 240
    },
    "id": "KjBamIFUe1Lz",
    "outputId": "ebd60695-4713-46ba-ad99-3ee091a6f596"
   },
   "outputs": [],
   "source": [
    "from aves.visualization.tables import barchart\n",
    "\n",
    "fig, ax = plt.subplots(figsize=(14, 7))\n",
    "\n",
    "barchart(\n",
    "    ax, df_norm, stacked=True, normalize=False, sort_categories=True, sort_items=False\n",
    ")\n",
    "\n",
    "ax.set_title(\"Partición Modal de los Viajes de acuerdo al tipo de transporte - Día No Hábil\")\n",
    "ax.set_ylim([0, 1])\n",
    "ax.set_xlabel(\"Tramo de Ingreso\")\n",
    "ax.set_ylabel(\"Fracción de los Viajes\")\n",
    "\n",
    "fig.tight_layout()"
   ]
  },
  {
   "cell_type": "markdown",
   "id": "FwGbdBvKAWO2",
   "metadata": {
    "id": "FwGbdBvKAWO2"
   },
   "source": [
    "Para tipo de transporte, se ve una disminución del uso del transporte público en general cuando se comparan días hábiles y no hábiles, y se ve que la fracción de viajes privados aumenta al aumentar el tramo de ingreso."
   ]
  },
  {
   "cell_type": "markdown",
   "id": "b58d4e16",
   "metadata": {
    "id": "b58d4e16"
   },
   "source": [
    "### Parte II: Indicadores de Tiempo de Viajes\n",
    "\n",
    "En esta segunda parte, responderemos algunas preguntas respecto a indicadores de tiempo de viajes realizados, en días hábiles y no hábiles de viaje. Para esto, buscaremos responder las siguientes preguntas:\n",
    "1. ¿Cuál es el tiempo promedio de viaje por modo y tipo de transporte?\n",
    "2. ¿Cuál es el tiempo promedio de viaje en hora punta de mañana?\n",
    "3. ¿Cuál es el tiempo de viaje en transporte público en hora punta de mañana?\n",
    "4. ¿Cuál es el tiempo promedio de viaje al trabajo en transporte público?"
   ]
  },
  {
   "cell_type": "code",
   "execution_count": null,
   "id": "5a3adf7b",
   "metadata": {
    "id": "5a3adf7b"
   },
   "outputs": [],
   "source": [
    "def weighted_median(df, val, weight):\n",
    "    df_sorted = df.sort_values(val)\n",
    "    cumsum = df_sorted[weight].cumsum()\n",
    "    cutoff = df_sorted[weight].sum() / 2.\n",
    "    return df_sorted[cumsum >= cutoff][val].iloc[0]"
   ]
  },
  {
   "cell_type": "code",
   "execution_count": null,
   "id": "41c6dba2",
   "metadata": {
    "id": "41c6dba2"
   },
   "outputs": [],
   "source": [
    "viajes_habiles= viajes_habiles[~viajes_habiles.TiempoViaje.isna()]\n",
    "viajes_nohabiles= viajes_nohabiles[~viajes_nohabiles.TiempoViaje.isna()]"
   ]
  },
  {
   "cell_type": "markdown",
   "id": "LQn04iQ9AwA2",
   "metadata": {
    "id": "LQn04iQ9AwA2"
   },
   "source": [
    "#### **¿Cuál es el tiempo promedio de viaje por modo y tipo de transporte?**"
   ]
  },
  {
   "cell_type": "markdown",
   "id": "Mr5jEfPDij0j",
   "metadata": {
    "id": "Mr5jEfPDij0j"
   },
   "source": [
    "A continuación, se representa el promedio y mediana en minutos de viaje por modo y tipo de transporte, en días hábiles y no hábiles, por clasificador socioeconómico.\n",
    "\n"
   ]
  },
  {
   "cell_type": "code",
   "execution_count": null,
   "id": "e6767485",
   "metadata": {
    "colab": {
     "base_uri": "https://localhost:8080/",
     "height": 637
    },
    "executionInfo": {
     "elapsed": 276,
     "status": "ok",
     "timestamp": 1630544365934,
     "user": {
      "displayName": "Pilar Vásquez",
      "photoUrl": "",
      "userId": "07912722624438436589"
     },
     "user_tz": 240
    },
    "id": "e6767485",
    "outputId": "68261bf1-a509-492b-fa37-bfc09b56db1b",
    "scrolled": true
   },
   "outputs": [],
   "source": [
    "print('Duración promedio (en minutos) de viaje por modo - Dia Hábil')\n",
    "df = viajes_habiles.groupby(['TramoIngreso', 'ModoAgregado']).apply(lambda x: weighted_mean(x, 'TiempoViaje', 'PONDERADOR_CALIBRADO_VIAJES')).unstack()\n",
    "df"
   ]
  },
  {
   "cell_type": "code",
   "execution_count": null,
   "id": "pAAl6wIsfA7R",
   "metadata": {
    "colab": {
     "base_uri": "https://localhost:8080/",
     "height": 585
    },
    "executionInfo": {
     "elapsed": 1717,
     "status": "ok",
     "timestamp": 1630544367894,
     "user": {
      "displayName": "Pilar Vásquez",
      "photoUrl": "",
      "userId": "07912722624438436589"
     },
     "user_tz": 240
    },
    "id": "pAAl6wIsfA7R",
    "outputId": "fc77e040-b35c-4a23-c509-90d34ae6b53f"
   },
   "outputs": [],
   "source": [
    "fig, ax = plt.subplots(figsize=(14, 8))\n",
    "\n",
    "ax = sns.heatmap(df, annot=True)\n",
    "\n",
    "ax.set_title(\"Duración promedio de viaje por modo - Día Hábil\")\n",
    "ax.set_xlabel(\"Modo de Transporte\")\n",
    "ax.set_ylabel(\"Tramo de ingreso\")\n",
    "\n",
    "fig.tight_layout()"
   ]
  },
  {
   "cell_type": "code",
   "execution_count": null,
   "id": "ab5e3c90",
   "metadata": {
    "colab": {
     "base_uri": "https://localhost:8080/",
     "height": 671
    },
    "executionInfo": {
     "elapsed": 384,
     "status": "ok",
     "timestamp": 1630544368269,
     "user": {
      "displayName": "Pilar Vásquez",
      "photoUrl": "",
      "userId": "07912722624438436589"
     },
     "user_tz": 240
    },
    "id": "ab5e3c90",
    "outputId": "f7430633-e5a4-48fc-9c9a-78181993fdc2"
   },
   "outputs": [],
   "source": [
    "print('Duración mediana (en minutos) de viaje por modo - Dia Hábil')\n",
    "df = viajes_habiles.groupby(['TramoIngreso', 'ModoAgregado']).apply(lambda x: weighted_median(x, 'TiempoViaje', 'PONDERADOR_CALIBRADO_VIAJES')).unstack()\n",
    "df"
   ]
  },
  {
   "cell_type": "code",
   "execution_count": null,
   "id": "gP4ToKnsfNt6",
   "metadata": {
    "colab": {
     "base_uri": "https://localhost:8080/",
     "height": 585
    },
    "executionInfo": {
     "elapsed": 1369,
     "status": "ok",
     "timestamp": 1630544369633,
     "user": {
      "displayName": "Pilar Vásquez",
      "photoUrl": "",
      "userId": "07912722624438436589"
     },
     "user_tz": 240
    },
    "id": "gP4ToKnsfNt6",
    "outputId": "7f53ecca-ae89-4271-adba-7884ce5f1425"
   },
   "outputs": [],
   "source": [
    "fig, ax = plt.subplots(figsize=(14, 8))\n",
    "\n",
    "ax = sns.heatmap(df, annot=True)\n",
    "\n",
    "ax.set_title(\"Duración mediana de viaje por modo - Día Hábil\")\n",
    "ax.set_xlabel(\"Modo de Transporte\")\n",
    "ax.set_ylabel(\"Tramo de ingreso\")\n",
    "\n",
    "fig.tight_layout()"
   ]
  },
  {
   "cell_type": "code",
   "execution_count": null,
   "id": "sDgNLzRbqm0m",
   "metadata": {
    "colab": {
     "base_uri": "https://localhost:8080/",
     "height": 637
    },
    "executionInfo": {
     "elapsed": 12,
     "status": "ok",
     "timestamp": 1630544369634,
     "user": {
      "displayName": "Pilar Vásquez",
      "photoUrl": "",
      "userId": "07912722624438436589"
     },
     "user_tz": 240
    },
    "id": "sDgNLzRbqm0m",
    "outputId": "483174f8-83e4-47d3-99cf-1634995510d7"
   },
   "outputs": [],
   "source": [
    "print('Duración promedio (en minutos) de viaje por modo - Dia No Hábil')\n",
    "df = viajes_nohabiles.groupby(['TramoIngreso', 'ModoAgregado']).apply(lambda x: weighted_mean(x, 'TiempoViaje', 'PONDERADOR_CALIBRADO_VIAJES')).unstack()\n",
    "df"
   ]
  },
  {
   "cell_type": "code",
   "execution_count": null,
   "id": "6vI-psF7fUWP",
   "metadata": {
    "colab": {
     "base_uri": "https://localhost:8080/",
     "height": 585
    },
    "executionInfo": {
     "elapsed": 1390,
     "status": "ok",
     "timestamp": 1630544371016,
     "user": {
      "displayName": "Pilar Vásquez",
      "photoUrl": "",
      "userId": "07912722624438436589"
     },
     "user_tz": 240
    },
    "id": "6vI-psF7fUWP",
    "outputId": "87135e97-056b-4f97-96b9-84e4b844db0c"
   },
   "outputs": [],
   "source": [
    "fig, ax = plt.subplots(figsize=(14, 8))\n",
    "\n",
    "ax = sns.heatmap(df, annot=True)\n",
    "\n",
    "ax.set_title(\"Duración promedio de viaje por modo - Día No Hábil\")\n",
    "ax.set_xlabel(\"Modo de Transporte\")\n",
    "ax.set_ylabel(\"Tramo de ingreso\")\n",
    "\n",
    "fig.tight_layout()"
   ]
  },
  {
   "cell_type": "code",
   "execution_count": null,
   "id": "52be415f",
   "metadata": {
    "colab": {
     "base_uri": "https://localhost:8080/",
     "height": 671
    },
    "executionInfo": {
     "elapsed": 16,
     "status": "ok",
     "timestamp": 1630544371017,
     "user": {
      "displayName": "Pilar Vásquez",
      "photoUrl": "",
      "userId": "07912722624438436589"
     },
     "user_tz": 240
    },
    "id": "52be415f",
    "outputId": "d563bce9-104d-43bf-e7c2-c7a0413a9995"
   },
   "outputs": [],
   "source": [
    "print('Duración mediana (en minutos) de viaje por modo - Dia No Hábil')\n",
    "df = viajes_nohabiles.groupby(['TramoIngreso', 'ModoAgregado']).apply(lambda x: weighted_median(x, 'TiempoViaje', 'PONDERADOR_CALIBRADO_VIAJES')).unstack()\n",
    "df"
   ]
  },
  {
   "cell_type": "code",
   "execution_count": null,
   "id": "l_5bPuIQfaNm",
   "metadata": {
    "colab": {
     "base_uri": "https://localhost:8080/",
     "height": 585
    },
    "executionInfo": {
     "elapsed": 1211,
     "status": "ok",
     "timestamp": 1630544372220,
     "user": {
      "displayName": "Pilar Vásquez",
      "photoUrl": "",
      "userId": "07912722624438436589"
     },
     "user_tz": 240
    },
    "id": "l_5bPuIQfaNm",
    "outputId": "4a1ca4ea-1b60-4a34-a14e-135e21533f6b"
   },
   "outputs": [],
   "source": [
    "fig, ax = plt.subplots(figsize=(14, 8))\n",
    "\n",
    "ax = sns.heatmap(df, annot=True)\n",
    "\n",
    "ax.set_title(\"Duración mediana de viaje por modo - Día No Hábil\")\n",
    "ax.set_xlabel(\"Modo de Transporte\")\n",
    "ax.set_ylabel(\"Tramo de ingreso\")\n",
    "\n",
    "fig.tight_layout()"
   ]
  },
  {
   "cell_type": "markdown",
   "id": "2-eND1IABLYf",
   "metadata": {
    "id": "2-eND1IABLYf"
   },
   "source": [
    "Durante días hábiles y no hábiles, se observa que los tiempos promedios de viaje más altos corresponden a los modos asociados a bus TS, bus no TS y algunas combinaciones con el uso del metro, mientras que los viajes con duraciones más cortas se realizan en auto, bicicleta, caminata y taxi."
   ]
  },
  {
   "cell_type": "code",
   "execution_count": null,
   "id": "244e1141",
   "metadata": {
    "colab": {
     "base_uri": "https://localhost:8080/",
     "height": 345
    },
    "executionInfo": {
     "elapsed": 12,
     "status": "ok",
     "timestamp": 1630544372221,
     "user": {
      "displayName": "Pilar Vásquez",
      "photoUrl": "",
      "userId": "07912722624438436589"
     },
     "user_tz": 240
    },
    "id": "244e1141",
    "outputId": "fe8a1476-676f-4dda-ed92-3b0a0626c4dc"
   },
   "outputs": [],
   "source": [
    "print('Duración promedio (en minutos) de viaje por tipo de transporte - Dia Hábil')\n",
    "df = viajes_habiles.groupby(['TramoIngreso', 'ModoPriPub']).apply(lambda x: weighted_mean(x, 'TiempoViaje', 'PONDERADOR_CALIBRADO_VIAJES')).unstack()\n",
    "df"
   ]
  },
  {
   "cell_type": "code",
   "execution_count": null,
   "id": "6-oehwPXftce",
   "metadata": {
    "colab": {
     "base_uri": "https://localhost:8080/",
     "height": 585
    },
    "executionInfo": {
     "elapsed": 394,
     "status": "ok",
     "timestamp": 1630544373104,
     "user": {
      "displayName": "Pilar Vásquez",
      "photoUrl": "",
      "userId": "07912722624438436589"
     },
     "user_tz": 240
    },
    "id": "6-oehwPXftce",
    "outputId": "2c5578a3-25c1-41cc-fa5f-b95d6d49dd6f"
   },
   "outputs": [],
   "source": [
    "fig, ax = plt.subplots(figsize=(10, 8))\n",
    "\n",
    "ax = sns.heatmap(df, annot=True)\n",
    "\n",
    "ax.set_title(\"Duración promedio de viaje por tipo de transporte - Día Hábil\")\n",
    "ax.set_xlabel(\"Tipo de Transporte\")\n",
    "ax.set_ylabel(\"Tramo de ingreso\")\n",
    "\n",
    "fig.tight_layout()"
   ]
  },
  {
   "cell_type": "code",
   "execution_count": null,
   "id": "f3552b34",
   "metadata": {
    "colab": {
     "base_uri": "https://localhost:8080/",
     "height": 345
    },
    "executionInfo": {
     "elapsed": 17,
     "status": "ok",
     "timestamp": 1630544373114,
     "user": {
      "displayName": "Pilar Vásquez",
      "photoUrl": "",
      "userId": "07912722624438436589"
     },
     "user_tz": 240
    },
    "id": "f3552b34",
    "outputId": "bc5645a3-b81e-4ac3-dbc7-7887dcf0a93f"
   },
   "outputs": [],
   "source": [
    "print('Duración mediana (en minutos) de viaje por tipo de transporte - Dia Hábil')\n",
    "df = viajes_habiles.groupby(['TramoIngreso', 'ModoPriPub']).apply(lambda x: weighted_median(x, 'TiempoViaje', 'PONDERADOR_CALIBRADO_VIAJES')).unstack()\n",
    "df"
   ]
  },
  {
   "cell_type": "code",
   "execution_count": null,
   "id": "bSzwW7wXf0UY",
   "metadata": {
    "colab": {
     "base_uri": "https://localhost:8080/",
     "height": 585
    },
    "executionInfo": {
     "elapsed": 810,
     "status": "ok",
     "timestamp": 1630544373911,
     "user": {
      "displayName": "Pilar Vásquez",
      "photoUrl": "",
      "userId": "07912722624438436589"
     },
     "user_tz": 240
    },
    "id": "bSzwW7wXf0UY",
    "outputId": "909a7dc0-b05d-4a4c-be68-18afee7b80d8"
   },
   "outputs": [],
   "source": [
    "fig, ax = plt.subplots(figsize=(10, 8))\n",
    "\n",
    "ax = sns.heatmap(df, annot=True)\n",
    "\n",
    "ax.set_title(\"Duración mediana de viaje por tipo de transporte - Día Hábil\")\n",
    "ax.set_xlabel(\"Tipo de Transporte\")\n",
    "ax.set_ylabel(\"Tramo de ingreso\")\n",
    "\n",
    "fig.tight_layout()"
   ]
  },
  {
   "cell_type": "code",
   "execution_count": null,
   "id": "5aSOv8sDrmqp",
   "metadata": {
    "colab": {
     "base_uri": "https://localhost:8080/",
     "height": 345
    },
    "executionInfo": {
     "elapsed": 10,
     "status": "ok",
     "timestamp": 1630544373912,
     "user": {
      "displayName": "Pilar Vásquez",
      "photoUrl": "",
      "userId": "07912722624438436589"
     },
     "user_tz": 240
    },
    "id": "5aSOv8sDrmqp",
    "outputId": "46367d09-24a9-4135-a096-48482015d703"
   },
   "outputs": [],
   "source": [
    "print('Duración promedio (en minutos) de viaje por tipo de transporte - Dia No Hábil')\n",
    "df = viajes_nohabiles.groupby(['TramoIngreso', 'ModoPriPub']).apply(lambda x: weighted_mean(x, 'TiempoViaje', 'PONDERADOR_CALIBRADO_VIAJES')).unstack()\n",
    "df"
   ]
  },
  {
   "cell_type": "code",
   "execution_count": null,
   "id": "lr1pPmyJf5BQ",
   "metadata": {
    "colab": {
     "base_uri": "https://localhost:8080/",
     "height": 585
    },
    "executionInfo": {
     "elapsed": 739,
     "status": "ok",
     "timestamp": 1630544374644,
     "user": {
      "displayName": "Pilar Vásquez",
      "photoUrl": "",
      "userId": "07912722624438436589"
     },
     "user_tz": 240
    },
    "id": "lr1pPmyJf5BQ",
    "outputId": "4873cda0-c30a-43b5-d56c-54de0f9cf4e8"
   },
   "outputs": [],
   "source": [
    "fig, ax = plt.subplots(figsize=(10, 8))\n",
    "\n",
    "ax = sns.heatmap(df, annot=True)\n",
    "\n",
    "ax.set_title(\"Duración promedio de viaje por tipo de transporte - Día No Hábil\")\n",
    "ax.set_xlabel(\"Tipo de Transporte\")\n",
    "ax.set_ylabel(\"Tramo de ingreso\")\n",
    "\n",
    "fig.tight_layout()"
   ]
  },
  {
   "cell_type": "code",
   "execution_count": null,
   "id": "2d321a3d",
   "metadata": {
    "colab": {
     "base_uri": "https://localhost:8080/",
     "height": 345
    },
    "executionInfo": {
     "elapsed": 697,
     "status": "ok",
     "timestamp": 1630544375332,
     "user": {
      "displayName": "Pilar Vásquez",
      "photoUrl": "",
      "userId": "07912722624438436589"
     },
     "user_tz": 240
    },
    "id": "2d321a3d",
    "outputId": "aaabe53c-e544-4a8a-c6d9-32bbaefb8b19"
   },
   "outputs": [],
   "source": [
    "print('Duración mediana (en minutos) de viaje por tipo de transporte - Dia No Hábil')\n",
    "df = viajes_nohabiles.groupby(['TramoIngreso', 'ModoPriPub']).apply(lambda x: weighted_median(x, 'TiempoViaje', 'PONDERADOR_CALIBRADO_VIAJES')).unstack()\n",
    "df"
   ]
  },
  {
   "cell_type": "code",
   "execution_count": null,
   "id": "f8KGr3MWgEtE",
   "metadata": {
    "colab": {
     "base_uri": "https://localhost:8080/",
     "height": 585
    },
    "executionInfo": {
     "elapsed": 9,
     "status": "ok",
     "timestamp": 1630544375333,
     "user": {
      "displayName": "Pilar Vásquez",
      "photoUrl": "",
      "userId": "07912722624438436589"
     },
     "user_tz": 240
    },
    "id": "f8KGr3MWgEtE",
    "outputId": "31a4cac2-654e-4d74-82fb-5387a98e3b64"
   },
   "outputs": [],
   "source": [
    "fig, ax = plt.subplots(figsize=(10, 8))\n",
    "\n",
    "ax = sns.heatmap(df, annot=True)\n",
    "\n",
    "ax.set_title(\"Duración mediana de viaje por tipo de transporte - Día No Hábil\")\n",
    "ax.set_xlabel(\"Tipo de Transporte\")\n",
    "ax.set_ylabel(\"Tramo de ingreso\")\n",
    "\n",
    "fig.tight_layout()"
   ]
  },
  {
   "cell_type": "markdown",
   "id": "qicOe9uuBqU8",
   "metadata": {
    "id": "qicOe9uuBqU8"
   },
   "source": [
    "Al analizar por tipo de transporte, para días hábiles y no hábiles, vemos que los tiempos promedios para transporte no motorizado son los más bajos, mientras que los transportes mixtos tienen las duraciones más altas, sobre todo en los tramos más bajos de ingreso."
   ]
  },
  {
   "cell_type": "markdown",
   "id": "l_LNcTgUrx5o",
   "metadata": {
    "id": "l_LNcTgUrx5o"
   },
   "source": [
    "#### **¿Cuál es el tiempo promedio de viaje en hora punta de mañana?**"
   ]
  },
  {
   "cell_type": "markdown",
   "id": "QmAA5_Xogogw",
   "metadata": {
    "id": "QmAA5_Xogogw"
   },
   "source": [
    "A continuación, se presentan los resultados para el promedio y mediana en minutos de viaje por modo y tipo de transporte, en días hábiles y no hábiles, por clasificador socioeconómico."
   ]
  },
  {
   "cell_type": "code",
   "execution_count": null,
   "id": "c3ddfb82",
   "metadata": {
    "colab": {
     "base_uri": "https://localhost:8080/",
     "height": 637
    },
    "executionInfo": {
     "elapsed": 459,
     "status": "ok",
     "timestamp": 1630520512423,
     "user": {
      "displayName": "Pilar Vásquez",
      "photoUrl": "",
      "userId": "07912722624438436589"
     },
     "user_tz": 240
    },
    "id": "c3ddfb82",
    "outputId": "4e1ee24c-1d96-4824-9d85-699d434f2521"
   },
   "outputs": [],
   "source": [
    "print('Duración promedio (en minutos) de viaje por modo en hora punta - Dia Hábil')\n",
    "df = viajes_habiles[viajes_habiles.PICO_HABIL=='Si'].groupby(['TramoIngreso', 'ModoAgregado']).apply(lambda x: weighted_mean(x, 'TiempoViaje', 'PONDERADOR_CALIBRADO_VIAJES')).unstack()\n",
    "df"
   ]
  },
  {
   "cell_type": "code",
   "execution_count": null,
   "id": "snGnskPCj5AU",
   "metadata": {
    "colab": {
     "base_uri": "https://localhost:8080/",
     "height": 585
    },
    "executionInfo": {
     "elapsed": 1843,
     "status": "ok",
     "timestamp": 1630520514262,
     "user": {
      "displayName": "Pilar Vásquez",
      "photoUrl": "",
      "userId": "07912722624438436589"
     },
     "user_tz": 240
    },
    "id": "snGnskPCj5AU",
    "outputId": "17aa039f-f6fc-47d4-9d50-db37797d995a"
   },
   "outputs": [],
   "source": [
    "fig, ax = plt.subplots(figsize=(14, 8))\n",
    "\n",
    "ax = sns.heatmap(df, annot=True)\n",
    "\n",
    "ax.set_title(\"Duración promedio de viaje hora punta mañana por modo - Día Hábil\")\n",
    "ax.set_xlabel(\"Modo de Transporte\")\n",
    "ax.set_ylabel(\"Tramo de Ingreso\")\n",
    "\n",
    "fig.tight_layout()"
   ]
  },
  {
   "cell_type": "code",
   "execution_count": null,
   "id": "c5108fd7",
   "metadata": {
    "colab": {
     "base_uri": "https://localhost:8080/",
     "height": 671
    },
    "executionInfo": {
     "elapsed": 615,
     "status": "ok",
     "timestamp": 1630520534594,
     "user": {
      "displayName": "Pilar Vásquez",
      "photoUrl": "",
      "userId": "07912722624438436589"
     },
     "user_tz": 240
    },
    "id": "c5108fd7",
    "outputId": "1a46c7fc-94d9-4258-cf5d-45cb2402ba8a"
   },
   "outputs": [],
   "source": [
    "print('Duración mediana (en minutos) de viaje por modo en hora punta - Dia Hábil')\n",
    "df = viajes_habiles[viajes_habiles.PICO_HABIL=='Si'].groupby(['TramoIngreso', 'ModoAgregado']).apply(lambda x: weighted_median(x, 'TiempoViaje', 'PONDERADOR_CALIBRADO_VIAJES')).unstack()\n",
    "df"
   ]
  },
  {
   "cell_type": "code",
   "execution_count": null,
   "id": "R0nOhHMokUsr",
   "metadata": {
    "colab": {
     "base_uri": "https://localhost:8080/",
     "height": 585
    },
    "executionInfo": {
     "elapsed": 1788,
     "status": "ok",
     "timestamp": 1630520536378,
     "user": {
      "displayName": "Pilar Vásquez",
      "photoUrl": "",
      "userId": "07912722624438436589"
     },
     "user_tz": 240
    },
    "id": "R0nOhHMokUsr",
    "outputId": "781cc89d-4bdf-4682-b6c4-6b5e900b67b1"
   },
   "outputs": [],
   "source": [
    "fig, ax = plt.subplots(figsize=(14, 8))\n",
    "\n",
    "ax = sns.heatmap(df, annot=True)\n",
    "\n",
    "ax.set_title(\"Duración mediana de viaje hora punta mañana por modo - Día Hábil\")\n",
    "ax.set_xlabel(\"Modo de Transporte\")\n",
    "ax.set_ylabel(\"Tramo de Ingreso\")\n",
    "\n",
    "fig.tight_layout()"
   ]
  },
  {
   "cell_type": "code",
   "execution_count": null,
   "id": "R7CfA0YDtg37",
   "metadata": {
    "colab": {
     "base_uri": "https://localhost:8080/",
     "height": 637
    },
    "executionInfo": {
     "elapsed": 18,
     "status": "ok",
     "timestamp": 1630520536379,
     "user": {
      "displayName": "Pilar Vásquez",
      "photoUrl": "",
      "userId": "07912722624438436589"
     },
     "user_tz": 240
    },
    "id": "R7CfA0YDtg37",
    "outputId": "06506a73-a063-4025-f996-d360358027be"
   },
   "outputs": [],
   "source": [
    "print('Duración promedio (en minutos) de viaje por modo en hora punta - Dia No Hábil')\n",
    "df = viajes_nohabiles[viajes_nohabiles.PICO_NOHABIL=='Si'].groupby(['TramoIngreso', 'ModoAgregado']).apply(lambda x: weighted_mean(x, 'TiempoViaje', 'PONDERADOR_CALIBRADO_VIAJES')).unstack()\n",
    "df"
   ]
  },
  {
   "cell_type": "code",
   "execution_count": null,
   "id": "JaPUn3crkfPp",
   "metadata": {
    "colab": {
     "base_uri": "https://localhost:8080/",
     "height": 585
    },
    "executionInfo": {
     "elapsed": 1171,
     "status": "ok",
     "timestamp": 1630520537543,
     "user": {
      "displayName": "Pilar Vásquez",
      "photoUrl": "",
      "userId": "07912722624438436589"
     },
     "user_tz": 240
    },
    "id": "JaPUn3crkfPp",
    "outputId": "b0b911c3-7e64-4017-faf8-c02e5f5e0f36"
   },
   "outputs": [],
   "source": [
    "fig, ax = plt.subplots(figsize=(14, 8))\n",
    "\n",
    "ax = sns.heatmap(df, annot=True)\n",
    "\n",
    "ax.set_title(\"Duración promedio de viaje hora punta mañana por modo - Día No Hábil\")\n",
    "ax.set_xlabel(\"Modo de Transporte\")\n",
    "ax.set_ylabel(\"Tramo de Ingreso\")\n",
    "\n",
    "fig.tight_layout()"
   ]
  },
  {
   "cell_type": "code",
   "execution_count": null,
   "id": "f956deab",
   "metadata": {
    "colab": {
     "base_uri": "https://localhost:8080/",
     "height": 688
    },
    "executionInfo": {
     "elapsed": 12,
     "status": "ok",
     "timestamp": 1630520537544,
     "user": {
      "displayName": "Pilar Vásquez",
      "photoUrl": "",
      "userId": "07912722624438436589"
     },
     "user_tz": 240
    },
    "id": "f956deab",
    "outputId": "d730a8b8-f951-40a5-ead8-4e06d52fb669"
   },
   "outputs": [],
   "source": [
    "print('Duración mediana (en minutos) de viaje por modo en hora punta - Dia No Hábil')\n",
    "df = viajes_nohabiles[viajes_nohabiles.PICO_NOHABIL=='Si'].groupby(['TramoIngreso', 'ModoAgregado']).apply(lambda x: weighted_median(x, 'TiempoViaje', 'PONDERADOR_CALIBRADO_VIAJES')).unstack()\n",
    "df"
   ]
  },
  {
   "cell_type": "code",
   "execution_count": null,
   "id": "egD86063kh4m",
   "metadata": {
    "colab": {
     "base_uri": "https://localhost:8080/",
     "height": 585
    },
    "executionInfo": {
     "elapsed": 1497,
     "status": "ok",
     "timestamp": 1630520539036,
     "user": {
      "displayName": "Pilar Vásquez",
      "photoUrl": "",
      "userId": "07912722624438436589"
     },
     "user_tz": 240
    },
    "id": "egD86063kh4m",
    "outputId": "70a96751-3380-4c65-81f9-7dda84907165"
   },
   "outputs": [],
   "source": [
    "fig, ax = plt.subplots(figsize=(14, 8))\n",
    "\n",
    "ax = sns.heatmap(df, annot=True)\n",
    "\n",
    "ax.set_title(\"Duración mediana de viaje hora punta mañana por modo - Día No Hábil\")\n",
    "ax.set_xlabel(\"Modo de Transporte\")\n",
    "ax.set_ylabel(\"Tramo de Ingreso\")\n",
    "\n",
    "fig.tight_layout()"
   ]
  },
  {
   "cell_type": "markdown",
   "id": "bY1sz41FAGiy",
   "metadata": {
    "id": "bY1sz41FAGiy"
   },
   "source": [
    "Para días hábiles, los medios de transporte con mayores duración de viaje en hora punta de mañana son combinaciones de transporte con Metro, o combinaciones de Bus TS con Bus No TS u otros. Para días no hábiles, nuevamente las combinaciones con Metro tienen altas duraciones de viaje, en particular Bus no TS - Metro, Otros - Metro, Otros - Bus TS - Metro. Los modos con viajes de duraciones más cortas son Caminata, Taxi y Bicicleta."
   ]
  },
  {
   "cell_type": "code",
   "execution_count": null,
   "id": "1eab253c",
   "metadata": {
    "colab": {
     "base_uri": "https://localhost:8080/",
     "height": 345
    },
    "executionInfo": {
     "elapsed": 11,
     "status": "ok",
     "timestamp": 1630520539037,
     "user": {
      "displayName": "Pilar Vásquez",
      "photoUrl": "",
      "userId": "07912722624438436589"
     },
     "user_tz": 240
    },
    "id": "1eab253c",
    "outputId": "3858fcee-5312-49b7-b948-5ce2d5a87786"
   },
   "outputs": [],
   "source": [
    "print('Duración promedio (en minutos) de viaje por tipo de transporte en hora punta - Dia Hábil')\n",
    "df = viajes_habiles[(viajes_habiles.PICO_HABIL=='Si')].groupby(['TramoIngreso', 'ModoPriPub']).apply(lambda x: weighted_mean(x, 'TiempoViaje', 'PONDERADOR_CALIBRADO_VIAJES')).unstack()\n",
    "df"
   ]
  },
  {
   "cell_type": "code",
   "execution_count": null,
   "id": "cPjbNcwbkrC1",
   "metadata": {
    "colab": {
     "base_uri": "https://localhost:8080/",
     "height": 585
    },
    "executionInfo": {
     "elapsed": 515,
     "status": "ok",
     "timestamp": 1630520207007,
     "user": {
      "displayName": "Pilar Vásquez",
      "photoUrl": "",
      "userId": "07912722624438436589"
     },
     "user_tz": 240
    },
    "id": "cPjbNcwbkrC1",
    "outputId": "cbbf5a8d-26c3-4a46-bc1e-0fb84a629a93"
   },
   "outputs": [],
   "source": [
    "fig, ax = plt.subplots(figsize=(10, 8))\n",
    "\n",
    "ax = sns.heatmap(df, annot=True)\n",
    "\n",
    "ax.set_title(\"Duración promedio de viaje hora punta mañana por tipo de transporte - Día Hábil\")\n",
    "ax.set_xlabel(\"Tipo de Transporte\")\n",
    "ax.set_ylabel(\"Tramo de Ingreso\")\n",
    "\n",
    "fig.tight_layout()"
   ]
  },
  {
   "cell_type": "code",
   "execution_count": null,
   "id": "c3a2fce2",
   "metadata": {
    "colab": {
     "base_uri": "https://localhost:8080/",
     "height": 345
    },
    "executionInfo": {
     "elapsed": 223,
     "status": "ok",
     "timestamp": 1630520219943,
     "user": {
      "displayName": "Pilar Vásquez",
      "photoUrl": "",
      "userId": "07912722624438436589"
     },
     "user_tz": 240
    },
    "id": "c3a2fce2",
    "outputId": "c77041ee-72b6-4073-82ce-86440ab2fbbd"
   },
   "outputs": [],
   "source": [
    "print('Duración mediana (en minutos) de viaje por tipo de transporte en hora punta - Dia Hábil')\n",
    "df = viajes_habiles[(viajes_habiles.PICO_HABIL=='Si')].groupby(['TramoIngreso', 'ModoPriPub']).apply(lambda x: weighted_median(x, 'TiempoViaje', 'PONDERADOR_CALIBRADO_VIAJES')).unstack()\n",
    "df"
   ]
  },
  {
   "cell_type": "code",
   "execution_count": null,
   "id": "DfoRF5yUlCLt",
   "metadata": {
    "colab": {
     "base_uri": "https://localhost:8080/",
     "height": 585
    },
    "executionInfo": {
     "elapsed": 1035,
     "status": "ok",
     "timestamp": 1630520236271,
     "user": {
      "displayName": "Pilar Vásquez",
      "photoUrl": "",
      "userId": "07912722624438436589"
     },
     "user_tz": 240
    },
    "id": "DfoRF5yUlCLt",
    "outputId": "28cdaa24-ca4b-484f-bb7d-94073a502168"
   },
   "outputs": [],
   "source": [
    "fig, ax = plt.subplots(figsize=(10, 8))\n",
    "\n",
    "ax = sns.heatmap(df, annot=True)\n",
    "\n",
    "ax.set_title(\"Duración mediana de viaje hora punta mañana por tipo de transporte - Día Hábil\")\n",
    "ax.set_xlabel(\"Tipo de Transporte\")\n",
    "ax.set_ylabel(\"Tramo de Ingreso\")\n",
    "\n",
    "fig.tight_layout()"
   ]
  },
  {
   "cell_type": "code",
   "execution_count": null,
   "id": "DTgvcKWat_p-",
   "metadata": {
    "colab": {
     "base_uri": "https://localhost:8080/",
     "height": 345
    },
    "executionInfo": {
     "elapsed": 321,
     "status": "ok",
     "timestamp": 1630520263994,
     "user": {
      "displayName": "Pilar Vásquez",
      "photoUrl": "",
      "userId": "07912722624438436589"
     },
     "user_tz": 240
    },
    "id": "DTgvcKWat_p-",
    "outputId": "45136b39-0afe-47b4-fcf0-d8aa87f92878",
    "scrolled": true
   },
   "outputs": [],
   "source": [
    "print('Duración promedio (en minutos) de viaje por tipo de transporte en hora punta - Dia No Hábil')\n",
    "df = viajes_nohabiles[(viajes_nohabiles.PICO_NOHABIL=='Si')].groupby(['TramoIngreso', 'ModoPriPub']).apply(lambda x: weighted_mean(x, 'TiempoViaje', 'PONDERADOR_CALIBRADO_VIAJES')).unstack()\n",
    "df"
   ]
  },
  {
   "cell_type": "code",
   "execution_count": null,
   "id": "k779SqeVlMkR",
   "metadata": {
    "colab": {
     "base_uri": "https://localhost:8080/",
     "height": 585
    },
    "executionInfo": {
     "elapsed": 1357,
     "status": "ok",
     "timestamp": 1630520277329,
     "user": {
      "displayName": "Pilar Vásquez",
      "photoUrl": "",
      "userId": "07912722624438436589"
     },
     "user_tz": 240
    },
    "id": "k779SqeVlMkR",
    "outputId": "90120072-d8a1-4bd1-f60c-b03c0a7bf901"
   },
   "outputs": [],
   "source": [
    "fig, ax = plt.subplots(figsize=(10, 8))\n",
    "\n",
    "ax = sns.heatmap(df, annot=True)\n",
    "\n",
    "ax.set_title(\"Duración promedio de viaje hora punta mañana por tipo de transporte - Día No Hábil\")\n",
    "ax.set_xlabel(\"Tipo de Transporte\")\n",
    "ax.set_ylabel(\"Tramo de Ingreso\")\n",
    "\n",
    "fig.tight_layout()"
   ]
  },
  {
   "cell_type": "code",
   "execution_count": null,
   "id": "3069768c",
   "metadata": {
    "colab": {
     "base_uri": "https://localhost:8080/",
     "height": 345
    },
    "executionInfo": {
     "elapsed": 408,
     "status": "ok",
     "timestamp": 1630520292420,
     "user": {
      "displayName": "Pilar Vásquez",
      "photoUrl": "",
      "userId": "07912722624438436589"
     },
     "user_tz": 240
    },
    "id": "3069768c",
    "outputId": "ce50397b-d635-4b22-84b9-af572c8a69dd"
   },
   "outputs": [],
   "source": [
    "print('Duración mediana (en minutos) de viaje por tipo de transporte en hora punta - Dia No Hábil')\n",
    "df = viajes_nohabiles[(viajes_nohabiles.PICO_NOHABIL=='Si')].groupby(['TramoIngreso', 'ModoPriPub']).apply(lambda x: weighted_median(x, 'TiempoViaje', 'PONDERADOR_CALIBRADO_VIAJES')).unstack()\n",
    "df"
   ]
  },
  {
   "cell_type": "code",
   "execution_count": null,
   "id": "q0Id4YcmlT3O",
   "metadata": {
    "colab": {
     "base_uri": "https://localhost:8080/",
     "height": 585
    },
    "executionInfo": {
     "elapsed": 1158,
     "status": "ok",
     "timestamp": 1630520305205,
     "user": {
      "displayName": "Pilar Vásquez",
      "photoUrl": "",
      "userId": "07912722624438436589"
     },
     "user_tz": 240
    },
    "id": "q0Id4YcmlT3O",
    "outputId": "efdc5ce1-6071-4384-e700-ce00f0491b48"
   },
   "outputs": [],
   "source": [
    "fig, ax = plt.subplots(figsize=(10, 8))\n",
    "\n",
    "ax = sns.heatmap(df, annot=True)\n",
    "\n",
    "ax.set_title(\"Duración mediana de viaje hora punta mañana por tipo de transporte - Día No Hábil\")\n",
    "ax.set_xlabel(\"Tipo de Transporte\")\n",
    "ax.set_ylabel(\"Tramo de Ingreso\")\n",
    "\n",
    "fig.tight_layout()"
   ]
  },
  {
   "cell_type": "markdown",
   "id": "LUr8uL98I4o1",
   "metadata": {
    "id": "LUr8uL98I4o1"
   },
   "source": [
    "Para días hábiles y no hábiles, los viajes con menor duración en hora punta de mañana son los realizados en transporte no motorizado, y los de mayor duración son los realizados en transporte mixto (con duración máxima en el tramo de ingreso más bajo), seguido por transporte público."
   ]
  },
  {
   "cell_type": "markdown",
   "id": "H_ocE17OJJqg",
   "metadata": {
    "id": "H_ocE17OJJqg"
   },
   "source": [
    "#### **¿Cuál es el tiempo de viaje en transporte público en hora punta de mañana?**"
   ]
  },
  {
   "cell_type": "markdown",
   "id": "7dw_exqrN9Lb",
   "metadata": {
    "id": "7dw_exqrN9Lb"
   },
   "source": [
    "A continuación, se presentan los resultados para duración promedio de viaje en hora punta de mañana en transporte público, en días hábiles y no hábiles, por clasificador socioeconómico."
   ]
  },
  {
   "cell_type": "code",
   "execution_count": null,
   "id": "b2lERy3nJkQU",
   "metadata": {
    "colab": {
     "base_uri": "https://localhost:8080/",
     "height": 671
    },
    "executionInfo": {
     "elapsed": 298,
     "status": "ok",
     "timestamp": 1630615188508,
     "user": {
      "displayName": "Pilar Vásquez",
      "photoUrl": "",
      "userId": "07912722624438436589"
     },
     "user_tz": 240
    },
    "id": "b2lERy3nJkQU",
    "outputId": "2e292f83-0a1f-464b-9a05-2216351ae672"
   },
   "outputs": [],
   "source": [
    "print('Duración promedio (en minutos) de viaje por modo en hora punta en transporte público - Dia Hábil')\n",
    "mask = (viajes_habiles.ModoPriPub=='Publico')\n",
    "df = viajes_habiles[viajes_habiles.PICO_HABIL=='Si'][mask].groupby(['TramoIngreso', 'ModoAgregado']).apply(lambda x: weighted_mean(x, 'TiempoViaje', 'PONDERADOR_CALIBRADO_VIAJES')).unstack()\n",
    "df"
   ]
  },
  {
   "cell_type": "code",
   "execution_count": null,
   "id": "tzgv-_dcO7Nx",
   "metadata": {
    "colab": {
     "base_uri": "https://localhost:8080/",
     "height": 585
    },
    "executionInfo": {
     "elapsed": 1486,
     "status": "ok",
     "timestamp": 1630615190371,
     "user": {
      "displayName": "Pilar Vásquez",
      "photoUrl": "",
      "userId": "07912722624438436589"
     },
     "user_tz": 240
    },
    "id": "tzgv-_dcO7Nx",
    "outputId": "64f5745e-66dc-4e2c-e21f-dc125bb90122"
   },
   "outputs": [],
   "source": [
    "fig, ax = plt.subplots(figsize=(14, 8))\n",
    "\n",
    "ax = sns.heatmap(df, annot=True)\n",
    "\n",
    "ax.set_title(\"Duración promedio (en minutos) de viaje en hora punta en transporte público - Dia Hábil\")\n",
    "ax.set_xlabel(\"Modo de Transporte\")\n",
    "ax.set_ylabel(\"Tramo de Ingreso\")\n",
    "\n",
    "fig.tight_layout()"
   ]
  },
  {
   "cell_type": "code",
   "execution_count": null,
   "id": "t-SCHwyZPYeb",
   "metadata": {
    "colab": {
     "base_uri": "https://localhost:8080/",
     "height": 535
    },
    "executionInfo": {
     "elapsed": 266,
     "status": "ok",
     "timestamp": 1630615445942,
     "user": {
      "displayName": "Pilar Vásquez",
      "photoUrl": "",
      "userId": "07912722624438436589"
     },
     "user_tz": 240
    },
    "id": "t-SCHwyZPYeb",
    "outputId": "86ec863e-eea5-4f39-86e3-0e804ea9619f"
   },
   "outputs": [],
   "source": [
    "print('Duración mediana (en minutos) de viaje por modo en hora punta en transporte público - Dia Hábil')\n",
    "mask = (viajes_habiles.ModoPriPub=='Publico')\n",
    "df = viajes_habiles[viajes_habiles.PICO_HABIL=='Si'][mask].groupby(['TramoIngreso', 'ModoAgregado']).apply(lambda x: weighted_median(x, 'TiempoViaje', 'PONDERADOR_CALIBRADO_VIAJES')).unstack()\n",
    "df"
   ]
  },
  {
   "cell_type": "code",
   "execution_count": null,
   "id": "hGj-ZaxFPYeb",
   "metadata": {
    "colab": {
     "base_uri": "https://localhost:8080/",
     "height": 585
    },
    "executionInfo": {
     "elapsed": 1434,
     "status": "ok",
     "timestamp": 1630615447792,
     "user": {
      "displayName": "Pilar Vásquez",
      "photoUrl": "",
      "userId": "07912722624438436589"
     },
     "user_tz": 240
    },
    "id": "hGj-ZaxFPYeb",
    "outputId": "b7484983-9f10-4a2b-9872-12470511d050"
   },
   "outputs": [],
   "source": [
    "fig, ax = plt.subplots(figsize=(14, 8))\n",
    "\n",
    "ax = sns.heatmap(df, annot=True)\n",
    "\n",
    "ax.set_title(\"Duración mediana (en minutos) de viaje en hora punta en transporte público - Dia Hábil\")\n",
    "ax.set_xlabel(\"Modo de Transporte\")\n",
    "ax.set_ylabel(\"Tramo de Ingreso\")\n",
    "\n",
    "fig.tight_layout()"
   ]
  },
  {
   "cell_type": "code",
   "execution_count": null,
   "id": "WQhdm6LORLi2",
   "metadata": {
    "colab": {
     "base_uri": "https://localhost:8080/",
     "height": 606
    },
    "executionInfo": {
     "elapsed": 388,
     "status": "ok",
     "timestamp": 1630615970514,
     "user": {
      "displayName": "Pilar Vásquez",
      "photoUrl": "",
      "userId": "07912722624438436589"
     },
     "user_tz": 240
    },
    "id": "WQhdm6LORLi2",
    "outputId": "e22bef04-28e2-4962-a697-ffb703f525ee"
   },
   "outputs": [],
   "source": [
    "print('Duración promedio (en minutos) de viaje hora punta en transporte público - Dia No Hábil')\n",
    "mask = (viajes_nohabiles.ModoPriPub=='Publico')\n",
    "df = viajes_nohabiles[viajes_nohabiles.PICO_NOHABIL=='Si'][mask].groupby(['TramoIngreso', 'ModoAgregado']).apply(lambda x: weighted_mean(x, 'TiempoViaje', 'PONDERADOR_CALIBRADO_VIAJES')).unstack()\n",
    "df"
   ]
  },
  {
   "cell_type": "code",
   "execution_count": null,
   "id": "nHFw4XNoSPt3",
   "metadata": {
    "colab": {
     "base_uri": "https://localhost:8080/",
     "height": 585
    },
    "executionInfo": {
     "elapsed": 1091,
     "status": "ok",
     "timestamp": 1630615971977,
     "user": {
      "displayName": "Pilar Vásquez",
      "photoUrl": "",
      "userId": "07912722624438436589"
     },
     "user_tz": 240
    },
    "id": "nHFw4XNoSPt3",
    "outputId": "c29297e8-d7ff-49f2-e0df-271072e5e48f"
   },
   "outputs": [],
   "source": [
    "fig, ax = plt.subplots(figsize=(14, 8))\n",
    "\n",
    "ax = sns.heatmap(df, annot=True)\n",
    "\n",
    "ax.set_title(\"Duración promedio (en minutos) de viaje en hora punta en transporte público - Dia No Hábil\")\n",
    "ax.set_xlabel(\"Modo de Transporte\")\n",
    "ax.set_ylabel(\"Tramo de Ingreso\")\n",
    "\n",
    "fig.tight_layout()"
   ]
  },
  {
   "cell_type": "code",
   "execution_count": null,
   "id": "_XW9qTWeSKk_",
   "metadata": {
    "colab": {
     "base_uri": "https://localhost:8080/",
     "height": 487
    },
    "executionInfo": {
     "elapsed": 244,
     "status": "ok",
     "timestamp": 1630615991242,
     "user": {
      "displayName": "Pilar Vásquez",
      "photoUrl": "",
      "userId": "07912722624438436589"
     },
     "user_tz": 240
    },
    "id": "_XW9qTWeSKk_",
    "outputId": "2d74007a-31c4-42d8-cc58-1f6f70a1bf23"
   },
   "outputs": [],
   "source": [
    "print('Duración mediana (en minutos) de viaje hora punta en transporte público - Dia No Hábil')\n",
    "mask = (viajes_nohabiles.ModoPriPub=='Publico')\n",
    "df = viajes_nohabiles[viajes_nohabiles.PICO_NOHABIL=='Si'][mask].groupby(['TramoIngreso', 'ModoAgregado']).apply(lambda x: weighted_median(x, 'TiempoViaje', 'PONDERADOR_CALIBRADO_VIAJES')).unstack()\n",
    "df"
   ]
  },
  {
   "cell_type": "code",
   "execution_count": null,
   "id": "x_YlFtQeSUUK",
   "metadata": {
    "colab": {
     "base_uri": "https://localhost:8080/",
     "height": 585
    },
    "executionInfo": {
     "elapsed": 1297,
     "status": "ok",
     "timestamp": 1630615992923,
     "user": {
      "displayName": "Pilar Vásquez",
      "photoUrl": "",
      "userId": "07912722624438436589"
     },
     "user_tz": 240
    },
    "id": "x_YlFtQeSUUK",
    "outputId": "36a16355-e2e5-49da-d314-252101d4e35d"
   },
   "outputs": [],
   "source": [
    "fig, ax = plt.subplots(figsize=(14, 8))\n",
    "\n",
    "ax = sns.heatmap(df, annot=True)\n",
    "\n",
    "ax.set_title(\"Duración mediana (en minutos) de viaje en hora punta en transporte público - Dia No Hábil\")\n",
    "ax.set_xlabel(\"Modo de Transporte\")\n",
    "ax.set_ylabel(\"Tramo de Ingreso\")\n",
    "\n",
    "fig.tight_layout()"
   ]
  },
  {
   "cell_type": "markdown",
   "id": "MIvAPB4bJWUI",
   "metadata": {
    "id": "MIvAPB4bJWUI"
   },
   "source": [
    "En días hábiles y no hábiles, las duraciones mayores de viaje en transporte público en hora punta de mañana son de las combinaciones de Bus TS - Bus no TS, Bus no TS - Metro, Otros - Bus TS - Metro y Otros - Metro, con estas dos últimas opciones con valores más altos en los tramos más bajos. Las duraciones más bajas corresponden a Taxi Colectivo a través de todos los tramos."
   ]
  },
  {
   "cell_type": "markdown",
   "id": "0cuVioNGuNFb",
   "metadata": {
    "id": "0cuVioNGuNFb"
   },
   "source": [
    "#### **¿Cuál es el tiempo promedio de viaje al trabajo en transporte público?**"
   ]
  },
  {
   "cell_type": "markdown",
   "id": "aobxDEu4Glie",
   "metadata": {
    "id": "aobxDEu4Glie"
   },
   "source": [
    "A continuación, se presentan los resultados de tiempo promedio de viaje al trabajo en transporte público, por clasificador socioeconómico."
   ]
  },
  {
   "cell_type": "code",
   "execution_count": null,
   "id": "830ebc95",
   "metadata": {
    "colab": {
     "base_uri": "https://localhost:8080/"
    },
    "executionInfo": {
     "elapsed": 35,
     "status": "ok",
     "timestamp": 1629755563532,
     "user": {
      "displayName": "Paula Vásquez H.",
      "photoUrl": "https://lh3.googleusercontent.com/a-/AOh14GgJUNawPfe0J41agMsUCwKAOgAzWX7zUOLCtayLFg=s64",
      "userId": "02019115936957150360"
     },
     "user_tz": 240
    },
    "id": "830ebc95",
    "outputId": "cb8b2346-2a3c-43d4-c62d-f0646efddb5a"
   },
   "outputs": [],
   "source": [
    "viajes_habiles.PropositoAgregado.unique()"
   ]
  },
  {
   "cell_type": "code",
   "execution_count": null,
   "id": "437706df",
   "metadata": {
    "colab": {
     "base_uri": "https://localhost:8080/",
     "height": 637
    },
    "executionInfo": {
     "elapsed": 239,
     "status": "ok",
     "timestamp": 1630520551149,
     "user": {
      "displayName": "Pilar Vásquez",
      "photoUrl": "",
      "userId": "07912722624438436589"
     },
     "user_tz": 240
    },
    "id": "437706df",
    "outputId": "0135e730-4fe5-4091-b9b7-1f2ecd27d086"
   },
   "outputs": [],
   "source": [
    "print('Duración promedio (en minutos) de viaje al trabajo en transporte público - Dia Hábil')\n",
    "mask = (viajes_habiles.ModoPriPub=='Publico') & (viajes_habiles.PropositoAgregado=='Trabajo')\n",
    "df = viajes_habiles[mask].groupby(['TramoIngreso', 'ModoAgregado']).apply(lambda x: weighted_mean(x, 'TiempoViaje', 'PONDERADOR_CALIBRADO_VIAJES')).unstack()\n",
    "df"
   ]
  },
  {
   "cell_type": "code",
   "execution_count": null,
   "id": "kmehBdROlcZR",
   "metadata": {
    "colab": {
     "base_uri": "https://localhost:8080/",
     "height": 585
    },
    "executionInfo": {
     "elapsed": 1419,
     "status": "ok",
     "timestamp": 1630520554956,
     "user": {
      "displayName": "Pilar Vásquez",
      "photoUrl": "",
      "userId": "07912722624438436589"
     },
     "user_tz": 240
    },
    "id": "kmehBdROlcZR",
    "outputId": "49f08694-74cf-45a1-88fb-0bedf5e01142"
   },
   "outputs": [],
   "source": [
    "fig, ax = plt.subplots(figsize=(14, 8))\n",
    "\n",
    "ax = sns.heatmap(df, annot=True)\n",
    "\n",
    "ax.set_title(\"Duración promedio (en minutos) de viaje al trabajo en transporte público - Dia Hábil\")\n",
    "ax.set_xlabel(\"Modo de Transporte\")\n",
    "ax.set_ylabel(\"Tramo de Ingreso\")\n",
    "\n",
    "fig.tight_layout()"
   ]
  },
  {
   "cell_type": "code",
   "execution_count": null,
   "id": "2919c850",
   "metadata": {
    "colab": {
     "base_uri": "https://localhost:8080/",
     "height": 481
    },
    "executionInfo": {
     "elapsed": 249,
     "status": "ok",
     "timestamp": 1630520589347,
     "user": {
      "displayName": "Pilar Vásquez",
      "photoUrl": "",
      "userId": "07912722624438436589"
     },
     "user_tz": 240
    },
    "id": "2919c850",
    "outputId": "5406924a-1969-4ffd-90ac-a397795fe525"
   },
   "outputs": [],
   "source": [
    "print('Duración mediana (en minutos) de viaje al trabajo en transporte público - Dia Hábil')\n",
    "mask = (viajes_habiles.ModoPriPub=='Publico') & (viajes_habiles.PropositoAgregado=='Trabajo')\n",
    "df = viajes_habiles[mask].groupby(['TramoIngreso', 'ModoAgregado']).apply(lambda x: weighted_median(x, 'TiempoViaje', 'PONDERADOR_CALIBRADO_VIAJES')).unstack()\n",
    "df"
   ]
  },
  {
   "cell_type": "code",
   "execution_count": null,
   "id": "tMbNrNV9mcG1",
   "metadata": {
    "colab": {
     "base_uri": "https://localhost:8080/",
     "height": 585
    },
    "executionInfo": {
     "elapsed": 1546,
     "status": "ok",
     "timestamp": 1630520597343,
     "user": {
      "displayName": "Pilar Vásquez",
      "photoUrl": "",
      "userId": "07912722624438436589"
     },
     "user_tz": 240
    },
    "id": "tMbNrNV9mcG1",
    "outputId": "122d0c30-4275-4b4c-867f-c9b4dd29e7fa"
   },
   "outputs": [],
   "source": [
    "fig, ax = plt.subplots(figsize=(14, 8))\n",
    "\n",
    "ax = sns.heatmap(df, annot=True)\n",
    "\n",
    "ax.set_title(\"Duración mediana (en minutos) de viaje al trabajo en transporte público - Dia Hábil\")\n",
    "ax.set_xlabel(\"Modo de Transporte\")\n",
    "ax.set_ylabel(\"Tramo de Ingreso\")\n",
    "\n",
    "fig.tight_layout()"
   ]
  },
  {
   "cell_type": "code",
   "execution_count": null,
   "id": "Icru7lp3ujO0",
   "metadata": {
    "colab": {
     "base_uri": "https://localhost:8080/",
     "height": 572
    },
    "executionInfo": {
     "elapsed": 290,
     "status": "ok",
     "timestamp": 1630520606449,
     "user": {
      "displayName": "Pilar Vásquez",
      "photoUrl": "",
      "userId": "07912722624438436589"
     },
     "user_tz": 240
    },
    "id": "Icru7lp3ujO0",
    "outputId": "6c224d9f-69b0-4514-e71b-0af95e488317"
   },
   "outputs": [],
   "source": [
    "print('Duración promedio (en minutos) de viaje al trabajo en transporte público - Dia No Hábil')\n",
    "mask = (viajes_nohabiles.ModoPriPub=='Publico') & (viajes_nohabiles.PropositoAgregado=='Trabajo')\n",
    "df = viajes_nohabiles[mask].groupby(['TramoIngreso', 'ModoAgregado']).apply(lambda x: weighted_mean(x, 'TiempoViaje', 'PONDERADOR_CALIBRADO_VIAJES')).unstack()\n",
    "df"
   ]
  },
  {
   "cell_type": "code",
   "execution_count": null,
   "id": "5LVzlzWkmgmc",
   "metadata": {
    "colab": {
     "base_uri": "https://localhost:8080/",
     "height": 585
    },
    "executionInfo": {
     "elapsed": 1408,
     "status": "ok",
     "timestamp": 1630520617042,
     "user": {
      "displayName": "Pilar Vásquez",
      "photoUrl": "",
      "userId": "07912722624438436589"
     },
     "user_tz": 240
    },
    "id": "5LVzlzWkmgmc",
    "outputId": "05238b38-da5c-47de-dbd0-d51ced233410"
   },
   "outputs": [],
   "source": [
    "fig, ax = plt.subplots(figsize=(14, 8))\n",
    "\n",
    "ax = sns.heatmap(df, annot=True)\n",
    "\n",
    "ax.set_title(\"Duración promedio (en minutos) de viaje al trabajo en transporte público - Dia No Hábil\")\n",
    "ax.set_xlabel(\"Modo de Transporte\")\n",
    "ax.set_ylabel(\"Tramo de Ingreso\")\n",
    "\n",
    "fig.tight_layout()"
   ]
  },
  {
   "cell_type": "code",
   "execution_count": null,
   "id": "1e29a17a",
   "metadata": {
    "colab": {
     "base_uri": "https://localhost:8080/",
     "height": 433
    },
    "executionInfo": {
     "elapsed": 287,
     "status": "ok",
     "timestamp": 1630520639109,
     "user": {
      "displayName": "Pilar Vásquez",
      "photoUrl": "",
      "userId": "07912722624438436589"
     },
     "user_tz": 240
    },
    "id": "1e29a17a",
    "outputId": "0f8ae2cf-d5ef-454a-de77-8edc7110da95"
   },
   "outputs": [],
   "source": [
    "print('Duración mediana (en minutos) de viaje al trabajo en transporte público - Dia No Hábil')\n",
    "mask = (viajes_nohabiles.ModoPriPub=='Publico') & (viajes_nohabiles.PropositoAgregado=='Trabajo')\n",
    "df = viajes_nohabiles[mask].groupby(['TramoIngreso', 'ModoAgregado']).apply(lambda x: weighted_median(x, 'TiempoViaje', 'PONDERADOR_CALIBRADO_VIAJES')).unstack()\n",
    "df"
   ]
  },
  {
   "cell_type": "code",
   "execution_count": null,
   "id": "L8wttlhMmlhA",
   "metadata": {
    "colab": {
     "base_uri": "https://localhost:8080/",
     "height": 585
    },
    "executionInfo": {
     "elapsed": 1081,
     "status": "ok",
     "timestamp": 1630520640573,
     "user": {
      "displayName": "Pilar Vásquez",
      "photoUrl": "",
      "userId": "07912722624438436589"
     },
     "user_tz": 240
    },
    "id": "L8wttlhMmlhA",
    "outputId": "2b8e0fd5-cae4-4304-a0c4-5aa103e8a67b"
   },
   "outputs": [],
   "source": [
    "fig, ax = plt.subplots(figsize=(14, 8))\n",
    "\n",
    "ax = sns.heatmap(df, annot=True)\n",
    "\n",
    "ax.set_title(\"Duración mediana (en minutos) de viaje al trabajo en transporte público - Dia No Hábil\")\n",
    "ax.set_xlabel(\"Modo de Transporte\")\n",
    "ax.set_ylabel(\"Tramo de Ingreso\")\n",
    "\n",
    "fig.tight_layout()"
   ]
  },
  {
   "cell_type": "markdown",
   "id": "l7sUV45TK0iy",
   "metadata": {
    "id": "l7sUV45TK0iy"
   },
   "source": [
    "En días hábiles y no hábiles, los modos con mayor duración de viaje al trabajo en transporte público son de las combinaciones de Bus TS - Bus no TS, Bus no TS - Metro y Otros - Bus TS - Metro, con fluctuaciones de variación a través de los tramos de ingreso. Las duraciones más bajas corresponden a Taxi Colectivo a través de todos los tramos."
   ]
  },
  {
   "cell_type": "markdown",
   "id": "7ZU2HTVDNl75",
   "metadata": {
    "id": "7ZU2HTVDNl75"
   },
   "source": [
    "### Parte III: Indicadores de Distancia de Viajes\n",
    "1. Distancia de viajes en auto (histograma de viajes por km)\n",
    "2.Distancia de viajes en transporte público (histograma de viajes por km)\n",
    "3.Distancia de viajes por motivo estudio (histograma de viajes por km)\n",
    "4.Distancia de viajes por motivo al trabajo (histograma de viajes por km)\n",
    "5.Viajes interzonales como intrazonales\n"
   ]
  },
  {
   "cell_type": "markdown",
   "id": "5KmeoTrxG-Yw",
   "metadata": {
    "id": "5KmeoTrxG-Yw"
   },
   "source": [
    "En esta sección, se presentarán los indicadores de distancia de viajes durante días hábiles."
   ]
  },
  {
   "cell_type": "code",
   "execution_count": null,
   "id": "bnJWiWCDxdQ6",
   "metadata": {
    "id": "bnJWiWCDxdQ6"
   },
   "outputs": [],
   "source": [
    "viajes_habiles = viajes_habiles[(viajes_habiles['DistManhattan'].between(500, 45000))]\n",
    "viajes_nohabiles = viajes_nohabiles[(viajes_nohabiles['DistManhattan'].between(500, 45000))]\n",
    "viajes_personas = viajes_personas[(viajes_personas['DistManhattan'].between(500, 45000))]\n"
   ]
  },
  {
   "cell_type": "markdown",
   "id": "IdM9y-kCu-j_",
   "metadata": {
    "id": "IdM9y-kCu-j_"
   },
   "source": [
    "#### **Distancia de viajes en auto (histograma de viajes por km)**"
   ]
  },
  {
   "cell_type": "code",
   "execution_count": null,
   "id": "88138694",
   "metadata": {
    "colab": {
     "base_uri": "https://localhost:8080/",
     "height": 299
    },
    "executionInfo": {
     "elapsed": 40546,
     "status": "ok",
     "timestamp": 1629755604856,
     "user": {
      "displayName": "Paula Vásquez H.",
      "photoUrl": "https://lh3.googleusercontent.com/a-/AOh14GgJUNawPfe0J41agMsUCwKAOgAzWX7zUOLCtayLFg=s64",
      "userId": "02019115936957150360"
     },
     "user_tz": 240
    },
    "id": "88138694",
    "outputId": "64f5069f-fffc-4f8a-e24d-a106af9b36ff"
   },
   "outputs": [],
   "source": [
    "from matplotlib.pyplot import hist\n",
    "print('Distancia de viajes en auto - Día Hábil')\n",
    "mask = (viajes_habiles.ModoAgregado == 'Auto')\n",
    "df = viajes_habiles[mask].groupby('DistManhattan').sum()[['PONDERADOR_CALIBRADO_VIAJES']].reset_index().sort_values('DistManhattan')\n",
    "hist(df.DistManhattan, weights=df.PONDERADOR_CALIBRADO_VIAJES, bins=50)\n",
    "plt.axvline(viajes_habiles[mask].groupby('Viaje').apply(lambda x: weighted_mean(x, 'DistManhattan', 'PONDERADOR_CALIBRADO_VIAJES')).mean(), color='green', linestyle='dashed', linewidth=1)\n",
    "plt.axvline(viajes_habiles[mask].groupby('Viaje').apply(lambda x: weighted_median(x, 'DistManhattan', 'PONDERADOR_CALIBRADO_VIAJES')).median(), color='red', linestyle='dashed', linewidth=1)\n",
    "#Verde Promedio\n",
    "#Rojo Mediana"
   ]
  },
  {
   "cell_type": "code",
   "execution_count": null,
   "id": "cdYBKXLMvrMQ",
   "metadata": {
    "colab": {
     "base_uri": "https://localhost:8080/",
     "height": 310
    },
    "executionInfo": {
     "elapsed": 11980,
     "status": "ok",
     "timestamp": 1629755616829,
     "user": {
      "displayName": "Paula Vásquez H.",
      "photoUrl": "https://lh3.googleusercontent.com/a-/AOh14GgJUNawPfe0J41agMsUCwKAOgAzWX7zUOLCtayLFg=s64",
      "userId": "02019115936957150360"
     },
     "user_tz": 240
    },
    "id": "cdYBKXLMvrMQ",
    "outputId": "e9f05444-e8d9-4ed9-ca82-568ac23b066d"
   },
   "outputs": [],
   "source": [
    "print('Distancia de viajes en auto - Día No Hábil')\n",
    "mask = (viajes_nohabiles.ModoAgregado == 'Auto')\n",
    "df = viajes_nohabiles[mask].groupby('DistManhattan').sum()[['PONDERADOR_CALIBRADO_VIAJES']].reset_index().sort_values('DistManhattan')\n",
    "hist(df.DistManhattan, weights=df.PONDERADOR_CALIBRADO_VIAJES, bins=50)\n",
    "plt.axvline(viajes_nohabiles[mask].groupby('Viaje').apply(lambda x: weighted_mean(x, 'DistManhattan', 'PONDERADOR_CALIBRADO_VIAJES')).mean(), color='green', linestyle='dashed', linewidth=1)\n",
    "plt.axvline(viajes_nohabiles[mask].groupby('Viaje').apply(lambda x: weighted_median(x, 'DistManhattan', 'PONDERADOR_CALIBRADO_VIAJES')).median(), color='red', linestyle='dashed', linewidth=1)\n",
    "#Verde Promedio\n",
    "#Rojo Mediana"
   ]
  },
  {
   "cell_type": "markdown",
   "id": "2-lBeEH-vYc_",
   "metadata": {
    "id": "2-lBeEH-vYc_"
   },
   "source": [
    "#### **Distancia de viajes en transporte público**"
   ]
  },
  {
   "cell_type": "code",
   "execution_count": null,
   "id": "04c47cb1",
   "metadata": {
    "colab": {
     "base_uri": "https://localhost:8080/",
     "height": 299
    },
    "executionInfo": {
     "elapsed": 71928,
     "status": "ok",
     "timestamp": 1629755688736,
     "user": {
      "displayName": "Paula Vásquez H.",
      "photoUrl": "https://lh3.googleusercontent.com/a-/AOh14GgJUNawPfe0J41agMsUCwKAOgAzWX7zUOLCtayLFg=s64",
      "userId": "02019115936957150360"
     },
     "user_tz": 240
    },
    "id": "04c47cb1",
    "outputId": "b06a0bbf-2bed-476e-8a36-5b4e2994015c"
   },
   "outputs": [],
   "source": [
    "print('Distancia de viajes en transporte público - Día Hábil')\n",
    "mask = (viajes_habiles.ModoPriPub == 'Publico')\n",
    "df = viajes_habiles[mask].groupby('DistManhattan').sum()[['PONDERADOR_CALIBRADO_VIAJES']].reset_index().sort_values('DistManhattan')\n",
    "hist(df.DistManhattan, weights=df.PONDERADOR_CALIBRADO_VIAJES, bins=50)\n",
    "plt.axvline(viajes_habiles[mask].groupby('Viaje').apply(lambda x: weighted_mean(x, 'DistManhattan', 'PONDERADOR_CALIBRADO_VIAJES')).mean(), color='green', linestyle='dashed', linewidth=1)\n",
    "plt.axvline(viajes_habiles[mask].groupby('Viaje').apply(lambda x: weighted_median(x, 'DistManhattan', 'PONDERADOR_CALIBRADO_VIAJES')).median(), color='red', linestyle='dashed', linewidth=1)\n",
    "#Verde Promedio\n",
    "#Rojo Mediana"
   ]
  },
  {
   "cell_type": "code",
   "execution_count": null,
   "id": "y3H9Mpwy9S-J",
   "metadata": {
    "colab": {
     "base_uri": "https://localhost:8080/",
     "height": 299
    },
    "executionInfo": {
     "elapsed": 12742,
     "status": "ok",
     "timestamp": 1629755701455,
     "user": {
      "displayName": "Paula Vásquez H.",
      "photoUrl": "https://lh3.googleusercontent.com/a-/AOh14GgJUNawPfe0J41agMsUCwKAOgAzWX7zUOLCtayLFg=s64",
      "userId": "02019115936957150360"
     },
     "user_tz": 240
    },
    "id": "y3H9Mpwy9S-J",
    "outputId": "64d8c32e-5412-470e-a3aa-e92b884cf5c9"
   },
   "outputs": [],
   "source": [
    "print('Distancia de viajes en transporte público - Día No Hábil')\n",
    "mask = (viajes_nohabiles.ModoPriPub == 'Publico')\n",
    "df = viajes_nohabiles[mask].groupby('DistManhattan').sum()[['PONDERADOR_CALIBRADO_VIAJES']].reset_index().sort_values('DistManhattan')\n",
    "hist(df.DistManhattan, weights=df.PONDERADOR_CALIBRADO_VIAJES, bins=50)\n",
    "plt.axvline(viajes_nohabiles[mask].groupby('Viaje').apply(lambda x: weighted_mean(x, 'DistManhattan', 'PONDERADOR_CALIBRADO_VIAJES')).mean(), color='green', linestyle='dashed', linewidth=1)\n",
    "plt.axvline(viajes_nohabiles[mask].groupby('Viaje').apply(lambda x: weighted_median(x, 'DistManhattan', 'PONDERADOR_CALIBRADO_VIAJES')).median(), color='red', linestyle='dashed', linewidth=1)\n",
    "#Verde Promedio\n",
    "#Rojo Mediana"
   ]
  },
  {
   "cell_type": "markdown",
   "id": "PfffZ7ZZ-soo",
   "metadata": {
    "id": "PfffZ7ZZ-soo"
   },
   "source": [
    "#### **Distancia de viajes por motivo estudio**"
   ]
  },
  {
   "cell_type": "code",
   "execution_count": null,
   "id": "6f9adcbd",
   "metadata": {
    "colab": {
     "base_uri": "https://localhost:8080/",
     "height": 299
    },
    "executionInfo": {
     "elapsed": 30073,
     "status": "ok",
     "timestamp": 1629755731504,
     "user": {
      "displayName": "Paula Vásquez H.",
      "photoUrl": "https://lh3.googleusercontent.com/a-/AOh14GgJUNawPfe0J41agMsUCwKAOgAzWX7zUOLCtayLFg=s64",
      "userId": "02019115936957150360"
     },
     "user_tz": 240
    },
    "id": "6f9adcbd",
    "outputId": "31e1a467-fc2f-4402-9fdd-ee7eadacd4b1"
   },
   "outputs": [],
   "source": [
    "print('Distancia de viajes con motivo de estudio')\n",
    "mask = (viajes_personas.PropositoAgregado=='Estudio')\n",
    "df = viajes_personas[mask].groupby('DistManhattan').sum()[['PONDERADOR_CALIBRADO_VIAJES']].reset_index().sort_values('DistManhattan')\n",
    "hist(df.DistManhattan, weights=df.PONDERADOR_CALIBRADO_VIAJES, bins=50)\n",
    "plt.axvline(viajes_personas[mask].groupby('Viaje').apply(lambda x: weighted_mean(x, 'DistManhattan', 'PONDERADOR_CALIBRADO_VIAJES')).mean(), color='green', linestyle='dashed', linewidth=1)\n",
    "plt.axvline(viajes_personas[mask].groupby('Viaje').apply(lambda x: weighted_median(x, 'DistManhattan', 'PONDERADOR_CALIBRADO_VIAJES')).median(), color='red', linestyle='dashed', linewidth=1)\n",
    "#Verde Promedio\n",
    "#Rojo Mediana"
   ]
  },
  {
   "cell_type": "markdown",
   "id": "-jJrOlEl-uLU",
   "metadata": {
    "id": "-jJrOlEl-uLU"
   },
   "source": [
    "#### **Distancia de viajes por motivo trabajo**"
   ]
  },
  {
   "cell_type": "code",
   "execution_count": null,
   "id": "ea9d8109",
   "metadata": {
    "colab": {
     "base_uri": "https://localhost:8080/",
     "height": 310
    },
    "executionInfo": {
     "elapsed": 68522,
     "status": "ok",
     "timestamp": 1629755800019,
     "user": {
      "displayName": "Paula Vásquez H.",
      "photoUrl": "https://lh3.googleusercontent.com/a-/AOh14GgJUNawPfe0J41agMsUCwKAOgAzWX7zUOLCtayLFg=s64",
      "userId": "02019115936957150360"
     },
     "user_tz": 240
    },
    "id": "ea9d8109",
    "outputId": "8bfbf586-b625-4e4c-9a49-ba8247ff07a1"
   },
   "outputs": [],
   "source": [
    "print('Distancia de viajes con motivo de trabajo')\n",
    "mask = (viajes_personas.PropositoAgregado=='Trabajo')\n",
    "df = viajes_personas[mask].groupby('DistManhattan').sum()[['PONDERADOR_CALIBRADO_VIAJES']].reset_index().sort_values('DistManhattan')\n",
    "hist(df.DistManhattan, weights=df.PONDERADOR_CALIBRADO_VIAJES, bins=50)\n",
    "plt.axvline(viajes_personas[mask].groupby('Viaje').apply(lambda x: weighted_mean(x, 'DistManhattan', 'PONDERADOR_CALIBRADO_VIAJES')).mean(), color='green', linestyle='dashed', linewidth=1)\n",
    "plt.axvline(viajes_personas[mask].groupby('Viaje').apply(lambda x: weighted_median(x, 'DistManhattan', 'PONDERADOR_CALIBRADO_VIAJES')).median(), color='red', linestyle='dashed', linewidth=1)\n",
    "#Verde Promedio\n",
    "#Rojo Mediana"
   ]
  },
  {
   "cell_type": "markdown",
   "id": "isY_bo3Y-xRh",
   "metadata": {
    "id": "isY_bo3Y-xRh"
   },
   "source": [
    "#### **Viajes intra vs interzonales**"
   ]
  },
  {
   "cell_type": "code",
   "execution_count": null,
   "id": "9d567b6e",
   "metadata": {
    "colab": {
     "base_uri": "https://localhost:8080/",
     "height": 345
    },
    "executionInfo": {
     "elapsed": 60,
     "status": "ok",
     "timestamp": 1629755800021,
     "user": {
      "displayName": "Paula Vásquez H.",
      "photoUrl": "https://lh3.googleusercontent.com/a-/AOh14GgJUNawPfe0J41agMsUCwKAOgAzWX7zUOLCtayLFg=s64",
      "userId": "02019115936957150360"
     },
     "user_tz": 240
    },
    "id": "9d567b6e",
    "outputId": "58104566-83fa-4e2d-dd69-2c6c91216725"
   },
   "outputs": [],
   "source": [
    "print('% de viajes Inter e Intra zonales')\n",
    "df = viajes_personas.groupby(['PropositoAgregado','Sexo','Intra_Inter_zona']).sum()['PONDERADOR_CALIBRADO_VIAJES'].unstack()\n",
    "df.div(df.sum(axis=1), axis=0)"
   ]
  },
  {
   "cell_type": "code",
   "execution_count": null,
   "id": "44f12a97",
   "metadata": {
    "colab": {
     "base_uri": "https://localhost:8080/",
     "height": 345
    },
    "executionInfo": {
     "elapsed": 48,
     "status": "ok",
     "timestamp": 1629755800022,
     "user": {
      "displayName": "Paula Vásquez H.",
      "photoUrl": "https://lh3.googleusercontent.com/a-/AOh14GgJUNawPfe0J41agMsUCwKAOgAzWX7zUOLCtayLFg=s64",
      "userId": "02019115936957150360"
     },
     "user_tz": 240
    },
    "id": "44f12a97",
    "outputId": "19c286b2-46df-4580-857d-90cfcdb5c06b"
   },
   "outputs": [],
   "source": [
    "print('% de viajes Inter e Intra comunales')\n",
    "df = viajes_personas.groupby(['PropositoAgregado','Sexo','Intra_Inter_comuna']).sum()['PONDERADOR_CALIBRADO_VIAJES'].unstack()\n",
    "df.div(df.sum(axis=1), axis=0)"
   ]
  },
  {
   "cell_type": "code",
   "execution_count": null,
   "id": "42a68309",
   "metadata": {
    "colab": {
     "base_uri": "https://localhost:8080/",
     "height": 345
    },
    "executionInfo": {
     "elapsed": 38,
     "status": "ok",
     "timestamp": 1629755800024,
     "user": {
      "displayName": "Paula Vásquez H.",
      "photoUrl": "https://lh3.googleusercontent.com/a-/AOh14GgJUNawPfe0J41agMsUCwKAOgAzWX7zUOLCtayLFg=s64",
      "userId": "02019115936957150360"
     },
     "user_tz": 240
    },
    "id": "42a68309",
    "outputId": "cb44ac5f-90a2-4eea-a5a0-c9778b9ad410"
   },
   "outputs": [],
   "source": [
    "print('% de viajes Inter e Intra sector')\n",
    "df = viajes_personas.groupby(['PropositoAgregado','Sexo','Intra_Inter_sector']).sum()['PONDERADOR_CALIBRADO_VIAJES'].unstack()\n",
    "df.div(df.sum(axis=1), axis=0)"
   ]
  },
  {
   "cell_type": "code",
   "execution_count": null,
   "id": "7a000e72",
   "metadata": {
    "id": "7a000e72"
   },
   "outputs": [],
   "source": []
  },
  {
   "cell_type": "markdown",
   "id": "Y8OIEORu5NFl",
   "metadata": {
    "id": "Y8OIEORu5NFl"
   },
   "source": [
    "### ¿Dónde se concentran las personas que utilizan cada modo de transporte en la ciudad para distintos propósitos?"
   ]
  },
  {
   "cell_type": "code",
   "execution_count": null,
   "id": "LJoV8GVJ5N1D",
   "metadata": {
    "colab": {
     "base_uri": "https://localhost:8080/",
     "height": 293
    },
    "executionInfo": {
     "elapsed": 1280,
     "status": "ok",
     "timestamp": 1635822465207,
     "user": {
      "displayName": "Paula Vásquez H.",
      "photoUrl": "https://lh3.googleusercontent.com/a-/AOh14GgJUNawPfe0J41agMsUCwKAOgAzWX7zUOLCtayLFg=s64",
      "userId": "02019115936957150360"
     },
     "user_tz": 180
    },
    "id": "LJoV8GVJ5N1D",
    "outputId": "fe6b26ce-34ef-4818-e9dc-ed642fd99471"
   },
   "outputs": [],
   "source": [
    "from aves.features.geo import clip_area_geodataframe\n",
    "bbox = [326815.3485,6275131.9514,365914.0887,6312532.9784]\n",
    "\n",
    "zonas_en_caja = clip_area_geodataframe(city_shp.to_crs('epsg:32719'), bbox)\n",
    "zonas_en_caja.plot()"
   ]
  },
  {
   "cell_type": "code",
   "execution_count": null,
   "id": "A-C-6EZE6lc3",
   "metadata": {
    "id": "A-C-6EZE6lc3"
   },
   "outputs": [],
   "source": [
    "bounds = zonas_en_caja.to_crs('EPSG:4686').total_bounds"
   ]
  },
  {
   "cell_type": "code",
   "execution_count": null,
   "id": "fdak9u_56rJi",
   "metadata": {
    "id": "fdak9u_56rJi"
   },
   "outputs": [],
   "source": [
    "import contextily as cx\n",
    "\n",
    "scl_img, scl_ext = cx.bounds2raster(bounds[0], bounds[1], bounds[2], bounds[3], \n",
    "    \"santiago_toner_12.tif\",\n",
    "    ll=True,\n",
    "    source=cx.providers.Stamen.TonerBackground,\n",
    "    zoom=12,\n",
    ")"
   ]
  },
  {
   "cell_type": "code",
   "execution_count": null,
   "id": "ru_9o_8t6why",
   "metadata": {
    "colab": {
     "base_uri": "https://localhost:8080/"
    },
    "executionInfo": {
     "elapsed": 6,
     "status": "ok",
     "timestamp": 1633394834934,
     "user": {
      "displayName": "Paula Vásquez H.",
      "photoUrl": "https://lh3.googleusercontent.com/a-/AOh14GgJUNawPfe0J41agMsUCwKAOgAzWX7zUOLCtayLFg=s64",
      "userId": "02019115936957150360"
     },
     "user_tz": 180
    },
    "id": "ru_9o_8t6why",
    "outputId": "930c85d7-f6f1-4f0c-b582-d70fb579f78a"
   },
   "outputs": [],
   "source": [
    "viajes_personas.columns"
   ]
  },
  {
   "cell_type": "code",
   "execution_count": null,
   "id": "ueVL5PQG7HY0",
   "metadata": {
    "colab": {
     "base_uri": "https://localhost:8080/"
    },
    "executionInfo": {
     "elapsed": 434,
     "status": "ok",
     "timestamp": 1633394930291,
     "user": {
      "displayName": "Paula Vásquez H.",
      "photoUrl": "https://lh3.googleusercontent.com/a-/AOh14GgJUNawPfe0J41agMsUCwKAOgAzWX7zUOLCtayLFg=s64",
      "userId": "02019115936957150360"
     },
     "user_tz": 180
    },
    "id": "ueVL5PQG7HY0",
    "outputId": "e2fee579-20a5-456e-de98-19e819a509e9"
   },
   "outputs": [],
   "source": [
    "viajes_personas.Proposito.unique()"
   ]
  },
  {
   "cell_type": "code",
   "execution_count": null,
   "id": "q0UaAtwk_itt",
   "metadata": {
    "id": "q0UaAtwk_itt"
   },
   "outputs": [],
   "source": [
    "def transform_motives(row):\n",
    "  if row['Proposito'] in ['Al trabajo', 'Por trabajo']:\n",
    "    return 'Trabajo'\n",
    "  elif row['Proposito']in ['Al estudio', 'Por estudio']:\n",
    "    return 'Estudios'\n",
    "  else:\n",
    "    return row['Proposito']"
   ]
  },
  {
   "cell_type": "code",
   "execution_count": null,
   "id": "La9Rmnwk_xrV",
   "metadata": {
    "id": "La9Rmnwk_xrV"
   },
   "outputs": [],
   "source": [
    "viajes_personas['proposito'] = viajes_personas.apply(lambda x: transform_motives(x), axis=1)"
   ]
  },
  {
   "cell_type": "code",
   "execution_count": null,
   "id": "IDtS0Q5E7Lsf",
   "metadata": {
    "colab": {
     "base_uri": "https://localhost:8080/"
    },
    "executionInfo": {
     "elapsed": 8,
     "status": "ok",
     "timestamp": 1635822477703,
     "user": {
      "displayName": "Paula Vásquez H.",
      "photoUrl": "https://lh3.googleusercontent.com/a-/AOh14GgJUNawPfe0J41agMsUCwKAOgAzWX7zUOLCtayLFg=s64",
      "userId": "02019115936957150360"
     },
     "user_tz": 180
    },
    "id": "IDtS0Q5E7Lsf",
    "outputId": "3a73ebd1-241b-43dc-87ef-8d70df85eed1"
   },
   "outputs": [],
   "source": [
    "viajes_personas.ModoAgregado.unique()"
   ]
  },
  {
   "cell_type": "code",
   "execution_count": null,
   "id": "DXdYuhqG6uF6",
   "metadata": {
    "id": "DXdYuhqG6uF6"
   },
   "outputs": [],
   "source": [
    "from aves.features.geo import to_point_geodataframe\n",
    "origenes_viajes = to_point_geodataframe(viajes_personas, 'OrigenCoordX' , 'OrigenCoordY', crs='epsg:32719')\n",
    "destinos_viajes = to_point_geodataframe(viajes_personas, 'DestinoCoordX', 'DestinoCoordY', crs='epsg:32719')"
   ]
  },
  {
   "cell_type": "code",
   "execution_count": null,
   "id": "W18E-etH68VS",
   "metadata": {
    "id": "W18E-etH68VS"
   },
   "outputs": [],
   "source": [
    "from aves.features.geo import clip_point_geodataframe\n",
    "\n",
    "origenes_viajes = origenes_viajes[(origenes_viajes['Viaje'].isin(destinos_viajes['Viaje']))]\n",
    "origenes_viajes = clip_point_geodataframe(origenes_viajes, zonas_en_caja.total_bounds)\n",
    "destinos_viajes = destinos_viajes[(destinos_viajes['Viaje'].isin(origenes_viajes['Viaje']))]\n",
    "destinos_viajes = clip_point_geodataframe(destinos_viajes, zonas_en_caja.total_bounds)"
   ]
  },
  {
   "cell_type": "code",
   "execution_count": null,
   "id": "iUp2vjb27CQU",
   "metadata": {
    "colab": {
     "base_uri": "https://localhost:8080/",
     "height": 470
    },
    "executionInfo": {
     "elapsed": 14236,
     "status": "ok",
     "timestamp": 1633396192290,
     "user": {
      "displayName": "Paula Vásquez H.",
      "photoUrl": "https://lh3.googleusercontent.com/a-/AOh14GgJUNawPfe0J41agMsUCwKAOgAzWX7zUOLCtayLFg=s64",
      "userId": "02019115936957150360"
     },
     "user_tz": 180
    },
    "id": "iUp2vjb27CQU",
    "outputId": "440028e4-ae19-4aae-8850-29568c197752"
   },
   "outputs": [],
   "source": [
    "from aves.visualization.figures import GeoFacetGrid\n",
    "\n",
    "from aves.visualization.maps import heat_map\n",
    "\n",
    "grid = GeoFacetGrid(\n",
    "    origenes_viajes,\n",
    "    context=zonas_en_caja,\n",
    "    row=\"proposito\",\n",
    "    col=\"ModoAgregado\",\n",
    "    row_order=[\"Trabajo\", \"Estudios\"],\n",
    "    col_order=['Bus TS', 'Bus TS - Metro', 'Auto', 'Caminata'],\n",
    "    height=6,\n",
    "    hue=\"ModoAgregado\"\n",
    ")\n",
    "grid.add_basemap(\"santiago_toner_12.tif\")\n",
    "#grid.add_layer(city_shp_filt, color=\"#efefef\", edgecolor=\"white\", linewidth=1)\n",
    "\n",
    "grid.add_layer(\n",
    "    heat_map,\n",
    "    # atributo de los datos con la importancia o peso de cada viaje\n",
    "    weight=\"PONDERADOR_CALIBRADO_VIAJES\",\n",
    "    # cantidad de niveles/colores del mapa de calor\n",
    "    n_levels=10,\n",
    "    # radio de influencia de cada viaje\n",
    "    bandwidth=1000,\n",
    "    # valor de corte para los valores bajos del heatmap\n",
    "    low_threshold=0.075,\n",
    "    # transparencia\n",
    "    alpha=0.75,\n",
    "    # paleta de colores\n",
    "    palette=\"inferno\"\n",
    ")\n",
    "\n",
    "grid.add_global_colorbar('inferno', 10, title='Intensidad de Viajes (de menos a más)', orientation='horizontal')\n",
    "#grid.set_title(\"Viajes a trabajar y a estudiar de acuerdo al modo de transporte\")\n",
    "grid.fig.tight_layout()"
   ]
  },
  {
   "cell_type": "code",
   "execution_count": null,
   "id": "Df5xqr4X7mfD",
   "metadata": {
    "colab": {
     "base_uri": "https://localhost:8080/",
     "height": 613
    },
    "executionInfo": {
     "elapsed": 9888,
     "status": "ok",
     "timestamp": 1633395370353,
     "user": {
      "displayName": "Paula Vásquez H.",
      "photoUrl": "https://lh3.googleusercontent.com/a-/AOh14GgJUNawPfe0J41agMsUCwKAOgAzWX7zUOLCtayLFg=s64",
      "userId": "02019115936957150360"
     },
     "user_tz": 180
    },
    "id": "Df5xqr4X7mfD",
    "outputId": "4bb7b900-1b1c-4ef9-964b-7e7e78845895"
   },
   "outputs": [],
   "source": [
    "grid = GeoFacetGrid(\n",
    "    destinos_viajes[destinos_viajes.proposito=='volver a casa'],\n",
    "    context=zonas_en_caja,\n",
    "    #row=\"MOTIVOVIAJE\",\n",
    "    col=\"ModoAgregado\",\n",
    "    col_wrap=3,\n",
    "    row_order=[\"volver a casa\"],\n",
    "    col_order=['Bus TS', 'Bus TS - Metro', 'Auto', 'Caminata'],\n",
    "    height=5,\n",
    "    hue=\"ModoAgregado\"\n",
    ")\n",
    "grid.add_basemap(\"santiago_toner_12.tif\")\n",
    "#grid.add_layer(city_shp_filt, color=\"#efefef\", edgecolor=\"white\", linewidth=1, alpha=0.5)\n",
    "\n",
    "grid.add_layer(\n",
    "    heat_map,\n",
    "    # atributo de los datos con la importancia o peso de cada viaje\n",
    "    weight=\"PONDERADOR_CALIBRADO_VIAJES\",\n",
    "    # cantidad de niveles/colores del mapa de calor\n",
    "    n_levels=10,\n",
    "    # radio de influencia de cada viaje\n",
    "    bandwidth=0.005,\n",
    "    # valor de corte para los valores bajos del heatmap\n",
    "    low_threshold=0.075,\n",
    "    # transparencia\n",
    "    alpha=0.75,\n",
    "    # paleta de colores\n",
    "    palette=\"inferno\"\n",
    ")\n",
    "grid.add_global_colorbar('inferno', 10, title='Intensidad de Viajes (de menos a más)', orientation='horizontal')\n",
    "grid.set_title(\"Viajes de vuelta a casa en Santiago\")\n",
    "grid.fig.tight_layout()"
   ]
  },
  {
   "cell_type": "markdown",
   "id": "sS4RvckU9Dn3",
   "metadata": {
    "id": "sS4RvckU9Dn3"
   },
   "source": [
    "#### ¿Cuán lejos queda el trabajo de acuerdo al lugar de residencia?"
   ]
  },
  {
   "cell_type": "markdown",
   "id": "dVEWkVNF9HFR",
   "metadata": {
    "id": "dVEWkVNF9HFR"
   },
   "source": [
    "Con esta pregunta queremos entender si existe un patrón geográfico en las elecciones de residencia y trabajo de las personas.\n",
    "\n",
    "Para responder la pregunta, primero filtramos los viajes que nos interesan:"
   ]
  },
  {
   "cell_type": "code",
   "execution_count": null,
   "id": "09JU13Ofnm2q",
   "metadata": {
    "id": "09JU13Ofnm2q"
   },
   "outputs": [],
   "source": [
    "viajes_todos = origenes_viajes[(pd.notnull(origenes_viajes.PONDERADOR_CALIBRADO_VIAJES)) &\n",
    "                                (origenes_viajes.DistManhattan > 0)].drop_duplicates(subset=['Persona'], keep='first')"
   ]
  },
  {
   "cell_type": "code",
   "execution_count": null,
   "id": "wHmxOm9rnlnZ",
   "metadata": {
    "id": "wHmxOm9rnlnZ"
   },
   "outputs": [],
   "source": [
    "viajes_habiles = origenes_viajes[(origenes_viajes.DIA_HABIL == 'Si') &\n",
    "                                (pd.notnull(origenes_viajes.PONDERADOR_CALIBRADO_VIAJES)) &\n",
    "                                (origenes_viajes.DistManhattan > 0)].drop_duplicates(subset=['Persona'], keep='first')"
   ]
  },
  {
   "cell_type": "code",
   "execution_count": null,
   "id": "sk-KRudb9Hq7",
   "metadata": {
    "colab": {
     "base_uri": "https://localhost:8080/"
    },
    "executionInfo": {
     "elapsed": 1847,
     "status": "ok",
     "timestamp": 1635822538355,
     "user": {
      "displayName": "Paula Vásquez H.",
      "photoUrl": "https://lh3.googleusercontent.com/a-/AOh14GgJUNawPfe0J41agMsUCwKAOgAzWX7zUOLCtayLFg=s64",
      "userId": "02019115936957150360"
     },
     "user_tz": 180
    },
    "id": "sk-KRudb9Hq7",
    "outputId": "159f1d9a-e677-451a-b44c-82b29b6e7ad3"
   },
   "outputs": [],
   "source": [
    "viajes_trabajo = origenes_viajes[(origenes_viajes.proposito == 'Trabajo') &\n",
    "                                (pd.notnull(origenes_viajes.PONDERADOR_CALIBRADO_VIAJES)) &\n",
    "                                (origenes_viajes.DistManhattan > 0)].drop_duplicates(subset=['Persona'], keep='first')\n",
    "                                \n",
    "print(len(viajes_trabajo), viajes_trabajo.PONDERADOR_CALIBRADO_VIAJES.sum())"
   ]
  },
  {
   "cell_type": "code",
   "execution_count": null,
   "id": "KNWQdOEH9TCJ",
   "metadata": {
    "id": "KNWQdOEH9TCJ"
   },
   "outputs": [],
   "source": [
    "distancia_zonas_mean = (viajes_trabajo\n",
    "                   .groupby(['ZonaOrigen'])\n",
    "                   .apply(lambda x: weighted_mean(x, 'DistManhattan', 'PONDERADOR_CALIBRADO_VIAJES'))\n",
    "                   .rename('media_distancia_al_trabajo')\n",
    ")"
   ]
  },
  {
   "cell_type": "code",
   "execution_count": null,
   "id": "1bHZB9aP9ik7",
   "metadata": {
    "colab": {
     "base_uri": "https://localhost:8080/",
     "height": 709
    },
    "executionInfo": {
     "elapsed": 4561,
     "status": "ok",
     "timestamp": 1633396355211,
     "user": {
      "displayName": "Paula Vásquez H.",
      "photoUrl": "https://lh3.googleusercontent.com/a-/AOh14GgJUNawPfe0J41agMsUCwKAOgAzWX7zUOLCtayLFg=s64",
      "userId": "02019115936957150360"
     },
     "user_tz": 180
    },
    "id": "1bHZB9aP9ik7",
    "outputId": "3041fc12-99fa-4101-9826-d7d1414a690b"
   },
   "outputs": [],
   "source": [
    "from aves.visualization.maps import choropleth_map\n",
    "grid = GeoFacetGrid(zonas_en_caja.set_index('Zona').join(distancia_zonas_mean, how=\"left\"), height=9)\n",
    "grid.add_basemap(\"santiago_toner_12.tif\")\n",
    "grid.add_layer(\n",
    "    choropleth_map,\n",
    "    \"media_distancia_al_trabajo\",\n",
    "    k=5,\n",
    "    linewidth=0.5,\n",
    "    edgecolor=\"black\",\n",
    "    binning=\"fisher_jenks\",\n",
    "    palette=\"RdPu\",\n",
    "    alpha=0.85,\n",
    "    cbar_args=dict(\n",
    "        label=\"Distancia (m)\",\n",
    "        height=\"22%\",\n",
    "        width=\"2%\",\n",
    "        orientation=\"vertical\",\n",
    "        location=\"center left\",\n",
    "        label_size=\"small\",\n",
    "        bbox_to_anchor=(0.0, 0.0, 0.9, 1.0),\n",
    "    ),\n",
    ")\n",
    "grid.add_map_elements()\n",
    "grid.set_title(\"Distancia al Trabajo Promedio de acuerdo a la Zona de Origen\")\n",
    "grid.tight_layout()"
   ]
  },
  {
   "cell_type": "code",
   "execution_count": null,
   "id": "5-3J94in-0Zr",
   "metadata": {
    "id": "5-3J94in-0Zr"
   },
   "outputs": [],
   "source": [
    "matriz_zonas = (viajes_trabajo[(viajes_trabajo['ZonaOrigen'] != viajes_trabajo['ZonaDestino'])\n",
    "                            \n",
    "                             & (viajes_trabajo['ZonaOrigen'].isin(zonas_en_caja.Zona))\n",
    "                             & (viajes_trabajo['ZonaDestino'].isin(zonas_en_caja.Zona))]\n",
    "                    .groupby(['ZonaOrigen', 'ZonaDestino'])\n",
    "                    .agg(n_viajes=('PONDERADOR_CALIBRADO_VIAJES', 'sum'))\n",
    "                    .sort_values('n_viajes', ascending=False)\n",
    "                    .assign(cumsum_viajes=lambda x: x['n_viajes'].cumsum())\n",
    "                    .assign(cumsum_viajes=lambda x: x['cumsum_viajes'] / x['cumsum_viajes'].max())\n",
    "                    .reset_index()\n",
    ")\n",
    "matriz_zonas.to_csv(data_path + 'matriz_zonas_trabajo_santiago2012.csv', index=False)"
   ]
  },
  {
   "cell_type": "code",
   "execution_count": null,
   "id": "H62-SY8vn6-p",
   "metadata": {
    "id": "H62-SY8vn6-p"
   },
   "outputs": [],
   "source": [
    "matriz_zonas = (viajes_todos[(viajes_todos['ZonaOrigen'] != viajes_todos['ZonaDestino'])\n",
    "                             & (viajes_todos['ZonaOrigen'].isin(zonas_en_caja.Zona))\n",
    "                             & (viajes_todos['ZonaDestino'].isin(zonas_en_caja.Zona))]\n",
    "                    .groupby(['ZonaOrigen', 'ZonaDestino'])\n",
    "                    .agg(n_viajes=('PONDERADOR_CALIBRADO_VIAJES', 'sum'))\n",
    "                    .sort_values('n_viajes', ascending=False)\n",
    "                    .assign(cumsum_viajes=lambda x: x['n_viajes'].cumsum())\n",
    "                    .assign(cumsum_viajes=lambda x: x['cumsum_viajes'] / x['cumsum_viajes'].max())\n",
    "                    .reset_index()\n",
    ")\n",
    "matriz_zonas.to_csv(data_path + 'matriz_zonas_todos_santiago2012.csv', index=False)"
   ]
  },
  {
   "cell_type": "code",
   "execution_count": null,
   "id": "ryOXO0ECoEei",
   "metadata": {
    "id": "ryOXO0ECoEei"
   },
   "outputs": [],
   "source": [
    "matriz_zonas = (viajes_habiles[(viajes_habiles['ZonaOrigen'] != viajes_habiles['ZonaDestino'])\n",
    "                             & (viajes_habiles['ZonaOrigen'].isin(zonas_en_caja.Zona))\n",
    "                             & (viajes_habiles['ZonaDestino'].isin(zonas_en_caja.Zona))]\n",
    "                    .groupby(['ZonaOrigen', 'ZonaDestino'])\n",
    "                    .agg(n_viajes=('PONDERADOR_CALIBRADO_VIAJES', 'sum'))\n",
    "                    .sort_values('n_viajes', ascending=False)\n",
    "                    .assign(cumsum_viajes=lambda x: x['n_viajes'].cumsum())\n",
    "                    .assign(cumsum_viajes=lambda x: x['cumsum_viajes'] / x['cumsum_viajes'].max())\n",
    "                    .reset_index()\n",
    ")\n",
    "matriz_zonas.to_csv(data_path + 'matriz_zonas_habiles_santiago2012.csv', index=False)"
   ]
  },
  {
   "cell_type": "code",
   "execution_count": null,
   "id": "iXormtlgA35r",
   "metadata": {
    "id": "iXormtlgA35r"
   },
   "outputs": [],
   "source": [
    "matriz_zonas = matriz_zonas[matriz_zonas['cumsum_viajes'] <= 0.8]"
   ]
  },
  {
   "cell_type": "code",
   "execution_count": null,
   "id": "asBYEwoTA7PG",
   "metadata": {
    "id": "asBYEwoTA7PG"
   },
   "outputs": [],
   "source": [
    "merged_zones = zonas_en_caja.dissolve('Zona')"
   ]
  },
  {
   "cell_type": "code",
   "execution_count": null,
   "id": "kzEn_BLdA8j1",
   "metadata": {
    "id": "kzEn_BLdA8j1"
   },
   "outputs": [],
   "source": [
    "from aves.models.network import Network\n",
    "from aves.visualization.networks import NodeLink\n",
    "\n",
    "zone_od_network = Network.from_edgelist(\n",
    "    matriz_zonas, source=\"ZonaOrigen\", target=\"ZonaDestino\", weight=\"n_viajes\"\n",
    ")"
   ]
  },
  {
   "cell_type": "code",
   "execution_count": null,
   "id": "2sncWbdeBBF3",
   "metadata": {
    "id": "2sncWbdeBBF3"
   },
   "outputs": [],
   "source": [
    "zone_nodelink = NodeLink(zone_od_network)\n",
    "zone_nodelink.layout_nodes(method=\"geographical\", geodataframe=merged_zones)\n",
    "zone_nodelink.set_node_drawing(\"plain\", weights=zone_od_network.node_degree(\"in\"))\n",
    "zone_nodelink.set_edge_drawing(method=\"origin-destination\")"
   ]
  },
  {
   "cell_type": "code",
   "execution_count": null,
   "id": "HYO8k_QQBCVj",
   "metadata": {
    "id": "HYO8k_QQBCVj"
   },
   "outputs": [],
   "source": [
    "def plot_network(ax, geo_data, *args, **kwargs):\n",
    "    zone_nodelink.plot(ax, *args, **kwargs)"
   ]
  },
  {
   "cell_type": "code",
   "execution_count": null,
   "id": "TU-EepXPBEXY",
   "metadata": {
    "colab": {
     "base_uri": "https://localhost:8080/"
    },
    "executionInfo": {
     "elapsed": 91733,
     "status": "ok",
     "timestamp": 1633396860468,
     "user": {
      "displayName": "Paula Vásquez H.",
      "photoUrl": "https://lh3.googleusercontent.com/a-/AOh14GgJUNawPfe0J41agMsUCwKAOgAzWX7zUOLCtayLFg=s64",
      "userId": "02019115936957150360"
     },
     "user_tz": 180
    },
    "id": "TU-EepXPBEXY",
    "outputId": "1787f49a-4c82-4422-d237-4d7d3cea57a8"
   },
   "outputs": [],
   "source": [
    "zone_nodelink.bundle_edges(\n",
    "    method=\"force-directed\", K=1, S=500, I=30, compatibility_threshold=0.65, C=6\n",
    ")"
   ]
  },
  {
   "cell_type": "code",
   "execution_count": null,
   "id": "UNiCbmnVBIKh",
   "metadata": {
    "colab": {
     "base_uri": "https://localhost:8080/",
     "height": 819
    },
    "executionInfo": {
     "elapsed": 9543,
     "status": "ok",
     "timestamp": 1633396870005,
     "user": {
      "displayName": "Paula Vásquez H.",
      "photoUrl": "https://lh3.googleusercontent.com/a-/AOh14GgJUNawPfe0J41agMsUCwKAOgAzWX7zUOLCtayLFg=s64",
      "userId": "02019115936957150360"
     },
     "user_tz": 180
    },
    "id": "UNiCbmnVBIKh",
    "outputId": "48f41161-eec6-486f-9dec-f9473088873c"
   },
   "outputs": [],
   "source": [
    "grid = GeoFacetGrid(zonas_en_caja, height=13)\n",
    "grid.add_basemap(\"santiago_toner_12.tif\")\n",
    "#grid.add_layer(city_shp_filt,facecolor='white', edgecolor='grey', alpha=0.25)\n",
    "grid.add_layer(\n",
    "    plot_network,\n",
    "    nodes=dict(color=\"white\", edgecolor=\"black\", node_size=100, alpha=0.95),\n",
    "    edges=dict(linewidth=0.5, alpha=0.55),\n",
    ")\n",
    "grid.set_title(\"Viajes al trabajo en Santiago\")"
   ]
  },
  {
   "cell_type": "markdown",
   "id": "1a279114",
   "metadata": {
    "id": "kAx6r-QPB5Im"
   },
   "source": [
    "## Coeficiente de Movilidad"
   ]
  },
  {
   "cell_type": "code",
   "execution_count": null,
   "id": "52c63d52",
   "metadata": {},
   "outputs": [],
   "source": [
    "viajes_personas['duracion_minutos'] = viajes_personas['TiempoViaje']"
   ]
  },
  {
   "cell_type": "code",
   "execution_count": null,
   "id": "670fb00c",
   "metadata": {},
   "outputs": [],
   "source": [
    "q1 = '''SELECT Persona, Sexo\n",
    ", PONDERADOR_CALIBRADO \n",
    ",  count(*) as n_viajes, AVG(duracion_minutos) as tiempo_total \n",
    "       FROM viajes_personas where duracion_minutos < 150 group by 1,2,3'''\n",
    "\n",
    "n_viajes = sqldf(q1, locals())"
   ]
  },
  {
   "cell_type": "code",
   "execution_count": null,
   "id": "51cff5a8",
   "metadata": {},
   "outputs": [],
   "source": [
    "eod.plot_lmplot(n_viajes)"
   ]
  },
  {
   "cell_type": "code",
   "execution_count": null,
   "id": "e9c4ec2f",
   "metadata": {},
   "outputs": [],
   "source": [
    "groups = eod.generate_groups(n_viajes)\n",
    "print(eod.calculate_indicators(groups,'PONDERADOR_CALIBRADO'))"
   ]
  },
  {
   "cell_type": "code",
   "execution_count": null,
   "id": "876a2b99",
   "metadata": {},
   "outputs": [],
   "source": [
    "eod.plot_lmplot(n_viajes, col=\"Sexo\", hue=\"Sexo\", col_wrap=2)"
   ]
  },
  {
   "cell_type": "code",
   "execution_count": null,
   "id": "1a4b65d3",
   "metadata": {},
   "outputs": [],
   "source": [
    "subgroups = n_viajes.Sexo.unique()\n",
    "for element in subgroups:\n",
    "    print(element)\n",
    "    groups = eod.generate_groups(n_viajes[n_viajes.Sexo==element])\n",
    "    print(eod.calculate_indicators(groups,'PONDERADOR_CALIBRADO'))"
   ]
  }
 ],
 "metadata": {
  "colab": {
   "collapsed_sections": [
    "8d65ab3c"
   ],
   "name": "Copia de AnalisisEOD_Chile_Santiago_2012_CalculoIndicadores_.ipynb",
   "provenance": []
  },
  "kernelspec": {
   "display_name": "Python 3 (ipykernel)",
   "language": "python",
   "name": "python3"
  },
  "language_info": {
   "codemirror_mode": {
    "name": "ipython",
    "version": 3
   },
   "file_extension": ".py",
   "mimetype": "text/x-python",
   "name": "python",
   "nbconvert_exporter": "python",
   "pygments_lexer": "ipython3",
   "version": "3.9.12"
  }
 },
 "nbformat": 4,
 "nbformat_minor": 5
}
