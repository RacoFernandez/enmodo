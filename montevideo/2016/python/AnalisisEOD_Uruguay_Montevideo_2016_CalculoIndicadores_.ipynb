{
 "cells": [
  {
   "cell_type": "markdown",
   "id": "b1e40f3d",
   "metadata": {
    "id": "b1e40f3d"
   },
   "source": [
    "# Análisis Encuesta Origen-Destino -  Limpieza de Datos & Cálculo de Indicadores"
   ]
  },
  {
   "cell_type": "markdown",
   "id": "56e7413d",
   "metadata": {
    "id": "56e7413d"
   },
   "source": [
    "## Uruguay - Montevideo - 2016"
   ]
  },
  {
   "cell_type": "markdown",
   "id": "4221de58",
   "metadata": {
    "id": "4221de58"
   },
   "source": [
    "#### Elaborado por Paula Vásquez-Henríquez, Ariel López, Genaro Cuadros, Exequiel Gaete, Alba Vásquez y Juan Correa"
   ]
  },
  {
   "cell_type": "markdown",
   "id": "5d85f302",
   "metadata": {},
   "source": [
    "## Google colab"
   ]
  },
  {
   "cell_type": "markdown",
   "id": "bd6b86a7",
   "metadata": {},
   "source": [
    "Para ejecutar este notebook en Colab, primero descomenten y ejecuten las siguientes 3 celdas. Luego de ejecutar la notebook se reiniciará."
   ]
  },
  {
   "cell_type": "code",
   "execution_count": null,
   "id": "9d8ec5f9",
   "metadata": {},
   "outputs": [],
   "source": [
    "'''\n",
    "!pip3 uninstall matplotlib -y\n",
    "!pip install -q condacolab\n",
    "import condacolab\n",
    "condacolab.install()\n",
    "'''"
   ]
  },
  {
   "cell_type": "code",
   "execution_count": null,
   "id": "a85a9bf7",
   "metadata": {},
   "outputs": [],
   "source": [
    "'''\n",
    "!git clone https://github.com/zorzalerrante/aves.git aves_git\n",
    "!mamba env update --name base --file aves_git/environment-colab.yml\n",
    "'''"
   ]
  },
  {
   "cell_type": "code",
   "execution_count": null,
   "id": "b0d9a8ab",
   "metadata": {
    "colab": {
     "base_uri": "https://localhost:8080/"
    },
    "executionInfo": {
     "elapsed": 23074,
     "status": "ok",
     "timestamp": 1635994904494,
     "user": {
      "displayName": "Paula Vásquez H.",
      "photoUrl": "https://lh3.googleusercontent.com/a-/AOh14GgJUNawPfe0J41agMsUCwKAOgAzWX7zUOLCtayLFg=s64",
      "userId": "02019115936957150360"
     },
     "user_tz": 180
    },
    "id": "u7WkwIpDNvaW",
    "outputId": "d110333c-af65-47c3-cf76-ed7b93a9c43a"
   },
   "outputs": [],
   "source": [
    "'''\n",
    "# Montando datos desde Google Drive\n",
    "from google.colab import drive\n",
    "drive.mount('/content/drive')\n",
    "'''"
   ]
  },
  {
   "cell_type": "markdown",
   "id": "b6d473a1",
   "metadata": {},
   "source": [
    "## Instalando e importando librerías"
   ]
  },
  {
   "cell_type": "code",
   "execution_count": null,
   "id": "e5738b41",
   "metadata": {},
   "outputs": [],
   "source": [
    "# Estas librerías se deben instalar sólo si se está ejecutando localmente\n",
    "!pip3 install matplotlib\n",
    "!pip3 install seaborn\n",
    "!pip3 install sklearn"
   ]
  },
  {
   "cell_type": "code",
   "execution_count": null,
   "id": "600f66c7",
   "metadata": {
    "colab": {
     "base_uri": "https://localhost:8080/"
    },
    "executionInfo": {
     "elapsed": 8751,
     "status": "ok",
     "timestamp": 1635994873745,
     "user": {
      "displayName": "Paula Vásquez H.",
      "photoUrl": "https://lh3.googleusercontent.com/a-/AOh14GgJUNawPfe0J41agMsUCwKAOgAzWX7zUOLCtayLFg=s64",
      "userId": "02019115936957150360"
     },
     "user_tz": 180
    },
    "id": "M9aoyAtnNW37",
    "outputId": "b58d8e02-60be-4c46-8fd0-3fc6ca0aa50b"
   },
   "outputs": [],
   "source": [
    "#Estas librerías se deben instalar tanto corriendolo localmente como en Google Colab\n",
    "!pip3 install geopandas\n",
    "!pip3 install haversine\n",
    "!pip3 install pandasql\n",
    "!pip3 install openpyxl"
   ]
  },
  {
   "cell_type": "code",
   "execution_count": null,
   "id": "78f60347",
   "metadata": {
    "id": "78f60347"
   },
   "outputs": [],
   "source": [
    "import pandas as pd\n",
    "import matplotlib.pyplot as plt\n",
    "import seaborn as sns\n",
    "import numpy as np\n",
    "import geopandas as gpd\n",
    "import warnings\n",
    "#import haversine as hs\n",
    "import shapely\n",
    "from sklearn.preprocessing import normalize\n",
    "import datetime"
   ]
  },
  {
   "cell_type": "code",
   "execution_count": null,
   "id": "bf51e8cc",
   "metadata": {},
   "outputs": [],
   "source": [
    "# Si se está en google colab, reemplazar por path de Drive\n",
    "data_path = 'C:/Users/Usuario/Documents/GitHub/enmodo/'"
   ]
  },
  {
   "cell_type": "code",
   "execution_count": null,
   "id": "df7d7655",
   "metadata": {},
   "outputs": [],
   "source": [
    "import sys\n",
    "\n",
    "# Si se está en google colab, reemplazar por path donde tiene la carpeta \"scripts\"\n",
    "sys.path.insert(1, data_path +'scripts')\n",
    "\n",
    "import eod_analysis as eod"
   ]
  },
  {
   "cell_type": "code",
   "execution_count": null,
   "id": "7cfb0a4b",
   "metadata": {
    "id": "7cfb0a4b"
   },
   "outputs": [],
   "source": [
    "def decode_column(df, fname, col_name, index_col='id', value_col=None, sep=';', encoding='utf-8'):\n",
    "    '''\n",
    "    param :df: DataFrame del que leeremos una columna.\n",
    "    param :fname: nombre del archivo que contiene los valores a decodificar.\n",
    "    param :col_name: nombre de la columna que queremos decodificar.\n",
    "    param :index_col: nombre de la columna en el archivo @fname que tiene los índices que codifican @col_name\n",
    "    param :value_col: nombre de la columna en el archivo @fname que tiene los valores decodificados\n",
    "    param :sep: carácter que separa los valores en @fname. \n",
    "    param :encoding: identificación del _character set_ que utiliza el archivo. Usualmente es utf-8, si no funciona,\n",
    "                     se puede probar con iso-8859-1.\n",
    "    '''\n",
    "    if value_col is None:\n",
    "        value_col = 'value'\n",
    "        \n",
    "    values_df = pd.read_csv(fname, sep=sep, index_col=index_col, names=[index_col, value_col], header=0,\n",
    "                            dtype={index_col: np.float64}, encoding=encoding)\n",
    "    \n",
    "    src_df = df.loc[:,(col_name,)]\n",
    "    \n",
    "    return src_df.join(values_df, on=col_name)[value_col]"
   ]
  },
  {
   "cell_type": "code",
   "execution_count": null,
   "id": "0510fbb1",
   "metadata": {
    "id": "0510fbb1"
   },
   "outputs": [],
   "source": [
    "def convert_datatype(df, lista_columnas):\n",
    "    for column in lista_columnas:\n",
    "        df[column] = df[column].str.replace(\",\", \".\").astype(float)\n",
    "    return df"
   ]
  },
  {
   "cell_type": "code",
   "execution_count": null,
   "id": "0018ee50",
   "metadata": {
    "id": "0018ee50"
   },
   "outputs": [],
   "source": [
    "def imputar_coordenadas_centroide_zat(df, latitud, longitud, zat, zat_shp):\n",
    "    mask = df[latitud].isnull() | df[longitud].isnull()\n",
    "    ids_latitud_vacia = df[mask].index\n",
    "    working_df = pd.merge(df, city_shp[[zat_shp, 'x_coord', 'y_coord']], left_on=zat, right_on=zat_shp, how='left')\n",
    "    df.loc[ids_latitud_vacia, latitud] = working_df.loc[ids_latitud_vacia, 'y_coord']\n",
    "    df.loc[ids_latitud_vacia, longitud] = working_df.loc[ids_latitud_vacia, 'x_coord']\n",
    "    return df"
   ]
  },
  {
   "cell_type": "code",
   "execution_count": null,
   "id": "41f2386e",
   "metadata": {
    "id": "41f2386e"
   },
   "outputs": [],
   "source": [
    "def mapear_binarias(row, column):\n",
    "    if row[column] == 'N':\n",
    "        return 'No'\n",
    "    elif row[column] == 'S':\n",
    "        return 'Si'\n",
    "    else:\n",
    "        return 'Sin dato'"
   ]
  },
  {
   "cell_type": "code",
   "execution_count": null,
   "id": "f7c148fb",
   "metadata": {
    "id": "f7c148fb"
   },
   "outputs": [],
   "source": [
    "def mapear_vacios(row, column):\n",
    "    if pd.isna(row[column])==True:\n",
    "        return 'Sin información'\n",
    "    else:\n",
    "        return row[column]"
   ]
  },
  {
   "cell_type": "code",
   "execution_count": null,
   "id": "Wg3eesOTUp5F",
   "metadata": {
    "id": "Wg3eesOTUp5F"
   },
   "outputs": [],
   "source": [
    "def age_cohorts(row, age_column):\n",
    "    if row[age_column] < 18:\n",
    "        return '<18'\n",
    "    elif row[age_column] <=29 and row[age_column] > 18:\n",
    "        return '18-29'\n",
    "    elif row[age_column] <=60 and row[age_column] > 29:\n",
    "        return '30-60'\n",
    "    elif row[age_column] > 60 and row[age_column] < 100:\n",
    "        return '>60'\n",
    "    else:\n",
    "        return 'No declarado'"
   ]
  },
  {
   "cell_type": "code",
   "execution_count": null,
   "id": "v1-YHuV0UsLV",
   "metadata": {
    "id": "v1-YHuV0UsLV"
   },
   "outputs": [],
   "source": [
    "def normalize_rows(df):\n",
    "    return df.pipe(lambda x: pd.DataFrame(normalize(df, axis=1, norm='l1'), columns=df.columns, index=df.index))"
   ]
  },
  {
   "cell_type": "markdown",
   "id": "gZOUcjdNKGdD",
   "metadata": {
    "id": "gZOUcjdNKGdD"
   },
   "source": [
    "### Caracterización de los datos\n",
    "\n",
    "Los datos utilizados en este cuaderno corresponden a los resultados de la Encuesta Origen-Destino de Montevideo, Uruguay del 2016. \n",
    "A partir de estos datos se calcularan indicadores en tres niveles: de Cantidad de Viajes, de Tiempo de Viajes, y de Distancia de Viajes."
   ]
  },
  {
   "cell_type": "markdown",
   "id": "db8caef6",
   "metadata": {
    "id": "db8caef6"
   },
   "source": [
    "### Importando datos"
   ]
  },
  {
   "cell_type": "markdown",
   "id": "CdtA3y43Oy5b",
   "metadata": {
    "id": "CdtA3y43Oy5b"
   },
   "source": [
    "En esta sección, importamos todos los datos necesarios para el cálculo de indicadores. \n",
    "Para el caso de Bogotá 2015, los archivos son de Excel y es necesario hacer una transformación de los datos numéricos.\n",
    "\n",
    "Cabe destacar que para esta EOD tenemos data a nivel de:\n",
    "- Viajes\n",
    "- Etapas\n",
    "- Personas\n",
    "- Hogares\n"
   ]
  },
  {
   "cell_type": "code",
   "execution_count": null,
   "id": "56fe174d",
   "metadata": {
    "id": "56fe174d"
   },
   "outputs": [],
   "source": [
    "# Matriz de viajes\n",
    "#data_viajes = pd.read_csv(data_path + 'montevideo/2016/source-csv/Base Viajes.csv', sep=';', encoding='utf-8')\n",
    "data_viajes = pd.read_csv('https://github.com/RacoFernandez/enmodo/blob/main/montevideo/2016/source-csv/Base%20Viajes.csv?raw=true', sep=';', encoding='utf-8')\n",
    "data_viajes[[\"codsegorigen\", \"codsegproposito\"]] = data_viajes[[\"codsegorigen\", \"codsegproposito\"]].fillna(value=0)\n",
    "data_viajes = convert_datatype(data_viajes, [\"wcal0\", \"VF5\"])"
   ]
  },
  {
   "cell_type": "code",
   "execution_count": null,
   "id": "8f1b5631",
   "metadata": {
    "id": "8f1b5631"
   },
   "outputs": [],
   "source": [
    "# Matriz de personas\n",
    "#data_personas = pd.read_csv(data_path + 'montevideo/2016/source-csv/Base Personas.csv', sep=';', encoding='utf-8')\n",
    "data_personas = pd.read_csv('https://github.com/RacoFernandez/enmodo/blob/main/montevideo/2016/source-csv/Base%20Personas.csv?raw=true', sep=';', encoding='utf-8')\n",
    "data_personas.head(2)\n",
    "data_personas = convert_datatype(data_personas, ['wcal0'])"
   ]
  },
  {
   "cell_type": "code",
   "execution_count": null,
   "id": "be97dc87",
   "metadata": {
    "id": "be97dc87"
   },
   "outputs": [],
   "source": [
    "# Matriz de hogares\n",
    "#data_encuestas = pd.read_csv(data_path + 'montevideo/2016/source-csv/Base Hogar Habitos.csv', sep=';', encoding='utf-8')\n",
    "data_encuestas = pd.read_csv('https://github.com/RacoFernandez/enmodo/blob/main/montevideo/2016/source-csv/Base%20Hogar%20Habitos.csv?raw=true', sep=';', encoding='utf-8')\n",
    "data_encuestas.head(2)\n",
    "data_encuestas = convert_datatype(data_encuestas, ['wcal0'])"
   ]
  },
  {
   "cell_type": "code",
   "execution_count": null,
   "id": "3cfbf52d",
   "metadata": {
    "id": "3cfbf52d"
   },
   "outputs": [],
   "source": [
    "# Shapefile de la ciudad\n",
    "#city_shp = gpd.read_file(data_path + \"montevideo/2016/source-shp/ine_seg_11.shp\")\n",
    "city_shp = gpd.read_file(\"/vsicurl/https://github.com/RacoFernandez/enmodo/raw/main/montevideo/2016/source-shp/ine_seg_11.shp\")"
   ]
  },
  {
   "cell_type": "code",
   "execution_count": null,
   "id": "WGOnlBPiG0mB",
   "metadata": {
    "id": "WGOnlBPiG0mB",
    "scrolled": true
   },
   "outputs": [],
   "source": [
    "city_shp = city_shp.set_crs('epsg:32721').to_crs('epsg:32721')"
   ]
  },
  {
   "cell_type": "code",
   "execution_count": null,
   "id": "29b7aa37",
   "metadata": {
    "id": "29b7aa37"
   },
   "outputs": [],
   "source": [
    "city_shp['x_coord'] = city_shp.centroid.x\n",
    "city_shp['y_coord'] = city_shp.centroid.y"
   ]
  },
  {
   "cell_type": "code",
   "execution_count": null,
   "id": "mcik-vJAJdQd",
   "metadata": {
    "colab": {
     "base_uri": "https://localhost:8080/"
    },
    "executionInfo": {
     "elapsed": 17,
     "status": "ok",
     "timestamp": 1635517786501,
     "user": {
      "displayName": "Paula Vásquez H.",
      "photoUrl": "https://lh3.googleusercontent.com/a-/AOh14GgJUNawPfe0J41agMsUCwKAOgAzWX7zUOLCtayLFg=s64",
      "userId": "02019115936957150360"
     },
     "user_tz": 180
    },
    "id": "mcik-vJAJdQd",
    "outputId": "e60ccd04-97bf-42f9-c08d-d6b723da7dcc"
   },
   "outputs": [],
   "source": [
    "city_shp.crs"
   ]
  },
  {
   "cell_type": "markdown",
   "id": "8d65ab3c",
   "metadata": {
    "id": "8d65ab3c"
   },
   "source": [
    "### Preparación de los datos"
   ]
  },
  {
   "cell_type": "markdown",
   "id": "5891e875",
   "metadata": {
    "id": "5891e875"
   },
   "source": [
    "#### Viajes"
   ]
  },
  {
   "cell_type": "markdown",
   "id": "nKp83KN1Pf7s",
   "metadata": {
    "id": "nKp83KN1Pf7s"
   },
   "source": [
    "En esta etapa nos enfocaremos en preparar los datos con respecto a viajes.\n",
    "En particular, nos enfocamos en limpiar y estandarizar los datos para las columnas que son relevantes para el cálculo de indicadores."
   ]
  },
  {
   "cell_type": "code",
   "execution_count": null,
   "id": "65b220d2",
   "metadata": {
    "colab": {
     "base_uri": "https://localhost:8080/"
    },
    "executionInfo": {
     "elapsed": 644,
     "status": "ok",
     "timestamp": 1635517787138,
     "user": {
      "displayName": "Paula Vásquez H.",
      "photoUrl": "https://lh3.googleusercontent.com/a-/AOh14GgJUNawPfe0J41agMsUCwKAOgAzWX7zUOLCtayLFg=s64",
      "userId": "02019115936957150360"
     },
     "user_tz": 180
    },
    "id": "65b220d2",
    "outputId": "c30173eb-1f3d-4d27-9067-5392027a17a8"
   },
   "outputs": [],
   "source": [
    "#data_viajes.proposito = decode_column(data_viajes, data_path + 'montevideo/2016/data-dictionaries/propositos.csv', 'proposito')\n",
    "data_viajes.proposito = decode_column(data_viajes, 'https://github.com/RacoFernandez/enmodo/blob/main/montevideo/2016/data-dictionaries/propositos.csv?raw=true', 'proposito')\n",
    "data_viajes.proposito.unique()"
   ]
  },
  {
   "cell_type": "code",
   "execution_count": null,
   "id": "4c948c5b",
   "metadata": {
    "colab": {
     "base_uri": "https://localhost:8080/"
    },
    "executionInfo": {
     "elapsed": 10,
     "status": "ok",
     "timestamp": 1635517787139,
     "user": {
      "displayName": "Paula Vásquez H.",
      "photoUrl": "https://lh3.googleusercontent.com/a-/AOh14GgJUNawPfe0J41agMsUCwKAOgAzWX7zUOLCtayLFg=s64",
      "userId": "02019115936957150360"
     },
     "user_tz": 180
    },
    "id": "4c948c5b",
    "outputId": "ef2191f5-8c7a-47fd-ef40-3c58045344a0",
    "scrolled": true
   },
   "outputs": [],
   "source": [
    "#data_viajes.modoprincipal = decode_column(data_viajes, data_path + 'montevideo/2016/data-dictionaries/modo.csv', 'modoprincipal')\n",
    "data_viajes.modoprincipal = decode_column(data_viajes, 'https://github.com/RacoFernandez/enmodo/blob/main/montevideo/2016/data-dictionaries/modo.csv?raw=true', 'modoprincipal')\n",
    "data_viajes.modoprincipal.unique()"
   ]
  },
  {
   "cell_type": "code",
   "execution_count": null,
   "id": "10ac7797",
   "metadata": {
    "id": "10ac7797"
   },
   "outputs": [],
   "source": [
    "publico_viaje = ['Bus','Remise','Ferrocarril']\n",
    "privado_viaje = [ 'A pie', 'Auto conductor', 'A pie hasta 10 cuadras',\n",
    "       'Auto pasajero', 'Bicicleta', 'Bus escolar', 'Moto pasajero',\n",
    "       'Moto conductor', 'Taxi',\n",
    "       'Bus de la empresa', 'Otro Uber']\n",
    "peaton_viaje = ['A pie', 'Bicicleta', 'A pie hasta 10 cuadras']\n",
    "motorizado_viaje = ['Bus','Remise','Auto conductor','Auto pasajero', 'Bus escolar', 'Moto pasajero',\n",
    "       'Moto conductor' 'Taxi',\n",
    "       'Bus de la empresa', 'Otro Uber']"
   ]
  },
  {
   "cell_type": "code",
   "execution_count": null,
   "id": "2baaf069",
   "metadata": {
    "id": "2baaf069"
   },
   "outputs": [],
   "source": [
    "selected_columns = ['nform', 'nnper', 'nvj', 'IDPERV', 'origen', 'proposito', 'VF5', 'VF6',\n",
    "       'tiempoviaje', 'modoprincipal','codsegorigen', 'codsegproposito',\n",
    "       'wcal0']\n",
    "viajes_df = data_viajes[selected_columns]"
   ]
  },
  {
   "cell_type": "code",
   "execution_count": null,
   "id": "e681bd67",
   "metadata": {
    "colab": {
     "base_uri": "https://localhost:8080/"
    },
    "executionInfo": {
     "elapsed": 540,
     "status": "ok",
     "timestamp": 1635517789078,
     "user": {
      "displayName": "Paula Vásquez H.",
      "photoUrl": "https://lh3.googleusercontent.com/a-/AOh14GgJUNawPfe0J41agMsUCwKAOgAzWX7zUOLCtayLFg=s64",
      "userId": "02019115936957150360"
     },
     "user_tz": 180
    },
    "id": "e681bd67",
    "outputId": "87fd5874-49f5-4571-919c-ca2131ef842e"
   },
   "outputs": [],
   "source": [
    "viajes_df['LATITUD_ORIGEN'] = None\n",
    "viajes_df['LONGITUD_ORIGEN'] = None\n",
    "viajes_df['LATITUD_DESTINO'] = None\n",
    "viajes_df['LONGITUD_DESTINO'] = None"
   ]
  },
  {
   "cell_type": "code",
   "execution_count": null,
   "id": "1a8c471f",
   "metadata": {
    "colab": {
     "base_uri": "https://localhost:8080/"
    },
    "executionInfo": {
     "elapsed": 3,
     "status": "ok",
     "timestamp": 1635517789729,
     "user": {
      "displayName": "Paula Vásquez H.",
      "photoUrl": "https://lh3.googleusercontent.com/a-/AOh14GgJUNawPfe0J41agMsUCwKAOgAzWX7zUOLCtayLFg=s64",
      "userId": "02019115936957150360"
     },
     "user_tz": 180
    },
    "id": "1a8c471f",
    "outputId": "643edf17-d6a9-4a20-cb1e-d06a80fe7c44"
   },
   "outputs": [],
   "source": [
    "viajes_df = imputar_coordenadas_centroide_zat(viajes_df, 'LATITUD_ORIGEN', 'LONGITUD_ORIGEN', 'codsegorigen', 'CODSEG')\n",
    "viajes_df = imputar_coordenadas_centroide_zat(viajes_df, 'LATITUD_DESTINO', 'LONGITUD_DESTINO','codsegproposito', 'CODSEG')"
   ]
  },
  {
   "cell_type": "code",
   "execution_count": null,
   "id": "5e3b050d",
   "metadata": {
    "colab": {
     "base_uri": "https://localhost:8080/"
    },
    "executionInfo": {
     "elapsed": 4,
     "status": "ok",
     "timestamp": 1635517790175,
     "user": {
      "displayName": "Paula Vásquez H.",
      "photoUrl": "https://lh3.googleusercontent.com/a-/AOh14GgJUNawPfe0J41agMsUCwKAOgAzWX7zUOLCtayLFg=s64",
      "userId": "02019115936957150360"
     },
     "user_tz": 180
    },
    "id": "5e3b050d",
    "outputId": "df03a32a-3495-44ac-c1d6-cb5b79369be7"
   },
   "outputs": [],
   "source": [
    "viajes_df.shape"
   ]
  },
  {
   "cell_type": "code",
   "execution_count": null,
   "id": "91d848b5",
   "metadata": {
    "colab": {
     "base_uri": "https://localhost:8080/"
    },
    "executionInfo": {
     "elapsed": 4,
     "status": "ok",
     "timestamp": 1635517790561,
     "user": {
      "displayName": "Paula Vásquez H.",
      "photoUrl": "https://lh3.googleusercontent.com/a-/AOh14GgJUNawPfe0J41agMsUCwKAOgAzWX7zUOLCtayLFg=s64",
      "userId": "02019115936957150360"
     },
     "user_tz": 180
    },
    "id": "91d848b5",
    "outputId": "c915495e-bc16-4500-ae0f-d026641786f4"
   },
   "outputs": [],
   "source": [
    "print('Contando valores nulos por atributo')\n",
    "for column in viajes_df.columns:\n",
    "    print('{}: {}'.format(column, viajes_df[column].isna().sum()))"
   ]
  },
  {
   "cell_type": "code",
   "execution_count": null,
   "id": "5be843ce",
   "metadata": {
    "id": "5be843ce"
   },
   "outputs": [],
   "source": [
    "mask = viajes_df.LATITUD_ORIGEN.isna() | viajes_df.LATITUD_DESTINO.isna()\n",
    "viajes_df = viajes_df[~mask]"
   ]
  },
  {
   "cell_type": "code",
   "execution_count": null,
   "id": "91f1298d",
   "metadata": {
    "id": "91f1298d"
   },
   "outputs": [],
   "source": [
    "# Limpiando datos de variables binarias"
   ]
  },
  {
   "cell_type": "code",
   "execution_count": null,
   "id": "106541a2",
   "metadata": {
    "id": "106541a2"
   },
   "outputs": [],
   "source": [
    "def pico_habil(row):\n",
    "    if row['VF5'] >= 7.0 and row['VF5'] <= 9.0:\n",
    "        return'Si'\n",
    "    else:\n",
    "        return 'No'\n",
    "    \n",
    "viajes_df['PICO_HABIL'] = viajes_df.apply(lambda row: pico_habil(row), axis=1)"
   ]
  },
  {
   "cell_type": "code",
   "execution_count": null,
   "id": "739c9353",
   "metadata": {
    "id": "739c9353"
   },
   "outputs": [],
   "source": [
    "viajes_df['Intra_Inter'] = viajes_df.apply(lambda row: 'Intra' if row['codsegorigen'] == row['codsegproposito'] else 'Inter', axis=1)"
   ]
  },
  {
   "cell_type": "code",
   "execution_count": null,
   "id": "19b4b564",
   "metadata": {
    "id": "19b4b564"
   },
   "outputs": [],
   "source": [
    "# Clasificando los viajes como públicos o privados según medio\n",
    "def publico_privado(row, column, publico, privado):\n",
    "    if row[column] in (publico):\n",
    "        return 'Público'\n",
    "    elif row[column] in (privado):\n",
    "        return 'Privado'\n",
    "    else:\n",
    "        return 'Otro'\n",
    "    \n",
    "viajes_df['publico_privado'] = viajes_df.apply(lambda row: publico_privado(row, 'modoprincipal', publico_viaje, privado_viaje), axis=1)"
   ]
  },
  {
   "cell_type": "code",
   "execution_count": null,
   "id": "GL8BhyylLm5q",
   "metadata": {
    "id": "GL8BhyylLm5q"
   },
   "outputs": [],
   "source": [
    "def motorizado(row, column, no_motorizado, motorizado):\n",
    "    if row[column] in (motorizado):\n",
    "        return 'Motorizado'\n",
    "    elif row[column] in (no_motorizado):\n",
    "        return 'No Motorizado'\n",
    "    else:\n",
    "        return 'Otro'\n",
    "    \n",
    "viajes_df['motorizado'] = viajes_df.apply(lambda row: motorizado(row, 'modoprincipal', peaton_viaje,motorizado_viaje), axis=1)"
   ]
  },
  {
   "cell_type": "code",
   "execution_count": null,
   "id": "198cfd34",
   "metadata": {
    "id": "198cfd34"
   },
   "outputs": [],
   "source": [
    "viajes_df['duracion'] = (viajes_df['tiempoviaje'])"
   ]
  },
  {
   "cell_type": "code",
   "execution_count": null,
   "id": "ce4b2e25",
   "metadata": {
    "id": "ce4b2e25"
   },
   "outputs": [],
   "source": [
    "def manhattan_distance(a, b):\n",
    "    return np.abs(a - b).sum()"
   ]
  },
  {
   "cell_type": "code",
   "execution_count": null,
   "id": "09b17b31",
   "metadata": {
    "id": "09b17b31"
   },
   "outputs": [],
   "source": [
    "viajes_df['distancia_manhattan'] = viajes_df.apply(lambda row: manhattan_distance(np.array([row['LATITUD_ORIGEN'], row['LONGITUD_ORIGEN']]), np.array([row['LATITUD_DESTINO'], row['LONGITUD_DESTINO']])), axis=1)"
   ]
  },
  {
   "cell_type": "code",
   "execution_count": null,
   "id": "392a2c14",
   "metadata": {
    "colab": {
     "base_uri": "https://localhost:8080/"
    },
    "executionInfo": {
     "elapsed": 388,
     "status": "ok",
     "timestamp": 1635517798014,
     "user": {
      "displayName": "Paula Vásquez H.",
      "photoUrl": "https://lh3.googleusercontent.com/a-/AOh14GgJUNawPfe0J41agMsUCwKAOgAzWX7zUOLCtayLFg=s64",
      "userId": "02019115936957150360"
     },
     "user_tz": 180
    },
    "id": "392a2c14",
    "outputId": "7c3d5297-2f25-4fad-ddeb-c3cac93437c9"
   },
   "outputs": [],
   "source": [
    "print('Contando valores nulos por atributo')\n",
    "for column in viajes_df.columns:\n",
    "    print('{}: {}'.format(column, viajes_df[column].isna().sum()))"
   ]
  },
  {
   "cell_type": "code",
   "execution_count": null,
   "id": "lROX8UWogbZq",
   "metadata": {
    "id": "lROX8UWogbZq"
   },
   "outputs": [],
   "source": [
    "viajes_df['idviaje'] = viajes_df['nform'].astype('str')+viajes_df['nnper'].astype('str') + viajes_df['nvj'].astype('str')"
   ]
  },
  {
   "cell_type": "code",
   "execution_count": null,
   "id": "748e621e",
   "metadata": {
    "colab": {
     "base_uri": "https://localhost:8080/"
    },
    "executionInfo": {
     "elapsed": 292,
     "status": "ok",
     "timestamp": 1635517805157,
     "user": {
      "displayName": "Paula Vásquez H.",
      "photoUrl": "https://lh3.googleusercontent.com/a-/AOh14GgJUNawPfe0J41agMsUCwKAOgAzWX7zUOLCtayLFg=s64",
      "userId": "02019115936957150360"
     },
     "user_tz": 180
    },
    "id": "748e621e",
    "outputId": "6eaf209e-1c48-407c-9a40-30f608e287c9"
   },
   "outputs": [],
   "source": [
    "viajes_df.shape"
   ]
  },
  {
   "cell_type": "markdown",
   "id": "da9bdcfb",
   "metadata": {
    "id": "da9bdcfb"
   },
   "source": [
    "#### Personas y Hogares"
   ]
  },
  {
   "cell_type": "markdown",
   "id": "AXrUPDxoQ8yM",
   "metadata": {
    "id": "AXrUPDxoQ8yM"
   },
   "source": [
    "En esta etapa nos enfocaremos en preparar los datos con respecto a personas.\n",
    "En particular, nos enfocamos en limpiar y estandarizar los datos para las columnas que son relevantes para el cálculo de indicadores.\n"
   ]
  },
  {
   "cell_type": "code",
   "execution_count": null,
   "id": "3bNCXxETT_8Z",
   "metadata": {
    "colab": {
     "base_uri": "https://localhost:8080/"
    },
    "executionInfo": {
     "elapsed": 442,
     "status": "ok",
     "timestamp": 1635518026923,
     "user": {
      "displayName": "Paula Vásquez H.",
      "photoUrl": "https://lh3.googleusercontent.com/a-/AOh14GgJUNawPfe0J41agMsUCwKAOgAzWX7zUOLCtayLFg=s64",
      "userId": "02019115936957150360"
     },
     "user_tz": 180
    },
    "id": "3bNCXxETT_8Z",
    "outputId": "4a6a3ee4-e2fd-4930-a6c0-3db85507e975"
   },
   "outputs": [],
   "source": [
    "data_personas.columns"
   ]
  },
  {
   "cell_type": "code",
   "execution_count": null,
   "id": "47b51113",
   "metadata": {
    "id": "47b51113"
   },
   "outputs": [],
   "source": [
    "selected_columns = ['nform', 'nnper', 'IDPER', 'SEXO','INSE',\n",
    "       'INSE_RecF', 'wcal0','E10', 'EDAD']\n",
    "personas_df = data_personas[selected_columns]"
   ]
  },
  {
   "cell_type": "code",
   "execution_count": null,
   "id": "LKo2aSs1XR4h",
   "metadata": {
    "colab": {
     "base_uri": "https://localhost:8080/"
    },
    "executionInfo": {
     "elapsed": 99,
     "status": "ok",
     "timestamp": 1635518027518,
     "user": {
      "displayName": "Paula Vásquez H.",
      "photoUrl": "https://lh3.googleusercontent.com/a-/AOh14GgJUNawPfe0J41agMsUCwKAOgAzWX7zUOLCtayLFg=s64",
      "userId": "02019115936957150360"
     },
     "user_tz": 180
    },
    "id": "LKo2aSs1XR4h",
    "outputId": "6e39d7b1-c6f6-4130-d598-9f998887b934"
   },
   "outputs": [],
   "source": [
    "personas_df.INSE_RecF = personas_df.INSE_RecF.replace(' ', 'Sin dato')"
   ]
  },
  {
   "cell_type": "code",
   "execution_count": null,
   "id": "24713ab7",
   "metadata": {
    "colab": {
     "base_uri": "https://localhost:8080/"
    },
    "executionInfo": {
     "elapsed": 6,
     "status": "ok",
     "timestamp": 1635518027806,
     "user": {
      "displayName": "Paula Vásquez H.",
      "photoUrl": "https://lh3.googleusercontent.com/a-/AOh14GgJUNawPfe0J41agMsUCwKAOgAzWX7zUOLCtayLFg=s64",
      "userId": "02019115936957150360"
     },
     "user_tz": 180
    },
    "id": "24713ab7",
    "outputId": "65d457fb-a618-418b-b335-93ec916c09e6"
   },
   "outputs": [],
   "source": [
    "personas_df.columns"
   ]
  },
  {
   "cell_type": "code",
   "execution_count": null,
   "id": "7b3a1aa9",
   "metadata": {
    "colab": {
     "base_uri": "https://localhost:8080/"
    },
    "executionInfo": {
     "elapsed": 13,
     "status": "ok",
     "timestamp": 1635518028585,
     "user": {
      "displayName": "Paula Vásquez H.",
      "photoUrl": "https://lh3.googleusercontent.com/a-/AOh14GgJUNawPfe0J41agMsUCwKAOgAzWX7zUOLCtayLFg=s64",
      "userId": "02019115936957150360"
     },
     "user_tz": 180
    },
    "id": "7b3a1aa9",
    "outputId": "34b8c66a-f22b-4f86-f944-f75e0435cb79"
   },
   "outputs": [],
   "source": [
    "#personas_df['SEXO'] = decode_column(personas_df, data_path + 'montevideo/2016/data-dictionaries/gender.csv', 'SEXO')\n",
    "personas_df['SEXO'] = decode_column(personas_df, 'https://github.com/RacoFernandez/enmodo/blob/main/montevideo/2016/data-dictionaries/gender.csv?raw=true', 'SEXO')"
   ]
  },
  {
   "cell_type": "code",
   "execution_count": null,
   "id": "gM8JvdfOMYxR",
   "metadata": {
    "id": "gM8JvdfOMYxR"
   },
   "outputs": [],
   "source": [
    "#segmentos = gpd.read_file(data_path + \"montevideo/2016/source-shp/ine_seg_11.shp\")\n",
    "segmentos = gpd.read_file(\"/vsicurl/https://github.com/RacoFernandez/enmodo/raw/main/montevideo/2016/source-shp/ine_seg_11.shp\")"
   ]
  },
  {
   "cell_type": "code",
   "execution_count": null,
   "id": "jAaDulf7OGqx",
   "metadata": {
    "id": "jAaDulf7OGqx"
   },
   "outputs": [],
   "source": [
    "selected_columns = ['nform', 'codseghogar']\n",
    "encuestas_df = data_encuestas[selected_columns]"
   ]
  },
  {
   "cell_type": "code",
   "execution_count": null,
   "id": "YCdMK_2nOq0X",
   "metadata": {
    "id": "YCdMK_2nOq0X"
   },
   "outputs": [],
   "source": [
    "encuestas_df = pd.merge(encuestas_df, segmentos[['CODSEG', 'CODLOC', 'NOMBLOC']], left_on='codseghogar', right_on='CODSEG', how='left')"
   ]
  },
  {
   "cell_type": "code",
   "execution_count": null,
   "id": "zQbYNvvlONW6",
   "metadata": {
    "id": "zQbYNvvlONW6"
   },
   "outputs": [],
   "source": [
    "personas_df = pd.merge(personas_df, encuestas_df, on='nform', how='left')"
   ]
  },
  {
   "cell_type": "code",
   "execution_count": null,
   "id": "f86ec2ad",
   "metadata": {
    "id": "f86ec2ad"
   },
   "outputs": [],
   "source": [
    "viajes_personas = pd.merge(viajes_df, personas_df, on=['nform', 'nnper'], how='left')"
   ]
  },
  {
   "cell_type": "code",
   "execution_count": null,
   "id": "c122d955",
   "metadata": {
    "colab": {
     "base_uri": "https://localhost:8080/"
    },
    "executionInfo": {
     "elapsed": 10,
     "status": "ok",
     "timestamp": 1635518034181,
     "user": {
      "displayName": "Paula Vásquez H.",
      "photoUrl": "https://lh3.googleusercontent.com/a-/AOh14GgJUNawPfe0J41agMsUCwKAOgAzWX7zUOLCtayLFg=s64",
      "userId": "02019115936957150360"
     },
     "user_tz": 180
    },
    "id": "c122d955",
    "outputId": "06189ac4-f31b-47d6-f8ef-a61653be81a0",
    "scrolled": false
   },
   "outputs": [],
   "source": [
    "print('Contando valores nulos por atributo')\n",
    "for column in viajes_personas.columns:\n",
    "    print('{}: {}'.format(column, viajes_personas[column].isna().sum()))"
   ]
  },
  {
   "cell_type": "markdown",
   "id": "tQhOSq8ZQdmL",
   "metadata": {
    "id": "tQhOSq8ZQdmL"
   },
   "source": [
    "### Descripción de los datos"
   ]
  },
  {
   "cell_type": "markdown",
   "id": "FyQHU2ZXRpYN",
   "metadata": {
    "id": "FyQHU2ZXRpYN"
   },
   "source": [
    "¿Dónde viven los encuestados?"
   ]
  },
  {
   "cell_type": "code",
   "execution_count": null,
   "id": "laxt2Rr8Rorw",
   "metadata": {
    "colab": {
     "base_uri": "https://localhost:8080/",
     "height": 567
    },
    "executionInfo": {
     "elapsed": 729,
     "status": "ok",
     "timestamp": 1632787797477,
     "user": {
      "displayName": "Paula Vásquez H.",
      "photoUrl": "https://lh3.googleusercontent.com/a-/AOh14GgJUNawPfe0J41agMsUCwKAOgAzWX7zUOLCtayLFg=s64",
      "userId": "02019115936957150360"
     },
     "user_tz": 180
    },
    "id": "laxt2Rr8Rorw",
    "outputId": "94c38952-659f-4829-e3f2-806ac85a0e1d"
   },
   "outputs": [],
   "source": [
    "hogares_por_barrio = encuestas_df.groupby(\"NOMBLOC\").size().sort_values()\n",
    "\n",
    "ax = hogares_por_barrio[-49:].plot(kind=\"barh\", width=0.9, figsize=(8, 9))\n",
    "ax.set_xlabel(\"Cantidad de hogares entrevistados\")\n",
    "ax.set_title(\"Distribución de hogares por Localidades\")\n",
    "sns.despine()"
   ]
  },
  {
   "cell_type": "markdown",
   "id": "XvJ89hOZTtGm",
   "metadata": {
    "id": "XvJ89hOZTtGm"
   },
   "source": [
    "¿Quienes son las personas encuestadas?"
   ]
  },
  {
   "cell_type": "code",
   "execution_count": null,
   "id": "q-TiF3K4UQKu",
   "metadata": {
    "id": "q-TiF3K4UQKu"
   },
   "outputs": [],
   "source": [
    "personas_df = personas_df[personas_df.EDAD!=' ']\n",
    "personas_df.EDAD = personas_df.EDAD.astype('float64')"
   ]
  },
  {
   "cell_type": "code",
   "execution_count": null,
   "id": "ugxgl3YqTw3R",
   "metadata": {
    "colab": {
     "base_uri": "https://localhost:8080/"
    },
    "executionInfo": {
     "elapsed": 19,
     "status": "ok",
     "timestamp": 1632787798098,
     "user": {
      "displayName": "Paula Vásquez H.",
      "photoUrl": "https://lh3.googleusercontent.com/a-/AOh14GgJUNawPfe0J41agMsUCwKAOgAzWX7zUOLCtayLFg=s64",
      "userId": "02019115936957150360"
     },
     "user_tz": 180
    },
    "id": "ugxgl3YqTw3R",
    "outputId": "28da8489-f087-4d7d-a8b0-2a7c87d207de"
   },
   "outputs": [],
   "source": [
    "personas_df['EDAD'].describe()"
   ]
  },
  {
   "cell_type": "code",
   "execution_count": null,
   "id": "XqeMwdIsUjzz",
   "metadata": {
    "id": "XqeMwdIsUjzz"
   },
   "outputs": [],
   "source": [
    "personas_df['age_cohort'] = personas_df.apply(lambda row: age_cohorts(row, 'EDAD'), axis=1)"
   ]
  },
  {
   "cell_type": "code",
   "execution_count": null,
   "id": "VqyuuzzrVUmE",
   "metadata": {
    "colab": {
     "base_uri": "https://localhost:8080/",
     "height": 241
    },
    "executionInfo": {
     "elapsed": 19,
     "status": "ok",
     "timestamp": 1632787798102,
     "user": {
      "displayName": "Paula Vásquez H.",
      "photoUrl": "https://lh3.googleusercontent.com/a-/AOh14GgJUNawPfe0J41agMsUCwKAOgAzWX7zUOLCtayLFg=s64",
      "userId": "02019115936957150360"
     },
     "user_tz": 180
    },
    "id": "VqyuuzzrVUmE",
    "outputId": "d88e0700-22ee-46ab-cf25-5bec2a36334a"
   },
   "outputs": [],
   "source": [
    "order = ['<18', '18-29', '30-60','>60','No declarado']\n",
    "ax = (personas_df.groupby(['age_cohort']).size().loc[reversed(order)]\n",
    " .plot(kind='barh', figsize=(6,3)))\n",
    "ax.set_xlabel(\"# de Encuestados\")\n",
    "ax.set_ylabel(\" \")\n",
    "ax.set_title(\"Distribución de Personas encuestadas por grupo de edad\")\n",
    "sns.despine()"
   ]
  },
  {
   "cell_type": "code",
   "execution_count": null,
   "id": "GHzwpqIVVXmk",
   "metadata": {
    "colab": {
     "base_uri": "https://localhost:8080/",
     "height": 241
    },
    "executionInfo": {
     "elapsed": 18,
     "status": "ok",
     "timestamp": 1632787798102,
     "user": {
      "displayName": "Paula Vásquez H.",
      "photoUrl": "https://lh3.googleusercontent.com/a-/AOh14GgJUNawPfe0J41agMsUCwKAOgAzWX7zUOLCtayLFg=s64",
      "userId": "02019115936957150360"
     },
     "user_tz": 180
    },
    "id": "GHzwpqIVVXmk",
    "outputId": "adb20a61-fd66-48fe-fab4-d1f951bd36f4"
   },
   "outputs": [],
   "source": [
    "ax = (personas_df.groupby(['SEXO']).size()\n",
    " .plot(kind='barh', figsize=(6,3)))\n",
    "ax.set_xlabel(\"# de Encuestados\")\n",
    "ax.set_ylabel(\" \")\n",
    "ax.set_title(\"Distribución de Personas encuestadas por sexo\")\n",
    "sns.despine()"
   ]
  },
  {
   "cell_type": "code",
   "execution_count": null,
   "id": "gX8dDt3iVaHg",
   "metadata": {
    "colab": {
     "base_uri": "https://localhost:8080/",
     "height": 258
    },
    "executionInfo": {
     "elapsed": 606,
     "status": "ok",
     "timestamp": 1632787798692,
     "user": {
      "displayName": "Paula Vásquez H.",
      "photoUrl": "https://lh3.googleusercontent.com/a-/AOh14GgJUNawPfe0J41agMsUCwKAOgAzWX7zUOLCtayLFg=s64",
      "userId": "02019115936957150360"
     },
     "user_tz": 180
    },
    "id": "gX8dDt3iVaHg",
    "outputId": "9305c967-54b7-46df-b746-1c9bdaae6716"
   },
   "outputs": [],
   "source": [
    "ax = (personas_df.groupby(['age_cohort', 'SEXO']).size().unstack()\n",
    " .pipe(normalize_rows)\n",
    " .plot(kind='barh', stacked=True, figsize=(6, 3)))\n",
    "ax.set_xlabel(\"% de Encuestados\")\n",
    "ax.set_ylabel(\" \")\n",
    "ax.set_title(\"Distribución de Personas encuestadas por sexo y edad\")\n",
    "sns.despine()\n",
    "\n",
    "plt.legend(loc=0, bbox_to_anchor=(1.0, 0.5))"
   ]
  },
  {
   "cell_type": "code",
   "execution_count": null,
   "id": "LekkOhzvVeTl",
   "metadata": {
    "colab": {
     "base_uri": "https://localhost:8080/",
     "height": 241
    },
    "executionInfo": {
     "elapsed": 23,
     "status": "ok",
     "timestamp": 1632787798693,
     "user": {
      "displayName": "Paula Vásquez H.",
      "photoUrl": "https://lh3.googleusercontent.com/a-/AOh14GgJUNawPfe0J41agMsUCwKAOgAzWX7zUOLCtayLFg=s64",
      "userId": "02019115936957150360"
     },
     "user_tz": 180
    },
    "id": "LekkOhzvVeTl",
    "outputId": "994e415a-fb9d-457f-8e1c-975a4fb8cd07"
   },
   "outputs": [],
   "source": [
    "ax = (personas_df.groupby(['E10']).size().sort_values()\n",
    " .plot(kind='barh', figsize=(6,3)))\n",
    "ax.set_xlabel(\"# de Encuestados\")\n",
    "ax.set_ylabel(\" \")\n",
    "ax.set_title(\"Distribución de Personas encuestadas de acuerdo a Actividad Principal\")\n",
    "sns.despine()"
   ]
  },
  {
   "cell_type": "markdown",
   "id": "TBAe2-QwDhPi",
   "metadata": {
    "id": "TBAe2-QwDhPi"
   },
   "source": [
    "### Parte I: Indicadores de Cantidad de Viajes\n",
    "\n",
    "En esta primera parte, responderemos algunas preguntas respecto a indicadores de cantidades de viajes realizados, en días hábiles y no hábiles de viaje. Para esto, buscaremos responder las siguientes preguntas:\n",
    "\n",
    "1. ¿Cuál es la tasa promedio de viajes diarios en transporte público por clasificador económico?\n",
    "2. ¿Cuál es la tasa promedio de viajes diarios en transporte privado por clasificador económico?\n",
    "3. ¿Cuál es la razón entre los viajes en transporte público y privado por clasificador socioeconómico?\n",
    "4. ¿Cuál es la distribución/partición modal de los viajes por clasificador socioeconómico?"
   ]
  },
  {
   "cell_type": "markdown",
   "id": "cr3jPvqRkopA",
   "metadata": {
    "id": "cr3jPvqRkopA"
   },
   "source": [
    "En esta sección, se detallarán los resultados para indicadores a nivel de viajes, y por clasificador socioeconómico."
   ]
  },
  {
   "cell_type": "code",
   "execution_count": null,
   "id": "5e3907b6",
   "metadata": {
    "colab": {
     "base_uri": "https://localhost:8080/"
    },
    "executionInfo": {
     "elapsed": 23,
     "status": "ok",
     "timestamp": 1632787798694,
     "user": {
      "displayName": "Paula Vásquez H.",
      "photoUrl": "https://lh3.googleusercontent.com/a-/AOh14GgJUNawPfe0J41agMsUCwKAOgAzWX7zUOLCtayLFg=s64",
      "userId": "02019115936957150360"
     },
     "user_tz": 180
    },
    "id": "5e3907b6",
    "outputId": "a7772afe-2013-46c9-e645-4a7b74e39d8f"
   },
   "outputs": [],
   "source": [
    "print('Cantidad de viajes mapeados: totales encuesta , total expandido')\n",
    "viajes_habiles = viajes_personas\n",
    "print('Total Viajes Habiles: {}'.format(viajes_habiles.shape[0]), viajes_habiles['wcal0_x'].sum())"
   ]
  },
  {
   "cell_type": "markdown",
   "id": "ddn8V_BLShbI",
   "metadata": {
    "id": "ddn8V_BLShbI"
   },
   "source": [
    "Separamos los viajes habiles y no habiles de acuerdo a si son privados o publicos"
   ]
  },
  {
   "cell_type": "code",
   "execution_count": null,
   "id": "6fe3f2f4",
   "metadata": {
    "id": "6fe3f2f4"
   },
   "outputs": [],
   "source": [
    "viajes_publico_habiles = viajes_habiles[viajes_habiles.modoprincipal.isin(publico_viaje)]\n",
    "\n",
    "viajes_privado_habiles = viajes_habiles[viajes_habiles.modoprincipal.isin(privado_viaje)]"
   ]
  },
  {
   "cell_type": "code",
   "execution_count": null,
   "id": "ec361de2",
   "metadata": {
    "colab": {
     "base_uri": "https://localhost:8080/"
    },
    "executionInfo": {
     "elapsed": 470,
     "status": "ok",
     "timestamp": 1632787799149,
     "user": {
      "displayName": "Paula Vásquez H.",
      "photoUrl": "https://lh3.googleusercontent.com/a-/AOh14GgJUNawPfe0J41agMsUCwKAOgAzWX7zUOLCtayLFg=s64",
      "userId": "02019115936957150360"
     },
     "user_tz": 180
    },
    "id": "ec361de2",
    "outputId": "bd1087aa-e86e-4bf6-ab69-c2459316194e"
   },
   "outputs": [],
   "source": [
    "viajes_publico_habiles.columns"
   ]
  },
  {
   "cell_type": "code",
   "execution_count": null,
   "id": "79e2c954",
   "metadata": {
    "id": "79e2c954"
   },
   "outputs": [],
   "source": [
    "def weighted_mean(df, value_column, weighs_column):\n",
    "    weighted_sum = (df[value_column] * df[weighs_column]).sum()\n",
    "    return weighted_sum / df[weighs_column].sum()"
   ]
  },
  {
   "cell_type": "code",
   "execution_count": null,
   "id": "5777b81a",
   "metadata": {
    "id": "5777b81a"
   },
   "outputs": [],
   "source": [
    "def weighted_median(df, val, weight):\n",
    "    df_sorted = df.sort_values(val)\n",
    "    cumsum = df_sorted[weight].cumsum()\n",
    "    cutoff = df_sorted[weight].sum() / 2.\n",
    "    return df_sorted[cumsum >= cutoff][val].iloc[0]"
   ]
  },
  {
   "cell_type": "markdown",
   "id": "Y2yqtFsLDqXj",
   "metadata": {
    "id": "Y2yqtFsLDqXj"
   },
   "source": [
    "#### **¿Cuál es la tasa promedio de viajes diarios en transporte público por clasificador económico?**"
   ]
  },
  {
   "cell_type": "markdown",
   "id": "BMWYNK57J-F0",
   "metadata": {
    "id": "BMWYNK57J-F0"
   },
   "source": [
    "Los siguientes gráficos muestran los viajes per cápita en trasporte público durante días hábiles, por clasificador socioeconómico."
   ]
  },
  {
   "cell_type": "code",
   "execution_count": null,
   "id": "2571065c",
   "metadata": {
    "id": "2571065c"
   },
   "outputs": [],
   "source": [
    "from pandasql import sqldf\n",
    "def calculate_n_viajes_per_capita(df, df_str, agg_columns_str, agg_columns_lst, id_person, person_weight, trip_weight=None):\n",
    "    q = \"SELECT DISTINCT {}, {}, {} FROM {}\".format(id_person, agg_columns_str, person_weight, df_str)\n",
    "    persons = sqldf(q, globals())\n",
    "    n_personas = persons.groupby(agg_columns_lst).sum()[[person_weight]].reset_index()\n",
    "    n_personas[agg_columns_lst[0]] = n_personas[agg_columns_lst[0]].astype(str)\n",
    "    n_viajes = df.groupby(agg_columns_lst).sum()[[trip_weight]].reset_index()\n",
    "    n_viajes[agg_columns_lst[0]] = n_viajes[agg_columns_lst[0]].astype(str)\n",
    "    merged = pd.merge(n_personas, n_viajes, on=agg_columns_lst, how='left')\n",
    "    merged['viajes_per_capita'] = merged[trip_weight] / merged[person_weight]\n",
    "    return merged"
   ]
  },
  {
   "cell_type": "code",
   "execution_count": null,
   "id": "5b74d147",
   "metadata": {
    "colab": {
     "base_uri": "https://localhost:8080/"
    },
    "executionInfo": {
     "elapsed": 14,
     "status": "ok",
     "timestamp": 1632787799152,
     "user": {
      "displayName": "Paula Vásquez H.",
      "photoUrl": "https://lh3.googleusercontent.com/a-/AOh14GgJUNawPfe0J41agMsUCwKAOgAzWX7zUOLCtayLFg=s64",
      "userId": "02019115936957150360"
     },
     "user_tz": 180
    },
    "id": "5b74d147",
    "outputId": "df95bc99-dedb-435a-e58e-3e5de7899c2b",
    "scrolled": true
   },
   "outputs": [],
   "source": [
    "print('Viajes per cápita en transporte público')\n",
    "df = calculate_n_viajes_per_capita(viajes_publico_habiles, \"viajes_publico_habiles\", \"INSE_RecF\", [\"INSE_RecF\"], 'nnper', 'wcal0_x', 'wcal0_y')"
   ]
  },
  {
   "cell_type": "code",
   "execution_count": null,
   "id": "yeFkUROwW24N",
   "metadata": {
    "colab": {
     "base_uri": "https://localhost:8080/"
    },
    "executionInfo": {
     "elapsed": 13,
     "status": "ok",
     "timestamp": 1632787799152,
     "user": {
      "displayName": "Paula Vásquez H.",
      "photoUrl": "https://lh3.googleusercontent.com/a-/AOh14GgJUNawPfe0J41agMsUCwKAOgAzWX7zUOLCtayLFg=s64",
      "userId": "02019115936957150360"
     },
     "user_tz": 180
    },
    "id": "yeFkUROwW24N",
    "outputId": "6caf2b43-2de8-4c06-b793-4b58da65ea51"
   },
   "outputs": [],
   "source": [
    "df.INSE_RecF.unique()"
   ]
  },
  {
   "cell_type": "code",
   "execution_count": null,
   "id": "ohIBwixJon87",
   "metadata": {
    "colab": {
     "base_uri": "https://localhost:8080/",
     "height": 318
    },
    "executionInfo": {
     "elapsed": 519,
     "status": "ok",
     "timestamp": 1632787799665,
     "user": {
      "displayName": "Paula Vásquez H.",
      "photoUrl": "https://lh3.googleusercontent.com/a-/AOh14GgJUNawPfe0J41agMsUCwKAOgAzWX7zUOLCtayLFg=s64",
      "userId": "02019115936957150360"
     },
     "user_tz": 180
    },
    "id": "ohIBwixJon87",
    "outputId": "142115ec-9e15-4256-fa2d-d2840159a65e"
   },
   "outputs": [],
   "source": [
    "#fig, ax = plt.subplots(figsize=(8,6))\n",
    "g = sns.catplot(x=\"INSE_RecF\", y=\"viajes_per_capita\", \n",
    "                capsize=.2, height=4, aspect=2,\n",
    "                kind=\"point\", data=df)\n",
    "\n",
    "g.fig.suptitle('Viajes per cápita en transporte público - Día Hábil')\n",
    "g.set_ylabels('# Viajes per Cápita')\n",
    "g.set_xlabels('Índice de Nivel Socioeconómico')\n",
    "g.set(ylim=(0,3))\n",
    "\n",
    "#fig.tight_layout()"
   ]
  },
  {
   "cell_type": "markdown",
   "id": "LdiIIuIwD1Lp",
   "metadata": {
    "id": "LdiIIuIwD1Lp"
   },
   "source": [
    "#### **¿Cuál es la tasa promedio de viajes diarios en transporte privado por clasificador económico?**"
   ]
  },
  {
   "cell_type": "markdown",
   "id": "xGKiQ8ljKJ9Y",
   "metadata": {
    "id": "xGKiQ8ljKJ9Y"
   },
   "source": [
    "Los siguientes gráficos representan la tasa promedio de viajes diarios en el transporte privado durante días hábiles, por clasificador socioeconómico."
   ]
  },
  {
   "cell_type": "code",
   "execution_count": null,
   "id": "0f0d8f5c",
   "metadata": {
    "colab": {
     "base_uri": "https://localhost:8080/"
    },
    "executionInfo": {
     "elapsed": 812,
     "status": "ok",
     "timestamp": 1632787800473,
     "user": {
      "displayName": "Paula Vásquez H.",
      "photoUrl": "https://lh3.googleusercontent.com/a-/AOh14GgJUNawPfe0J41agMsUCwKAOgAzWX7zUOLCtayLFg=s64",
      "userId": "02019115936957150360"
     },
     "user_tz": 180
    },
    "id": "0f0d8f5c",
    "outputId": "83e6b1d9-5f5d-4365-a962-75f0364b8580"
   },
   "outputs": [],
   "source": [
    "print('Viajes per cápita en transporte privado')\n",
    "df = calculate_n_viajes_per_capita(viajes_privado_habiles, \"viajes_privado_habiles\", \"INSE_RecF\", [\"INSE_RecF\"], 'nnper', 'wcal0_x', 'wcal0_y')"
   ]
  },
  {
   "cell_type": "code",
   "execution_count": null,
   "id": "jwp2kb0jo6oY",
   "metadata": {
    "colab": {
     "base_uri": "https://localhost:8080/",
     "height": 318
    },
    "executionInfo": {
     "elapsed": 646,
     "status": "ok",
     "timestamp": 1632787801116,
     "user": {
      "displayName": "Paula Vásquez H.",
      "photoUrl": "https://lh3.googleusercontent.com/a-/AOh14GgJUNawPfe0J41agMsUCwKAOgAzWX7zUOLCtayLFg=s64",
      "userId": "02019115936957150360"
     },
     "user_tz": 180
    },
    "id": "jwp2kb0jo6oY",
    "outputId": "dd3dc1e5-a318-47e1-8f3d-f348c69458f1"
   },
   "outputs": [],
   "source": [
    "g = sns.catplot(x=\"INSE_RecF\", y=\"viajes_per_capita\", \n",
    "                capsize=.2, height=4, aspect=2,\n",
    "                kind=\"point\", data=df)\n",
    "\n",
    "g.fig.suptitle('Viajes per cápita en transporte privado - Día Hábil')\n",
    "g.set_ylabels('# Viajes per Cápita')\n",
    "g.set_xlabels('Índice de Nivel Socioeconómico')\n",
    "g.set(ylim=(0,4))\n",
    "\n",
    "#fig.tight_layout()"
   ]
  },
  {
   "cell_type": "markdown",
   "id": "jEVYDwoM8Xwz",
   "metadata": {
    "id": "jEVYDwoM8Xwz"
   },
   "source": [
    "Durante días hábiles, los viajes realizados en transporte público tienen valores similares a través de los distintos niveles socioeconómicos. En días no hábiles, los grupos con mayor índice de nivel socioeconómico tienen mayor cantidad de viajes."
   ]
  },
  {
   "cell_type": "markdown",
   "id": "OP0uYMoKD5NK",
   "metadata": {
    "id": "OP0uYMoKD5NK"
   },
   "source": [
    "#### **¿Cuál es la razón entre los viajes en transporte público y privado por clasificador socioeconómico?**"
   ]
  },
  {
   "cell_type": "markdown",
   "id": "0OSWLCNqKOwL",
   "metadata": {
    "id": "0OSWLCNqKOwL"
   },
   "source": [
    "Los gráficos a continuación muestran la razón entre los viajes en transporte público y transporte privado durante días hábiles, por clasificador socioeconómico."
   ]
  },
  {
   "cell_type": "code",
   "execution_count": null,
   "id": "ffdf7ef0",
   "metadata": {
    "colab": {
     "base_uri": "https://localhost:8080/"
    },
    "executionInfo": {
     "elapsed": 13,
     "status": "ok",
     "timestamp": 1632787801117,
     "user": {
      "displayName": "Paula Vásquez H.",
      "photoUrl": "https://lh3.googleusercontent.com/a-/AOh14GgJUNawPfe0J41agMsUCwKAOgAzWX7zUOLCtayLFg=s64",
      "userId": "02019115936957150360"
     },
     "user_tz": 180
    },
    "id": "ffdf7ef0",
    "outputId": "470ee740-79ce-406c-803c-3e26393085a5"
   },
   "outputs": [],
   "source": [
    "print('Razón entre los viajes en transporte público y privado - Día Hábil')\n",
    "df = viajes_privado_habiles.groupby([\"INSE_RecF\"]).agg(privado_sobre_publico = ('wcal0_x', 'sum')) / viajes_publico_habiles.groupby([\"INSE_RecF\"]).agg(privado_sobre_publico = ('wcal0_x', 'sum'))\n",
    "df = df.reset_index()"
   ]
  },
  {
   "cell_type": "code",
   "execution_count": null,
   "id": "BHFKZdkzpJXq",
   "metadata": {
    "colab": {
     "base_uri": "https://localhost:8080/",
     "height": 318
    },
    "executionInfo": {
     "elapsed": 423,
     "status": "ok",
     "timestamp": 1632787801534,
     "user": {
      "displayName": "Paula Vásquez H.",
      "photoUrl": "https://lh3.googleusercontent.com/a-/AOh14GgJUNawPfe0J41agMsUCwKAOgAzWX7zUOLCtayLFg=s64",
      "userId": "02019115936957150360"
     },
     "user_tz": 180
    },
    "id": "BHFKZdkzpJXq",
    "outputId": "2691ee05-d8e9-4482-b317-a0923d083d55"
   },
   "outputs": [],
   "source": [
    "g = sns.catplot(x=\"INSE_RecF\", y=\"privado_sobre_publico\",\n",
    "                capsize=.2, height=4, aspect=2,\n",
    "                kind=\"point\", data=df)\n",
    "\n",
    "g.fig.suptitle('Razón entre los viajes en transporte público y privado - Día Hábil')\n",
    "g.set_ylabels('Proporción de viajes privados sobre públicos')\n",
    "g.set_xlabels('Índice de Nivel Socioeconómico')\n",
    "g.set(ylim=(0,8))\n",
    "\n",
    "#fig.tight_layout()"
   ]
  },
  {
   "cell_type": "markdown",
   "id": "jpKvesAG9s4e",
   "metadata": {
    "id": "jpKvesAG9s4e"
   },
   "source": [
    "La razón entre viajes privados y públicos es mayor en el grupo con mayor nivel socioeconómico, y se mantiene estable a través de los otros grupos."
   ]
  },
  {
   "cell_type": "markdown",
   "id": "DpzRAC-sD8Td",
   "metadata": {
    "id": "DpzRAC-sD8Td"
   },
   "source": [
    "#### **¿Cuál es la distribución/partición modal de los viajes por clasificador socioeconómico?**"
   ]
  },
  {
   "cell_type": "markdown",
   "id": "WuHDhiGHKSyh",
   "metadata": {
    "id": "WuHDhiGHKSyh"
   },
   "source": [
    "Las siguientes tablas y gráficos representan la partición modal de los viajes realizados en días hábiles, por clasificador socioeconómico."
   ]
  },
  {
   "cell_type": "code",
   "execution_count": null,
   "id": "00cf4cdc",
   "metadata": {
    "colab": {
     "base_uri": "https://localhost:8080/"
    },
    "executionInfo": {
     "elapsed": 14,
     "status": "ok",
     "timestamp": 1632787801535,
     "user": {
      "displayName": "Paula Vásquez H.",
      "photoUrl": "https://lh3.googleusercontent.com/a-/AOh14GgJUNawPfe0J41agMsUCwKAOgAzWX7zUOLCtayLFg=s64",
      "userId": "02019115936957150360"
     },
     "user_tz": 180
    },
    "id": "00cf4cdc",
    "outputId": "cb1d41fb-896b-4c16-c0be-002e89497e17"
   },
   "outputs": [],
   "source": [
    "print('Partición Modal de los Viajes')\n",
    "df = viajes_habiles.groupby([\"INSE_RecF\", 'modoprincipal']).sum()['wcal0_x'].unstack()\n",
    "#.agg(count=('MEDIO_PREDOMINANTE','count')).unstack()\n",
    "df_norm = df.div(df.sum(axis=1), axis=0)"
   ]
  },
  {
   "cell_type": "code",
   "execution_count": null,
   "id": "UWcbuZ90ph0z",
   "metadata": {
    "colab": {
     "base_uri": "https://localhost:8080/",
     "height": 441
    },
    "executionInfo": {
     "elapsed": 543,
     "status": "ok",
     "timestamp": 1632787802073,
     "user": {
      "displayName": "Paula Vásquez H.",
      "photoUrl": "https://lh3.googleusercontent.com/a-/AOh14GgJUNawPfe0J41agMsUCwKAOgAzWX7zUOLCtayLFg=s64",
      "userId": "02019115936957150360"
     },
     "user_tz": 180
    },
    "id": "UWcbuZ90ph0z",
    "outputId": "324bd8ad-af66-4b9f-bdb7-3f74c580e45d"
   },
   "outputs": [],
   "source": [
    "fig, ax = plt.subplots(figsize=(9, 6))\n",
    "\n",
    "ax = sns.heatmap(df_norm,linewidth=0.5)\n",
    "\n",
    "ax.set_title(\"Partición Modal de los Viajes - Día Hábil\")\n",
    "ax.set_xlabel(\"Modo de Transporte\")\n",
    "ax.set_ylabel(\"Índice de Nivel Socioeconómico\")\n",
    "\n",
    "fig.tight_layout()"
   ]
  },
  {
   "cell_type": "markdown",
   "id": "VTvKZECw_OlI",
   "metadata": {
    "id": "VTvKZECw_OlI"
   },
   "source": [
    "Los modos de transporte con mayor distribución son A pie hasta 10 cuadras, el cual es más alto en los grupos son nivel socioeconómico menor, Bus y Auto conductor, en el cual se observa una diferencia entre grupos socioeconómicos, con bajos valores para los niveles más bajos."
   ]
  },
  {
   "cell_type": "code",
   "execution_count": null,
   "id": "6e9d6644",
   "metadata": {
    "colab": {
     "base_uri": "https://localhost:8080/"
    },
    "executionInfo": {
     "elapsed": 14,
     "status": "ok",
     "timestamp": 1632787802074,
     "user": {
      "displayName": "Paula Vásquez H.",
      "photoUrl": "https://lh3.googleusercontent.com/a-/AOh14GgJUNawPfe0J41agMsUCwKAOgAzWX7zUOLCtayLFg=s64",
      "userId": "02019115936957150360"
     },
     "user_tz": 180
    },
    "id": "6e9d6644",
    "outputId": "a200f670-4052-458b-87b4-c35b7ce5c4a2"
   },
   "outputs": [],
   "source": [
    "print('Partición Modal de los Viajes por tipo de transporte')\n",
    "df = viajes_habiles.groupby([\"INSE_RecF\", 'publico_privado']).sum()['wcal0_x'].unstack()\n",
    "df_norm = df.div(df.sum(axis=1), axis=0)"
   ]
  },
  {
   "cell_type": "code",
   "execution_count": null,
   "id": "t75Nq5rJppZ0",
   "metadata": {
    "colab": {
     "base_uri": "https://localhost:8080/",
     "height": 513
    },
    "executionInfo": {
     "elapsed": 442,
     "status": "ok",
     "timestamp": 1632787802509,
     "user": {
      "displayName": "Paula Vásquez H.",
      "photoUrl": "https://lh3.googleusercontent.com/a-/AOh14GgJUNawPfe0J41agMsUCwKAOgAzWX7zUOLCtayLFg=s64",
      "userId": "02019115936957150360"
     },
     "user_tz": 180
    },
    "id": "t75Nq5rJppZ0",
    "outputId": "50aa2626-f2fe-44e3-b0ab-1ea89c0e496e"
   },
   "outputs": [],
   "source": [
    "from aves.visualization.tables import barchart\n",
    "\n",
    "fig, ax = plt.subplots(figsize=(14, 7))\n",
    "\n",
    "barchart(\n",
    "    ax, df_norm, stacked=True, normalize=False, sort_categories=True, sort_items=False\n",
    ")\n",
    "\n",
    "ax.set_title(\"Partición Modal de los Viajes de acuerdo al tipo de transporte - Día Hábil\")\n",
    "ax.set_ylim([0, 1])\n",
    "ax.set_ylabel(\"Fracción de los Viajes\")\n",
    "ax.set_xlabel(\"Índice de Nivel Socioeconómico\")\n",
    "\n",
    "fig.tight_layout()"
   ]
  },
  {
   "cell_type": "markdown",
   "id": "3dtWrduL_rs5",
   "metadata": {
    "id": "3dtWrduL_rs5"
   },
   "source": [
    "La fracción de viajes privados y públicos es mayormente constante a través de los grupos, excepto en el nivel socioeconómico mayor, donde la fracción de viajes privado es más alta que el resto."
   ]
  },
  {
   "cell_type": "markdown",
   "id": "IErEs2D29Kgb",
   "metadata": {
    "id": "IErEs2D29Kgb"
   },
   "source": [
    "### Parte II: Indicadores de Tiempo de Viajes\n",
    "\n",
    "En esta segunda parte, responderemos algunas preguntas respecto a indicadores de tiempo de viajes realizados, en días hábiles y no hábiles de viaje. Para esto, buscaremos responder las siguientes preguntas:\n",
    "1. ¿Cuál es el tiempo promedio de viaje por modo y tipo de transporte?\n",
    "2. ¿Cuál es el tiempo promedio de viaje en hora punta de mañana?\n",
    "3. ¿Cuál es el tiempo de viaje en transporte público en hora punta de mañana?\n",
    "4. ¿Cuál es el tiempo promedio de viaje al trabajo en transporte público?"
   ]
  },
  {
   "cell_type": "markdown",
   "id": "1Q5bBhQJMZDL",
   "metadata": {
    "id": "1Q5bBhQJMZDL"
   },
   "source": [
    "En esta sección, se presentarán los indicadores de tiempo de viajes a nivel de viajes, durante días hábiles, y por clasificador socioeconómico."
   ]
  },
  {
   "cell_type": "markdown",
   "id": "YiOaI3LcEFKF",
   "metadata": {
    "id": "YiOaI3LcEFKF"
   },
   "source": [
    "#### **¿Cuál es el tiempo promedio de viaje por modo y tipo de transporte?**"
   ]
  },
  {
   "cell_type": "markdown",
   "id": "JPUadiVlliP1",
   "metadata": {
    "id": "JPUadiVlliP1"
   },
   "source": [
    "A continuación, se representa el promedio y mediana en minutos de viaje por modo y tipo de transporte en días hábiles y no hábiles, por clasificador socioeconómico."
   ]
  },
  {
   "cell_type": "code",
   "execution_count": null,
   "id": "e6767485",
   "metadata": {
    "colab": {
     "base_uri": "https://localhost:8080/"
    },
    "executionInfo": {
     "elapsed": 14,
     "status": "ok",
     "timestamp": 1632787802510,
     "user": {
      "displayName": "Paula Vásquez H.",
      "photoUrl": "https://lh3.googleusercontent.com/a-/AOh14GgJUNawPfe0J41agMsUCwKAOgAzWX7zUOLCtayLFg=s64",
      "userId": "02019115936957150360"
     },
     "user_tz": 180
    },
    "id": "e6767485",
    "outputId": "632dae26-ae1d-4690-f60d-ef3e610af8c5",
    "scrolled": true
   },
   "outputs": [],
   "source": [
    "print('Duración promedio (en minutos) de viaje por modo - Dia Hábil')\n",
    "df = viajes_habiles.groupby([\"INSE_RecF\", 'modoprincipal']).apply(lambda x: weighted_mean(x, 'duracion', 'wcal0_x')).unstack()"
   ]
  },
  {
   "cell_type": "code",
   "execution_count": null,
   "id": "IigzbKEHp-QQ",
   "metadata": {
    "colab": {
     "base_uri": "https://localhost:8080/",
     "height": 441
    },
    "executionInfo": {
     "elapsed": 1677,
     "status": "ok",
     "timestamp": 1632787804180,
     "user": {
      "displayName": "Paula Vásquez H.",
      "photoUrl": "https://lh3.googleusercontent.com/a-/AOh14GgJUNawPfe0J41agMsUCwKAOgAzWX7zUOLCtayLFg=s64",
      "userId": "02019115936957150360"
     },
     "user_tz": 180
    },
    "id": "IigzbKEHp-QQ",
    "outputId": "15236730-629d-42d2-8421-5f225353b799"
   },
   "outputs": [],
   "source": [
    "fig, ax = plt.subplots(figsize=(9, 6))\n",
    "\n",
    "ax = sns.heatmap(df, annot=True)\n",
    "\n",
    "ax.set_title(\"Duración promedio de viaje por modo - Día Hábil\")\n",
    "ax.set_xlabel(\"Modo de Transporte\")\n",
    "ax.set_ylabel(\"Índice de Nivel Socioeconómico\")\n",
    "\n",
    "fig.tight_layout()"
   ]
  },
  {
   "cell_type": "code",
   "execution_count": null,
   "id": "aa1fa7a9",
   "metadata": {
    "colab": {
     "base_uri": "https://localhost:8080/"
    },
    "executionInfo": {
     "elapsed": 10,
     "status": "ok",
     "timestamp": 1632787804181,
     "user": {
      "displayName": "Paula Vásquez H.",
      "photoUrl": "https://lh3.googleusercontent.com/a-/AOh14GgJUNawPfe0J41agMsUCwKAOgAzWX7zUOLCtayLFg=s64",
      "userId": "02019115936957150360"
     },
     "user_tz": 180
    },
    "id": "aa1fa7a9",
    "outputId": "4043d594-4c91-452f-cd77-34dc0bcdd96f"
   },
   "outputs": [],
   "source": [
    "print('Duración mediana (en minutos) de viaje por modo - Dia Hábil')\n",
    "df = viajes_habiles.groupby([\"INSE_RecF\", 'modoprincipal']).apply(lambda x: weighted_median(x, 'duracion', 'wcal0_x')).unstack()"
   ]
  },
  {
   "cell_type": "code",
   "execution_count": null,
   "id": "uf8ucPi1qEcT",
   "metadata": {
    "colab": {
     "base_uri": "https://localhost:8080/",
     "height": 441
    },
    "executionInfo": {
     "elapsed": 2621,
     "status": "ok",
     "timestamp": 1632787806796,
     "user": {
      "displayName": "Paula Vásquez H.",
      "photoUrl": "https://lh3.googleusercontent.com/a-/AOh14GgJUNawPfe0J41agMsUCwKAOgAzWX7zUOLCtayLFg=s64",
      "userId": "02019115936957150360"
     },
     "user_tz": 180
    },
    "id": "uf8ucPi1qEcT",
    "outputId": "79b25f4a-fd08-470b-cdfb-eed85a2f2d03"
   },
   "outputs": [],
   "source": [
    "fig, ax = plt.subplots(figsize=(9, 6))\n",
    "\n",
    "ax = sns.heatmap(df, annot=True)\n",
    "\n",
    "ax.set_title(\"Duración mediana de viaje por modo - Día Hábil\")\n",
    "ax.set_xlabel(\"Modo de Transporte\")\n",
    "ax.set_ylabel(\"Índice de Nivel Socioeconómico\")\n",
    "\n",
    "fig.tight_layout()"
   ]
  },
  {
   "cell_type": "markdown",
   "id": "YNJmgZ3M_8Uh",
   "metadata": {
    "id": "YNJmgZ3M_8Uh"
   },
   "source": [
    "Los viajes con mayor duración promedio corresponden a los realizados en Bus y Bus de la Empresa, con variaciones a través de los grupos socioeconómicos. Los viajes más cortos son los realizados A pie hasta 10 cuadras, y como Moto pasajero."
   ]
  },
  {
   "cell_type": "code",
   "execution_count": null,
   "id": "244e1141",
   "metadata": {
    "colab": {
     "base_uri": "https://localhost:8080/"
    },
    "executionInfo": {
     "elapsed": 18,
     "status": "ok",
     "timestamp": 1632787806797,
     "user": {
      "displayName": "Paula Vásquez H.",
      "photoUrl": "https://lh3.googleusercontent.com/a-/AOh14GgJUNawPfe0J41agMsUCwKAOgAzWX7zUOLCtayLFg=s64",
      "userId": "02019115936957150360"
     },
     "user_tz": 180
    },
    "id": "244e1141",
    "outputId": "af299910-d8a1-4655-c3dd-314ac7395994"
   },
   "outputs": [],
   "source": [
    "print('Duración promedio (en minutos) de viaje por tipo de transporte - Dia Hábil')\n",
    "df = viajes_habiles.groupby([\"INSE_RecF\", 'publico_privado']).apply(lambda x: weighted_mean(x, 'duracion', 'wcal0_x')).unstack()"
   ]
  },
  {
   "cell_type": "code",
   "execution_count": null,
   "id": "uZ37sdorqGvn",
   "metadata": {
    "colab": {
     "base_uri": "https://localhost:8080/",
     "height": 369
    },
    "executionInfo": {
     "elapsed": 15,
     "status": "ok",
     "timestamp": 1632787806798,
     "user": {
      "displayName": "Paula Vásquez H.",
      "photoUrl": "https://lh3.googleusercontent.com/a-/AOh14GgJUNawPfe0J41agMsUCwKAOgAzWX7zUOLCtayLFg=s64",
      "userId": "02019115936957150360"
     },
     "user_tz": 180
    },
    "id": "uZ37sdorqGvn",
    "outputId": "02e6dc66-15b3-4a98-b6a7-ce5eecb68da0"
   },
   "outputs": [],
   "source": [
    "fig, ax = plt.subplots(figsize=(7, 5))\n",
    "\n",
    "ax = sns.heatmap(df, annot=True)\n",
    "\n",
    "ax.set_title(\"Duración promedio de viaje por modo - Día Hábil\")\n",
    "ax.set_xlabel(\"Tipo de Transporte\")\n",
    "ax.set_ylabel(\"Índice de Nivel Socioeconómico\")\n",
    "\n",
    "fig.tight_layout()"
   ]
  },
  {
   "cell_type": "code",
   "execution_count": null,
   "id": "d8d8b519",
   "metadata": {
    "colab": {
     "base_uri": "https://localhost:8080/"
    },
    "executionInfo": {
     "elapsed": 14,
     "status": "ok",
     "timestamp": 1632787806798,
     "user": {
      "displayName": "Paula Vásquez H.",
      "photoUrl": "https://lh3.googleusercontent.com/a-/AOh14GgJUNawPfe0J41agMsUCwKAOgAzWX7zUOLCtayLFg=s64",
      "userId": "02019115936957150360"
     },
     "user_tz": 180
    },
    "id": "d8d8b519",
    "outputId": "06d2f240-aecc-4b70-c9af-dd66f9669041"
   },
   "outputs": [],
   "source": [
    "print('Duración mediana (en minutos) de viaje por tipo de transporte - Dia Hábil')\n",
    "df = viajes_habiles.groupby([\"INSE_RecF\", 'publico_privado']).apply(lambda x: weighted_median(x, 'duracion', 'wcal0_x')).unstack()"
   ]
  },
  {
   "cell_type": "code",
   "execution_count": null,
   "id": "GG-tGrFAqJKg",
   "metadata": {
    "colab": {
     "base_uri": "https://localhost:8080/",
     "height": 369
    },
    "executionInfo": {
     "elapsed": 824,
     "status": "ok",
     "timestamp": 1632787807614,
     "user": {
      "displayName": "Paula Vásquez H.",
      "photoUrl": "https://lh3.googleusercontent.com/a-/AOh14GgJUNawPfe0J41agMsUCwKAOgAzWX7zUOLCtayLFg=s64",
      "userId": "02019115936957150360"
     },
     "user_tz": 180
    },
    "id": "GG-tGrFAqJKg",
    "outputId": "464e25c8-792a-4b7a-f6a6-6f3cfa1d6118"
   },
   "outputs": [],
   "source": [
    "fig, ax = plt.subplots(figsize=(7,5))\n",
    "\n",
    "ax = sns.heatmap(df, annot=True)\n",
    "\n",
    "ax.set_title(\"Duración mediana de viaje por modo - Día Hábil\")\n",
    "ax.set_xlabel(\"Tipo de Transporte\")\n",
    "ax.set_ylabel(\"Índice de Nivel Socioeconómico\")\n",
    "\n",
    "fig.tight_layout()"
   ]
  },
  {
   "cell_type": "markdown",
   "id": "pImfPqlJARud",
   "metadata": {
    "id": "pImfPqlJARud"
   },
   "source": [
    "Se observa que los viajes realizados en transporte público son de mayor duración que los realizados en transporte privado, y además, los viajes en transporte público son más largos para las capas socioeconómicas medias y bajas."
   ]
  },
  {
   "cell_type": "markdown",
   "id": "OfYcuglVEYrN",
   "metadata": {
    "id": "OfYcuglVEYrN"
   },
   "source": [
    "#### **¿Cuál es el tiempo promedio de viaje en hora punta de mañana?**"
   ]
  },
  {
   "cell_type": "markdown",
   "id": "hR_JMUepuZ-P",
   "metadata": {
    "id": "hR_JMUepuZ-P"
   },
   "source": [
    "Estos son los resultados para el promedio y mediana en minutos de viaje en hora punta de la mañana por modo de transporte, en días hábiles y no hábiles, por clasificador socioeconómico."
   ]
  },
  {
   "cell_type": "code",
   "execution_count": null,
   "id": "c3ddfb82",
   "metadata": {
    "colab": {
     "base_uri": "https://localhost:8080/"
    },
    "executionInfo": {
     "elapsed": 34,
     "status": "ok",
     "timestamp": 1632787807618,
     "user": {
      "displayName": "Paula Vásquez H.",
      "photoUrl": "https://lh3.googleusercontent.com/a-/AOh14GgJUNawPfe0J41agMsUCwKAOgAzWX7zUOLCtayLFg=s64",
      "userId": "02019115936957150360"
     },
     "user_tz": 180
    },
    "id": "c3ddfb82",
    "outputId": "9a552853-8953-4134-c00b-02404db76635"
   },
   "outputs": [],
   "source": [
    "print('Duración promedio (en minutos) de viaje por modo en hora punta - Dia Hábil')\n",
    "df = viajes_habiles[viajes_habiles.PICO_HABIL=='Si'].groupby([\"INSE_RecF\", 'modoprincipal']).apply(lambda x: weighted_mean(x, 'duracion', 'wcal0_x')).unstack()"
   ]
  },
  {
   "cell_type": "code",
   "execution_count": null,
   "id": "m5RUrPyLqc9P",
   "metadata": {
    "colab": {
     "base_uri": "https://localhost:8080/",
     "height": 441
    },
    "executionInfo": {
     "elapsed": 28,
     "status": "ok",
     "timestamp": 1632787807619,
     "user": {
      "displayName": "Paula Vásquez H.",
      "photoUrl": "https://lh3.googleusercontent.com/a-/AOh14GgJUNawPfe0J41agMsUCwKAOgAzWX7zUOLCtayLFg=s64",
      "userId": "02019115936957150360"
     },
     "user_tz": 180
    },
    "id": "m5RUrPyLqc9P",
    "outputId": "4c6e6bdf-16dc-4ce7-afea-9ac74741efab"
   },
   "outputs": [],
   "source": [
    "fig, ax = plt.subplots(figsize=(9,6))\n",
    "\n",
    "ax = sns.heatmap(df, annot=True)\n",
    "\n",
    "ax.set_title(\"Duración promedio de viaje por modo en hora punta - Día Hábil\")\n",
    "ax.set_xlabel(\"Modo de Transporte\")\n",
    "ax.set_ylabel(\"Índice de Nivel Socioeconómico\")\n",
    "\n",
    "fig.tight_layout()"
   ]
  },
  {
   "cell_type": "code",
   "execution_count": null,
   "id": "ff2008ae",
   "metadata": {
    "colab": {
     "base_uri": "https://localhost:8080/"
    },
    "executionInfo": {
     "elapsed": 24,
     "status": "ok",
     "timestamp": 1632787807622,
     "user": {
      "displayName": "Paula Vásquez H.",
      "photoUrl": "https://lh3.googleusercontent.com/a-/AOh14GgJUNawPfe0J41agMsUCwKAOgAzWX7zUOLCtayLFg=s64",
      "userId": "02019115936957150360"
     },
     "user_tz": 180
    },
    "id": "ff2008ae",
    "outputId": "52ddaa6a-2a8f-4c1d-c820-391279d6d2d5"
   },
   "outputs": [],
   "source": [
    "print('Duración mediana (en minutos) de viaje por modo en hora punta - Dia Hábil')\n",
    "df = viajes_habiles[viajes_habiles.PICO_HABIL=='Si'].groupby([\"INSE_RecF\", 'modoprincipal']).apply(lambda x: weighted_median(x, 'duracion', 'wcal0_x')).unstack()"
   ]
  },
  {
   "cell_type": "code",
   "execution_count": null,
   "id": "MFyi0j48qhxI",
   "metadata": {
    "colab": {
     "base_uri": "https://localhost:8080/",
     "height": 441
    },
    "executionInfo": {
     "elapsed": 687,
     "status": "ok",
     "timestamp": 1632787808292,
     "user": {
      "displayName": "Paula Vásquez H.",
      "photoUrl": "https://lh3.googleusercontent.com/a-/AOh14GgJUNawPfe0J41agMsUCwKAOgAzWX7zUOLCtayLFg=s64",
      "userId": "02019115936957150360"
     },
     "user_tz": 180
    },
    "id": "MFyi0j48qhxI",
    "outputId": "2beda22d-6a1d-43f8-cd7c-027bd3bd92c0"
   },
   "outputs": [],
   "source": [
    "fig, ax = plt.subplots(figsize=(9,6))\n",
    "\n",
    "ax = sns.heatmap(df, annot=True)\n",
    "\n",
    "ax.set_title(\"Duración mediana de viaje por modo en hora punta - Día Hábil\")\n",
    "ax.set_xlabel(\"Modo de Transporte\")\n",
    "ax.set_ylabel(\"Índice de Nivel Socioeconómico\")\n",
    "\n",
    "fig.tight_layout()"
   ]
  },
  {
   "cell_type": "code",
   "execution_count": null,
   "id": "1eab253c",
   "metadata": {
    "colab": {
     "base_uri": "https://localhost:8080/"
    },
    "executionInfo": {
     "elapsed": 19,
     "status": "ok",
     "timestamp": 1632787808293,
     "user": {
      "displayName": "Paula Vásquez H.",
      "photoUrl": "https://lh3.googleusercontent.com/a-/AOh14GgJUNawPfe0J41agMsUCwKAOgAzWX7zUOLCtayLFg=s64",
      "userId": "02019115936957150360"
     },
     "user_tz": 180
    },
    "id": "1eab253c",
    "outputId": "b0fa6f12-0950-4b07-c267-5ca5d97f8eb1"
   },
   "outputs": [],
   "source": [
    "print('Duración promedio (en minutos) de viaje por tipo de transporte en hora punta - Dia Hábil')\n",
    "df = viajes_habiles[(viajes_habiles.PICO_HABIL=='Si')].groupby([\"INSE_RecF\", 'publico_privado']).apply(lambda x: weighted_mean(x, 'duracion', 'wcal0_x')).unstack()"
   ]
  },
  {
   "cell_type": "markdown",
   "id": "2OlyV_v3A3l-",
   "metadata": {
    "id": "2OlyV_v3A3l-"
   },
   "source": [
    "Los viajes realizados en hora punta de mañana son de mayor duración para el modo de transporte Bus a lo largo de todos los grupos, y también alcanza valores altos en Bus de la empresa para algunos grupos. Los viajes más cortos corresponden a los realizados A pie hasta 10 cuadras."
   ]
  },
  {
   "cell_type": "code",
   "execution_count": null,
   "id": "Nkf_cnK6qmUw",
   "metadata": {
    "colab": {
     "base_uri": "https://localhost:8080/",
     "height": 369
    },
    "executionInfo": {
     "elapsed": 691,
     "status": "ok",
     "timestamp": 1632787808978,
     "user": {
      "displayName": "Paula Vásquez H.",
      "photoUrl": "https://lh3.googleusercontent.com/a-/AOh14GgJUNawPfe0J41agMsUCwKAOgAzWX7zUOLCtayLFg=s64",
      "userId": "02019115936957150360"
     },
     "user_tz": 180
    },
    "id": "Nkf_cnK6qmUw",
    "outputId": "9fe3b083-ae26-4ada-af49-2c1338810120"
   },
   "outputs": [],
   "source": [
    "fig, ax = plt.subplots(figsize=(7,5))\n",
    "\n",
    "ax = sns.heatmap(df, annot=True)\n",
    "\n",
    "ax.set_title(\"Duración promedio de viaje por modo en hora punta - Día Hábil\")\n",
    "ax.set_xlabel(\"Tipo de Transporte\")\n",
    "ax.set_ylabel(\"Índice de Nivel Socioeconómico\")\n",
    "\n",
    "fig.tight_layout()"
   ]
  },
  {
   "cell_type": "code",
   "execution_count": null,
   "id": "4ed3b2d1",
   "metadata": {
    "colab": {
     "base_uri": "https://localhost:8080/"
    },
    "executionInfo": {
     "elapsed": 24,
     "status": "ok",
     "timestamp": 1632787808979,
     "user": {
      "displayName": "Paula Vásquez H.",
      "photoUrl": "https://lh3.googleusercontent.com/a-/AOh14GgJUNawPfe0J41agMsUCwKAOgAzWX7zUOLCtayLFg=s64",
      "userId": "02019115936957150360"
     },
     "user_tz": 180
    },
    "id": "4ed3b2d1",
    "outputId": "4d3908bc-c666-4367-e064-bd22236c9c25"
   },
   "outputs": [],
   "source": [
    "print('Duración mediana (en minutos) de viaje por tipo de transporte en hora punta - Dia Hábil')\n",
    "df = viajes_habiles[(viajes_habiles.PICO_HABIL=='Si')].groupby([\"INSE_RecF\", 'publico_privado']).apply(lambda x: weighted_median(x, 'duracion', 'wcal0_x')).unstack()"
   ]
  },
  {
   "cell_type": "code",
   "execution_count": null,
   "id": "gXyNfTb3qzHr",
   "metadata": {
    "colab": {
     "base_uri": "https://localhost:8080/",
     "height": 369
    },
    "executionInfo": {
     "elapsed": 17,
     "status": "ok",
     "timestamp": 1632787808980,
     "user": {
      "displayName": "Paula Vásquez H.",
      "photoUrl": "https://lh3.googleusercontent.com/a-/AOh14GgJUNawPfe0J41agMsUCwKAOgAzWX7zUOLCtayLFg=s64",
      "userId": "02019115936957150360"
     },
     "user_tz": 180
    },
    "id": "gXyNfTb3qzHr",
    "outputId": "effd6bae-e235-4936-ab7d-498d771c3af3"
   },
   "outputs": [],
   "source": [
    "fig, ax = plt.subplots(figsize=(7,5))\n",
    "\n",
    "ax = sns.heatmap(df, annot=True)\n",
    "\n",
    "ax.set_title(\"Duración mediana de viaje por modo en hora punta - Día Hábil\")\n",
    "ax.set_xlabel(\"Tipo de Transporte\")\n",
    "ax.set_ylabel(\"Índice de Nivel Socioeconómico\")\n",
    "\n",
    "fig.tight_layout()"
   ]
  },
  {
   "cell_type": "markdown",
   "id": "cMAGz2KiBMRO",
   "metadata": {
    "id": "cMAGz2KiBMRO"
   },
   "source": [
    "Los viajes en hora punta de mañana son más largos cuando se realizan en transporte público que en privado, y aumentan sus duraciones para capas socioeconómicas medias y bajas."
   ]
  },
  {
   "cell_type": "markdown",
   "id": "Z6V7kcZQndyG",
   "metadata": {
    "id": "Z6V7kcZQndyG"
   },
   "source": [
    "#### **¿Cuál es el tiempo de viaje en transporte público en hora punta de mañana?**"
   ]
  },
  {
   "cell_type": "markdown",
   "id": "xiaDKcWnnj24",
   "metadata": {
    "id": "xiaDKcWnnj24"
   },
   "source": [
    "A continuación, se presentan los resultados para duración promedio de viaje en hora punta de mañana en transporte público, en días hábiles y no hábiles, por clasificador socioeconómico."
   ]
  },
  {
   "cell_type": "code",
   "execution_count": null,
   "id": "cyndZ1GFsxhx",
   "metadata": {
    "colab": {
     "base_uri": "https://localhost:8080/"
    },
    "executionInfo": {
     "elapsed": 16,
     "status": "ok",
     "timestamp": 1632787808981,
     "user": {
      "displayName": "Paula Vásquez H.",
      "photoUrl": "https://lh3.googleusercontent.com/a-/AOh14GgJUNawPfe0J41agMsUCwKAOgAzWX7zUOLCtayLFg=s64",
      "userId": "02019115936957150360"
     },
     "user_tz": 180
    },
    "id": "cyndZ1GFsxhx",
    "outputId": "effa3bf6-811d-4b24-98ac-b8e9e04078d7"
   },
   "outputs": [],
   "source": [
    "print('Duración promedio (en minutos) de viaje en hora punta en transporte público - Dia Hábil')\n",
    "mask = (viajes_habiles.publico_privado=='Público')\n",
    "df = viajes_habiles[mask][(viajes_habiles.PICO_HABIL=='Si')].groupby([\"INSE_RecF\", 'modoprincipal']).apply(lambda x: weighted_mean(x, 'duracion', 'wcal0_x')).unstack()"
   ]
  },
  {
   "cell_type": "code",
   "execution_count": null,
   "id": "RjZAlSeJtc3r",
   "metadata": {
    "colab": {
     "base_uri": "https://localhost:8080/",
     "height": 513
    },
    "executionInfo": {
     "elapsed": 697,
     "status": "ok",
     "timestamp": 1632787809669,
     "user": {
      "displayName": "Paula Vásquez H.",
      "photoUrl": "https://lh3.googleusercontent.com/a-/AOh14GgJUNawPfe0J41agMsUCwKAOgAzWX7zUOLCtayLFg=s64",
      "userId": "02019115936957150360"
     },
     "user_tz": 180
    },
    "id": "RjZAlSeJtc3r",
    "outputId": "1b1c7659-7bfe-4b39-b03a-de837ac60a24"
   },
   "outputs": [],
   "source": [
    "fig, ax = plt.subplots(figsize=(12, 7))\n",
    "\n",
    "ax = sns.heatmap(df, annot=True)\n",
    "\n",
    "ax.set_title(\"Duración promedio (en minutos) de viaje en hora punta en transporte público - Dia Hábil\")\n",
    "ax.set_xlabel(\"Modo de Transporte\")\n",
    "ax.set_ylabel(\"Índice de Nivel Socioeconómico\")\n",
    "\n",
    "fig.tight_layout()"
   ]
  },
  {
   "cell_type": "code",
   "execution_count": null,
   "id": "3Khh1uJbtGNa",
   "metadata": {
    "colab": {
     "base_uri": "https://localhost:8080/"
    },
    "executionInfo": {
     "elapsed": 13,
     "status": "ok",
     "timestamp": 1632787809670,
     "user": {
      "displayName": "Paula Vásquez H.",
      "photoUrl": "https://lh3.googleusercontent.com/a-/AOh14GgJUNawPfe0J41agMsUCwKAOgAzWX7zUOLCtayLFg=s64",
      "userId": "02019115936957150360"
     },
     "user_tz": 180
    },
    "id": "3Khh1uJbtGNa",
    "outputId": "b848cfd0-462c-43e3-983d-53fc04c01cc1"
   },
   "outputs": [],
   "source": [
    "print('Duración mediana (en minutos) de viaje en hora punta en transporte público - Dia Hábil')\n",
    "mask = (viajes_habiles.publico_privado=='Público')\n",
    "df = viajes_habiles[mask][(viajes_habiles.PICO_HABIL=='Si')].groupby([\"INSE_RecF\", 'modoprincipal']).apply(lambda x: weighted_median(x, 'duracion', 'wcal0_x')).unstack()"
   ]
  },
  {
   "cell_type": "code",
   "execution_count": null,
   "id": "WvesrBrstjZm",
   "metadata": {
    "colab": {
     "base_uri": "https://localhost:8080/",
     "height": 513
    },
    "executionInfo": {
     "elapsed": 396,
     "status": "ok",
     "timestamp": 1632787810060,
     "user": {
      "displayName": "Paula Vásquez H.",
      "photoUrl": "https://lh3.googleusercontent.com/a-/AOh14GgJUNawPfe0J41agMsUCwKAOgAzWX7zUOLCtayLFg=s64",
      "userId": "02019115936957150360"
     },
     "user_tz": 180
    },
    "id": "WvesrBrstjZm",
    "outputId": "fd78dbcc-bfcf-422e-fa71-1aeba08469a7"
   },
   "outputs": [],
   "source": [
    "fig, ax = plt.subplots(figsize=(12, 7))\n",
    "\n",
    "ax = sns.heatmap(df, annot=True)\n",
    "\n",
    "ax.set_title(\"Duración mediana (en minutos) de viaje en hora punta en transporte público - Dia Hábil\")\n",
    "ax.set_xlabel(\"Modo de Transporte\")\n",
    "ax.set_ylabel(\"Índice de Nivel Socioeconómico\")\n",
    "\n",
    "fig.tight_layout()"
   ]
  },
  {
   "cell_type": "markdown",
   "id": "pb9PORd0EfJj",
   "metadata": {
    "id": "pb9PORd0EfJj"
   },
   "source": [
    "#### **¿Cuál es el tiempo promedio de viaje al trabajo en transporte público?**"
   ]
  },
  {
   "cell_type": "markdown",
   "id": "lwkztkTNQ1aT",
   "metadata": {
    "id": "lwkztkTNQ1aT"
   },
   "source": [
    "A continuación, se presentan los resultados de tiempo promedio de viaje al trabajo en transporte público por modo en días hábiles y no hábiles, por clasificador socioeconómico."
   ]
  },
  {
   "cell_type": "code",
   "execution_count": null,
   "id": "db186349",
   "metadata": {
    "colab": {
     "base_uri": "https://localhost:8080/"
    },
    "executionInfo": {
     "elapsed": 17,
     "status": "ok",
     "timestamp": 1632787810060,
     "user": {
      "displayName": "Paula Vásquez H.",
      "photoUrl": "https://lh3.googleusercontent.com/a-/AOh14GgJUNawPfe0J41agMsUCwKAOgAzWX7zUOLCtayLFg=s64",
      "userId": "02019115936957150360"
     },
     "user_tz": 180
    },
    "id": "db186349",
    "outputId": "e39327c9-8545-4f04-8f1a-e747ebfc0a73"
   },
   "outputs": [],
   "source": [
    "viajes_habiles.proposito.unique()"
   ]
  },
  {
   "cell_type": "code",
   "execution_count": null,
   "id": "7136d149",
   "metadata": {
    "id": "7136d149"
   },
   "outputs": [],
   "source": [
    "work = ['Trabajo','Tramites trabajo']"
   ]
  },
  {
   "cell_type": "code",
   "execution_count": null,
   "id": "437706df",
   "metadata": {
    "colab": {
     "base_uri": "https://localhost:8080/"
    },
    "executionInfo": {
     "elapsed": 13,
     "status": "ok",
     "timestamp": 1632787810062,
     "user": {
      "displayName": "Paula Vásquez H.",
      "photoUrl": "https://lh3.googleusercontent.com/a-/AOh14GgJUNawPfe0J41agMsUCwKAOgAzWX7zUOLCtayLFg=s64",
      "userId": "02019115936957150360"
     },
     "user_tz": 180
    },
    "id": "437706df",
    "outputId": "03841eac-46e5-4e54-b4ae-286450331dec"
   },
   "outputs": [],
   "source": [
    "print('Duración promedio (en minutos) de viaje al trabajo en transporte público - Dia Hábil')\n",
    "mask = (viajes_habiles.publico_privado=='Público') & (viajes_habiles.proposito.isin(work))\n",
    "df = viajes_habiles[mask].groupby([\"INSE_RecF\", \"modoprincipal\"]).apply(lambda x: weighted_mean(x, 'duracion', 'wcal0_x')).unstack()"
   ]
  },
  {
   "cell_type": "code",
   "execution_count": null,
   "id": "QoIVquiTrGSg",
   "metadata": {
    "colab": {
     "base_uri": "https://localhost:8080/",
     "height": 441
    },
    "executionInfo": {
     "elapsed": 427,
     "status": "ok",
     "timestamp": 1632787810482,
     "user": {
      "displayName": "Paula Vásquez H.",
      "photoUrl": "https://lh3.googleusercontent.com/a-/AOh14GgJUNawPfe0J41agMsUCwKAOgAzWX7zUOLCtayLFg=s64",
      "userId": "02019115936957150360"
     },
     "user_tz": 180
    },
    "id": "QoIVquiTrGSg",
    "outputId": "9b9662dc-411e-4177-9970-5c178a2c82f0"
   },
   "outputs": [],
   "source": [
    "fig, ax = plt.subplots(figsize=(4, 6))\n",
    "\n",
    "ax = sns.heatmap(df, annot=True)\n",
    "\n",
    "ax.set_title(\"Duración promedio de viaje al trabajo en transporte público - Día Hábil\")\n",
    "ax.set_xlabel(\"Modo de Transporte\")\n",
    "ax.set_ylabel(\"Índice de Nivel Socioeconómico\")\n",
    "\n",
    "fig.tight_layout()"
   ]
  },
  {
   "cell_type": "code",
   "execution_count": null,
   "id": "b7e0c056",
   "metadata": {
    "colab": {
     "base_uri": "https://localhost:8080/"
    },
    "executionInfo": {
     "elapsed": 13,
     "status": "ok",
     "timestamp": 1632787810483,
     "user": {
      "displayName": "Paula Vásquez H.",
      "photoUrl": "https://lh3.googleusercontent.com/a-/AOh14GgJUNawPfe0J41agMsUCwKAOgAzWX7zUOLCtayLFg=s64",
      "userId": "02019115936957150360"
     },
     "user_tz": 180
    },
    "id": "b7e0c056",
    "outputId": "4f88b5f6-a104-4b1c-f164-fd69f64fffda"
   },
   "outputs": [],
   "source": [
    "print('Duración mediana (en minutos) de viaje al trabajo en transporte público - Dia Hábil')\n",
    "mask = (viajes_habiles.publico_privado=='Público') & (viajes_habiles.proposito.isin(work))\n",
    "df = viajes_habiles[mask].groupby([\"INSE_RecF\", \"modoprincipal\"]).apply(lambda x: weighted_median(x, 'duracion', 'wcal0_x')).unstack()"
   ]
  },
  {
   "cell_type": "code",
   "execution_count": null,
   "id": "NQaOEIPorhVf",
   "metadata": {
    "colab": {
     "base_uri": "https://localhost:8080/",
     "height": 441
    },
    "executionInfo": {
     "elapsed": 368,
     "status": "ok",
     "timestamp": 1632787810844,
     "user": {
      "displayName": "Paula Vásquez H.",
      "photoUrl": "https://lh3.googleusercontent.com/a-/AOh14GgJUNawPfe0J41agMsUCwKAOgAzWX7zUOLCtayLFg=s64",
      "userId": "02019115936957150360"
     },
     "user_tz": 180
    },
    "id": "NQaOEIPorhVf",
    "outputId": "1571a43e-8714-4420-9338-a2d6c14376e6"
   },
   "outputs": [],
   "source": [
    "fig, ax = plt.subplots(figsize=(4, 6))\n",
    "\n",
    "ax = sns.heatmap(df, annot=True)\n",
    "\n",
    "ax.set_title(\"Duración mediana de viaje al trabajo en transporte público - Día Hábil\")\n",
    "ax.set_xlabel(\"Modo de Transporte\")\n",
    "ax.set_ylabel(\"Índice de Nivel Socioeconómico\")\n",
    "\n",
    "fig.tight_layout()"
   ]
  },
  {
   "cell_type": "markdown",
   "id": "Tz2yX8jgJuIl",
   "metadata": {
    "id": "Tz2yX8jgJuIl"
   },
   "source": [
    "### Parte III: Indicadores de Distancia de Viajes\n",
    "1. Distancia de viajes en auto (histograma de viajes por km)\n",
    "2.Distancia de viajes en transporte público (histograma de viajes por km)\n",
    "3.Distancia de viajes por motivo estudio (histograma de viajes por km)\n",
    "4.Distancia de viajes por motivo al trabajo (histograma de viajes por km)\n",
    "5.Viajes interzonales como intrazonales\n"
   ]
  },
  {
   "cell_type": "markdown",
   "id": "L_XcTLw5rcNS",
   "metadata": {
    "id": "L_XcTLw5rcNS"
   },
   "source": [
    "En esta sección, se presentarán los indicadores de distancia de viajes durante días hábiles."
   ]
  },
  {
   "cell_type": "code",
   "execution_count": null,
   "id": "8135112e",
   "metadata": {
    "id": "8135112e",
    "scrolled": true
   },
   "outputs": [],
   "source": []
  },
  {
   "cell_type": "code",
   "execution_count": null,
   "id": "95910261",
   "metadata": {
    "id": "95910261"
   },
   "outputs": [],
   "source": [
    "car = ['Auto conductor','Auto pasajero']"
   ]
  },
  {
   "cell_type": "code",
   "execution_count": null,
   "id": "a83d7372",
   "metadata": {
    "colab": {
     "base_uri": "https://localhost:8080/",
     "height": 282
    },
    "executionInfo": {
     "elapsed": 7913,
     "status": "ok",
     "timestamp": 1632787818753,
     "user": {
      "displayName": "Paula Vásquez H.",
      "photoUrl": "https://lh3.googleusercontent.com/a-/AOh14GgJUNawPfe0J41agMsUCwKAOgAzWX7zUOLCtayLFg=s64",
      "userId": "02019115936957150360"
     },
     "user_tz": 180
    },
    "id": "a83d7372",
    "outputId": "14978723-f96d-422f-f7ee-00a631e4f8a6"
   },
   "outputs": [],
   "source": [
    "from matplotlib.pyplot import hist\n",
    "print('Distancia de viajes en auto - Día Hábil')\n",
    "mask = (viajes_habiles.modoprincipal.isin(car))\n",
    "df = viajes_habiles[mask].groupby('distancia_manhattan').sum()[['wcal0_x']].reset_index().sort_values('distancia_manhattan')\n",
    "hist(df.distancia_manhattan, weights=df.wcal0_x, bins=50)\n",
    "plt.axvline(viajes_habiles[mask].groupby('idviaje').apply(lambda x: weighted_mean(x, 'distancia_manhattan', 'wcal0_x')).mean(), color='green', linestyle='dashed', linewidth=1)\n",
    "plt.axvline(viajes_habiles[mask].groupby('idviaje').apply(lambda x: weighted_median(x, 'distancia_manhattan', 'wcal0_x')).median(), color='red', linestyle='dashed', linewidth=1)\n",
    "sns.despine()\n",
    "#Verde Promedio\n",
    "#Rojo Mediana"
   ]
  },
  {
   "cell_type": "markdown",
   "id": "2-lBeEH-vYc_",
   "metadata": {
    "id": "2-lBeEH-vYc_"
   },
   "source": [
    "#### **Distancia de viajes en transporte público**"
   ]
  },
  {
   "cell_type": "code",
   "execution_count": null,
   "id": "e656df22",
   "metadata": {
    "colab": {
     "base_uri": "https://localhost:8080/",
     "height": 282
    },
    "executionInfo": {
     "elapsed": 6846,
     "status": "ok",
     "timestamp": 1632787825594,
     "user": {
      "displayName": "Paula Vásquez H.",
      "photoUrl": "https://lh3.googleusercontent.com/a-/AOh14GgJUNawPfe0J41agMsUCwKAOgAzWX7zUOLCtayLFg=s64",
      "userId": "02019115936957150360"
     },
     "user_tz": 180
    },
    "id": "e656df22",
    "outputId": "166dccac-8c41-479e-daf9-428e5f1f1b9e"
   },
   "outputs": [],
   "source": [
    "print('Distancia de viajes en transporte público - Día Hábil')\n",
    "mask = (viajes_habiles.publico_privado == 'Público')\n",
    "df = viajes_habiles[mask].groupby('distancia_manhattan').sum()[['wcal0_x']].reset_index().sort_values('distancia_manhattan')\n",
    "hist(df.distancia_manhattan, weights=df.wcal0_x, bins=50)\n",
    "plt.axvline(viajes_habiles[mask].groupby('idviaje').apply(lambda x: weighted_mean(x, 'distancia_manhattan', 'wcal0_x')).mean(), color='green', linestyle='dashed', linewidth=1)\n",
    "plt.axvline(viajes_habiles[mask].groupby('idviaje').apply(lambda x: weighted_median(x, 'distancia_manhattan', 'wcal0_x')).median(), color='red', linestyle='dashed', linewidth=1)\n",
    "sns.despine()\n",
    "#Verde Promedio\n",
    "#Rojo Mediana"
   ]
  },
  {
   "cell_type": "code",
   "execution_count": null,
   "id": "ecd2874c",
   "metadata": {
    "colab": {
     "base_uri": "https://localhost:8080/"
    },
    "executionInfo": {
     "elapsed": 13,
     "status": "ok",
     "timestamp": 1632787825595,
     "user": {
      "displayName": "Paula Vásquez H.",
      "photoUrl": "https://lh3.googleusercontent.com/a-/AOh14GgJUNawPfe0J41agMsUCwKAOgAzWX7zUOLCtayLFg=s64",
      "userId": "02019115936957150360"
     },
     "user_tz": 180
    },
    "id": "ecd2874c",
    "outputId": "acd84b3b-f753-448e-b1ee-4a5e014448d1"
   },
   "outputs": [],
   "source": [
    "viajes_habiles.proposito.unique()"
   ]
  },
  {
   "cell_type": "markdown",
   "id": "PfffZ7ZZ-soo",
   "metadata": {
    "id": "PfffZ7ZZ-soo"
   },
   "source": [
    "#### **Distancia de viajes por motivo estudio**"
   ]
  },
  {
   "cell_type": "code",
   "execution_count": null,
   "id": "09daffea",
   "metadata": {
    "colab": {
     "base_uri": "https://localhost:8080/",
     "height": 282
    },
    "executionInfo": {
     "elapsed": 2682,
     "status": "ok",
     "timestamp": 1632787828267,
     "user": {
      "displayName": "Paula Vásquez H.",
      "photoUrl": "https://lh3.googleusercontent.com/a-/AOh14GgJUNawPfe0J41agMsUCwKAOgAzWX7zUOLCtayLFg=s64",
      "userId": "02019115936957150360"
     },
     "user_tz": 180
    },
    "id": "09daffea",
    "outputId": "96a5814a-f78a-4608-88e0-f2d77cb32d5a"
   },
   "outputs": [],
   "source": [
    "print('Distancia de viajes con motivo de estudio')\n",
    "mask = (viajes_personas.proposito == 'Estudios')\n",
    "df = viajes_personas[mask].groupby('distancia_manhattan').sum()[['wcal0_x']].reset_index().sort_values('distancia_manhattan')\n",
    "hist(df.distancia_manhattan, weights=df.wcal0_x, bins=50)\n",
    "plt.axvline(viajes_habiles[mask].groupby('idviaje').apply(lambda x: weighted_mean(x, 'distancia_manhattan', 'wcal0_x')).mean(), color='green', linestyle='dashed', linewidth=1)\n",
    "plt.axvline(viajes_habiles[mask].groupby('idviaje').apply(lambda x: weighted_median(x, 'distancia_manhattan', 'wcal0_x')).median(), color='red', linestyle='dashed', linewidth=1)\n",
    "sns.despine()\n",
    "#Verde Promedio\n",
    "#Rojo Mediana"
   ]
  },
  {
   "cell_type": "markdown",
   "id": "-jJrOlEl-uLU",
   "metadata": {
    "id": "-jJrOlEl-uLU"
   },
   "source": [
    "#### **Distancia de viajes por motivo trabajo**"
   ]
  },
  {
   "cell_type": "code",
   "execution_count": null,
   "id": "6fbf0e4d",
   "metadata": {
    "colab": {
     "base_uri": "https://localhost:8080/",
     "height": 282
    },
    "executionInfo": {
     "elapsed": 4905,
     "status": "ok",
     "timestamp": 1632787833168,
     "user": {
      "displayName": "Paula Vásquez H.",
      "photoUrl": "https://lh3.googleusercontent.com/a-/AOh14GgJUNawPfe0J41agMsUCwKAOgAzWX7zUOLCtayLFg=s64",
      "userId": "02019115936957150360"
     },
     "user_tz": 180
    },
    "id": "6fbf0e4d",
    "outputId": "a0ddd33f-161d-4297-a691-aa27b2dc67f2"
   },
   "outputs": [],
   "source": [
    "print('Distancia de viajes con motivo de trabajo')\n",
    "mask = (viajes_personas.proposito.isin(work))\n",
    "df = viajes_personas[mask].groupby('distancia_manhattan').sum()[['wcal0_x']].reset_index().sort_values('distancia_manhattan')\n",
    "hist(df.distancia_manhattan, weights=df.wcal0_x, bins=50)\n",
    "plt.axvline(viajes_habiles[mask].groupby('idviaje').apply(lambda x: weighted_mean(x, 'distancia_manhattan', 'wcal0_x')).mean(), color='green', linestyle='dashed', linewidth=1)\n",
    "plt.axvline(viajes_habiles[mask].groupby('idviaje').apply(lambda x: weighted_median(x, 'distancia_manhattan', 'wcal0_x')).median(), color='red', linestyle='dashed', linewidth=1)\n",
    "sns.despine()\n",
    "#Verde Promedio\n",
    "#Rojo Mediana"
   ]
  },
  {
   "cell_type": "markdown",
   "id": "isY_bo3Y-xRh",
   "metadata": {
    "id": "isY_bo3Y-xRh"
   },
   "source": [
    "#### **Viajes intra vs interzonales**"
   ]
  },
  {
   "cell_type": "code",
   "execution_count": null,
   "id": "9d567b6e",
   "metadata": {
    "colab": {
     "base_uri": "https://localhost:8080/",
     "height": 1000
    },
    "executionInfo": {
     "elapsed": 9,
     "status": "ok",
     "timestamp": 1632787833169,
     "user": {
      "displayName": "Paula Vásquez H.",
      "photoUrl": "https://lh3.googleusercontent.com/a-/AOh14GgJUNawPfe0J41agMsUCwKAOgAzWX7zUOLCtayLFg=s64",
      "userId": "02019115936957150360"
     },
     "user_tz": 180
    },
    "id": "9d567b6e",
    "outputId": "ec8db7b0-50c1-42b0-ca88-61a0d572a0cd"
   },
   "outputs": [],
   "source": [
    "print('% de viajes Inter e Intra zonales')\n",
    "df = viajes_personas.groupby(['proposito','SEXO','Intra_Inter']).sum()['wcal0_x'].unstack()\n",
    "df.div(df.sum(axis=1), axis=0)"
   ]
  },
  {
   "cell_type": "markdown",
   "id": "xwxQdo68cRVE",
   "metadata": {
    "id": "xwxQdo68cRVE"
   },
   "source": [
    "¿Dónde se concentran las personas que utilizan cada modo de transporte en la ciudad para distintos propósitos?"
   ]
  },
  {
   "cell_type": "code",
   "execution_count": null,
   "id": "44f12a97",
   "metadata": {
    "colab": {
     "base_uri": "https://localhost:8080/",
     "height": 289
    },
    "executionInfo": {
     "elapsed": 2433,
     "status": "ok",
     "timestamp": 1635519055727,
     "user": {
      "displayName": "Paula Vásquez H.",
      "photoUrl": "https://lh3.googleusercontent.com/a-/AOh14GgJUNawPfe0J41agMsUCwKAOgAzWX7zUOLCtayLFg=s64",
      "userId": "02019115936957150360"
     },
     "user_tz": 180
    },
    "id": "44f12a97",
    "outputId": "b2179100-0963-46c3-f6cd-ba022744787f"
   },
   "outputs": [],
   "source": [
    "from aves.features.geo import clip_area_geodataframe\n",
    "bbox = [548103.7465,6130534.7073,607001.8892,6170942.9774]\n",
    "\n",
    "zonas_en_caja = clip_area_geodataframe(city_shp.to_crs('epsg:32721'), bbox)\n",
    "zonas_en_caja.plot()"
   ]
  },
  {
   "cell_type": "code",
   "execution_count": null,
   "id": "QjexxMW5cuiH",
   "metadata": {
    "id": "QjexxMW5cuiH"
   },
   "outputs": [],
   "source": [
    "bounds = zonas_en_caja.to_crs('EPSG:4686').total_bounds"
   ]
  },
  {
   "cell_type": "code",
   "execution_count": null,
   "id": "HgykTe7jc1uM",
   "metadata": {
    "id": "HgykTe7jc1uM"
   },
   "outputs": [],
   "source": [
    "import contextily as cx\n",
    "\n",
    "scl_img, scl_ext = cx.bounds2raster(bounds[0], bounds[1], bounds[2], bounds[3], \n",
    "    \"montevideo_toner_12.tif\",\n",
    "    ll=True,\n",
    "    source=cx.providers.Stamen.TonerBackground,\n",
    "    zoom=12,\n",
    ")"
   ]
  },
  {
   "cell_type": "code",
   "execution_count": null,
   "id": "z_tEe-H2c6B0",
   "metadata": {
    "id": "z_tEe-H2c6B0"
   },
   "outputs": [],
   "source": [
    "from aves.features.geo import to_point_geodataframe"
   ]
  },
  {
   "cell_type": "code",
   "execution_count": null,
   "id": "wzpd8ROAc_nr",
   "metadata": {
    "id": "wzpd8ROAc_nr"
   },
   "outputs": [],
   "source": [
    "origenes_viajes = to_point_geodataframe(viajes_personas, 'LONGITUD_ORIGEN' , 'LATITUD_ORIGEN', crs='epsg:32721')\n",
    "destinos_viajes = to_point_geodataframe(viajes_personas, 'LONGITUD_DESTINO', 'LATITUD_DESTINO', crs='epsg:32721')"
   ]
  },
  {
   "cell_type": "code",
   "execution_count": null,
   "id": "y6l2S205dC6e",
   "metadata": {
    "id": "y6l2S205dC6e"
   },
   "outputs": [],
   "source": [
    "city_shp = city_shp.to_crs(origenes_viajes.crs)"
   ]
  },
  {
   "cell_type": "code",
   "execution_count": null,
   "id": "gFdN96s_dEvQ",
   "metadata": {
    "id": "gFdN96s_dEvQ"
   },
   "outputs": [],
   "source": [
    "from aves.features.geo import clip_point_geodataframe\n",
    "\n",
    "origenes_viajes = origenes_viajes[(origenes_viajes['idviaje'].isin(destinos_viajes['idviaje']))]\n",
    "origenes_viajes = clip_point_geodataframe(origenes_viajes, zonas_en_caja.total_bounds)\n",
    "destinos_viajes = destinos_viajes[(destinos_viajes['idviaje'].isin(origenes_viajes['idviaje']))]\n",
    "destinos_viajes = clip_point_geodataframe(destinos_viajes, zonas_en_caja.total_bounds)"
   ]
  },
  {
   "cell_type": "code",
   "execution_count": null,
   "id": "q_SmnDDfi_PB",
   "metadata": {
    "colab": {
     "base_uri": "https://localhost:8080/"
    },
    "executionInfo": {
     "elapsed": 254,
     "status": "ok",
     "timestamp": 1635519302355,
     "user": {
      "displayName": "Paula Vásquez H.",
      "photoUrl": "https://lh3.googleusercontent.com/a-/AOh14GgJUNawPfe0J41agMsUCwKAOgAzWX7zUOLCtayLFg=s64",
      "userId": "02019115936957150360"
     },
     "user_tz": 180
    },
    "id": "q_SmnDDfi_PB",
    "outputId": "319e4569-6736-42ca-ab02-9a5fa5d0787d"
   },
   "outputs": [],
   "source": [
    "origenes_viajes.columns"
   ]
  },
  {
   "cell_type": "code",
   "execution_count": null,
   "id": "7BVPdEPneRuf",
   "metadata": {
    "colab": {
     "base_uri": "https://localhost:8080/",
     "height": 643
    },
    "executionInfo": {
     "elapsed": 9213,
     "status": "ok",
     "timestamp": 1632787848300,
     "user": {
      "displayName": "Paula Vásquez H.",
      "photoUrl": "https://lh3.googleusercontent.com/a-/AOh14GgJUNawPfe0J41agMsUCwKAOgAzWX7zUOLCtayLFg=s64",
      "userId": "02019115936957150360"
     },
     "user_tz": 180
    },
    "id": "7BVPdEPneRuf",
    "outputId": "61780ce4-2176-4e07-c223-036e1d6fff9f"
   },
   "outputs": [],
   "source": [
    "from aves.visualization.figures import GeoFacetGrid\n",
    "\n",
    "from aves.visualization.maps import heat_map\n",
    "\n",
    "grid = GeoFacetGrid(\n",
    "    origenes_viajes,\n",
    "    context=zonas_en_caja,\n",
    "    row=\"proposito\",\n",
    "    col=\"modoprincipal\",\n",
    "    row_order=[\"Trabajo\", \"Estudios\"],\n",
    "    col_order=[\"Bus\", \"Auto conductor\", \"A pie\"],\n",
    "    height=6,\n",
    "    hue=\"modoprincipal\"\n",
    ")\n",
    "grid.add_basemap(\"montevideo_toner_12.tif\")\n",
    "#grid.add_layer(city_shp_filt, color=\"#efefef\", edgecolor=\"white\", linewidth=1)\n",
    "\n",
    "grid.add_layer(\n",
    "    heat_map,\n",
    "    # atributo de los datos con la importancia o peso de cada viaje\n",
    "    weight=\"wcal0_x\",\n",
    "    # cantidad de niveles/colores del mapa de calor\n",
    "    n_levels=10,\n",
    "    # radio de influencia de cada viaje\n",
    "    bandwidth=0.005,\n",
    "    # valor de corte para los valores bajos del heatmap\n",
    "    low_threshold=0.075,\n",
    "    # transparencia\n",
    "    alpha=0.75,\n",
    "    # paleta de colores\n",
    "    palette=\"inferno\"\n",
    ")\n",
    "\n",
    "grid.add_global_colorbar('inferno', 10, title='Intensidad de Viajes (de menos a más)', orientation='horizontal')\n",
    "#grid.set_title(\"Viajes a trabajar y a estudiar de acuerdo al modo de transporte\")\n",
    "grid.fig.tight_layout()"
   ]
  },
  {
   "cell_type": "code",
   "execution_count": null,
   "id": "lS3Q_RN6fQLF",
   "metadata": {
    "colab": {
     "base_uri": "https://localhost:8080/"
    },
    "executionInfo": {
     "elapsed": 23,
     "status": "ok",
     "timestamp": 1632787848301,
     "user": {
      "displayName": "Paula Vásquez H.",
      "photoUrl": "https://lh3.googleusercontent.com/a-/AOh14GgJUNawPfe0J41agMsUCwKAOgAzWX7zUOLCtayLFg=s64",
      "userId": "02019115936957150360"
     },
     "user_tz": 180
    },
    "id": "lS3Q_RN6fQLF",
    "outputId": "53b45c22-46bd-42a6-eeea-02020d586723"
   },
   "outputs": [],
   "source": [
    "destinos_viajes.proposito.unique()"
   ]
  },
  {
   "cell_type": "code",
   "execution_count": null,
   "id": "QJYIu2lbe3RR",
   "metadata": {
    "colab": {
     "base_uri": "https://localhost:8080/",
     "height": 365
    },
    "executionInfo": {
     "elapsed": 2155,
     "status": "ok",
     "timestamp": 1632787850439,
     "user": {
      "displayName": "Paula Vásquez H.",
      "photoUrl": "https://lh3.googleusercontent.com/a-/AOh14GgJUNawPfe0J41agMsUCwKAOgAzWX7zUOLCtayLFg=s64",
      "userId": "02019115936957150360"
     },
     "user_tz": 180
    },
    "id": "QJYIu2lbe3RR",
    "outputId": "0d81eabb-0f50-4dc1-8d44-86cf69588187"
   },
   "outputs": [],
   "source": [
    "grid = GeoFacetGrid(\n",
    "    destinos_viajes[destinos_viajes.proposito=='Regreso al hogar/hogar'],\n",
    "    context=zonas_en_caja,\n",
    "    #row=\"MOTIVOVIAJE\",\n",
    "    col=\"modoprincipal\",\n",
    "    col_wrap=3,\n",
    "    row_order=[\"Regreso al hogar/hogar\"],\n",
    "    col_order=[\"Bus\", \"Auto conductor\", \"A pie\"],\n",
    "    height=5,\n",
    "    hue=\"modoprincipal\"\n",
    ")\n",
    "grid.add_basemap(\"montevideo_toner_12.tif\")\n",
    "#grid.add_layer(city_shp_filt, color=\"#efefef\", edgecolor=\"white\", linewidth=1, alpha=0.5)\n",
    "\n",
    "grid.add_layer(\n",
    "    heat_map,\n",
    "    # atributo de los datos con la importancia o peso de cada viaje\n",
    "    weight=\"wcal0_x\",\n",
    "    # cantidad de niveles/colores del mapa de calor\n",
    "    n_levels=10,\n",
    "    # radio de influencia de cada viaje\n",
    "    bandwidth=0.005,\n",
    "    # valor de corte para los valores bajos del heatmap\n",
    "    low_threshold=0.075,\n",
    "    # transparencia\n",
    "    alpha=0.75,\n",
    "    # paleta de colores\n",
    "    palette=\"inferno\"\n",
    ")\n",
    "grid.add_global_colorbar('inferno', 10, title='Intensidad de Viajes (de menos a más)', orientation='horizontal')\n",
    "grid.set_title(\"Viajes de vuelta a casa en Bogotá\")\n",
    "grid.fig.tight_layout()"
   ]
  },
  {
   "cell_type": "markdown",
   "id": "s9oAVTvlfpw2",
   "metadata": {
    "id": "s9oAVTvlfpw2"
   },
   "source": [
    "¿Cuán lejos queda el trabajo de acuerdo al lugar de residencia?"
   ]
  },
  {
   "cell_type": "markdown",
   "id": "UpAUwct3fs-e",
   "metadata": {
    "id": "UpAUwct3fs-e"
   },
   "source": [
    "Con esta pregunta queremos entender si existe un patrón geográfico en las elecciones de residencia y trabajo de las personas.\n",
    "\n",
    "Para responder la pregunta, primero filtramos los viajes que nos interesan:"
   ]
  },
  {
   "cell_type": "code",
   "execution_count": null,
   "id": "EmQcA8pYfsMa",
   "metadata": {
    "colab": {
     "base_uri": "https://localhost:8080/"
    },
    "executionInfo": {
     "elapsed": 349,
     "status": "ok",
     "timestamp": 1635519340902,
     "user": {
      "displayName": "Paula Vásquez H.",
      "photoUrl": "https://lh3.googleusercontent.com/a-/AOh14GgJUNawPfe0J41agMsUCwKAOgAzWX7zUOLCtayLFg=s64",
      "userId": "02019115936957150360"
     },
     "user_tz": 180
    },
    "id": "EmQcA8pYfsMa",
    "outputId": "29edacbd-7bfe-47b4-c4b2-608280c2a68a"
   },
   "outputs": [],
   "source": [
    "viajes_trabajo = origenes_viajes[(origenes_viajes.proposito == 'Trabajo') &\n",
    "                                (pd.notnull(origenes_viajes.wcal0_x)) &\n",
    "                                (origenes_viajes.distancia_manhattan > 0)].drop_duplicates(subset=['nform', 'nnper'], keep='first')\n",
    "                                \n",
    "print(len(viajes_trabajo), viajes_trabajo.wcal0_x.sum())"
   ]
  },
  {
   "cell_type": "code",
   "execution_count": null,
   "id": "xLbpgkEdhpMm",
   "metadata": {
    "colab": {
     "base_uri": "https://localhost:8080/"
    },
    "executionInfo": {
     "elapsed": 20,
     "status": "ok",
     "timestamp": 1632787850441,
     "user": {
      "displayName": "Paula Vásquez H.",
      "photoUrl": "https://lh3.googleusercontent.com/a-/AOh14GgJUNawPfe0J41agMsUCwKAOgAzWX7zUOLCtayLFg=s64",
      "userId": "02019115936957150360"
     },
     "user_tz": 180
    },
    "id": "xLbpgkEdhpMm",
    "outputId": "eebbd698-aa9d-4d2d-89c1-8b5af4bc000e"
   },
   "outputs": [],
   "source": [
    "viajes_trabajo['distancia_manhattan'].mean(), weighted_mean(viajes_trabajo, 'distancia_manhattan', 'wcal0_x')"
   ]
  },
  {
   "cell_type": "code",
   "execution_count": null,
   "id": "dWQcn3DChwYT",
   "metadata": {
    "colab": {
     "base_uri": "https://localhost:8080/"
    },
    "executionInfo": {
     "elapsed": 14,
     "status": "ok",
     "timestamp": 1632787850442,
     "user": {
      "displayName": "Paula Vásquez H.",
      "photoUrl": "https://lh3.googleusercontent.com/a-/AOh14GgJUNawPfe0J41agMsUCwKAOgAzWX7zUOLCtayLFg=s64",
      "userId": "02019115936957150360"
     },
     "user_tz": 180
    },
    "id": "dWQcn3DChwYT",
    "outputId": "cde00c7e-4b7a-4c9b-cb4b-aedb42a3b199"
   },
   "outputs": [],
   "source": [
    "viajes_trabajo.columns"
   ]
  },
  {
   "cell_type": "code",
   "execution_count": null,
   "id": "wzpcTqOUhs_a",
   "metadata": {
    "id": "wzpcTqOUhs_a"
   },
   "outputs": [],
   "source": [
    "distancia_zonas_mean = (viajes_trabajo\n",
    "                   .groupby(['codsegorigen'])\n",
    "                   .apply(lambda x: weighted_mean(x, 'distancia_manhattan', 'wcal0_x'))\n",
    "                   .rename('media_distancia_al_trabajo')\n",
    ")"
   ]
  },
  {
   "cell_type": "code",
   "execution_count": null,
   "id": "E4ZtTVr7h1YB",
   "metadata": {
    "id": "E4ZtTVr7h1YB"
   },
   "outputs": [],
   "source": [
    "distancia_zonas_median = (viajes_trabajo\n",
    "                   .groupby(['codsegorigen'])\n",
    "                   .apply(lambda x: weighted_median(x, 'distancia_manhattan', 'wcal0_x'))\n",
    "                   .rename('mediana_distancia_al_trabajo')\n",
    ")"
   ]
  },
  {
   "cell_type": "code",
   "execution_count": null,
   "id": "pRVYpr7Zh7S9",
   "metadata": {
    "colab": {
     "base_uri": "https://localhost:8080/",
     "height": 709
    },
    "executionInfo": {
     "elapsed": 5645,
     "status": "ok",
     "timestamp": 1632787858040,
     "user": {
      "displayName": "Paula Vásquez H.",
      "photoUrl": "https://lh3.googleusercontent.com/a-/AOh14GgJUNawPfe0J41agMsUCwKAOgAzWX7zUOLCtayLFg=s64",
      "userId": "02019115936957150360"
     },
     "user_tz": 180
    },
    "id": "pRVYpr7Zh7S9",
    "outputId": "514ad493-6862-490d-fe80-c33500f4949e"
   },
   "outputs": [],
   "source": [
    "from aves.visualization.maps import choropleth_map\n",
    "grid = GeoFacetGrid(zonas_en_caja.set_index('CODSEG').join(distancia_zonas_mean, how=\"left\"), height=9)\n",
    "grid.add_basemap(\"montevideo_toner_12.tif\")\n",
    "grid.add_layer(\n",
    "    choropleth_map,\n",
    "    \"media_distancia_al_trabajo\",\n",
    "    k=5,\n",
    "    linewidth=0.5,\n",
    "    edgecolor=\"black\",\n",
    "    binning=\"fisher_jenks\",\n",
    "    palette=\"RdPu\",\n",
    "    alpha=0.85,\n",
    "    cbar_args=dict(\n",
    "        label=\"Distancia (m)\",\n",
    "        height=\"22%\",\n",
    "        width=\"2%\",\n",
    "        orientation=\"vertical\",\n",
    "        location=\"center left\",\n",
    "        label_size=\"small\",\n",
    "        bbox_to_anchor=(0.0, 0.0, 0.9, 1.0),\n",
    "    ),\n",
    ")\n",
    "grid.add_map_elements()\n",
    "grid.set_title(\"Distancia al Trabajo Promedio de acuerdo a la Zona de Origen\")\n",
    "grid.tight_layout()"
   ]
  },
  {
   "cell_type": "code",
   "execution_count": null,
   "id": "FU5u2_KOgwK7",
   "metadata": {
    "id": "FU5u2_KOgwK7"
   },
   "outputs": [],
   "source": [
    "matriz_zonas = (viajes_trabajo[(viajes_trabajo['codsegorigen'] != viajes_trabajo['codsegproposito'])\n",
    "                            \n",
    "                             & (viajes_trabajo['codsegorigen'].isin(zonas_en_caja.CODSEG))\n",
    "                             & (viajes_trabajo['codsegproposito'].isin(zonas_en_caja.CODSEG))]\n",
    "                    .groupby(['codsegorigen', 'codsegproposito'])\n",
    "                    .agg(n_viajes=('wcal0_x', 'sum'))\n",
    "                    .sort_values('n_viajes', ascending=False)\n",
    "                    .assign(cumsum_viajes=lambda x: x['n_viajes'].cumsum())\n",
    "                    .assign(cumsum_viajes=lambda x: x['cumsum_viajes'] / x['cumsum_viajes'].max())\n",
    "                    .reset_index()\n",
    ")"
   ]
  },
  {
   "cell_type": "code",
   "execution_count": null,
   "id": "fNSKFVxthH2W",
   "metadata": {
    "id": "fNSKFVxthH2W"
   },
   "outputs": [],
   "source": [
    "matriz_zonas = matriz_zonas[matriz_zonas['cumsum_viajes'] <= 0.8]"
   ]
  },
  {
   "cell_type": "code",
   "execution_count": null,
   "id": "OBsKUtQjhKrI",
   "metadata": {
    "id": "OBsKUtQjhKrI"
   },
   "outputs": [],
   "source": [
    "merged_zones = zonas_en_caja.dissolve('CODSEG')#.drop('id', axis=1)"
   ]
  },
  {
   "cell_type": "code",
   "execution_count": null,
   "id": "OQK_yHbthOvW",
   "metadata": {
    "id": "OQK_yHbthOvW"
   },
   "outputs": [],
   "source": [
    "from aves.models.network import Network\n",
    "from aves.visualization.networks import NodeLink\n",
    "\n",
    "zone_od_network = Network.from_edgelist(\n",
    "    matriz_zonas, source=\"codsegorigen\", target=\"codsegproposito\", weight=\"n_viajes\"\n",
    ")"
   ]
  },
  {
   "cell_type": "code",
   "execution_count": null,
   "id": "bIMLoBpShSGt",
   "metadata": {
    "id": "bIMLoBpShSGt"
   },
   "outputs": [],
   "source": [
    "zone_nodelink = NodeLink(zone_od_network)"
   ]
  },
  {
   "cell_type": "code",
   "execution_count": null,
   "id": "UOgeluqJhTU9",
   "metadata": {
    "id": "UOgeluqJhTU9"
   },
   "outputs": [],
   "source": [
    "zone_nodelink.layout_nodes(method=\"geographical\", geodataframe=merged_zones)"
   ]
  },
  {
   "cell_type": "code",
   "execution_count": null,
   "id": "FhrZa-dJhUbX",
   "metadata": {
    "id": "FhrZa-dJhUbX"
   },
   "outputs": [],
   "source": [
    "zone_nodelink.set_node_drawing(\"plain\", weights=zone_od_network.node_degree(\"in\"))\n",
    "zone_nodelink.set_edge_drawing(method=\"origin-destination\")"
   ]
  },
  {
   "cell_type": "code",
   "execution_count": null,
   "id": "ArTnIQB0hV7B",
   "metadata": {
    "colab": {
     "base_uri": "https://localhost:8080/"
    },
    "executionInfo": {
     "elapsed": 22169,
     "status": "ok",
     "timestamp": 1632787881022,
     "user": {
      "displayName": "Paula Vásquez H.",
      "photoUrl": "https://lh3.googleusercontent.com/a-/AOh14GgJUNawPfe0J41agMsUCwKAOgAzWX7zUOLCtayLFg=s64",
      "userId": "02019115936957150360"
     },
     "user_tz": 180
    },
    "id": "ArTnIQB0hV7B",
    "outputId": "8d05f648-3008-4fea-ba73-43b634a46eb2"
   },
   "outputs": [],
   "source": [
    "zone_nodelink.bundle_edges(\n",
    "    method=\"force-directed\", K=10, S=0.01, I=10, compatibility_threshold=0.45, C=6\n",
    ")"
   ]
  },
  {
   "cell_type": "code",
   "execution_count": null,
   "id": "ZzSkSd9xhXdE",
   "metadata": {
    "id": "ZzSkSd9xhXdE"
   },
   "outputs": [],
   "source": [
    "def plot_network(ax, geo_data, *args, **kwargs):\n",
    "    zone_nodelink.plot(ax, *args, **kwargs)"
   ]
  },
  {
   "cell_type": "code",
   "execution_count": null,
   "id": "_RoWlXPAhZcm",
   "metadata": {
    "colab": {
     "base_uri": "https://localhost:8080/",
     "height": 859
    },
    "executionInfo": {
     "elapsed": 5283,
     "status": "ok",
     "timestamp": 1632787886300,
     "user": {
      "displayName": "Paula Vásquez H.",
      "photoUrl": "https://lh3.googleusercontent.com/a-/AOh14GgJUNawPfe0J41agMsUCwKAOgAzWX7zUOLCtayLFg=s64",
      "userId": "02019115936957150360"
     },
     "user_tz": 180
    },
    "id": "_RoWlXPAhZcm",
    "outputId": "dfd41201-4584-48e7-e075-d7a0a75b02a9"
   },
   "outputs": [],
   "source": [
    "grid = GeoFacetGrid(zonas_en_caja, height=13)\n",
    "grid.add_basemap(\"montevideo_toner_12.tif\")\n",
    "#grid.add_layer(city_shp_filt,facecolor='white', edgecolor='grey', alpha=0.25)\n",
    "grid.add_layer(\n",
    "    plot_network,\n",
    "    nodes=dict(color=\"white\", edgecolor=\"black\", node_size=100, alpha=0.95),\n",
    "    edges=dict(linewidth=0.5, alpha=0.75),\n",
    ")\n",
    "grid.set_title(\"Viajes al trabajo en Montevideo (en días laborales)\")"
   ]
  },
  {
   "cell_type": "markdown",
   "id": "748c1c92",
   "metadata": {
    "id": "J2USIjXuhdps"
   },
   "source": [
    "## Coeficiente de Movilidad"
   ]
  },
  {
   "cell_type": "code",
   "execution_count": null,
   "id": "991791c3",
   "metadata": {
    "id": "J2USIjXuhdps"
   },
   "outputs": [],
   "source": [
    "viajes_personas['duracion_minutos'] = viajes_personas['TiempoViaje']"
   ]
  },
  {
   "cell_type": "code",
   "execution_count": null,
   "id": "2626011e",
   "metadata": {},
   "outputs": [],
   "source": [
    "q1 = '''SELECT Persona, Sexo\n",
    ", PONDERADOR_CALIBRADO \n",
    ",  count(*) as n_viajes, AVG(duracion_minutos) as tiempo_total \n",
    "       FROM viajes_personas where duracion_minutos < 150 group by 1,2,3'''\n",
    "\n",
    "n_viajes = sqldf(q1, locals())"
   ]
  },
  {
   "cell_type": "code",
   "execution_count": null,
   "id": "ce250d35",
   "metadata": {
    "id": "J2USIjXuhdps"
   },
   "outputs": [],
   "source": [
    "eod.plot_lmplot(n_viajes)"
   ]
  },
  {
   "cell_type": "code",
   "execution_count": null,
   "id": "ff59bbd2",
   "metadata": {
    "id": "J2USIjXuhdps"
   },
   "outputs": [],
   "source": [
    "groups = eod.generate_groups(n_viajes)\n",
    "print(eod.calculate_indicators(groups,'PONDERADOR_CALIBRADO'))"
   ]
  },
  {
   "cell_type": "code",
   "execution_count": null,
   "id": "7b309241",
   "metadata": {},
   "outputs": [],
   "source": [
    "eod.plot_lmplot(n_viajes, col=\"Sexo\", hue=\"Sexo\", col_wrap=2)"
   ]
  },
  {
   "cell_type": "code",
   "execution_count": null,
   "id": "193c1e85",
   "metadata": {},
   "outputs": [],
   "source": [
    "subgroups = n_viajes.Sexo.unique()\n",
    "for element in subgroups:\n",
    "    print(element)\n",
    "    groups = eod.generate_groups(n_viajes[n_viajes.Sexo==element])\n",
    "    print(eod.calculate_indicators(groups,'PONDERADOR_CALIBRADO'))"
   ]
  },
  {
   "cell_type": "markdown",
   "id": "b6839bc9",
   "metadata": {},
   "source": [
    "# Generación outputs"
   ]
  },
  {
   "cell_type": "markdown",
   "id": "d6d968f2",
   "metadata": {},
   "source": [
    "### Generación de csv"
   ]
  },
  {
   "cell_type": "code",
   "execution_count": null,
   "id": "45344745",
   "metadata": {
    "id": "B_3DgfJTbCOG"
   },
   "outputs": [],
   "source": [
    "viajes_df.to_csv(data_path + 'montevideo/2016/csv/viajes_montevideo_2016.csv', index=False)"
   ]
  },
  {
   "cell_type": "code",
   "execution_count": null,
   "id": "74d0a0de",
   "metadata": {},
   "outputs": [],
   "source": [
    "viajes_personas.to_csv(data_path + 'montevideo/2016/csv/viajes_personas_montevideo_2016.csv', index=False)"
   ]
  },
  {
   "cell_type": "markdown",
   "id": "da983c4d",
   "metadata": {},
   "source": [
    "### Generación de geojson"
   ]
  },
  {
   "cell_type": "code",
   "execution_count": null,
   "id": "b737d368",
   "metadata": {},
   "outputs": [],
   "source": [
    "origenes_viajes = gpd.GeoDataFrame(\n",
    "    viajes_df, geometry=gpd.points_from_xy(viajes_df.LONGITUD_ORIGEN, viajes_df.LATITUD_ORIGEN, crs='epsg:32721'))\n",
    "\n",
    "destinos_viajes = gpd.GeoDataFrame(\n",
    "    viajes_df, geometry=gpd.points_from_xy(viajes_df.LONGITUD_DESTINO, viajes_df.LATITUD_DESTINO, crs='epsg:32721'))"
   ]
  },
  {
   "cell_type": "code",
   "execution_count": null,
   "id": "61f46576",
   "metadata": {},
   "outputs": [],
   "source": [
    "origenes_viajes.to_file(data_path + 'montevideo/2016/output-geojson/origenes_viajes.geojson', driver='GeoJSON')\n",
    "destinos_viajes.to_file(data_path + 'montevideo/2016/output-geojson/destinos_viajes.geojson', driver='GeoJSON')"
   ]
  },
  {
   "cell_type": "markdown",
   "id": "c54732b5",
   "metadata": {},
   "source": [
    "### Generación shapefile"
   ]
  },
  {
   "cell_type": "code",
   "execution_count": null,
   "id": "f95b33c1",
   "metadata": {},
   "outputs": [],
   "source": [
    "origenes_viajes.to_file(data_path + 'montevideo/2016/output-shp/origenes_viajes.shp', driver='GeoJSON')\n",
    "destinos_viajes.to_file(data_path + 'montevideo/2016/output-shp/destinos_viajes.shp', driver='GeoJSON')"
   ]
  }
 ],
 "metadata": {
  "colab": {
   "collapsed_sections": [
    "da9bdcfb"
   ],
   "name": "Copia de AnalisisEOD_Uruguay_Montevideo_2016_CalculoIndicadores_.ipynb",
   "provenance": []
  },
  "kernelspec": {
   "display_name": "Python 3 (ipykernel)",
   "language": "python",
   "name": "python3"
  },
  "language_info": {
   "codemirror_mode": {
    "name": "ipython",
    "version": 3
   },
   "file_extension": ".py",
   "mimetype": "text/x-python",
   "name": "python",
   "nbconvert_exporter": "python",
   "pygments_lexer": "ipython3",
   "version": "3.9.12"
  }
 },
 "nbformat": 4,
 "nbformat_minor": 5
}
